{
 "cells": [
  {
   "cell_type": "code",
   "execution_count": 1,
   "metadata": {},
   "outputs": [],
   "source": [
    "import transformers"
   ]
  },
  {
   "cell_type": "code",
   "execution_count": 4,
   "metadata": {},
   "outputs": [
    {
     "name": "stderr",
     "output_type": "stream",
     "text": [
      "Special tokens have been added in the vocabulary, make sure the associated word embeddings are fine-tuned or trained.\n"
     ]
    }
   ],
   "source": [
    "m_name = \"susnato/phi-2\"\n",
    "transformers.PhiForCausalLM._no_split_modules = [\"PhiDecoderLayer\"]\n",
    "transformers.PhiModel._no_split_modules = [\"PhiDecoderLayer\"]\n",
    "\n",
    "m = transformers.AutoModelForCausalLM.from_pretrained(\n",
    "    m_name, \n",
    "    device_map=\"auto\",\n",
    ")\n",
    "t = transformers.AutoTokenizer.from_pretrained(m_name)"
   ]
  },
  {
   "cell_type": "code",
   "execution_count": 5,
   "metadata": {},
   "outputs": [],
   "source": [
    "t.pad_token_id = t.eos_token_id"
   ]
  },
  {
   "cell_type": "code",
   "execution_count": 16,
   "metadata": {},
   "outputs": [
    {
     "name": "stderr",
     "output_type": "stream",
     "text": [
      "The attention mask and the pad token id were not set. As a consequence, you may observe unexpected behavior. Please pass your input's `attention_mask` to obtain reliable results.\n",
      "Setting `pad_token_id` to `eos_token_id`:2 for open-end generation.\n"
     ]
    }
   ],
   "source": [
    "output = m.generate(\n",
    "    **t([\"Hello, my dog is cute\"], return_tensors=\"pt\").to(m.device),\n",
    "    max_new_tokens=40,\n",
    "    do_sample=True,\n",
    "    temperature=1.0,\n",
    "    num_return_sequences=100,\n",
    "    num_beams=100,\n",
    "    low_memory=True,\n",
    "    repetition_penalty=1.0,\n",
    ")"
   ]
  },
  {
   "cell_type": "code",
   "execution_count": 19,
   "metadata": {},
   "outputs": [
    {
     "name": "stdout",
     "output_type": "stream",
     "text": [
      "100\n"
     ]
    }
   ],
   "source": [
    "t.batch_decode(output, skip_special_tokens=True)\n",
    "import collections\n",
    "print(len(collections.Counter(t.batch_decode(output, skip_special_tokens=True))))\n"
   ]
  },
  {
   "cell_type": "code",
   "execution_count": null,
   "metadata": {},
   "outputs": [],
   "source": []
  }
 ],
 "metadata": {
  "kernelspec": {
   "display_name": ".main",
   "language": "python",
   "name": "python3"
  },
  "language_info": {
   "codemirror_mode": {
    "name": "ipython",
    "version": 3
   },
   "file_extension": ".py",
   "mimetype": "text/x-python",
   "name": "python",
   "nbconvert_exporter": "python",
   "pygments_lexer": "ipython3",
   "version": "3.9.15"
  }
 },
 "nbformat": 4,
 "nbformat_minor": 2
}
