{
 "cells": [
  {
   "cell_type": "code",
   "execution_count": 2,
   "metadata": {},
   "outputs": [],
   "source": [
    "import itertools as it\n",
    "\n",
    "import time\n",
    "\n",
    "import numpy as np\n",
    "import rich\n",
    "import rich.table\n",
    "import rich.markup\n",
    "import rich.console\n",
    "import wandb"
   ]
  },
  {
   "cell_type": "code",
   "execution_count": 35,
   "metadata": {},
   "outputs": [
    {
     "name": "stdout",
     "output_type": "stream",
     "text": [
      "[<Run julesgm/raw_test/61w6jzx6 (crashed)>]\n",
      "{'_step': 54, 'table': {'nrows': 27, 'sha256': '256d813e9134667c591fa7ef3577082f909ff50a296e4b79485028a6d69fd6d4', 'artifact_path': 'wandb-client-artifact://o98m45udkta7w8mkvi72g21qq2luwr040eg9i6n6wipjnbggmjqc1eldezwr5fdt0vwwhv3vf04lw8h2p6ns0tfb9c425vvbk0f07hgt4aetpp02b5y0u875ippm16lr:latest/table.table.json', '_latest_artifact_path': 'wandb-client-artifact://o98m45udkta7w8mkvi72g21qq2luwr040eg9i6n6wipjnbggmjqc1eldezwr5fdt0vwwhv3vf04lw8h2p6ns0tfb9c425vvbk0f07hgt4aetpp02b5y0u875ippm16lr:latest/table.table.json', 'path': 'media/table/table_28_256d813e9134667c591f.table.json', 'size': 59, '_type': 'table-file', 'ncols': 3}, '_runtime': 153.24591326713562, '_timestamp': 1695307695.306909}\n"
     ]
    },
    {
     "data": {
      "text/html": [
       "<pre style=\"white-space:pre;overflow-x:auto;line-height:normal;font-family:Menlo,'DejaVu Sans Mono',consolas,'Courier New',monospace\"><span style=\"font-weight: bold\">{</span><span style=\"color: #008000; text-decoration-color: #008000\">'nrows'</span>: <span style=\"color: #008080; text-decoration-color: #008080; font-weight: bold\">27</span>, <span style=\"color: #008000; text-decoration-color: #008000\">'sha256'</span>: <span style=\"color: #008000; text-decoration-color: #008000\">'256d813e9134667c591fa7ef3577082f909ff50a296e4b79485028a6d69fd6d4'</span>, <span style=\"color: #008000; text-decoration-color: #008000\">'artifact_path'</span>: \n",
       "<span style=\"color: #008000; text-decoration-color: #008000\">'wandb-client-artifact://o98m45udkta7w8mkvi72g21qq2luwr040eg9i6n6wipjnbggmjqc1eldezwr5fdt0vwwhv3vf04lw8h2p6ns0tfb9c</span>\n",
       "<span style=\"color: #008000; text-decoration-color: #008000\">425vvbk0f07hgt4aetpp02b5y0u875ippm16lr:latest/table.table.json'</span>, <span style=\"color: #008000; text-decoration-color: #008000\">'_latest_artifact_path'</span>: \n",
       "<span style=\"color: #008000; text-decoration-color: #008000\">'wandb-client-artifact://o98m45udkta7w8mkvi72g21qq2luwr040eg9i6n6wipjnbggmjqc1eldezwr5fdt0vwwhv3vf04lw8h2p6ns0tfb9c</span>\n",
       "<span style=\"color: #008000; text-decoration-color: #008000\">425vvbk0f07hgt4aetpp02b5y0u875ippm16lr:latest/table.table.json'</span>, <span style=\"color: #008000; text-decoration-color: #008000\">'path'</span>: \n",
       "<span style=\"color: #008000; text-decoration-color: #008000\">'media/table/table_28_256d813e9134667c591f.table.json'</span>, <span style=\"color: #008000; text-decoration-color: #008000\">'size'</span>: <span style=\"color: #008080; text-decoration-color: #008080; font-weight: bold\">59</span>, <span style=\"color: #008000; text-decoration-color: #008000\">'_type'</span>: <span style=\"color: #008000; text-decoration-color: #008000\">'table-file'</span>, <span style=\"color: #008000; text-decoration-color: #008000\">'ncols'</span>: <span style=\"color: #008080; text-decoration-color: #008080; font-weight: bold\">3</span><span style=\"font-weight: bold\">}</span>\n",
       "</pre>\n"
      ],
      "text/plain": [
       "\u001b[1m{\u001b[0m\u001b[32m'nrows'\u001b[0m: \u001b[1;36m27\u001b[0m, \u001b[32m'sha256'\u001b[0m: \u001b[32m'256d813e9134667c591fa7ef3577082f909ff50a296e4b79485028a6d69fd6d4'\u001b[0m, \u001b[32m'artifact_path'\u001b[0m: \n",
       "\u001b[32m'wandb-client-artifact://o98m45udkta7w8mkvi72g21qq2luwr040eg9i6n6wipjnbggmjqc1eldezwr5fdt0vwwhv3vf04lw8h2p6ns0tfb9c\u001b[0m\n",
       "\u001b[32m425vvbk0f07hgt4aetpp02b5y0u875ippm16lr:latest/table.table.json'\u001b[0m, \u001b[32m'_latest_artifact_path'\u001b[0m: \n",
       "\u001b[32m'wandb-client-artifact://o98m45udkta7w8mkvi72g21qq2luwr040eg9i6n6wipjnbggmjqc1eldezwr5fdt0vwwhv3vf04lw8h2p6ns0tfb9c\u001b[0m\n",
       "\u001b[32m425vvbk0f07hgt4aetpp02b5y0u875ippm16lr:latest/table.table.json'\u001b[0m, \u001b[32m'path'\u001b[0m: \n",
       "\u001b[32m'media/table/table_28_256d813e9134667c591f.table.json'\u001b[0m, \u001b[32m'size'\u001b[0m: \u001b[1;36m59\u001b[0m, \u001b[32m'_type'\u001b[0m: \u001b[32m'table-file'\u001b[0m, \u001b[32m'ncols'\u001b[0m: \u001b[1;36m3\u001b[0m\u001b[1m}\u001b[0m\n"
      ]
     },
     "metadata": {},
     "output_type": "display_data"
    },
    {
     "name": "stderr",
     "output_type": "stream",
     "text": [
      "\u001b[34m\u001b[1mwandb\u001b[0m:   1 of 1 files downloaded.  \n",
      "\u001b[34m\u001b[1mwandb\u001b[0m:   1 of 1 files downloaded.  \n"
     ]
    },
    {
     "name": "stdout",
     "output_type": "stream",
     "text": [
      "./artifacts/run-61w6jzx6-table:v0\n",
      "<wandb.data_types.Table object at 0x7fe540d168b0>\n"
     ]
    }
   ],
   "source": [
    "runs = wandb.Api().runs(\"julesgm/raw_test\")\n",
    "print(list(runs))\n",
    "\n",
    "print(run.summary)\n",
    "rich.print(run.summary[\"table\"])\n",
    "artifact = wandb.Api().artifact(f\"raw_test/run-{run.id}-table:latest\")\n",
    "print(artifact.download())\n",
    "print(artifact.get(\"table\"))"
   ]
  },
  {
   "cell_type": "code",
   "execution_count": 3,
   "metadata": {},
   "outputs": [
    {
     "name": "stderr",
     "output_type": "stream",
     "text": [
      "Failed to detect the name of this notebook, you can set it manually with the WANDB_NOTEBOOK_NAME environment variable to enable code saving.\n",
      "\u001b[34m\u001b[1mwandb\u001b[0m: Currently logged in as: \u001b[33mjulesgm\u001b[0m. Use \u001b[1m`wandb login --relogin`\u001b[0m to force relogin\n"
     ]
    },
    {
     "data": {
      "text/html": [
       "Tracking run with wandb version 0.15.10"
      ],
      "text/plain": [
       "<IPython.core.display.HTML object>"
      ]
     },
     "metadata": {},
     "output_type": "display_data"
    },
    {
     "data": {
      "text/html": [
       "Run data is saved locally in <code>/home/mila/g/gagnonju/Marg-Li-CoT/with_trl/scratchpad/wandb/run-20230921_135431-xcyqfv12</code>"
      ],
      "text/plain": [
       "<IPython.core.display.HTML object>"
      ]
     },
     "metadata": {},
     "output_type": "display_data"
    },
    {
     "data": {
      "text/html": [
       "Syncing run <strong><a href='https://wandb.ai/julesgm/raw_test/runs/xcyqfv12' target=\"_blank\">lucky-field-4</a></strong> to <a href='https://wandb.ai/julesgm/raw_test' target=\"_blank\">Weights & Biases</a> (<a href='https://wandb.me/run' target=\"_blank\">docs</a>)<br/>"
      ],
      "text/plain": [
       "<IPython.core.display.HTML object>"
      ]
     },
     "metadata": {},
     "output_type": "display_data"
    },
    {
     "data": {
      "text/html": [
       " View project at <a href='https://wandb.ai/julesgm/raw_test' target=\"_blank\">https://wandb.ai/julesgm/raw_test</a>"
      ],
      "text/plain": [
       "<IPython.core.display.HTML object>"
      ]
     },
     "metadata": {},
     "output_type": "display_data"
    },
    {
     "data": {
      "text/html": [
       " View run at <a href='https://wandb.ai/julesgm/raw_test/runs/xcyqfv12' target=\"_blank\">https://wandb.ai/julesgm/raw_test/runs/xcyqfv12</a>"
      ],
      "text/plain": [
       "<IPython.core.display.HTML object>"
      ]
     },
     "metadata": {},
     "output_type": "display_data"
    },
    {
     "name": "stdout",
     "output_type": "stream",
     "text": [
      "0\n",
      "1\n",
      "2\n",
      "3\n",
      "4\n",
      "5\n",
      "6\n",
      "7\n",
      "8\n",
      "9\n",
      "10\n",
      "11\n",
      "12\n",
      "13\n",
      "14\n",
      "15\n",
      "16\n",
      "17\n",
      "18\n",
      "19\n",
      "20\n",
      "21\n"
     ]
    },
    {
     "ename": "KeyboardInterrupt",
     "evalue": "",
     "output_type": "error",
     "traceback": [
      "\u001b[0;31m---------------------------------------------------------------------------\u001b[0m",
      "\u001b[0;31mKeyboardInterrupt\u001b[0m                         Traceback (most recent call last)",
      "\u001b[1;32m/home/mila/g/gagnonju/Marg-Li-CoT/with_trl/scratchpad/wandb_exp.ipynb Cell 3\u001b[0m line \u001b[0;36m7\n\u001b[1;32m      <a href='vscode-notebook-cell://ssh-remote%2Bcn-d001.server.mila.quebec/home/mila/g/gagnonju/Marg-Li-CoT/with_trl/scratchpad/wandb_exp.ipynb#W2sdnNjb2RlLXJlbW90ZQ%3D%3D?line=4'>5</a>\u001b[0m table\u001b[39m.\u001b[39madd_data(i, i \u001b[39m*\u001b[39m\u001b[39m*\u001b[39m \u001b[39m2\u001b[39m, i \u001b[39m*\u001b[39m\u001b[39m*\u001b[39m \u001b[39m3\u001b[39m)\n\u001b[1;32m      <a href='vscode-notebook-cell://ssh-remote%2Bcn-d001.server.mila.quebec/home/mila/g/gagnonju/Marg-Li-CoT/with_trl/scratchpad/wandb_exp.ipynb#W2sdnNjb2RlLXJlbW90ZQ%3D%3D?line=5'>6</a>\u001b[0m \u001b[39mprint\u001b[39m(i)\n\u001b[0;32m----> <a href='vscode-notebook-cell://ssh-remote%2Bcn-d001.server.mila.quebec/home/mila/g/gagnonju/Marg-Li-CoT/with_trl/scratchpad/wandb_exp.ipynb#W2sdnNjb2RlLXJlbW90ZQ%3D%3D?line=6'>7</a>\u001b[0m time\u001b[39m.\u001b[39;49msleep(\u001b[39m0.1\u001b[39;49m)\n",
      "\u001b[0;31mKeyboardInterrupt\u001b[0m: "
     ]
    }
   ],
   "source": [
    "table = wandb.Table(columns=[\"x\", \"x ** 2\", \"x ** 3\"])\n",
    "\n",
    "for i in it.count():\n",
    "    table.add_data(i, i ** 2, i ** 3)\n",
    "    print(i)\n",
    "    time.sleep(0.1)\n",
    "   "
   ]
  },
  {
   "cell_type": "code",
   "execution_count": 25,
   "metadata": {},
   "outputs": [],
   "source": [
    "wandb.log({\"table\": table})"
   ]
  },
  {
   "cell_type": "code",
   "execution_count": 26,
   "metadata": {},
   "outputs": [
    {
     "data": {
      "text/plain": [
       "{'_artifact_source': None,\n",
       " '_artifact_target': None,\n",
       " '_path': '/home/mila/g/gagnonju/Marg-Li-CoT/with_trl/scratchpad/wandb/run-20230921_135431-xcyqfv12/files/media/table/table_0_3908ba050a74f54ecc56.table.json',\n",
       " '_run': <wandb.sdk.wandb_run.Run at 0x7ff1519eafa0>,\n",
       " '_caption': None,\n",
       " '_pk_col': None,\n",
       " '_fk_cols': set(),\n",
       " 'data': [[0, 0, 0],\n",
       "  [1, 1, 1],\n",
       "  [2, 4, 8],\n",
       "  [3, 9, 27],\n",
       "  [4, 16, 64],\n",
       "  [5, 25, 125],\n",
       "  [6, 36, 216],\n",
       "  [7, 49, 343],\n",
       "  [8, 64, 512],\n",
       "  [9, 81, 729],\n",
       "  [10, 100, 1000],\n",
       "  [11, 121, 1331],\n",
       "  [12, 144, 1728],\n",
       "  [13, 169, 2197],\n",
       "  [14, 196, 2744],\n",
       "  [15, 225, 3375],\n",
       "  [16, 256, 4096],\n",
       "  [17, 289, 4913],\n",
       "  [18, 324, 5832],\n",
       "  [19, 361, 6859],\n",
       "  [20, 400, 8000],\n",
       "  [21, 441, 9261]],\n",
       " 'columns': ['x', 'x ** 2', 'x ** 3'],\n",
       " '_column_types': {'x': None or Number, 'x ** 2': None or Number, 'x ** 3': None or Number},\n",
       " '_is_tmp': False,\n",
       " '_extension': '.table.json',\n",
       " '_sha256': '3908ba050a74f54ecc56ff2aa8cb6e6ce6b3fe178f990b259317515a4147a12f',\n",
       " '_size': 380}"
      ]
     },
     "execution_count": 26,
     "metadata": {},
     "output_type": "execute_result"
    }
   ],
   "source": [
    "vars(table)"
   ]
  },
  {
   "cell_type": "code",
   "execution_count": 50,
   "metadata": {},
   "outputs": [
    {
     "name": "stderr",
     "output_type": "stream",
     "text": [
      "\u001b[34m\u001b[1mwandb\u001b[0m:   1 of 1 files downloaded.  \n"
     ]
    }
   ],
   "source": []
  },
  {
   "cell_type": "code",
   "execution_count": 53,
   "metadata": {},
   "outputs": [],
   "source": [
    "aa.data.append([1, 2, 3])"
   ]
  },
  {
   "cell_type": "code",
   "execution_count": 121,
   "metadata": {},
   "outputs": [
    {
     "name": "stderr",
     "output_type": "stream",
     "text": [
      "\u001b[34m\u001b[1mwandb\u001b[0m:   1 of 1 files downloaded.  \n",
      "\u001b[34m\u001b[1mwandb\u001b[0m:   1 of 1 files downloaded.  \n"
     ]
    },
    {
     "name": "stdout",
     "output_type": "stream",
     "text": [
      "[[1, 2, 3]]\n"
     ]
    }
   ],
   "source": [
    "table_art = wandb.run.use_artifact(f\"raw_test/run-{wandb.run.id}-table:latest\")\n",
    "aa = table_art.get(\"table\")\n",
    "draft = table_art.new_draft()\n",
    "draft.remove(\"table.table.json\")\n",
    "draft.add(table, \"table\")\n",
    "draft.save()\n",
    "wandb.run.log_artifact(draft)\n",
    "print(draft.wait().get(\"table\").data)"
   ]
  },
  {
   "cell_type": "code",
   "execution_count": 102,
   "metadata": {},
   "outputs": [
    {
     "name": "stderr",
     "output_type": "stream",
     "text": [
      "\u001b[34m\u001b[1mwandb\u001b[0m:   1 of 1 files downloaded.  \n"
     ]
    },
    {
     "data": {
      "text/plain": [
       "[[0, 0, 0]]"
      ]
     },
     "execution_count": 102,
     "metadata": {},
     "output_type": "execute_result"
    }
   ],
   "source": [
    "draft.wait().get(\"table\").data"
   ]
  },
  {
   "cell_type": "code",
   "execution_count": 122,
   "metadata": {},
   "outputs": [],
   "source": [
    "table.data = [[22, 33, 44]]"
   ]
  },
  {
   "cell_type": "code",
   "execution_count": 123,
   "metadata": {},
   "outputs": [],
   "source": [
    "table._artifact_target = None"
   ]
  },
  {
   "cell_type": "code",
   "execution_count": 124,
   "metadata": {},
   "outputs": [],
   "source": [
    "wandb.log({\"table\": table})"
   ]
  },
  {
   "cell_type": "code",
   "execution_count": 1,
   "metadata": {},
   "outputs": [
    {
     "ename": "NameError",
     "evalue": "name 'table' is not defined",
     "output_type": "error",
     "traceback": [
      "\u001b[0;31m---------------------------------------------------------------------------\u001b[0m",
      "\u001b[0;31mNameError\u001b[0m                                 Traceback (most recent call last)",
      "\u001b[1;32m/home/mila/g/gagnonju/Marg-Li-CoT/with_trl/scratchpad/wandb_exp.ipynb Cell 13\u001b[0m line \u001b[0;36m1\n\u001b[0;32m----> <a href='vscode-notebook-cell://ssh-remote%2Bcn-d001.server.mila.quebec/home/mila/g/gagnonju/Marg-Li-CoT/with_trl/scratchpad/wandb_exp.ipynb#X15sdnNjb2RlLXJlbW90ZQ%3D%3D?line=0'>1</a>\u001b[0m table\n",
      "\u001b[0;31mNameError\u001b[0m: name 'table' is not defined"
     ]
    }
   ],
   "source": [
    "table"
   ]
  },
  {
   "cell_type": "code",
   "execution_count": null,
   "metadata": {},
   "outputs": [],
   "source": []
  }
 ],
 "metadata": {
  "kernelspec": {
   "display_name": ".main",
   "language": "python",
   "name": "python3"
  },
  "language_info": {
   "codemirror_mode": {
    "name": "ipython",
    "version": 3
   },
   "file_extension": ".py",
   "mimetype": "text/x-python",
   "name": "python",
   "nbconvert_exporter": "python",
   "pygments_lexer": "ipython3",
   "version": "3.9.15"
  }
 },
 "nbformat": 4,
 "nbformat_minor": 2
}
