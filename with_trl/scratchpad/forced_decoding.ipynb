{
 "cells": [
  {
   "cell_type": "code",
   "execution_count": 1,
   "metadata": {},
   "outputs": [],
   "source": [
    "import transformers\n",
    "import torch"
   ]
  },
  {
   "cell_type": "code",
   "execution_count": 2,
   "metadata": {},
   "outputs": [
    {
     "ename": "SyntaxError",
     "evalue": "f-string expression part cannot include a backslash (4292517089.py, line 19)",
     "output_type": "error",
     "traceback": [
      "\u001b[0;36m  Cell \u001b[0;32mIn[2], line 19\u001b[0;36m\u001b[0m\n\u001b[0;31m    print(f\"\\t- {output.replace('\\n', ' ')}\")\u001b[0m\n\u001b[0m                                            ^\u001b[0m\n\u001b[0;31mSyntaxError\u001b[0m\u001b[0;31m:\u001b[0m f-string expression part cannot include a backslash\n"
     ]
    }
   ],
   "source": [
    "model_name = \"EleutherAI/gpt-j-6B\"\n",
    "tokenizer = transformers.AutoTokenizer.from_pretrained(model_name)\n",
    "model = transformers.AutoModelForCausalLM.from_pretrained(model_name, torch_dtype=torch.bfloat16, device_map={\"\": 0})\n",
    "\n",
    "def t(text):\n",
    "    return tokenizer(text, return_tensors=\"pt\").to(model.device)\n",
    "\n",
    "def gen(text, forced_word_ids):\n",
    "    outputs = tokenizer.batch_decode(\n",
    "        model.generate(\n",
    "            **t(text), \n",
    "            max_new_tokens=200,\n",
    "            num_beams=2,\n",
    "            forced_word_ids=tokenizer(forced_word_ids),\n",
    "        )\n",
    "    )\n",
    "\n",
    "    for i, output in enumerate(outputs):\n",
    "        output = output.replace(\"\\n\", \" \").strip()\n",
    "        print(f\"\\t- {output}\")\n",
    "\n",
    "\n",
    "gen(\"What is 2**3? The answer is\", forced_word_ids=f\"8{tokenizer.eos_token}\")\n"
   ]
  },
  {
   "cell_type": "code",
   "execution_count": null,
   "metadata": {},
   "outputs": [],
   "source": []
  }
 ],
 "metadata": {
  "kernelspec": {
   "display_name": ".main",
   "language": "python",
   "name": "python3"
  },
  "language_info": {
   "codemirror_mode": {
    "name": "ipython",
    "version": 3
   },
   "file_extension": ".py",
   "mimetype": "text/x-python",
   "name": "python",
   "nbconvert_exporter": "python",
   "pygments_lexer": "ipython3",
   "version": "3.9.15"
  }
 },
 "nbformat": 4,
 "nbformat_minor": 2
}
