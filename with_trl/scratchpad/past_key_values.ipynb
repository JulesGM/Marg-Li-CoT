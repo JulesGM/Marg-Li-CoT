{
 "cells": [
  {
   "cell_type": "code",
   "execution_count": 1,
   "metadata": {},
   "outputs": [],
   "source": [
    "\n",
    "import rich\n",
    "import rich.console\n",
    "import transformers\n",
    "import torch\n"
   ]
  },
  {
   "cell_type": "code",
   "execution_count": 102,
   "metadata": {},
   "outputs": [
    {
     "data": {
      "application/vnd.jupyter.widget-view+json": {
       "model_id": "f95d944de2d64bf3bd94fe9dac5f3b0d",
       "version_major": 2,
       "version_minor": 0
      },
      "text/plain": [
       "Loading checkpoint shards:   0%|          | 0/2 [00:00<?, ?it/s]"
      ]
     },
     "metadata": {},
     "output_type": "display_data"
    }
   ],
   "source": [
    "model_name = \"meta-llama/Llama-2-7b-chat-hf\"\n",
    "m = transformers.AutoModelForCausalLM.from_pretrained(model_name, device_map=\"auto\")\n",
    "t = transformers.AutoTokenizer.from_pretrained(model_name)\n",
    "\n",
    "t.padding_side = \"left\"\n",
    "t.pad_token = t.eos_token\n",
    "input_tokens = t([\n",
    "    \"Q: AAA; A: 3; Q: AAAAAA; A: 6; Q: A, A: 1;\",\n",
    "], return_tensors=\"pt\", padding=True).to(0)\n",
    "\n",
    "\n",
    "\n",
    "forward_outputs = m(\n",
    "    **input_tokens,\n",
    "    return_dict=True,\n",
    ")\n",
    "\n",
    "forward_outputs.past_key_values = [\n",
    "    [y[:, :, :-1] for y in x] \n",
    "    for x in forward_outputs.past_key_values\n",
    "]\n",
    "\n",
    "new_gen = m.generate(\n",
    "    input_ids=input_tokens[\"input_ids\"],\n",
    "    past_key_values=forward_outputs.past_key_values,\n",
    "    bos_token_id=t.eos_token_id, \n",
    "    pad_token_id=t.eos_token_id, \n",
    "    max_new_tokens=100, \n",
    "    use_cache=True,\n",
    ")\n",
    "\n",
    "for text in t.batch_decode(new_gen, skip_special_tokens=False):\n",
    "    print(\"\\n\" + \"#\" * 80 + \"\\n\\n\" + text)"
   ]
  },
  {
   "cell_type": "code",
   "execution_count": null,
   "metadata": {},
   "outputs": [],
   "source": []
  }
 ],
 "metadata": {
  "kernelspec": {
   "display_name": ".main",
   "language": "python",
   "name": "python3"
  },
  "language_info": {
   "codemirror_mode": {
    "name": "ipython",
    "version": 3
   },
   "file_extension": ".py",
   "mimetype": "text/x-python",
   "name": "python",
   "nbconvert_exporter": "python",
   "pygments_lexer": "ipython3",
   "version": "3.9.15"
  }
 },
 "nbformat": 4,
 "nbformat_minor": 2
}
