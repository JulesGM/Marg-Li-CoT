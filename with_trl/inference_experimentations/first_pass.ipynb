{
 "cells": [
  {
   "cell_type": "code",
   "execution_count": 1,
   "metadata": {},
   "outputs": [],
   "source": [
    "import bisect\n",
    "import os\n",
    "import rich\n",
    "import sys\n",
    "import torch\n",
    "import transformers\n",
    "import itertools\n",
    "import more_itertools\n",
    "import random\n",
    "import re\n",
    "\n",
    "import solid\n",
    "\n",
    "sys.path.append(\"../\")\n",
    "import lib_data\n",
    "import lib_utils"
   ]
  },
  {
   "cell_type": "markdown",
   "metadata": {},
   "source": []
  },
  {
   "cell_type": "code",
   "execution_count": 2,
   "metadata": {},
   "outputs": [],
   "source": [
    "#\n",
    "# Anything that can be changed:\n",
    "#\n",
    "\n",
    "MODEL = \"mistralai/Mistral-7B-v0.1\"\n",
    "\n",
    "ANSWER_ONLY = False\n",
    "ANSWER_ONLY_PATH = \"/network/scratch/g/gagnonju/saved_scratchpad_gen_outputs/chatgpt-3.5-commonsenseqa-scratchpads/not-cond-on-answers/commonsenseqa.chatgpt\"\n",
    "ARITHMETIC_DATASET_ROOT_FOLDER_DIR = \"/home/mila/g/gagnonju/Marg-Li-CoT/with_trl/libs_data/arithmetic/\"\n",
    "BATCH_SIZE = 2\n",
    "\n",
    "DATASET_NAME = lib_data.DatasetChoices.ARITHMETIC\n",
    "INPUT_MAX_LENGTH = 115\n",
    "SPLIT = lib_utils.CVSets.TRAIN\n",
    "USE_CURRICULUM = True\n",
    "USE_FEW_SHOTS = False\n",
    "CURRICULUM_PROPORTIONS = {3: 1.}"
   ]
  },
  {
   "cell_type": "code",
   "execution_count": 3,
   "metadata": {},
   "outputs": [
    {
     "data": {
      "application/vnd.jupyter.widget-view+json": {
       "model_id": "f5efeea54a5a4c4f98fab576030e0255",
       "version_major": 2,
       "version_minor": 0
      },
      "text/plain": [
       "Loading checkpoint shards:   0%|          | 0/2 [00:00<?, ?it/s]"
      ]
     },
     "metadata": {},
     "output_type": "display_data"
    }
   ],
   "source": [
    "#\n",
    "# Load the tokenizer & the model\n",
    "#\n",
    "\n",
    "t = transformers.AutoTokenizer.from_pretrained(MODEL)\n",
    "m = transformers.AutoModelForCausalLM.from_pretrained(MODEL, torch_dtype=torch.bfloat16, device_map={\"\": 0})"
   ]
  },
  {
   "cell_type": "code",
   "execution_count": 4,
   "metadata": {},
   "outputs": [
    {
     "data": {
      "text/html": [
       "<pre style=\"white-space:pre;overflow-x:auto;line-height:normal;font-family:Menlo,'DejaVu Sans Mono',consolas,'Courier New',monospace\"><span style=\"color: #000080; text-decoration-color: #000080; font-weight: bold\">_prepare_rl_mode_data:</span>\n",
       "<span style=\"font-weight: bold\">[</span>\n",
       "    <span style=\"color: #800080; text-decoration-color: #800080; font-weight: bold\">PosixPath</span><span style=\"font-weight: bold\">(</span><span style=\"color: #008000; text-decoration-color: #008000\">'/home/mila/g/gagnonju/Marg-Li-CoT/with_trl/libs_data/arithmetic/train_scratch/4.jsonl'</span><span style=\"font-weight: bold\">)</span>,\n",
       "    <span style=\"color: #800080; text-decoration-color: #800080; font-weight: bold\">PosixPath</span><span style=\"font-weight: bold\">(</span><span style=\"color: #008000; text-decoration-color: #008000\">'/home/mila/g/gagnonju/Marg-Li-CoT/with_trl/libs_data/arithmetic/train_scratch/5.jsonl'</span><span style=\"font-weight: bold\">)</span>,\n",
       "    <span style=\"color: #800080; text-decoration-color: #800080; font-weight: bold\">PosixPath</span><span style=\"font-weight: bold\">(</span><span style=\"color: #008000; text-decoration-color: #008000\">'/home/mila/g/gagnonju/Marg-Li-CoT/with_trl/libs_data/arithmetic/train_scratch/3.jsonl'</span><span style=\"font-weight: bold\">)</span>,\n",
       "    <span style=\"color: #800080; text-decoration-color: #800080; font-weight: bold\">PosixPath</span><span style=\"font-weight: bold\">(</span><span style=\"color: #008000; text-decoration-color: #008000\">'/home/mila/g/gagnonju/Marg-Li-CoT/with_trl/libs_data/arithmetic/train_scratch/2.jsonl'</span><span style=\"font-weight: bold\">)</span>,\n",
       "    <span style=\"color: #800080; text-decoration-color: #800080; font-weight: bold\">PosixPath</span><span style=\"font-weight: bold\">(</span><span style=\"color: #008000; text-decoration-color: #008000\">'/home/mila/g/gagnonju/Marg-Li-CoT/with_trl/libs_data/arithmetic/train_scratch/1.jsonl'</span><span style=\"font-weight: bold\">)</span>\n",
       "<span style=\"font-weight: bold\">]</span>\n",
       "</pre>\n"
      ],
      "text/plain": [
       "\u001b[1;34m_prepare_rl_mode_data:\u001b[0m\n",
       "\u001b[1m[\u001b[0m\n",
       "    \u001b[1;35mPosixPath\u001b[0m\u001b[1m(\u001b[0m\u001b[32m'/home/mila/g/gagnonju/Marg-Li-CoT/with_trl/libs_data/arithmetic/train_scratch/4.jsonl'\u001b[0m\u001b[1m)\u001b[0m,\n",
       "    \u001b[1;35mPosixPath\u001b[0m\u001b[1m(\u001b[0m\u001b[32m'/home/mila/g/gagnonju/Marg-Li-CoT/with_trl/libs_data/arithmetic/train_scratch/5.jsonl'\u001b[0m\u001b[1m)\u001b[0m,\n",
       "    \u001b[1;35mPosixPath\u001b[0m\u001b[1m(\u001b[0m\u001b[32m'/home/mila/g/gagnonju/Marg-Li-CoT/with_trl/libs_data/arithmetic/train_scratch/3.jsonl'\u001b[0m\u001b[1m)\u001b[0m,\n",
       "    \u001b[1;35mPosixPath\u001b[0m\u001b[1m(\u001b[0m\u001b[32m'/home/mila/g/gagnonju/Marg-Li-CoT/with_trl/libs_data/arithmetic/train_scratch/2.jsonl'\u001b[0m\u001b[1m)\u001b[0m,\n",
       "    \u001b[1;35mPosixPath\u001b[0m\u001b[1m(\u001b[0m\u001b[32m'/home/mila/g/gagnonju/Marg-Li-CoT/with_trl/libs_data/arithmetic/train_scratch/1.jsonl'\u001b[0m\u001b[1m)\u001b[0m\n",
       "\u001b[1m]\u001b[0m\n"
      ]
     },
     "metadata": {},
     "output_type": "display_data"
    },
    {
     "name": "stderr",
     "output_type": "stream",
     "text": [
      "1.jsonl: Building DataListContainer, including Tok-detok.: 100%|██████████| 2000/2000 [00:00<00:00, 220150.33it/s]"
     ]
    },
    {
     "name": "stderr",
     "output_type": "stream",
     "text": [
      "\n",
      "2.jsonl: Building DataListContainer, including Tok-detok.: 100%|██████████| 2000/2000 [00:00<00:00, 220909.80it/s]\n",
      "3.jsonl: Building DataListContainer, including Tok-detok.: 100%|██████████| 2000/2000 [00:00<00:00, 215468.20it/s]\n",
      "4.jsonl: Building DataListContainer, including Tok-detok.: 100%|██████████| 2000/2000 [00:00<00:00, 193562.42it/s]\n",
      "5.jsonl: Building DataListContainer, including Tok-detok.: 100%|██████████| 2000/2000 [00:00<00:00, 193996.62it/s]\n",
      "Loading files: 100%|██████████| 5/5 [00:00<00:00, 12.04it/s]\n"
     ]
    },
    {
     "data": {
      "text/html": [
       "<pre style=\"white-space:pre;overflow-x:auto;line-height:normal;font-family:Menlo,'DejaVu Sans Mono',consolas,'Courier New',monospace\"><span style=\"color: #800000; text-decoration-color: #800000\">───────────────────────────────────────────────────────────────────────────────────────────────────────────────────</span>\n",
       "</pre>\n"
      ],
      "text/plain": [
       "\u001b[31m───────────────────────────────────────────────────────────────────────────────────────────────────────────────────\u001b[0m\n"
      ]
     },
     "metadata": {},
     "output_type": "display_data"
    },
    {
     "data": {
      "text/html": [
       "<pre style=\"white-space:pre;overflow-x:auto;line-height:normal;font-family:Menlo,'DejaVu Sans Mono',consolas,'Courier New',monospace\"><span style=\"color: #800000; text-decoration-color: #800000\">───────────────────────────────────────────────────────────────────────────────────────────────────────────────────</span>\n",
       "</pre>\n"
      ],
      "text/plain": [
       "\u001b[31m───────────────────────────────────────────────────────────────────────────────────────────────────────────────────\u001b[0m\n"
      ]
     },
     "metadata": {},
     "output_type": "display_data"
    },
    {
     "data": {
      "text/html": [
       "<pre style=\"white-space:pre;overflow-x:auto;line-height:normal;font-family:Menlo,'DejaVu Sans Mono',consolas,'Courier New',monospace\"><span style=\"color: #800000; text-decoration-color: #800000\">───────────────────────────────────────────────────────────────────────────────────────────────────────────────────</span>\n",
       "</pre>\n"
      ],
      "text/plain": [
       "\u001b[31m───────────────────────────────────────────────────────────────────────────────────────────────────────────────────\u001b[0m\n"
      ]
     },
     "metadata": {},
     "output_type": "display_data"
    },
    {
     "data": {
      "text/html": [
       "<pre style=\"white-space:pre;overflow-x:auto;line-height:normal;font-family:Menlo,'DejaVu Sans Mono',consolas,'Courier New',monospace\">SETTING DIFFICULTY PROPORTIONS TO <span style=\"font-weight: bold\">{</span><span style=\"color: #008080; text-decoration-color: #008080; font-weight: bold\">3</span>: <span style=\"color: #008080; text-decoration-color: #008080; font-weight: bold\">1.0</span><span style=\"font-weight: bold\">}</span>\n",
       "</pre>\n"
      ],
      "text/plain": [
       "SETTING DIFFICULTY PROPORTIONS TO \u001b[1m{\u001b[0m\u001b[1;36m3\u001b[0m: \u001b[1;36m1.0\u001b[0m\u001b[1m}\u001b[0m\n"
      ]
     },
     "metadata": {},
     "output_type": "display_data"
    },
    {
     "data": {
      "text/html": [
       "<pre style=\"white-space:pre;overflow-x:auto;line-height:normal;font-family:Menlo,'DejaVu Sans Mono',consolas,'Courier New',monospace\"><span style=\"color: #800000; text-decoration-color: #800000\">───────────────────────────────────────────────────────────────────────────────────────────────────────────────────</span>\n",
       "</pre>\n"
      ],
      "text/plain": [
       "\u001b[31m───────────────────────────────────────────────────────────────────────────────────────────────────────────────────\u001b[0m\n"
      ]
     },
     "metadata": {},
     "output_type": "display_data"
    },
    {
     "data": {
      "text/html": [
       "<pre style=\"white-space:pre;overflow-x:auto;line-height:normal;font-family:Menlo,'DejaVu Sans Mono',consolas,'Courier New',monospace\"><span style=\"color: #800000; text-decoration-color: #800000\">───────────────────────────────────────────────────────────────────────────────────────────────────────────────────</span>\n",
       "</pre>\n"
      ],
      "text/plain": [
       "\u001b[31m───────────────────────────────────────────────────────────────────────────────────────────────────────────────────\u001b[0m\n"
      ]
     },
     "metadata": {},
     "output_type": "display_data"
    },
    {
     "data": {
      "text/html": [
       "<pre style=\"white-space:pre;overflow-x:auto;line-height:normal;font-family:Menlo,'DejaVu Sans Mono',consolas,'Courier New',monospace\"><span style=\"color: #800000; text-decoration-color: #800000\">───────────────────────────────────────────────────────────────────────────────────────────────────────────────────</span>\n",
       "</pre>\n"
      ],
      "text/plain": [
       "\u001b[31m───────────────────────────────────────────────────────────────────────────────────────────────────────────────────\u001b[0m\n"
      ]
     },
     "metadata": {},
     "output_type": "display_data"
    }
   ],
   "source": [
    "#\n",
    "# Prepare the dataset and the dataloader and set the curriculum proportions\n",
    "#\n",
    "\n",
    "ds = lib_data.prep_dataset_rl(\n",
    "        split=SPLIT,\n",
    "        any_tokenizer=t,\n",
    "        answer_only=ANSWER_ONLY,\n",
    "        answer_only_path=ANSWER_ONLY_PATH,\n",
    "        dataset_name=DATASET_NAME,\n",
    "        input_max_length=INPUT_MAX_LENGTH,\n",
    "        use_few_shots=USE_FEW_SHOTS,\n",
    "        use_curriculum=USE_CURRICULUM,\n",
    "        \n",
    "        question_prefix=None,\n",
    "        question_suffix=None,\n",
    "        extr_arith_ignore_one_line=True,\n",
    "        arithmetic_dataset_root_folder_dir=ARITHMETIC_DATASET_ROOT_FOLDER_DIR,\n",
    ")\n",
    "assert USE_CURRICULUM\n",
    "dataloader = torch.utils.data.DataLoader(\n",
    "    batch_size  = BATCH_SIZE,\n",
    "    collate_fn  = lib_data.data_item_collator,\n",
    "    dataset     = ds,\n",
    "    num_workers = 0,\n",
    ")\n",
    "dataloader.dataset.set_proportion_difficulties(\n",
    "    CURRICULUM_PROPORTIONS\n",
    ")"
   ]
  },
  {
   "cell_type": "code",
   "execution_count": 5,
   "metadata": {},
   "outputs": [],
   "source": [
    "it = iter(dataloader)"
   ]
  },
  {
   "cell_type": "code",
   "execution_count": 6,
   "metadata": {},
   "outputs": [],
   "source": [
    "raw_sample = vars(next(it))"
   ]
  },
  {
   "cell_type": "code",
   "execution_count": 7,
   "metadata": {},
   "outputs": [
    {
     "name": "stdout",
     "output_type": "stream",
     "text": [
      "detok_ref_answer - raw\n",
      "detok_ref_answer - tokenized\n",
      "detok_ref_query - raw\n",
      "detok_ref_query - tokenized\n",
      "detok_ref_scratchpad - raw\n",
      "detok_ref_scratchpad - tokenized\n",
      "difficulty_level - unchanged\n",
      "extra_information - unchanged\n"
     ]
    }
   ],
   "source": [
    "# Tokenize with offset mappings\n",
    "\n",
    "prepped_sample = {}\n",
    "\n",
    "RAW_KEY = \"raw\"\n",
    "TOKENIZED_KEY = \"tokenized\"\n",
    "UNCHANGED_KEY = \"unchanged\"\n",
    "\n",
    "for k, v in raw_sample.items():\n",
    "    prepped_sample[k] = {}\n",
    "    \n",
    "    if isinstance(v[0], str):\n",
    "        prepped_sample[k][RAW_KEY] = v\n",
    "        prepped_sample[k][TOKENIZED_KEY] = t(v, return_offsets_mapping=True)\n",
    "    else:\n",
    "        prepped_sample[k][UNCHANGED_KEY] = v\n",
    "\n",
    "for k, v in sorted(prepped_sample.items()):\n",
    "    for kk in sorted(v):\n",
    "        print(f\"{k} - {kk}\")\n"
   ]
  },
  {
   "cell_type": "code",
   "execution_count": 8,
   "metadata": {},
   "outputs": [],
   "source": [
    "\n",
    "\"\"\"\n",
    "\n",
    "Overall noising idea:\n",
    "\n",
    "1. Find the substring\n",
    "2. Find the token that contains the substring\n",
    "    2.a) Stack that shit in a batch list\n",
    "    2.b) loop for the whole batch\n",
    "3. Get the model logits for the position of the token\n",
    "4. Exclude the correct token \n",
    "5. Find a new candidate according to a criteria\n",
    "6. Make sure that the correct answer is not still \n",
    "   contained in the new selection just slightly differently somehow\n",
    "\n",
    "\"\"\"\n",
    "\n",
    "\n",
    "GOODS = \"0123456789▁\"\n",
    "GOODS_IDS = set([v for k, v in t.vocab.items() if k in GOODS and len(k) == 1])\n",
    "assert len(GOODS) == len(GOODS_IDS), (len(GOODS), len(GOODS_IDS))\n",
    "\n",
    "\n",
    "\n",
    "# Compose bads\n",
    "# def compose_bads():\n",
    "#     BADS_IDS = set(t.vocab.values()) - GOODS_IDS\n",
    "#     EVERY_IDS_BUT_NUMBERS_AND_SPACES = [[x] for x in BADS_IDS]\n",
    "#     MULTI_NUMBERS = []\n",
    "#     for i in range(2, 10):\n",
    "#         MULTI_NUMBERS += [list(x) for x in itertools.combinations_with_replacement(NUMBERS_IDS, i)]\n",
    "\n",
    "#     print(f\"{MULTI_NUMBERS = }\")\n",
    "#     EVERY_IDS_BUT_NUMBERS_AND_SPACES += MULTI_NUMBERS\n",
    "\n",
    "\n",
    "\n",
    "NUMBERS = \"0123456789\"\n",
    "NUMBERS_IDS = set([v for k, v in t.vocab.items() if k in NUMBERS and len(k) == 1])\n",
    "COMMA_ID = t.vocab[\"▁,\"]\n",
    "SPACE_ID = t.vocab[\"▁\"]\n",
    "NUMBERS_OR_COMMA = NUMBERS_IDS | {COMMA_ID}\n",
    "\n",
    "def prefix_allowed_tokens_fn(batch_id, idx_so_far):\n",
    "    index = idx_so_far[-1].item()\n",
    "    print(f\"Prev Index: {index}\")\n",
    "    print(f\"Prev Value: \\\"{t.decode([index])}\\\"\")\n",
    "    \n",
    "    if index in NUMBERS_OR_COMMA:\n",
    "        ret_val = [SPACE_ID]\n",
    "        print(\"Generating space.\")\n",
    "    else:\n",
    "        ret_val = list(NUMBERS_IDS)\n",
    "        print(\"Generating Number.\")\n",
    "    \n",
    "    print()\n",
    "    return ret_val\n",
    "\n",
    "replace_fn = solid.ReplaceWithMostLikely(prefix_allowed_tokens_fn)"
   ]
  },
  {
   "cell_type": "code",
   "execution_count": 13,
   "metadata": {},
   "outputs": [
    {
     "data": {
      "text/html": [
       "<pre style=\"white-space:pre;overflow-x:auto;line-height:normal;font-family:Menlo,'DejaVu Sans Mono',consolas,'Courier New',monospace\">┏━━━━━━━━━━━━━━━━━━━━━━━━━━━━━━━━━━━━━━━━━━━━┓\n",
       "┃<span style=\"font-weight: bold\"> Reference                                  </span>┃\n",
       "┡━━━━━━━━━━━━━━━━━━━━━━━━━━━━━━━━━━━━━━━━━━━━┩\n",
       "│ <span style=\"font-weight: bold\">&lt;</span><span style=\"color: #ff00ff; text-decoration-color: #ff00ff; font-weight: bold\">s</span><span style=\"color: #000000; text-decoration-color: #000000\">&gt; &lt;scratch&gt;</span>                              │\n",
       "│ <span style=\"color: #008080; text-decoration-color: #008080; font-weight: bold\">8</span><span style=\"color: #000000; text-decoration-color: #000000\"> + </span><span style=\"color: #008080; text-decoration-color: #008080; font-weight: bold\">8</span><span style=\"color: #000000; text-decoration-color: #000000\"> , </span><span style=\"color: #008080; text-decoration-color: #008080; font-weight: bold\">6</span><span style=\"color: #000000; text-decoration-color: #000000\">  Carry: </span><span style=\"color: #008080; text-decoration-color: #008080; font-weight: bold\">1</span>                        │\n",
       "│ <span style=\"color: #008080; text-decoration-color: #008080; font-weight: bold\">7</span><span style=\"color: #000000; text-decoration-color: #000000\"> + </span><span style=\"color: #008080; text-decoration-color: #008080; font-weight: bold\">1</span><span style=\"color: #000000; text-decoration-color: #000000\"> + </span><span style=\"color: #008080; text-decoration-color: #008080; font-weight: bold\">1</span><span style=\"color: #000000; text-decoration-color: #000000\"> </span><span style=\"color: #000000; text-decoration-color: #000000; font-weight: bold\">(</span><span style=\"color: #000000; text-decoration-color: #000000\">Previous carry</span><span style=\"color: #000000; text-decoration-color: #000000; font-weight: bold\">)</span><span style=\"color: #000000; text-decoration-color: #000000\"> , </span><span style=\"color: #008080; text-decoration-color: #008080; font-weight: bold\">9</span><span style=\"color: #000000; text-decoration-color: #000000\"> </span><span style=\"color: #008080; text-decoration-color: #008080; font-weight: bold\">6</span><span style=\"color: #000000; text-decoration-color: #000000\">  Carry: </span><span style=\"color: #008080; text-decoration-color: #008080; font-weight: bold\">0</span> │\n",
       "│ <span style=\"color: #008080; text-decoration-color: #008080; font-weight: bold\">6</span><span style=\"color: #000000; text-decoration-color: #000000\"> + </span><span style=\"color: #008080; text-decoration-color: #008080; font-weight: bold\">3</span><span style=\"color: #000000; text-decoration-color: #000000\"> , </span><span style=\"color: #008080; text-decoration-color: #008080; font-weight: bold\">9</span><span style=\"color: #000000; text-decoration-color: #000000\"> </span><span style=\"color: #008080; text-decoration-color: #008080; font-weight: bold\">9</span><span style=\"color: #000000; text-decoration-color: #000000\"> </span><span style=\"color: #008080; text-decoration-color: #008080; font-weight: bold\">6</span><span style=\"color: #000000; text-decoration-color: #000000\">  Carry: </span><span style=\"color: #008080; text-decoration-color: #008080; font-weight: bold\">0</span>                    │\n",
       "│ <span style=\"color: #008080; text-decoration-color: #008080; font-weight: bold\">9</span><span style=\"color: #000000; text-decoration-color: #000000\"> + </span><span style=\"color: #008080; text-decoration-color: #008080; font-weight: bold\">2</span><span style=\"color: #000000; text-decoration-color: #000000\"> , </span><span style=\"color: #008080; text-decoration-color: #008080; font-weight: bold\">1</span><span style=\"color: #000000; text-decoration-color: #000000\"> </span><span style=\"color: #008080; text-decoration-color: #008080; font-weight: bold\">9</span><span style=\"color: #000000; text-decoration-color: #000000\"> </span><span style=\"color: #008080; text-decoration-color: #008080; font-weight: bold\">9</span><span style=\"color: #000000; text-decoration-color: #000000\"> </span><span style=\"color: #008080; text-decoration-color: #008080; font-weight: bold\">6</span><span style=\"color: #000000; text-decoration-color: #000000\">  Carry: </span><span style=\"color: #008080; text-decoration-color: #008080; font-weight: bold\">1</span>                  │\n",
       "│ <span style=\"color: #008080; text-decoration-color: #008080; font-weight: bold\">1</span><span style=\"color: #000000; text-decoration-color: #000000\"> </span><span style=\"color: #008080; text-decoration-color: #008080; font-weight: bold\">1</span><span style=\"color: #000000; text-decoration-color: #000000\"> </span><span style=\"color: #008080; text-decoration-color: #008080; font-weight: bold\">9</span><span style=\"color: #000000; text-decoration-color: #000000\"> </span><span style=\"color: #008080; text-decoration-color: #008080; font-weight: bold\">9</span><span style=\"color: #000000; text-decoration-color: #000000\"> </span><span style=\"color: #008080; text-decoration-color: #008080; font-weight: bold\">6</span>                                  │\n",
       "│ <span style=\"color: #000000; text-decoration-color: #000000\">&lt;</span><span style=\"color: #800080; text-decoration-color: #800080\">/</span><span style=\"color: #ff00ff; text-decoration-color: #ff00ff\">scratch</span><span style=\"font-weight: bold\">&gt;</span>                                 │\n",
       "│                                            │\n",
       "└────────────────────────────────────────────┘\n",
       "</pre>\n"
      ],
      "text/plain": [
       "┏━━━━━━━━━━━━━━━━━━━━━━━━━━━━━━━━━━━━━━━━━━━━┓\n",
       "┃\u001b[1m \u001b[0m\u001b[1mReference                                 \u001b[0m\u001b[1m \u001b[0m┃\n",
       "┡━━━━━━━━━━━━━━━━━━━━━━━━━━━━━━━━━━━━━━━━━━━━┩\n",
       "│ \u001b[1m<\u001b[0m\u001b[1;95ms\u001b[0m\u001b[39m> <scratch>\u001b[0m                              │\n",
       "│ \u001b[1;36m8\u001b[0m\u001b[39m + \u001b[0m\u001b[1;36m8\u001b[0m\u001b[39m , \u001b[0m\u001b[1;36m6\u001b[0m\u001b[39m  Carry: \u001b[0m\u001b[1;36m1\u001b[0m                        │\n",
       "│ \u001b[1;36m7\u001b[0m\u001b[39m + \u001b[0m\u001b[1;36m1\u001b[0m\u001b[39m + \u001b[0m\u001b[1;36m1\u001b[0m\u001b[39m \u001b[0m\u001b[1;39m(\u001b[0m\u001b[39mPrevious carry\u001b[0m\u001b[1;39m)\u001b[0m\u001b[39m , \u001b[0m\u001b[1;36m9\u001b[0m\u001b[39m \u001b[0m\u001b[1;36m6\u001b[0m\u001b[39m  Carry: \u001b[0m\u001b[1;36m0\u001b[0m │\n",
       "│ \u001b[1;36m6\u001b[0m\u001b[39m + \u001b[0m\u001b[1;36m3\u001b[0m\u001b[39m , \u001b[0m\u001b[1;36m9\u001b[0m\u001b[39m \u001b[0m\u001b[1;36m9\u001b[0m\u001b[39m \u001b[0m\u001b[1;36m6\u001b[0m\u001b[39m  Carry: \u001b[0m\u001b[1;36m0\u001b[0m                    │\n",
       "│ \u001b[1;36m9\u001b[0m\u001b[39m + \u001b[0m\u001b[1;36m2\u001b[0m\u001b[39m , \u001b[0m\u001b[1;36m1\u001b[0m\u001b[39m \u001b[0m\u001b[1;36m9\u001b[0m\u001b[39m \u001b[0m\u001b[1;36m9\u001b[0m\u001b[39m \u001b[0m\u001b[1;36m6\u001b[0m\u001b[39m  Carry: \u001b[0m\u001b[1;36m1\u001b[0m                  │\n",
       "│ \u001b[1;36m1\u001b[0m\u001b[39m \u001b[0m\u001b[1;36m1\u001b[0m\u001b[39m \u001b[0m\u001b[1;36m9\u001b[0m\u001b[39m \u001b[0m\u001b[1;36m9\u001b[0m\u001b[39m \u001b[0m\u001b[1;36m6\u001b[0m                                  │\n",
       "│ \u001b[39m<\u001b[0m\u001b[35m/\u001b[0m\u001b[95mscratch\u001b[0m\u001b[1m>\u001b[0m                                 │\n",
       "│                                            │\n",
       "└────────────────────────────────────────────┘\n"
      ]
     },
     "metadata": {},
     "output_type": "display_data"
    },
    {
     "name": "stdout",
     "output_type": "stream",
     "text": [
      "################################################################################\n"
     ]
    },
    {
     "data": {
      "text/html": [
       "<pre style=\"white-space:pre;overflow-x:auto;line-height:normal;font-family:Menlo,'DejaVu Sans Mono',consolas,'Courier New',monospace\"><span style=\"font-weight: bold\">noise_generation_model_input:</span> \"<span style=\"font-weight: bold\">&lt;</span><span style=\"color: #ff00ff; text-decoration-color: #ff00ff; font-weight: bold\">s</span><span style=\"color: #000000; text-decoration-color: #000000\">&gt; &lt;scratch</span><span style=\"font-weight: bold\">&gt;</span>\n",
       "<span style=\"color: #008080; text-decoration-color: #008080; font-weight: bold\">8</span> + <span style=\"color: #008080; text-decoration-color: #008080; font-weight: bold\">8</span> ,\"\n",
       "</pre>\n"
      ],
      "text/plain": [
       "\u001b[1mnoise_generation_model_input:\u001b[0m \"\u001b[1m<\u001b[0m\u001b[1;95ms\u001b[0m\u001b[39m> <scratch\u001b[0m\u001b[1m>\u001b[0m\n",
       "\u001b[1;36m8\u001b[0m + \u001b[1;36m8\u001b[0m ,\"\n"
      ]
     },
     "metadata": {},
     "output_type": "display_data"
    },
    {
     "name": "stderr",
     "output_type": "stream",
     "text": [
      "Setting `pad_token_id` to `eos_token_id`:2 for open-end generation.\n"
     ]
    },
    {
     "name": "stdout",
     "output_type": "stream",
     "text": [
      "Prev Index: 1200\n",
      "Prev Value: \",\"\n",
      "Generating space.\n",
      "\n",
      "Prev Index: 1200\n",
      "Prev Value: \",\"\n",
      "Generating space.\n",
      "\n",
      "Prev Index: 28705\n",
      "Prev Value: \"\"\n",
      "Generating Number.\n",
      "\n",
      "Prev Index: 28705\n",
      "Prev Value: \"\"\n",
      "Generating Number.\n",
      "\n",
      "Prev Index: 28783\n",
      "Prev Value: \"8\"\n",
      "Generating space.\n",
      "\n",
      "Prev Index: 28740\n",
      "Prev Value: \"1\"\n",
      "Generating space.\n",
      "\n"
     ]
    },
    {
     "data": {
      "text/html": [
       "<pre style=\"white-space:pre;overflow-x:auto;line-height:normal;font-family:Menlo,'DejaVu Sans Mono',consolas,'Courier New',monospace\"><span style=\"font-weight: bold\">generated_answers:</span> <span style=\"color: #008000; text-decoration-color: #008000\">\"tokenizer.decode(new_ids) = '8 '\"</span>\n",
       "</pre>\n"
      ],
      "text/plain": [
       "\u001b[1mgenerated_answers:\u001b[0m \u001b[32m\"tokenizer.decode\u001b[0m\u001b[32m(\u001b[0m\u001b[32mnew_ids\u001b[0m\u001b[32m)\u001b[0m\u001b[32m = '8 '\"\u001b[0m\n"
      ]
     },
     "metadata": {},
     "output_type": "display_data"
    },
    {
     "data": {
      "text/html": [
       "<pre style=\"white-space:pre;overflow-x:auto;line-height:normal;font-family:Menlo,'DejaVu Sans Mono',consolas,'Courier New',monospace\">┏━━━━━━━━━━━━━━━━━━━━━┳━━━━━━━━━━━━━━━━━━━━━━━━━━━━━━━━━━━━━━━━━━━━┓\n",
       "┃<span style=\"font-weight: bold\"> Replacement #</span><span style=\"color: #008080; text-decoration-color: #008080; font-weight: bold\">0</span><span style=\"font-weight: bold\">      </span>┃<span style=\"font-weight: bold\">                                            </span>┃\n",
       "┡━━━━━━━━━━━━━━━━━━━━━╇━━━━━━━━━━━━━━━━━━━━━━━━━━━━━━━━━━━━━━━━━━━━┩\n",
       "│ <span style=\"font-weight: bold\">correct_answer:</span>     │ <span style=\"color: #008080; text-decoration-color: #008080; font-weight: bold\">6</span>                                          │\n",
       "├─────────────────────┼────────────────────────────────────────────┤\n",
       "│ <span style=\"font-weight: bold\">replacement_answer:</span> │ <span style=\"color: #008080; text-decoration-color: #008080; font-weight: bold\">8</span>                                          │\n",
       "├─────────────────────┼────────────────────────────────────────────┤\n",
       "│ <span style=\"font-weight: bold\">Replacement so far</span>  │ <span style=\"font-weight: bold\">&lt;</span><span style=\"color: #ff00ff; text-decoration-color: #ff00ff; font-weight: bold\">scratch</span><span style=\"color: #000000; text-decoration-color: #000000\">&gt;</span>                                  │\n",
       "│                     │ <span style=\"color: #008080; text-decoration-color: #008080; font-weight: bold\">8</span><span style=\"color: #000000; text-decoration-color: #000000\"> + </span><span style=\"color: #008080; text-decoration-color: #008080; font-weight: bold\">8</span><span style=\"color: #000000; text-decoration-color: #000000\"> , </span><span style=\"color: #008080; text-decoration-color: #008080; font-weight: bold\">8</span><span style=\"color: #000000; text-decoration-color: #000000\">  Carry: </span><span style=\"color: #008080; text-decoration-color: #008080; font-weight: bold\">1</span>                        │\n",
       "│                     │ <span style=\"color: #008080; text-decoration-color: #008080; font-weight: bold\">7</span><span style=\"color: #000000; text-decoration-color: #000000\"> + </span><span style=\"color: #008080; text-decoration-color: #008080; font-weight: bold\">1</span><span style=\"color: #000000; text-decoration-color: #000000\"> + </span><span style=\"color: #008080; text-decoration-color: #008080; font-weight: bold\">1</span><span style=\"color: #000000; text-decoration-color: #000000\"> </span><span style=\"color: #000000; text-decoration-color: #000000; font-weight: bold\">(</span><span style=\"color: #000000; text-decoration-color: #000000\">Previous carry</span><span style=\"color: #000000; text-decoration-color: #000000; font-weight: bold\">)</span><span style=\"color: #000000; text-decoration-color: #000000\"> , </span><span style=\"color: #008080; text-decoration-color: #008080; font-weight: bold\">9</span><span style=\"color: #000000; text-decoration-color: #000000\"> </span><span style=\"color: #008080; text-decoration-color: #008080; font-weight: bold\">6</span><span style=\"color: #000000; text-decoration-color: #000000\">  Carry: </span><span style=\"color: #008080; text-decoration-color: #008080; font-weight: bold\">0</span> │\n",
       "│                     │ <span style=\"color: #008080; text-decoration-color: #008080; font-weight: bold\">6</span><span style=\"color: #000000; text-decoration-color: #000000\"> + </span><span style=\"color: #008080; text-decoration-color: #008080; font-weight: bold\">3</span><span style=\"color: #000000; text-decoration-color: #000000\"> , </span><span style=\"color: #008080; text-decoration-color: #008080; font-weight: bold\">9</span><span style=\"color: #000000; text-decoration-color: #000000\"> </span><span style=\"color: #008080; text-decoration-color: #008080; font-weight: bold\">9</span><span style=\"color: #000000; text-decoration-color: #000000\"> </span><span style=\"color: #008080; text-decoration-color: #008080; font-weight: bold\">6</span><span style=\"color: #000000; text-decoration-color: #000000\">  Carry: </span><span style=\"color: #008080; text-decoration-color: #008080; font-weight: bold\">0</span>                    │\n",
       "│                     │ <span style=\"color: #008080; text-decoration-color: #008080; font-weight: bold\">9</span><span style=\"color: #000000; text-decoration-color: #000000\"> + </span><span style=\"color: #008080; text-decoration-color: #008080; font-weight: bold\">2</span><span style=\"color: #000000; text-decoration-color: #000000\"> , </span><span style=\"color: #008080; text-decoration-color: #008080; font-weight: bold\">1</span><span style=\"color: #000000; text-decoration-color: #000000\"> </span><span style=\"color: #008080; text-decoration-color: #008080; font-weight: bold\">9</span><span style=\"color: #000000; text-decoration-color: #000000\"> </span><span style=\"color: #008080; text-decoration-color: #008080; font-weight: bold\">9</span><span style=\"color: #000000; text-decoration-color: #000000\"> </span><span style=\"color: #008080; text-decoration-color: #008080; font-weight: bold\">6</span><span style=\"color: #000000; text-decoration-color: #000000\">  Carry: </span><span style=\"color: #008080; text-decoration-color: #008080; font-weight: bold\">1</span>                  │\n",
       "│                     │ <span style=\"color: #008080; text-decoration-color: #008080; font-weight: bold\">1</span><span style=\"color: #000000; text-decoration-color: #000000\"> </span><span style=\"color: #008080; text-decoration-color: #008080; font-weight: bold\">1</span><span style=\"color: #000000; text-decoration-color: #000000\"> </span><span style=\"color: #008080; text-decoration-color: #008080; font-weight: bold\">9</span><span style=\"color: #000000; text-decoration-color: #000000\"> </span><span style=\"color: #008080; text-decoration-color: #008080; font-weight: bold\">9</span><span style=\"color: #000000; text-decoration-color: #000000\"> </span><span style=\"color: #008080; text-decoration-color: #008080; font-weight: bold\">6</span>                                  │\n",
       "│                     │ <span style=\"color: #000000; text-decoration-color: #000000\">&lt;</span><span style=\"color: #800080; text-decoration-color: #800080\">/</span><span style=\"color: #ff00ff; text-decoration-color: #ff00ff\">scratch</span><span style=\"font-weight: bold\">&gt;</span>                                 │\n",
       "│                     │                                            │\n",
       "└─────────────────────┴────────────────────────────────────────────┘\n",
       "</pre>\n"
      ],
      "text/plain": [
       "┏━━━━━━━━━━━━━━━━━━━━━┳━━━━━━━━━━━━━━━━━━━━━━━━━━━━━━━━━━━━━━━━━━━━┓\n",
       "┃\u001b[1m \u001b[0m\u001b[1mReplacement #\u001b[0m\u001b[1;36m0\u001b[0m\u001b[1m     \u001b[0m\u001b[1m \u001b[0m┃\u001b[1m \u001b[0m\u001b[1m                                          \u001b[0m\u001b[1m \u001b[0m┃\n",
       "┡━━━━━━━━━━━━━━━━━━━━━╇━━━━━━━━━━━━━━━━━━━━━━━━━━━━━━━━━━━━━━━━━━━━┩\n",
       "│ \u001b[1mcorrect_answer:\u001b[0m     │ \u001b[1;36m6\u001b[0m                                          │\n",
       "├─────────────────────┼────────────────────────────────────────────┤\n",
       "│ \u001b[1mreplacement_answer:\u001b[0m │ \u001b[1;36m8\u001b[0m                                          │\n",
       "├─────────────────────┼────────────────────────────────────────────┤\n",
       "│ \u001b[1mReplacement so far\u001b[0m  │ \u001b[1m<\u001b[0m\u001b[1;95mscratch\u001b[0m\u001b[39m>\u001b[0m                                  │\n",
       "│                     │ \u001b[1;36m8\u001b[0m\u001b[39m + \u001b[0m\u001b[1;36m8\u001b[0m\u001b[39m , \u001b[0m\u001b[1;36m8\u001b[0m\u001b[39m  Carry: \u001b[0m\u001b[1;36m1\u001b[0m                        │\n",
       "│                     │ \u001b[1;36m7\u001b[0m\u001b[39m + \u001b[0m\u001b[1;36m1\u001b[0m\u001b[39m + \u001b[0m\u001b[1;36m1\u001b[0m\u001b[39m \u001b[0m\u001b[1;39m(\u001b[0m\u001b[39mPrevious carry\u001b[0m\u001b[1;39m)\u001b[0m\u001b[39m , \u001b[0m\u001b[1;36m9\u001b[0m\u001b[39m \u001b[0m\u001b[1;36m6\u001b[0m\u001b[39m  Carry: \u001b[0m\u001b[1;36m0\u001b[0m │\n",
       "│                     │ \u001b[1;36m6\u001b[0m\u001b[39m + \u001b[0m\u001b[1;36m3\u001b[0m\u001b[39m , \u001b[0m\u001b[1;36m9\u001b[0m\u001b[39m \u001b[0m\u001b[1;36m9\u001b[0m\u001b[39m \u001b[0m\u001b[1;36m6\u001b[0m\u001b[39m  Carry: \u001b[0m\u001b[1;36m0\u001b[0m                    │\n",
       "│                     │ \u001b[1;36m9\u001b[0m\u001b[39m + \u001b[0m\u001b[1;36m2\u001b[0m\u001b[39m , \u001b[0m\u001b[1;36m1\u001b[0m\u001b[39m \u001b[0m\u001b[1;36m9\u001b[0m\u001b[39m \u001b[0m\u001b[1;36m9\u001b[0m\u001b[39m \u001b[0m\u001b[1;36m6\u001b[0m\u001b[39m  Carry: \u001b[0m\u001b[1;36m1\u001b[0m                  │\n",
       "│                     │ \u001b[1;36m1\u001b[0m\u001b[39m \u001b[0m\u001b[1;36m1\u001b[0m\u001b[39m \u001b[0m\u001b[1;36m9\u001b[0m\u001b[39m \u001b[0m\u001b[1;36m9\u001b[0m\u001b[39m \u001b[0m\u001b[1;36m6\u001b[0m                                  │\n",
       "│                     │ \u001b[39m<\u001b[0m\u001b[35m/\u001b[0m\u001b[95mscratch\u001b[0m\u001b[1m>\u001b[0m                                 │\n",
       "│                     │                                            │\n",
       "└─────────────────────┴────────────────────────────────────────────┘\n"
      ]
     },
     "metadata": {},
     "output_type": "display_data"
    },
    {
     "name": "stdout",
     "output_type": "stream",
     "text": [
      "################################################################################\n",
      "################################################################################\n"
     ]
    },
    {
     "data": {
      "text/html": [
       "<pre style=\"white-space:pre;overflow-x:auto;line-height:normal;font-family:Menlo,'DejaVu Sans Mono',consolas,'Courier New',monospace\"><span style=\"font-weight: bold\">noise_generation_model_input:</span> \"<span style=\"font-weight: bold\">&lt;</span><span style=\"color: #ff00ff; text-decoration-color: #ff00ff; font-weight: bold\">s</span><span style=\"color: #000000; text-decoration-color: #000000\">&gt; &lt;scratch</span><span style=\"font-weight: bold\">&gt;</span>\n",
       "<span style=\"color: #008080; text-decoration-color: #008080; font-weight: bold\">8</span> + <span style=\"color: #008080; text-decoration-color: #008080; font-weight: bold\">8</span> , <span style=\"color: #008080; text-decoration-color: #008080; font-weight: bold\">8</span>  Carry: <span style=\"color: #008080; text-decoration-color: #008080; font-weight: bold\">1</span>\n",
       "<span style=\"color: #008080; text-decoration-color: #008080; font-weight: bold\">7</span> + <span style=\"color: #008080; text-decoration-color: #008080; font-weight: bold\">1</span> + <span style=\"color: #008080; text-decoration-color: #008080; font-weight: bold\">1</span> <span style=\"font-weight: bold\">(</span>Previous carry<span style=\"font-weight: bold\">)</span> ,\"\n",
       "</pre>\n"
      ],
      "text/plain": [
       "\u001b[1mnoise_generation_model_input:\u001b[0m \"\u001b[1m<\u001b[0m\u001b[1;95ms\u001b[0m\u001b[39m> <scratch\u001b[0m\u001b[1m>\u001b[0m\n",
       "\u001b[1;36m8\u001b[0m + \u001b[1;36m8\u001b[0m , \u001b[1;36m8\u001b[0m  Carry: \u001b[1;36m1\u001b[0m\n",
       "\u001b[1;36m7\u001b[0m + \u001b[1;36m1\u001b[0m + \u001b[1;36m1\u001b[0m \u001b[1m(\u001b[0mPrevious carry\u001b[1m)\u001b[0m ,\"\n"
      ]
     },
     "metadata": {},
     "output_type": "display_data"
    },
    {
     "name": "stderr",
     "output_type": "stream",
     "text": [
      "Setting `pad_token_id` to `eos_token_id`:2 for open-end generation.\n"
     ]
    },
    {
     "name": "stdout",
     "output_type": "stream",
     "text": [
      "Prev Index: 1200\n",
      "Prev Value: \",\"\n",
      "Generating space.\n",
      "\n",
      "Prev Index: 1200\n",
      "Prev Value: \",\"\n",
      "Generating space.\n",
      "\n",
      "Prev Index: 28705\n",
      "Prev Value: \"\"\n",
      "Generating Number.\n",
      "\n",
      "Prev Index: 28705\n",
      "Prev Value: \"\"\n",
      "Generating Number.\n",
      "\n",
      "Prev Index: 28734\n",
      "Prev Value: \"0\"\n",
      "Generating space.\n",
      "\n",
      "Prev Index: 28734\n",
      "Prev Value: \"0\"\n",
      "Generating space.\n",
      "\n",
      "Prev Index: 28705\n",
      "Prev Value: \"\"\n",
      "Generating Number.\n",
      "\n",
      "Prev Index: 28705\n",
      "Prev Value: \"\"\n",
      "Generating Number.\n",
      "\n",
      "Prev Index: 28740\n",
      "Prev Value: \"1\"\n",
      "Generating space.\n",
      "\n",
      "Prev Index: 28740\n",
      "Prev Value: \"1\"\n",
      "Generating space.\n",
      "\n"
     ]
    },
    {
     "data": {
      "text/html": [
       "<pre style=\"white-space:pre;overflow-x:auto;line-height:normal;font-family:Menlo,'DejaVu Sans Mono',consolas,'Courier New',monospace\"><span style=\"font-weight: bold\">generated_answers:</span> <span style=\"color: #008000; text-decoration-color: #008000\">\"tokenizer.decode(new_ids) = '0 1 '\"</span>\n",
       "</pre>\n"
      ],
      "text/plain": [
       "\u001b[1mgenerated_answers:\u001b[0m \u001b[32m\"tokenizer.decode\u001b[0m\u001b[32m(\u001b[0m\u001b[32mnew_ids\u001b[0m\u001b[32m)\u001b[0m\u001b[32m = '0 1 '\"\u001b[0m\n"
      ]
     },
     "metadata": {},
     "output_type": "display_data"
    },
    {
     "data": {
      "text/html": [
       "<pre style=\"white-space:pre;overflow-x:auto;line-height:normal;font-family:Menlo,'DejaVu Sans Mono',consolas,'Courier New',monospace\">┏━━━━━━━━━━━━━━━━━━━━━┳━━━━━━━━━━━━━━━━━━━━━━━━━━━━━━━━━━━━━━━━━━━━┓\n",
       "┃<span style=\"font-weight: bold\"> Replacement #</span><span style=\"color: #008080; text-decoration-color: #008080; font-weight: bold\">1</span><span style=\"font-weight: bold\">      </span>┃<span style=\"font-weight: bold\">                                            </span>┃\n",
       "┡━━━━━━━━━━━━━━━━━━━━━╇━━━━━━━━━━━━━━━━━━━━━━━━━━━━━━━━━━━━━━━━━━━━┩\n",
       "│ <span style=\"font-weight: bold\">correct_answer:</span>     │ <span style=\"color: #008080; text-decoration-color: #008080; font-weight: bold\">9</span> <span style=\"color: #008080; text-decoration-color: #008080; font-weight: bold\">6</span>                                        │\n",
       "├─────────────────────┼────────────────────────────────────────────┤\n",
       "│ <span style=\"font-weight: bold\">replacement_answer:</span> │ <span style=\"color: #008080; text-decoration-color: #008080; font-weight: bold\">0</span> <span style=\"color: #008080; text-decoration-color: #008080; font-weight: bold\">1</span>                                        │\n",
       "├─────────────────────┼────────────────────────────────────────────┤\n",
       "│ <span style=\"font-weight: bold\">Replacement so far</span>  │ <span style=\"font-weight: bold\">&lt;</span><span style=\"color: #ff00ff; text-decoration-color: #ff00ff; font-weight: bold\">scratch</span><span style=\"color: #000000; text-decoration-color: #000000\">&gt;</span>                                  │\n",
       "│                     │ <span style=\"color: #008080; text-decoration-color: #008080; font-weight: bold\">8</span><span style=\"color: #000000; text-decoration-color: #000000\"> + </span><span style=\"color: #008080; text-decoration-color: #008080; font-weight: bold\">8</span><span style=\"color: #000000; text-decoration-color: #000000\"> , </span><span style=\"color: #008080; text-decoration-color: #008080; font-weight: bold\">8</span><span style=\"color: #000000; text-decoration-color: #000000\">  Carry: </span><span style=\"color: #008080; text-decoration-color: #008080; font-weight: bold\">1</span>                        │\n",
       "│                     │ <span style=\"color: #008080; text-decoration-color: #008080; font-weight: bold\">7</span><span style=\"color: #000000; text-decoration-color: #000000\"> + </span><span style=\"color: #008080; text-decoration-color: #008080; font-weight: bold\">1</span><span style=\"color: #000000; text-decoration-color: #000000\"> + </span><span style=\"color: #008080; text-decoration-color: #008080; font-weight: bold\">1</span><span style=\"color: #000000; text-decoration-color: #000000\"> </span><span style=\"color: #000000; text-decoration-color: #000000; font-weight: bold\">(</span><span style=\"color: #000000; text-decoration-color: #000000\">Previous carry</span><span style=\"color: #000000; text-decoration-color: #000000; font-weight: bold\">)</span><span style=\"color: #000000; text-decoration-color: #000000\"> , </span><span style=\"color: #008080; text-decoration-color: #008080; font-weight: bold\">0</span><span style=\"color: #000000; text-decoration-color: #000000\"> </span><span style=\"color: #008080; text-decoration-color: #008080; font-weight: bold\">1</span><span style=\"color: #000000; text-decoration-color: #000000\">  Carry: </span><span style=\"color: #008080; text-decoration-color: #008080; font-weight: bold\">0</span> │\n",
       "│                     │ <span style=\"color: #008080; text-decoration-color: #008080; font-weight: bold\">6</span><span style=\"color: #000000; text-decoration-color: #000000\"> + </span><span style=\"color: #008080; text-decoration-color: #008080; font-weight: bold\">3</span><span style=\"color: #000000; text-decoration-color: #000000\"> , </span><span style=\"color: #008080; text-decoration-color: #008080; font-weight: bold\">9</span><span style=\"color: #000000; text-decoration-color: #000000\"> </span><span style=\"color: #008080; text-decoration-color: #008080; font-weight: bold\">9</span><span style=\"color: #000000; text-decoration-color: #000000\"> </span><span style=\"color: #008080; text-decoration-color: #008080; font-weight: bold\">6</span><span style=\"color: #000000; text-decoration-color: #000000\">  Carry: </span><span style=\"color: #008080; text-decoration-color: #008080; font-weight: bold\">0</span>                    │\n",
       "│                     │ <span style=\"color: #008080; text-decoration-color: #008080; font-weight: bold\">9</span><span style=\"color: #000000; text-decoration-color: #000000\"> + </span><span style=\"color: #008080; text-decoration-color: #008080; font-weight: bold\">2</span><span style=\"color: #000000; text-decoration-color: #000000\"> , </span><span style=\"color: #008080; text-decoration-color: #008080; font-weight: bold\">1</span><span style=\"color: #000000; text-decoration-color: #000000\"> </span><span style=\"color: #008080; text-decoration-color: #008080; font-weight: bold\">9</span><span style=\"color: #000000; text-decoration-color: #000000\"> </span><span style=\"color: #008080; text-decoration-color: #008080; font-weight: bold\">9</span><span style=\"color: #000000; text-decoration-color: #000000\"> </span><span style=\"color: #008080; text-decoration-color: #008080; font-weight: bold\">6</span><span style=\"color: #000000; text-decoration-color: #000000\">  Carry: </span><span style=\"color: #008080; text-decoration-color: #008080; font-weight: bold\">1</span>                  │\n",
       "│                     │ <span style=\"color: #008080; text-decoration-color: #008080; font-weight: bold\">1</span><span style=\"color: #000000; text-decoration-color: #000000\"> </span><span style=\"color: #008080; text-decoration-color: #008080; font-weight: bold\">1</span><span style=\"color: #000000; text-decoration-color: #000000\"> </span><span style=\"color: #008080; text-decoration-color: #008080; font-weight: bold\">9</span><span style=\"color: #000000; text-decoration-color: #000000\"> </span><span style=\"color: #008080; text-decoration-color: #008080; font-weight: bold\">9</span><span style=\"color: #000000; text-decoration-color: #000000\"> </span><span style=\"color: #008080; text-decoration-color: #008080; font-weight: bold\">6</span>                                  │\n",
       "│                     │ <span style=\"color: #000000; text-decoration-color: #000000\">&lt;</span><span style=\"color: #800080; text-decoration-color: #800080\">/</span><span style=\"color: #ff00ff; text-decoration-color: #ff00ff\">scratch</span><span style=\"font-weight: bold\">&gt;</span>                                 │\n",
       "│                     │                                            │\n",
       "└─────────────────────┴────────────────────────────────────────────┘\n",
       "</pre>\n"
      ],
      "text/plain": [
       "┏━━━━━━━━━━━━━━━━━━━━━┳━━━━━━━━━━━━━━━━━━━━━━━━━━━━━━━━━━━━━━━━━━━━┓\n",
       "┃\u001b[1m \u001b[0m\u001b[1mReplacement #\u001b[0m\u001b[1;36m1\u001b[0m\u001b[1m     \u001b[0m\u001b[1m \u001b[0m┃\u001b[1m \u001b[0m\u001b[1m                                          \u001b[0m\u001b[1m \u001b[0m┃\n",
       "┡━━━━━━━━━━━━━━━━━━━━━╇━━━━━━━━━━━━━━━━━━━━━━━━━━━━━━━━━━━━━━━━━━━━┩\n",
       "│ \u001b[1mcorrect_answer:\u001b[0m     │ \u001b[1;36m9\u001b[0m \u001b[1;36m6\u001b[0m                                        │\n",
       "├─────────────────────┼────────────────────────────────────────────┤\n",
       "│ \u001b[1mreplacement_answer:\u001b[0m │ \u001b[1;36m0\u001b[0m \u001b[1;36m1\u001b[0m                                        │\n",
       "├─────────────────────┼────────────────────────────────────────────┤\n",
       "│ \u001b[1mReplacement so far\u001b[0m  │ \u001b[1m<\u001b[0m\u001b[1;95mscratch\u001b[0m\u001b[39m>\u001b[0m                                  │\n",
       "│                     │ \u001b[1;36m8\u001b[0m\u001b[39m + \u001b[0m\u001b[1;36m8\u001b[0m\u001b[39m , \u001b[0m\u001b[1;36m8\u001b[0m\u001b[39m  Carry: \u001b[0m\u001b[1;36m1\u001b[0m                        │\n",
       "│                     │ \u001b[1;36m7\u001b[0m\u001b[39m + \u001b[0m\u001b[1;36m1\u001b[0m\u001b[39m + \u001b[0m\u001b[1;36m1\u001b[0m\u001b[39m \u001b[0m\u001b[1;39m(\u001b[0m\u001b[39mPrevious carry\u001b[0m\u001b[1;39m)\u001b[0m\u001b[39m , \u001b[0m\u001b[1;36m0\u001b[0m\u001b[39m \u001b[0m\u001b[1;36m1\u001b[0m\u001b[39m  Carry: \u001b[0m\u001b[1;36m0\u001b[0m │\n",
       "│                     │ \u001b[1;36m6\u001b[0m\u001b[39m + \u001b[0m\u001b[1;36m3\u001b[0m\u001b[39m , \u001b[0m\u001b[1;36m9\u001b[0m\u001b[39m \u001b[0m\u001b[1;36m9\u001b[0m\u001b[39m \u001b[0m\u001b[1;36m6\u001b[0m\u001b[39m  Carry: \u001b[0m\u001b[1;36m0\u001b[0m                    │\n",
       "│                     │ \u001b[1;36m9\u001b[0m\u001b[39m + \u001b[0m\u001b[1;36m2\u001b[0m\u001b[39m , \u001b[0m\u001b[1;36m1\u001b[0m\u001b[39m \u001b[0m\u001b[1;36m9\u001b[0m\u001b[39m \u001b[0m\u001b[1;36m9\u001b[0m\u001b[39m \u001b[0m\u001b[1;36m6\u001b[0m\u001b[39m  Carry: \u001b[0m\u001b[1;36m1\u001b[0m                  │\n",
       "│                     │ \u001b[1;36m1\u001b[0m\u001b[39m \u001b[0m\u001b[1;36m1\u001b[0m\u001b[39m \u001b[0m\u001b[1;36m9\u001b[0m\u001b[39m \u001b[0m\u001b[1;36m9\u001b[0m\u001b[39m \u001b[0m\u001b[1;36m6\u001b[0m                                  │\n",
       "│                     │ \u001b[39m<\u001b[0m\u001b[35m/\u001b[0m\u001b[95mscratch\u001b[0m\u001b[1m>\u001b[0m                                 │\n",
       "│                     │                                            │\n",
       "└─────────────────────┴────────────────────────────────────────────┘\n"
      ]
     },
     "metadata": {},
     "output_type": "display_data"
    },
    {
     "name": "stdout",
     "output_type": "stream",
     "text": [
      "################################################################################\n",
      "################################################################################\n"
     ]
    },
    {
     "data": {
      "text/html": [
       "<pre style=\"white-space:pre;overflow-x:auto;line-height:normal;font-family:Menlo,'DejaVu Sans Mono',consolas,'Courier New',monospace\"><span style=\"font-weight: bold\">noise_generation_model_input:</span> \"<span style=\"font-weight: bold\">&lt;</span><span style=\"color: #ff00ff; text-decoration-color: #ff00ff; font-weight: bold\">s</span><span style=\"color: #000000; text-decoration-color: #000000\">&gt; &lt;scratch</span><span style=\"font-weight: bold\">&gt;</span>\n",
       "<span style=\"color: #008080; text-decoration-color: #008080; font-weight: bold\">8</span> + <span style=\"color: #008080; text-decoration-color: #008080; font-weight: bold\">8</span> , <span style=\"color: #008080; text-decoration-color: #008080; font-weight: bold\">8</span>  Carry: <span style=\"color: #008080; text-decoration-color: #008080; font-weight: bold\">1</span>\n",
       "<span style=\"color: #008080; text-decoration-color: #008080; font-weight: bold\">7</span> + <span style=\"color: #008080; text-decoration-color: #008080; font-weight: bold\">1</span> + <span style=\"color: #008080; text-decoration-color: #008080; font-weight: bold\">1</span> <span style=\"font-weight: bold\">(</span>Previous carry<span style=\"font-weight: bold\">)</span> , <span style=\"color: #008080; text-decoration-color: #008080; font-weight: bold\">0</span> <span style=\"color: #008080; text-decoration-color: #008080; font-weight: bold\">1</span>  Carry: <span style=\"color: #008080; text-decoration-color: #008080; font-weight: bold\">0</span>\n",
       "<span style=\"color: #008080; text-decoration-color: #008080; font-weight: bold\">6</span> + <span style=\"color: #008080; text-decoration-color: #008080; font-weight: bold\">3</span> ,\"\n",
       "</pre>\n"
      ],
      "text/plain": [
       "\u001b[1mnoise_generation_model_input:\u001b[0m \"\u001b[1m<\u001b[0m\u001b[1;95ms\u001b[0m\u001b[39m> <scratch\u001b[0m\u001b[1m>\u001b[0m\n",
       "\u001b[1;36m8\u001b[0m + \u001b[1;36m8\u001b[0m , \u001b[1;36m8\u001b[0m  Carry: \u001b[1;36m1\u001b[0m\n",
       "\u001b[1;36m7\u001b[0m + \u001b[1;36m1\u001b[0m + \u001b[1;36m1\u001b[0m \u001b[1m(\u001b[0mPrevious carry\u001b[1m)\u001b[0m , \u001b[1;36m0\u001b[0m \u001b[1;36m1\u001b[0m  Carry: \u001b[1;36m0\u001b[0m\n",
       "\u001b[1;36m6\u001b[0m + \u001b[1;36m3\u001b[0m ,\"\n"
      ]
     },
     "metadata": {},
     "output_type": "display_data"
    },
    {
     "name": "stderr",
     "output_type": "stream",
     "text": [
      "Setting `pad_token_id` to `eos_token_id`:2 for open-end generation.\n"
     ]
    },
    {
     "name": "stdout",
     "output_type": "stream",
     "text": [
      "Prev Index: 1200\n",
      "Prev Value: \",\"\n",
      "Generating space.\n",
      "\n",
      "Prev Index: 1200\n",
      "Prev Value: \",\"\n",
      "Generating space.\n",
      "\n",
      "Prev Index: 28705\n",
      "Prev Value: \"\"\n",
      "Generating Number.\n",
      "\n",
      "Prev Index: 28705\n",
      "Prev Value: \"\"\n",
      "Generating Number.\n",
      "\n",
      "Prev Index: 28770\n",
      "Prev Value: \"3\"\n",
      "Generating space.\n",
      "\n",
      "Prev Index: 28734\n",
      "Prev Value: \"0\"\n",
      "Generating space.\n",
      "\n",
      "Prev Index: 28705\n",
      "Prev Value: \"\"\n",
      "Generating Number.\n",
      "\n",
      "Prev Index: 28705\n",
      "Prev Value: \"\"\n",
      "Generating Number.\n",
      "\n",
      "Prev Index: 28740\n",
      "Prev Value: \"1\"\n",
      "Generating space.\n",
      "\n",
      "Prev Index: 28770\n",
      "Prev Value: \"3\"\n",
      "Generating space.\n",
      "\n",
      "Prev Index: 28705\n",
      "Prev Value: \"\"\n",
      "Generating Number.\n",
      "\n",
      "Prev Index: 28705\n",
      "Prev Value: \"\"\n",
      "Generating Number.\n",
      "\n",
      "Prev Index: 28740\n",
      "Prev Value: \"1\"\n",
      "Generating space.\n",
      "\n",
      "Prev Index: 28734\n",
      "Prev Value: \"0\"\n",
      "Generating space.\n",
      "\n"
     ]
    },
    {
     "data": {
      "text/html": [
       "<pre style=\"white-space:pre;overflow-x:auto;line-height:normal;font-family:Menlo,'DejaVu Sans Mono',consolas,'Courier New',monospace\"><span style=\"font-weight: bold\">generated_answers:</span> <span style=\"color: #008000; text-decoration-color: #008000\">\"tokenizer.decode(new_ids) = '0 1 1 '\"</span>\n",
       "</pre>\n"
      ],
      "text/plain": [
       "\u001b[1mgenerated_answers:\u001b[0m \u001b[32m\"tokenizer.decode\u001b[0m\u001b[32m(\u001b[0m\u001b[32mnew_ids\u001b[0m\u001b[32m)\u001b[0m\u001b[32m = '0 1 1 '\"\u001b[0m\n"
      ]
     },
     "metadata": {},
     "output_type": "display_data"
    },
    {
     "data": {
      "text/html": [
       "<pre style=\"white-space:pre;overflow-x:auto;line-height:normal;font-family:Menlo,'DejaVu Sans Mono',consolas,'Courier New',monospace\">┏━━━━━━━━━━━━━━━━━━━━━┳━━━━━━━━━━━━━━━━━━━━━━━━━━━━━━━━━━━━━━━━━━━━┓\n",
       "┃<span style=\"font-weight: bold\"> Replacement #</span><span style=\"color: #008080; text-decoration-color: #008080; font-weight: bold\">2</span><span style=\"font-weight: bold\">      </span>┃<span style=\"font-weight: bold\">                                            </span>┃\n",
       "┡━━━━━━━━━━━━━━━━━━━━━╇━━━━━━━━━━━━━━━━━━━━━━━━━━━━━━━━━━━━━━━━━━━━┩\n",
       "│ <span style=\"font-weight: bold\">correct_answer:</span>     │ <span style=\"color: #008080; text-decoration-color: #008080; font-weight: bold\">9</span> <span style=\"color: #008080; text-decoration-color: #008080; font-weight: bold\">9</span> <span style=\"color: #008080; text-decoration-color: #008080; font-weight: bold\">6</span>                                      │\n",
       "├─────────────────────┼────────────────────────────────────────────┤\n",
       "│ <span style=\"font-weight: bold\">replacement_answer:</span> │ <span style=\"color: #008080; text-decoration-color: #008080; font-weight: bold\">0</span> <span style=\"color: #008080; text-decoration-color: #008080; font-weight: bold\">1</span> <span style=\"color: #008080; text-decoration-color: #008080; font-weight: bold\">1</span>                                      │\n",
       "├─────────────────────┼────────────────────────────────────────────┤\n",
       "│ <span style=\"font-weight: bold\">Replacement so far</span>  │ <span style=\"font-weight: bold\">&lt;</span><span style=\"color: #ff00ff; text-decoration-color: #ff00ff; font-weight: bold\">scratch</span><span style=\"color: #000000; text-decoration-color: #000000\">&gt;</span>                                  │\n",
       "│                     │ <span style=\"color: #008080; text-decoration-color: #008080; font-weight: bold\">8</span><span style=\"color: #000000; text-decoration-color: #000000\"> + </span><span style=\"color: #008080; text-decoration-color: #008080; font-weight: bold\">8</span><span style=\"color: #000000; text-decoration-color: #000000\"> , </span><span style=\"color: #008080; text-decoration-color: #008080; font-weight: bold\">8</span><span style=\"color: #000000; text-decoration-color: #000000\">  Carry: </span><span style=\"color: #008080; text-decoration-color: #008080; font-weight: bold\">1</span>                        │\n",
       "│                     │ <span style=\"color: #008080; text-decoration-color: #008080; font-weight: bold\">7</span><span style=\"color: #000000; text-decoration-color: #000000\"> + </span><span style=\"color: #008080; text-decoration-color: #008080; font-weight: bold\">1</span><span style=\"color: #000000; text-decoration-color: #000000\"> + </span><span style=\"color: #008080; text-decoration-color: #008080; font-weight: bold\">1</span><span style=\"color: #000000; text-decoration-color: #000000\"> </span><span style=\"color: #000000; text-decoration-color: #000000; font-weight: bold\">(</span><span style=\"color: #000000; text-decoration-color: #000000\">Previous carry</span><span style=\"color: #000000; text-decoration-color: #000000; font-weight: bold\">)</span><span style=\"color: #000000; text-decoration-color: #000000\"> , </span><span style=\"color: #008080; text-decoration-color: #008080; font-weight: bold\">0</span><span style=\"color: #000000; text-decoration-color: #000000\"> </span><span style=\"color: #008080; text-decoration-color: #008080; font-weight: bold\">1</span><span style=\"color: #000000; text-decoration-color: #000000\">  Carry: </span><span style=\"color: #008080; text-decoration-color: #008080; font-weight: bold\">0</span> │\n",
       "│                     │ <span style=\"color: #008080; text-decoration-color: #008080; font-weight: bold\">6</span><span style=\"color: #000000; text-decoration-color: #000000\"> + </span><span style=\"color: #008080; text-decoration-color: #008080; font-weight: bold\">3</span><span style=\"color: #000000; text-decoration-color: #000000\"> , </span><span style=\"color: #008080; text-decoration-color: #008080; font-weight: bold\">0</span><span style=\"color: #000000; text-decoration-color: #000000\"> </span><span style=\"color: #008080; text-decoration-color: #008080; font-weight: bold\">1</span><span style=\"color: #000000; text-decoration-color: #000000\"> </span><span style=\"color: #008080; text-decoration-color: #008080; font-weight: bold\">1</span><span style=\"color: #000000; text-decoration-color: #000000\">  Carry: </span><span style=\"color: #008080; text-decoration-color: #008080; font-weight: bold\">0</span>                    │\n",
       "│                     │ <span style=\"color: #008080; text-decoration-color: #008080; font-weight: bold\">9</span><span style=\"color: #000000; text-decoration-color: #000000\"> + </span><span style=\"color: #008080; text-decoration-color: #008080; font-weight: bold\">2</span><span style=\"color: #000000; text-decoration-color: #000000\"> , </span><span style=\"color: #008080; text-decoration-color: #008080; font-weight: bold\">1</span><span style=\"color: #000000; text-decoration-color: #000000\"> </span><span style=\"color: #008080; text-decoration-color: #008080; font-weight: bold\">9</span><span style=\"color: #000000; text-decoration-color: #000000\"> </span><span style=\"color: #008080; text-decoration-color: #008080; font-weight: bold\">9</span><span style=\"color: #000000; text-decoration-color: #000000\"> </span><span style=\"color: #008080; text-decoration-color: #008080; font-weight: bold\">6</span><span style=\"color: #000000; text-decoration-color: #000000\">  Carry: </span><span style=\"color: #008080; text-decoration-color: #008080; font-weight: bold\">1</span>                  │\n",
       "│                     │ <span style=\"color: #008080; text-decoration-color: #008080; font-weight: bold\">1</span><span style=\"color: #000000; text-decoration-color: #000000\"> </span><span style=\"color: #008080; text-decoration-color: #008080; font-weight: bold\">1</span><span style=\"color: #000000; text-decoration-color: #000000\"> </span><span style=\"color: #008080; text-decoration-color: #008080; font-weight: bold\">9</span><span style=\"color: #000000; text-decoration-color: #000000\"> </span><span style=\"color: #008080; text-decoration-color: #008080; font-weight: bold\">9</span><span style=\"color: #000000; text-decoration-color: #000000\"> </span><span style=\"color: #008080; text-decoration-color: #008080; font-weight: bold\">6</span>                                  │\n",
       "│                     │ <span style=\"color: #000000; text-decoration-color: #000000\">&lt;</span><span style=\"color: #800080; text-decoration-color: #800080\">/</span><span style=\"color: #ff00ff; text-decoration-color: #ff00ff\">scratch</span><span style=\"font-weight: bold\">&gt;</span>                                 │\n",
       "│                     │                                            │\n",
       "└─────────────────────┴────────────────────────────────────────────┘\n",
       "</pre>\n"
      ],
      "text/plain": [
       "┏━━━━━━━━━━━━━━━━━━━━━┳━━━━━━━━━━━━━━━━━━━━━━━━━━━━━━━━━━━━━━━━━━━━┓\n",
       "┃\u001b[1m \u001b[0m\u001b[1mReplacement #\u001b[0m\u001b[1;36m2\u001b[0m\u001b[1m     \u001b[0m\u001b[1m \u001b[0m┃\u001b[1m \u001b[0m\u001b[1m                                          \u001b[0m\u001b[1m \u001b[0m┃\n",
       "┡━━━━━━━━━━━━━━━━━━━━━╇━━━━━━━━━━━━━━━━━━━━━━━━━━━━━━━━━━━━━━━━━━━━┩\n",
       "│ \u001b[1mcorrect_answer:\u001b[0m     │ \u001b[1;36m9\u001b[0m \u001b[1;36m9\u001b[0m \u001b[1;36m6\u001b[0m                                      │\n",
       "├─────────────────────┼────────────────────────────────────────────┤\n",
       "│ \u001b[1mreplacement_answer:\u001b[0m │ \u001b[1;36m0\u001b[0m \u001b[1;36m1\u001b[0m \u001b[1;36m1\u001b[0m                                      │\n",
       "├─────────────────────┼────────────────────────────────────────────┤\n",
       "│ \u001b[1mReplacement so far\u001b[0m  │ \u001b[1m<\u001b[0m\u001b[1;95mscratch\u001b[0m\u001b[39m>\u001b[0m                                  │\n",
       "│                     │ \u001b[1;36m8\u001b[0m\u001b[39m + \u001b[0m\u001b[1;36m8\u001b[0m\u001b[39m , \u001b[0m\u001b[1;36m8\u001b[0m\u001b[39m  Carry: \u001b[0m\u001b[1;36m1\u001b[0m                        │\n",
       "│                     │ \u001b[1;36m7\u001b[0m\u001b[39m + \u001b[0m\u001b[1;36m1\u001b[0m\u001b[39m + \u001b[0m\u001b[1;36m1\u001b[0m\u001b[39m \u001b[0m\u001b[1;39m(\u001b[0m\u001b[39mPrevious carry\u001b[0m\u001b[1;39m)\u001b[0m\u001b[39m , \u001b[0m\u001b[1;36m0\u001b[0m\u001b[39m \u001b[0m\u001b[1;36m1\u001b[0m\u001b[39m  Carry: \u001b[0m\u001b[1;36m0\u001b[0m │\n",
       "│                     │ \u001b[1;36m6\u001b[0m\u001b[39m + \u001b[0m\u001b[1;36m3\u001b[0m\u001b[39m , \u001b[0m\u001b[1;36m0\u001b[0m\u001b[39m \u001b[0m\u001b[1;36m1\u001b[0m\u001b[39m \u001b[0m\u001b[1;36m1\u001b[0m\u001b[39m  Carry: \u001b[0m\u001b[1;36m0\u001b[0m                    │\n",
       "│                     │ \u001b[1;36m9\u001b[0m\u001b[39m + \u001b[0m\u001b[1;36m2\u001b[0m\u001b[39m , \u001b[0m\u001b[1;36m1\u001b[0m\u001b[39m \u001b[0m\u001b[1;36m9\u001b[0m\u001b[39m \u001b[0m\u001b[1;36m9\u001b[0m\u001b[39m \u001b[0m\u001b[1;36m6\u001b[0m\u001b[39m  Carry: \u001b[0m\u001b[1;36m1\u001b[0m                  │\n",
       "│                     │ \u001b[1;36m1\u001b[0m\u001b[39m \u001b[0m\u001b[1;36m1\u001b[0m\u001b[39m \u001b[0m\u001b[1;36m9\u001b[0m\u001b[39m \u001b[0m\u001b[1;36m9\u001b[0m\u001b[39m \u001b[0m\u001b[1;36m6\u001b[0m                                  │\n",
       "│                     │ \u001b[39m<\u001b[0m\u001b[35m/\u001b[0m\u001b[95mscratch\u001b[0m\u001b[1m>\u001b[0m                                 │\n",
       "│                     │                                            │\n",
       "└─────────────────────┴────────────────────────────────────────────┘\n"
      ]
     },
     "metadata": {},
     "output_type": "display_data"
    },
    {
     "name": "stdout",
     "output_type": "stream",
     "text": [
      "################################################################################\n",
      "################################################################################\n"
     ]
    },
    {
     "data": {
      "text/html": [
       "<pre style=\"white-space:pre;overflow-x:auto;line-height:normal;font-family:Menlo,'DejaVu Sans Mono',consolas,'Courier New',monospace\"><span style=\"font-weight: bold\">noise_generation_model_input:</span> \"<span style=\"font-weight: bold\">&lt;</span><span style=\"color: #ff00ff; text-decoration-color: #ff00ff; font-weight: bold\">s</span><span style=\"color: #000000; text-decoration-color: #000000\">&gt; &lt;scratch</span><span style=\"font-weight: bold\">&gt;</span>\n",
       "<span style=\"color: #008080; text-decoration-color: #008080; font-weight: bold\">8</span> + <span style=\"color: #008080; text-decoration-color: #008080; font-weight: bold\">8</span> , <span style=\"color: #008080; text-decoration-color: #008080; font-weight: bold\">8</span>  Carry: <span style=\"color: #008080; text-decoration-color: #008080; font-weight: bold\">1</span>\n",
       "<span style=\"color: #008080; text-decoration-color: #008080; font-weight: bold\">7</span> + <span style=\"color: #008080; text-decoration-color: #008080; font-weight: bold\">1</span> + <span style=\"color: #008080; text-decoration-color: #008080; font-weight: bold\">1</span> <span style=\"font-weight: bold\">(</span>Previous carry<span style=\"font-weight: bold\">)</span> , <span style=\"color: #008080; text-decoration-color: #008080; font-weight: bold\">0</span> <span style=\"color: #008080; text-decoration-color: #008080; font-weight: bold\">1</span>  Carry: <span style=\"color: #008080; text-decoration-color: #008080; font-weight: bold\">0</span>\n",
       "<span style=\"color: #008080; text-decoration-color: #008080; font-weight: bold\">6</span> + <span style=\"color: #008080; text-decoration-color: #008080; font-weight: bold\">3</span> , <span style=\"color: #008080; text-decoration-color: #008080; font-weight: bold\">0</span> <span style=\"color: #008080; text-decoration-color: #008080; font-weight: bold\">1</span> <span style=\"color: #008080; text-decoration-color: #008080; font-weight: bold\">1</span>  Carry: <span style=\"color: #008080; text-decoration-color: #008080; font-weight: bold\">0</span>\n",
       "<span style=\"color: #008080; text-decoration-color: #008080; font-weight: bold\">9</span> + <span style=\"color: #008080; text-decoration-color: #008080; font-weight: bold\">2</span> ,\"\n",
       "</pre>\n"
      ],
      "text/plain": [
       "\u001b[1mnoise_generation_model_input:\u001b[0m \"\u001b[1m<\u001b[0m\u001b[1;95ms\u001b[0m\u001b[39m> <scratch\u001b[0m\u001b[1m>\u001b[0m\n",
       "\u001b[1;36m8\u001b[0m + \u001b[1;36m8\u001b[0m , \u001b[1;36m8\u001b[0m  Carry: \u001b[1;36m1\u001b[0m\n",
       "\u001b[1;36m7\u001b[0m + \u001b[1;36m1\u001b[0m + \u001b[1;36m1\u001b[0m \u001b[1m(\u001b[0mPrevious carry\u001b[1m)\u001b[0m , \u001b[1;36m0\u001b[0m \u001b[1;36m1\u001b[0m  Carry: \u001b[1;36m0\u001b[0m\n",
       "\u001b[1;36m6\u001b[0m + \u001b[1;36m3\u001b[0m , \u001b[1;36m0\u001b[0m \u001b[1;36m1\u001b[0m \u001b[1;36m1\u001b[0m  Carry: \u001b[1;36m0\u001b[0m\n",
       "\u001b[1;36m9\u001b[0m + \u001b[1;36m2\u001b[0m ,\"\n"
      ]
     },
     "metadata": {},
     "output_type": "display_data"
    },
    {
     "name": "stderr",
     "output_type": "stream",
     "text": [
      "Setting `pad_token_id` to `eos_token_id`:2 for open-end generation.\n"
     ]
    },
    {
     "name": "stdout",
     "output_type": "stream",
     "text": [
      "Prev Index: 1200\n",
      "Prev Value: \",\"\n",
      "Generating space.\n",
      "\n",
      "Prev Index: 1200\n",
      "Prev Value: \",\"\n",
      "Generating space.\n",
      "\n",
      "Prev Index: 28705\n",
      "Prev Value: \"\"\n",
      "Generating Number.\n",
      "\n",
      "Prev Index: 28705\n",
      "Prev Value: \"\"\n",
      "Generating Number.\n",
      "\n",
      "Prev Index: 28734\n",
      "Prev Value: \"0\"\n",
      "Generating space.\n",
      "\n",
      "Prev Index: 28734\n",
      "Prev Value: \"0\"\n",
      "Generating space.\n",
      "\n",
      "Prev Index: 28705\n",
      "Prev Value: \"\"\n",
      "Generating Number.\n",
      "\n",
      "Prev Index: 28705\n",
      "Prev Value: \"\"\n",
      "Generating Number.\n",
      "\n",
      "Prev Index: 28740\n",
      "Prev Value: \"1\"\n",
      "Generating space.\n",
      "\n",
      "Prev Index: 28740\n",
      "Prev Value: \"1\"\n",
      "Generating space.\n",
      "\n",
      "Prev Index: 28705\n",
      "Prev Value: \"\"\n",
      "Generating Number.\n",
      "\n",
      "Prev Index: 28705\n",
      "Prev Value: \"\"\n",
      "Generating Number.\n",
      "\n",
      "Prev Index: 28740\n",
      "Prev Value: \"1\"\n",
      "Generating space.\n",
      "\n",
      "Prev Index: 28740\n",
      "Prev Value: \"1\"\n",
      "Generating space.\n",
      "\n",
      "Prev Index: 28705\n",
      "Prev Value: \"\"\n",
      "Generating Number.\n",
      "\n",
      "Prev Index: 28705\n",
      "Prev Value: \"\"\n",
      "Generating Number.\n",
      "\n",
      "Prev Index: 28740\n",
      "Prev Value: \"1\"\n",
      "Generating space.\n",
      "\n",
      "Prev Index: 28734\n",
      "Prev Value: \"0\"\n",
      "Generating space.\n",
      "\n"
     ]
    },
    {
     "data": {
      "text/html": [
       "<pre style=\"white-space:pre;overflow-x:auto;line-height:normal;font-family:Menlo,'DejaVu Sans Mono',consolas,'Courier New',monospace\"><span style=\"font-weight: bold\">generated_answers:</span> <span style=\"color: #008000; text-decoration-color: #008000\">\"tokenizer.decode(new_ids) = '0 1 1 1 '\"</span>\n",
       "</pre>\n"
      ],
      "text/plain": [
       "\u001b[1mgenerated_answers:\u001b[0m \u001b[32m\"tokenizer.decode\u001b[0m\u001b[32m(\u001b[0m\u001b[32mnew_ids\u001b[0m\u001b[32m)\u001b[0m\u001b[32m = '0 1 1 1 '\"\u001b[0m\n"
      ]
     },
     "metadata": {},
     "output_type": "display_data"
    },
    {
     "data": {
      "text/html": [
       "<pre style=\"white-space:pre;overflow-x:auto;line-height:normal;font-family:Menlo,'DejaVu Sans Mono',consolas,'Courier New',monospace\">┏━━━━━━━━━━━━━━━━━━━━━┳━━━━━━━━━━━━━━━━━━━━━━━━━━━━━━━━━━━━━━━━━━━━┓\n",
       "┃<span style=\"font-weight: bold\"> Replacement #</span><span style=\"color: #008080; text-decoration-color: #008080; font-weight: bold\">3</span><span style=\"font-weight: bold\">      </span>┃<span style=\"font-weight: bold\">                                            </span>┃\n",
       "┡━━━━━━━━━━━━━━━━━━━━━╇━━━━━━━━━━━━━━━━━━━━━━━━━━━━━━━━━━━━━━━━━━━━┩\n",
       "│ <span style=\"font-weight: bold\">correct_answer:</span>     │ <span style=\"color: #008080; text-decoration-color: #008080; font-weight: bold\">1</span> <span style=\"color: #008080; text-decoration-color: #008080; font-weight: bold\">9</span> <span style=\"color: #008080; text-decoration-color: #008080; font-weight: bold\">9</span> <span style=\"color: #008080; text-decoration-color: #008080; font-weight: bold\">6</span>                                    │\n",
       "├─────────────────────┼────────────────────────────────────────────┤\n",
       "│ <span style=\"font-weight: bold\">replacement_answer:</span> │ <span style=\"color: #008080; text-decoration-color: #008080; font-weight: bold\">0</span> <span style=\"color: #008080; text-decoration-color: #008080; font-weight: bold\">1</span> <span style=\"color: #008080; text-decoration-color: #008080; font-weight: bold\">1</span> <span style=\"color: #008080; text-decoration-color: #008080; font-weight: bold\">1</span>                                    │\n",
       "├─────────────────────┼────────────────────────────────────────────┤\n",
       "│ <span style=\"font-weight: bold\">Replacement so far</span>  │ <span style=\"font-weight: bold\">&lt;</span><span style=\"color: #ff00ff; text-decoration-color: #ff00ff; font-weight: bold\">scratch</span><span style=\"color: #000000; text-decoration-color: #000000\">&gt;</span>                                  │\n",
       "│                     │ <span style=\"color: #008080; text-decoration-color: #008080; font-weight: bold\">8</span><span style=\"color: #000000; text-decoration-color: #000000\"> + </span><span style=\"color: #008080; text-decoration-color: #008080; font-weight: bold\">8</span><span style=\"color: #000000; text-decoration-color: #000000\"> , </span><span style=\"color: #008080; text-decoration-color: #008080; font-weight: bold\">8</span><span style=\"color: #000000; text-decoration-color: #000000\">  Carry: </span><span style=\"color: #008080; text-decoration-color: #008080; font-weight: bold\">1</span>                        │\n",
       "│                     │ <span style=\"color: #008080; text-decoration-color: #008080; font-weight: bold\">7</span><span style=\"color: #000000; text-decoration-color: #000000\"> + </span><span style=\"color: #008080; text-decoration-color: #008080; font-weight: bold\">1</span><span style=\"color: #000000; text-decoration-color: #000000\"> + </span><span style=\"color: #008080; text-decoration-color: #008080; font-weight: bold\">1</span><span style=\"color: #000000; text-decoration-color: #000000\"> </span><span style=\"color: #000000; text-decoration-color: #000000; font-weight: bold\">(</span><span style=\"color: #000000; text-decoration-color: #000000\">Previous carry</span><span style=\"color: #000000; text-decoration-color: #000000; font-weight: bold\">)</span><span style=\"color: #000000; text-decoration-color: #000000\"> , </span><span style=\"color: #008080; text-decoration-color: #008080; font-weight: bold\">0</span><span style=\"color: #000000; text-decoration-color: #000000\"> </span><span style=\"color: #008080; text-decoration-color: #008080; font-weight: bold\">1</span><span style=\"color: #000000; text-decoration-color: #000000\">  Carry: </span><span style=\"color: #008080; text-decoration-color: #008080; font-weight: bold\">0</span> │\n",
       "│                     │ <span style=\"color: #008080; text-decoration-color: #008080; font-weight: bold\">6</span><span style=\"color: #000000; text-decoration-color: #000000\"> + </span><span style=\"color: #008080; text-decoration-color: #008080; font-weight: bold\">3</span><span style=\"color: #000000; text-decoration-color: #000000\"> , </span><span style=\"color: #008080; text-decoration-color: #008080; font-weight: bold\">0</span><span style=\"color: #000000; text-decoration-color: #000000\"> </span><span style=\"color: #008080; text-decoration-color: #008080; font-weight: bold\">1</span><span style=\"color: #000000; text-decoration-color: #000000\"> </span><span style=\"color: #008080; text-decoration-color: #008080; font-weight: bold\">1</span><span style=\"color: #000000; text-decoration-color: #000000\">  Carry: </span><span style=\"color: #008080; text-decoration-color: #008080; font-weight: bold\">0</span>                    │\n",
       "│                     │ <span style=\"color: #008080; text-decoration-color: #008080; font-weight: bold\">9</span><span style=\"color: #000000; text-decoration-color: #000000\"> + </span><span style=\"color: #008080; text-decoration-color: #008080; font-weight: bold\">2</span><span style=\"color: #000000; text-decoration-color: #000000\"> , </span><span style=\"color: #008080; text-decoration-color: #008080; font-weight: bold\">0</span><span style=\"color: #000000; text-decoration-color: #000000\"> </span><span style=\"color: #008080; text-decoration-color: #008080; font-weight: bold\">1</span><span style=\"color: #000000; text-decoration-color: #000000\"> </span><span style=\"color: #008080; text-decoration-color: #008080; font-weight: bold\">1</span><span style=\"color: #000000; text-decoration-color: #000000\"> </span><span style=\"color: #008080; text-decoration-color: #008080; font-weight: bold\">1</span><span style=\"color: #000000; text-decoration-color: #000000\">  Carry: </span><span style=\"color: #008080; text-decoration-color: #008080; font-weight: bold\">1</span>                  │\n",
       "│                     │ <span style=\"color: #008080; text-decoration-color: #008080; font-weight: bold\">1</span><span style=\"color: #000000; text-decoration-color: #000000\"> </span><span style=\"color: #008080; text-decoration-color: #008080; font-weight: bold\">1</span><span style=\"color: #000000; text-decoration-color: #000000\"> </span><span style=\"color: #008080; text-decoration-color: #008080; font-weight: bold\">9</span><span style=\"color: #000000; text-decoration-color: #000000\"> </span><span style=\"color: #008080; text-decoration-color: #008080; font-weight: bold\">9</span><span style=\"color: #000000; text-decoration-color: #000000\"> </span><span style=\"color: #008080; text-decoration-color: #008080; font-weight: bold\">6</span>                                  │\n",
       "│                     │ <span style=\"color: #000000; text-decoration-color: #000000\">&lt;</span><span style=\"color: #800080; text-decoration-color: #800080\">/</span><span style=\"color: #ff00ff; text-decoration-color: #ff00ff\">scratch</span><span style=\"font-weight: bold\">&gt;</span>                                 │\n",
       "│                     │                                            │\n",
       "└─────────────────────┴────────────────────────────────────────────┘\n",
       "</pre>\n"
      ],
      "text/plain": [
       "┏━━━━━━━━━━━━━━━━━━━━━┳━━━━━━━━━━━━━━━━━━━━━━━━━━━━━━━━━━━━━━━━━━━━┓\n",
       "┃\u001b[1m \u001b[0m\u001b[1mReplacement #\u001b[0m\u001b[1;36m3\u001b[0m\u001b[1m     \u001b[0m\u001b[1m \u001b[0m┃\u001b[1m \u001b[0m\u001b[1m                                          \u001b[0m\u001b[1m \u001b[0m┃\n",
       "┡━━━━━━━━━━━━━━━━━━━━━╇━━━━━━━━━━━━━━━━━━━━━━━━━━━━━━━━━━━━━━━━━━━━┩\n",
       "│ \u001b[1mcorrect_answer:\u001b[0m     │ \u001b[1;36m1\u001b[0m \u001b[1;36m9\u001b[0m \u001b[1;36m9\u001b[0m \u001b[1;36m6\u001b[0m                                    │\n",
       "├─────────────────────┼────────────────────────────────────────────┤\n",
       "│ \u001b[1mreplacement_answer:\u001b[0m │ \u001b[1;36m0\u001b[0m \u001b[1;36m1\u001b[0m \u001b[1;36m1\u001b[0m \u001b[1;36m1\u001b[0m                                    │\n",
       "├─────────────────────┼────────────────────────────────────────────┤\n",
       "│ \u001b[1mReplacement so far\u001b[0m  │ \u001b[1m<\u001b[0m\u001b[1;95mscratch\u001b[0m\u001b[39m>\u001b[0m                                  │\n",
       "│                     │ \u001b[1;36m8\u001b[0m\u001b[39m + \u001b[0m\u001b[1;36m8\u001b[0m\u001b[39m , \u001b[0m\u001b[1;36m8\u001b[0m\u001b[39m  Carry: \u001b[0m\u001b[1;36m1\u001b[0m                        │\n",
       "│                     │ \u001b[1;36m7\u001b[0m\u001b[39m + \u001b[0m\u001b[1;36m1\u001b[0m\u001b[39m + \u001b[0m\u001b[1;36m1\u001b[0m\u001b[39m \u001b[0m\u001b[1;39m(\u001b[0m\u001b[39mPrevious carry\u001b[0m\u001b[1;39m)\u001b[0m\u001b[39m , \u001b[0m\u001b[1;36m0\u001b[0m\u001b[39m \u001b[0m\u001b[1;36m1\u001b[0m\u001b[39m  Carry: \u001b[0m\u001b[1;36m0\u001b[0m │\n",
       "│                     │ \u001b[1;36m6\u001b[0m\u001b[39m + \u001b[0m\u001b[1;36m3\u001b[0m\u001b[39m , \u001b[0m\u001b[1;36m0\u001b[0m\u001b[39m \u001b[0m\u001b[1;36m1\u001b[0m\u001b[39m \u001b[0m\u001b[1;36m1\u001b[0m\u001b[39m  Carry: \u001b[0m\u001b[1;36m0\u001b[0m                    │\n",
       "│                     │ \u001b[1;36m9\u001b[0m\u001b[39m + \u001b[0m\u001b[1;36m2\u001b[0m\u001b[39m , \u001b[0m\u001b[1;36m0\u001b[0m\u001b[39m \u001b[0m\u001b[1;36m1\u001b[0m\u001b[39m \u001b[0m\u001b[1;36m1\u001b[0m\u001b[39m \u001b[0m\u001b[1;36m1\u001b[0m\u001b[39m  Carry: \u001b[0m\u001b[1;36m1\u001b[0m                  │\n",
       "│                     │ \u001b[1;36m1\u001b[0m\u001b[39m \u001b[0m\u001b[1;36m1\u001b[0m\u001b[39m \u001b[0m\u001b[1;36m9\u001b[0m\u001b[39m \u001b[0m\u001b[1;36m9\u001b[0m\u001b[39m \u001b[0m\u001b[1;36m6\u001b[0m                                  │\n",
       "│                     │ \u001b[39m<\u001b[0m\u001b[35m/\u001b[0m\u001b[95mscratch\u001b[0m\u001b[1m>\u001b[0m                                 │\n",
       "│                     │                                            │\n",
       "└─────────────────────┴────────────────────────────────────────────┘\n"
      ]
     },
     "metadata": {},
     "output_type": "display_data"
    },
    {
     "name": "stdout",
     "output_type": "stream",
     "text": [
      "################################################################################\n"
     ]
    }
   ],
   "source": [
    "\n",
    "\n",
    "batch_idx  = 0\n",
    "\n",
    "# Prepare the scratchpad\n",
    "scratchpad         = prepped_sample[\"detok_ref_scratchpad\"]\n",
    "full_offsetmapping = scratchpad[TOKENIZED_KEY][\"offset_mapping\"][batch_idx]\n",
    "input_input_ids    = scratchpad[TOKENIZED_KEY][\"input_ids\"][batch_idx].copy()\n",
    "output_input_ids   = input_input_ids.copy()\n",
    "scratchpad_text    = scratchpad[\"raw\"][batch_idx]\n",
    "offset_mapping     = [x[1] for x in full_offsetmapping]\n",
    "\n",
    "\n",
    "table = rich.table.Table(\"Reference\", highlight=True)\n",
    "table.add_row(t.decode(input_input_ids))\n",
    "rich.print(table)\n",
    "\n",
    "# Prepare the replacement & the search criteria. \n",
    "# Should be the sub ansers, so whatever is after \",\"\n",
    "for i, (start, end) in enumerate(solid.find_intermediate_answers(scratchpad_text)):\n",
    "    print(\"#\" * 80)\n",
    "\n",
    "    bisect_idx_start, bisect_idx_end = solid.string_span_to_input_ids_span(\n",
    "        span_str           = (start, end), \n",
    "        idx_offset_mapping = offset_mapping, \n",
    "    )\n",
    "    \n",
    "    text_first_token = t.decode(input_input_ids[bisect_idx_start:bisect_idx_start + 1], skip_special_tokens=True)\n",
    "    text_last_token  = t.decode(input_input_ids[bisect_idx_end  :bisect_idx_end   + 1], skip_special_tokens=True)\n",
    "\n",
    "    correct_answer = t.decode(\n",
    "        input_input_ids[bisect_idx_start:bisect_idx_end], \n",
    "        skip_special_tokens=True,\n",
    "    ).replace(\"\\n\", \"\").strip()\n",
    "    \n",
    "    start_len = len(output_input_ids)\n",
    "    \n",
    "    output_input_ids, replacement_answer = replace_fn(\n",
    "        output_input_ids = output_input_ids,\n",
    "        bisect_idx_start = bisect_idx_start,\n",
    "        bisect_idx_end   = bisect_idx_end,\n",
    "        tokenizer        = t,\n",
    "        model            = m,\n",
    "    )\n",
    "\n",
    "    assert len(output_input_ids) == start_len, (len(output_input_ids), start_len)\n",
    "\n",
    "    table = rich.table.Table(f\"Replacement #{i}\", highlight=True, show_lines=True)\n",
    "    table.add_row(f\"[bold]correct_answer:\"    , correct_answer)\n",
    "    table.add_row(f\"[bold]replacement_answer:\", replacement_answer)\n",
    "    table.add_row(f\"[bold]Replacement so far\" , t.decode(output_input_ids, skip_special_tokens=True))\n",
    "    rich.print(table)\n",
    "    \n",
    "    print(\"#\" * 80)\n",
    "\n"
   ]
  },
  {
   "cell_type": "code",
   "execution_count": null,
   "metadata": {},
   "outputs": [],
   "source": []
  }
 ],
 "metadata": {
  "kernelspec": {
   "display_name": ".main",
   "language": "python",
   "name": "python3"
  },
  "language_info": {
   "codemirror_mode": {
    "name": "ipython",
    "version": 3
   },
   "file_extension": ".py",
   "mimetype": "text/x-python",
   "name": "python",
   "nbconvert_exporter": "python",
   "pygments_lexer": "ipython3",
   "version": "3.9.15"
  }
 },
 "nbformat": 4,
 "nbformat_minor": 2
}
