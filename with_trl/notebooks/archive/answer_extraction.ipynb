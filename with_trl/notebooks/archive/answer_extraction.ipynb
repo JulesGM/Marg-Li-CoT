{
 "cells": [
  {
   "cell_type": "code",
   "execution_count": 3,
   "metadata": {},
   "outputs": [],
   "source": [
    "import datasets\n",
    "import numpy as np\n",
    "import re\n",
    "import spacy\n",
    "import torch\n",
    "import transformers\n",
    "from tqdm.notebook import tqdm"
   ]
  },
  {
   "cell_type": "code",
   "execution_count": 5,
   "metadata": {},
   "outputs": [],
   "source": [
    "\n",
    "# ex = transformers.pipeline(\n",
    "#     task=\"text2text-generation\", \n",
    "#     model=\"google/flan-t5-xxl\", \n",
    "#     device=0,\n",
    "#     torch_dtype=torch.bfloat16\n",
    "# )"
   ]
  },
  {
   "cell_type": "code",
   "execution_count": 6,
   "metadata": {},
   "outputs": [
    {
     "name": "stderr",
     "output_type": "stream",
     "text": [
      "No config specified, defaulting to: aqua_rat/raw\n",
      "Found cached dataset aqua_rat (/home/mila/g/gagnonju/.cache/huggingface/datasets/aqua_rat/raw/0.0.0/fc47b9f437236ab96fc1fcb61096aa193819aedd76437893e2390ab0740a3381)\n",
      "Loading cached processed dataset at /home/mila/g/gagnonju/.cache/huggingface/datasets/aqua_rat/raw/0.0.0/fc47b9f437236ab96fc1fcb61096aa193819aedd76437893e2390ab0740a3381/cache-11f6ac031c8e3ef3.arrow\n"
     ]
    }
   ],
   "source": [
    "\n",
    "tok = transformers.AutoTokenizer.from_pretrained(\"huggyllama/llama-13b\")\n",
    "nlp = spacy.load(\"en_core_web_sm\")\n",
    "\n",
    "ds = datasets.load_dataset(\"aqua_rat\", split=\"train\")\n",
    "def clean(sample):\n",
    "    sample[\"rationale\"] = sample[\"rationale\"].replace(\"\\n\", \" \")\n",
    "    return sample\n",
    "ds = ds.map(clean)\n"
   ]
  },
  {
   "cell_type": "code",
   "execution_count": 7,
   "metadata": {},
   "outputs": [
    {
     "name": "stdout",
     "output_type": "stream",
     "text": [
      "{'question': <class 'list'>, 'options': <class 'list'>, 'rationale': <class 'list'>, 'correct': <class 'list'>}\n"
     ]
    },
    {
     "data": {
      "application/vnd.jupyter.widget-view+json": {
       "model_id": "29d27d4245f143468219f15da7028a99",
       "version_major": 2,
       "version_minor": 0
      },
      "text/plain": [
       "  0%|          | 0/1523 [00:00<?, ?it/s]"
      ]
     },
     "metadata": {},
     "output_type": "display_data"
    },
    {
     "ename": "NameError",
     "evalue": "name 'dumb_parser' is not defined",
     "output_type": "error",
     "traceback": [
      "\u001b[0;31m---------------------------------------------------------------------------\u001b[0m",
      "\u001b[0;31mNameError\u001b[0m                                 Traceback (most recent call last)",
      "Cell \u001b[0;32mIn[7], line 19\u001b[0m\n\u001b[1;32m     17\u001b[0m EXPECTED \u001b[39m=\u001b[39m [\u001b[39m\"\u001b[39m\u001b[39mA\u001b[39m\u001b[39m\"\u001b[39m, \u001b[39m\"\u001b[39m\u001b[39mB\u001b[39m\u001b[39m\"\u001b[39m, \u001b[39m\"\u001b[39m\u001b[39mC\u001b[39m\u001b[39m\"\u001b[39m, \u001b[39m\"\u001b[39m\u001b[39mD\u001b[39m\u001b[39m\"\u001b[39m, \u001b[39m\"\u001b[39m\u001b[39mE\u001b[39m\u001b[39m\"\u001b[39m]\n\u001b[1;32m     18\u001b[0m \u001b[39mfor\u001b[39;00m i, batch \u001b[39min\u001b[39;00m \u001b[39menumerate\u001b[39m(tqdm_obj):\n\u001b[0;32m---> 19\u001b[0m     extracted \u001b[39m=\u001b[39m dumb_parser(batch[\u001b[39m\"\u001b[39m\u001b[39mrationale\u001b[39m\u001b[39m\"\u001b[39m])\n\u001b[1;32m     20\u001b[0m     output\u001b[39m.\u001b[39mextend([e \u001b[39m==\u001b[39m c \u001b[39mfor\u001b[39;00m e, c \u001b[39min\u001b[39;00m \u001b[39mzip\u001b[39m(extracted, batch[\u001b[39m\"\u001b[39m\u001b[39mcorrect\u001b[39m\u001b[39m\"\u001b[39m])])\n\u001b[1;32m     21\u001b[0m     \u001b[39mif\u001b[39;00m i \u001b[39m<\u001b[39m\u001b[39m=\u001b[39m \u001b[39m1\u001b[39m:\n\u001b[1;32m     22\u001b[0m         \u001b[39m# print(f\"{extracted        = }\")\u001b[39;00m\n\u001b[1;32m     23\u001b[0m         \u001b[39m# print(f\"{batch['correct'] = }\")\u001b[39;00m\n",
      "\u001b[0;31mNameError\u001b[0m: name 'dumb_parser' is not defined"
     ]
    }
   ],
   "source": [
    "dl = torch.utils.data.DataLoader(ds, batch_size=64, collate_fn=None)\n",
    "\n",
    "print({k: type(v) for k, v in next(iter(dl)).items()})\n",
    "\n",
    "def ai_extractor(samples):\n",
    "    batch = [\n",
    "    \"### Instructions:\\n\"\n",
    "    \"Extract the letter A, B, C, D, E \"\n",
    "    \"from the following answer to a multiple choice question.\\n\"\n",
    "    \"### Answer to parse:\\n\"\n",
    "    + sample for sample in samples]\n",
    "    return [x[\"generated_text\"] for x in ex(batch, do_sample=False)]\n",
    "\n",
    "tqdm_obj = tqdm(dl)\n",
    "output = []\n",
    "parse_is_good = []\n",
    "EXPECTED = [\"A\", \"B\", \"C\", \"D\", \"E\"]\n",
    "for i, batch in enumerate(tqdm_obj):\n",
    "    extracted = dumb_parser(batch[\"rationale\"])\n",
    "    output.extend([e == c for e, c in zip(extracted, batch[\"correct\"])])\n",
    "    if i <= 1:\n",
    "        # print(f\"{extracted        = }\")\n",
    "        # print(f\"{batch['correct'] = }\")\n",
    "        for e, c, r in zip(extracted, batch['correct'], batch['rationale']):\n",
    "            if e != c:\n",
    "                print(f\"{e = }\")\n",
    "                print(f\"{c = }\")\n",
    "                print(f\"{r = }\")\n",
    "                print(\"====\")\n",
    "    parse_is_good.extend([e in EXPECTED for e in extracted])\n",
    "    tqdm_obj.set_description(f\"Accuracy: {np.mean(output):0.1%}, Expected: {np.mean(parse_is_good):0.1%}\")"
   ]
  },
  {
   "cell_type": "code",
   "execution_count": null,
   "metadata": {},
   "outputs": [
    {
     "ename": "NameError",
     "evalue": "name 'EXPECTED' is not defined",
     "output_type": "error",
     "traceback": [
      "\u001b[0;31m---------------------------------------------------------------------------\u001b[0m",
      "\u001b[0;31mNameError\u001b[0m                                 Traceback (most recent call last)",
      "Cell \u001b[0;32mIn[2], line 37\u001b[0m\n\u001b[1;32m     32\u001b[0m         \u001b[39mreturn\u001b[39;00m [\u001b[39mself\u001b[39m\u001b[39m.\u001b[39mspacy_parse_one(x) \u001b[39mfor\u001b[39;00m x \u001b[39min\u001b[39;00m batch]\n\u001b[1;32m     34\u001b[0m     \u001b[39m__call__\u001b[39m \u001b[39m=\u001b[39m spacy_parse\n\u001b[0;32m---> 37\u001b[0m spacy_parser \u001b[39m=\u001b[39m SpacyMultipleAnswerExtractor(EXPECTED)\n\u001b[1;32m     40\u001b[0m \u001b[39mclass\u001b[39;00m \u001b[39mDumbestExtractor\u001b[39;00m:\n\u001b[1;32m     41\u001b[0m     \u001b[39mdef\u001b[39;00m \u001b[39m__init__\u001b[39m(\u001b[39mself\u001b[39m, choices):\n",
      "\u001b[0;31mNameError\u001b[0m: name 'EXPECTED' is not defined"
     ]
    }
   ],
   "source": [
    "def rindex(l, thing, default=None):\n",
    "    if isinstance(l, str):\n",
    "        try: \n",
    "            index = l.rindex(thing)\n",
    "        except ValueError as err:\n",
    "            if str(err) == \"substring not found\":\n",
    "                return default\n",
    "            raise\n",
    "        return index\n",
    "\n",
    "    for index, item in enumerate(reversed(l)):\n",
    "        if item == thing:\n",
    "            return len(l) - index - 1\n",
    "            \n",
    "    return default\n",
    "\n",
    "\n",
    "class SpacyMultipleAnswerExtractor:\n",
    "    def __init__(self, choices):\n",
    "        self._choices = choices\n",
    "        self._spacy = spacy.load(\"en_core_web_sm\")\n",
    "    \n",
    "    def spacy_parse_one(self, text):\n",
    "        text = text.replace(\".\", \" \")\n",
    "        pairs = []\n",
    "        tokenized = list(map(str, self._spacy(text)))\n",
    "        for choice in self._choices:\n",
    "            pairs.append((choice, rindex(tokenized, choice, -1)))\n",
    "        return max(pairs, key=lambda s: s[1])[0]\n",
    "    \n",
    "    def spacy_parse(self, batch):\n",
    "        return [self.spacy_parse_one(x) for x in batch]\n",
    "\n",
    "    __call__ = spacy_parse\n",
    "\n",
    "\n",
    "spacy_parser = SpacyMultipleAnswerExtractor(EXPECTED)\n",
    "\n",
    "\n",
    "class DumbestExtractor:\n",
    "    def __init__(self, choices):\n",
    "        self._choices = choices\n",
    "    \n",
    "    def spacy_parse_one(self, text):\n",
    "        pairs = []\n",
    "        for choice in self._choices:\n",
    "            pairs.append((choice, rindex(text, choice, -1)))\n",
    "        return max(pairs, key=lambda s: s[1])[0]\n",
    "    \n",
    "    def spacy_parse(self, batch):\n",
    "        return [self.spacy_parse_one(x) for x in batch]\n",
    "\n",
    "    __call__ = spacy_parse\n",
    "\n",
    "dumb_parser = DumbestExtractor(EXPECTED)\n",
    "\n",
    "\n",
    "class RegexExtractor:\n",
    "    def __init__(self, choices):\n",
    "        self._choices = choices\n",
    "        self._pat = re.compile(r\"\\w+\")\n",
    "\n",
    "        # each choice should parse to a single thing,\n",
    "        # otherwise the extractor will break\n",
    "        test_pat = [self._pat.findall(c) for c in choices]\n",
    "        assert all(len(l) == 1 for l in test_pat), test_pat\n",
    "\n",
    "    def parse_one(self, text):\n",
    "        text = self._pat.findall(text)\n",
    "        pairs = []\n",
    "        for choice in self._choices:\n",
    "            pairs.append((choice, rindex(text, choice, -1)))\n",
    "        return max(pairs, key=lambda s: s[1])[0]\n",
    "    \n",
    "    def parse(self, batch):\n",
    "        return [self.parse_one(x) for x in batch]\n",
    "\n",
    "    __call__ = parse\n",
    "\n",
    "regex_extractor = RegexExtractor(EXPECTED)"
   ]
  },
  {
   "cell_type": "code",
   "execution_count": null,
   "metadata": {},
   "outputs": [
    {
     "data": {
      "text/plain": [
       "['▁E', 'E']"
      ]
     },
     "execution_count": 129,
     "metadata": {},
     "output_type": "execute_result"
    }
   ],
   "source": [
    "tok.tokenize(\"EE\")"
   ]
  },
  {
   "cell_type": "code",
   "execution_count": null,
   "metadata": {},
   "outputs": [
    {
     "name": "stdout",
     "output_type": "stream",
     "text": [
      "True\n"
     ]
    },
    {
     "ename": "ValueError",
     "evalue": "substring not found",
     "output_type": "error",
     "traceback": [
      "\u001b[0;31m---------------------------------------------------------------------------\u001b[0m",
      "\u001b[0;31mValueError\u001b[0m                                Traceback (most recent call last)",
      "Cell \u001b[0;32mIn[157], line 2\u001b[0m\n\u001b[1;32m      1\u001b[0m \u001b[39mtry\u001b[39;00m:\n\u001b[0;32m----> 2\u001b[0m     \u001b[39m\"\u001b[39;49m\u001b[39mabcdefg\u001b[39;49m\u001b[39m\"\u001b[39;49m\u001b[39m.\u001b[39;49mrindex(\u001b[39m\"\u001b[39;49m\u001b[39m1\u001b[39;49m\u001b[39m\"\u001b[39;49m)\n\u001b[1;32m      3\u001b[0m \u001b[39mexcept\u001b[39;00m \u001b[39mValueError\u001b[39;00m \u001b[39mas\u001b[39;00m err:\n\u001b[1;32m      4\u001b[0m     \u001b[39mprint\u001b[39m(\u001b[39mstr\u001b[39m(err) \u001b[39m==\u001b[39m \u001b[39m\"\u001b[39m\u001b[39msubstring not found\u001b[39m\u001b[39m\"\u001b[39m)\n",
      "\u001b[0;31mValueError\u001b[0m: substring not found"
     ]
    }
   ],
   "source": [
    "try:\n",
    "    \"abcdefg\".rindex(\"1\")\n",
    "except ValueError as err:\n",
    "    print(str(err) == \"substring not found\")\n",
    "    raise"
   ]
  },
  {
   "cell_type": "code",
   "execution_count": 14,
   "metadata": {},
   "outputs": [
    {
     "name": "stdout",
     "output_type": "stream",
     "text": [
      "None\n"
     ]
    },
    {
     "ename": "TypeError",
     "evalue": "unsupported operand type(s) for +: 'NoneType' and 'int'",
     "output_type": "error",
     "traceback": [
      "\u001b[0;31m---------------------------------------------------------------------------\u001b[0m",
      "\u001b[0;31mTypeError\u001b[0m                                 Traceback (most recent call last)",
      "Cell \u001b[0;32mIn[14], line 21\u001b[0m\n\u001b[1;32m     19\u001b[0m idx \u001b[39m=\u001b[39m rindex(text, thing)\n\u001b[1;32m     20\u001b[0m \u001b[39mprint\u001b[39m(idx)\n\u001b[0;32m---> 21\u001b[0m text[idx: idx \u001b[39m+\u001b[39;49m \u001b[39mlen\u001b[39;49m(thing)]\n",
      "\u001b[0;31mTypeError\u001b[0m: unsupported operand type(s) for +: 'NoneType' and 'int'"
     ]
    }
   ],
   "source": [
    "def rindex(l, thing, default=None):\n",
    "    if isinstance(l, str):\n",
    "        try: \n",
    "            index = l.rindex(thing)\n",
    "        except ValueError as err:\n",
    "            if str(err) == \"substring not found\":\n",
    "                return default\n",
    "            raise\n",
    "        return index\n",
    "\n",
    "    for index, item in enumerate(reversed(l)):\n",
    "        if item == thing:\n",
    "            return len(l) - index - 1\n",
    "            \n",
    "    return default\n",
    "\n",
    "text = \"asda23sdasdaddd23dsadasd\"\n",
    "thing = \"55\"\n",
    "idx = rindex(text, thing)\n",
    "print(idx)\n",
    "text[idx: idx + len(thing)]"
   ]
  },
  {
   "cell_type": "code",
   "execution_count": null,
   "metadata": {},
   "outputs": [],
   "source": []
  }
 ],
 "metadata": {
  "kernelspec": {
   "display_name": ".main",
   "language": "python",
   "name": "python3"
  },
  "language_info": {
   "codemirror_mode": {
    "name": "ipython",
    "version": 3
   },
   "file_extension": ".py",
   "mimetype": "text/x-python",
   "name": "python",
   "nbconvert_exporter": "python",
   "pygments_lexer": "ipython3",
   "version": "3.9.15"
  },
  "orig_nbformat": 4
 },
 "nbformat": 4,
 "nbformat_minor": 2
}
