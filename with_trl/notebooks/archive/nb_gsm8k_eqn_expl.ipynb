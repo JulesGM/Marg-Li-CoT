{
 "cells": [
  {
   "cell_type": "code",
   "execution_count": 6,
   "metadata": {},
   "outputs": [
    {
     "name": "stdout",
     "output_type": "stream",
     "text": [
      "/home/mila/g/gagnonju/Marg-Li-CoT/with_trl\n"
     ]
    }
   ],
   "source": [
    "import sys\n",
    "import pathlib\n",
    "import os\n",
    "\n",
    "import datasets\n",
    "import rich\n",
    "import transformers\n",
    "\n",
    "WORK_DIR = pathlib.Path().cwd().absolute()\n",
    "PARENT = WORK_DIR.parent\n",
    "print(PARENT)\n",
    "sys.path.append(str(PARENT))\n",
    "\n",
    "import lib_metric\n",
    "import lib_data\n"
   ]
  },
  {
   "cell_type": "code",
   "execution_count": 2,
   "metadata": {},
   "outputs": [],
   "source": [
    "t = transformers.AutoTokenizer.from_pretrained(\"EleutherAI/gpt-neo-125M\")"
   ]
  },
  {
   "cell_type": "code",
   "execution_count": 3,
   "metadata": {},
   "outputs": [
    {
     "name": "stdout",
     "output_type": "stream",
     "text": [
      "split: train\n"
     ]
    },
    {
     "name": "stderr",
     "output_type": "stream",
     "text": [
      "Found cached dataset gsm8k (/home/mila/g/gagnonju/.cache/huggingface/datasets/gsm8k/main/1.1.0/37bfb08b1d4fcbb01f06b03d9e1ef5f1fcbd4d3af3d08842c50d7305091285ba)\n"
     ]
    },
    {
     "data": {
      "text/html": [
       "<pre style=\"white-space:pre;overflow-x:auto;line-height:normal;font-family:Menlo,'DejaVu Sans Mono',consolas,'Courier New',monospace\"><span style=\"color: #800000; text-decoration-color: #800000; font-weight: bold\"> </span><span style=\"color: #800000; text-decoration-color: #800000; font-weight: bold\">95</span><span style=\"color: #800000; text-decoration-color: #800000; font-weight: bold\"> / </span><span style=\"color: #800000; text-decoration-color: #800000; font-weight: bold\">7473</span><span style=\"color: #800000; text-decoration-color: #800000; font-weight: bold\"> =  </span><span style=\"color: #800000; text-decoration-color: #800000; font-weight: bold\">1.3</span><span style=\"color: #800000; text-decoration-color: #800000; font-weight: bold\">% didn't have equations.</span>\n",
       "</pre>\n"
      ],
      "text/plain": [
       "\u001b[1;31m \u001b[0m\u001b[1;31m95\u001b[0m\u001b[1;31m \u001b[0m\u001b[1;31m/\u001b[0m\u001b[1;31m \u001b[0m\u001b[1;31m7473\u001b[0m\u001b[1;31m =  \u001b[0m\u001b[1;31m1.3\u001b[0m\u001b[1;31m% didn't have equations.\u001b[0m\n"
      ]
     },
     "metadata": {},
     "output_type": "display_data"
    },
    {
     "name": "stdout",
     "output_type": "stream",
     "text": [
      "split: test\n"
     ]
    },
    {
     "name": "stderr",
     "output_type": "stream",
     "text": [
      "Found cached dataset gsm8k (/home/mila/g/gagnonju/.cache/huggingface/datasets/gsm8k/main/1.1.0/37bfb08b1d4fcbb01f06b03d9e1ef5f1fcbd4d3af3d08842c50d7305091285ba)\n"
     ]
    },
    {
     "data": {
      "text/html": [
       "<pre style=\"white-space:pre;overflow-x:auto;line-height:normal;font-family:Menlo,'DejaVu Sans Mono',consolas,'Courier New',monospace\"><span style=\"color: #800000; text-decoration-color: #800000; font-weight: bold\"> </span><span style=\"color: #800000; text-decoration-color: #800000; font-weight: bold\">18</span><span style=\"color: #800000; text-decoration-color: #800000; font-weight: bold\"> / </span><span style=\"color: #800000; text-decoration-color: #800000; font-weight: bold\">1319</span><span style=\"color: #800000; text-decoration-color: #800000; font-weight: bold\"> =  </span><span style=\"color: #800000; text-decoration-color: #800000; font-weight: bold\">1.4</span><span style=\"color: #800000; text-decoration-color: #800000; font-weight: bold\">% didn't have equations.</span>\n",
       "</pre>\n"
      ],
      "text/plain": [
       "\u001b[1;31m \u001b[0m\u001b[1;31m18\u001b[0m\u001b[1;31m \u001b[0m\u001b[1;31m/\u001b[0m\u001b[1;31m \u001b[0m\u001b[1;31m1319\u001b[0m\u001b[1;31m =  \u001b[0m\u001b[1;31m1.4\u001b[0m\u001b[1;31m% didn't have equations.\u001b[0m\n"
      ]
     },
     "metadata": {},
     "output_type": "display_data"
    }
   ],
   "source": [
    "gsm8k = {}\n",
    "\n",
    "for split in [\"train\", \"test\"]:\n",
    "    print(f\"split: {split}\")\n",
    "    gsm8k[split] = lib_data.GSM8K(\n",
    "    tok_max_query_length = None,\n",
    "    tok_max_answer_length = None,\n",
    "    tok_max_total_length = None,\n",
    "    any_tokenizer=t,\n",
    "    device=\"cpu\",\n",
    "    ds=datasets.load_dataset(  # type: ignore\n",
    "        split=split,\n",
    "        path=\"gsm8k\",\n",
    "        name=\"main\",\n",
    "    ),\n",
    "    question_prefix = \"\",\n",
    "    question_suffix = \"\",\n",
    ")"
   ]
  },
  {
   "cell_type": "code",
   "execution_count": 47,
   "metadata": {},
   "outputs": [
    {
     "name": "stdout",
     "output_type": "stream",
     "text": [
      "train\n"
     ]
    },
    {
     "name": "stderr",
     "output_type": "stream",
     "text": [
      "train:   0%|          | 0/7473 [00:00<?, ?it/s]"
     ]
    },
    {
     "name": "stderr",
     "output_type": "stream",
     "text": [
      "train: 100%|██████████| 7473/7473 [00:00<00:00, 34263.23it/s]\n"
     ]
    },
    {
     "data": {
      "text/html": [
       "<pre style=\"white-space:pre;overflow-x:auto;line-height:normal;font-family:Menlo,'DejaVu Sans Mono',consolas,'Courier New',monospace\">Split: train - failed: <span style=\"color: #008080; text-decoration-color: #008080; font-weight: bold\">0</span>\n",
       "</pre>\n"
      ],
      "text/plain": [
       "Split: train - failed: \u001b[1;36m0\u001b[0m\n"
      ]
     },
     "metadata": {},
     "output_type": "display_data"
    },
    {
     "name": "stdout",
     "output_type": "stream",
     "text": [
      "test\n"
     ]
    },
    {
     "name": "stderr",
     "output_type": "stream",
     "text": [
      "test:   0%|          | 0/1319 [00:00<?, ?it/s]"
     ]
    },
    {
     "data": {
      "text/html": [
       "<pre style=\"white-space:pre;overflow-x:auto;line-height:normal;font-family:Menlo,'DejaVu Sans Mono',consolas,'Courier New',monospace\"><span style=\"color: #800000; text-decoration-color: #800000\">The total ratio representing the number of electric poles and wires is </span><span style=\"color: #800000; text-decoration-color: #800000; font-weight: bold\">1</span><span style=\"color: #800000; text-decoration-color: #800000\">+</span><span style=\"color: #800000; text-decoration-color: #800000; font-weight: bold\">3</span><span style=\"color: #800000; text-decoration-color: #800000\">=</span><span style=\"color: #800000; text-decoration-color: #800000; font-weight: bold\">&lt;</span><span style=\"color: #800000; text-decoration-color: #800000\">&lt;</span><span style=\"color: #800000; text-decoration-color: #800000; font-weight: bold\">1</span><span style=\"color: #800000; text-decoration-color: #800000\">+</span><span style=\"color: #800000; text-decoration-color: #800000; font-weight: bold\">3</span><span style=\"color: #800000; text-decoration-color: #800000\">=</span><span style=\"color: #800000; text-decoration-color: #800000; font-weight: bold\">4</span><span style=\"color: #800000; text-decoration-color: #800000\">&gt;&gt;</span><span style=\"color: #800000; text-decoration-color: #800000; font-weight: bold\">4</span>\n",
       "<span style=\"color: #800000; text-decoration-color: #800000\">The fraction representing the number of wires required to connect the neighborhood's electricity is &lt;&lt;</span><span style=\"color: #800000; text-decoration-color: #800000; font-weight: bold\">3</span><span style=\"color: #800000; text-decoration-color: #800000\">/</span><span style=\"color: #800000; text-decoration-color: #800000; font-weight: bold\">4</span><span style=\"color: #800000; text-decoration-color: #800000\">=</span><span style=\"color: #800000; text-decoration-color: #800000; font-weight: bold\">3</span><span style=\"color: #800000; text-decoration-color: #800000\">/</span><span style=\"color: #800000; text-decoration-color: #800000; font-weight: bold\">4</span><span style=\"color: #800000; text-decoration-color: #800000\">&gt;&gt;</span><span style=\"color: #800000; text-decoration-color: #800000; font-weight: bold\">3</span><span style=\"color: #800000; text-decoration-color: #800000\">/</span><span style=\"color: #800000; text-decoration-color: #800000; font-weight: bold\">4</span>\n",
       "<span style=\"color: #800000; text-decoration-color: #800000\">If </span><span style=\"color: #800000; text-decoration-color: #800000; font-weight: bold\">3</span><span style=\"color: #800000; text-decoration-color: #800000\">/</span><span style=\"color: #800000; text-decoration-color: #800000; font-weight: bold\">4</span><span style=\"color: #800000; text-decoration-color: #800000\"> represents </span><span style=\"color: #800000; text-decoration-color: #800000; font-weight: bold\">45</span><span style=\"color: #800000; text-decoration-color: #800000\">, the number of wires required for the connections, then the total fraction which is </span><span style=\"color: #800000; text-decoration-color: #800000; font-weight: bold\">4</span><span style=\"color: #800000; text-decoration-color: #800000\">/</span><span style=\"color: #800000; text-decoration-color: #800000; font-weight: bold\">4</span><span style=\"color: #800000; text-decoration-color: #800000\">, </span>\n",
       "<span style=\"color: #800000; text-decoration-color: #800000\">representing the poles and wires needed, represents </span><span style=\"color: #800000; text-decoration-color: #800000; font-weight: bold\">4</span><span style=\"color: #800000; text-decoration-color: #800000\">/</span><span style=\"color: #800000; text-decoration-color: #800000; font-weight: bold\">4</span><span style=\"color: #800000; text-decoration-color: #800000\">*</span><span style=\"color: #800000; text-decoration-color: #800000; font-weight: bold\">45</span><span style=\"color: #800000; text-decoration-color: #800000\">*</span><span style=\"color: #800000; text-decoration-color: #800000; font-weight: bold\">4</span><span style=\"color: #800000; text-decoration-color: #800000\">/</span><span style=\"color: #800000; text-decoration-color: #800000; font-weight: bold\">3</span><span style=\"color: #800000; text-decoration-color: #800000\">=</span><span style=\"color: #800000; text-decoration-color: #800000; font-weight: bold\">60</span>\n",
       "<span style=\"color: #800000; text-decoration-color: #800000\">Since the total number of wires and poles required is </span><span style=\"color: #800000; text-decoration-color: #800000; font-weight: bold\">60</span><span style=\"color: #800000; text-decoration-color: #800000\">, and the number of electric wires to be used is </span><span style=\"color: #800000; text-decoration-color: #800000; font-weight: bold\">45</span><span style=\"color: #800000; text-decoration-color: #800000\">, the </span>\n",
       "<span style=\"color: #800000; text-decoration-color: #800000\">number of poles required is </span><span style=\"color: #800000; text-decoration-color: #800000; font-weight: bold\">60</span><span style=\"color: #800000; text-decoration-color: #800000\">-</span><span style=\"color: #800000; text-decoration-color: #800000; font-weight: bold\">45</span><span style=\"color: #800000; text-decoration-color: #800000\">=&lt;&lt;</span><span style=\"color: #800000; text-decoration-color: #800000; font-weight: bold\">60</span><span style=\"color: #800000; text-decoration-color: #800000\">-</span><span style=\"color: #800000; text-decoration-color: #800000; font-weight: bold\">45</span><span style=\"color: #800000; text-decoration-color: #800000\">=</span><span style=\"color: #800000; text-decoration-color: #800000; font-weight: bold\">15</span><span style=\"color: #800000; text-decoration-color: #800000\">&gt;</span><span style=\"color: #800000; text-decoration-color: #800000; font-weight: bold\">&gt;</span><span style=\"color: #800000; text-decoration-color: #800000; font-weight: bold\">15</span>\n",
       "</pre>\n"
      ],
      "text/plain": [
       "\u001b[31mThe total ratio representing the number of electric poles and wires is \u001b[0m\u001b[1;31m1\u001b[0m\u001b[31m+\u001b[0m\u001b[1;31m3\u001b[0m\u001b[31m=\u001b[0m\u001b[1;31m<\u001b[0m\u001b[31m<\u001b[0m\u001b[1;31m1\u001b[0m\u001b[31m+\u001b[0m\u001b[1;31m3\u001b[0m\u001b[31m=\u001b[0m\u001b[1;31m4\u001b[0m\u001b[31m>>\u001b[0m\u001b[1;31m4\u001b[0m\n",
       "\u001b[31mThe fraction representing the number of wires required to connect the neighborhood's electricity is <<\u001b[0m\u001b[1;31m3\u001b[0m\u001b[31m/\u001b[0m\u001b[1;31m4\u001b[0m\u001b[31m=\u001b[0m\u001b[1;31m3\u001b[0m\u001b[31m/\u001b[0m\u001b[1;31m4\u001b[0m\u001b[31m>>\u001b[0m\u001b[1;31m3\u001b[0m\u001b[31m/\u001b[0m\u001b[1;31m4\u001b[0m\n",
       "\u001b[31mIf \u001b[0m\u001b[1;31m3\u001b[0m\u001b[31m/\u001b[0m\u001b[1;31m4\u001b[0m\u001b[31m represents \u001b[0m\u001b[1;31m45\u001b[0m\u001b[31m, the number of wires required for the connections, then the total fraction which is \u001b[0m\u001b[1;31m4\u001b[0m\u001b[31m/\u001b[0m\u001b[1;31m4\u001b[0m\u001b[31m, \u001b[0m\n",
       "\u001b[31mrepresenting the poles and wires needed, represents \u001b[0m\u001b[1;31m4\u001b[0m\u001b[31m/\u001b[0m\u001b[1;31m4\u001b[0m\u001b[31m*\u001b[0m\u001b[1;31m45\u001b[0m\u001b[31m*\u001b[0m\u001b[1;31m4\u001b[0m\u001b[31m/\u001b[0m\u001b[1;31m3\u001b[0m\u001b[31m=\u001b[0m\u001b[1;31m60\u001b[0m\n",
       "\u001b[31mSince the total number of wires and poles required is \u001b[0m\u001b[1;31m60\u001b[0m\u001b[31m, and the number of electric wires to be used is \u001b[0m\u001b[1;31m45\u001b[0m\u001b[31m, the \u001b[0m\n",
       "\u001b[31mnumber of poles required is \u001b[0m\u001b[1;31m60\u001b[0m\u001b[31m-\u001b[0m\u001b[1;31m45\u001b[0m\u001b[31m=<<\u001b[0m\u001b[1;31m60\u001b[0m\u001b[31m-\u001b[0m\u001b[1;31m45\u001b[0m\u001b[31m=\u001b[0m\u001b[1;31m15\u001b[0m\u001b[31m>\u001b[0m\u001b[1;31m>\u001b[0m\u001b[1;31m15\u001b[0m\n"
      ]
     },
     "metadata": {},
     "output_type": "display_data"
    },
    {
     "name": "stderr",
     "output_type": "stream",
     "text": [
      "test: 100%|██████████| 1319/1319 [00:00<00:00, 28886.96it/s]\n"
     ]
    },
    {
     "data": {
      "text/html": [
       "<pre style=\"white-space:pre;overflow-x:auto;line-height:normal;font-family:Menlo,'DejaVu Sans Mono',consolas,'Courier New',monospace\">Split: test - failed: <span style=\"color: #008080; text-decoration-color: #008080; font-weight: bold\">1</span>\n",
       "</pre>\n"
      ],
      "text/plain": [
       "Split: test - failed: \u001b[1;36m1\u001b[0m\n"
      ]
     },
     "metadata": {},
     "output_type": "display_data"
    },
    {
     "data": {
      "text/html": [
       "<pre style=\"white-space:pre;overflow-x:auto;line-height:normal;font-family:Menlo,'DejaVu Sans Mono',consolas,'Courier New',monospace\"><span style=\"font-style: italic\">                                          GSM8K                                           </span>\n",
       "┏━━━━━━━┳━━━━━━┳━━━━━━━━┳━━━━━━━━━━━━━━━━━┳━━━━━━━━━━━━━━━━━━━━━━━━━━┳━━━━━━━━━━━━━━━━━━━┓\n",
       "┃<span style=\"font-weight: bold\"> Split </span>┃<span style=\"font-weight: bold\"> left </span>┃<span style=\"font-weight: bold\"> answer </span>┃<span style=\"font-weight: bold\"> computed_answer </span>┃<span style=\"font-weight: bold\"> computed_answer_pre_cast </span>┃<span style=\"font-weight: bold\"> casted_ref_answer </span>┃\n",
       "┡━━━━━━━╇━━━━━━╇━━━━━━━━╇━━━━━━━━━━━━━━━━━╇━━━━━━━━━━━━━━━━━━━━━━━━━━╇━━━━━━━━━━━━━━━━━━━┩\n",
       "│ test  │ 3/4  │ 3/4    │ 1               │ 0.75                     │ None              │\n",
       "└───────┴──────┴────────┴─────────────────┴──────────────────────────┴───────────────────┘\n",
       "</pre>\n"
      ],
      "text/plain": [
       "\u001b[3m                                          GSM8K                                           \u001b[0m\n",
       "┏━━━━━━━┳━━━━━━┳━━━━━━━━┳━━━━━━━━━━━━━━━━━┳━━━━━━━━━━━━━━━━━━━━━━━━━━┳━━━━━━━━━━━━━━━━━━━┓\n",
       "┃\u001b[1m \u001b[0m\u001b[1mSplit\u001b[0m\u001b[1m \u001b[0m┃\u001b[1m \u001b[0m\u001b[1mleft\u001b[0m\u001b[1m \u001b[0m┃\u001b[1m \u001b[0m\u001b[1manswer\u001b[0m\u001b[1m \u001b[0m┃\u001b[1m \u001b[0m\u001b[1mcomputed_answer\u001b[0m\u001b[1m \u001b[0m┃\u001b[1m \u001b[0m\u001b[1mcomputed_answer_pre_cast\u001b[0m\u001b[1m \u001b[0m┃\u001b[1m \u001b[0m\u001b[1mcasted_ref_answer\u001b[0m\u001b[1m \u001b[0m┃\n",
       "┡━━━━━━━╇━━━━━━╇━━━━━━━━╇━━━━━━━━━━━━━━━━━╇━━━━━━━━━━━━━━━━━━━━━━━━━━╇━━━━━━━━━━━━━━━━━━━┩\n",
       "│ test  │ 3/4  │ 3/4    │ 1               │ 0.75                     │ None              │\n",
       "└───────┴──────┴────────┴─────────────────┴──────────────────────────┴───────────────────┘\n"
      ]
     },
     "metadata": {},
     "output_type": "display_data"
    }
   ],
   "source": [
    "import tqdm\n",
    "import rich.table\n",
    "import rich.markup\n",
    "import math\n",
    "\n",
    "import re\n",
    "import more_itertools\n",
    "\n",
    "def to_num(x):\n",
    "    return float(x)\n",
    "\n",
    "def pick_one_or_third(x):\n",
    "    assert len(x) == 3, len(x)\n",
    "    assert (\n",
    "        (x[0] != \"\" and x[1] == \"\" and x[2] == \"\") or\n",
    "        (x[0] != \"\" and x[1] != \"\" and x[2] == \"\") or\n",
    "        (x[0] == \"\" and x[1] == \"\" and x[2] != \"\")\n",
    "    ), x\n",
    "    if x[0] != \"\":\n",
    "        return x[0]\n",
    "    else:\n",
    "        assert x[2] != \"\", x\n",
    "        return x[2]\n",
    "\n",
    "def eval_eqn(eqn):\n",
    "    print(eqn)\n",
    "    tokenized = re.findall(r\"(\\d+(\\.\\d+)?)|(\\d*(\\.\\d+))|([*\\-+/])\", eqn)\n",
    "    print(tokenized)\n",
    "    tokenized = [pick_one_or_third(t) for t in tokenized if t]\n",
    "    print(tokenized)\n",
    "\n",
    "    if tokenized[0] in [\"*\", \"/\", \"+\", \"-\"]:\n",
    "        tokenized = tokenized[1:]\n",
    "\n",
    "    num_so_far = to_num(tokenized[0])\n",
    "    \n",
    "    for idx in range(2, len(tokenized), 2):\n",
    "        operator = tokenized[idx - 1]\n",
    "        if operator == \"*\":\n",
    "            num_so_far *= to_num(tokenized[idx])\n",
    "        elif operator == \"/\":\n",
    "            num_so_far /= to_num(tokenized[idx])\n",
    "        elif operator == \"+\":\n",
    "            num_so_far += to_num(tokenized[idx])\n",
    "        elif operator == \"-\":\n",
    "            num_so_far -= to_num(tokenized[idx])\n",
    "        else:\n",
    "            raise ValueError(f\"{operator}, {tokenized}, {eqn}\")\n",
    "    return num_so_far\n",
    "\n",
    "\n",
    "table = rich.table.Table(title=\"GSM8K\")\n",
    "table.add_column(\"Split\")\n",
    "table.add_column(\"left\")\n",
    "table.add_column(\"answer\")\n",
    "table.add_column(\"computed_answer\")\n",
    "table.add_column(\"computed_answer_pre_cast\")\n",
    "table.add_column(\"casted_ref_answer\")\n",
    "\n",
    "\n",
    "for split in [\"train\", \"test\"]:\n",
    "    total = 0\n",
    "    failed = 0\n",
    "    print(split)\n",
    "    for entry in tqdm.tqdm(gsm8k[split], desc=split):\n",
    "        for obj in entry.obj_ref_equations:\n",
    "            computed_answer_pre_cast = eval(obj[\"left\"])\n",
    "            # assert computed_answer_pre_cast == eval_eqn(obj[\"left\"]), (computed_answer_pre_cast, eval_eqn(obj[\"left\"]))\n",
    "            computed_answer = round(computed_answer_pre_cast)\n",
    "\n",
    "            try:\n",
    "                casted_ref_answer = round(float(obj[\"answer\"]))\n",
    "            except ValueError:\n",
    "                rich.print(f\"[red]{rich.markup.escape(entry.detok_ref_scratchpad)}\")\n",
    "                casted_ref_answer = None\n",
    "\n",
    "            if not computed_answer == casted_ref_answer:\n",
    "                table.add_row(\n",
    "                    split, \n",
    "                    rich.markup.escape(obj[\"left\"]), \n",
    "                    rich.markup.escape(obj[\"answer\"]), \n",
    "                    str(computed_answer), \n",
    "                    str(computed_answer_pre_cast), \n",
    "                    str(casted_ref_answer),\n",
    "                )\n",
    "                failed += 1\n",
    "            total += 1\n",
    "\n",
    "    rich.print(f\"Split: {split} - failed: {failed}\")\n",
    "rich.print(table)"
   ]
  },
  {
   "cell_type": "code",
   "execution_count": null,
   "metadata": {},
   "outputs": [],
   "source": []
  }
 ],
 "metadata": {
  "kernelspec": {
   "display_name": ".main",
   "language": "python",
   "name": "python3"
  },
  "language_info": {
   "codemirror_mode": {
    "name": "ipython",
    "version": 3
   },
   "file_extension": ".py",
   "mimetype": "text/x-python",
   "name": "python",
   "nbconvert_exporter": "python",
   "pygments_lexer": "ipython3",
   "version": "3.9.15"
  },
  "orig_nbformat": 4
 },
 "nbformat": 4,
 "nbformat_minor": 2
}
