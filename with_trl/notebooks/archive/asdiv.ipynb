{
 "cells": [
  {
   "cell_type": "code",
   "execution_count": 1,
   "metadata": {},
   "outputs": [
    {
     "name": "stdout",
     "output_type": "stream",
     "text": [
      "/home/mila/g/gagnonju/Marg-Li-CoT/with_trl/scratchpad\n",
      "/home/mila/g/gagnonju/Marg-Li-CoT/with_trl\n"
     ]
    }
   ],
   "source": [
    "import datasets\n",
    "import pathlib\n",
    "import itertools\n",
    "import more_itertools\n",
    "import rich\n",
    "import torch\n",
    "import transformers\n",
    "import sys\n",
    "print(pathlib.Path.cwd())\n",
    "print(pathlib.Path.cwd().parent)\n",
    "sys.path.append(str(pathlib.Path.cwd().parent))\n",
    "import lib_trl_utils\n",
    "import bin_main\n",
    "import peft\n",
    "import accelerate\n",
    "import libs_data\n"
   ]
  },
  {
   "cell_type": "code",
   "execution_count": 2,
   "metadata": {},
   "outputs": [
    {
     "name": "stdout",
     "output_type": "stream",
     "text": [
      "Parsing dataset...\n",
      "Parsing complete.\n"
     ]
    }
   ],
   "source": [
    "MODEL_NAME = \"meta-llama/Llama-2-7b-chat-hf\"\n",
    "tokenizer = transformers.AutoTokenizer.from_pretrained(MODEL_NAME)\n",
    "\n",
    "asdiv = libs_data.lib_asdiv.ASDiv(\n",
    "    any_tokenizer=tokenizer, cache_path=\"/tmp/asdiv\", quiet=False, url=None\n",
    ")"
   ]
  },
  {
   "cell_type": "code",
   "execution_count": 5,
   "metadata": {},
   "outputs": [
    {
     "data": {
      "text/plain": [
       "{'question': '46 apples were in the basket. 22 are red and the rest are green. How many apples are green?',\n",
       " 'answer': '24 (apples)'}"
      ]
     },
     "execution_count": 5,
     "metadata": {},
     "output_type": "execute_result"
    }
   ],
   "source": [
    "asdiv[10]"
   ]
  },
  {
   "cell_type": "code",
   "execution_count": 12,
   "metadata": {},
   "outputs": [
    {
     "data": {
      "text/plain": [
       "{'body': '46 apples were in the basket. 22 are red and the rest are green.',\n",
       " 'question': '46 apples were in the basket. 22 are red and the rest are green. How many apples are green?',\n",
       " 'solution-type': 'Subtraction',\n",
       " 'answer': '24 (apples)',\n",
       " 'formula': '46-22=24',\n",
       " 'id': 'nluds-0011',\n",
       " 'grade': '1',\n",
       " 'source': 'http://www.k5learning.com'}"
      ]
     },
     "execution_count": 12,
     "metadata": {},
     "output_type": "execute_result"
    }
   ],
   "source": [
    "{k: asdiv._ds[k][10] for k in asdiv._ds}"
   ]
  },
  {
   "cell_type": "code",
   "execution_count": 15,
   "metadata": {},
   "outputs": [
    {
     "name": "stdout",
     "output_type": "stream",
     "text": [
      "Q: Seven red apples and two green apples are in the basket. How many apples are in the basket?\n",
      "A: 7+2=9\n",
      "\n",
      "Q: Ellen has six more balls than Marin. Marin has nine balls. How many balls does Ellen have?\n",
      "A: 6+9=15\n",
      "\n",
      "Q: Janet has nine oranges and Sharon has seven oranges. How many oranges do Janet and Sharon have together? \n",
      "A: 9+7=16\n",
      "\n",
      "Q: Allan brought two balloons and Jake brought four balloons to the park. How many balloons did Allan and Jake have in the park?\n",
      "A: 2+4=6\n",
      "\n",
      "Q: Adam has five more apples than Jackie. Jackie has nine apples. How many apples does Adam have?\n",
      "A: 5+9=14\n",
      "\n",
      "Q: Brian has four more plums than Paul. Paul has seven plums. How many plums does Brian have?\n",
      "A: 4+7=11\n",
      "\n",
      "Q: Sandra took six cups of coffee and Marcie took two cups of coffee. How many cups of coffee did Sandra and Marcie take in total?\n",
      "A: 2+6=8\n",
      "\n",
      "Q: 17 plums were in the basket. More plums were added to the basket. Now there are 21 plums. How many plums were added to the basket?\n",
      "A: 21-17=4\n",
      "\n",
      "Q: 14 red plums and four green plums are in the basket. How many plums are in the basket? \n",
      "A: 4+14=18\n",
      "\n",
      "Q: Marin has nine apples and Donald has two apples. How many apples do Marin and Donald have together?\n",
      "A: 9+2=11\n",
      "\n",
      "\n"
     ]
    }
   ],
   "source": [
    "few_shot = \"\"\n",
    "\n",
    "for i in range(10):\n",
    "    entry = {k: asdiv._ds[k][i] for k in asdiv._ds}\n",
    "    few_shot += f\"Q: {entry['question']}\\nA: {entry['formula']}\\n\\n\"\n",
    "\n",
    "print(few_shot)"
   ]
  },
  {
   "cell_type": "code",
   "execution_count": 17,
   "metadata": {},
   "outputs": [
    {
     "data": {
      "text/plain": [
       "2305"
      ]
     },
     "execution_count": 17,
     "metadata": {},
     "output_type": "execute_result"
    }
   ],
   "source": [
    "len(asdiv._ds[\"question\"])"
   ]
  },
  {
   "cell_type": "code",
   "execution_count": null,
   "metadata": {},
   "outputs": [],
   "source": []
  }
 ],
 "metadata": {
  "kernelspec": {
   "display_name": ".main",
   "language": "python",
   "name": "python3"
  },
  "language_info": {
   "codemirror_mode": {
    "name": "ipython",
    "version": 3
   },
   "file_extension": ".py",
   "mimetype": "text/x-python",
   "name": "python",
   "nbconvert_exporter": "python",
   "pygments_lexer": "ipython3",
   "version": "3.9.15"
  },
  "orig_nbformat": 4
 },
 "nbformat": 4,
 "nbformat_minor": 2
}
