{
 "cells": [
  {
   "cell_type": "code",
   "execution_count": 4,
   "metadata": {},
   "outputs": [],
   "source": [
    "PATH_TRAIN = \"/home/mila/g/gagnonju/Marg-Li-CoT/with_trl/approach_answer/outputs/gpt4.commonsenseqa.chatgpt.train.jsonl\"\n",
    "PATH_EVAL = \"/home/mila/g/gagnonju/Marg-Li-CoT/with_trl/approach_answer/outputs/gpt4.commonsenseqa.chatgpt.validation.jsonl\"\n",
    "\n",
    "PATH_TRAIN = \"/network/scratch/g/gagnonju/saved_scratchpad_gen_outputs/chatgpt-3.5-commonsenseqa-scratchpads/not-cond-on-answers/commonsenseqa.chatgpt.train.jsonl\"\n",
    "PATH_EVAL = \"/network/scratch/g/gagnonju/saved_scratchpad_gen_outputs/chatgpt-3.5-commonsenseqa-scratchpads/not-cond-on-answers/commonsenseqa.chatgpt.validation.jsonl\""
   ]
  },
  {
   "cell_type": "code",
   "execution_count": 5,
   "metadata": {},
   "outputs": [],
   "source": [
    "import jsonlines as jl\n",
    "\n",
    "with jl.open(PATH_TRAIN) as f:\n",
    "    train = [x for x in f]\n",
    "\n",
    "with jl.open(PATH_EVAL) as f:\n",
    "    eval = [x for x in f]\n",
    "    "
   ]
  },
  {
   "cell_type": "code",
   "execution_count": 6,
   "metadata": {},
   "outputs": [
    {
     "name": "stdout",
     "output_type": "stream",
     "text": [
      "train accuracy: 78.26%\n",
      "eval accuracy: 79.69%\n"
     ]
    }
   ],
   "source": [
    "def accuracy(name, data):\n",
    "    good = 0\n",
    "    for d in data:\n",
    "        if d[\"ref_qa_answer\"] in d[\"output\"]:\n",
    "            good += 1\n",
    "    print(f\"{name} accuracy: {good/len(data):0.2%}\")\n",
    "\n",
    "accuracy(\"train\", train)\n",
    "accuracy(\"eval\", eval)"
   ]
  },
  {
   "cell_type": "code",
   "execution_count": null,
   "metadata": {},
   "outputs": [],
   "source": []
  }
 ],
 "metadata": {
  "kernelspec": {
   "display_name": ".main",
   "language": "python",
   "name": "python3"
  },
  "language_info": {
   "codemirror_mode": {
    "name": "ipython",
    "version": 3
   },
   "file_extension": ".py",
   "mimetype": "text/x-python",
   "name": "python",
   "nbconvert_exporter": "python",
   "pygments_lexer": "ipython3",
   "version": "3.9.15"
  },
  "orig_nbformat": 4
 },
 "nbformat": 4,
 "nbformat_minor": 2
}
