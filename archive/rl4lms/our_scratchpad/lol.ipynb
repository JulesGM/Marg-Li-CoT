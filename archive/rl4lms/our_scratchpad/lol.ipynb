{
 "cells": [
  {
   "cell_type": "code",
   "execution_count": 36,
   "metadata": {},
   "outputs": [],
   "source": [
    "import os\n",
    "import sys\n",
    "\n",
    "import more_itertools\n",
    "import torch\n",
    "import transformers\n",
    "\n",
    "import general_utils\n"
   ]
  },
  {
   "cell_type": "code",
   "execution_count": 5,
   "metadata": {},
   "outputs": [],
   "source": [
    "model_name = \"google/flan-t5-xl\"\n",
    "t = transformers.AutoTokenizer.from_pretrained(model_name)\n",
    "\n",
    "m = transformers.T5ForConditionalGeneration.from_pretrained(\n",
    "    model_name, torch_dtype=torch.bfloat16\n",
    ")\n",
    "m.parallelize()\n"
   ]
  },
  {
   "cell_type": "code",
   "execution_count": 20,
   "metadata": {},
   "outputs": [],
   "source": [
    "def prep_q(text):\n",
    "    return {\n",
    "        k: v.to(m.device) for k, v in t(text, return_tensors=\"pt\", padding=True).items()\n",
    "    }\n",
    "\n",
    "def prep_a(q, gen_flags=None):\n",
    "    gen_flags = gen_flags or {}\n",
    "    return [t.decode(x) for x in m.generate(**q, **gen_flags)]\n"
   ]
  },
  {
   "cell_type": "code",
   "execution_count": 38,
   "metadata": {},
   "outputs": [
    {
     "data": {
      "text/html": [
       "<pre style=\"white-space:pre;overflow-x:auto;line-height:normal;font-family:Menlo,'DejaVu Sans Mono',consolas,'Courier New',monospace\">        - <span style=\"font-weight: bold\">&lt;</span><span style=\"color: #ff00ff; text-decoration-color: #ff00ff; font-weight: bold\">pad</span><span style=\"font-weight: bold\">&gt;</span> First find the total number of people in the buses: <span style=\"color: #008080; text-decoration-color: #008080; font-weight: bold\">35</span> people <span style=\"color: #800080; text-decoration-color: #800080\">/</span> bus * <span style=\"color: #008080; text-decoration-color: #008080; font-weight: bold\">12</span> buses = <span style=\"color: #008080; text-decoration-color: #008080; font-weight: bold\">375</span> people. Then \n",
       "find the total number of people in the cars: <span style=\"color: #008080; text-decoration-color: #008080; font-weight: bold\">3</span> people <span style=\"color: #800080; text-decoration-color: #800080\">/</span> car * <span style=\"color: #008080; text-decoration-color: #008080; font-weight: bold\">20</span> cars = <span style=\"color: #008080; text-decoration-color: #008080; font-weight: bold\">60</span> people. Then add the number of people in\n",
       "each group to find the total number of people: <span style=\"color: #008080; text-decoration-color: #008080; font-weight: bold\">375</span> people + <span style=\"color: #008080; text-decoration-color: #008080; font-weight: bold\">60</span> people = <span style=\"color: #008080; text-decoration-color: #008080; font-weight: bold\">850</span> people. Then multiply the number of \n",
       "people in the church by the number of people in each group to find the total number of people: <span style=\"color: #008080; text-decoration-color: #008080; font-weight: bold\">850</span> people <span style=\"color: #800080; text-decoration-color: #800080\">/</span> group *\n",
       "<span style=\"color: #008080; text-decoration-color: #008080; font-weight: bold\">2</span> people <span style=\"color: #800080; text-decoration-color: #800080\">/</span> group = <span style=\"color: #008080; text-decoration-color: #008080; font-weight: bold\">1200</span> people. Therefore the answer is <span style=\"color: #008080; text-decoration-color: #008080; font-weight: bold\">1200</span>.<span style=\"font-weight: bold\">&lt;</span><span style=\"color: #800080; text-decoration-color: #800080\">/</span><span style=\"color: #ff00ff; text-decoration-color: #ff00ff\">s</span><span style=\"font-weight: bold\">&gt;</span>\n",
       "</pre>\n"
      ],
      "text/plain": [
       "        - \u001b[1m<\u001b[0m\u001b[1;95mpad\u001b[0m\u001b[1m>\u001b[0m First find the total number of people in the buses: \u001b[1;36m35\u001b[0m people \u001b[35m/\u001b[0m bus * \u001b[1;36m12\u001b[0m buses = \u001b[1;36m375\u001b[0m people. Then \n",
       "find the total number of people in the cars: \u001b[1;36m3\u001b[0m people \u001b[35m/\u001b[0m car * \u001b[1;36m20\u001b[0m cars = \u001b[1;36m60\u001b[0m people. Then add the number of people in\n",
       "each group to find the total number of people: \u001b[1;36m375\u001b[0m people + \u001b[1;36m60\u001b[0m people = \u001b[1;36m850\u001b[0m people. Then multiply the number of \n",
       "people in the church by the number of people in each group to find the total number of people: \u001b[1;36m850\u001b[0m people \u001b[35m/\u001b[0m group *\n",
       "\u001b[1;36m2\u001b[0m people \u001b[35m/\u001b[0m group = \u001b[1;36m1200\u001b[0m people. Therefore the answer is \u001b[1;36m1200\u001b[0m.\u001b[1m<\u001b[0m\u001b[35m/\u001b[0m\u001b[95ms\u001b[0m\u001b[1m>\u001b[0m\n"
      ]
     },
     "metadata": {},
     "output_type": "display_data"
    },
    {
     "data": {
      "text/html": [
       "<pre style=\"white-space:pre;overflow-x:auto;line-height:normal;font-family:Menlo,'DejaVu Sans Mono',consolas,'Courier New',monospace\">        - <span style=\"font-weight: bold\">&lt;</span><span style=\"color: #ff00ff; text-decoration-color: #ff00ff; font-weight: bold\">pad</span><span style=\"font-weight: bold\">&gt;</span> First find the total number of people in the buses: <span style=\"color: #008080; text-decoration-color: #008080; font-weight: bold\">35</span> people <span style=\"color: #800080; text-decoration-color: #800080\">/</span> bus * <span style=\"color: #008080; text-decoration-color: #008080; font-weight: bold\">12</span> buses = <span style=\"color: #008080; text-decoration-color: #008080; font-weight: bold\">375</span> people. Then \n",
       "find the total number of people in the cars: <span style=\"color: #008080; text-decoration-color: #008080; font-weight: bold\">3</span> people <span style=\"color: #800080; text-decoration-color: #800080\">/</span> car * <span style=\"color: #008080; text-decoration-color: #008080; font-weight: bold\">20</span> cars = <span style=\"color: #008080; text-decoration-color: #008080; font-weight: bold\">60</span> people. Then add the number of people in\n",
       "each group to find the total number of people: <span style=\"color: #008080; text-decoration-color: #008080; font-weight: bold\">375</span> people + <span style=\"color: #008080; text-decoration-color: #008080; font-weight: bold\">60</span> people = <span style=\"color: #008080; text-decoration-color: #008080; font-weight: bold\">850</span> people. Then multiply the number of \n",
       "people in the church by the number of people in each group to find the total number of people: <span style=\"color: #008080; text-decoration-color: #008080; font-weight: bold\">850</span> people <span style=\"color: #800080; text-decoration-color: #800080\">/</span> group *\n",
       "<span style=\"color: #008080; text-decoration-color: #008080; font-weight: bold\">2</span> people <span style=\"color: #800080; text-decoration-color: #800080\">/</span> group = <span style=\"color: #008080; text-decoration-color: #008080; font-weight: bold\">3000</span> people. Therefore the answer is <span style=\"color: #008080; text-decoration-color: #008080; font-weight: bold\">3000</span>.<span style=\"font-weight: bold\">&lt;</span><span style=\"color: #800080; text-decoration-color: #800080\">/</span><span style=\"color: #ff00ff; text-decoration-color: #ff00ff\">s</span><span style=\"font-weight: bold\">&gt;</span>\n",
       "</pre>\n"
      ],
      "text/plain": [
       "        - \u001b[1m<\u001b[0m\u001b[1;95mpad\u001b[0m\u001b[1m>\u001b[0m First find the total number of people in the buses: \u001b[1;36m35\u001b[0m people \u001b[35m/\u001b[0m bus * \u001b[1;36m12\u001b[0m buses = \u001b[1;36m375\u001b[0m people. Then \n",
       "find the total number of people in the cars: \u001b[1;36m3\u001b[0m people \u001b[35m/\u001b[0m car * \u001b[1;36m20\u001b[0m cars = \u001b[1;36m60\u001b[0m people. Then add the number of people in\n",
       "each group to find the total number of people: \u001b[1;36m375\u001b[0m people + \u001b[1;36m60\u001b[0m people = \u001b[1;36m850\u001b[0m people. Then multiply the number of \n",
       "people in the church by the number of people in each group to find the total number of people: \u001b[1;36m850\u001b[0m people \u001b[35m/\u001b[0m group *\n",
       "\u001b[1;36m2\u001b[0m people \u001b[35m/\u001b[0m group = \u001b[1;36m3000\u001b[0m people. Therefore the answer is \u001b[1;36m3000\u001b[0m.\u001b[1m<\u001b[0m\u001b[35m/\u001b[0m\u001b[95ms\u001b[0m\u001b[1m>\u001b[0m\n"
      ]
     },
     "metadata": {},
     "output_type": "display_data"
    },
    {
     "data": {
      "text/html": [
       "<pre style=\"white-space:pre;overflow-x:auto;line-height:normal;font-family:Menlo,'DejaVu Sans Mono',consolas,'Courier New',monospace\">        - <span style=\"font-weight: bold\">&lt;</span><span style=\"color: #ff00ff; text-decoration-color: #ff00ff; font-weight: bold\">pad</span><span style=\"font-weight: bold\">&gt;</span> First find the total number of people in the buses: <span style=\"color: #008080; text-decoration-color: #008080; font-weight: bold\">35</span> people <span style=\"color: #800080; text-decoration-color: #800080\">/</span> bus * <span style=\"color: #008080; text-decoration-color: #008080; font-weight: bold\">12</span> buses = <span style=\"color: #008080; text-decoration-color: #008080; font-weight: bold\">375</span> people. Then \n",
       "find the total number of people in the cars: <span style=\"color: #008080; text-decoration-color: #008080; font-weight: bold\">3</span> people <span style=\"color: #800080; text-decoration-color: #800080\">/</span> car * <span style=\"color: #008080; text-decoration-color: #008080; font-weight: bold\">20</span> cars = <span style=\"color: #008080; text-decoration-color: #008080; font-weight: bold\">60</span> people. Then add the number of people in\n",
       "each group to find the total number of people: <span style=\"color: #008080; text-decoration-color: #008080; font-weight: bold\">375</span> people + <span style=\"color: #008080; text-decoration-color: #008080; font-weight: bold\">60</span> people = <span style=\"color: #008080; text-decoration-color: #008080; font-weight: bold\">850</span> people. Then multiply the number of \n",
       "people in the church by the number of people in each group to find the total number of people: <span style=\"color: #008080; text-decoration-color: #008080; font-weight: bold\">850</span> people <span style=\"color: #800080; text-decoration-color: #800080\">/</span> group *\n",
       "<span style=\"color: #008080; text-decoration-color: #008080; font-weight: bold\">2</span> people <span style=\"color: #800080; text-decoration-color: #800080\">/</span> group = <span style=\"color: #008080; text-decoration-color: #008080; font-weight: bold\">1800</span> people. Therefore, the answer is <span style=\"color: #008080; text-decoration-color: #008080; font-weight: bold\">1800</span>.<span style=\"font-weight: bold\">&lt;</span><span style=\"color: #800080; text-decoration-color: #800080\">/</span><span style=\"color: #ff00ff; text-decoration-color: #ff00ff\">s</span><span style=\"font-weight: bold\">&gt;&lt;</span><span style=\"color: #ff00ff; text-decoration-color: #ff00ff; font-weight: bold\">pad</span><span style=\"font-weight: bold\">&gt;</span>\n",
       "</pre>\n"
      ],
      "text/plain": [
       "        - \u001b[1m<\u001b[0m\u001b[1;95mpad\u001b[0m\u001b[1m>\u001b[0m First find the total number of people in the buses: \u001b[1;36m35\u001b[0m people \u001b[35m/\u001b[0m bus * \u001b[1;36m12\u001b[0m buses = \u001b[1;36m375\u001b[0m people. Then \n",
       "find the total number of people in the cars: \u001b[1;36m3\u001b[0m people \u001b[35m/\u001b[0m car * \u001b[1;36m20\u001b[0m cars = \u001b[1;36m60\u001b[0m people. Then add the number of people in\n",
       "each group to find the total number of people: \u001b[1;36m375\u001b[0m people + \u001b[1;36m60\u001b[0m people = \u001b[1;36m850\u001b[0m people. Then multiply the number of \n",
       "people in the church by the number of people in each group to find the total number of people: \u001b[1;36m850\u001b[0m people \u001b[35m/\u001b[0m group *\n",
       "\u001b[1;36m2\u001b[0m people \u001b[35m/\u001b[0m group = \u001b[1;36m1800\u001b[0m people. Therefore, the answer is \u001b[1;36m1800\u001b[0m.\u001b[1m<\u001b[0m\u001b[35m/\u001b[0m\u001b[95ms\u001b[0m\u001b[1m>\u001b[0m\u001b[1m<\u001b[0m\u001b[1;95mpad\u001b[0m\u001b[1m>\u001b[0m\n"
      ]
     },
     "metadata": {},
     "output_type": "display_data"
    },
    {
     "data": {
      "text/html": [
       "<pre style=\"white-space:pre;overflow-x:auto;line-height:normal;font-family:Menlo,'DejaVu Sans Mono',consolas,'Courier New',monospace\">        - <span style=\"font-weight: bold\">&lt;</span><span style=\"color: #ff00ff; text-decoration-color: #ff00ff; font-weight: bold\">pad</span><span style=\"font-weight: bold\">&gt;</span> First find the total number of people in the buses: <span style=\"color: #008080; text-decoration-color: #008080; font-weight: bold\">35</span> people <span style=\"color: #800080; text-decoration-color: #800080\">/</span> bus * <span style=\"color: #008080; text-decoration-color: #008080; font-weight: bold\">12</span> buses = <span style=\"color: #008080; text-decoration-color: #008080; font-weight: bold\">375</span> people. Then \n",
       "find the total number of people in the cars: <span style=\"color: #008080; text-decoration-color: #008080; font-weight: bold\">3</span> people <span style=\"color: #800080; text-decoration-color: #800080\">/</span> car * <span style=\"color: #008080; text-decoration-color: #008080; font-weight: bold\">20</span> cars = <span style=\"color: #008080; text-decoration-color: #008080; font-weight: bold\">60</span> people. Then add the number of people in\n",
       "each group to find the total number of people: <span style=\"color: #008080; text-decoration-color: #008080; font-weight: bold\">375</span> people + <span style=\"color: #008080; text-decoration-color: #008080; font-weight: bold\">60</span> people = <span style=\"color: #008080; text-decoration-color: #008080; font-weight: bold\">850</span> people. Then multiply the number of \n",
       "people in the church by the number of people in each group to find the total number of people: <span style=\"color: #008080; text-decoration-color: #008080; font-weight: bold\">850</span> people <span style=\"color: #800080; text-decoration-color: #800080\">/</span> group *\n",
       "<span style=\"color: #008080; text-decoration-color: #008080; font-weight: bold\">2</span> people <span style=\"color: #800080; text-decoration-color: #800080\">/</span> group = <span style=\"color: #008080; text-decoration-color: #008080; font-weight: bold\">2700</span> people. Therefore the answer is <span style=\"color: #008080; text-decoration-color: #008080; font-weight: bold\">2700</span>.<span style=\"font-weight: bold\">&lt;</span><span style=\"color: #800080; text-decoration-color: #800080\">/</span><span style=\"color: #ff00ff; text-decoration-color: #ff00ff\">s</span><span style=\"font-weight: bold\">&gt;</span>\n",
       "</pre>\n"
      ],
      "text/plain": [
       "        - \u001b[1m<\u001b[0m\u001b[1;95mpad\u001b[0m\u001b[1m>\u001b[0m First find the total number of people in the buses: \u001b[1;36m35\u001b[0m people \u001b[35m/\u001b[0m bus * \u001b[1;36m12\u001b[0m buses = \u001b[1;36m375\u001b[0m people. Then \n",
       "find the total number of people in the cars: \u001b[1;36m3\u001b[0m people \u001b[35m/\u001b[0m car * \u001b[1;36m20\u001b[0m cars = \u001b[1;36m60\u001b[0m people. Then add the number of people in\n",
       "each group to find the total number of people: \u001b[1;36m375\u001b[0m people + \u001b[1;36m60\u001b[0m people = \u001b[1;36m850\u001b[0m people. Then multiply the number of \n",
       "people in the church by the number of people in each group to find the total number of people: \u001b[1;36m850\u001b[0m people \u001b[35m/\u001b[0m group *\n",
       "\u001b[1;36m2\u001b[0m people \u001b[35m/\u001b[0m group = \u001b[1;36m2700\u001b[0m people. Therefore the answer is \u001b[1;36m2700\u001b[0m.\u001b[1m<\u001b[0m\u001b[35m/\u001b[0m\u001b[95ms\u001b[0m\u001b[1m>\u001b[0m\n"
      ]
     },
     "metadata": {},
     "output_type": "display_data"
    },
    {
     "data": {
      "text/html": [
       "<pre style=\"white-space:pre;overflow-x:auto;line-height:normal;font-family:Menlo,'DejaVu Sans Mono',consolas,'Courier New',monospace\">        - <span style=\"font-weight: bold\">&lt;</span><span style=\"color: #ff00ff; text-decoration-color: #ff00ff; font-weight: bold\">pad</span><span style=\"font-weight: bold\">&gt;</span> First find the total number of people in the buses: <span style=\"color: #008080; text-decoration-color: #008080; font-weight: bold\">35</span> people <span style=\"color: #800080; text-decoration-color: #800080\">/</span> bus * <span style=\"color: #008080; text-decoration-color: #008080; font-weight: bold\">12</span> buses = <span style=\"color: #008080; text-decoration-color: #008080; font-weight: bold\">375</span> people. Then \n",
       "find the total number of people in the cars: <span style=\"color: #008080; text-decoration-color: #008080; font-weight: bold\">3</span> people <span style=\"color: #800080; text-decoration-color: #800080\">/</span> car * <span style=\"color: #008080; text-decoration-color: #008080; font-weight: bold\">20</span> cars = <span style=\"color: #008080; text-decoration-color: #008080; font-weight: bold\">60</span> people. Then add the number of people in\n",
       "each group to find the total number of people: <span style=\"color: #008080; text-decoration-color: #008080; font-weight: bold\">375</span> people + <span style=\"color: #008080; text-decoration-color: #008080; font-weight: bold\">60</span> people = <span style=\"color: #008080; text-decoration-color: #008080; font-weight: bold\">850</span> people. Then multiply the number of \n",
       "people in the church by the number of people in each group to find the total number of people: <span style=\"color: #008080; text-decoration-color: #008080; font-weight: bold\">850</span> people <span style=\"color: #800080; text-decoration-color: #800080\">/</span> group *\n",
       "<span style=\"color: #008080; text-decoration-color: #008080; font-weight: bold\">2</span> people <span style=\"color: #800080; text-decoration-color: #800080\">/</span> group = <span style=\"color: #008080; text-decoration-color: #008080; font-weight: bold\">1350</span> people. Therefore the answer is <span style=\"color: #008080; text-decoration-color: #008080; font-weight: bold\">1350</span>.<span style=\"font-weight: bold\">&lt;</span><span style=\"color: #800080; text-decoration-color: #800080\">/</span><span style=\"color: #ff00ff; text-decoration-color: #ff00ff\">s</span><span style=\"font-weight: bold\">&gt;</span>\n",
       "</pre>\n"
      ],
      "text/plain": [
       "        - \u001b[1m<\u001b[0m\u001b[1;95mpad\u001b[0m\u001b[1m>\u001b[0m First find the total number of people in the buses: \u001b[1;36m35\u001b[0m people \u001b[35m/\u001b[0m bus * \u001b[1;36m12\u001b[0m buses = \u001b[1;36m375\u001b[0m people. Then \n",
       "find the total number of people in the cars: \u001b[1;36m3\u001b[0m people \u001b[35m/\u001b[0m car * \u001b[1;36m20\u001b[0m cars = \u001b[1;36m60\u001b[0m people. Then add the number of people in\n",
       "each group to find the total number of people: \u001b[1;36m375\u001b[0m people + \u001b[1;36m60\u001b[0m people = \u001b[1;36m850\u001b[0m people. Then multiply the number of \n",
       "people in the church by the number of people in each group to find the total number of people: \u001b[1;36m850\u001b[0m people \u001b[35m/\u001b[0m group *\n",
       "\u001b[1;36m2\u001b[0m people \u001b[35m/\u001b[0m group = \u001b[1;36m1350\u001b[0m people. Therefore the answer is \u001b[1;36m1350\u001b[0m.\u001b[1m<\u001b[0m\u001b[35m/\u001b[0m\u001b[95ms\u001b[0m\u001b[1m>\u001b[0m\n"
      ]
     },
     "metadata": {},
     "output_type": "display_data"
    },
    {
     "data": {
      "text/html": [
       "<pre style=\"white-space:pre;overflow-x:auto;line-height:normal;font-family:Menlo,'DejaVu Sans Mono',consolas,'Courier New',monospace\">        - <span style=\"font-weight: bold\">&lt;</span><span style=\"color: #ff00ff; text-decoration-color: #ff00ff; font-weight: bold\">pad</span><span style=\"font-weight: bold\">&gt;</span> First find the total number of people in the buses: <span style=\"color: #008080; text-decoration-color: #008080; font-weight: bold\">35</span> people <span style=\"color: #800080; text-decoration-color: #800080\">/</span> bus * <span style=\"color: #008080; text-decoration-color: #008080; font-weight: bold\">12</span> buses = <span style=\"color: #008080; text-decoration-color: #008080; font-weight: bold\">375</span> people. Then \n",
       "find the total number of people in the cars: <span style=\"color: #008080; text-decoration-color: #008080; font-weight: bold\">3</span> people <span style=\"color: #800080; text-decoration-color: #800080\">/</span> car * <span style=\"color: #008080; text-decoration-color: #008080; font-weight: bold\">20</span> cars = <span style=\"color: #008080; text-decoration-color: #008080; font-weight: bold\">60</span> people. Then add the number of people in\n",
       "each group to find the total number of people: <span style=\"color: #008080; text-decoration-color: #008080; font-weight: bold\">375</span> people + <span style=\"color: #008080; text-decoration-color: #008080; font-weight: bold\">60</span> people = <span style=\"color: #008080; text-decoration-color: #008080; font-weight: bold\">850</span> people. Then multiply the number of \n",
       "people in the church by the number of people in each group to find the total number of people: <span style=\"color: #008080; text-decoration-color: #008080; font-weight: bold\">850</span> people <span style=\"color: #800080; text-decoration-color: #800080\">/</span> group *\n",
       "<span style=\"color: #008080; text-decoration-color: #008080; font-weight: bold\">2</span> people <span style=\"color: #800080; text-decoration-color: #800080\">/</span> group = <span style=\"color: #008080; text-decoration-color: #008080; font-weight: bold\">1800</span> people. Therefore the answer is <span style=\"color: #008080; text-decoration-color: #008080; font-weight: bold\">1800</span>.<span style=\"font-weight: bold\">&lt;</span><span style=\"color: #800080; text-decoration-color: #800080\">/</span><span style=\"color: #ff00ff; text-decoration-color: #ff00ff\">s</span><span style=\"font-weight: bold\">&gt;&lt;</span><span style=\"color: #ff00ff; text-decoration-color: #ff00ff; font-weight: bold\">pad</span><span style=\"font-weight: bold\">&gt;&lt;</span><span style=\"color: #ff00ff; text-decoration-color: #ff00ff; font-weight: bold\">pad</span><span style=\"font-weight: bold\">&gt;</span>\n",
       "</pre>\n"
      ],
      "text/plain": [
       "        - \u001b[1m<\u001b[0m\u001b[1;95mpad\u001b[0m\u001b[1m>\u001b[0m First find the total number of people in the buses: \u001b[1;36m35\u001b[0m people \u001b[35m/\u001b[0m bus * \u001b[1;36m12\u001b[0m buses = \u001b[1;36m375\u001b[0m people. Then \n",
       "find the total number of people in the cars: \u001b[1;36m3\u001b[0m people \u001b[35m/\u001b[0m car * \u001b[1;36m20\u001b[0m cars = \u001b[1;36m60\u001b[0m people. Then add the number of people in\n",
       "each group to find the total number of people: \u001b[1;36m375\u001b[0m people + \u001b[1;36m60\u001b[0m people = \u001b[1;36m850\u001b[0m people. Then multiply the number of \n",
       "people in the church by the number of people in each group to find the total number of people: \u001b[1;36m850\u001b[0m people \u001b[35m/\u001b[0m group *\n",
       "\u001b[1;36m2\u001b[0m people \u001b[35m/\u001b[0m group = \u001b[1;36m1800\u001b[0m people. Therefore the answer is \u001b[1;36m1800\u001b[0m.\u001b[1m<\u001b[0m\u001b[35m/\u001b[0m\u001b[95ms\u001b[0m\u001b[1m>\u001b[0m\u001b[1m<\u001b[0m\u001b[1;95mpad\u001b[0m\u001b[1m>\u001b[0m\u001b[1m<\u001b[0m\u001b[1;95mpad\u001b[0m\u001b[1m>\u001b[0m\n"
      ]
     },
     "metadata": {},
     "output_type": "display_data"
    }
   ],
   "source": [
    "q = prep_q(\n",
    "    \"Question: Mary and John got married last weekend. There were 20 private cars and 12 buses parked outside the church. \"\n",
    "    \"After the ceremony, each bus carried 35 people and each car carried 3 people. How many people were inside the church? Let's think about it step by step. Chain of thought:\",\n",
    ")\n",
    "\n",
    "general_utils.print_list(prep_a(q, dict(max_new_tokens=200, num_beams=6, num_return_sequences=6)))"
   ]
  },
  {
   "cell_type": "code",
   "execution_count": 39,
   "metadata": {},
   "outputs": [
    {
     "data": {
      "text/plain": [
       "424"
      ]
     },
     "execution_count": 39,
     "metadata": {},
     "output_type": "execute_result"
    }
   ],
   "source": [
    "20 * 2 + 12 * 35"
   ]
  },
  {
   "cell_type": "code",
   "execution_count": null,
   "metadata": {},
   "outputs": [],
   "source": []
  }
 ],
 "metadata": {
  "kernelspec": {
   "display_name": "base",
   "language": "python",
   "name": "python3"
  },
  "language_info": {
   "codemirror_mode": {
    "name": "ipython",
    "version": 3
   },
   "file_extension": ".py",
   "mimetype": "text/x-python",
   "name": "python",
   "nbconvert_exporter": "python",
   "pygments_lexer": "ipython3",
   "version": "3.9.12"
  },
  "orig_nbformat": 4,
  "vscode": {
   "interpreter": {
    "hash": "e5df931a2f82070a33ae1c20bff26f0f27f06960f553260770733988e82cce89"
   }
  }
 },
 "nbformat": 4,
 "nbformat_minor": 2
}
