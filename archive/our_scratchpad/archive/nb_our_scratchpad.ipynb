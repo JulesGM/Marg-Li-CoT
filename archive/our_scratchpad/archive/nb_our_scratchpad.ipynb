{
 "cells": [
  {
   "cell_type": "code",
   "execution_count": 1,
   "metadata": {},
   "outputs": [],
   "source": [
    "import collections\n",
    "import contextlib\n",
    "import re\n",
    "import time\n",
    "import timeit\n",
    "\n",
    "import numpy as np\n",
    "from tqdm import tqdm\n",
    "import rich\n",
    "import torch\n",
    "import transformers\n",
    "\n",
    "import general_utils as gu"
   ]
  },
  {
   "cell_type": "code",
   "execution_count": 2,
   "metadata": {},
   "outputs": [
    {
     "name": "stderr",
     "output_type": "stream",
     "text": [
      "Special tokens have been added in the vocabulary, make sure the associated word embeddings are fine-tuned or trained.\n"
     ]
    }
   ],
   "source": [
    "model_name = \"gpt2\"\n",
    "model = transformers.AutoModelForCausalLM.from_pretrained(\n",
    "    model_name).half().cuda()\n",
    "tokenizer = transformers.AutoTokenizer.from_pretrained(\n",
    "    model_name, padding_side=\"left\", pad_token=\"<|pad|>\")\n",
    "model.config.pad_token_id = tokenizer.pad_token_id"
   ]
  },
  {
   "cell_type": "code",
   "execution_count": 3,
   "metadata": {},
   "outputs": [],
   "source": [
    "batch_size = 32\n",
    "\n",
    "text = [\"This is some random text of a certain size. \"]\n",
    "batch = tokenizer(text * batch_size, return_tensors=\"pt\", padding=True)\n"
   ]
  },
  {
   "cell_type": "code",
   "execution_count": 12,
   "metadata": {},
   "outputs": [
    {
     "name": "stdout",
     "output_type": "stream",
     "text": [
      "torch.Size([32, 91])\n"
     ]
    },
    {
     "data": {
      "text/html": [
       "<pre style=\"white-space:pre;overflow-x:auto;line-height:normal;font-family:Menlo,'DejaVu Sans Mono',consolas,'Courier New',monospace\"><span style=\"color: #000080; text-decoration-color: #000080; font-weight: bold\">decode</span> took <span style=\"color: #008080; text-decoration-color: #008080; font-weight: bold\">0.74347</span> seconds\n",
       "</pre>\n"
      ],
      "text/plain": [
       "\u001b[1;34mdecode\u001b[0m took \u001b[1;36m0.74347\u001b[0m seconds\n"
      ]
     },
     "metadata": {},
     "output_type": "display_data"
    }
   ],
   "source": [
    "\n",
    "with gu.cuda_timeit(\"decode\"):\n",
    "    outputs = model.generate(\n",
    "        input_ids=batch.input_ids.cuda(), \n",
    "        attention_mask=batch.attention_mask.cuda(), \n",
    "        max_new_tokens=80, \n",
    "        sample=True,\n",
    "        cache=True,\n",
    "    )\n",
    "    print(outputs.shape)"
   ]
  },
  {
   "cell_type": "code",
   "execution_count": 13,
   "metadata": {},
   "outputs": [
    {
     "data": {
      "text/html": [
       "<pre style=\"white-space:pre;overflow-x:auto;line-height:normal;font-family:Menlo,'DejaVu Sans Mono',consolas,'Courier New',monospace\"><span style=\"color: #008080; text-decoration-color: #008080; font-weight: bold\">0</span>.  <span style=\"color: #008080; text-decoration-color: #008080; font-weight: bold\">3421016583897520380</span> This is some random text of a certain size. I'm not sure if it's a \n",
       "typo or not, but it's a nice little text. I'm not sure if it's a typo or not, but it's a nice\n",
       "little text. I'm not sure if it's a typo or not, but it's a nice little text. I'm not sure if\n",
       "it's a typo or not, but\n",
       "</pre>\n"
      ],
      "text/plain": [
       "\u001b[1;36m0\u001b[0m.  \u001b[1;36m3421016583897520380\u001b[0m This is some random text of a certain size. I'm not sure if it's a \n",
       "typo or not, but it's a nice little text. I'm not sure if it's a typo or not, but it's a nice\n",
       "little text. I'm not sure if it's a typo or not, but it's a nice little text. I'm not sure if\n",
       "it's a typo or not, but\n"
      ]
     },
     "metadata": {},
     "output_type": "display_data"
    },
    {
     "data": {
      "text/html": [
       "<pre style=\"white-space:pre;overflow-x:auto;line-height:normal;font-family:Menlo,'DejaVu Sans Mono',consolas,'Courier New',monospace\"><span style=\"color: #008080; text-decoration-color: #008080; font-weight: bold\">1</span>.  <span style=\"color: #008080; text-decoration-color: #008080; font-weight: bold\">3421016583897520380</span> This is some random text of a certain size. I'm not sure if it's a \n",
       "typo or not, but it's a nice little text. I'm not sure if it's a typo or not, but it's a nice\n",
       "little text. I'm not sure if it's a typo or not, but it's a nice little text. I'm not sure if\n",
       "it's a typo or not, but\n",
       "</pre>\n"
      ],
      "text/plain": [
       "\u001b[1;36m1\u001b[0m.  \u001b[1;36m3421016583897520380\u001b[0m This is some random text of a certain size. I'm not sure if it's a \n",
       "typo or not, but it's a nice little text. I'm not sure if it's a typo or not, but it's a nice\n",
       "little text. I'm not sure if it's a typo or not, but it's a nice little text. I'm not sure if\n",
       "it's a typo or not, but\n"
      ]
     },
     "metadata": {},
     "output_type": "display_data"
    },
    {
     "data": {
      "text/html": [
       "<pre style=\"white-space:pre;overflow-x:auto;line-height:normal;font-family:Menlo,'DejaVu Sans Mono',consolas,'Courier New',monospace\"><span style=\"color: #008080; text-decoration-color: #008080; font-weight: bold\">2</span>.  <span style=\"color: #008080; text-decoration-color: #008080; font-weight: bold\">3421016583897520380</span> This is some random text of a certain size. I'm not sure if it's a \n",
       "typo or not, but it's a nice little text. I'm not sure if it's a typo or not, but it's a nice\n",
       "little text. I'm not sure if it's a typo or not, but it's a nice little text. I'm not sure if\n",
       "it's a typo or not, but\n",
       "</pre>\n"
      ],
      "text/plain": [
       "\u001b[1;36m2\u001b[0m.  \u001b[1;36m3421016583897520380\u001b[0m This is some random text of a certain size. I'm not sure if it's a \n",
       "typo or not, but it's a nice little text. I'm not sure if it's a typo or not, but it's a nice\n",
       "little text. I'm not sure if it's a typo or not, but it's a nice little text. I'm not sure if\n",
       "it's a typo or not, but\n"
      ]
     },
     "metadata": {},
     "output_type": "display_data"
    },
    {
     "data": {
      "text/html": [
       "<pre style=\"white-space:pre;overflow-x:auto;line-height:normal;font-family:Menlo,'DejaVu Sans Mono',consolas,'Courier New',monospace\"><span style=\"color: #008080; text-decoration-color: #008080; font-weight: bold\">3</span>.  <span style=\"color: #008080; text-decoration-color: #008080; font-weight: bold\">3421016583897520380</span> This is some random text of a certain size. I'm not sure if it's a \n",
       "typo or not, but it's a nice little text. I'm not sure if it's a typo or not, but it's a nice\n",
       "little text. I'm not sure if it's a typo or not, but it's a nice little text. I'm not sure if\n",
       "it's a typo or not, but\n",
       "</pre>\n"
      ],
      "text/plain": [
       "\u001b[1;36m3\u001b[0m.  \u001b[1;36m3421016583897520380\u001b[0m This is some random text of a certain size. I'm not sure if it's a \n",
       "typo or not, but it's a nice little text. I'm not sure if it's a typo or not, but it's a nice\n",
       "little text. I'm not sure if it's a typo or not, but it's a nice little text. I'm not sure if\n",
       "it's a typo or not, but\n"
      ]
     },
     "metadata": {},
     "output_type": "display_data"
    },
    {
     "data": {
      "text/html": [
       "<pre style=\"white-space:pre;overflow-x:auto;line-height:normal;font-family:Menlo,'DejaVu Sans Mono',consolas,'Courier New',monospace\"><span style=\"color: #008080; text-decoration-color: #008080; font-weight: bold\">4</span>.  <span style=\"color: #008080; text-decoration-color: #008080; font-weight: bold\">3421016583897520380</span> This is some random text of a certain size. I'm not sure if it's a \n",
       "typo or not, but it's a nice little text. I'm not sure if it's a typo or not, but it's a nice\n",
       "little text. I'm not sure if it's a typo or not, but it's a nice little text. I'm not sure if\n",
       "it's a typo or not, but\n",
       "</pre>\n"
      ],
      "text/plain": [
       "\u001b[1;36m4\u001b[0m.  \u001b[1;36m3421016583897520380\u001b[0m This is some random text of a certain size. I'm not sure if it's a \n",
       "typo or not, but it's a nice little text. I'm not sure if it's a typo or not, but it's a nice\n",
       "little text. I'm not sure if it's a typo or not, but it's a nice little text. I'm not sure if\n",
       "it's a typo or not, but\n"
      ]
     },
     "metadata": {},
     "output_type": "display_data"
    },
    {
     "data": {
      "text/html": [
       "<pre style=\"white-space:pre;overflow-x:auto;line-height:normal;font-family:Menlo,'DejaVu Sans Mono',consolas,'Courier New',monospace\"><span style=\"color: #008080; text-decoration-color: #008080; font-weight: bold\">5</span>.  <span style=\"color: #008080; text-decoration-color: #008080; font-weight: bold\">3421016583897520380</span> This is some random text of a certain size. I'm not sure if it's a \n",
       "typo or not, but it's a nice little text. I'm not sure if it's a typo or not, but it's a nice\n",
       "little text. I'm not sure if it's a typo or not, but it's a nice little text. I'm not sure if\n",
       "it's a typo or not, but\n",
       "</pre>\n"
      ],
      "text/plain": [
       "\u001b[1;36m5\u001b[0m.  \u001b[1;36m3421016583897520380\u001b[0m This is some random text of a certain size. I'm not sure if it's a \n",
       "typo or not, but it's a nice little text. I'm not sure if it's a typo or not, but it's a nice\n",
       "little text. I'm not sure if it's a typo or not, but it's a nice little text. I'm not sure if\n",
       "it's a typo or not, but\n"
      ]
     },
     "metadata": {},
     "output_type": "display_data"
    },
    {
     "data": {
      "text/html": [
       "<pre style=\"white-space:pre;overflow-x:auto;line-height:normal;font-family:Menlo,'DejaVu Sans Mono',consolas,'Courier New',monospace\"><span style=\"color: #008080; text-decoration-color: #008080; font-weight: bold\">6</span>.  <span style=\"color: #008080; text-decoration-color: #008080; font-weight: bold\">3421016583897520380</span> This is some random text of a certain size. I'm not sure if it's a \n",
       "typo or not, but it's a nice little text. I'm not sure if it's a typo or not, but it's a nice\n",
       "little text. I'm not sure if it's a typo or not, but it's a nice little text. I'm not sure if\n",
       "it's a typo or not, but\n",
       "</pre>\n"
      ],
      "text/plain": [
       "\u001b[1;36m6\u001b[0m.  \u001b[1;36m3421016583897520380\u001b[0m This is some random text of a certain size. I'm not sure if it's a \n",
       "typo or not, but it's a nice little text. I'm not sure if it's a typo or not, but it's a nice\n",
       "little text. I'm not sure if it's a typo or not, but it's a nice little text. I'm not sure if\n",
       "it's a typo or not, but\n"
      ]
     },
     "metadata": {},
     "output_type": "display_data"
    },
    {
     "data": {
      "text/html": [
       "<pre style=\"white-space:pre;overflow-x:auto;line-height:normal;font-family:Menlo,'DejaVu Sans Mono',consolas,'Courier New',monospace\"><span style=\"color: #008080; text-decoration-color: #008080; font-weight: bold\">7</span>.  <span style=\"color: #008080; text-decoration-color: #008080; font-weight: bold\">3421016583897520380</span> This is some random text of a certain size. I'm not sure if it's a \n",
       "typo or not, but it's a nice little text. I'm not sure if it's a typo or not, but it's a nice\n",
       "little text. I'm not sure if it's a typo or not, but it's a nice little text. I'm not sure if\n",
       "it's a typo or not, but\n",
       "</pre>\n"
      ],
      "text/plain": [
       "\u001b[1;36m7\u001b[0m.  \u001b[1;36m3421016583897520380\u001b[0m This is some random text of a certain size. I'm not sure if it's a \n",
       "typo or not, but it's a nice little text. I'm not sure if it's a typo or not, but it's a nice\n",
       "little text. I'm not sure if it's a typo or not, but it's a nice little text. I'm not sure if\n",
       "it's a typo or not, but\n"
      ]
     },
     "metadata": {},
     "output_type": "display_data"
    },
    {
     "data": {
      "text/html": [
       "<pre style=\"white-space:pre;overflow-x:auto;line-height:normal;font-family:Menlo,'DejaVu Sans Mono',consolas,'Courier New',monospace\"><span style=\"color: #008080; text-decoration-color: #008080; font-weight: bold\">8</span>.  <span style=\"color: #008080; text-decoration-color: #008080; font-weight: bold\">3421016583897520380</span> This is some random text of a certain size. I'm not sure if it's a \n",
       "typo or not, but it's a nice little text. I'm not sure if it's a typo or not, but it's a nice\n",
       "little text. I'm not sure if it's a typo or not, but it's a nice little text. I'm not sure if\n",
       "it's a typo or not, but\n",
       "</pre>\n"
      ],
      "text/plain": [
       "\u001b[1;36m8\u001b[0m.  \u001b[1;36m3421016583897520380\u001b[0m This is some random text of a certain size. I'm not sure if it's a \n",
       "typo or not, but it's a nice little text. I'm not sure if it's a typo or not, but it's a nice\n",
       "little text. I'm not sure if it's a typo or not, but it's a nice little text. I'm not sure if\n",
       "it's a typo or not, but\n"
      ]
     },
     "metadata": {},
     "output_type": "display_data"
    },
    {
     "data": {
      "text/html": [
       "<pre style=\"white-space:pre;overflow-x:auto;line-height:normal;font-family:Menlo,'DejaVu Sans Mono',consolas,'Courier New',monospace\"><span style=\"color: #008080; text-decoration-color: #008080; font-weight: bold\">9</span>.  <span style=\"color: #008080; text-decoration-color: #008080; font-weight: bold\">3421016583897520380</span> This is some random text of a certain size. I'm not sure if it's a \n",
       "typo or not, but it's a nice little text. I'm not sure if it's a typo or not, but it's a nice\n",
       "little text. I'm not sure if it's a typo or not, but it's a nice little text. I'm not sure if\n",
       "it's a typo or not, but\n",
       "</pre>\n"
      ],
      "text/plain": [
       "\u001b[1;36m9\u001b[0m.  \u001b[1;36m3421016583897520380\u001b[0m This is some random text of a certain size. I'm not sure if it's a \n",
       "typo or not, but it's a nice little text. I'm not sure if it's a typo or not, but it's a nice\n",
       "little text. I'm not sure if it's a typo or not, but it's a nice little text. I'm not sure if\n",
       "it's a typo or not, but\n"
      ]
     },
     "metadata": {},
     "output_type": "display_data"
    },
    {
     "data": {
      "text/html": [
       "<pre style=\"white-space:pre;overflow-x:auto;line-height:normal;font-family:Menlo,'DejaVu Sans Mono',consolas,'Courier New',monospace\"><span style=\"color: #008080; text-decoration-color: #008080; font-weight: bold\">10</span>.  <span style=\"color: #008080; text-decoration-color: #008080; font-weight: bold\">3421016583897520380</span> This is some random text of a certain size. I'm not sure if it's a \n",
       "typo or not, but it's a nice little text. I'm not sure if it's a typo or not, but it's a nice\n",
       "little text. I'm not sure if it's a typo or not, but it's a nice little text. I'm not sure if\n",
       "it's a typo or not, but\n",
       "</pre>\n"
      ],
      "text/plain": [
       "\u001b[1;36m10\u001b[0m.  \u001b[1;36m3421016583897520380\u001b[0m This is some random text of a certain size. I'm not sure if it's a \n",
       "typo or not, but it's a nice little text. I'm not sure if it's a typo or not, but it's a nice\n",
       "little text. I'm not sure if it's a typo or not, but it's a nice little text. I'm not sure if\n",
       "it's a typo or not, but\n"
      ]
     },
     "metadata": {},
     "output_type": "display_data"
    },
    {
     "data": {
      "text/html": [
       "<pre style=\"white-space:pre;overflow-x:auto;line-height:normal;font-family:Menlo,'DejaVu Sans Mono',consolas,'Courier New',monospace\"><span style=\"color: #008080; text-decoration-color: #008080; font-weight: bold\">11</span>.  <span style=\"color: #008080; text-decoration-color: #008080; font-weight: bold\">3421016583897520380</span> This is some random text of a certain size. I'm not sure if it's a \n",
       "typo or not, but it's a nice little text. I'm not sure if it's a typo or not, but it's a nice\n",
       "little text. I'm not sure if it's a typo or not, but it's a nice little text. I'm not sure if\n",
       "it's a typo or not, but\n",
       "</pre>\n"
      ],
      "text/plain": [
       "\u001b[1;36m11\u001b[0m.  \u001b[1;36m3421016583897520380\u001b[0m This is some random text of a certain size. I'm not sure if it's a \n",
       "typo or not, but it's a nice little text. I'm not sure if it's a typo or not, but it's a nice\n",
       "little text. I'm not sure if it's a typo or not, but it's a nice little text. I'm not sure if\n",
       "it's a typo or not, but\n"
      ]
     },
     "metadata": {},
     "output_type": "display_data"
    },
    {
     "data": {
      "text/html": [
       "<pre style=\"white-space:pre;overflow-x:auto;line-height:normal;font-family:Menlo,'DejaVu Sans Mono',consolas,'Courier New',monospace\"><span style=\"color: #008080; text-decoration-color: #008080; font-weight: bold\">12</span>.  <span style=\"color: #008080; text-decoration-color: #008080; font-weight: bold\">3421016583897520380</span> This is some random text of a certain size. I'm not sure if it's a \n",
       "typo or not, but it's a nice little text. I'm not sure if it's a typo or not, but it's a nice\n",
       "little text. I'm not sure if it's a typo or not, but it's a nice little text. I'm not sure if\n",
       "it's a typo or not, but\n",
       "</pre>\n"
      ],
      "text/plain": [
       "\u001b[1;36m12\u001b[0m.  \u001b[1;36m3421016583897520380\u001b[0m This is some random text of a certain size. I'm not sure if it's a \n",
       "typo or not, but it's a nice little text. I'm not sure if it's a typo or not, but it's a nice\n",
       "little text. I'm not sure if it's a typo or not, but it's a nice little text. I'm not sure if\n",
       "it's a typo or not, but\n"
      ]
     },
     "metadata": {},
     "output_type": "display_data"
    },
    {
     "data": {
      "text/html": [
       "<pre style=\"white-space:pre;overflow-x:auto;line-height:normal;font-family:Menlo,'DejaVu Sans Mono',consolas,'Courier New',monospace\"><span style=\"color: #008080; text-decoration-color: #008080; font-weight: bold\">13</span>.  <span style=\"color: #008080; text-decoration-color: #008080; font-weight: bold\">3421016583897520380</span> This is some random text of a certain size. I'm not sure if it's a \n",
       "typo or not, but it's a nice little text. I'm not sure if it's a typo or not, but it's a nice\n",
       "little text. I'm not sure if it's a typo or not, but it's a nice little text. I'm not sure if\n",
       "it's a typo or not, but\n",
       "</pre>\n"
      ],
      "text/plain": [
       "\u001b[1;36m13\u001b[0m.  \u001b[1;36m3421016583897520380\u001b[0m This is some random text of a certain size. I'm not sure if it's a \n",
       "typo or not, but it's a nice little text. I'm not sure if it's a typo or not, but it's a nice\n",
       "little text. I'm not sure if it's a typo or not, but it's a nice little text. I'm not sure if\n",
       "it's a typo or not, but\n"
      ]
     },
     "metadata": {},
     "output_type": "display_data"
    },
    {
     "data": {
      "text/html": [
       "<pre style=\"white-space:pre;overflow-x:auto;line-height:normal;font-family:Menlo,'DejaVu Sans Mono',consolas,'Courier New',monospace\"><span style=\"color: #008080; text-decoration-color: #008080; font-weight: bold\">14</span>.  <span style=\"color: #008080; text-decoration-color: #008080; font-weight: bold\">3421016583897520380</span> This is some random text of a certain size. I'm not sure if it's a \n",
       "typo or not, but it's a nice little text. I'm not sure if it's a typo or not, but it's a nice\n",
       "little text. I'm not sure if it's a typo or not, but it's a nice little text. I'm not sure if\n",
       "it's a typo or not, but\n",
       "</pre>\n"
      ],
      "text/plain": [
       "\u001b[1;36m14\u001b[0m.  \u001b[1;36m3421016583897520380\u001b[0m This is some random text of a certain size. I'm not sure if it's a \n",
       "typo or not, but it's a nice little text. I'm not sure if it's a typo or not, but it's a nice\n",
       "little text. I'm not sure if it's a typo or not, but it's a nice little text. I'm not sure if\n",
       "it's a typo or not, but\n"
      ]
     },
     "metadata": {},
     "output_type": "display_data"
    },
    {
     "data": {
      "text/html": [
       "<pre style=\"white-space:pre;overflow-x:auto;line-height:normal;font-family:Menlo,'DejaVu Sans Mono',consolas,'Courier New',monospace\"><span style=\"color: #008080; text-decoration-color: #008080; font-weight: bold\">15</span>.  <span style=\"color: #008080; text-decoration-color: #008080; font-weight: bold\">3421016583897520380</span> This is some random text of a certain size. I'm not sure if it's a \n",
       "typo or not, but it's a nice little text. I'm not sure if it's a typo or not, but it's a nice\n",
       "little text. I'm not sure if it's a typo or not, but it's a nice little text. I'm not sure if\n",
       "it's a typo or not, but\n",
       "</pre>\n"
      ],
      "text/plain": [
       "\u001b[1;36m15\u001b[0m.  \u001b[1;36m3421016583897520380\u001b[0m This is some random text of a certain size. I'm not sure if it's a \n",
       "typo or not, but it's a nice little text. I'm not sure if it's a typo or not, but it's a nice\n",
       "little text. I'm not sure if it's a typo or not, but it's a nice little text. I'm not sure if\n",
       "it's a typo or not, but\n"
      ]
     },
     "metadata": {},
     "output_type": "display_data"
    },
    {
     "data": {
      "text/html": [
       "<pre style=\"white-space:pre;overflow-x:auto;line-height:normal;font-family:Menlo,'DejaVu Sans Mono',consolas,'Courier New',monospace\"><span style=\"color: #008080; text-decoration-color: #008080; font-weight: bold\">16</span>.  <span style=\"color: #008080; text-decoration-color: #008080; font-weight: bold\">3421016583897520380</span> This is some random text of a certain size. I'm not sure if it's a \n",
       "typo or not, but it's a nice little text. I'm not sure if it's a typo or not, but it's a nice\n",
       "little text. I'm not sure if it's a typo or not, but it's a nice little text. I'm not sure if\n",
       "it's a typo or not, but\n",
       "</pre>\n"
      ],
      "text/plain": [
       "\u001b[1;36m16\u001b[0m.  \u001b[1;36m3421016583897520380\u001b[0m This is some random text of a certain size. I'm not sure if it's a \n",
       "typo or not, but it's a nice little text. I'm not sure if it's a typo or not, but it's a nice\n",
       "little text. I'm not sure if it's a typo or not, but it's a nice little text. I'm not sure if\n",
       "it's a typo or not, but\n"
      ]
     },
     "metadata": {},
     "output_type": "display_data"
    },
    {
     "data": {
      "text/html": [
       "<pre style=\"white-space:pre;overflow-x:auto;line-height:normal;font-family:Menlo,'DejaVu Sans Mono',consolas,'Courier New',monospace\"><span style=\"color: #008080; text-decoration-color: #008080; font-weight: bold\">17</span>.  <span style=\"color: #008080; text-decoration-color: #008080; font-weight: bold\">3421016583897520380</span> This is some random text of a certain size. I'm not sure if it's a \n",
       "typo or not, but it's a nice little text. I'm not sure if it's a typo or not, but it's a nice\n",
       "little text. I'm not sure if it's a typo or not, but it's a nice little text. I'm not sure if\n",
       "it's a typo or not, but\n",
       "</pre>\n"
      ],
      "text/plain": [
       "\u001b[1;36m17\u001b[0m.  \u001b[1;36m3421016583897520380\u001b[0m This is some random text of a certain size. I'm not sure if it's a \n",
       "typo or not, but it's a nice little text. I'm not sure if it's a typo or not, but it's a nice\n",
       "little text. I'm not sure if it's a typo or not, but it's a nice little text. I'm not sure if\n",
       "it's a typo or not, but\n"
      ]
     },
     "metadata": {},
     "output_type": "display_data"
    },
    {
     "data": {
      "text/html": [
       "<pre style=\"white-space:pre;overflow-x:auto;line-height:normal;font-family:Menlo,'DejaVu Sans Mono',consolas,'Courier New',monospace\"><span style=\"color: #008080; text-decoration-color: #008080; font-weight: bold\">18</span>.  <span style=\"color: #008080; text-decoration-color: #008080; font-weight: bold\">3421016583897520380</span> This is some random text of a certain size. I'm not sure if it's a \n",
       "typo or not, but it's a nice little text. I'm not sure if it's a typo or not, but it's a nice\n",
       "little text. I'm not sure if it's a typo or not, but it's a nice little text. I'm not sure if\n",
       "it's a typo or not, but\n",
       "</pre>\n"
      ],
      "text/plain": [
       "\u001b[1;36m18\u001b[0m.  \u001b[1;36m3421016583897520380\u001b[0m This is some random text of a certain size. I'm not sure if it's a \n",
       "typo or not, but it's a nice little text. I'm not sure if it's a typo or not, but it's a nice\n",
       "little text. I'm not sure if it's a typo or not, but it's a nice little text. I'm not sure if\n",
       "it's a typo or not, but\n"
      ]
     },
     "metadata": {},
     "output_type": "display_data"
    },
    {
     "data": {
      "text/html": [
       "<pre style=\"white-space:pre;overflow-x:auto;line-height:normal;font-family:Menlo,'DejaVu Sans Mono',consolas,'Courier New',monospace\"><span style=\"color: #008080; text-decoration-color: #008080; font-weight: bold\">19</span>.  <span style=\"color: #008080; text-decoration-color: #008080; font-weight: bold\">3421016583897520380</span> This is some random text of a certain size. I'm not sure if it's a \n",
       "typo or not, but it's a nice little text. I'm not sure if it's a typo or not, but it's a nice\n",
       "little text. I'm not sure if it's a typo or not, but it's a nice little text. I'm not sure if\n",
       "it's a typo or not, but\n",
       "</pre>\n"
      ],
      "text/plain": [
       "\u001b[1;36m19\u001b[0m.  \u001b[1;36m3421016583897520380\u001b[0m This is some random text of a certain size. I'm not sure if it's a \n",
       "typo or not, but it's a nice little text. I'm not sure if it's a typo or not, but it's a nice\n",
       "little text. I'm not sure if it's a typo or not, but it's a nice little text. I'm not sure if\n",
       "it's a typo or not, but\n"
      ]
     },
     "metadata": {},
     "output_type": "display_data"
    },
    {
     "data": {
      "text/html": [
       "<pre style=\"white-space:pre;overflow-x:auto;line-height:normal;font-family:Menlo,'DejaVu Sans Mono',consolas,'Courier New',monospace\"><span style=\"color: #008080; text-decoration-color: #008080; font-weight: bold\">20</span>.  <span style=\"color: #008080; text-decoration-color: #008080; font-weight: bold\">3421016583897520380</span> This is some random text of a certain size. I'm not sure if it's a \n",
       "typo or not, but it's a nice little text. I'm not sure if it's a typo or not, but it's a nice\n",
       "little text. I'm not sure if it's a typo or not, but it's a nice little text. I'm not sure if\n",
       "it's a typo or not, but\n",
       "</pre>\n"
      ],
      "text/plain": [
       "\u001b[1;36m20\u001b[0m.  \u001b[1;36m3421016583897520380\u001b[0m This is some random text of a certain size. I'm not sure if it's a \n",
       "typo or not, but it's a nice little text. I'm not sure if it's a typo or not, but it's a nice\n",
       "little text. I'm not sure if it's a typo or not, but it's a nice little text. I'm not sure if\n",
       "it's a typo or not, but\n"
      ]
     },
     "metadata": {},
     "output_type": "display_data"
    },
    {
     "data": {
      "text/html": [
       "<pre style=\"white-space:pre;overflow-x:auto;line-height:normal;font-family:Menlo,'DejaVu Sans Mono',consolas,'Courier New',monospace\"><span style=\"color: #008080; text-decoration-color: #008080; font-weight: bold\">21</span>.  <span style=\"color: #008080; text-decoration-color: #008080; font-weight: bold\">3421016583897520380</span> This is some random text of a certain size. I'm not sure if it's a \n",
       "typo or not, but it's a nice little text. I'm not sure if it's a typo or not, but it's a nice\n",
       "little text. I'm not sure if it's a typo or not, but it's a nice little text. I'm not sure if\n",
       "it's a typo or not, but\n",
       "</pre>\n"
      ],
      "text/plain": [
       "\u001b[1;36m21\u001b[0m.  \u001b[1;36m3421016583897520380\u001b[0m This is some random text of a certain size. I'm not sure if it's a \n",
       "typo or not, but it's a nice little text. I'm not sure if it's a typo or not, but it's a nice\n",
       "little text. I'm not sure if it's a typo or not, but it's a nice little text. I'm not sure if\n",
       "it's a typo or not, but\n"
      ]
     },
     "metadata": {},
     "output_type": "display_data"
    },
    {
     "data": {
      "text/html": [
       "<pre style=\"white-space:pre;overflow-x:auto;line-height:normal;font-family:Menlo,'DejaVu Sans Mono',consolas,'Courier New',monospace\"><span style=\"color: #008080; text-decoration-color: #008080; font-weight: bold\">22</span>.  <span style=\"color: #008080; text-decoration-color: #008080; font-weight: bold\">3421016583897520380</span> This is some random text of a certain size. I'm not sure if it's a \n",
       "typo or not, but it's a nice little text. I'm not sure if it's a typo or not, but it's a nice\n",
       "little text. I'm not sure if it's a typo or not, but it's a nice little text. I'm not sure if\n",
       "it's a typo or not, but\n",
       "</pre>\n"
      ],
      "text/plain": [
       "\u001b[1;36m22\u001b[0m.  \u001b[1;36m3421016583897520380\u001b[0m This is some random text of a certain size. I'm not sure if it's a \n",
       "typo or not, but it's a nice little text. I'm not sure if it's a typo or not, but it's a nice\n",
       "little text. I'm not sure if it's a typo or not, but it's a nice little text. I'm not sure if\n",
       "it's a typo or not, but\n"
      ]
     },
     "metadata": {},
     "output_type": "display_data"
    },
    {
     "data": {
      "text/html": [
       "<pre style=\"white-space:pre;overflow-x:auto;line-height:normal;font-family:Menlo,'DejaVu Sans Mono',consolas,'Courier New',monospace\"><span style=\"color: #008080; text-decoration-color: #008080; font-weight: bold\">23</span>.  <span style=\"color: #008080; text-decoration-color: #008080; font-weight: bold\">3421016583897520380</span> This is some random text of a certain size. I'm not sure if it's a \n",
       "typo or not, but it's a nice little text. I'm not sure if it's a typo or not, but it's a nice\n",
       "little text. I'm not sure if it's a typo or not, but it's a nice little text. I'm not sure if\n",
       "it's a typo or not, but\n",
       "</pre>\n"
      ],
      "text/plain": [
       "\u001b[1;36m23\u001b[0m.  \u001b[1;36m3421016583897520380\u001b[0m This is some random text of a certain size. I'm not sure if it's a \n",
       "typo or not, but it's a nice little text. I'm not sure if it's a typo or not, but it's a nice\n",
       "little text. I'm not sure if it's a typo or not, but it's a nice little text. I'm not sure if\n",
       "it's a typo or not, but\n"
      ]
     },
     "metadata": {},
     "output_type": "display_data"
    },
    {
     "data": {
      "text/html": [
       "<pre style=\"white-space:pre;overflow-x:auto;line-height:normal;font-family:Menlo,'DejaVu Sans Mono',consolas,'Courier New',monospace\"><span style=\"color: #008080; text-decoration-color: #008080; font-weight: bold\">24</span>.  <span style=\"color: #008080; text-decoration-color: #008080; font-weight: bold\">3421016583897520380</span> This is some random text of a certain size. I'm not sure if it's a \n",
       "typo or not, but it's a nice little text. I'm not sure if it's a typo or not, but it's a nice\n",
       "little text. I'm not sure if it's a typo or not, but it's a nice little text. I'm not sure if\n",
       "it's a typo or not, but\n",
       "</pre>\n"
      ],
      "text/plain": [
       "\u001b[1;36m24\u001b[0m.  \u001b[1;36m3421016583897520380\u001b[0m This is some random text of a certain size. I'm not sure if it's a \n",
       "typo or not, but it's a nice little text. I'm not sure if it's a typo or not, but it's a nice\n",
       "little text. I'm not sure if it's a typo or not, but it's a nice little text. I'm not sure if\n",
       "it's a typo or not, but\n"
      ]
     },
     "metadata": {},
     "output_type": "display_data"
    },
    {
     "data": {
      "text/html": [
       "<pre style=\"white-space:pre;overflow-x:auto;line-height:normal;font-family:Menlo,'DejaVu Sans Mono',consolas,'Courier New',monospace\"><span style=\"color: #008080; text-decoration-color: #008080; font-weight: bold\">25</span>.  <span style=\"color: #008080; text-decoration-color: #008080; font-weight: bold\">3421016583897520380</span> This is some random text of a certain size. I'm not sure if it's a \n",
       "typo or not, but it's a nice little text. I'm not sure if it's a typo or not, but it's a nice\n",
       "little text. I'm not sure if it's a typo or not, but it's a nice little text. I'm not sure if\n",
       "it's a typo or not, but\n",
       "</pre>\n"
      ],
      "text/plain": [
       "\u001b[1;36m25\u001b[0m.  \u001b[1;36m3421016583897520380\u001b[0m This is some random text of a certain size. I'm not sure if it's a \n",
       "typo or not, but it's a nice little text. I'm not sure if it's a typo or not, but it's a nice\n",
       "little text. I'm not sure if it's a typo or not, but it's a nice little text. I'm not sure if\n",
       "it's a typo or not, but\n"
      ]
     },
     "metadata": {},
     "output_type": "display_data"
    },
    {
     "data": {
      "text/html": [
       "<pre style=\"white-space:pre;overflow-x:auto;line-height:normal;font-family:Menlo,'DejaVu Sans Mono',consolas,'Courier New',monospace\"><span style=\"color: #008080; text-decoration-color: #008080; font-weight: bold\">26</span>.  <span style=\"color: #008080; text-decoration-color: #008080; font-weight: bold\">3421016583897520380</span> This is some random text of a certain size. I'm not sure if it's a \n",
       "typo or not, but it's a nice little text. I'm not sure if it's a typo or not, but it's a nice\n",
       "little text. I'm not sure if it's a typo or not, but it's a nice little text. I'm not sure if\n",
       "it's a typo or not, but\n",
       "</pre>\n"
      ],
      "text/plain": [
       "\u001b[1;36m26\u001b[0m.  \u001b[1;36m3421016583897520380\u001b[0m This is some random text of a certain size. I'm not sure if it's a \n",
       "typo or not, but it's a nice little text. I'm not sure if it's a typo or not, but it's a nice\n",
       "little text. I'm not sure if it's a typo or not, but it's a nice little text. I'm not sure if\n",
       "it's a typo or not, but\n"
      ]
     },
     "metadata": {},
     "output_type": "display_data"
    },
    {
     "data": {
      "text/html": [
       "<pre style=\"white-space:pre;overflow-x:auto;line-height:normal;font-family:Menlo,'DejaVu Sans Mono',consolas,'Courier New',monospace\"><span style=\"color: #008080; text-decoration-color: #008080; font-weight: bold\">27</span>.  <span style=\"color: #008080; text-decoration-color: #008080; font-weight: bold\">3421016583897520380</span> This is some random text of a certain size. I'm not sure if it's a \n",
       "typo or not, but it's a nice little text. I'm not sure if it's a typo or not, but it's a nice\n",
       "little text. I'm not sure if it's a typo or not, but it's a nice little text. I'm not sure if\n",
       "it's a typo or not, but\n",
       "</pre>\n"
      ],
      "text/plain": [
       "\u001b[1;36m27\u001b[0m.  \u001b[1;36m3421016583897520380\u001b[0m This is some random text of a certain size. I'm not sure if it's a \n",
       "typo or not, but it's a nice little text. I'm not sure if it's a typo or not, but it's a nice\n",
       "little text. I'm not sure if it's a typo or not, but it's a nice little text. I'm not sure if\n",
       "it's a typo or not, but\n"
      ]
     },
     "metadata": {},
     "output_type": "display_data"
    },
    {
     "data": {
      "text/html": [
       "<pre style=\"white-space:pre;overflow-x:auto;line-height:normal;font-family:Menlo,'DejaVu Sans Mono',consolas,'Courier New',monospace\"><span style=\"color: #008080; text-decoration-color: #008080; font-weight: bold\">28</span>.  <span style=\"color: #008080; text-decoration-color: #008080; font-weight: bold\">3421016583897520380</span> This is some random text of a certain size. I'm not sure if it's a \n",
       "typo or not, but it's a nice little text. I'm not sure if it's a typo or not, but it's a nice\n",
       "little text. I'm not sure if it's a typo or not, but it's a nice little text. I'm not sure if\n",
       "it's a typo or not, but\n",
       "</pre>\n"
      ],
      "text/plain": [
       "\u001b[1;36m28\u001b[0m.  \u001b[1;36m3421016583897520380\u001b[0m This is some random text of a certain size. I'm not sure if it's a \n",
       "typo or not, but it's a nice little text. I'm not sure if it's a typo or not, but it's a nice\n",
       "little text. I'm not sure if it's a typo or not, but it's a nice little text. I'm not sure if\n",
       "it's a typo or not, but\n"
      ]
     },
     "metadata": {},
     "output_type": "display_data"
    },
    {
     "data": {
      "text/html": [
       "<pre style=\"white-space:pre;overflow-x:auto;line-height:normal;font-family:Menlo,'DejaVu Sans Mono',consolas,'Courier New',monospace\"><span style=\"color: #008080; text-decoration-color: #008080; font-weight: bold\">29</span>.  <span style=\"color: #008080; text-decoration-color: #008080; font-weight: bold\">3421016583897520380</span> This is some random text of a certain size. I'm not sure if it's a \n",
       "typo or not, but it's a nice little text. I'm not sure if it's a typo or not, but it's a nice\n",
       "little text. I'm not sure if it's a typo or not, but it's a nice little text. I'm not sure if\n",
       "it's a typo or not, but\n",
       "</pre>\n"
      ],
      "text/plain": [
       "\u001b[1;36m29\u001b[0m.  \u001b[1;36m3421016583897520380\u001b[0m This is some random text of a certain size. I'm not sure if it's a \n",
       "typo or not, but it's a nice little text. I'm not sure if it's a typo or not, but it's a nice\n",
       "little text. I'm not sure if it's a typo or not, but it's a nice little text. I'm not sure if\n",
       "it's a typo or not, but\n"
      ]
     },
     "metadata": {},
     "output_type": "display_data"
    },
    {
     "data": {
      "text/html": [
       "<pre style=\"white-space:pre;overflow-x:auto;line-height:normal;font-family:Menlo,'DejaVu Sans Mono',consolas,'Courier New',monospace\"><span style=\"color: #008080; text-decoration-color: #008080; font-weight: bold\">30</span>.  <span style=\"color: #008080; text-decoration-color: #008080; font-weight: bold\">3421016583897520380</span> This is some random text of a certain size. I'm not sure if it's a \n",
       "typo or not, but it's a nice little text. I'm not sure if it's a typo or not, but it's a nice\n",
       "little text. I'm not sure if it's a typo or not, but it's a nice little text. I'm not sure if\n",
       "it's a typo or not, but\n",
       "</pre>\n"
      ],
      "text/plain": [
       "\u001b[1;36m30\u001b[0m.  \u001b[1;36m3421016583897520380\u001b[0m This is some random text of a certain size. I'm not sure if it's a \n",
       "typo or not, but it's a nice little text. I'm not sure if it's a typo or not, but it's a nice\n",
       "little text. I'm not sure if it's a typo or not, but it's a nice little text. I'm not sure if\n",
       "it's a typo or not, but\n"
      ]
     },
     "metadata": {},
     "output_type": "display_data"
    },
    {
     "data": {
      "text/html": [
       "<pre style=\"white-space:pre;overflow-x:auto;line-height:normal;font-family:Menlo,'DejaVu Sans Mono',consolas,'Courier New',monospace\"><span style=\"color: #008080; text-decoration-color: #008080; font-weight: bold\">31</span>.  <span style=\"color: #008080; text-decoration-color: #008080; font-weight: bold\">3421016583897520380</span> This is some random text of a certain size. I'm not sure if it's a \n",
       "typo or not, but it's a nice little text. I'm not sure if it's a typo or not, but it's a nice\n",
       "little text. I'm not sure if it's a typo or not, but it's a nice little text. I'm not sure if\n",
       "it's a typo or not, but\n",
       "</pre>\n"
      ],
      "text/plain": [
       "\u001b[1;36m31\u001b[0m.  \u001b[1;36m3421016583897520380\u001b[0m This is some random text of a certain size. I'm not sure if it's a \n",
       "typo or not, but it's a nice little text. I'm not sure if it's a typo or not, but it's a nice\n",
       "little text. I'm not sure if it's a typo or not, but it's a nice little text. I'm not sure if\n",
       "it's a typo or not, but\n"
      ]
     },
     "metadata": {},
     "output_type": "display_data"
    }
   ],
   "source": [
    "for i, output in enumerate(outputs):\n",
    "    preprocessed_str = re.sub(r\"\\s+\", \" \", tokenizer.decode(output))\n",
    "    rich.print(f\"{i}. \", hash(preprocessed_str), preprocessed_str)"
   ]
  },
  {
   "cell_type": "code",
   "execution_count": null,
   "metadata": {},
   "outputs": [],
   "source": []
  },
  {
   "cell_type": "code",
   "execution_count": null,
   "metadata": {},
   "outputs": [],
   "source": []
  }
 ],
 "metadata": {
  "kernelspec": {
   "display_name": "Python 3.9.5 64-bit",
   "language": "python",
   "name": "python3"
  },
  "language_info": {
   "codemirror_mode": {
    "name": "ipython",
    "version": 3
   },
   "file_extension": ".py",
   "mimetype": "text/x-python",
   "name": "python",
   "nbconvert_exporter": "python",
   "pygments_lexer": "ipython3",
   "version": "3.9.5"
  },
  "orig_nbformat": 4,
  "vscode": {
   "interpreter": {
    "hash": "46daadc73974f0324ecc1592e5131128499dc93a3a1cbadf14a4773500af3ac4"
   }
  }
 },
 "nbformat": 4,
 "nbformat_minor": 2
}
