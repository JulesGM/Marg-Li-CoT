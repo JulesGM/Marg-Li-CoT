{
 "cells": [
  {
   "cell_type": "markdown",
   "metadata": {},
   "source": [
    "### Goal:\n",
    "Test the scaling factor of transformers of different sizes of model.forward wrt the number of tokens in the input."
   ]
  },
  {
   "cell_type": "code",
   "execution_count": 1,
   "metadata": {},
   "outputs": [
    {
     "name": "stdout",
     "output_type": "stream",
     "text": [
      "Mon Sep 26 18:43:49 2022       \n",
      "+-----------------------------------------------------------------------------+\n",
      "| NVIDIA-SMI 470.141.03   Driver Version: 470.141.03   CUDA Version: 11.4     |\n",
      "|-------------------------------+----------------------+----------------------+\n",
      "| GPU  Name        Persistence-M| Bus-Id        Disp.A | Volatile Uncorr. ECC |\n",
      "| Fan  Temp  Perf  Pwr:Usage/Cap|         Memory-Usage | GPU-Util  Compute M. |\n",
      "|                               |                      |               MIG M. |\n",
      "|===============================+======================+======================|\n",
      "|   0  NVIDIA A100-SXM...  On   | 00000000:87:00.0 Off |                    0 |\n",
      "| N/A   39C    P0    66W / 400W |      0MiB / 81251MiB |      0%      Default |\n",
      "|                               |                      |             Disabled |\n",
      "+-------------------------------+----------------------+----------------------+\n",
      "|   1  NVIDIA A100-SXM...  On   | 00000000:90:00.0 Off |                    0 |\n",
      "| N/A   38C    P0    68W / 400W |      0MiB / 81251MiB |      0%      Default |\n",
      "|                               |                      |             Disabled |\n",
      "+-------------------------------+----------------------+----------------------+\n",
      "|   2  NVIDIA A100-SXM...  On   | 00000000:B7:00.0 Off |                    0 |\n",
      "| N/A   38C    P0    67W / 400W |      0MiB / 81251MiB |      0%      Default |\n",
      "|                               |                      |             Disabled |\n",
      "+-------------------------------+----------------------+----------------------+\n",
      "|   3  NVIDIA A100-SXM...  On   | 00000000:BD:00.0 Off |                    0 |\n",
      "| N/A   39C    P0    65W / 400W |      0MiB / 81251MiB |      0%      Default |\n",
      "|                               |                      |             Disabled |\n",
      "+-------------------------------+----------------------+----------------------+\n",
      "                                                                               \n",
      "+-----------------------------------------------------------------------------+\n",
      "| Processes:                                                                  |\n",
      "|  GPU   GI   CI        PID   Type   Process name                  GPU Memory |\n",
      "|        ID   ID                                                   Usage      |\n",
      "|=============================================================================|\n",
      "|  No running processes found                                                 |\n",
      "+-----------------------------------------------------------------------------+\n"
     ]
    }
   ],
   "source": [
    "!nvidia-smi"
   ]
  },
  {
   "cell_type": "code",
   "execution_count": 2,
   "metadata": {},
   "outputs": [],
   "source": [
    "import collections\n",
    "\n",
    "import matplotlib.pyplot as plt\n",
    "import numpy\n",
    "import pandas\n",
    "import rich\n",
    "import time\n",
    "import torch\n",
    "import transformers\n",
    "from tqdm import tqdm"
   ]
  },
  {
   "cell_type": "code",
   "execution_count": 3,
   "metadata": {},
   "outputs": [
    {
     "name": "stdout",
     "output_type": "stream",
     "text": [
      "[4, 8, 16, 32, 128, 256, 384, 512, 640, 768, 896, 1024, 1152, 1280, 1408, 1536, 1664, 1792, 1920, 2048, 2176, 2304, 2432, 2560, 2688, 2816, 2944]\n"
     ]
    }
   ],
   "source": [
    "# seq_len = [2 ** (i // 2) if i % 2 == 0 else 2 ** (i // 2) + 2 ** (i // 2 - 1) for i in range(8, 24)]\n",
    "seq_len = [4, 8, 16, 32, 128] + list(range(256, 3072, 128))\n",
    "print(seq_len)"
   ]
  },
  {
   "cell_type": "code",
   "execution_count": 4,
   "metadata": {},
   "outputs": [],
   "source": [
    "tokenizer = transformers.AutoTokenizer.from_pretrained(\"gpt2\")\n",
    "batch_sizes = {\n",
    "    \"distilgpt2\": 8,\n",
    "    \"gpt2\": 4,\n",
    "    \"gpt2-medium\": 1,\n",
    "}\n",
    "\n",
    "models = {\n",
    "    name: transformers.GPT2LMHeadModel(\n",
    "        transformers.GPT2Config.from_pretrained(\n",
    "            name, max_position_embeddings=max(seq_len))) \n",
    "    for name in batch_sizes\n",
    "}"
   ]
  },
  {
   "cell_type": "code",
   "execution_count": 5,
   "metadata": {},
   "outputs": [
    {
     "name": "stderr",
     "output_type": "stream",
     "text": [
      "  0%|          | 0/3 [00:00<?, ?it/s]"
     ]
    },
    {
     "data": {
      "text/html": [
       "<pre style=\"white-space:pre;overflow-x:auto;line-height:normal;font-family:Menlo,'DejaVu Sans Mono',consolas,'Courier New',monospace\">distilgpt2\n",
       "</pre>\n"
      ],
      "text/plain": [
       "distilgpt2\n"
      ]
     },
     "metadata": {},
     "output_type": "display_data"
    },
    {
     "name": "stderr",
     "output_type": "stream",
     "text": [
      "100%|██████████| 27/27 [00:08<00:00,  3.32it/s]\n",
      "100%|██████████| 27/27 [00:04<00:00,  5.63it/s]\n",
      " 33%|███▎      | 1/3 [00:17<00:34, 17.40s/it]"
     ]
    },
    {
     "data": {
      "text/html": [
       "<pre style=\"white-space:pre;overflow-x:auto;line-height:normal;font-family:Menlo,'DejaVu Sans Mono',consolas,'Courier New',monospace\">gpt2\n",
       "</pre>\n"
      ],
      "text/plain": [
       "gpt2\n"
      ]
     },
     "metadata": {},
     "output_type": "display_data"
    },
    {
     "name": "stderr",
     "output_type": "stream",
     "text": [
      "100%|██████████| 27/27 [00:04<00:00,  6.34it/s]\n",
      "100%|██████████| 27/27 [00:04<00:00,  6.36it/s]\n",
      " 67%|██████▋   | 2/3 [00:26<00:12, 12.28s/it]"
     ]
    },
    {
     "data": {
      "text/html": [
       "<pre style=\"white-space:pre;overflow-x:auto;line-height:normal;font-family:Menlo,'DejaVu Sans Mono',consolas,'Courier New',monospace\">gpt2-medium\n",
       "</pre>\n"
      ],
      "text/plain": [
       "gpt2-medium\n"
      ]
     },
     "metadata": {},
     "output_type": "display_data"
    },
    {
     "name": "stderr",
     "output_type": "stream",
     "text": [
      "100%|██████████| 27/27 [00:03<00:00,  8.52it/s]\n",
      "100%|██████████| 27/27 [00:03<00:00,  8.62it/s]\n",
      "100%|██████████| 3/3 [00:32<00:00, 10.96s/it]\n"
     ]
    }
   ],
   "source": [
    "durations = collections.defaultdict(list)\n",
    "for name, model in tqdm(models.items()):\n",
    "    rich.print(name)\n",
    "    model.cuda()    \n",
    "    \n",
    "    # Warmup\n",
    "    for len_ in tqdm(seq_len):\n",
    "        input_ids = torch.randint(0, tokenizer.vocab_size, (batch_sizes[name], len_)).cuda()\n",
    "        torch.cuda.synchronize()\n",
    "        start = time.perf_counter()\n",
    "        model(input_ids)\n",
    "        torch.cuda.synchronize()\n",
    "        end = time.perf_counter()\n",
    "\n",
    "    for len_ in tqdm(seq_len):\n",
    "        input_ids = torch.randint(0, tokenizer.vocab_size, (batch_sizes[name], len_)).cuda()\n",
    "        torch.cuda.synchronize()\n",
    "        start = time.perf_counter()\n",
    "        model(input_ids)\n",
    "        torch.cuda.synchronize()\n",
    "        end = time.perf_counter()\n",
    "        durations[name].append(end - start)\n",
    "        \n",
    "    del model"
   ]
  },
  {
   "cell_type": "code",
   "execution_count": 6,
   "metadata": {},
   "outputs": [
    {
     "data": {
      "image/png": "[encoded data removed]",
      "text/plain": [
       "<Figure size 432x288 with 1 Axes>"
      ]
     },
     "metadata": {
      "needs_background": "light"
     },
     "output_type": "display_data"
    }
   ],
   "source": [
    "for k, v in durations.items():\n",
    "    plt.plot(seq_len, v, label=k, marker=\"o\", markersize=3)\n",
    "    \n",
    "plt.legend()\n",
    "plt.xlabel(\"Sequence Length\")\n",
    "plt.ylabel(\"Time (s)\")\n",
    "plt.show()"
   ]
  },
  {
   "cell_type": "code",
   "execution_count": null,
   "metadata": {},
   "outputs": [],
   "source": []
  }
 ],
 "metadata": {
  "kernelspec": {
   "display_name": "Python 3.9.5 64-bit",
   "language": "python",
   "name": "python3"
  },
  "language_info": {
   "codemirror_mode": {
    "name": "ipython",
    "version": 3
   },
   "file_extension": ".py",
   "mimetype": "text/x-python",
   "name": "python",
   "nbconvert_exporter": "python",
   "pygments_lexer": "ipython3",
   "version": "3.9.5"
  },
  "orig_nbformat": 4,
  "vscode": {
   "interpreter": {
    "hash": "46daadc73974f0324ecc1592e5131128499dc93a3a1cbadf14a4773500af3ac4"
   }
  }
 },
 "nbformat": 4,
 "nbformat_minor": 2
}
