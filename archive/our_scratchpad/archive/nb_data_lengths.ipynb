{
 "cells": [
  {
   "cell_type": "code",
   "execution_count": 1,
   "metadata": {},
   "outputs": [],
   "source": [
    "import collections\n",
    "from pathlib import Path\n",
    "\n",
    "import h5py\n",
    "import numpy as np\n",
    "from tqdm.notebook import tqdm\n",
    "import transformers"
   ]
  },
  {
   "cell_type": "code",
   "execution_count": 2,
   "metadata": {},
   "outputs": [],
   "source": [
    "tokenizer = transformers.AutoTokenizer.from_pretrained(\"distilgpt2\")"
   ]
  },
  {
   "cell_type": "code",
   "execution_count": 3,
   "metadata": {},
   "outputs": [],
   "source": [
    "data_root = Path(\"../data/basic_arithmetic/80_3_6_200000/\")\n",
    "\n",
    "with h5py.File(data_root / \"training.h5\") as fin:\n",
    "    training = {k: fin[k][:] for k, v in fin.items()}\n",
    "\n",
    "with h5py.File(data_root / \"validation.h5\") as fin:\n",
    "    validation = {k: fin[k][:] for k, v in fin.items()}"
   ]
  },
  {
   "cell_type": "code",
   "execution_count": 4,
   "metadata": {},
   "outputs": [
    {
     "name": "stdout",
     "output_type": "stream",
     "text": [
      "dict_keys(['input', 'input_and_scratchpad_with_value', 'input_and_scratchpad_with_value_attention_mask', 'input_and_scratchpad_with_value_text', 'input_attention_mask', 'input_text', 'scratchpad', 'scratchpad_attention_mask', 'scratchpad_text', 'scratchpad_with_value', 'scratchpad_with_value_attention_mask', 'scratchpad_with_value_text', 'value', 'value_attention_mask', 'value_text'])\n"
     ]
    }
   ],
   "source": [
    "print(training.keys())"
   ]
  },
  {
   "cell_type": "code",
   "execution_count": 5,
   "metadata": {},
   "outputs": [
    {
     "name": "stdout",
     "output_type": "stream",
     "text": [
      "(499900, 46)\n",
      "(499603, 47)\n"
     ]
    }
   ],
   "source": [
    "tr_labels = training[\"scratchpad_with_value\"]\n",
    "va_labels = validation[\"scratchpad_with_value\"]\n",
    "tr_input_ids = training[\"input\"]\n",
    "print(tr_input_ids.shape)\n",
    "va_input_ids = validation[\"input\"]\n",
    "print(va_input_ids.shape)"
   ]
  },
  {
   "cell_type": "code",
   "execution_count": 6,
   "metadata": {},
   "outputs": [],
   "source": [
    "def average_length_labels(labels):\n",
    "    return np.sum((labels != -100) & (labels != tokenizer.eos_token_id), axis=1).mean()\n",
    "\n",
    "def compute_level(input_ids):\n",
    "    decoded = [tokenizer.decode(x) for x in tqdm(input_ids, desc=\"decoding\")]\n",
    "    max_levels = []\n",
    "    for decoded_ in tqdm(decoded, desc=\"counting levels\"):\n",
    "        max_level = 0\n",
    "        level = 0\n",
    "        for c in decoded_:\n",
    "            if c == \"(\":\n",
    "                level += 1\n",
    "                max_level = max(max_level, level)\n",
    "            elif c == \")\":\n",
    "                level -= 1\n",
    "        max_levels.append(max_level)\n",
    "\n",
    "    per_level = collections.defaultdict(list)\n",
    "    for level, ids in zip(max_levels, input_ids):\n",
    "        per_level[level].append(ids)\n",
    "    \n",
    "    for level, ids in per_level.items():\n",
    "        per_level[level] = np.array(ids)\n",
    "\n",
    "    lengths_per_level = {k: average_length_labels(per_level[k]) for k in sorted(per_level)}\n",
    "    sample_qty_per_level = dict(sorted(collections.Counter(max_levels).items(), key=lambda x: x[0]))\n",
    "\n",
    "    print(\"Sorting.\")\n",
    "    return sample_qty_per_level, lengths_per_level"
   ]
  },
  {
   "cell_type": "code",
   "execution_count": 7,
   "metadata": {},
   "outputs": [
    {
     "name": "stdout",
     "output_type": "stream",
     "text": [
      "36.834062812562514\n",
      "36.820753678420665\n"
     ]
    }
   ],
   "source": [
    "print(average_length_labels(tr_labels))\n",
    "print(average_length_labels(va_labels))"
   ]
  },
  {
   "cell_type": "code",
   "execution_count": 8,
   "metadata": {},
   "outputs": [
    {
     "data": {
      "application/vnd.jupyter.widget-view+json": {
       "model_id": "6266a7d6e8c047d68a33bcb05da26cf2",
       "version_major": 2,
       "version_minor": 0
      },
      "text/plain": [
       "decoding:   0%|          | 0/499900 [00:00<?, ?it/s]"
      ]
     },
     "metadata": {},
     "output_type": "display_data"
    },
    {
     "data": {
      "application/vnd.jupyter.widget-view+json": {
       "model_id": "50362e42674e476a95bb66216bfb47f3",
       "version_major": 2,
       "version_minor": 0
      },
      "text/plain": [
       "counting levels:   0%|          | 0/499900 [00:00<?, ?it/s]"
      ]
     },
     "metadata": {},
     "output_type": "display_data"
    }
   ],
   "source": [
    "sample_qty_per_level_tr, lengths_per_level_tr = compute_level(tr_input_ids)\n",
    "sample_qty_per_level_va, lengths_per_level_va = compute_level(va_input_ids)\n",
    "print(f\"{sample_qty_per_level_tr = }\")\n",
    "print(f\"{sample_qty_per_level_va = }\")\n",
    "print(f\"{lengths_per_level_tr = }\")\n",
    "print(f\"{lengths_per_level_va = }\")"
   ]
  },
  {
   "cell_type": "code",
   "execution_count": null,
   "metadata": {},
   "outputs": [],
   "source": []
  }
 ],
 "metadata": {
  "kernelspec": {
   "display_name": "Python 3.9.5 64-bit",
   "language": "python",
   "name": "python3"
  },
  "language_info": {
   "codemirror_mode": {
    "name": "ipython",
    "version": 3
   },
   "file_extension": ".py",
   "mimetype": "text/x-python",
   "name": "python",
   "nbconvert_exporter": "python",
   "pygments_lexer": "ipython3",
   "version": "3.9.5"
  },
  "orig_nbformat": 4,
  "vscode": {
   "interpreter": {
    "hash": "46daadc73974f0324ecc1592e5131128499dc93a3a1cbadf14a4773500af3ac4"
   }
  }
 },
 "nbformat": 4,
 "nbformat_minor": 2
}
