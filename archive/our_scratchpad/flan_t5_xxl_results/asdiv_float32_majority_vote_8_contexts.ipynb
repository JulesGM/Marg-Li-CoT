{
 "cells": [
  {
   "cell_type": "code",
   "execution_count": null,
   "metadata": {},
   "outputs": [],
   "source": [
    "\"\"\"\n",
    "A few decisions.\n",
    "\n",
    "###########################################################\n",
    "# Parsing the answer:\n",
    "###########################################################\n",
    "We take the answer by taking the last integer in the answer string.\n",
    "If we don't find an integer, we call word2num on the answer string, to maybe get a word form number.\n",
    "If we don't find a number, in the majority vote case, we ignore that generation in the vote.\n",
    "If none of the generations have a number, we return the default value.\n",
    "Similarily, in the case without majority vote, if we don't find a number, we return the default value.\n",
    "\n",
    "It would be fair to say that we should maybe not use the default value, and just assign the answer as incorrect.\n",
    "We may do that eventually. It would be pretty straightfoward, just change the default value to a stopper object,\n",
    "the comparison with the reference answer would always be false.\n",
    "\n",
    "Floating point numbers:\n",
    "We currently round to the closest integer.\n",
    "\n",
    "\n",
    "###########################################################\n",
    "# Picking questions in the dataset:\n",
    "###########################################################\n",
    "More than 85% of the questions in the ASDiv dataset have a single, integer answer.\n",
    "We only consider those questions, as they make the task of parsing the answer easier.\n",
    "\n",
    "\"\"\"\n",
    "\n",
    "\n",
    "import collections\n",
    "\n",
    "import importlib\n",
    "import itertools\n",
    "import math\n",
    "import more_itertools\n",
    "from pathlib import Path\n",
    "import random\n",
    "import re\n",
    "import time\n",
    "import xml\n",
    "\n",
    "import datasets\n",
    "import matplotlib.pyplot as plt\n",
    "import numpy as np\n",
    "import rich\n",
    "import rich.table\n",
    "from text2digits import text2digits\n",
    "import torch\n",
    "from tqdm import tqdm\n",
    "import transformers\n",
    "import wget\n",
    "\n",
    "import general_utils as utils\n",
    "\n",
    "import asdiv_dataset\n",
    "\n",
    "# importlib.reload(text2digits)"
   ]
  },
  {
   "cell_type": "code",
   "execution_count": null,
   "metadata": {},
   "outputs": [],
   "source": [
    "# dataset_train = datasets.load_dataset(\"gsm8k\", \"main\", split=\"train\")\n",
    "# dataset_test  = datasets.load_dataset(\"gsm8k\", \"main\", split=\"test\")\n",
    "\n",
    "# def clean_text(sample):\n",
    "#     return {k: v.replace(\"<<\", \"(\").replace(\">>\", \")\").strip() for k, v in sample.items()}\n",
    "\n",
    "# def split_answer_scratchpad(sample):\n",
    "#     scratchpad, answer = sample[\"answer\"].split(\"####\")\n",
    "#     return {\n",
    "#         \"question\": sample[\"question\"].strip(), \n",
    "#         \"answer\": answer.strip(), \n",
    "#         \"scratchpad\": scratchpad.strip()\n",
    "#     }\n",
    "\n",
    "\n",
    "# dataset_train = dataset_train.map(clean_text).map(split_answer_scratchpad)\n",
    "# dataset_test  = dataset_test .map(clean_text).map(split_answer_scratchpad)\n",
    "\n",
    "# print(dataset_train[0].keys())\n",
    "# print(dataset_test[0].keys())\n"
   ]
  },
  {
   "cell_type": "code",
   "execution_count": null,
   "metadata": {},
   "outputs": [],
   "source": [
    "dataset_train = asdiv_dataset.ASDivInteger(cache_path=\"ASDiv.xml\", quiet=False)\n",
    "dataset_test  = dataset_train"
   ]
  },
  {
   "cell_type": "code",
   "execution_count": null,
   "metadata": {
    "notebookRunGroups": {
     "groupValue": "2"
    }
   },
   "outputs": [],
   "source": [
    "###############################################################################\n",
    "# Load the model\n",
    "###############################################################################\n",
    "model_name = \"google/flan-t5-xxl\"\n",
    "tokenizer = transformers.AutoTokenizer.from_pretrained(model_name)\n",
    "\n",
    "with utils.ctx_timeit(f\"Loading model `{model_name}`\"):\n",
    "    model = transformers.AutoModelForSeq2SeqLM.from_pretrained(model_name)\n",
    "\n",
    "with utils.ctx_timeit(\"Converting model's type\"):\n",
    "    # model_cpu\n",
    "    pass\n",
    "\n",
    "with utils.ctx_timeit(f\"Moving model to GPU\"):\n",
    "    model = model.cuda()\n",
    "\n",
    "rich.print(f\"[bold blue]Model dtype:[/]  {model.dtype}\")\n",
    "devices = collections.Counter(x.device.type for x in model.parameters())\n",
    "rich.print(f\"\\n[bold blue]Model device:[/] {devices}\")\n",
    "\n",
    "assert len(devices) == 1 and \"cuda\" in devices, devices"
   ]
  },
  {
   "cell_type": "code",
   "execution_count": 11,
   "metadata": {},
   "outputs": [
    {
     "data": {
      "text/html": [
       "<pre style=\"white-space:pre;overflow-x:auto;line-height:normal;font-family:Menlo,'DejaVu Sans Mono',consolas,'Courier New',monospace\"><span style=\"color: #000080; text-decoration-color: #000080; font-weight: bold\">Context</span>:\n",
       "Question: John's dad bought four hundred fourteen meters of string. If he wanted to cut the string into pieces with\n",
       "each piece being seven meters long, how many full sized pieces could he make? Let's think about it step by step. \n",
       "Chain-of-thought: <span style=\"color: #008080; text-decoration-color: #008080; font-weight: bold\">414</span>/<span style=\"color: #008080; text-decoration-color: #008080; font-weight: bold\">7</span>=<span style=\"color: #008080; text-decoration-color: #008080; font-weight: bold\">59</span> r1 Answer: <span style=\"color: #008080; text-decoration-color: #008080; font-weight: bold\">59</span> Question: After recess, Buddy changed clothes for gym class. Down at the \n",
       "gym, all the students were divided into two groups. If one group has <span style=\"color: #008080; text-decoration-color: #008080; font-weight: bold\">34</span> members and the other has <span style=\"color: #008080; text-decoration-color: #008080; font-weight: bold\">37</span>, how many \n",
       "students are in Buddy's gym class? Let's think about it step by step. Chain-of-thought: <span style=\"color: #008080; text-decoration-color: #008080; font-weight: bold\">34</span>+<span style=\"color: #008080; text-decoration-color: #008080; font-weight: bold\">37</span>=<span style=\"color: #008080; text-decoration-color: #008080; font-weight: bold\">71</span> Answer: <span style=\"color: #008080; text-decoration-color: #008080; font-weight: bold\">71</span> \n",
       "Question: The Litter Patrol picked up <span style=\"color: #008080; text-decoration-color: #008080; font-weight: bold\">10</span> glass bottles and <span style=\"color: #008080; text-decoration-color: #008080; font-weight: bold\">8</span> aluminum cans on Saturday. How many pieces of litter \n",
       "did they pick up altogether? Let's think about it step by step. Chain-of-thought: <span style=\"color: #008080; text-decoration-color: #008080; font-weight: bold\">10</span>+<span style=\"color: #008080; text-decoration-color: #008080; font-weight: bold\">8</span>=<span style=\"color: #008080; text-decoration-color: #008080; font-weight: bold\">18</span> Answer: <span style=\"color: #008080; text-decoration-color: #008080; font-weight: bold\">18</span> Question: \n",
       "Janet's dad took the family out to eat for her birthday. There were <span style=\"color: #008080; text-decoration-color: #008080; font-weight: bold\">10</span> people total. There were <span style=\"color: #008080; text-decoration-color: #008080; font-weight: bold\">8</span> kids and everyone\n",
       "else was an adult. How many adults were there? Let's think about it step by step. Chain-of-thought: <span style=\"color: #008080; text-decoration-color: #008080; font-weight: bold\">10</span>-<span style=\"color: #008080; text-decoration-color: #008080; font-weight: bold\">8</span>=<span style=\"color: #008080; text-decoration-color: #008080; font-weight: bold\">2</span> Answer: \n",
       "<span style=\"color: #008080; text-decoration-color: #008080; font-weight: bold\">2</span> Question: Warren has <span style=\"color: #008080; text-decoration-color: #008080; font-weight: bold\">252</span> guests coming to his party. Each table will hold <span style=\"color: #008080; text-decoration-color: #008080; font-weight: bold\">4</span> guests. How many tables will he need?\n",
       "Let's think about it step by step. Chain-of-thought: <span style=\"color: #008080; text-decoration-color: #008080; font-weight: bold\">252</span>/<span style=\"color: #008080; text-decoration-color: #008080; font-weight: bold\">4</span>=<span style=\"color: #008080; text-decoration-color: #008080; font-weight: bold\">63</span> Answer: <span style=\"color: #008080; text-decoration-color: #008080; font-weight: bold\">63</span> Question: Paul got a box of <span style=\"color: #008080; text-decoration-color: #008080; font-weight: bold\">479</span> crayons \n",
       "for his birthday. At the end of the school year, he only had <span style=\"color: #008080; text-decoration-color: #008080; font-weight: bold\">134</span> left. How many crayons had been lost or given \n",
       "away? Let's think about it step by step. Chain-of-thought: <span style=\"color: #008080; text-decoration-color: #008080; font-weight: bold\">479</span>-<span style=\"color: #008080; text-decoration-color: #008080; font-weight: bold\">134</span>=<span style=\"color: #008080; text-decoration-color: #008080; font-weight: bold\">345</span> Answer: <span style=\"color: #008080; text-decoration-color: #008080; font-weight: bold\">345</span> Question: When relatives visit \n",
       "Haley and her family, she and her cousins do origami. If she has <span style=\"color: #008080; text-decoration-color: #008080; font-weight: bold\">48</span> origami papers to give away to her six cousins,\n",
       "how many will each receive if she gives everyone the same number of origami papers? Let's think about it step by \n",
       "step. Chain-of-thought: <span style=\"color: #008080; text-decoration-color: #008080; font-weight: bold\">48</span>/<span style=\"color: #008080; text-decoration-color: #008080; font-weight: bold\">6</span>=<span style=\"color: #008080; text-decoration-color: #008080; font-weight: bold\">8</span> Answer: <span style=\"color: #008080; text-decoration-color: #008080; font-weight: bold\">8</span> Question: Simon, Mark, Kevin, and Carl love collecting stamps. They meet \n",
       "up every month to compare and share their collections with each other. During the previous month, Kevin was able to\n",
       "collect <span style=\"color: #008080; text-decoration-color: #008080; font-weight: bold\">45</span> stamps while Simon was only able to collect <span style=\"color: #008080; text-decoration-color: #008080; font-weight: bold\">27</span>. How many more stamps does Kevin have more than Simon? \n",
       "Let's think about it step by step. Chain-of-thought: <span style=\"color: #008080; text-decoration-color: #008080; font-weight: bold\">45</span>-<span style=\"color: #008080; text-decoration-color: #008080; font-weight: bold\">27</span>=<span style=\"color: #008080; text-decoration-color: #008080; font-weight: bold\">18</span> Answer: <span style=\"color: #008080; text-decoration-color: #008080; font-weight: bold\">18</span>\n",
       "</pre>\n"
      ],
      "text/plain": [
       "\u001b[1;34mContext\u001b[0m:\n",
       "Question: John's dad bought four hundred fourteen meters of string. If he wanted to cut the string into pieces with\n",
       "each piece being seven meters long, how many full sized pieces could he make? Let's think about it step by step. \n",
       "Chain-of-thought: \u001b[1;36m414\u001b[0m/\u001b[1;36m7\u001b[0m=\u001b[1;36m59\u001b[0m r1 Answer: \u001b[1;36m59\u001b[0m Question: After recess, Buddy changed clothes for gym class. Down at the \n",
       "gym, all the students were divided into two groups. If one group has \u001b[1;36m34\u001b[0m members and the other has \u001b[1;36m37\u001b[0m, how many \n",
       "students are in Buddy's gym class? Let's think about it step by step. Chain-of-thought: \u001b[1;36m34\u001b[0m+\u001b[1;36m37\u001b[0m=\u001b[1;36m71\u001b[0m Answer: \u001b[1;36m71\u001b[0m \n",
       "Question: The Litter Patrol picked up \u001b[1;36m10\u001b[0m glass bottles and \u001b[1;36m8\u001b[0m aluminum cans on Saturday. How many pieces of litter \n",
       "did they pick up altogether? Let's think about it step by step. Chain-of-thought: \u001b[1;36m10\u001b[0m+\u001b[1;36m8\u001b[0m=\u001b[1;36m18\u001b[0m Answer: \u001b[1;36m18\u001b[0m Question: \n",
       "Janet's dad took the family out to eat for her birthday. There were \u001b[1;36m10\u001b[0m people total. There were \u001b[1;36m8\u001b[0m kids and everyone\n",
       "else was an adult. How many adults were there? Let's think about it step by step. Chain-of-thought: \u001b[1;36m10\u001b[0m-\u001b[1;36m8\u001b[0m=\u001b[1;36m2\u001b[0m Answer: \n",
       "\u001b[1;36m2\u001b[0m Question: Warren has \u001b[1;36m252\u001b[0m guests coming to his party. Each table will hold \u001b[1;36m4\u001b[0m guests. How many tables will he need?\n",
       "Let's think about it step by step. Chain-of-thought: \u001b[1;36m252\u001b[0m/\u001b[1;36m4\u001b[0m=\u001b[1;36m63\u001b[0m Answer: \u001b[1;36m63\u001b[0m Question: Paul got a box of \u001b[1;36m479\u001b[0m crayons \n",
       "for his birthday. At the end of the school year, he only had \u001b[1;36m134\u001b[0m left. How many crayons had been lost or given \n",
       "away? Let's think about it step by step. Chain-of-thought: \u001b[1;36m479\u001b[0m-\u001b[1;36m134\u001b[0m=\u001b[1;36m345\u001b[0m Answer: \u001b[1;36m345\u001b[0m Question: When relatives visit \n",
       "Haley and her family, she and her cousins do origami. If she has \u001b[1;36m48\u001b[0m origami papers to give away to her six cousins,\n",
       "how many will each receive if she gives everyone the same number of origami papers? Let's think about it step by \n",
       "step. Chain-of-thought: \u001b[1;36m48\u001b[0m/\u001b[1;36m6\u001b[0m=\u001b[1;36m8\u001b[0m Answer: \u001b[1;36m8\u001b[0m Question: Simon, Mark, Kevin, and Carl love collecting stamps. They meet \n",
       "up every month to compare and share their collections with each other. During the previous month, Kevin was able to\n",
       "collect \u001b[1;36m45\u001b[0m stamps while Simon was only able to collect \u001b[1;36m27\u001b[0m. How many more stamps does Kevin have more than Simon? \n",
       "Let's think about it step by step. Chain-of-thought: \u001b[1;36m45\u001b[0m-\u001b[1;36m27\u001b[0m=\u001b[1;36m18\u001b[0m Answer: \u001b[1;36m18\u001b[0m\n"
      ]
     },
     "metadata": {},
     "output_type": "display_data"
    },
    {
     "name": "stderr",
     "output_type": "stream",
     "text": [
      "Accuracy: 37.0%:  12%|█▏        | 238/2023 [11:10<1:18:39,  2.64s/it]"
     ]
    },
    {
     "data": {
      "text/html": [
       "<pre style=\"white-space:pre;overflow-x:auto;line-height:normal;font-family:Menlo,'DejaVu Sans Mono',consolas,'Courier New',monospace\"><span style=\"color: #000080; text-decoration-color: #000080; font-weight: bold\">text2digits</span>:\n",
       "         - <span style=\"color: #008000; text-decoration-color: #008000\">source:</span>    Winnie completed eighty-six consecutive repetitions for rope jumping yesterday. Today she \n",
       "completed only seventy-three. How many repetitions did she fell behind?\n",
       "         - <span style=\"color: #008000; text-decoration-color: #008000\">converted:</span> Winnie completed <span style=\"color: #008080; text-decoration-color: #008080; font-weight: bold\">86</span> consecutive repetitions for rope jumping yesterday. Today she completed \n",
       "only <span style=\"color: #008080; text-decoration-color: #008080; font-weight: bold\">73</span>. How many repetitions did she fell behind\n",
       "         - <span style=\"color: #008000; text-decoration-color: #008000\">final:</span>     <span style=\"color: #008080; text-decoration-color: #008080; font-weight: bold\">73</span>\n",
       "</pre>\n"
      ],
      "text/plain": [
       "\u001b[1;34mtext2digits\u001b[0m:\n",
       "         - \u001b[32msource:\u001b[0m    Winnie completed eighty-six consecutive repetitions for rope jumping yesterday. Today she \n",
       "completed only seventy-three. How many repetitions did she fell behind?\n",
       "         - \u001b[32mconverted:\u001b[0m Winnie completed \u001b[1;36m86\u001b[0m consecutive repetitions for rope jumping yesterday. Today she completed \n",
       "only \u001b[1;36m73\u001b[0m. How many repetitions did she fell behind\n",
       "         - \u001b[32mfinal:\u001b[0m     \u001b[1;36m73\u001b[0m\n"
      ]
     },
     "metadata": {},
     "output_type": "display_data"
    },
    {
     "data": {
      "text/html": [
       "<pre style=\"white-space:pre;overflow-x:auto;line-height:normal;font-family:Menlo,'DejaVu Sans Mono',consolas,'Courier New',monospace\"><span style=\"color: #800000; text-decoration-color: #800000\">split_fn: no numbers found. Received:</span> `Winnie completed eighty-six consecutive repetitions for rope jumping \n",
       "yesterday. Today she completed only seventy-three. How many repetitions did she fell behind?`. Text2Digit worked. \n",
       "Output: `<span style=\"color: #008080; text-decoration-color: #008080; font-weight: bold\">73</span>`\n",
       "</pre>\n"
      ],
      "text/plain": [
       "\u001b[31msplit_fn: no numbers found. Received:\u001b[0m `Winnie completed eighty-six consecutive repetitions for rope jumping \n",
       "yesterday. Today she completed only seventy-three. How many repetitions did she fell behind?`. Text2Digit worked. \n",
       "Output: `\u001b[1;36m73\u001b[0m`\n"
      ]
     },
     "metadata": {},
     "output_type": "display_data"
    },
    {
     "data": {
      "text/html": [
       "<pre style=\"white-space:pre;overflow-x:auto;line-height:normal;font-family:Menlo,'DejaVu Sans Mono',consolas,'Courier New',monospace\"><span style=\"color: #000080; text-decoration-color: #000080; font-weight: bold\">text2digits</span>:\n",
       "         - <span style=\"color: #008000; text-decoration-color: #008000\">source:</span>    Winnie completed eighty-six consecutive repetitions for rope jumping yesterday. Today she \n",
       "completed only seventy-three. How many repetitions did she fell behind?\n",
       "         - <span style=\"color: #008000; text-decoration-color: #008000\">converted:</span> Winnie completed <span style=\"color: #008080; text-decoration-color: #008080; font-weight: bold\">86</span> consecutive repetitions for rope jumping yesterday. Today she completed \n",
       "only <span style=\"color: #008080; text-decoration-color: #008080; font-weight: bold\">73</span>. How many repetitions did she fell behind\n",
       "         - <span style=\"color: #008000; text-decoration-color: #008000\">final:</span>     <span style=\"color: #008080; text-decoration-color: #008080; font-weight: bold\">73</span>\n",
       "</pre>\n"
      ],
      "text/plain": [
       "\u001b[1;34mtext2digits\u001b[0m:\n",
       "         - \u001b[32msource:\u001b[0m    Winnie completed eighty-six consecutive repetitions for rope jumping yesterday. Today she \n",
       "completed only seventy-three. How many repetitions did she fell behind?\n",
       "         - \u001b[32mconverted:\u001b[0m Winnie completed \u001b[1;36m86\u001b[0m consecutive repetitions for rope jumping yesterday. Today she completed \n",
       "only \u001b[1;36m73\u001b[0m. How many repetitions did she fell behind\n",
       "         - \u001b[32mfinal:\u001b[0m     \u001b[1;36m73\u001b[0m\n"
      ]
     },
     "metadata": {},
     "output_type": "display_data"
    },
    {
     "data": {
      "text/html": [
       "<pre style=\"white-space:pre;overflow-x:auto;line-height:normal;font-family:Menlo,'DejaVu Sans Mono',consolas,'Courier New',monospace\"><span style=\"color: #800000; text-decoration-color: #800000\">split_fn: no numbers found. Received:</span> `Winnie completed eighty-six consecutive repetitions for rope jumping \n",
       "yesterday. Today she completed only seventy-three. How many repetitions did she fell behind?`. Text2Digit worked. \n",
       "Output: `<span style=\"color: #008080; text-decoration-color: #008080; font-weight: bold\">73</span>`\n",
       "</pre>\n"
      ],
      "text/plain": [
       "\u001b[31msplit_fn: no numbers found. Received:\u001b[0m `Winnie completed eighty-six consecutive repetitions for rope jumping \n",
       "yesterday. Today she completed only seventy-three. How many repetitions did she fell behind?`. Text2Digit worked. \n",
       "Output: `\u001b[1;36m73\u001b[0m`\n"
      ]
     },
     "metadata": {},
     "output_type": "display_data"
    },
    {
     "name": "stderr",
     "output_type": "stream",
     "text": [
      "Accuracy: 37.1%:  13%|█▎        | 272/2023 [12:46<1:19:34,  2.73s/it]"
     ]
    },
    {
     "data": {
      "text/html": [
       "<pre style=\"white-space:pre;overflow-x:auto;line-height:normal;font-family:Menlo,'DejaVu Sans Mono',consolas,'Courier New',monospace\"><span style=\"color: #000080; text-decoration-color: #000080; font-weight: bold\">text2digits</span>:\n",
       "         - <span style=\"color: #008000; text-decoration-color: #008000\">source:</span>    The baker would have ninety - eighty three = seven cakes left. Answer: Seven\n",
       "         - <span style=\"color: #008000; text-decoration-color: #008000\">converted:</span> The baker would have <span style=\"color: #008080; text-decoration-color: #008080; font-weight: bold\">90</span> - <span style=\"color: #008080; text-decoration-color: #008080; font-weight: bold\">83</span> = <span style=\"color: #008080; text-decoration-color: #008080; font-weight: bold\">7</span> cakes left. Answer: <span style=\"color: #008080; text-decoration-color: #008080; font-weight: bold\">7</span>\n",
       "         - <span style=\"color: #008000; text-decoration-color: #008000\">final:</span>     <span style=\"color: #008080; text-decoration-color: #008080; font-weight: bold\">7</span>\n",
       "</pre>\n"
      ],
      "text/plain": [
       "\u001b[1;34mtext2digits\u001b[0m:\n",
       "         - \u001b[32msource:\u001b[0m    The baker would have ninety - eighty three = seven cakes left. Answer: Seven\n",
       "         - \u001b[32mconverted:\u001b[0m The baker would have \u001b[1;36m90\u001b[0m - \u001b[1;36m83\u001b[0m = \u001b[1;36m7\u001b[0m cakes left. Answer: \u001b[1;36m7\u001b[0m\n",
       "         - \u001b[32mfinal:\u001b[0m     \u001b[1;36m7\u001b[0m\n"
      ]
     },
     "metadata": {},
     "output_type": "display_data"
    },
    {
     "data": {
      "text/html": [
       "<pre style=\"white-space:pre;overflow-x:auto;line-height:normal;font-family:Menlo,'DejaVu Sans Mono',consolas,'Courier New',monospace\"><span style=\"color: #800000; text-decoration-color: #800000\">split_fn: no numbers found. Received:</span> `The baker would have ninety - eighty three = seven cakes left. Answer: \n",
       "Seven`. Text2Digit worked. Output: `<span style=\"color: #008080; text-decoration-color: #008080; font-weight: bold\">7</span>`\n",
       "</pre>\n"
      ],
      "text/plain": [
       "\u001b[31msplit_fn: no numbers found. Received:\u001b[0m `The baker would have ninety - eighty three = seven cakes left. Answer: \n",
       "Seven`. Text2Digit worked. Output: `\u001b[1;36m7\u001b[0m`\n"
      ]
     },
     "metadata": {},
     "output_type": "display_data"
    },
    {
     "data": {
      "text/html": [
       "<pre style=\"white-space:pre;overflow-x:auto;line-height:normal;font-family:Menlo,'DejaVu Sans Mono',consolas,'Courier New',monospace\"><span style=\"color: #000080; text-decoration-color: #000080; font-weight: bold\">text2digits</span>:\n",
       "         - <span style=\"color: #008000; text-decoration-color: #008000\">source:</span>    The baker would have ninety - eighty three = seven cakes left after selling them. Answer: \n",
       "Seven\n",
       "         - <span style=\"color: #008000; text-decoration-color: #008000\">converted:</span> The baker would have <span style=\"color: #008080; text-decoration-color: #008080; font-weight: bold\">90</span> - <span style=\"color: #008080; text-decoration-color: #008080; font-weight: bold\">83</span> = <span style=\"color: #008080; text-decoration-color: #008080; font-weight: bold\">7</span> cakes left after selling them. Answer: <span style=\"color: #008080; text-decoration-color: #008080; font-weight: bold\">7</span>\n",
       "         - <span style=\"color: #008000; text-decoration-color: #008000\">final:</span>     <span style=\"color: #008080; text-decoration-color: #008080; font-weight: bold\">7</span>\n",
       "</pre>\n"
      ],
      "text/plain": [
       "\u001b[1;34mtext2digits\u001b[0m:\n",
       "         - \u001b[32msource:\u001b[0m    The baker would have ninety - eighty three = seven cakes left after selling them. Answer: \n",
       "Seven\n",
       "         - \u001b[32mconverted:\u001b[0m The baker would have \u001b[1;36m90\u001b[0m - \u001b[1;36m83\u001b[0m = \u001b[1;36m7\u001b[0m cakes left after selling them. Answer: \u001b[1;36m7\u001b[0m\n",
       "         - \u001b[32mfinal:\u001b[0m     \u001b[1;36m7\u001b[0m\n"
      ]
     },
     "metadata": {},
     "output_type": "display_data"
    },
    {
     "data": {
      "text/html": [
       "<pre style=\"white-space:pre;overflow-x:auto;line-height:normal;font-family:Menlo,'DejaVu Sans Mono',consolas,'Courier New',monospace\"><span style=\"color: #800000; text-decoration-color: #800000\">split_fn: no numbers found. Received:</span> `The baker would have ninety - eighty three = seven cakes left after selling \n",
       "them. Answer: Seven`. Text2Digit worked. Output: `<span style=\"color: #008080; text-decoration-color: #008080; font-weight: bold\">7</span>`\n",
       "</pre>\n"
      ],
      "text/plain": [
       "\u001b[31msplit_fn: no numbers found. Received:\u001b[0m `The baker would have ninety - eighty three = seven cakes left after selling \n",
       "them. Answer: Seven`. Text2Digit worked. Output: `\u001b[1;36m7\u001b[0m`\n"
      ]
     },
     "metadata": {},
     "output_type": "display_data"
    },
    {
     "data": {
      "text/html": [
       "<pre style=\"white-space:pre;overflow-x:auto;line-height:normal;font-family:Menlo,'DejaVu Sans Mono',consolas,'Courier New',monospace\"><span style=\"color: #000080; text-decoration-color: #000080; font-weight: bold\">text2digits</span>:\n",
       "         - <span style=\"color: #008000; text-decoration-color: #008000\">source:</span>    The baker would have ninety - eighty three = seven cakes left. Answer: Seven\n",
       "         - <span style=\"color: #008000; text-decoration-color: #008000\">converted:</span> The baker would have <span style=\"color: #008080; text-decoration-color: #008080; font-weight: bold\">90</span> - <span style=\"color: #008080; text-decoration-color: #008080; font-weight: bold\">83</span> = <span style=\"color: #008080; text-decoration-color: #008080; font-weight: bold\">7</span> cakes left. Answer: <span style=\"color: #008080; text-decoration-color: #008080; font-weight: bold\">7</span>\n",
       "         - <span style=\"color: #008000; text-decoration-color: #008000\">final:</span>     <span style=\"color: #008080; text-decoration-color: #008080; font-weight: bold\">7</span>\n",
       "</pre>\n"
      ],
      "text/plain": [
       "\u001b[1;34mtext2digits\u001b[0m:\n",
       "         - \u001b[32msource:\u001b[0m    The baker would have ninety - eighty three = seven cakes left. Answer: Seven\n",
       "         - \u001b[32mconverted:\u001b[0m The baker would have \u001b[1;36m90\u001b[0m - \u001b[1;36m83\u001b[0m = \u001b[1;36m7\u001b[0m cakes left. Answer: \u001b[1;36m7\u001b[0m\n",
       "         - \u001b[32mfinal:\u001b[0m     \u001b[1;36m7\u001b[0m\n"
      ]
     },
     "metadata": {},
     "output_type": "display_data"
    },
    {
     "data": {
      "text/html": [
       "<pre style=\"white-space:pre;overflow-x:auto;line-height:normal;font-family:Menlo,'DejaVu Sans Mono',consolas,'Courier New',monospace\"><span style=\"color: #800000; text-decoration-color: #800000\">split_fn: no numbers found. Received:</span> `The baker would have ninety - eighty three = seven cakes left. Answer: \n",
       "Seven`. Text2Digit worked. Output: `<span style=\"color: #008080; text-decoration-color: #008080; font-weight: bold\">7</span>`\n",
       "</pre>\n"
      ],
      "text/plain": [
       "\u001b[31msplit_fn: no numbers found. Received:\u001b[0m `The baker would have ninety - eighty three = seven cakes left. Answer: \n",
       "Seven`. Text2Digit worked. Output: `\u001b[1;36m7\u001b[0m`\n"
      ]
     },
     "metadata": {},
     "output_type": "display_data"
    },
    {
     "data": {
      "text/html": [
       "<pre style=\"white-space:pre;overflow-x:auto;line-height:normal;font-family:Menlo,'DejaVu Sans Mono',consolas,'Courier New',monospace\"><span style=\"color: #000080; text-decoration-color: #000080; font-weight: bold\">text2digits</span>:\n",
       "         - <span style=\"color: #008000; text-decoration-color: #008000\">source:</span>    The baker would have ninety - eighty three = seven cakes left after selling them. Answer: \n",
       "Seven\n",
       "         - <span style=\"color: #008000; text-decoration-color: #008000\">converted:</span> The baker would have <span style=\"color: #008080; text-decoration-color: #008080; font-weight: bold\">90</span> - <span style=\"color: #008080; text-decoration-color: #008080; font-weight: bold\">83</span> = <span style=\"color: #008080; text-decoration-color: #008080; font-weight: bold\">7</span> cakes left after selling them. Answer: <span style=\"color: #008080; text-decoration-color: #008080; font-weight: bold\">7</span>\n",
       "         - <span style=\"color: #008000; text-decoration-color: #008000\">final:</span>     <span style=\"color: #008080; text-decoration-color: #008080; font-weight: bold\">7</span>\n",
       "</pre>\n"
      ],
      "text/plain": [
       "\u001b[1;34mtext2digits\u001b[0m:\n",
       "         - \u001b[32msource:\u001b[0m    The baker would have ninety - eighty three = seven cakes left after selling them. Answer: \n",
       "Seven\n",
       "         - \u001b[32mconverted:\u001b[0m The baker would have \u001b[1;36m90\u001b[0m - \u001b[1;36m83\u001b[0m = \u001b[1;36m7\u001b[0m cakes left after selling them. Answer: \u001b[1;36m7\u001b[0m\n",
       "         - \u001b[32mfinal:\u001b[0m     \u001b[1;36m7\u001b[0m\n"
      ]
     },
     "metadata": {},
     "output_type": "display_data"
    },
    {
     "data": {
      "text/html": [
       "<pre style=\"white-space:pre;overflow-x:auto;line-height:normal;font-family:Menlo,'DejaVu Sans Mono',consolas,'Courier New',monospace\"><span style=\"color: #800000; text-decoration-color: #800000\">split_fn: no numbers found. Received:</span> `The baker would have ninety - eighty three = seven cakes left after selling \n",
       "them. Answer: Seven`. Text2Digit worked. Output: `<span style=\"color: #008080; text-decoration-color: #008080; font-weight: bold\">7</span>`\n",
       "</pre>\n"
      ],
      "text/plain": [
       "\u001b[31msplit_fn: no numbers found. Received:\u001b[0m `The baker would have ninety - eighty three = seven cakes left after selling \n",
       "them. Answer: Seven`. Text2Digit worked. Output: `\u001b[1;36m7\u001b[0m`\n"
      ]
     },
     "metadata": {},
     "output_type": "display_data"
    },
    {
     "name": "stderr",
     "output_type": "stream",
     "text": [
      "Accuracy: 40.1%:  29%|██▉       | 594/2023 [27:21<1:05:51,  2.77s/it]"
     ]
    },
    {
     "data": {
      "text/html": [
       "<pre style=\"white-space:pre;overflow-x:auto;line-height:normal;font-family:Menlo,'DejaVu Sans Mono',consolas,'Courier New',monospace\"><span style=\"color: #000080; text-decoration-color: #000080; font-weight: bold\">text2digits</span>:\n",
       "         - <span style=\"color: #008000; text-decoration-color: #008000\">source:</span>    Jerry has eleven - eight = three cherries left. Answer: three\n",
       "         - <span style=\"color: #008000; text-decoration-color: #008000\">converted:</span> Jerry has <span style=\"color: #008080; text-decoration-color: #008080; font-weight: bold\">11</span> - <span style=\"color: #008080; text-decoration-color: #008080; font-weight: bold\">8</span> = <span style=\"color: #008080; text-decoration-color: #008080; font-weight: bold\">3</span> cherries left. Answer: <span style=\"color: #008080; text-decoration-color: #008080; font-weight: bold\">3</span>\n",
       "         - <span style=\"color: #008000; text-decoration-color: #008000\">final:</span>     <span style=\"color: #008080; text-decoration-color: #008080; font-weight: bold\">3</span>\n",
       "</pre>\n"
      ],
      "text/plain": [
       "\u001b[1;34mtext2digits\u001b[0m:\n",
       "         - \u001b[32msource:\u001b[0m    Jerry has eleven - eight = three cherries left. Answer: three\n",
       "         - \u001b[32mconverted:\u001b[0m Jerry has \u001b[1;36m11\u001b[0m - \u001b[1;36m8\u001b[0m = \u001b[1;36m3\u001b[0m cherries left. Answer: \u001b[1;36m3\u001b[0m\n",
       "         - \u001b[32mfinal:\u001b[0m     \u001b[1;36m3\u001b[0m\n"
      ]
     },
     "metadata": {},
     "output_type": "display_data"
    },
    {
     "data": {
      "text/html": [
       "<pre style=\"white-space:pre;overflow-x:auto;line-height:normal;font-family:Menlo,'DejaVu Sans Mono',consolas,'Courier New',monospace\"><span style=\"color: #800000; text-decoration-color: #800000\">split_fn: no numbers found. Received:</span> `Jerry has eleven - eight = three cherries left. Answer: three`. Text2Digit \n",
       "worked. Output: `<span style=\"color: #008080; text-decoration-color: #008080; font-weight: bold\">3</span>`\n",
       "</pre>\n"
      ],
      "text/plain": [
       "\u001b[31msplit_fn: no numbers found. Received:\u001b[0m `Jerry has eleven - eight = three cherries left. Answer: three`. Text2Digit \n",
       "worked. Output: `\u001b[1;36m3\u001b[0m`\n"
      ]
     },
     "metadata": {},
     "output_type": "display_data"
    },
    {
     "data": {
      "text/html": [
       "<pre style=\"white-space:pre;overflow-x:auto;line-height:normal;font-family:Menlo,'DejaVu Sans Mono',consolas,'Courier New',monospace\"><span style=\"color: #000080; text-decoration-color: #000080; font-weight: bold\">text2digits</span>:\n",
       "         - <span style=\"color: #008000; text-decoration-color: #008000\">source:</span>    Jerry has eleven - eight = three cherries left. Answer: three\n",
       "         - <span style=\"color: #008000; text-decoration-color: #008000\">converted:</span> Jerry has <span style=\"color: #008080; text-decoration-color: #008080; font-weight: bold\">11</span> - <span style=\"color: #008080; text-decoration-color: #008080; font-weight: bold\">8</span> = <span style=\"color: #008080; text-decoration-color: #008080; font-weight: bold\">3</span> cherries left. Answer: <span style=\"color: #008080; text-decoration-color: #008080; font-weight: bold\">3</span>\n",
       "         - <span style=\"color: #008000; text-decoration-color: #008000\">final:</span>     <span style=\"color: #008080; text-decoration-color: #008080; font-weight: bold\">3</span>\n",
       "</pre>\n"
      ],
      "text/plain": [
       "\u001b[1;34mtext2digits\u001b[0m:\n",
       "         - \u001b[32msource:\u001b[0m    Jerry has eleven - eight = three cherries left. Answer: three\n",
       "         - \u001b[32mconverted:\u001b[0m Jerry has \u001b[1;36m11\u001b[0m - \u001b[1;36m8\u001b[0m = \u001b[1;36m3\u001b[0m cherries left. Answer: \u001b[1;36m3\u001b[0m\n",
       "         - \u001b[32mfinal:\u001b[0m     \u001b[1;36m3\u001b[0m\n"
      ]
     },
     "metadata": {},
     "output_type": "display_data"
    },
    {
     "data": {
      "text/html": [
       "<pre style=\"white-space:pre;overflow-x:auto;line-height:normal;font-family:Menlo,'DejaVu Sans Mono',consolas,'Courier New',monospace\"><span style=\"color: #800000; text-decoration-color: #800000\">split_fn: no numbers found. Received:</span> `Jerry has eleven - eight = three cherries left. Answer: three`. Text2Digit \n",
       "worked. Output: `<span style=\"color: #008080; text-decoration-color: #008080; font-weight: bold\">3</span>`\n",
       "</pre>\n"
      ],
      "text/plain": [
       "\u001b[31msplit_fn: no numbers found. Received:\u001b[0m `Jerry has eleven - eight = three cherries left. Answer: three`. Text2Digit \n",
       "worked. Output: `\u001b[1;36m3\u001b[0m`\n"
      ]
     },
     "metadata": {},
     "output_type": "display_data"
    },
    {
     "name": "stderr",
     "output_type": "stream",
     "text": [
      "Accuracy: 41.5%:  74%|███████▍  | 1502/2023 [1:08:48<21:41,  2.50s/it]"
     ]
    },
    {
     "data": {
      "text/html": [
       "<pre style=\"white-space:pre;overflow-x:auto;line-height:normal;font-family:Menlo,'DejaVu Sans Mono',consolas,'Courier New',monospace\"><span style=\"color: #000080; text-decoration-color: #000080; font-weight: bold\">text2digits</span>:\n",
       "         - <span style=\"color: #008000; text-decoration-color: #008000\">source:</span>    Our class got fifty - four + twenty three = eighty books from the library. Answer: eighty\n",
       "         - <span style=\"color: #008000; text-decoration-color: #008000\">converted:</span> Our class got <span style=\"color: #008080; text-decoration-color: #008080; font-weight: bold\">50</span> - <span style=\"color: #008080; text-decoration-color: #008080; font-weight: bold\">4</span> + <span style=\"color: #008080; text-decoration-color: #008080; font-weight: bold\">23</span> = <span style=\"color: #008080; text-decoration-color: #008080; font-weight: bold\">80</span> books from the library. Answer: <span style=\"color: #008080; text-decoration-color: #008080; font-weight: bold\">80</span>\n",
       "         - <span style=\"color: #008000; text-decoration-color: #008000\">final:</span>     <span style=\"color: #008080; text-decoration-color: #008080; font-weight: bold\">80</span>\n",
       "</pre>\n"
      ],
      "text/plain": [
       "\u001b[1;34mtext2digits\u001b[0m:\n",
       "         - \u001b[32msource:\u001b[0m    Our class got fifty - four + twenty three = eighty books from the library. Answer: eighty\n",
       "         - \u001b[32mconverted:\u001b[0m Our class got \u001b[1;36m50\u001b[0m - \u001b[1;36m4\u001b[0m + \u001b[1;36m23\u001b[0m = \u001b[1;36m80\u001b[0m books from the library. Answer: \u001b[1;36m80\u001b[0m\n",
       "         - \u001b[32mfinal:\u001b[0m     \u001b[1;36m80\u001b[0m\n"
      ]
     },
     "metadata": {},
     "output_type": "display_data"
    },
    {
     "data": {
      "text/html": [
       "<pre style=\"white-space:pre;overflow-x:auto;line-height:normal;font-family:Menlo,'DejaVu Sans Mono',consolas,'Courier New',monospace\"><span style=\"color: #800000; text-decoration-color: #800000\">split_fn: no numbers found. Received:</span> `Our class got fifty - four + twenty three = eighty books from the library. \n",
       "Answer: eighty`. Text2Digit worked. Output: `<span style=\"color: #008080; text-decoration-color: #008080; font-weight: bold\">80</span>`\n",
       "</pre>\n"
      ],
      "text/plain": [
       "\u001b[31msplit_fn: no numbers found. Received:\u001b[0m `Our class got fifty - four + twenty three = eighty books from the library. \n",
       "Answer: eighty`. Text2Digit worked. Output: `\u001b[1;36m80\u001b[0m`\n"
      ]
     },
     "metadata": {},
     "output_type": "display_data"
    },
    {
     "data": {
      "text/html": [
       "<pre style=\"white-space:pre;overflow-x:auto;line-height:normal;font-family:Menlo,'DejaVu Sans Mono',consolas,'Courier New',monospace\"><span style=\"color: #000080; text-decoration-color: #000080; font-weight: bold\">text2digits</span>:\n",
       "         - <span style=\"color: #008000; text-decoration-color: #008000\">source:</span>    Our class got fifty - four + twenty three = eighty books from the library. Answer: eighty\n",
       "         - <span style=\"color: #008000; text-decoration-color: #008000\">converted:</span> Our class got <span style=\"color: #008080; text-decoration-color: #008080; font-weight: bold\">50</span> - <span style=\"color: #008080; text-decoration-color: #008080; font-weight: bold\">4</span> + <span style=\"color: #008080; text-decoration-color: #008080; font-weight: bold\">23</span> = <span style=\"color: #008080; text-decoration-color: #008080; font-weight: bold\">80</span> books from the library. Answer: <span style=\"color: #008080; text-decoration-color: #008080; font-weight: bold\">80</span>\n",
       "         - <span style=\"color: #008000; text-decoration-color: #008000\">final:</span>     <span style=\"color: #008080; text-decoration-color: #008080; font-weight: bold\">80</span>\n",
       "</pre>\n"
      ],
      "text/plain": [
       "\u001b[1;34mtext2digits\u001b[0m:\n",
       "         - \u001b[32msource:\u001b[0m    Our class got fifty - four + twenty three = eighty books from the library. Answer: eighty\n",
       "         - \u001b[32mconverted:\u001b[0m Our class got \u001b[1;36m50\u001b[0m - \u001b[1;36m4\u001b[0m + \u001b[1;36m23\u001b[0m = \u001b[1;36m80\u001b[0m books from the library. Answer: \u001b[1;36m80\u001b[0m\n",
       "         - \u001b[32mfinal:\u001b[0m     \u001b[1;36m80\u001b[0m\n"
      ]
     },
     "metadata": {},
     "output_type": "display_data"
    },
    {
     "data": {
      "text/html": [
       "<pre style=\"white-space:pre;overflow-x:auto;line-height:normal;font-family:Menlo,'DejaVu Sans Mono',consolas,'Courier New',monospace\"><span style=\"color: #800000; text-decoration-color: #800000\">split_fn: no numbers found. Received:</span> `Our class got fifty - four + twenty three = eighty books from the library. \n",
       "Answer: eighty`. Text2Digit worked. Output: `<span style=\"color: #008080; text-decoration-color: #008080; font-weight: bold\">80</span>`\n",
       "</pre>\n"
      ],
      "text/plain": [
       "\u001b[31msplit_fn: no numbers found. Received:\u001b[0m `Our class got fifty - four + twenty three = eighty books from the library. \n",
       "Answer: eighty`. Text2Digit worked. Output: `\u001b[1;36m80\u001b[0m`\n"
      ]
     },
     "metadata": {},
     "output_type": "display_data"
    },
    {
     "name": "stderr",
     "output_type": "stream",
     "text": [
      "Accuracy: 41.4%:  95%|█████████▌| 1924/2023 [1:28:27<04:50,  2.93s/it]"
     ]
    },
    {
     "data": {
      "text/html": [
       "<pre style=\"white-space:pre;overflow-x:auto;line-height:normal;font-family:Menlo,'DejaVu Sans Mono',consolas,'Courier New',monospace\"><span style=\"color: #000080; text-decoration-color: #000080; font-weight: bold\">text2digits</span>:\n",
       "         - <span style=\"color: #008000; text-decoration-color: #008000\">source:</span>    Paige used eleven - four = seven pencils. Answer: seven\n",
       "         - <span style=\"color: #008000; text-decoration-color: #008000\">converted:</span> Paige used <span style=\"color: #008080; text-decoration-color: #008080; font-weight: bold\">11</span> - <span style=\"color: #008080; text-decoration-color: #008080; font-weight: bold\">4</span> = <span style=\"color: #008080; text-decoration-color: #008080; font-weight: bold\">7</span> pencils. Answer: <span style=\"color: #008080; text-decoration-color: #008080; font-weight: bold\">7</span>\n",
       "         - <span style=\"color: #008000; text-decoration-color: #008000\">final:</span>     <span style=\"color: #008080; text-decoration-color: #008080; font-weight: bold\">7</span>\n",
       "</pre>\n"
      ],
      "text/plain": [
       "\u001b[1;34mtext2digits\u001b[0m:\n",
       "         - \u001b[32msource:\u001b[0m    Paige used eleven - four = seven pencils. Answer: seven\n",
       "         - \u001b[32mconverted:\u001b[0m Paige used \u001b[1;36m11\u001b[0m - \u001b[1;36m4\u001b[0m = \u001b[1;36m7\u001b[0m pencils. Answer: \u001b[1;36m7\u001b[0m\n",
       "         - \u001b[32mfinal:\u001b[0m     \u001b[1;36m7\u001b[0m\n"
      ]
     },
     "metadata": {},
     "output_type": "display_data"
    },
    {
     "data": {
      "text/html": [
       "<pre style=\"white-space:pre;overflow-x:auto;line-height:normal;font-family:Menlo,'DejaVu Sans Mono',consolas,'Courier New',monospace\"><span style=\"color: #800000; text-decoration-color: #800000\">split_fn: no numbers found. Received:</span> `Paige used eleven - four = seven pencils. Answer: seven`. Text2Digit worked.\n",
       "Output: `<span style=\"color: #008080; text-decoration-color: #008080; font-weight: bold\">7</span>`\n",
       "</pre>\n"
      ],
      "text/plain": [
       "\u001b[31msplit_fn: no numbers found. Received:\u001b[0m `Paige used eleven - four = seven pencils. Answer: seven`. Text2Digit worked.\n",
       "Output: `\u001b[1;36m7\u001b[0m`\n"
      ]
     },
     "metadata": {},
     "output_type": "display_data"
    },
    {
     "data": {
      "text/html": [
       "<pre style=\"white-space:pre;overflow-x:auto;line-height:normal;font-family:Menlo,'DejaVu Sans Mono',consolas,'Courier New',monospace\"><span style=\"color: #000080; text-decoration-color: #000080; font-weight: bold\">text2digits</span>:\n",
       "         - <span style=\"color: #008000; text-decoration-color: #008000\">source:</span>    Paige used eleven - four = seven pencils. Answer: seven\n",
       "         - <span style=\"color: #008000; text-decoration-color: #008000\">converted:</span> Paige used <span style=\"color: #008080; text-decoration-color: #008080; font-weight: bold\">11</span> - <span style=\"color: #008080; text-decoration-color: #008080; font-weight: bold\">4</span> = <span style=\"color: #008080; text-decoration-color: #008080; font-weight: bold\">7</span> pencils. Answer: <span style=\"color: #008080; text-decoration-color: #008080; font-weight: bold\">7</span>\n",
       "         - <span style=\"color: #008000; text-decoration-color: #008000\">final:</span>     <span style=\"color: #008080; text-decoration-color: #008080; font-weight: bold\">7</span>\n",
       "</pre>\n"
      ],
      "text/plain": [
       "\u001b[1;34mtext2digits\u001b[0m:\n",
       "         - \u001b[32msource:\u001b[0m    Paige used eleven - four = seven pencils. Answer: seven\n",
       "         - \u001b[32mconverted:\u001b[0m Paige used \u001b[1;36m11\u001b[0m - \u001b[1;36m4\u001b[0m = \u001b[1;36m7\u001b[0m pencils. Answer: \u001b[1;36m7\u001b[0m\n",
       "         - \u001b[32mfinal:\u001b[0m     \u001b[1;36m7\u001b[0m\n"
      ]
     },
     "metadata": {},
     "output_type": "display_data"
    },
    {
     "data": {
      "text/html": [
       "<pre style=\"white-space:pre;overflow-x:auto;line-height:normal;font-family:Menlo,'DejaVu Sans Mono',consolas,'Courier New',monospace\"><span style=\"color: #800000; text-decoration-color: #800000\">split_fn: no numbers found. Received:</span> `Paige used eleven - four = seven pencils. Answer: seven`. Text2Digit worked.\n",
       "Output: `<span style=\"color: #008080; text-decoration-color: #008080; font-weight: bold\">7</span>`\n",
       "</pre>\n"
      ],
      "text/plain": [
       "\u001b[31msplit_fn: no numbers found. Received:\u001b[0m `Paige used eleven - four = seven pencils. Answer: seven`. Text2Digit worked.\n",
       "Output: `\u001b[1;36m7\u001b[0m`\n"
      ]
     },
     "metadata": {},
     "output_type": "display_data"
    },
    {
     "name": "stderr",
     "output_type": "stream",
     "text": [
      "Accuracy: 41.2%: 100%|█████████▉| 2015/2023 [1:32:36<00:24,  3.06s/it]"
     ]
    },
    {
     "data": {
      "text/html": [
       "<pre style=\"white-space:pre;overflow-x:auto;line-height:normal;font-family:Menlo,'DejaVu Sans Mono',consolas,'Courier New',monospace\"><span style=\"color: #000080; text-decoration-color: #000080; font-weight: bold\">text2digits</span>:\n",
       "         - <span style=\"color: #008000; text-decoration-color: #008000\">source:</span>    The clown has forty-seven + thirteen = sixty balloons now. Answer: sixty\n",
       "         - <span style=\"color: #008000; text-decoration-color: #008000\">converted:</span> The clown has <span style=\"color: #008080; text-decoration-color: #008080; font-weight: bold\">47</span> + <span style=\"color: #008080; text-decoration-color: #008080; font-weight: bold\">13</span> = <span style=\"color: #008080; text-decoration-color: #008080; font-weight: bold\">60</span> balloons now. Answer: <span style=\"color: #008080; text-decoration-color: #008080; font-weight: bold\">60</span>\n",
       "         - <span style=\"color: #008000; text-decoration-color: #008000\">final:</span>     <span style=\"color: #008080; text-decoration-color: #008080; font-weight: bold\">60</span>\n",
       "</pre>\n"
      ],
      "text/plain": [
       "\u001b[1;34mtext2digits\u001b[0m:\n",
       "         - \u001b[32msource:\u001b[0m    The clown has forty-seven + thirteen = sixty balloons now. Answer: sixty\n",
       "         - \u001b[32mconverted:\u001b[0m The clown has \u001b[1;36m47\u001b[0m + \u001b[1;36m13\u001b[0m = \u001b[1;36m60\u001b[0m balloons now. Answer: \u001b[1;36m60\u001b[0m\n",
       "         - \u001b[32mfinal:\u001b[0m     \u001b[1;36m60\u001b[0m\n"
      ]
     },
     "metadata": {},
     "output_type": "display_data"
    },
    {
     "data": {
      "text/html": [
       "<pre style=\"white-space:pre;overflow-x:auto;line-height:normal;font-family:Menlo,'DejaVu Sans Mono',consolas,'Courier New',monospace\"><span style=\"color: #800000; text-decoration-color: #800000\">split_fn: no numbers found. Received:</span> `The clown has forty-seven + thirteen = sixty balloons now. Answer: sixty`. \n",
       "Text2Digit worked. Output: `<span style=\"color: #008080; text-decoration-color: #008080; font-weight: bold\">60</span>`\n",
       "</pre>\n"
      ],
      "text/plain": [
       "\u001b[31msplit_fn: no numbers found. Received:\u001b[0m `The clown has forty-seven + thirteen = sixty balloons now. Answer: sixty`. \n",
       "Text2Digit worked. Output: `\u001b[1;36m60\u001b[0m`\n"
      ]
     },
     "metadata": {},
     "output_type": "display_data"
    },
    {
     "data": {
      "text/html": [
       "<pre style=\"white-space:pre;overflow-x:auto;line-height:normal;font-family:Menlo,'DejaVu Sans Mono',consolas,'Courier New',monospace\"><span style=\"color: #000080; text-decoration-color: #000080; font-weight: bold\">text2digits</span>:\n",
       "         - <span style=\"color: #008000; text-decoration-color: #008000\">source:</span>    The clown blew up forty-seven + thirteen = sixty balloons. Answer: sixty\n",
       "         - <span style=\"color: #008000; text-decoration-color: #008000\">converted:</span> The clown blew up <span style=\"color: #008080; text-decoration-color: #008080; font-weight: bold\">47</span> + <span style=\"color: #008080; text-decoration-color: #008080; font-weight: bold\">13</span> = <span style=\"color: #008080; text-decoration-color: #008080; font-weight: bold\">60</span> balloons. Answer: <span style=\"color: #008080; text-decoration-color: #008080; font-weight: bold\">60</span>\n",
       "         - <span style=\"color: #008000; text-decoration-color: #008000\">final:</span>     <span style=\"color: #008080; text-decoration-color: #008080; font-weight: bold\">60</span>\n",
       "</pre>\n"
      ],
      "text/plain": [
       "\u001b[1;34mtext2digits\u001b[0m:\n",
       "         - \u001b[32msource:\u001b[0m    The clown blew up forty-seven + thirteen = sixty balloons. Answer: sixty\n",
       "         - \u001b[32mconverted:\u001b[0m The clown blew up \u001b[1;36m47\u001b[0m + \u001b[1;36m13\u001b[0m = \u001b[1;36m60\u001b[0m balloons. Answer: \u001b[1;36m60\u001b[0m\n",
       "         - \u001b[32mfinal:\u001b[0m     \u001b[1;36m60\u001b[0m\n"
      ]
     },
     "metadata": {},
     "output_type": "display_data"
    },
    {
     "data": {
      "text/html": [
       "<pre style=\"white-space:pre;overflow-x:auto;line-height:normal;font-family:Menlo,'DejaVu Sans Mono',consolas,'Courier New',monospace\"><span style=\"color: #800000; text-decoration-color: #800000\">split_fn: no numbers found. Received:</span> `The clown blew up forty-seven + thirteen = sixty balloons. Answer: sixty`. \n",
       "Text2Digit worked. Output: `<span style=\"color: #008080; text-decoration-color: #008080; font-weight: bold\">60</span>`\n",
       "</pre>\n"
      ],
      "text/plain": [
       "\u001b[31msplit_fn: no numbers found. Received:\u001b[0m `The clown blew up forty-seven + thirteen = sixty balloons. Answer: sixty`. \n",
       "Text2Digit worked. Output: `\u001b[1;36m60\u001b[0m`\n"
      ]
     },
     "metadata": {},
     "output_type": "display_data"
    },
    {
     "data": {
      "text/html": [
       "<pre style=\"white-space:pre;overflow-x:auto;line-height:normal;font-family:Menlo,'DejaVu Sans Mono',consolas,'Courier New',monospace\"><span style=\"color: #000080; text-decoration-color: #000080; font-weight: bold\">text2digits</span>:\n",
       "         - <span style=\"color: #008000; text-decoration-color: #008000\">source:</span>    The clown blew up forty-seven + thirteen = sixty balloons now. Answer: sixty\n",
       "         - <span style=\"color: #008000; text-decoration-color: #008000\">converted:</span> The clown blew up <span style=\"color: #008080; text-decoration-color: #008080; font-weight: bold\">47</span> + <span style=\"color: #008080; text-decoration-color: #008080; font-weight: bold\">13</span> = <span style=\"color: #008080; text-decoration-color: #008080; font-weight: bold\">60</span> balloons now. Answer: <span style=\"color: #008080; text-decoration-color: #008080; font-weight: bold\">60</span>\n",
       "         - <span style=\"color: #008000; text-decoration-color: #008000\">final:</span>     <span style=\"color: #008080; text-decoration-color: #008080; font-weight: bold\">60</span>\n",
       "</pre>\n"
      ],
      "text/plain": [
       "\u001b[1;34mtext2digits\u001b[0m:\n",
       "         - \u001b[32msource:\u001b[0m    The clown blew up forty-seven + thirteen = sixty balloons now. Answer: sixty\n",
       "         - \u001b[32mconverted:\u001b[0m The clown blew up \u001b[1;36m47\u001b[0m + \u001b[1;36m13\u001b[0m = \u001b[1;36m60\u001b[0m balloons now. Answer: \u001b[1;36m60\u001b[0m\n",
       "         - \u001b[32mfinal:\u001b[0m     \u001b[1;36m60\u001b[0m\n"
      ]
     },
     "metadata": {},
     "output_type": "display_data"
    },
    {
     "data": {
      "text/html": [
       "<pre style=\"white-space:pre;overflow-x:auto;line-height:normal;font-family:Menlo,'DejaVu Sans Mono',consolas,'Courier New',monospace\"><span style=\"color: #800000; text-decoration-color: #800000\">split_fn: no numbers found. Received:</span> `The clown blew up forty-seven + thirteen = sixty balloons now. Answer: \n",
       "sixty`. Text2Digit worked. Output: `<span style=\"color: #008080; text-decoration-color: #008080; font-weight: bold\">60</span>`\n",
       "</pre>\n"
      ],
      "text/plain": [
       "\u001b[31msplit_fn: no numbers found. Received:\u001b[0m `The clown blew up forty-seven + thirteen = sixty balloons now. Answer: \n",
       "sixty`. Text2Digit worked. Output: `\u001b[1;36m60\u001b[0m`\n"
      ]
     },
     "metadata": {},
     "output_type": "display_data"
    },
    {
     "data": {
      "text/html": [
       "<pre style=\"white-space:pre;overflow-x:auto;line-height:normal;font-family:Menlo,'DejaVu Sans Mono',consolas,'Courier New',monospace\"><span style=\"color: #000080; text-decoration-color: #000080; font-weight: bold\">text2digits</span>:\n",
       "         - <span style=\"color: #008000; text-decoration-color: #008000\">source:</span>    The clown has forty-seven + thirteen = sixty balloons now. Answer: sixty\n",
       "         - <span style=\"color: #008000; text-decoration-color: #008000\">converted:</span> The clown has <span style=\"color: #008080; text-decoration-color: #008080; font-weight: bold\">47</span> + <span style=\"color: #008080; text-decoration-color: #008080; font-weight: bold\">13</span> = <span style=\"color: #008080; text-decoration-color: #008080; font-weight: bold\">60</span> balloons now. Answer: <span style=\"color: #008080; text-decoration-color: #008080; font-weight: bold\">60</span>\n",
       "         - <span style=\"color: #008000; text-decoration-color: #008000\">final:</span>     <span style=\"color: #008080; text-decoration-color: #008080; font-weight: bold\">60</span>\n",
       "</pre>\n"
      ],
      "text/plain": [
       "\u001b[1;34mtext2digits\u001b[0m:\n",
       "         - \u001b[32msource:\u001b[0m    The clown has forty-seven + thirteen = sixty balloons now. Answer: sixty\n",
       "         - \u001b[32mconverted:\u001b[0m The clown has \u001b[1;36m47\u001b[0m + \u001b[1;36m13\u001b[0m = \u001b[1;36m60\u001b[0m balloons now. Answer: \u001b[1;36m60\u001b[0m\n",
       "         - \u001b[32mfinal:\u001b[0m     \u001b[1;36m60\u001b[0m\n"
      ]
     },
     "metadata": {},
     "output_type": "display_data"
    },
    {
     "data": {
      "text/html": [
       "<pre style=\"white-space:pre;overflow-x:auto;line-height:normal;font-family:Menlo,'DejaVu Sans Mono',consolas,'Courier New',monospace\"><span style=\"color: #800000; text-decoration-color: #800000\">split_fn: no numbers found. Received:</span> `The clown has forty-seven + thirteen = sixty balloons now. Answer: sixty`. \n",
       "Text2Digit worked. Output: `<span style=\"color: #008080; text-decoration-color: #008080; font-weight: bold\">60</span>`\n",
       "</pre>\n"
      ],
      "text/plain": [
       "\u001b[31msplit_fn: no numbers found. Received:\u001b[0m `The clown has forty-seven + thirteen = sixty balloons now. Answer: sixty`. \n",
       "Text2Digit worked. Output: `\u001b[1;36m60\u001b[0m`\n"
      ]
     },
     "metadata": {},
     "output_type": "display_data"
    },
    {
     "data": {
      "text/html": [
       "<pre style=\"white-space:pre;overflow-x:auto;line-height:normal;font-family:Menlo,'DejaVu Sans Mono',consolas,'Courier New',monospace\"><span style=\"color: #000080; text-decoration-color: #000080; font-weight: bold\">text2digits</span>:\n",
       "         - <span style=\"color: #008000; text-decoration-color: #008000\">source:</span>    The clown blew up forty-seven + thirteen = sixty balloons. Answer: sixty\n",
       "         - <span style=\"color: #008000; text-decoration-color: #008000\">converted:</span> The clown blew up <span style=\"color: #008080; text-decoration-color: #008080; font-weight: bold\">47</span> + <span style=\"color: #008080; text-decoration-color: #008080; font-weight: bold\">13</span> = <span style=\"color: #008080; text-decoration-color: #008080; font-weight: bold\">60</span> balloons. Answer: <span style=\"color: #008080; text-decoration-color: #008080; font-weight: bold\">60</span>\n",
       "         - <span style=\"color: #008000; text-decoration-color: #008000\">final:</span>     <span style=\"color: #008080; text-decoration-color: #008080; font-weight: bold\">60</span>\n",
       "</pre>\n"
      ],
      "text/plain": [
       "\u001b[1;34mtext2digits\u001b[0m:\n",
       "         - \u001b[32msource:\u001b[0m    The clown blew up forty-seven + thirteen = sixty balloons. Answer: sixty\n",
       "         - \u001b[32mconverted:\u001b[0m The clown blew up \u001b[1;36m47\u001b[0m + \u001b[1;36m13\u001b[0m = \u001b[1;36m60\u001b[0m balloons. Answer: \u001b[1;36m60\u001b[0m\n",
       "         - \u001b[32mfinal:\u001b[0m     \u001b[1;36m60\u001b[0m\n"
      ]
     },
     "metadata": {},
     "output_type": "display_data"
    },
    {
     "data": {
      "text/html": [
       "<pre style=\"white-space:pre;overflow-x:auto;line-height:normal;font-family:Menlo,'DejaVu Sans Mono',consolas,'Courier New',monospace\"><span style=\"color: #800000; text-decoration-color: #800000\">split_fn: no numbers found. Received:</span> `The clown blew up forty-seven + thirteen = sixty balloons. Answer: sixty`. \n",
       "Text2Digit worked. Output: `<span style=\"color: #008080; text-decoration-color: #008080; font-weight: bold\">60</span>`\n",
       "</pre>\n"
      ],
      "text/plain": [
       "\u001b[31msplit_fn: no numbers found. Received:\u001b[0m `The clown blew up forty-seven + thirteen = sixty balloons. Answer: sixty`. \n",
       "Text2Digit worked. Output: `\u001b[1;36m60\u001b[0m`\n"
      ]
     },
     "metadata": {},
     "output_type": "display_data"
    },
    {
     "data": {
      "text/html": [
       "<pre style=\"white-space:pre;overflow-x:auto;line-height:normal;font-family:Menlo,'DejaVu Sans Mono',consolas,'Courier New',monospace\"><span style=\"color: #000080; text-decoration-color: #000080; font-weight: bold\">text2digits</span>:\n",
       "         - <span style=\"color: #008000; text-decoration-color: #008000\">source:</span>    The clown blew up forty-seven + thirteen = sixty balloons now. Answer: sixty\n",
       "         - <span style=\"color: #008000; text-decoration-color: #008000\">converted:</span> The clown blew up <span style=\"color: #008080; text-decoration-color: #008080; font-weight: bold\">47</span> + <span style=\"color: #008080; text-decoration-color: #008080; font-weight: bold\">13</span> = <span style=\"color: #008080; text-decoration-color: #008080; font-weight: bold\">60</span> balloons now. Answer: <span style=\"color: #008080; text-decoration-color: #008080; font-weight: bold\">60</span>\n",
       "         - <span style=\"color: #008000; text-decoration-color: #008000\">final:</span>     <span style=\"color: #008080; text-decoration-color: #008080; font-weight: bold\">60</span>\n",
       "</pre>\n"
      ],
      "text/plain": [
       "\u001b[1;34mtext2digits\u001b[0m:\n",
       "         - \u001b[32msource:\u001b[0m    The clown blew up forty-seven + thirteen = sixty balloons now. Answer: sixty\n",
       "         - \u001b[32mconverted:\u001b[0m The clown blew up \u001b[1;36m47\u001b[0m + \u001b[1;36m13\u001b[0m = \u001b[1;36m60\u001b[0m balloons now. Answer: \u001b[1;36m60\u001b[0m\n",
       "         - \u001b[32mfinal:\u001b[0m     \u001b[1;36m60\u001b[0m\n"
      ]
     },
     "metadata": {},
     "output_type": "display_data"
    },
    {
     "data": {
      "text/html": [
       "<pre style=\"white-space:pre;overflow-x:auto;line-height:normal;font-family:Menlo,'DejaVu Sans Mono',consolas,'Courier New',monospace\"><span style=\"color: #800000; text-decoration-color: #800000\">split_fn: no numbers found. Received:</span> `The clown blew up forty-seven + thirteen = sixty balloons now. Answer: \n",
       "sixty`. Text2Digit worked. Output: `<span style=\"color: #008080; text-decoration-color: #008080; font-weight: bold\">60</span>`\n",
       "</pre>\n"
      ],
      "text/plain": [
       "\u001b[31msplit_fn: no numbers found. Received:\u001b[0m `The clown blew up forty-seven + thirteen = sixty balloons now. Answer: \n",
       "sixty`. Text2Digit worked. Output: `\u001b[1;36m60\u001b[0m`\n"
      ]
     },
     "metadata": {},
     "output_type": "display_data"
    },
    {
     "name": "stderr",
     "output_type": "stream",
     "text": [
      "Accuracy: 41.2%: 100%|██████████| 2023/2023 [1:33:01<00:00,  2.76s/it]\n"
     ]
    },
    {
     "data": {
      "text/html": [
       "<pre style=\"white-space:pre;overflow-x:auto;line-height:normal;font-family:Menlo,'DejaVu Sans Mono',consolas,'Courier New',monospace\"><span style=\"font-weight: bold\">{</span>\n",
       "    <span style=\"color: #008000; text-decoration-color: #008000\">'shuffle'</span>: <span style=\"color: #00ff00; text-decoration-color: #00ff00; font-style: italic\">True</span>,\n",
       "    <span style=\"color: #008000; text-decoration-color: #008000\">'verbose'</span>: <span style=\"color: #ff0000; text-decoration-color: #ff0000; font-style: italic\">False</span>,\n",
       "    <span style=\"color: #008000; text-decoration-color: #008000\">'num_beams'</span>: <span style=\"color: #008080; text-decoration-color: #008080; font-weight: bold\">8</span>,\n",
       "    <span style=\"color: #008000; text-decoration-color: #008000\">'batch_size'</span>: <span style=\"color: #008080; text-decoration-color: #008080; font-weight: bold\">1</span>,\n",
       "    <span style=\"color: #008000; text-decoration-color: #008000\">'max_new_tokens'</span>: <span style=\"color: #008080; text-decoration-color: #008080; font-weight: bold\">100</span>,\n",
       "    <span style=\"color: #008000; text-decoration-color: #008000\">'use_majority_vote'</span>: <span style=\"color: #00ff00; text-decoration-color: #00ff00; font-style: italic\">True</span>,\n",
       "    <span style=\"color: #008000; text-decoration-color: #008000\">'use_group_beam_search'</span>: <span style=\"color: #ff0000; text-decoration-color: #ff0000; font-style: italic\">False</span>,\n",
       "    <span style=\"color: #008000; text-decoration-color: #008000\">'generation_extra_kwargs'</span>: <span style=\"font-weight: bold\">{</span><span style=\"color: #008000; text-decoration-color: #008000\">'repetition_penalty'</span>: <span style=\"color: #008080; text-decoration-color: #008080; font-weight: bold\">50.0</span><span style=\"font-weight: bold\">}</span>,\n",
       "    <span style=\"color: #008000; text-decoration-color: #008000\">'context'</span>: <span style=\"color: #008000; text-decoration-color: #008000\">\"Question: John's dad bought four hundred fourteen meters of string. If he wanted to cut the string </span>\n",
       "<span style=\"color: #008000; text-decoration-color: #008000\">into pieces with each piece being seven meters long, how many full sized pieces could he make? Let's think about it</span>\n",
       "<span style=\"color: #008000; text-decoration-color: #008000\">step by step. Chain-of-thought: 414/7=59 r1 Answer: 59 Question: After recess, Buddy changed clothes for gym class.</span>\n",
       "<span style=\"color: #008000; text-decoration-color: #008000\">Down at the gym, all the students were divided into two groups. If one group has 34 members and the other has 37, </span>\n",
       "<span style=\"color: #008000; text-decoration-color: #008000\">how many students are in Buddy's gym class? Let's think about it step by step. Chain-of-thought: 34+37=71 Answer: </span>\n",
       "<span style=\"color: #008000; text-decoration-color: #008000\">71 Question: The Litter Patrol picked up 10 glass bottles and 8 aluminum cans on Saturday. How many pieces of </span>\n",
       "<span style=\"color: #008000; text-decoration-color: #008000\">litter did they pick up altogether? Let's think about it step by step. Chain-of-thought: 10+8=18 Answer: 18 </span>\n",
       "<span style=\"color: #008000; text-decoration-color: #008000\">Question: Janet's dad took the family out to eat for her birthday. There were 10 people total. There were 8 kids </span>\n",
       "<span style=\"color: #008000; text-decoration-color: #008000\">and everyone else was an adult. How many adults were there? Let's think about it step by step. Chain-of-thought: </span>\n",
       "<span style=\"color: #008000; text-decoration-color: #008000\">10-8=2 Answer: 2 Question: Warren has 252 guests coming to his party. Each table will hold 4 guests. How many </span>\n",
       "<span style=\"color: #008000; text-decoration-color: #008000\">tables will he need? Let's think about it step by step. Chain-of-thought: 252/4=63 Answer: 63 Question: Paul got a </span>\n",
       "<span style=\"color: #008000; text-decoration-color: #008000\">box of 479 crayons for his birthday. At the end of the school year, he only had 134 left. How many crayons had been</span>\n",
       "<span style=\"color: #008000; text-decoration-color: #008000\">lost or given away? Let's think about it step by step. Chain-of-thought: 479-134=345 Answer: 345 Question: When </span>\n",
       "<span style=\"color: #008000; text-decoration-color: #008000\">relatives visit Haley and her family, she and her cousins do origami. If she has 48 origami papers to give away to </span>\n",
       "<span style=\"color: #008000; text-decoration-color: #008000\">her six cousins, how many will each receive if she gives everyone the same number of origami papers? Let's think </span>\n",
       "<span style=\"color: #008000; text-decoration-color: #008000\">about it step by step. Chain-of-thought: 48/6=8 Answer: 8 Question: Simon, Mark, Kevin, and Carl love collecting </span>\n",
       "<span style=\"color: #008000; text-decoration-color: #008000\">stamps. They meet up every month to compare and share their collections with each other. During the previous month,</span>\n",
       "<span style=\"color: #008000; text-decoration-color: #008000\">Kevin was able to collect 45 stamps while Simon was only able to collect 27. How many more stamps does Kevin have </span>\n",
       "<span style=\"color: #008000; text-decoration-color: #008000\">more than Simon? Let's think about it step by step. Chain-of-thought: 45-27=18 Answer: 18\"</span>,\n",
       "    <span style=\"color: #008000; text-decoration-color: #008000\">'with_scratchpads'</span>: <span style=\"color: #00ff00; text-decoration-color: #00ff00; font-style: italic\">True</span>\n",
       "<span style=\"font-weight: bold\">}</span>\n",
       "</pre>\n"
      ],
      "text/plain": [
       "\u001b[1m{\u001b[0m\n",
       "    \u001b[32m'shuffle'\u001b[0m: \u001b[3;92mTrue\u001b[0m,\n",
       "    \u001b[32m'verbose'\u001b[0m: \u001b[3;91mFalse\u001b[0m,\n",
       "    \u001b[32m'num_beams'\u001b[0m: \u001b[1;36m8\u001b[0m,\n",
       "    \u001b[32m'batch_size'\u001b[0m: \u001b[1;36m1\u001b[0m,\n",
       "    \u001b[32m'max_new_tokens'\u001b[0m: \u001b[1;36m100\u001b[0m,\n",
       "    \u001b[32m'use_majority_vote'\u001b[0m: \u001b[3;92mTrue\u001b[0m,\n",
       "    \u001b[32m'use_group_beam_search'\u001b[0m: \u001b[3;91mFalse\u001b[0m,\n",
       "    \u001b[32m'generation_extra_kwargs'\u001b[0m: \u001b[1m{\u001b[0m\u001b[32m'repetition_penalty'\u001b[0m: \u001b[1;36m50.0\u001b[0m\u001b[1m}\u001b[0m,\n",
       "    \u001b[32m'context'\u001b[0m: \u001b[32m\"Question: John's dad bought four hundred fourteen meters of string. If he wanted to cut the string \u001b[0m\n",
       "\u001b[32minto pieces with each piece being seven meters long, how many full sized pieces could he make? Let's think about it\u001b[0m\n",
       "\u001b[32mstep by step. Chain-of-thought: 414/\u001b[0m\u001b[32m7\u001b[0m\u001b[32m=\u001b[0m\u001b[32m59\u001b[0m\u001b[32m r1 Answer: 59 Question: After recess, Buddy changed clothes for gym class.\u001b[0m\n",
       "\u001b[32mDown at the gym, all the students were divided into two groups. If one group has 34 members and the other has 37, \u001b[0m\n",
       "\u001b[32mhow many students are in Buddy's gym class? Let's think about it step by step. Chain-of-thought: 34+\u001b[0m\u001b[32m37\u001b[0m\u001b[32m=\u001b[0m\u001b[32m71\u001b[0m\u001b[32m Answer: \u001b[0m\n",
       "\u001b[32m71 Question: The Litter Patrol picked up 10 glass bottles and 8 aluminum cans on Saturday. How many pieces of \u001b[0m\n",
       "\u001b[32mlitter did they pick up altogether? Let's think about it step by step. Chain-of-thought: 10+\u001b[0m\u001b[32m8\u001b[0m\u001b[32m=\u001b[0m\u001b[32m18\u001b[0m\u001b[32m Answer: 18 \u001b[0m\n",
       "\u001b[32mQuestion: Janet's dad took the family out to eat for her birthday. There were 10 people total. There were 8 kids \u001b[0m\n",
       "\u001b[32mand everyone else was an adult. How many adults were there? Let's think about it step by step. Chain-of-thought: \u001b[0m\n",
       "\u001b[32m10-\u001b[0m\u001b[32m8\u001b[0m\u001b[32m=\u001b[0m\u001b[32m2\u001b[0m\u001b[32m Answer: 2 Question: Warren has 252 guests coming to his party. Each table will hold 4 guests. How many \u001b[0m\n",
       "\u001b[32mtables will he need? Let's think about it step by step. Chain-of-thought: 252/\u001b[0m\u001b[32m4\u001b[0m\u001b[32m=\u001b[0m\u001b[32m63\u001b[0m\u001b[32m Answer: 63 Question: Paul got a \u001b[0m\n",
       "\u001b[32mbox of 479 crayons for his birthday. At the end of the school year, he only had 134 left. How many crayons had been\u001b[0m\n",
       "\u001b[32mlost or given away? Let's think about it step by step. Chain-of-thought: 479-\u001b[0m\u001b[32m134\u001b[0m\u001b[32m=\u001b[0m\u001b[32m345\u001b[0m\u001b[32m Answer: 345 Question: When \u001b[0m\n",
       "\u001b[32mrelatives visit Haley and her family, she and her cousins do origami. If she has 48 origami papers to give away to \u001b[0m\n",
       "\u001b[32mher six cousins, how many will each receive if she gives everyone the same number of origami papers? Let's think \u001b[0m\n",
       "\u001b[32mabout it step by step. Chain-of-thought: 48/\u001b[0m\u001b[32m6\u001b[0m\u001b[32m=\u001b[0m\u001b[32m8\u001b[0m\u001b[32m Answer: 8 Question: Simon, Mark, Kevin, and Carl love collecting \u001b[0m\n",
       "\u001b[32mstamps. They meet up every month to compare and share their collections with each other. During the previous month,\u001b[0m\n",
       "\u001b[32mKevin was able to collect 45 stamps while Simon was only able to collect 27. How many more stamps does Kevin have \u001b[0m\n",
       "\u001b[32mmore than Simon? Let's think about it step by step. Chain-of-thought: 45-\u001b[0m\u001b[32m27\u001b[0m\u001b[32m=\u001b[0m\u001b[32m18\u001b[0m\u001b[32m Answer: 18\"\u001b[0m,\n",
       "    \u001b[32m'with_scratchpads'\u001b[0m: \u001b[3;92mTrue\u001b[0m\n",
       "\u001b[1m}\u001b[0m\n"
      ]
     },
     "metadata": {},
     "output_type": "display_data"
    },
    {
     "data": {
      "text/html": [
       "<pre style=\"white-space:pre;overflow-x:auto;line-height:normal;font-family:Menlo,'DejaVu Sans Mono',consolas,'Courier New',monospace\"><span style=\"color: #008000; text-decoration-color: #008000; font-weight: bold\">Accuracy, torch.float32: </span><span style=\"color: #008000; text-decoration-color: #008000; font-weight: bold\">41.2</span><span style=\"color: #008000; text-decoration-color: #008000; font-weight: bold\">%</span>\n",
       "</pre>\n"
      ],
      "text/plain": [
       "\u001b[1;32mAccuracy, torch.float32: \u001b[0m\u001b[1;32m41.2\u001b[0m\u001b[1;32m%\u001b[0m\n"
      ]
     },
     "metadata": {},
     "output_type": "display_data"
    }
   ],
   "source": [
    "\n",
    "text2digits_ = text2digits.Text2Digits()\n",
    "num_pat = re.compile(r\"\\d+(?:[\\,\\.]\\d+)?\")\n",
    "\n",
    "\n",
    "def deal_with_words(text):\n",
    "    converted = text2digits_.convert(text)\n",
    "    output = num_pat.findall(converted)[-1]\n",
    "    rich.print(\n",
    "        f\"[bold blue]text2digits[/]:\\n\"\n",
    "        f\" \\t - [green]source:[/]    {text}\\n\"\n",
    "        f\" \\t - [green]converted:[/] {converted}\\n\"\n",
    "        f\" \\t - [green]final:[/]     {output}\"\n",
    "    )\n",
    "    return output \n",
    "\n",
    "\n",
    "def split_fn(x):\n",
    "    results = num_pat.findall(x)\n",
    "    if not results:\n",
    "        try:\n",
    "            output = deal_with_words(x)\n",
    "        except ValueError:\n",
    "            output = None\n",
    "\n",
    "        if output is not None:\n",
    "            rich.print(f\"[red]split_fn: no numbers found. Received:[/] `{x}`. Text2Digit worked. Output: `{output}`\")\n",
    "            output = str(output)\n",
    "        else:\n",
    "            rich.print(f\"[red]split_fn: no numbers found. Received:[/] `{x}`\")\n",
    "            output = None\n",
    "    else:\n",
    "        output = results[-1]\n",
    "    return output\n",
    "\n",
    "\n",
    "class ContextGeneration:\n",
    "    \"\"\"\n",
    "    \n",
    "    Namespace\n",
    "\n",
    "    \"\"\"\n",
    "\n",
    "    chain_of_thought_intro = \"Let's think about it step by step. Chain-of-thought:\"\n",
    "    answer_intro           = \"Answer:\"\n",
    "    question_intro         = \"Question:\"\n",
    "\n",
    "    @classmethod\n",
    "    def compose_fewshot_context(cls, dataset, n, with_scratchpad, seed):\n",
    "        \"\"\" \n",
    "        Creates a random few-shot context. Works fine with n = 0.\n",
    "        \"\"\"\n",
    "        rng = random.Random(seed)\n",
    "\n",
    "        indices = rng.sample(range(len(dataset)), n)\n",
    "        output = []\n",
    "        for i in indices:\n",
    "            scratchpad = dataset[i][\"scratchpad\"]\n",
    "            answer = dataset[i][\"answer\"]\n",
    "\n",
    "            assert \"#\" not in scratchpad, scratchpad\n",
    "            assert \"#\" not in answer, answer\n",
    "\n",
    "            text = \"Question: \" + dataset[i][\"question\"]\n",
    "            if with_scratchpad:\n",
    "                text += f\" {cls.chain_of_thought_intro} \" + scratchpad\n",
    "            \n",
    "            text += f\" {cls.answer_intro} \" + answer\n",
    "            output.append(text)\n",
    "\n",
    "        return \" \".join(output)\n",
    "\n",
    "    @classmethod\n",
    "    def collate(cls, inputs, tokenizer, few_shot_context, with_scratchpad):\n",
    "        \"\"\" Collates the inputs and prompts into a single list of strings. \"\"\"\n",
    "\n",
    "        first_context_addition = few_shot_context + f\" {cls.question_intro} \"\n",
    "        final_context_addition = f\" {cls.chain_of_thought_intro} \" if with_scratchpad else f\" {cls.answer_intro} \"\n",
    "\n",
    "        inputs = utils.dict_unzip(inputs)\n",
    "\n",
    "        question_text = [\n",
    "            first_context_addition + question + final_context_addition \n",
    "            for question in inputs[\"question\"]\n",
    "        ]\n",
    "\n",
    "        # rich.print(\n",
    "        #     f\"[bold blue]Question example:[/]\\n\" +\n",
    "        #     random.choice(question_text) \n",
    "        # )\n",
    "\n",
    "        output = tokenizer(\n",
    "            question_text,\n",
    "            padding=True,\n",
    "            return_tensors=\"pt\"\n",
    "        ) \n",
    "\n",
    "        output[\"answer\"] = inputs[\"answer\"]\n",
    "        output[\"scratchpad\"] = inputs[\"scratchpad\"]\n",
    "        \n",
    "        return {\n",
    "            k: v.to(\"cuda\") if isinstance(v, torch.Tensor) else v \n",
    "            for k, v in output.items()\n",
    "    }\n",
    "\n",
    "\n",
    "###############################################################################\n",
    "# Dataset stuff\n",
    "###############################################################################\n",
    "def format_output(output):\n",
    "    try:\n",
    "        float_conversion = float(output.replace(\",\", \"\"))\n",
    "    except (ValueError, ArithmeticError) as err:\n",
    "        rich.print(\n",
    "            f\"[bold red]Failed to convert to float. \"\n",
    "            f\"value is:[/] `{output}`, \"\n",
    "            f\"[bold red]error is:[/] {type(err)} {err}\"\n",
    "        )\n",
    "        return \"0\"\n",
    "    \n",
    "    rounding = round(float_conversion)\n",
    "    return str(rounding)\n",
    "\n",
    "\n",
    "def majority_vote(generated, tokenizer, answer_extraction_fn, verbose):\n",
    "    answers = []\n",
    "    for entry in generated:\n",
    "        decoded = tokenizer.decode(entry, skip_special_tokens=True)\n",
    "        output = answer_extraction_fn(decoded)\n",
    "        if output is not None:\n",
    "            answers.append(format_output(output))\n",
    "    \n",
    "    counter = collections.Counter(answers)\n",
    "    if verbose:\n",
    "        print(counter)\n",
    "    if counter:\n",
    "        return counter.most_common(1)[0][0]\n",
    "    else:\n",
    "        return \"0\"\n",
    "\n",
    "\n",
    "def majority_vote_batch(generated, tokenizer, answer_extraction_fn, verbose):\n",
    "    for entry in generated:\n",
    "        yield majority_vote(entry, tokenizer, answer_extraction_fn, verbose)\n",
    "\n",
    "def compare(pred, answ):\n",
    "    return format_output(pred.strip()) == format_output(answ.strip())\n",
    "\n",
    "\n",
    "def run(\n",
    "    *,\n",
    "    shuffle,\n",
    "    verbose,\n",
    "    context,\n",
    "    num_beams,\n",
    "    batch_size,\n",
    "    max_new_tokens,\n",
    "    with_scratchpads,\n",
    "    use_majority_vote,\n",
    "    use_group_beam_search,\n",
    "    generation_extra_kwargs\n",
    "):\n",
    "    args = locals().copy()\n",
    "    \n",
    "    with torch.inference_mode():\n",
    "        dataloader = torch.utils.data.DataLoader(\n",
    "            dataset_test,\n",
    "            shuffle=shuffle,\n",
    "            batch_size=batch_size,\n",
    "            collate_fn=lambda inputs: ContextGeneration.collate(\n",
    "                inputs, tokenizer, context, with_scratchpads\n",
    "            )\n",
    "        )\n",
    "\n",
    "        outputs = []\n",
    "        tqdm_obj = tqdm(dataloader)\n",
    "\n",
    "        extra_kwargs = generation_extra_kwargs.copy()\n",
    "        if use_group_beam_search:\n",
    "            extra_kwargs[\"num_beam_groups\"] = num_beams\n",
    "\n",
    "        for batch in tqdm_obj:\n",
    "            output = model.generate(\n",
    "                input_ids            = batch[\"input_ids\"],\n",
    "                attention_mask       = batch[\"attention_mask\"],\n",
    "                num_beams            = num_beams,\n",
    "                num_return_sequences = num_beams if use_majority_vote else 1,\n",
    "                max_new_tokens       = max_new_tokens,\n",
    "                **extra_kwargs\n",
    "            ).reshape(batch_size, num_beams if use_majority_vote else 1, -1)\n",
    "\n",
    "            predictions = list(majority_vote_batch(output, tokenizer, split_fn, verbose))\n",
    "            raw_decoded = [\n",
    "                [tokenizer.decode(x, skip_special_tokens=True) for x in batch_entry] \n",
    "                for batch_entry in output\n",
    "            ]\n",
    "\n",
    "            answer_decoded = [list(map(split_fn, x)) for x in raw_decoded]\n",
    "\n",
    "            if verbose:\n",
    "                for prediction, answer, raw_decoded_entry, answer_decoded, input_text in zip(\n",
    "                    predictions, \n",
    "                    batch[\"answer\"], \n",
    "                    raw_decoded, \n",
    "                    answer_decoded, \n",
    "                    [tokenizer.decode(x) for x in batch[\"input_ids\"]]\n",
    "                ):\n",
    "\n",
    "                    rich.print(\n",
    "                        f\"[bold blue]input_text[/]:      {input_text}\\n\"\n",
    "                        f\"[bold blue]ref_answer[/]:      {answer}\\n\"\n",
    "                        f\"[bold blue]prediction[/]:      {prediction}\\n\"\n",
    "                        # f\"[bold blue]raw_decoded[/]:     {raw_decoded_entry}\\n\"\n",
    "                        f\"[bold blue]answer_decoded[/]:  {answer_decoded}\"\n",
    "                    )\n",
    "                    rich.print(\"[bold blue]Raw Decoded:[/]\")\n",
    "                    for v in raw_decoded_entry:\n",
    "                        rich.print(f\" [bold]-[/] {v}\")\n",
    "\n",
    "            good_bad_preds = [\n",
    "                compare(pred=pred, answ=answ) \n",
    "                for pred, answ in zip(predictions, batch[\"answer\"])\n",
    "            ]\n",
    "\n",
    "            # print([(format_output(a), format_output(b), a, b) for a, b in zip(predictions, batch[\"answer\"])])\n",
    "            # print(good_bad_preds)\n",
    "\n",
    "            outputs.extend(good_bad_preds)\n",
    "            tqdm_obj.set_description(f\"Accuracy: {np.mean(outputs):.1%}\")\n",
    "            \n",
    "        accuracy = np.mean(outputs)\n",
    "\n",
    "        rich.print(args)\n",
    "        rich.print(f\"[bold green]Accuracy, {model.dtype}: {accuracy:.1%}\")\n",
    "\n",
    "\n",
    "verbose = False\n",
    "shuffle = True\n",
    "n_shots = 8\n",
    "num_beams = 8\n",
    "batch_size = 1\n",
    "max_new_tokens = 100\n",
    "with_scratchpads = True\n",
    "use_majority_vote = True\n",
    "use_group_beam_search = False\n",
    "few_shot_context_rng_seed = 42  # Makes sure the context is the same if we want it to stay the same\n",
    "\n",
    "generation_extra_kwargs = dict(\n",
    "    repetition_penalty=50.,\n",
    ")\n",
    "\n",
    "\n",
    "context = ContextGeneration.compose_fewshot_context(\n",
    "        dataset_train, \n",
    "        n_shots, \n",
    "        with_scratchpads, \n",
    "        few_shot_context_rng_seed,\n",
    "    )\n",
    "\n",
    "\n",
    "rich.print(\n",
    "    f\"[bold blue]Context[/]:\\n\" +\n",
    "    context\n",
    ")\n",
    "\n",
    "\n",
    "run(\n",
    "    shuffle=shuffle,\n",
    "    verbose=verbose,\n",
    "    context=context,\n",
    "    num_beams=num_beams, \n",
    "    batch_size=batch_size, \n",
    "    max_new_tokens=max_new_tokens, \n",
    "    with_scratchpads=with_scratchpads, \n",
    "    use_majority_vote=use_majority_vote, \n",
    "    use_group_beam_search=use_group_beam_search,\n",
    "    generation_extra_kwargs=generation_extra_kwargs\n",
    ")"
   ]
  },
  {
   "cell_type": "markdown",
   "metadata": {},
   "source": [
    "### ASDiv Dataset:\n",
    "\n",
    "- **At a glance**: float32, no context (except let's do this step by step), 8 beams majority vote, fixed number parser.\n",
    "  - **Accuracy**: 37.9%\n",
    "  - **Precision**: float32\n",
    "  - **num_beams**: 8\n",
    "  - **batch_size**: 1\n",
    "  - **max_new_tokens**: 100\n",
    "  - **use_majority_vote**: True\n",
    "  - **use_group_beam_search**: False\n",
    "  - **generation_extra_kwargs**: \n",
    "    - *repetition_penalty*: 50.0\n",
    "    - *context*: ''\n",
    "  - **Notes**: \n",
    "    - For the word outputs, the word2num often doesn't pickup the correct (last) word.\n",
    "    - Uses \"Let's do this step by step\".\n",
    "\n",
    "- **At a glance**: 8 shot (random) context, with scrachpad. The scratchpads are the Formula from the dataset, so they are pretty poor.\n",
    "  - **Accuracy**: 41.2%\n",
    "  - **Precision**: float32\n",
    "  - **num_beams**: 8\n",
    "  - **batch_size**: 1\n",
    "  - **max_new_tokens**: 100\n",
    "  - **use_majority_vote**: True\n",
    "  - **use_group_beam_search**: False\n",
    "  - **generation_extra_kwargs**: \n",
    "    - *repetition_penalty*: 50.0\n",
    "    - *context*: 8 examples in the context, WITH SCRATCHPADS.\n",
    "    - *context seed*: 42\n"
   ]
  },
  {
   "cell_type": "code",
   "execution_count": null,
   "metadata": {},
   "outputs": [],
   "source": []
  },
  {
   "cell_type": "code",
   "execution_count": null,
   "metadata": {},
   "outputs": [],
   "source": []
  }
 ],
 "metadata": {
  "kernelspec": {
   "display_name": "Python 3.9.12 ('base')",
   "language": "python",
   "name": "python3"
  },
  "language_info": {
   "codemirror_mode": {
    "name": "ipython",
    "version": 3
   },
   "file_extension": ".py",
   "mimetype": "text/x-python",
   "name": "python",
   "nbconvert_exporter": "python",
   "pygments_lexer": "ipython3",
   "version": "3.9.12"
  },
  "orig_nbformat": 4,
  "vscode": {
   "interpreter": {
    "hash": "e5df931a2f82070a33ae1c20bff26f0f27f06960f553260770733988e82cce89"
   }
  }
 },
 "nbformat": 4,
 "nbformat_minor": 2
}
