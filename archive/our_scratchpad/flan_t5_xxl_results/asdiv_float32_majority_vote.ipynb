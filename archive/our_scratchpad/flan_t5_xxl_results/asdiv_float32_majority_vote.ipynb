{
 "cells": [
  {
   "cell_type": "code",
   "execution_count": 1,
   "metadata": {},
   "outputs": [
    {
     "data": {
      "text/plain": [
       "<module 'text2digits.text2digits' from '/home/mila/g/gagnonju/.main_anaconda/lib/python3.9/site-packages/text2digits/text2digits.py'>"
      ]
     },
     "execution_count": 1,
     "metadata": {},
     "output_type": "execute_result"
    }
   ],
   "source": [
    "\"\"\"\n",
    "A few decisions.\n",
    "\n",
    "###########################################################\n",
    "# Parsing the answer:\n",
    "###########################################################\n",
    "We take the answer by taking the last integer in the answer string.\n",
    "If we don't find an integer, we call word2num on the answer string, to maybe get a word form number.\n",
    "If we don't find a number, in the majority vote case, we ignore that generation in the vote.\n",
    "If none of the generations have a number, we return the default value.\n",
    "Similarily, in the case without majority vote, if we don't find a number, we return the default value.\n",
    "\n",
    "It would be fair to say that we should maybe not use the default value, and just assign the answer as incorrect.\n",
    "We may do that eventually. It would be pretty straightfoward, just change the default value to a stopper object,\n",
    "the comparison with the reference answer would always be false.\n",
    "\n",
    "Floating point numbers:\n",
    "We currently round to the closest integer.\n",
    "\n",
    "\n",
    "###########################################################\n",
    "# Picking questions in the dataset:\n",
    "###########################################################\n",
    "More than 85% of the questions in the ASDiv dataset have a single, integer answer.\n",
    "We only consider those questions, as they make the task of parsing the answer easier.\n",
    "\n",
    "\"\"\"\n",
    "\n",
    "\n",
    "import collections\n",
    "\n",
    "import importlib\n",
    "import itertools\n",
    "import math\n",
    "import more_itertools\n",
    "from pathlib import Path\n",
    "import random\n",
    "import re\n",
    "import time\n",
    "import xml\n",
    "\n",
    "import datasets\n",
    "import matplotlib.pyplot as plt\n",
    "import numpy as np\n",
    "import rich\n",
    "import rich.table\n",
    "import torch\n",
    "from tqdm import tqdm\n",
    "import transformers\n",
    "import wget\n",
    "from text2digits import text2digits\n",
    "\n",
    "import general_utils as utils\n",
    "\n",
    "import asdiv_dataset\n",
    "\n",
    "importlib.reload(text2digits)"
   ]
  },
  {
   "cell_type": "code",
   "execution_count": 2,
   "metadata": {},
   "outputs": [],
   "source": [
    "# dataset_train = datasets.load_dataset(\"gsm8k\", \"main\", split=\"train\")\n",
    "# dataset_test  = datasets.load_dataset(\"gsm8k\", \"main\", split=\"test\")\n",
    "\n",
    "# def clean_text(sample):\n",
    "#     return {k: v.replace(\"<<\", \"(\").replace(\">>\", \")\").strip() for k, v in sample.items()}\n",
    "\n",
    "# def split_answer_scratchpad(sample):\n",
    "#     scratchpad, answer = sample[\"answer\"].split(\"####\")\n",
    "#     return {\n",
    "#         \"question\": sample[\"question\"].strip(), \n",
    "#         \"answer\": answer.strip(), \n",
    "#         \"scratchpad\": scratchpad.strip()\n",
    "#     }\n",
    "\n",
    "\n",
    "# dataset_train = dataset_train.map(clean_text).map(split_answer_scratchpad)\n",
    "# dataset_test  = dataset_test .map(clean_text).map(split_answer_scratchpad)\n",
    "\n",
    "# print(dataset_train[0].keys())\n",
    "# print(dataset_test[0].keys())\n"
   ]
  },
  {
   "cell_type": "code",
   "execution_count": 3,
   "metadata": {},
   "outputs": [
    {
     "name": "stdout",
     "output_type": "stream",
     "text": [
      "Parsing dataset...\n",
      "Parsing complete.\n",
      "kept 87.8% of data points\n"
     ]
    }
   ],
   "source": [
    "dataset_train = asdiv_dataset.ASDivInteger(cache_path=\"ASDiv.xml\", quiet=False)\n",
    "dataset_test  = dataset_train"
   ]
  },
  {
   "cell_type": "code",
   "execution_count": 4,
   "metadata": {
    "notebookRunGroups": {
     "groupValue": "2"
    }
   },
   "outputs": [
    {
     "data": {
      "text/html": [
       "<pre style=\"white-space:pre;overflow-x:auto;line-height:normal;font-family:Menlo,'DejaVu Sans Mono',consolas,'Courier New',monospace\">\n",
       "<span style=\"color: #000080; text-decoration-color: #000080; font-weight: bold\">Loading model `google/flan-t5-xxl`</span> took <span style=\"color: #008080; text-decoration-color: #008080; font-weight: bold\">115.74717</span> seconds\n",
       "</pre>\n"
      ],
      "text/plain": [
       "\n",
       "\u001b[1;34mLoading model `google/flan-t5-xxl`\u001b[0m took \u001b[1;36m115.74717\u001b[0m seconds\n"
      ]
     },
     "metadata": {},
     "output_type": "display_data"
    },
    {
     "data": {
      "text/html": [
       "<pre style=\"white-space:pre;overflow-x:auto;line-height:normal;font-family:Menlo,'DejaVu Sans Mono',consolas,'Courier New',monospace\">\n",
       "<span style=\"color: #000080; text-decoration-color: #000080; font-weight: bold\">Converting model's type</span> took <span style=\"color: #008080; text-decoration-color: #008080; font-weight: bold\">0.00000</span> seconds\n",
       "</pre>\n"
      ],
      "text/plain": [
       "\n",
       "\u001b[1;34mConverting model's type\u001b[0m took \u001b[1;36m0.00000\u001b[0m seconds\n"
      ]
     },
     "metadata": {},
     "output_type": "display_data"
    },
    {
     "data": {
      "text/html": [
       "<pre style=\"white-space:pre;overflow-x:auto;line-height:normal;font-family:Menlo,'DejaVu Sans Mono',consolas,'Courier New',monospace\">\n",
       "<span style=\"color: #000080; text-decoration-color: #000080; font-weight: bold\">Moving model to GPU</span> took <span style=\"color: #008080; text-decoration-color: #008080; font-weight: bold\">10.67501</span> seconds\n",
       "</pre>\n"
      ],
      "text/plain": [
       "\n",
       "\u001b[1;34mMoving model to GPU\u001b[0m took \u001b[1;36m10.67501\u001b[0m seconds\n"
      ]
     },
     "metadata": {},
     "output_type": "display_data"
    },
    {
     "data": {
      "text/html": [
       "<pre style=\"white-space:pre;overflow-x:auto;line-height:normal;font-family:Menlo,'DejaVu Sans Mono',consolas,'Courier New',monospace\"><span style=\"color: #000080; text-decoration-color: #000080; font-weight: bold\">Model dtype:</span>  torch.float32\n",
       "</pre>\n"
      ],
      "text/plain": [
       "\u001b[1;34mModel dtype:\u001b[0m  torch.float32\n"
      ]
     },
     "metadata": {},
     "output_type": "display_data"
    },
    {
     "data": {
      "text/html": [
       "<pre style=\"white-space:pre;overflow-x:auto;line-height:normal;font-family:Menlo,'DejaVu Sans Mono',consolas,'Courier New',monospace\">\n",
       "<span style=\"color: #000080; text-decoration-color: #000080; font-weight: bold\">Model device:</span> <span style=\"color: #800080; text-decoration-color: #800080; font-weight: bold\">Counter</span><span style=\"font-weight: bold\">({</span><span style=\"color: #008000; text-decoration-color: #008000\">'cuda'</span>: <span style=\"color: #008080; text-decoration-color: #008080; font-weight: bold\">558</span><span style=\"font-weight: bold\">})</span>\n",
       "</pre>\n"
      ],
      "text/plain": [
       "\n",
       "\u001b[1;34mModel device:\u001b[0m \u001b[1;35mCounter\u001b[0m\u001b[1m(\u001b[0m\u001b[1m{\u001b[0m\u001b[32m'cuda'\u001b[0m: \u001b[1;36m558\u001b[0m\u001b[1m}\u001b[0m\u001b[1m)\u001b[0m\n"
      ]
     },
     "metadata": {},
     "output_type": "display_data"
    }
   ],
   "source": [
    "###############################################################################\n",
    "# Load the model\n",
    "###############################################################################\n",
    "model_name = \"google/flan-t5-xxl\"\n",
    "tokenizer = transformers.AutoTokenizer.from_pretrained(model_name)\n",
    "\n",
    "with utils.ctx_timeit(f\"Loading model `{model_name}`\"):\n",
    "    model = transformers.AutoModelForSeq2SeqLM.from_pretrained(model_name)\n",
    "\n",
    "with utils.ctx_timeit(\"Converting model's type\"):\n",
    "    # model_cpu\n",
    "    pass\n",
    "\n",
    "with utils.ctx_timeit(f\"Moving model to GPU\"):\n",
    "    model = model.cuda()\n",
    "\n",
    "rich.print(f\"[bold blue]Model dtype:[/]  {model.dtype}\")\n",
    "devices = collections.Counter(x.device.type for x in model.parameters())\n",
    "rich.print(f\"\\n[bold blue]Model device:[/] {devices}\")\n",
    "\n",
    "assert len(devices) == 1 and \"cuda\" in devices, devices"
   ]
  },
  {
   "cell_type": "code",
   "execution_count": 5,
   "metadata": {},
   "outputs": [],
   "source": [
    "def compose_fewshot_context(dataset, n, with_scratchpad, seed):\n",
    "    \"\"\" Creates a random few-shot context. Works fine with n = 0. \"\"\"\n",
    "    rng = random.Random(seed)\n",
    "\n",
    "    indices = rng.sample(range(len(dataset)), n)\n",
    "    output = []\n",
    "    for i in indices:\n",
    "        scratchpad = dataset[i][\"scratchpad\"]\n",
    "        answer = dataset[i][\"answer\"]\n",
    "\n",
    "        assert \"#\" not in scratchpad, scratchpad\n",
    "        assert \"#\" not in answer, answer\n",
    "\n",
    "        output.append(\n",
    "            \"Question:\\n\" + dataset[i][\"question\"] + \n",
    "            (\"\\nScratchpad:\\n\" + scratchpad if with_scratchpad else \"\") + \n",
    "            \"\\nAnswer:\\n\" + answer\n",
    "        )\n",
    "\n",
    "    return \"\\n\\n\".join(output)\n",
    "\n",
    "\n",
    "def collate(inputs, tokenizer, few_shot_context, with_scratchpad):\n",
    "    \"\"\" Collates the inputs and prompts into a single list of strings. \"\"\"\n",
    "    # first_context_addition = few_shot_context + \"\\n\\nQuestion:\\n\"\n",
    "    # final_context_addition = \"\\nScratchpad:\\n\" if with_scratchpad else \"\\nAnswer:\\n\"\n",
    "    first_context_addition = \"\"\n",
    "    final_context_addition = \" Let's think about it step by step.\"\n",
    "\n",
    "    inputs = utils.dict_unzip(inputs)\n",
    "\n",
    "    output = tokenizer(\n",
    "        [\n",
    "            first_context_addition + question + final_context_addition \n",
    "            for question in inputs[\"question\"]\n",
    "        ],\n",
    "        padding=True,\n",
    "        return_tensors=\"pt\"\n",
    "    ) \n",
    "\n",
    "    output[\"answer\"] = inputs[\"answer\"]\n",
    "    output[\"scratchpad\"] = inputs[\"scratchpad\"]\n",
    "    \n",
    "    return {\n",
    "        k: v.to(\"cuda\") if isinstance(v, torch.Tensor) else v \n",
    "        for k, v in output.items()\n",
    "    }\n",
    "\n",
    "\n",
    "###############################################################################\n",
    "# Dataset stuff\n",
    "###############################################################################\n",
    "def format_output(output):\n",
    "    try:\n",
    "        float_conversion = float(output.replace(\",\", \"\"))\n",
    "    except (ValueError, ArithmeticError) as err:\n",
    "        rich.print(\n",
    "            f\"[bold red]Failed to convert to float. \"\n",
    "            f\"value is:[/] `{output}`, \"\n",
    "            f\"[bold red]error is:[/] {type(err)} {err}\"\n",
    "        )\n",
    "        return \"0\"\n",
    "    \n",
    "    rounding = round(float_conversion)\n",
    "    return str(rounding)\n",
    "\n",
    "\n",
    "def majority_vote(generated, tokenizer, answer_extraction_fn, verbose):\n",
    "    answers = []\n",
    "    for entry in generated:\n",
    "        decoded = tokenizer.decode(entry, skip_special_tokens=True)\n",
    "        output = answer_extraction_fn(decoded)\n",
    "        if output is not None:\n",
    "            answers.append(format_output(output))\n",
    "    \n",
    "    counter = collections.Counter(answers)\n",
    "    if verbose:\n",
    "        print(counter)\n",
    "    if counter:\n",
    "        return counter.most_common(1)[0][0]\n",
    "    else:\n",
    "        return \"0\"\n",
    "\n",
    "\n",
    "def majority_vote_batch(generated, tokenizer, answer_extraction_fn, verbose):\n",
    "    for entry in generated:\n",
    "        yield majority_vote(entry, tokenizer, answer_extraction_fn, verbose)"
   ]
  },
  {
   "cell_type": "code",
   "execution_count": 6,
   "metadata": {},
   "outputs": [
    {
     "name": "stdout",
     "output_type": "stream",
     "text": [
      "\n"
     ]
    },
    {
     "name": "stderr",
     "output_type": "stream",
     "text": [
      "Accuracy: 33.9%:  15%|█▍        | 301/2023 [09:29<48:45,  1.70s/it]  "
     ]
    },
    {
     "data": {
      "text/html": [
       "<pre style=\"white-space:pre;overflow-x:auto;line-height:normal;font-family:Menlo,'DejaVu Sans Mono',consolas,'Courier New',monospace\"><span style=\"color: #000080; text-decoration-color: #000080; font-weight: bold\">text2digits</span>:\n",
       "         - <span style=\"color: #008000; text-decoration-color: #008000\">source:</span>    The sum of three consecutive even numbers is one hundred twenty-three. What is the largest of\n",
       "the three numbers?\n",
       "         - <span style=\"color: #008000; text-decoration-color: #008000\">converted:</span> The sum of <span style=\"color: #008080; text-decoration-color: #008080; font-weight: bold\">3</span> consecutive even numbers is <span style=\"color: #008080; text-decoration-color: #008080; font-weight: bold\">123</span>. What is the largest of the <span style=\"color: #008080; text-decoration-color: #008080; font-weight: bold\">3</span> numbers\n",
       "         - <span style=\"color: #008000; text-decoration-color: #008000\">final:</span>     <span style=\"color: #008080; text-decoration-color: #008080; font-weight: bold\">3</span>\n",
       "</pre>\n"
      ],
      "text/plain": [
       "\u001b[1;34mtext2digits\u001b[0m:\n",
       "         - \u001b[32msource:\u001b[0m    The sum of three consecutive even numbers is one hundred twenty-three. What is the largest of\n",
       "the three numbers?\n",
       "         - \u001b[32mconverted:\u001b[0m The sum of \u001b[1;36m3\u001b[0m consecutive even numbers is \u001b[1;36m123\u001b[0m. What is the largest of the \u001b[1;36m3\u001b[0m numbers\n",
       "         - \u001b[32mfinal:\u001b[0m     \u001b[1;36m3\u001b[0m\n"
      ]
     },
     "metadata": {},
     "output_type": "display_data"
    },
    {
     "data": {
      "text/html": [
       "<pre style=\"white-space:pre;overflow-x:auto;line-height:normal;font-family:Menlo,'DejaVu Sans Mono',consolas,'Courier New',monospace\"><span style=\"color: #800000; text-decoration-color: #800000\">split_fn: no numbers found. Received:</span> `The sum of three consecutive even numbers is one hundred twenty-three. What \n",
       "is the largest of the three numbers?`. Word2Num worked. Output: `<span style=\"color: #008080; text-decoration-color: #008080; font-weight: bold\">3</span>`\n",
       "</pre>\n"
      ],
      "text/plain": [
       "\u001b[31msplit_fn: no numbers found. Received:\u001b[0m `The sum of three consecutive even numbers is one hundred twenty-three. What \n",
       "is the largest of the three numbers?`. Word2Num worked. Output: `\u001b[1;36m3\u001b[0m`\n"
      ]
     },
     "metadata": {},
     "output_type": "display_data"
    },
    {
     "data": {
      "text/html": [
       "<pre style=\"white-space:pre;overflow-x:auto;line-height:normal;font-family:Menlo,'DejaVu Sans Mono',consolas,'Courier New',monospace\"><span style=\"color: #000080; text-decoration-color: #000080; font-weight: bold\">text2digits</span>:\n",
       "         - <span style=\"color: #008000; text-decoration-color: #008000\">source:</span>    The sum of three consecutive even numbers is one hundred twenty-three. What is the smallest \n",
       "of the three numbers?\n",
       "         - <span style=\"color: #008000; text-decoration-color: #008000\">converted:</span> The sum of <span style=\"color: #008080; text-decoration-color: #008080; font-weight: bold\">3</span> consecutive even numbers is <span style=\"color: #008080; text-decoration-color: #008080; font-weight: bold\">123</span>. What is the smallest of the <span style=\"color: #008080; text-decoration-color: #008080; font-weight: bold\">3</span> numbers\n",
       "         - <span style=\"color: #008000; text-decoration-color: #008000\">final:</span>     <span style=\"color: #008080; text-decoration-color: #008080; font-weight: bold\">3</span>\n",
       "</pre>\n"
      ],
      "text/plain": [
       "\u001b[1;34mtext2digits\u001b[0m:\n",
       "         - \u001b[32msource:\u001b[0m    The sum of three consecutive even numbers is one hundred twenty-three. What is the smallest \n",
       "of the three numbers?\n",
       "         - \u001b[32mconverted:\u001b[0m The sum of \u001b[1;36m3\u001b[0m consecutive even numbers is \u001b[1;36m123\u001b[0m. What is the smallest of the \u001b[1;36m3\u001b[0m numbers\n",
       "         - \u001b[32mfinal:\u001b[0m     \u001b[1;36m3\u001b[0m\n"
      ]
     },
     "metadata": {},
     "output_type": "display_data"
    },
    {
     "data": {
      "text/html": [
       "<pre style=\"white-space:pre;overflow-x:auto;line-height:normal;font-family:Menlo,'DejaVu Sans Mono',consolas,'Courier New',monospace\"><span style=\"color: #800000; text-decoration-color: #800000\">split_fn: no numbers found. Received:</span> `The sum of three consecutive even numbers is one hundred twenty-three. What \n",
       "is the smallest of the three numbers?`. Word2Num worked. Output: `<span style=\"color: #008080; text-decoration-color: #008080; font-weight: bold\">3</span>`\n",
       "</pre>\n"
      ],
      "text/plain": [
       "\u001b[31msplit_fn: no numbers found. Received:\u001b[0m `The sum of three consecutive even numbers is one hundred twenty-three. What \n",
       "is the smallest of the three numbers?`. Word2Num worked. Output: `\u001b[1;36m3\u001b[0m`\n"
      ]
     },
     "metadata": {},
     "output_type": "display_data"
    },
    {
     "data": {
      "text/html": [
       "<pre style=\"white-space:pre;overflow-x:auto;line-height:normal;font-family:Menlo,'DejaVu Sans Mono',consolas,'Courier New',monospace\"><span style=\"color: #000080; text-decoration-color: #000080; font-weight: bold\">text2digits</span>:\n",
       "         - <span style=\"color: #008000; text-decoration-color: #008000\">source:</span>    The sum of three consecutive even numbers is one hundred twenty-three. What is the largest of\n",
       "the three numbers?\n",
       "         - <span style=\"color: #008000; text-decoration-color: #008000\">converted:</span> The sum of <span style=\"color: #008080; text-decoration-color: #008080; font-weight: bold\">3</span> consecutive even numbers is <span style=\"color: #008080; text-decoration-color: #008080; font-weight: bold\">123</span>. What is the largest of the <span style=\"color: #008080; text-decoration-color: #008080; font-weight: bold\">3</span> numbers\n",
       "         - <span style=\"color: #008000; text-decoration-color: #008000\">final:</span>     <span style=\"color: #008080; text-decoration-color: #008080; font-weight: bold\">3</span>\n",
       "</pre>\n"
      ],
      "text/plain": [
       "\u001b[1;34mtext2digits\u001b[0m:\n",
       "         - \u001b[32msource:\u001b[0m    The sum of three consecutive even numbers is one hundred twenty-three. What is the largest of\n",
       "the three numbers?\n",
       "         - \u001b[32mconverted:\u001b[0m The sum of \u001b[1;36m3\u001b[0m consecutive even numbers is \u001b[1;36m123\u001b[0m. What is the largest of the \u001b[1;36m3\u001b[0m numbers\n",
       "         - \u001b[32mfinal:\u001b[0m     \u001b[1;36m3\u001b[0m\n"
      ]
     },
     "metadata": {},
     "output_type": "display_data"
    },
    {
     "data": {
      "text/html": [
       "<pre style=\"white-space:pre;overflow-x:auto;line-height:normal;font-family:Menlo,'DejaVu Sans Mono',consolas,'Courier New',monospace\"><span style=\"color: #800000; text-decoration-color: #800000\">split_fn: no numbers found. Received:</span> `The sum of three consecutive even numbers is one hundred twenty-three. What \n",
       "is the largest of the three numbers?`. Word2Num worked. Output: `<span style=\"color: #008080; text-decoration-color: #008080; font-weight: bold\">3</span>`\n",
       "</pre>\n"
      ],
      "text/plain": [
       "\u001b[31msplit_fn: no numbers found. Received:\u001b[0m `The sum of three consecutive even numbers is one hundred twenty-three. What \n",
       "is the largest of the three numbers?`. Word2Num worked. Output: `\u001b[1;36m3\u001b[0m`\n"
      ]
     },
     "metadata": {},
     "output_type": "display_data"
    },
    {
     "data": {
      "text/html": [
       "<pre style=\"white-space:pre;overflow-x:auto;line-height:normal;font-family:Menlo,'DejaVu Sans Mono',consolas,'Courier New',monospace\"><span style=\"color: #000080; text-decoration-color: #000080; font-weight: bold\">text2digits</span>:\n",
       "         - <span style=\"color: #008000; text-decoration-color: #008000\">source:</span>    The sum of three consecutive even numbers is one hundred twenty-three. What is the smallest \n",
       "of the three numbers?\n",
       "         - <span style=\"color: #008000; text-decoration-color: #008000\">converted:</span> The sum of <span style=\"color: #008080; text-decoration-color: #008080; font-weight: bold\">3</span> consecutive even numbers is <span style=\"color: #008080; text-decoration-color: #008080; font-weight: bold\">123</span>. What is the smallest of the <span style=\"color: #008080; text-decoration-color: #008080; font-weight: bold\">3</span> numbers\n",
       "         - <span style=\"color: #008000; text-decoration-color: #008000\">final:</span>     <span style=\"color: #008080; text-decoration-color: #008080; font-weight: bold\">3</span>\n",
       "</pre>\n"
      ],
      "text/plain": [
       "\u001b[1;34mtext2digits\u001b[0m:\n",
       "         - \u001b[32msource:\u001b[0m    The sum of three consecutive even numbers is one hundred twenty-three. What is the smallest \n",
       "of the three numbers?\n",
       "         - \u001b[32mconverted:\u001b[0m The sum of \u001b[1;36m3\u001b[0m consecutive even numbers is \u001b[1;36m123\u001b[0m. What is the smallest of the \u001b[1;36m3\u001b[0m numbers\n",
       "         - \u001b[32mfinal:\u001b[0m     \u001b[1;36m3\u001b[0m\n"
      ]
     },
     "metadata": {},
     "output_type": "display_data"
    },
    {
     "data": {
      "text/html": [
       "<pre style=\"white-space:pre;overflow-x:auto;line-height:normal;font-family:Menlo,'DejaVu Sans Mono',consolas,'Courier New',monospace\"><span style=\"color: #800000; text-decoration-color: #800000\">split_fn: no numbers found. Received:</span> `The sum of three consecutive even numbers is one hundred twenty-three. What \n",
       "is the smallest of the three numbers?`. Word2Num worked. Output: `<span style=\"color: #008080; text-decoration-color: #008080; font-weight: bold\">3</span>`\n",
       "</pre>\n"
      ],
      "text/plain": [
       "\u001b[31msplit_fn: no numbers found. Received:\u001b[0m `The sum of three consecutive even numbers is one hundred twenty-three. What \n",
       "is the smallest of the three numbers?`. Word2Num worked. Output: `\u001b[1;36m3\u001b[0m`\n"
      ]
     },
     "metadata": {},
     "output_type": "display_data"
    },
    {
     "name": "stderr",
     "output_type": "stream",
     "text": [
      "Accuracy: 37.1%:  25%|██▍       | 499/2023 [15:26<36:20,  1.43s/it]  "
     ]
    },
    {
     "data": {
      "text/html": [
       "<pre style=\"white-space:pre;overflow-x:auto;line-height:normal;font-family:Menlo,'DejaVu Sans Mono',consolas,'Courier New',monospace\"><span style=\"color: #000080; text-decoration-color: #000080; font-weight: bold\">text2digits</span>:\n",
       "         - <span style=\"color: #008000; text-decoration-color: #008000\">source:</span>    The store has fifty-six + eleven = sixty shirts now. The answer: sixty.\n",
       "         - <span style=\"color: #008000; text-decoration-color: #008000\">converted:</span> The store has <span style=\"color: #008080; text-decoration-color: #008080; font-weight: bold\">56</span> + <span style=\"color: #008080; text-decoration-color: #008080; font-weight: bold\">11</span> = <span style=\"color: #008080; text-decoration-color: #008080; font-weight: bold\">60</span> shirts now. The answer: <span style=\"color: #008080; text-decoration-color: #008080; font-weight: bold\">60</span>\n",
       "         - <span style=\"color: #008000; text-decoration-color: #008000\">final:</span>     <span style=\"color: #008080; text-decoration-color: #008080; font-weight: bold\">60</span>\n",
       "</pre>\n"
      ],
      "text/plain": [
       "\u001b[1;34mtext2digits\u001b[0m:\n",
       "         - \u001b[32msource:\u001b[0m    The store has fifty-six + eleven = sixty shirts now. The answer: sixty.\n",
       "         - \u001b[32mconverted:\u001b[0m The store has \u001b[1;36m56\u001b[0m + \u001b[1;36m11\u001b[0m = \u001b[1;36m60\u001b[0m shirts now. The answer: \u001b[1;36m60\u001b[0m\n",
       "         - \u001b[32mfinal:\u001b[0m     \u001b[1;36m60\u001b[0m\n"
      ]
     },
     "metadata": {},
     "output_type": "display_data"
    },
    {
     "data": {
      "text/html": [
       "<pre style=\"white-space:pre;overflow-x:auto;line-height:normal;font-family:Menlo,'DejaVu Sans Mono',consolas,'Courier New',monospace\"><span style=\"color: #800000; text-decoration-color: #800000\">split_fn: no numbers found. Received:</span> `The store has fifty-six + eleven = sixty shirts now. The answer: sixty.`. \n",
       "Word2Num worked. Output: `<span style=\"color: #008080; text-decoration-color: #008080; font-weight: bold\">60</span>`\n",
       "</pre>\n"
      ],
      "text/plain": [
       "\u001b[31msplit_fn: no numbers found. Received:\u001b[0m `The store has fifty-six + eleven = sixty shirts now. The answer: sixty.`. \n",
       "Word2Num worked. Output: `\u001b[1;36m60\u001b[0m`\n"
      ]
     },
     "metadata": {},
     "output_type": "display_data"
    },
    {
     "data": {
      "text/html": [
       "<pre style=\"white-space:pre;overflow-x:auto;line-height:normal;font-family:Menlo,'DejaVu Sans Mono',consolas,'Courier New',monospace\"><span style=\"color: #000080; text-decoration-color: #000080; font-weight: bold\">text2digits</span>:\n",
       "         - <span style=\"color: #008000; text-decoration-color: #008000\">source:</span>    The store has fifty-six + eleven = sixty shirts now. So the answer is sixty.\n",
       "         - <span style=\"color: #008000; text-decoration-color: #008000\">converted:</span> The store has <span style=\"color: #008080; text-decoration-color: #008080; font-weight: bold\">56</span> + <span style=\"color: #008080; text-decoration-color: #008080; font-weight: bold\">11</span> = <span style=\"color: #008080; text-decoration-color: #008080; font-weight: bold\">60</span> shirts now. So the answer is <span style=\"color: #008080; text-decoration-color: #008080; font-weight: bold\">60</span>\n",
       "         - <span style=\"color: #008000; text-decoration-color: #008000\">final:</span>     <span style=\"color: #008080; text-decoration-color: #008080; font-weight: bold\">60</span>\n",
       "</pre>\n"
      ],
      "text/plain": [
       "\u001b[1;34mtext2digits\u001b[0m:\n",
       "         - \u001b[32msource:\u001b[0m    The store has fifty-six + eleven = sixty shirts now. So the answer is sixty.\n",
       "         - \u001b[32mconverted:\u001b[0m The store has \u001b[1;36m56\u001b[0m + \u001b[1;36m11\u001b[0m = \u001b[1;36m60\u001b[0m shirts now. So the answer is \u001b[1;36m60\u001b[0m\n",
       "         - \u001b[32mfinal:\u001b[0m     \u001b[1;36m60\u001b[0m\n"
      ]
     },
     "metadata": {},
     "output_type": "display_data"
    },
    {
     "data": {
      "text/html": [
       "<pre style=\"white-space:pre;overflow-x:auto;line-height:normal;font-family:Menlo,'DejaVu Sans Mono',consolas,'Courier New',monospace\"><span style=\"color: #800000; text-decoration-color: #800000\">split_fn: no numbers found. Received:</span> `The store has fifty-six + eleven = sixty shirts now. So the answer is \n",
       "sixty.`. Word2Num worked. Output: `<span style=\"color: #008080; text-decoration-color: #008080; font-weight: bold\">60</span>`\n",
       "</pre>\n"
      ],
      "text/plain": [
       "\u001b[31msplit_fn: no numbers found. Received:\u001b[0m `The store has fifty-six + eleven = sixty shirts now. So the answer is \n",
       "sixty.`. Word2Num worked. Output: `\u001b[1;36m60\u001b[0m`\n"
      ]
     },
     "metadata": {},
     "output_type": "display_data"
    },
    {
     "data": {
      "text/html": [
       "<pre style=\"white-space:pre;overflow-x:auto;line-height:normal;font-family:Menlo,'DejaVu Sans Mono',consolas,'Courier New',monospace\"><span style=\"color: #000080; text-decoration-color: #000080; font-weight: bold\">text2digits</span>:\n",
       "         - <span style=\"color: #008000; text-decoration-color: #008000\">source:</span>    The store has fifty-six + eleven = sixty shirts now. The answer: sixty.\n",
       "         - <span style=\"color: #008000; text-decoration-color: #008000\">converted:</span> The store has <span style=\"color: #008080; text-decoration-color: #008080; font-weight: bold\">56</span> + <span style=\"color: #008080; text-decoration-color: #008080; font-weight: bold\">11</span> = <span style=\"color: #008080; text-decoration-color: #008080; font-weight: bold\">60</span> shirts now. The answer: <span style=\"color: #008080; text-decoration-color: #008080; font-weight: bold\">60</span>\n",
       "         - <span style=\"color: #008000; text-decoration-color: #008000\">final:</span>     <span style=\"color: #008080; text-decoration-color: #008080; font-weight: bold\">60</span>\n",
       "</pre>\n"
      ],
      "text/plain": [
       "\u001b[1;34mtext2digits\u001b[0m:\n",
       "         - \u001b[32msource:\u001b[0m    The store has fifty-six + eleven = sixty shirts now. The answer: sixty.\n",
       "         - \u001b[32mconverted:\u001b[0m The store has \u001b[1;36m56\u001b[0m + \u001b[1;36m11\u001b[0m = \u001b[1;36m60\u001b[0m shirts now. The answer: \u001b[1;36m60\u001b[0m\n",
       "         - \u001b[32mfinal:\u001b[0m     \u001b[1;36m60\u001b[0m\n"
      ]
     },
     "metadata": {},
     "output_type": "display_data"
    },
    {
     "data": {
      "text/html": [
       "<pre style=\"white-space:pre;overflow-x:auto;line-height:normal;font-family:Menlo,'DejaVu Sans Mono',consolas,'Courier New',monospace\"><span style=\"color: #800000; text-decoration-color: #800000\">split_fn: no numbers found. Received:</span> `The store has fifty-six + eleven = sixty shirts now. The answer: sixty.`. \n",
       "Word2Num worked. Output: `<span style=\"color: #008080; text-decoration-color: #008080; font-weight: bold\">60</span>`\n",
       "</pre>\n"
      ],
      "text/plain": [
       "\u001b[31msplit_fn: no numbers found. Received:\u001b[0m `The store has fifty-six + eleven = sixty shirts now. The answer: sixty.`. \n",
       "Word2Num worked. Output: `\u001b[1;36m60\u001b[0m`\n"
      ]
     },
     "metadata": {},
     "output_type": "display_data"
    },
    {
     "data": {
      "text/html": [
       "<pre style=\"white-space:pre;overflow-x:auto;line-height:normal;font-family:Menlo,'DejaVu Sans Mono',consolas,'Courier New',monospace\"><span style=\"color: #000080; text-decoration-color: #000080; font-weight: bold\">text2digits</span>:\n",
       "         - <span style=\"color: #008000; text-decoration-color: #008000\">source:</span>    The store has fifty-six + eleven = sixty shirts now. So the answer is sixty.\n",
       "         - <span style=\"color: #008000; text-decoration-color: #008000\">converted:</span> The store has <span style=\"color: #008080; text-decoration-color: #008080; font-weight: bold\">56</span> + <span style=\"color: #008080; text-decoration-color: #008080; font-weight: bold\">11</span> = <span style=\"color: #008080; text-decoration-color: #008080; font-weight: bold\">60</span> shirts now. So the answer is <span style=\"color: #008080; text-decoration-color: #008080; font-weight: bold\">60</span>\n",
       "         - <span style=\"color: #008000; text-decoration-color: #008000\">final:</span>     <span style=\"color: #008080; text-decoration-color: #008080; font-weight: bold\">60</span>\n",
       "</pre>\n"
      ],
      "text/plain": [
       "\u001b[1;34mtext2digits\u001b[0m:\n",
       "         - \u001b[32msource:\u001b[0m    The store has fifty-six + eleven = sixty shirts now. So the answer is sixty.\n",
       "         - \u001b[32mconverted:\u001b[0m The store has \u001b[1;36m56\u001b[0m + \u001b[1;36m11\u001b[0m = \u001b[1;36m60\u001b[0m shirts now. So the answer is \u001b[1;36m60\u001b[0m\n",
       "         - \u001b[32mfinal:\u001b[0m     \u001b[1;36m60\u001b[0m\n"
      ]
     },
     "metadata": {},
     "output_type": "display_data"
    },
    {
     "data": {
      "text/html": [
       "<pre style=\"white-space:pre;overflow-x:auto;line-height:normal;font-family:Menlo,'DejaVu Sans Mono',consolas,'Courier New',monospace\"><span style=\"color: #800000; text-decoration-color: #800000\">split_fn: no numbers found. Received:</span> `The store has fifty-six + eleven = sixty shirts now. So the answer is \n",
       "sixty.`. Word2Num worked. Output: `<span style=\"color: #008080; text-decoration-color: #008080; font-weight: bold\">60</span>`\n",
       "</pre>\n"
      ],
      "text/plain": [
       "\u001b[31msplit_fn: no numbers found. Received:\u001b[0m `The store has fifty-six + eleven = sixty shirts now. So the answer is \n",
       "sixty.`. Word2Num worked. Output: `\u001b[1;36m60\u001b[0m`\n"
      ]
     },
     "metadata": {},
     "output_type": "display_data"
    },
    {
     "name": "stderr",
     "output_type": "stream",
     "text": [
      "Accuracy: 37.6%:  30%|██▉       | 601/2023 [18:42<29:30,  1.24s/it]  "
     ]
    },
    {
     "data": {
      "text/html": [
       "<pre style=\"white-space:pre;overflow-x:auto;line-height:normal;font-family:Menlo,'DejaVu Sans Mono',consolas,'Courier New',monospace\"><span style=\"color: #000080; text-decoration-color: #000080; font-weight: bold\">text2digits</span>:\n",
       "         - <span style=\"color: #008000; text-decoration-color: #008000\">source:</span>    The total number of people in line is sixty - one + twenty two = eighty three. The answer: \n",
       "eighty three.\n",
       "         - <span style=\"color: #008000; text-decoration-color: #008000\">converted:</span> The total number of people in line is <span style=\"color: #008080; text-decoration-color: #008080; font-weight: bold\">60</span> - <span style=\"color: #008080; text-decoration-color: #008080; font-weight: bold\">1</span> + <span style=\"color: #008080; text-decoration-color: #008080; font-weight: bold\">22</span> = <span style=\"color: #008080; text-decoration-color: #008080; font-weight: bold\">83</span>. The answer: <span style=\"color: #008080; text-decoration-color: #008080; font-weight: bold\">83</span>\n",
       "         - <span style=\"color: #008000; text-decoration-color: #008000\">final:</span>     <span style=\"color: #008080; text-decoration-color: #008080; font-weight: bold\">83</span>\n",
       "</pre>\n"
      ],
      "text/plain": [
       "\u001b[1;34mtext2digits\u001b[0m:\n",
       "         - \u001b[32msource:\u001b[0m    The total number of people in line is sixty - one + twenty two = eighty three. The answer: \n",
       "eighty three.\n",
       "         - \u001b[32mconverted:\u001b[0m The total number of people in line is \u001b[1;36m60\u001b[0m - \u001b[1;36m1\u001b[0m + \u001b[1;36m22\u001b[0m = \u001b[1;36m83\u001b[0m. The answer: \u001b[1;36m83\u001b[0m\n",
       "         - \u001b[32mfinal:\u001b[0m     \u001b[1;36m83\u001b[0m\n"
      ]
     },
     "metadata": {},
     "output_type": "display_data"
    },
    {
     "data": {
      "text/html": [
       "<pre style=\"white-space:pre;overflow-x:auto;line-height:normal;font-family:Menlo,'DejaVu Sans Mono',consolas,'Courier New',monospace\"><span style=\"color: #800000; text-decoration-color: #800000\">split_fn: no numbers found. Received:</span> `The total number of people in line is sixty - one + twenty two = eighty \n",
       "three. The answer: eighty three.`. Word2Num worked. Output: `<span style=\"color: #008080; text-decoration-color: #008080; font-weight: bold\">83</span>`\n",
       "</pre>\n"
      ],
      "text/plain": [
       "\u001b[31msplit_fn: no numbers found. Received:\u001b[0m `The total number of people in line is sixty - one + twenty two = eighty \n",
       "three. The answer: eighty three.`. Word2Num worked. Output: `\u001b[1;36m83\u001b[0m`\n"
      ]
     },
     "metadata": {},
     "output_type": "display_data"
    },
    {
     "data": {
      "text/html": [
       "<pre style=\"white-space:pre;overflow-x:auto;line-height:normal;font-family:Menlo,'DejaVu Sans Mono',consolas,'Courier New',monospace\"><span style=\"color: #000080; text-decoration-color: #000080; font-weight: bold\">text2digits</span>:\n",
       "         - <span style=\"color: #008000; text-decoration-color: #008000\">source:</span>    The total number of people in line is sixty - one + twenty two = ninety three. The answer: \n",
       "ninety three.\n",
       "         - <span style=\"color: #008000; text-decoration-color: #008000\">converted:</span> The total number of people in line is <span style=\"color: #008080; text-decoration-color: #008080; font-weight: bold\">60</span> - <span style=\"color: #008080; text-decoration-color: #008080; font-weight: bold\">1</span> + <span style=\"color: #008080; text-decoration-color: #008080; font-weight: bold\">22</span> = <span style=\"color: #008080; text-decoration-color: #008080; font-weight: bold\">93</span>. The answer: <span style=\"color: #008080; text-decoration-color: #008080; font-weight: bold\">93</span>\n",
       "         - <span style=\"color: #008000; text-decoration-color: #008000\">final:</span>     <span style=\"color: #008080; text-decoration-color: #008080; font-weight: bold\">93</span>\n",
       "</pre>\n"
      ],
      "text/plain": [
       "\u001b[1;34mtext2digits\u001b[0m:\n",
       "         - \u001b[32msource:\u001b[0m    The total number of people in line is sixty - one + twenty two = ninety three. The answer: \n",
       "ninety three.\n",
       "         - \u001b[32mconverted:\u001b[0m The total number of people in line is \u001b[1;36m60\u001b[0m - \u001b[1;36m1\u001b[0m + \u001b[1;36m22\u001b[0m = \u001b[1;36m93\u001b[0m. The answer: \u001b[1;36m93\u001b[0m\n",
       "         - \u001b[32mfinal:\u001b[0m     \u001b[1;36m93\u001b[0m\n"
      ]
     },
     "metadata": {},
     "output_type": "display_data"
    },
    {
     "data": {
      "text/html": [
       "<pre style=\"white-space:pre;overflow-x:auto;line-height:normal;font-family:Menlo,'DejaVu Sans Mono',consolas,'Courier New',monospace\"><span style=\"color: #800000; text-decoration-color: #800000\">split_fn: no numbers found. Received:</span> `The total number of people in line is sixty - one + twenty two = ninety \n",
       "three. The answer: ninety three.`. Word2Num worked. Output: `<span style=\"color: #008080; text-decoration-color: #008080; font-weight: bold\">93</span>`\n",
       "</pre>\n"
      ],
      "text/plain": [
       "\u001b[31msplit_fn: no numbers found. Received:\u001b[0m `The total number of people in line is sixty - one + twenty two = ninety \n",
       "three. The answer: ninety three.`. Word2Num worked. Output: `\u001b[1;36m93\u001b[0m`\n"
      ]
     },
     "metadata": {},
     "output_type": "display_data"
    },
    {
     "data": {
      "text/html": [
       "<pre style=\"white-space:pre;overflow-x:auto;line-height:normal;font-family:Menlo,'DejaVu Sans Mono',consolas,'Courier New',monospace\"><span style=\"color: #000080; text-decoration-color: #000080; font-weight: bold\">text2digits</span>:\n",
       "         - <span style=\"color: #008000; text-decoration-color: #008000\">source:</span>    The total number of people in line is sixty - one + twenty two = seventy three. The answer: \n",
       "seventy three.\n",
       "         - <span style=\"color: #008000; text-decoration-color: #008000\">converted:</span> The total number of people in line is <span style=\"color: #008080; text-decoration-color: #008080; font-weight: bold\">60</span> - <span style=\"color: #008080; text-decoration-color: #008080; font-weight: bold\">1</span> + <span style=\"color: #008080; text-decoration-color: #008080; font-weight: bold\">22</span> = <span style=\"color: #008080; text-decoration-color: #008080; font-weight: bold\">73</span>. The answer: <span style=\"color: #008080; text-decoration-color: #008080; font-weight: bold\">73</span>\n",
       "         - <span style=\"color: #008000; text-decoration-color: #008000\">final:</span>     <span style=\"color: #008080; text-decoration-color: #008080; font-weight: bold\">73</span>\n",
       "</pre>\n"
      ],
      "text/plain": [
       "\u001b[1;34mtext2digits\u001b[0m:\n",
       "         - \u001b[32msource:\u001b[0m    The total number of people in line is sixty - one + twenty two = seventy three. The answer: \n",
       "seventy three.\n",
       "         - \u001b[32mconverted:\u001b[0m The total number of people in line is \u001b[1;36m60\u001b[0m - \u001b[1;36m1\u001b[0m + \u001b[1;36m22\u001b[0m = \u001b[1;36m73\u001b[0m. The answer: \u001b[1;36m73\u001b[0m\n",
       "         - \u001b[32mfinal:\u001b[0m     \u001b[1;36m73\u001b[0m\n"
      ]
     },
     "metadata": {},
     "output_type": "display_data"
    },
    {
     "data": {
      "text/html": [
       "<pre style=\"white-space:pre;overflow-x:auto;line-height:normal;font-family:Menlo,'DejaVu Sans Mono',consolas,'Courier New',monospace\"><span style=\"color: #800000; text-decoration-color: #800000\">split_fn: no numbers found. Received:</span> `The total number of people in line is sixty - one + twenty two = seventy \n",
       "three. The answer: seventy three.`. Word2Num worked. Output: `<span style=\"color: #008080; text-decoration-color: #008080; font-weight: bold\">73</span>`\n",
       "</pre>\n"
      ],
      "text/plain": [
       "\u001b[31msplit_fn: no numbers found. Received:\u001b[0m `The total number of people in line is sixty - one + twenty two = seventy \n",
       "three. The answer: seventy three.`. Word2Num worked. Output: `\u001b[1;36m73\u001b[0m`\n"
      ]
     },
     "metadata": {},
     "output_type": "display_data"
    },
    {
     "data": {
      "text/html": [
       "<pre style=\"white-space:pre;overflow-x:auto;line-height:normal;font-family:Menlo,'DejaVu Sans Mono',consolas,'Courier New',monospace\"><span style=\"color: #000080; text-decoration-color: #000080; font-weight: bold\">text2digits</span>:\n",
       "         - <span style=\"color: #008000; text-decoration-color: #008000\">source:</span>    The total number of people in line is sixty - one + twenty two = ninety. The answer: ninety.\n",
       "         - <span style=\"color: #008000; text-decoration-color: #008000\">converted:</span> The total number of people in line is <span style=\"color: #008080; text-decoration-color: #008080; font-weight: bold\">60</span> - <span style=\"color: #008080; text-decoration-color: #008080; font-weight: bold\">1</span> + <span style=\"color: #008080; text-decoration-color: #008080; font-weight: bold\">22</span> = <span style=\"color: #008080; text-decoration-color: #008080; font-weight: bold\">90</span>. The answer: <span style=\"color: #008080; text-decoration-color: #008080; font-weight: bold\">90</span>\n",
       "         - <span style=\"color: #008000; text-decoration-color: #008000\">final:</span>     <span style=\"color: #008080; text-decoration-color: #008080; font-weight: bold\">90</span>\n",
       "</pre>\n"
      ],
      "text/plain": [
       "\u001b[1;34mtext2digits\u001b[0m:\n",
       "         - \u001b[32msource:\u001b[0m    The total number of people in line is sixty - one + twenty two = ninety. The answer: ninety.\n",
       "         - \u001b[32mconverted:\u001b[0m The total number of people in line is \u001b[1;36m60\u001b[0m - \u001b[1;36m1\u001b[0m + \u001b[1;36m22\u001b[0m = \u001b[1;36m90\u001b[0m. The answer: \u001b[1;36m90\u001b[0m\n",
       "         - \u001b[32mfinal:\u001b[0m     \u001b[1;36m90\u001b[0m\n"
      ]
     },
     "metadata": {},
     "output_type": "display_data"
    },
    {
     "data": {
      "text/html": [
       "<pre style=\"white-space:pre;overflow-x:auto;line-height:normal;font-family:Menlo,'DejaVu Sans Mono',consolas,'Courier New',monospace\"><span style=\"color: #800000; text-decoration-color: #800000\">split_fn: no numbers found. Received:</span> `The total number of people in line is sixty - one + twenty two = ninety. The\n",
       "answer: ninety.`. Word2Num worked. Output: `<span style=\"color: #008080; text-decoration-color: #008080; font-weight: bold\">90</span>`\n",
       "</pre>\n"
      ],
      "text/plain": [
       "\u001b[31msplit_fn: no numbers found. Received:\u001b[0m `The total number of people in line is sixty - one + twenty two = ninety. The\n",
       "answer: ninety.`. Word2Num worked. Output: `\u001b[1;36m90\u001b[0m`\n"
      ]
     },
     "metadata": {},
     "output_type": "display_data"
    },
    {
     "data": {
      "text/html": [
       "<pre style=\"white-space:pre;overflow-x:auto;line-height:normal;font-family:Menlo,'DejaVu Sans Mono',consolas,'Courier New',monospace\"><span style=\"color: #000080; text-decoration-color: #000080; font-weight: bold\">text2digits</span>:\n",
       "         - <span style=\"color: #008000; text-decoration-color: #008000\">source:</span>    The total number of people in line is sixty - one + twenty two = eighty. The answer: eighty.\n",
       "         - <span style=\"color: #008000; text-decoration-color: #008000\">converted:</span> The total number of people in line is <span style=\"color: #008080; text-decoration-color: #008080; font-weight: bold\">60</span> - <span style=\"color: #008080; text-decoration-color: #008080; font-weight: bold\">1</span> + <span style=\"color: #008080; text-decoration-color: #008080; font-weight: bold\">22</span> = <span style=\"color: #008080; text-decoration-color: #008080; font-weight: bold\">80</span>. The answer: <span style=\"color: #008080; text-decoration-color: #008080; font-weight: bold\">80</span>\n",
       "         - <span style=\"color: #008000; text-decoration-color: #008000\">final:</span>     <span style=\"color: #008080; text-decoration-color: #008080; font-weight: bold\">80</span>\n",
       "</pre>\n"
      ],
      "text/plain": [
       "\u001b[1;34mtext2digits\u001b[0m:\n",
       "         - \u001b[32msource:\u001b[0m    The total number of people in line is sixty - one + twenty two = eighty. The answer: eighty.\n",
       "         - \u001b[32mconverted:\u001b[0m The total number of people in line is \u001b[1;36m60\u001b[0m - \u001b[1;36m1\u001b[0m + \u001b[1;36m22\u001b[0m = \u001b[1;36m80\u001b[0m. The answer: \u001b[1;36m80\u001b[0m\n",
       "         - \u001b[32mfinal:\u001b[0m     \u001b[1;36m80\u001b[0m\n"
      ]
     },
     "metadata": {},
     "output_type": "display_data"
    },
    {
     "data": {
      "text/html": [
       "<pre style=\"white-space:pre;overflow-x:auto;line-height:normal;font-family:Menlo,'DejaVu Sans Mono',consolas,'Courier New',monospace\"><span style=\"color: #800000; text-decoration-color: #800000\">split_fn: no numbers found. Received:</span> `The total number of people in line is sixty - one + twenty two = eighty. The\n",
       "answer: eighty.`. Word2Num worked. Output: `<span style=\"color: #008080; text-decoration-color: #008080; font-weight: bold\">80</span>`\n",
       "</pre>\n"
      ],
      "text/plain": [
       "\u001b[31msplit_fn: no numbers found. Received:\u001b[0m `The total number of people in line is sixty - one + twenty two = eighty. The\n",
       "answer: eighty.`. Word2Num worked. Output: `\u001b[1;36m80\u001b[0m`\n"
      ]
     },
     "metadata": {},
     "output_type": "display_data"
    },
    {
     "data": {
      "text/html": [
       "<pre style=\"white-space:pre;overflow-x:auto;line-height:normal;font-family:Menlo,'DejaVu Sans Mono',consolas,'Courier New',monospace\"><span style=\"color: #000080; text-decoration-color: #000080; font-weight: bold\">text2digits</span>:\n",
       "         - <span style=\"color: #008000; text-decoration-color: #008000\">source:</span>    The total number of people in line is sixty - one + twenty two = ninety. So the answer is \n",
       "ninety.\n",
       "         - <span style=\"color: #008000; text-decoration-color: #008000\">converted:</span> The total number of people in line is <span style=\"color: #008080; text-decoration-color: #008080; font-weight: bold\">60</span> - <span style=\"color: #008080; text-decoration-color: #008080; font-weight: bold\">1</span> + <span style=\"color: #008080; text-decoration-color: #008080; font-weight: bold\">22</span> = <span style=\"color: #008080; text-decoration-color: #008080; font-weight: bold\">90</span>. So the answer is <span style=\"color: #008080; text-decoration-color: #008080; font-weight: bold\">90</span>\n",
       "         - <span style=\"color: #008000; text-decoration-color: #008000\">final:</span>     <span style=\"color: #008080; text-decoration-color: #008080; font-weight: bold\">90</span>\n",
       "</pre>\n"
      ],
      "text/plain": [
       "\u001b[1;34mtext2digits\u001b[0m:\n",
       "         - \u001b[32msource:\u001b[0m    The total number of people in line is sixty - one + twenty two = ninety. So the answer is \n",
       "ninety.\n",
       "         - \u001b[32mconverted:\u001b[0m The total number of people in line is \u001b[1;36m60\u001b[0m - \u001b[1;36m1\u001b[0m + \u001b[1;36m22\u001b[0m = \u001b[1;36m90\u001b[0m. So the answer is \u001b[1;36m90\u001b[0m\n",
       "         - \u001b[32mfinal:\u001b[0m     \u001b[1;36m90\u001b[0m\n"
      ]
     },
     "metadata": {},
     "output_type": "display_data"
    },
    {
     "data": {
      "text/html": [
       "<pre style=\"white-space:pre;overflow-x:auto;line-height:normal;font-family:Menlo,'DejaVu Sans Mono',consolas,'Courier New',monospace\"><span style=\"color: #800000; text-decoration-color: #800000\">split_fn: no numbers found. Received:</span> `The total number of people in line is sixty - one + twenty two = ninety. So \n",
       "the answer is ninety.`. Word2Num worked. Output: `<span style=\"color: #008080; text-decoration-color: #008080; font-weight: bold\">90</span>`\n",
       "</pre>\n"
      ],
      "text/plain": [
       "\u001b[31msplit_fn: no numbers found. Received:\u001b[0m `The total number of people in line is sixty - one + twenty two = ninety. So \n",
       "the answer is ninety.`. Word2Num worked. Output: `\u001b[1;36m90\u001b[0m`\n"
      ]
     },
     "metadata": {},
     "output_type": "display_data"
    },
    {
     "data": {
      "text/html": [
       "<pre style=\"white-space:pre;overflow-x:auto;line-height:normal;font-family:Menlo,'DejaVu Sans Mono',consolas,'Courier New',monospace\"><span style=\"color: #000080; text-decoration-color: #000080; font-weight: bold\">text2digits</span>:\n",
       "         - <span style=\"color: #008000; text-decoration-color: #008000\">source:</span>    The total number of people in line is sixty - one + twenty two = eighty three. The answer: \n",
       "eighty three.\n",
       "         - <span style=\"color: #008000; text-decoration-color: #008000\">converted:</span> The total number of people in line is <span style=\"color: #008080; text-decoration-color: #008080; font-weight: bold\">60</span> - <span style=\"color: #008080; text-decoration-color: #008080; font-weight: bold\">1</span> + <span style=\"color: #008080; text-decoration-color: #008080; font-weight: bold\">22</span> = <span style=\"color: #008080; text-decoration-color: #008080; font-weight: bold\">83</span>. The answer: <span style=\"color: #008080; text-decoration-color: #008080; font-weight: bold\">83</span>\n",
       "         - <span style=\"color: #008000; text-decoration-color: #008000\">final:</span>     <span style=\"color: #008080; text-decoration-color: #008080; font-weight: bold\">83</span>\n",
       "</pre>\n"
      ],
      "text/plain": [
       "\u001b[1;34mtext2digits\u001b[0m:\n",
       "         - \u001b[32msource:\u001b[0m    The total number of people in line is sixty - one + twenty two = eighty three. The answer: \n",
       "eighty three.\n",
       "         - \u001b[32mconverted:\u001b[0m The total number of people in line is \u001b[1;36m60\u001b[0m - \u001b[1;36m1\u001b[0m + \u001b[1;36m22\u001b[0m = \u001b[1;36m83\u001b[0m. The answer: \u001b[1;36m83\u001b[0m\n",
       "         - \u001b[32mfinal:\u001b[0m     \u001b[1;36m83\u001b[0m\n"
      ]
     },
     "metadata": {},
     "output_type": "display_data"
    },
    {
     "data": {
      "text/html": [
       "<pre style=\"white-space:pre;overflow-x:auto;line-height:normal;font-family:Menlo,'DejaVu Sans Mono',consolas,'Courier New',monospace\"><span style=\"color: #800000; text-decoration-color: #800000\">split_fn: no numbers found. Received:</span> `The total number of people in line is sixty - one + twenty two = eighty \n",
       "three. The answer: eighty three.`. Word2Num worked. Output: `<span style=\"color: #008080; text-decoration-color: #008080; font-weight: bold\">83</span>`\n",
       "</pre>\n"
      ],
      "text/plain": [
       "\u001b[31msplit_fn: no numbers found. Received:\u001b[0m `The total number of people in line is sixty - one + twenty two = eighty \n",
       "three. The answer: eighty three.`. Word2Num worked. Output: `\u001b[1;36m83\u001b[0m`\n"
      ]
     },
     "metadata": {},
     "output_type": "display_data"
    },
    {
     "data": {
      "text/html": [
       "<pre style=\"white-space:pre;overflow-x:auto;line-height:normal;font-family:Menlo,'DejaVu Sans Mono',consolas,'Courier New',monospace\"><span style=\"color: #000080; text-decoration-color: #000080; font-weight: bold\">text2digits</span>:\n",
       "         - <span style=\"color: #008000; text-decoration-color: #008000\">source:</span>    The total number of people in line is sixty - one + twenty two = ninety three. The answer: \n",
       "ninety three.\n",
       "         - <span style=\"color: #008000; text-decoration-color: #008000\">converted:</span> The total number of people in line is <span style=\"color: #008080; text-decoration-color: #008080; font-weight: bold\">60</span> - <span style=\"color: #008080; text-decoration-color: #008080; font-weight: bold\">1</span> + <span style=\"color: #008080; text-decoration-color: #008080; font-weight: bold\">22</span> = <span style=\"color: #008080; text-decoration-color: #008080; font-weight: bold\">93</span>. The answer: <span style=\"color: #008080; text-decoration-color: #008080; font-weight: bold\">93</span>\n",
       "         - <span style=\"color: #008000; text-decoration-color: #008000\">final:</span>     <span style=\"color: #008080; text-decoration-color: #008080; font-weight: bold\">93</span>\n",
       "</pre>\n"
      ],
      "text/plain": [
       "\u001b[1;34mtext2digits\u001b[0m:\n",
       "         - \u001b[32msource:\u001b[0m    The total number of people in line is sixty - one + twenty two = ninety three. The answer: \n",
       "ninety three.\n",
       "         - \u001b[32mconverted:\u001b[0m The total number of people in line is \u001b[1;36m60\u001b[0m - \u001b[1;36m1\u001b[0m + \u001b[1;36m22\u001b[0m = \u001b[1;36m93\u001b[0m. The answer: \u001b[1;36m93\u001b[0m\n",
       "         - \u001b[32mfinal:\u001b[0m     \u001b[1;36m93\u001b[0m\n"
      ]
     },
     "metadata": {},
     "output_type": "display_data"
    },
    {
     "data": {
      "text/html": [
       "<pre style=\"white-space:pre;overflow-x:auto;line-height:normal;font-family:Menlo,'DejaVu Sans Mono',consolas,'Courier New',monospace\"><span style=\"color: #800000; text-decoration-color: #800000\">split_fn: no numbers found. Received:</span> `The total number of people in line is sixty - one + twenty two = ninety \n",
       "three. The answer: ninety three.`. Word2Num worked. Output: `<span style=\"color: #008080; text-decoration-color: #008080; font-weight: bold\">93</span>`\n",
       "</pre>\n"
      ],
      "text/plain": [
       "\u001b[31msplit_fn: no numbers found. Received:\u001b[0m `The total number of people in line is sixty - one + twenty two = ninety \n",
       "three. The answer: ninety three.`. Word2Num worked. Output: `\u001b[1;36m93\u001b[0m`\n"
      ]
     },
     "metadata": {},
     "output_type": "display_data"
    },
    {
     "data": {
      "text/html": [
       "<pre style=\"white-space:pre;overflow-x:auto;line-height:normal;font-family:Menlo,'DejaVu Sans Mono',consolas,'Courier New',monospace\"><span style=\"color: #000080; text-decoration-color: #000080; font-weight: bold\">text2digits</span>:\n",
       "         - <span style=\"color: #008000; text-decoration-color: #008000\">source:</span>    The total number of people in line is sixty - one + twenty two = seventy three. The answer: \n",
       "seventy three.\n",
       "         - <span style=\"color: #008000; text-decoration-color: #008000\">converted:</span> The total number of people in line is <span style=\"color: #008080; text-decoration-color: #008080; font-weight: bold\">60</span> - <span style=\"color: #008080; text-decoration-color: #008080; font-weight: bold\">1</span> + <span style=\"color: #008080; text-decoration-color: #008080; font-weight: bold\">22</span> = <span style=\"color: #008080; text-decoration-color: #008080; font-weight: bold\">73</span>. The answer: <span style=\"color: #008080; text-decoration-color: #008080; font-weight: bold\">73</span>\n",
       "         - <span style=\"color: #008000; text-decoration-color: #008000\">final:</span>     <span style=\"color: #008080; text-decoration-color: #008080; font-weight: bold\">73</span>\n",
       "</pre>\n"
      ],
      "text/plain": [
       "\u001b[1;34mtext2digits\u001b[0m:\n",
       "         - \u001b[32msource:\u001b[0m    The total number of people in line is sixty - one + twenty two = seventy three. The answer: \n",
       "seventy three.\n",
       "         - \u001b[32mconverted:\u001b[0m The total number of people in line is \u001b[1;36m60\u001b[0m - \u001b[1;36m1\u001b[0m + \u001b[1;36m22\u001b[0m = \u001b[1;36m73\u001b[0m. The answer: \u001b[1;36m73\u001b[0m\n",
       "         - \u001b[32mfinal:\u001b[0m     \u001b[1;36m73\u001b[0m\n"
      ]
     },
     "metadata": {},
     "output_type": "display_data"
    },
    {
     "data": {
      "text/html": [
       "<pre style=\"white-space:pre;overflow-x:auto;line-height:normal;font-family:Menlo,'DejaVu Sans Mono',consolas,'Courier New',monospace\"><span style=\"color: #800000; text-decoration-color: #800000\">split_fn: no numbers found. Received:</span> `The total number of people in line is sixty - one + twenty two = seventy \n",
       "three. The answer: seventy three.`. Word2Num worked. Output: `<span style=\"color: #008080; text-decoration-color: #008080; font-weight: bold\">73</span>`\n",
       "</pre>\n"
      ],
      "text/plain": [
       "\u001b[31msplit_fn: no numbers found. Received:\u001b[0m `The total number of people in line is sixty - one + twenty two = seventy \n",
       "three. The answer: seventy three.`. Word2Num worked. Output: `\u001b[1;36m73\u001b[0m`\n"
      ]
     },
     "metadata": {},
     "output_type": "display_data"
    },
    {
     "data": {
      "text/html": [
       "<pre style=\"white-space:pre;overflow-x:auto;line-height:normal;font-family:Menlo,'DejaVu Sans Mono',consolas,'Courier New',monospace\"><span style=\"color: #000080; text-decoration-color: #000080; font-weight: bold\">text2digits</span>:\n",
       "         - <span style=\"color: #008000; text-decoration-color: #008000\">source:</span>    The total number of people in line is sixty - one + twenty two = ninety. The answer: ninety.\n",
       "         - <span style=\"color: #008000; text-decoration-color: #008000\">converted:</span> The total number of people in line is <span style=\"color: #008080; text-decoration-color: #008080; font-weight: bold\">60</span> - <span style=\"color: #008080; text-decoration-color: #008080; font-weight: bold\">1</span> + <span style=\"color: #008080; text-decoration-color: #008080; font-weight: bold\">22</span> = <span style=\"color: #008080; text-decoration-color: #008080; font-weight: bold\">90</span>. The answer: <span style=\"color: #008080; text-decoration-color: #008080; font-weight: bold\">90</span>\n",
       "         - <span style=\"color: #008000; text-decoration-color: #008000\">final:</span>     <span style=\"color: #008080; text-decoration-color: #008080; font-weight: bold\">90</span>\n",
       "</pre>\n"
      ],
      "text/plain": [
       "\u001b[1;34mtext2digits\u001b[0m:\n",
       "         - \u001b[32msource:\u001b[0m    The total number of people in line is sixty - one + twenty two = ninety. The answer: ninety.\n",
       "         - \u001b[32mconverted:\u001b[0m The total number of people in line is \u001b[1;36m60\u001b[0m - \u001b[1;36m1\u001b[0m + \u001b[1;36m22\u001b[0m = \u001b[1;36m90\u001b[0m. The answer: \u001b[1;36m90\u001b[0m\n",
       "         - \u001b[32mfinal:\u001b[0m     \u001b[1;36m90\u001b[0m\n"
      ]
     },
     "metadata": {},
     "output_type": "display_data"
    },
    {
     "data": {
      "text/html": [
       "<pre style=\"white-space:pre;overflow-x:auto;line-height:normal;font-family:Menlo,'DejaVu Sans Mono',consolas,'Courier New',monospace\"><span style=\"color: #800000; text-decoration-color: #800000\">split_fn: no numbers found. Received:</span> `The total number of people in line is sixty - one + twenty two = ninety. The\n",
       "answer: ninety.`. Word2Num worked. Output: `<span style=\"color: #008080; text-decoration-color: #008080; font-weight: bold\">90</span>`\n",
       "</pre>\n"
      ],
      "text/plain": [
       "\u001b[31msplit_fn: no numbers found. Received:\u001b[0m `The total number of people in line is sixty - one + twenty two = ninety. The\n",
       "answer: ninety.`. Word2Num worked. Output: `\u001b[1;36m90\u001b[0m`\n"
      ]
     },
     "metadata": {},
     "output_type": "display_data"
    },
    {
     "data": {
      "text/html": [
       "<pre style=\"white-space:pre;overflow-x:auto;line-height:normal;font-family:Menlo,'DejaVu Sans Mono',consolas,'Courier New',monospace\"><span style=\"color: #000080; text-decoration-color: #000080; font-weight: bold\">text2digits</span>:\n",
       "         - <span style=\"color: #008000; text-decoration-color: #008000\">source:</span>    The total number of people in line is sixty - one + twenty two = eighty. The answer: eighty.\n",
       "         - <span style=\"color: #008000; text-decoration-color: #008000\">converted:</span> The total number of people in line is <span style=\"color: #008080; text-decoration-color: #008080; font-weight: bold\">60</span> - <span style=\"color: #008080; text-decoration-color: #008080; font-weight: bold\">1</span> + <span style=\"color: #008080; text-decoration-color: #008080; font-weight: bold\">22</span> = <span style=\"color: #008080; text-decoration-color: #008080; font-weight: bold\">80</span>. The answer: <span style=\"color: #008080; text-decoration-color: #008080; font-weight: bold\">80</span>\n",
       "         - <span style=\"color: #008000; text-decoration-color: #008000\">final:</span>     <span style=\"color: #008080; text-decoration-color: #008080; font-weight: bold\">80</span>\n",
       "</pre>\n"
      ],
      "text/plain": [
       "\u001b[1;34mtext2digits\u001b[0m:\n",
       "         - \u001b[32msource:\u001b[0m    The total number of people in line is sixty - one + twenty two = eighty. The answer: eighty.\n",
       "         - \u001b[32mconverted:\u001b[0m The total number of people in line is \u001b[1;36m60\u001b[0m - \u001b[1;36m1\u001b[0m + \u001b[1;36m22\u001b[0m = \u001b[1;36m80\u001b[0m. The answer: \u001b[1;36m80\u001b[0m\n",
       "         - \u001b[32mfinal:\u001b[0m     \u001b[1;36m80\u001b[0m\n"
      ]
     },
     "metadata": {},
     "output_type": "display_data"
    },
    {
     "data": {
      "text/html": [
       "<pre style=\"white-space:pre;overflow-x:auto;line-height:normal;font-family:Menlo,'DejaVu Sans Mono',consolas,'Courier New',monospace\"><span style=\"color: #800000; text-decoration-color: #800000\">split_fn: no numbers found. Received:</span> `The total number of people in line is sixty - one + twenty two = eighty. The\n",
       "answer: eighty.`. Word2Num worked. Output: `<span style=\"color: #008080; text-decoration-color: #008080; font-weight: bold\">80</span>`\n",
       "</pre>\n"
      ],
      "text/plain": [
       "\u001b[31msplit_fn: no numbers found. Received:\u001b[0m `The total number of people in line is sixty - one + twenty two = eighty. The\n",
       "answer: eighty.`. Word2Num worked. Output: `\u001b[1;36m80\u001b[0m`\n"
      ]
     },
     "metadata": {},
     "output_type": "display_data"
    },
    {
     "data": {
      "text/html": [
       "<pre style=\"white-space:pre;overflow-x:auto;line-height:normal;font-family:Menlo,'DejaVu Sans Mono',consolas,'Courier New',monospace\"><span style=\"color: #000080; text-decoration-color: #000080; font-weight: bold\">text2digits</span>:\n",
       "         - <span style=\"color: #008000; text-decoration-color: #008000\">source:</span>    The total number of people in line is sixty - one + twenty two = ninety. So the answer is \n",
       "ninety.\n",
       "         - <span style=\"color: #008000; text-decoration-color: #008000\">converted:</span> The total number of people in line is <span style=\"color: #008080; text-decoration-color: #008080; font-weight: bold\">60</span> - <span style=\"color: #008080; text-decoration-color: #008080; font-weight: bold\">1</span> + <span style=\"color: #008080; text-decoration-color: #008080; font-weight: bold\">22</span> = <span style=\"color: #008080; text-decoration-color: #008080; font-weight: bold\">90</span>. So the answer is <span style=\"color: #008080; text-decoration-color: #008080; font-weight: bold\">90</span>\n",
       "         - <span style=\"color: #008000; text-decoration-color: #008000\">final:</span>     <span style=\"color: #008080; text-decoration-color: #008080; font-weight: bold\">90</span>\n",
       "</pre>\n"
      ],
      "text/plain": [
       "\u001b[1;34mtext2digits\u001b[0m:\n",
       "         - \u001b[32msource:\u001b[0m    The total number of people in line is sixty - one + twenty two = ninety. So the answer is \n",
       "ninety.\n",
       "         - \u001b[32mconverted:\u001b[0m The total number of people in line is \u001b[1;36m60\u001b[0m - \u001b[1;36m1\u001b[0m + \u001b[1;36m22\u001b[0m = \u001b[1;36m90\u001b[0m. So the answer is \u001b[1;36m90\u001b[0m\n",
       "         - \u001b[32mfinal:\u001b[0m     \u001b[1;36m90\u001b[0m\n"
      ]
     },
     "metadata": {},
     "output_type": "display_data"
    },
    {
     "data": {
      "text/html": [
       "<pre style=\"white-space:pre;overflow-x:auto;line-height:normal;font-family:Menlo,'DejaVu Sans Mono',consolas,'Courier New',monospace\"><span style=\"color: #800000; text-decoration-color: #800000\">split_fn: no numbers found. Received:</span> `The total number of people in line is sixty - one + twenty two = ninety. So \n",
       "the answer is ninety.`. Word2Num worked. Output: `<span style=\"color: #008080; text-decoration-color: #008080; font-weight: bold\">90</span>`\n",
       "</pre>\n"
      ],
      "text/plain": [
       "\u001b[31msplit_fn: no numbers found. Received:\u001b[0m `The total number of people in line is sixty - one + twenty two = ninety. So \n",
       "the answer is ninety.`. Word2Num worked. Output: `\u001b[1;36m90\u001b[0m`\n"
      ]
     },
     "metadata": {},
     "output_type": "display_data"
    },
    {
     "name": "stderr",
     "output_type": "stream",
     "text": [
      "Accuracy: 38.2%:  30%|███       | 608/2023 [18:50<30:34,  1.30s/it]"
     ]
    },
    {
     "data": {
      "text/html": [
       "<pre style=\"white-space:pre;overflow-x:auto;line-height:normal;font-family:Menlo,'DejaVu Sans Mono',consolas,'Courier New',monospace\"><span style=\"color: #000080; text-decoration-color: #000080; font-weight: bold\">text2digits</span>:\n",
       "         - <span style=\"color: #008000; text-decoration-color: #008000\">source:</span>    The chef has fifty-eight cherries left after making the pie, so he must have had at least \n",
       "thirty nine cherries before that. Since there are two ways to find this number we can calculate it as follows: \n",
       "Thirty Nine Cherries + Fifty Eight Cherries = One Hundred Forty Seven Cherry's Before Making Pie\n",
       "         - <span style=\"color: #008000; text-decoration-color: #008000\">converted:</span> The chef has <span style=\"color: #008080; text-decoration-color: #008080; font-weight: bold\">58</span> cherries left after making the pie, so he must have had at least <span style=\"color: #008080; text-decoration-color: #008080; font-weight: bold\">39</span> cherries \n",
       "before that. Since there are <span style=\"color: #008080; text-decoration-color: #008080; font-weight: bold\">2</span> ways to find this number we can calculate it as follows: <span style=\"color: #008080; text-decoration-color: #008080; font-weight: bold\">39</span> Cherries + <span style=\"color: #008080; text-decoration-color: #008080; font-weight: bold\">58</span> Cherries =\n",
       "<span style=\"color: #008080; text-decoration-color: #008080; font-weight: bold\">147</span> Cherry's Before Making Pie\n",
       "         - <span style=\"color: #008000; text-decoration-color: #008000\">final:</span>     <span style=\"color: #008080; text-decoration-color: #008080; font-weight: bold\">147</span>\n",
       "</pre>\n"
      ],
      "text/plain": [
       "\u001b[1;34mtext2digits\u001b[0m:\n",
       "         - \u001b[32msource:\u001b[0m    The chef has fifty-eight cherries left after making the pie, so he must have had at least \n",
       "thirty nine cherries before that. Since there are two ways to find this number we can calculate it as follows: \n",
       "Thirty Nine Cherries + Fifty Eight Cherries = One Hundred Forty Seven Cherry's Before Making Pie\n",
       "         - \u001b[32mconverted:\u001b[0m The chef has \u001b[1;36m58\u001b[0m cherries left after making the pie, so he must have had at least \u001b[1;36m39\u001b[0m cherries \n",
       "before that. Since there are \u001b[1;36m2\u001b[0m ways to find this number we can calculate it as follows: \u001b[1;36m39\u001b[0m Cherries + \u001b[1;36m58\u001b[0m Cherries =\n",
       "\u001b[1;36m147\u001b[0m Cherry's Before Making Pie\n",
       "         - \u001b[32mfinal:\u001b[0m     \u001b[1;36m147\u001b[0m\n"
      ]
     },
     "metadata": {},
     "output_type": "display_data"
    },
    {
     "data": {
      "text/html": [
       "<pre style=\"white-space:pre;overflow-x:auto;line-height:normal;font-family:Menlo,'DejaVu Sans Mono',consolas,'Courier New',monospace\"><span style=\"color: #800000; text-decoration-color: #800000\">split_fn: no numbers found. Received:</span> `The chef has fifty-eight cherries left after making the pie, so he must have\n",
       "had at least thirty nine cherries before that. Since there are two ways to find this number we can calculate it as \n",
       "follows: Thirty Nine Cherries + Fifty Eight Cherries = One Hundred Forty Seven Cherry's Before Making Pie`. \n",
       "Word2Num worked. Output: `<span style=\"color: #008080; text-decoration-color: #008080; font-weight: bold\">147</span>`\n",
       "</pre>\n"
      ],
      "text/plain": [
       "\u001b[31msplit_fn: no numbers found. Received:\u001b[0m `The chef has fifty-eight cherries left after making the pie, so he must have\n",
       "had at least thirty nine cherries before that. Since there are two ways to find this number we can calculate it as \n",
       "follows: Thirty Nine Cherries + Fifty Eight Cherries = One Hundred Forty Seven Cherry's Before Making Pie`. \n",
       "Word2Num worked. Output: `\u001b[1;36m147\u001b[0m`\n"
      ]
     },
     "metadata": {},
     "output_type": "display_data"
    },
    {
     "data": {
      "text/html": [
       "<pre style=\"white-space:pre;overflow-x:auto;line-height:normal;font-family:Menlo,'DejaVu Sans Mono',consolas,'Courier New',monospace\"><span style=\"color: #000080; text-decoration-color: #000080; font-weight: bold\">text2digits</span>:\n",
       "         - <span style=\"color: #008000; text-decoration-color: #008000\">source:</span>    The chef has fifty-eight cherries left after making the pie, so he must have had at least \n",
       "thirty nine cherries before that. Since there are two ways to find this number we can calculate it as follows: \n",
       "Thirty Nine Cherries + Fifty Eight Cherries = One Hundred Forty Seven Cherry's Left After Making Pie\n",
       "         - <span style=\"color: #008000; text-decoration-color: #008000\">converted:</span> The chef has <span style=\"color: #008080; text-decoration-color: #008080; font-weight: bold\">58</span> cherries left after making the pie, so he must have had at least <span style=\"color: #008080; text-decoration-color: #008080; font-weight: bold\">39</span> cherries \n",
       "before that. Since there are <span style=\"color: #008080; text-decoration-color: #008080; font-weight: bold\">2</span> ways to find this number we can calculate it as follows: <span style=\"color: #008080; text-decoration-color: #008080; font-weight: bold\">39</span> Cherries + <span style=\"color: #008080; text-decoration-color: #008080; font-weight: bold\">58</span> Cherries =\n",
       "<span style=\"color: #008080; text-decoration-color: #008080; font-weight: bold\">147</span> Cherry's Left After Making Pie\n",
       "         - <span style=\"color: #008000; text-decoration-color: #008000\">final:</span>     <span style=\"color: #008080; text-decoration-color: #008080; font-weight: bold\">147</span>\n",
       "</pre>\n"
      ],
      "text/plain": [
       "\u001b[1;34mtext2digits\u001b[0m:\n",
       "         - \u001b[32msource:\u001b[0m    The chef has fifty-eight cherries left after making the pie, so he must have had at least \n",
       "thirty nine cherries before that. Since there are two ways to find this number we can calculate it as follows: \n",
       "Thirty Nine Cherries + Fifty Eight Cherries = One Hundred Forty Seven Cherry's Left After Making Pie\n",
       "         - \u001b[32mconverted:\u001b[0m The chef has \u001b[1;36m58\u001b[0m cherries left after making the pie, so he must have had at least \u001b[1;36m39\u001b[0m cherries \n",
       "before that. Since there are \u001b[1;36m2\u001b[0m ways to find this number we can calculate it as follows: \u001b[1;36m39\u001b[0m Cherries + \u001b[1;36m58\u001b[0m Cherries =\n",
       "\u001b[1;36m147\u001b[0m Cherry's Left After Making Pie\n",
       "         - \u001b[32mfinal:\u001b[0m     \u001b[1;36m147\u001b[0m\n"
      ]
     },
     "metadata": {},
     "output_type": "display_data"
    },
    {
     "data": {
      "text/html": [
       "<pre style=\"white-space:pre;overflow-x:auto;line-height:normal;font-family:Menlo,'DejaVu Sans Mono',consolas,'Courier New',monospace\"><span style=\"color: #800000; text-decoration-color: #800000\">split_fn: no numbers found. Received:</span> `The chef has fifty-eight cherries left after making the pie, so he must have\n",
       "had at least thirty nine cherries before that. Since there are two ways to find this number we can calculate it as \n",
       "follows: Thirty Nine Cherries + Fifty Eight Cherries = One Hundred Forty Seven Cherry's Left After Making Pie`. \n",
       "Word2Num worked. Output: `<span style=\"color: #008080; text-decoration-color: #008080; font-weight: bold\">147</span>`\n",
       "</pre>\n"
      ],
      "text/plain": [
       "\u001b[31msplit_fn: no numbers found. Received:\u001b[0m `The chef has fifty-eight cherries left after making the pie, so he must have\n",
       "had at least thirty nine cherries before that. Since there are two ways to find this number we can calculate it as \n",
       "follows: Thirty Nine Cherries + Fifty Eight Cherries = One Hundred Forty Seven Cherry's Left After Making Pie`. \n",
       "Word2Num worked. Output: `\u001b[1;36m147\u001b[0m`\n"
      ]
     },
     "metadata": {},
     "output_type": "display_data"
    },
    {
     "data": {
      "text/html": [
       "<pre style=\"white-space:pre;overflow-x:auto;line-height:normal;font-family:Menlo,'DejaVu Sans Mono',consolas,'Courier New',monospace\"><span style=\"color: #000080; text-decoration-color: #000080; font-weight: bold\">text2digits</span>:\n",
       "         - <span style=\"color: #008000; text-decoration-color: #008000\">source:</span>    The chef has fifty-eight cherries left after making the pie, so he must have had at least \n",
       "thirty nine cherries before that. Since there are two ways to find this number we can calculate it as follows: \n",
       "Thirty Nine Cherries + Fifty Eight Cherries = One Hundred Forty Seven Cherry's Left Before Making Pie\n",
       "         - <span style=\"color: #008000; text-decoration-color: #008000\">converted:</span> The chef has <span style=\"color: #008080; text-decoration-color: #008080; font-weight: bold\">58</span> cherries left after making the pie, so he must have had at least <span style=\"color: #008080; text-decoration-color: #008080; font-weight: bold\">39</span> cherries \n",
       "before that. Since there are <span style=\"color: #008080; text-decoration-color: #008080; font-weight: bold\">2</span> ways to find this number we can calculate it as follows: <span style=\"color: #008080; text-decoration-color: #008080; font-weight: bold\">39</span> Cherries + <span style=\"color: #008080; text-decoration-color: #008080; font-weight: bold\">58</span> Cherries =\n",
       "<span style=\"color: #008080; text-decoration-color: #008080; font-weight: bold\">147</span> Cherry's Left Before Making Pie\n",
       "         - <span style=\"color: #008000; text-decoration-color: #008000\">final:</span>     <span style=\"color: #008080; text-decoration-color: #008080; font-weight: bold\">147</span>\n",
       "</pre>\n"
      ],
      "text/plain": [
       "\u001b[1;34mtext2digits\u001b[0m:\n",
       "         - \u001b[32msource:\u001b[0m    The chef has fifty-eight cherries left after making the pie, so he must have had at least \n",
       "thirty nine cherries before that. Since there are two ways to find this number we can calculate it as follows: \n",
       "Thirty Nine Cherries + Fifty Eight Cherries = One Hundred Forty Seven Cherry's Left Before Making Pie\n",
       "         - \u001b[32mconverted:\u001b[0m The chef has \u001b[1;36m58\u001b[0m cherries left after making the pie, so he must have had at least \u001b[1;36m39\u001b[0m cherries \n",
       "before that. Since there are \u001b[1;36m2\u001b[0m ways to find this number we can calculate it as follows: \u001b[1;36m39\u001b[0m Cherries + \u001b[1;36m58\u001b[0m Cherries =\n",
       "\u001b[1;36m147\u001b[0m Cherry's Left Before Making Pie\n",
       "         - \u001b[32mfinal:\u001b[0m     \u001b[1;36m147\u001b[0m\n"
      ]
     },
     "metadata": {},
     "output_type": "display_data"
    },
    {
     "data": {
      "text/html": [
       "<pre style=\"white-space:pre;overflow-x:auto;line-height:normal;font-family:Menlo,'DejaVu Sans Mono',consolas,'Courier New',monospace\"><span style=\"color: #800000; text-decoration-color: #800000\">split_fn: no numbers found. Received:</span> `The chef has fifty-eight cherries left after making the pie, so he must have\n",
       "had at least thirty nine cherries before that. Since there are two ways to find this number we can calculate it as \n",
       "follows: Thirty Nine Cherries + Fifty Eight Cherries = One Hundred Forty Seven Cherry's Left Before Making Pie`. \n",
       "Word2Num worked. Output: `<span style=\"color: #008080; text-decoration-color: #008080; font-weight: bold\">147</span>`\n",
       "</pre>\n"
      ],
      "text/plain": [
       "\u001b[31msplit_fn: no numbers found. Received:\u001b[0m `The chef has fifty-eight cherries left after making the pie, so he must have\n",
       "had at least thirty nine cherries before that. Since there are two ways to find this number we can calculate it as \n",
       "follows: Thirty Nine Cherries + Fifty Eight Cherries = One Hundred Forty Seven Cherry's Left Before Making Pie`. \n",
       "Word2Num worked. Output: `\u001b[1;36m147\u001b[0m`\n"
      ]
     },
     "metadata": {},
     "output_type": "display_data"
    },
    {
     "data": {
      "text/html": [
       "<pre style=\"white-space:pre;overflow-x:auto;line-height:normal;font-family:Menlo,'DejaVu Sans Mono',consolas,'Courier New',monospace\"><span style=\"color: #000080; text-decoration-color: #000080; font-weight: bold\">text2digits</span>:\n",
       "         - <span style=\"color: #008000; text-decoration-color: #008000\">source:</span>    The chef has fifty-eight cherries left after making the pie, so he must have had at least \n",
       "thirty nine cherries before that. Since there are two ways to find this number we can calculate it as follows: \n",
       "Thirty Nine Cherries + Fifty Eight Cherries = One Hundred Forty Seven Cherry's Before Making Pie\n",
       "         - <span style=\"color: #008000; text-decoration-color: #008000\">converted:</span> The chef has <span style=\"color: #008080; text-decoration-color: #008080; font-weight: bold\">58</span> cherries left after making the pie, so he must have had at least <span style=\"color: #008080; text-decoration-color: #008080; font-weight: bold\">39</span> cherries \n",
       "before that. Since there are <span style=\"color: #008080; text-decoration-color: #008080; font-weight: bold\">2</span> ways to find this number we can calculate it as follows: <span style=\"color: #008080; text-decoration-color: #008080; font-weight: bold\">39</span> Cherries + <span style=\"color: #008080; text-decoration-color: #008080; font-weight: bold\">58</span> Cherries =\n",
       "<span style=\"color: #008080; text-decoration-color: #008080; font-weight: bold\">147</span> Cherry's Before Making Pie\n",
       "         - <span style=\"color: #008000; text-decoration-color: #008000\">final:</span>     <span style=\"color: #008080; text-decoration-color: #008080; font-weight: bold\">147</span>\n",
       "</pre>\n"
      ],
      "text/plain": [
       "\u001b[1;34mtext2digits\u001b[0m:\n",
       "         - \u001b[32msource:\u001b[0m    The chef has fifty-eight cherries left after making the pie, so he must have had at least \n",
       "thirty nine cherries before that. Since there are two ways to find this number we can calculate it as follows: \n",
       "Thirty Nine Cherries + Fifty Eight Cherries = One Hundred Forty Seven Cherry's Before Making Pie\n",
       "         - \u001b[32mconverted:\u001b[0m The chef has \u001b[1;36m58\u001b[0m cherries left after making the pie, so he must have had at least \u001b[1;36m39\u001b[0m cherries \n",
       "before that. Since there are \u001b[1;36m2\u001b[0m ways to find this number we can calculate it as follows: \u001b[1;36m39\u001b[0m Cherries + \u001b[1;36m58\u001b[0m Cherries =\n",
       "\u001b[1;36m147\u001b[0m Cherry's Before Making Pie\n",
       "         - \u001b[32mfinal:\u001b[0m     \u001b[1;36m147\u001b[0m\n"
      ]
     },
     "metadata": {},
     "output_type": "display_data"
    },
    {
     "data": {
      "text/html": [
       "<pre style=\"white-space:pre;overflow-x:auto;line-height:normal;font-family:Menlo,'DejaVu Sans Mono',consolas,'Courier New',monospace\"><span style=\"color: #800000; text-decoration-color: #800000\">split_fn: no numbers found. Received:</span> `The chef has fifty-eight cherries left after making the pie, so he must have\n",
       "had at least thirty nine cherries before that. Since there are two ways to find this number we can calculate it as \n",
       "follows: Thirty Nine Cherries + Fifty Eight Cherries = One Hundred Forty Seven Cherry's Before Making Pie`. \n",
       "Word2Num worked. Output: `<span style=\"color: #008080; text-decoration-color: #008080; font-weight: bold\">147</span>`\n",
       "</pre>\n"
      ],
      "text/plain": [
       "\u001b[31msplit_fn: no numbers found. Received:\u001b[0m `The chef has fifty-eight cherries left after making the pie, so he must have\n",
       "had at least thirty nine cherries before that. Since there are two ways to find this number we can calculate it as \n",
       "follows: Thirty Nine Cherries + Fifty Eight Cherries = One Hundred Forty Seven Cherry's Before Making Pie`. \n",
       "Word2Num worked. Output: `\u001b[1;36m147\u001b[0m`\n"
      ]
     },
     "metadata": {},
     "output_type": "display_data"
    },
    {
     "data": {
      "text/html": [
       "<pre style=\"white-space:pre;overflow-x:auto;line-height:normal;font-family:Menlo,'DejaVu Sans Mono',consolas,'Courier New',monospace\"><span style=\"color: #000080; text-decoration-color: #000080; font-weight: bold\">text2digits</span>:\n",
       "         - <span style=\"color: #008000; text-decoration-color: #008000\">source:</span>    The chef has fifty-eight cherries left after making the pie, so he must have had at least \n",
       "thirty nine cherries before that. Since there are two ways to find this number we can calculate it as follows: \n",
       "Thirty Nine Cherries + Fifty Eight Cherries = One Hundred Forty Seven Cherry's Left After Making Pie\n",
       "         - <span style=\"color: #008000; text-decoration-color: #008000\">converted:</span> The chef has <span style=\"color: #008080; text-decoration-color: #008080; font-weight: bold\">58</span> cherries left after making the pie, so he must have had at least <span style=\"color: #008080; text-decoration-color: #008080; font-weight: bold\">39</span> cherries \n",
       "before that. Since there are <span style=\"color: #008080; text-decoration-color: #008080; font-weight: bold\">2</span> ways to find this number we can calculate it as follows: <span style=\"color: #008080; text-decoration-color: #008080; font-weight: bold\">39</span> Cherries + <span style=\"color: #008080; text-decoration-color: #008080; font-weight: bold\">58</span> Cherries =\n",
       "<span style=\"color: #008080; text-decoration-color: #008080; font-weight: bold\">147</span> Cherry's Left After Making Pie\n",
       "         - <span style=\"color: #008000; text-decoration-color: #008000\">final:</span>     <span style=\"color: #008080; text-decoration-color: #008080; font-weight: bold\">147</span>\n",
       "</pre>\n"
      ],
      "text/plain": [
       "\u001b[1;34mtext2digits\u001b[0m:\n",
       "         - \u001b[32msource:\u001b[0m    The chef has fifty-eight cherries left after making the pie, so he must have had at least \n",
       "thirty nine cherries before that. Since there are two ways to find this number we can calculate it as follows: \n",
       "Thirty Nine Cherries + Fifty Eight Cherries = One Hundred Forty Seven Cherry's Left After Making Pie\n",
       "         - \u001b[32mconverted:\u001b[0m The chef has \u001b[1;36m58\u001b[0m cherries left after making the pie, so he must have had at least \u001b[1;36m39\u001b[0m cherries \n",
       "before that. Since there are \u001b[1;36m2\u001b[0m ways to find this number we can calculate it as follows: \u001b[1;36m39\u001b[0m Cherries + \u001b[1;36m58\u001b[0m Cherries =\n",
       "\u001b[1;36m147\u001b[0m Cherry's Left After Making Pie\n",
       "         - \u001b[32mfinal:\u001b[0m     \u001b[1;36m147\u001b[0m\n"
      ]
     },
     "metadata": {},
     "output_type": "display_data"
    },
    {
     "data": {
      "text/html": [
       "<pre style=\"white-space:pre;overflow-x:auto;line-height:normal;font-family:Menlo,'DejaVu Sans Mono',consolas,'Courier New',monospace\"><span style=\"color: #800000; text-decoration-color: #800000\">split_fn: no numbers found. Received:</span> `The chef has fifty-eight cherries left after making the pie, so he must have\n",
       "had at least thirty nine cherries before that. Since there are two ways to find this number we can calculate it as \n",
       "follows: Thirty Nine Cherries + Fifty Eight Cherries = One Hundred Forty Seven Cherry's Left After Making Pie`. \n",
       "Word2Num worked. Output: `<span style=\"color: #008080; text-decoration-color: #008080; font-weight: bold\">147</span>`\n",
       "</pre>\n"
      ],
      "text/plain": [
       "\u001b[31msplit_fn: no numbers found. Received:\u001b[0m `The chef has fifty-eight cherries left after making the pie, so he must have\n",
       "had at least thirty nine cherries before that. Since there are two ways to find this number we can calculate it as \n",
       "follows: Thirty Nine Cherries + Fifty Eight Cherries = One Hundred Forty Seven Cherry's Left After Making Pie`. \n",
       "Word2Num worked. Output: `\u001b[1;36m147\u001b[0m`\n"
      ]
     },
     "metadata": {},
     "output_type": "display_data"
    },
    {
     "data": {
      "text/html": [
       "<pre style=\"white-space:pre;overflow-x:auto;line-height:normal;font-family:Menlo,'DejaVu Sans Mono',consolas,'Courier New',monospace\"><span style=\"color: #000080; text-decoration-color: #000080; font-weight: bold\">text2digits</span>:\n",
       "         - <span style=\"color: #008000; text-decoration-color: #008000\">source:</span>    The chef has fifty-eight cherries left after making the pie, so he must have had at least \n",
       "thirty nine cherries before that. Since there are two ways to find this number we can calculate it as follows: \n",
       "Thirty Nine Cherries + Fifty Eight Cherries = One Hundred Forty Seven Cherry's Left Before Making Pie\n",
       "         - <span style=\"color: #008000; text-decoration-color: #008000\">converted:</span> The chef has <span style=\"color: #008080; text-decoration-color: #008080; font-weight: bold\">58</span> cherries left after making the pie, so he must have had at least <span style=\"color: #008080; text-decoration-color: #008080; font-weight: bold\">39</span> cherries \n",
       "before that. Since there are <span style=\"color: #008080; text-decoration-color: #008080; font-weight: bold\">2</span> ways to find this number we can calculate it as follows: <span style=\"color: #008080; text-decoration-color: #008080; font-weight: bold\">39</span> Cherries + <span style=\"color: #008080; text-decoration-color: #008080; font-weight: bold\">58</span> Cherries =\n",
       "<span style=\"color: #008080; text-decoration-color: #008080; font-weight: bold\">147</span> Cherry's Left Before Making Pie\n",
       "         - <span style=\"color: #008000; text-decoration-color: #008000\">final:</span>     <span style=\"color: #008080; text-decoration-color: #008080; font-weight: bold\">147</span>\n",
       "</pre>\n"
      ],
      "text/plain": [
       "\u001b[1;34mtext2digits\u001b[0m:\n",
       "         - \u001b[32msource:\u001b[0m    The chef has fifty-eight cherries left after making the pie, so he must have had at least \n",
       "thirty nine cherries before that. Since there are two ways to find this number we can calculate it as follows: \n",
       "Thirty Nine Cherries + Fifty Eight Cherries = One Hundred Forty Seven Cherry's Left Before Making Pie\n",
       "         - \u001b[32mconverted:\u001b[0m The chef has \u001b[1;36m58\u001b[0m cherries left after making the pie, so he must have had at least \u001b[1;36m39\u001b[0m cherries \n",
       "before that. Since there are \u001b[1;36m2\u001b[0m ways to find this number we can calculate it as follows: \u001b[1;36m39\u001b[0m Cherries + \u001b[1;36m58\u001b[0m Cherries =\n",
       "\u001b[1;36m147\u001b[0m Cherry's Left Before Making Pie\n",
       "         - \u001b[32mfinal:\u001b[0m     \u001b[1;36m147\u001b[0m\n"
      ]
     },
     "metadata": {},
     "output_type": "display_data"
    },
    {
     "data": {
      "text/html": [
       "<pre style=\"white-space:pre;overflow-x:auto;line-height:normal;font-family:Menlo,'DejaVu Sans Mono',consolas,'Courier New',monospace\"><span style=\"color: #800000; text-decoration-color: #800000\">split_fn: no numbers found. Received:</span> `The chef has fifty-eight cherries left after making the pie, so he must have\n",
       "had at least thirty nine cherries before that. Since there are two ways to find this number we can calculate it as \n",
       "follows: Thirty Nine Cherries + Fifty Eight Cherries = One Hundred Forty Seven Cherry's Left Before Making Pie`. \n",
       "Word2Num worked. Output: `<span style=\"color: #008080; text-decoration-color: #008080; font-weight: bold\">147</span>`\n",
       "</pre>\n"
      ],
      "text/plain": [
       "\u001b[31msplit_fn: no numbers found. Received:\u001b[0m `The chef has fifty-eight cherries left after making the pie, so he must have\n",
       "had at least thirty nine cherries before that. Since there are two ways to find this number we can calculate it as \n",
       "follows: Thirty Nine Cherries + Fifty Eight Cherries = One Hundred Forty Seven Cherry's Left Before Making Pie`. \n",
       "Word2Num worked. Output: `\u001b[1;36m147\u001b[0m`\n"
      ]
     },
     "metadata": {},
     "output_type": "display_data"
    },
    {
     "name": "stderr",
     "output_type": "stream",
     "text": [
      "Accuracy: 38.2%:  30%|███       | 613/2023 [19:00<37:45,  1.61s/it]"
     ]
    },
    {
     "data": {
      "text/html": [
       "<pre style=\"white-space:pre;overflow-x:auto;line-height:normal;font-family:Menlo,'DejaVu Sans Mono',consolas,'Courier New',monospace\"><span style=\"color: #000080; text-decoration-color: #000080; font-weight: bold\">text2digits</span>:\n",
       "         - <span style=\"color: #008000; text-decoration-color: #008000\">source:</span>    Ned had seventy - thirteen = sixty nine lives at the start. The answer: sixty nine.\n",
       "         - <span style=\"color: #008000; text-decoration-color: #008000\">converted:</span> Ned had <span style=\"color: #008080; text-decoration-color: #008080; font-weight: bold\">70</span> - <span style=\"color: #008080; text-decoration-color: #008080; font-weight: bold\">13</span> = <span style=\"color: #008080; text-decoration-color: #008080; font-weight: bold\">69</span> lives at the start. The answer: <span style=\"color: #008080; text-decoration-color: #008080; font-weight: bold\">69</span>\n",
       "         - <span style=\"color: #008000; text-decoration-color: #008000\">final:</span>     <span style=\"color: #008080; text-decoration-color: #008080; font-weight: bold\">69</span>\n",
       "</pre>\n"
      ],
      "text/plain": [
       "\u001b[1;34mtext2digits\u001b[0m:\n",
       "         - \u001b[32msource:\u001b[0m    Ned had seventy - thirteen = sixty nine lives at the start. The answer: sixty nine.\n",
       "         - \u001b[32mconverted:\u001b[0m Ned had \u001b[1;36m70\u001b[0m - \u001b[1;36m13\u001b[0m = \u001b[1;36m69\u001b[0m lives at the start. The answer: \u001b[1;36m69\u001b[0m\n",
       "         - \u001b[32mfinal:\u001b[0m     \u001b[1;36m69\u001b[0m\n"
      ]
     },
     "metadata": {},
     "output_type": "display_data"
    },
    {
     "data": {
      "text/html": [
       "<pre style=\"white-space:pre;overflow-x:auto;line-height:normal;font-family:Menlo,'DejaVu Sans Mono',consolas,'Courier New',monospace\"><span style=\"color: #800000; text-decoration-color: #800000\">split_fn: no numbers found. Received:</span> `Ned had seventy - thirteen = sixty nine lives at the start. The answer: \n",
       "sixty nine.`. Word2Num worked. Output: `<span style=\"color: #008080; text-decoration-color: #008080; font-weight: bold\">69</span>`\n",
       "</pre>\n"
      ],
      "text/plain": [
       "\u001b[31msplit_fn: no numbers found. Received:\u001b[0m `Ned had seventy - thirteen = sixty nine lives at the start. The answer: \n",
       "sixty nine.`. Word2Num worked. Output: `\u001b[1;36m69\u001b[0m`\n"
      ]
     },
     "metadata": {},
     "output_type": "display_data"
    },
    {
     "data": {
      "text/html": [
       "<pre style=\"white-space:pre;overflow-x:auto;line-height:normal;font-family:Menlo,'DejaVu Sans Mono',consolas,'Courier New',monospace\"><span style=\"color: #000080; text-decoration-color: #000080; font-weight: bold\">text2digits</span>:\n",
       "         - <span style=\"color: #008000; text-decoration-color: #008000\">source:</span>    Ned had seventy - thirteen = sixty nine lives at the start of his game. The answer: sixty \n",
       "nine.\n",
       "         - <span style=\"color: #008000; text-decoration-color: #008000\">converted:</span> Ned had <span style=\"color: #008080; text-decoration-color: #008080; font-weight: bold\">70</span> - <span style=\"color: #008080; text-decoration-color: #008080; font-weight: bold\">13</span> = <span style=\"color: #008080; text-decoration-color: #008080; font-weight: bold\">69</span> lives at the start of his game. The answer: <span style=\"color: #008080; text-decoration-color: #008080; font-weight: bold\">69</span>\n",
       "         - <span style=\"color: #008000; text-decoration-color: #008000\">final:</span>     <span style=\"color: #008080; text-decoration-color: #008080; font-weight: bold\">69</span>\n",
       "</pre>\n"
      ],
      "text/plain": [
       "\u001b[1;34mtext2digits\u001b[0m:\n",
       "         - \u001b[32msource:\u001b[0m    Ned had seventy - thirteen = sixty nine lives at the start of his game. The answer: sixty \n",
       "nine.\n",
       "         - \u001b[32mconverted:\u001b[0m Ned had \u001b[1;36m70\u001b[0m - \u001b[1;36m13\u001b[0m = \u001b[1;36m69\u001b[0m lives at the start of his game. The answer: \u001b[1;36m69\u001b[0m\n",
       "         - \u001b[32mfinal:\u001b[0m     \u001b[1;36m69\u001b[0m\n"
      ]
     },
     "metadata": {},
     "output_type": "display_data"
    },
    {
     "data": {
      "text/html": [
       "<pre style=\"white-space:pre;overflow-x:auto;line-height:normal;font-family:Menlo,'DejaVu Sans Mono',consolas,'Courier New',monospace\"><span style=\"color: #800000; text-decoration-color: #800000\">split_fn: no numbers found. Received:</span> `Ned had seventy - thirteen = sixty nine lives at the start of his game. The \n",
       "answer: sixty nine.`. Word2Num worked. Output: `<span style=\"color: #008080; text-decoration-color: #008080; font-weight: bold\">69</span>`\n",
       "</pre>\n"
      ],
      "text/plain": [
       "\u001b[31msplit_fn: no numbers found. Received:\u001b[0m `Ned had seventy - thirteen = sixty nine lives at the start of his game. The \n",
       "answer: sixty nine.`. Word2Num worked. Output: `\u001b[1;36m69\u001b[0m`\n"
      ]
     },
     "metadata": {},
     "output_type": "display_data"
    },
    {
     "data": {
      "text/html": [
       "<pre style=\"white-space:pre;overflow-x:auto;line-height:normal;font-family:Menlo,'DejaVu Sans Mono',consolas,'Courier New',monospace\"><span style=\"color: #000080; text-decoration-color: #000080; font-weight: bold\">text2digits</span>:\n",
       "         - <span style=\"color: #008000; text-decoration-color: #008000\">source:</span>    Ned had seventy - thirteen = sixty nine lives at the start of his video game. The answer: \n",
       "sixty nine.\n",
       "         - <span style=\"color: #008000; text-decoration-color: #008000\">converted:</span> Ned had <span style=\"color: #008080; text-decoration-color: #008080; font-weight: bold\">70</span> - <span style=\"color: #008080; text-decoration-color: #008080; font-weight: bold\">13</span> = <span style=\"color: #008080; text-decoration-color: #008080; font-weight: bold\">69</span> lives at the start of his video game. The answer: <span style=\"color: #008080; text-decoration-color: #008080; font-weight: bold\">69</span>\n",
       "         - <span style=\"color: #008000; text-decoration-color: #008000\">final:</span>     <span style=\"color: #008080; text-decoration-color: #008080; font-weight: bold\">69</span>\n",
       "</pre>\n"
      ],
      "text/plain": [
       "\u001b[1;34mtext2digits\u001b[0m:\n",
       "         - \u001b[32msource:\u001b[0m    Ned had seventy - thirteen = sixty nine lives at the start of his video game. The answer: \n",
       "sixty nine.\n",
       "         - \u001b[32mconverted:\u001b[0m Ned had \u001b[1;36m70\u001b[0m - \u001b[1;36m13\u001b[0m = \u001b[1;36m69\u001b[0m lives at the start of his video game. The answer: \u001b[1;36m69\u001b[0m\n",
       "         - \u001b[32mfinal:\u001b[0m     \u001b[1;36m69\u001b[0m\n"
      ]
     },
     "metadata": {},
     "output_type": "display_data"
    },
    {
     "data": {
      "text/html": [
       "<pre style=\"white-space:pre;overflow-x:auto;line-height:normal;font-family:Menlo,'DejaVu Sans Mono',consolas,'Courier New',monospace\"><span style=\"color: #800000; text-decoration-color: #800000\">split_fn: no numbers found. Received:</span> `Ned had seventy - thirteen = sixty nine lives at the start of his video \n",
       "game. The answer: sixty nine.`. Word2Num worked. Output: `<span style=\"color: #008080; text-decoration-color: #008080; font-weight: bold\">69</span>`\n",
       "</pre>\n"
      ],
      "text/plain": [
       "\u001b[31msplit_fn: no numbers found. Received:\u001b[0m `Ned had seventy - thirteen = sixty nine lives at the start of his video \n",
       "game. The answer: sixty nine.`. Word2Num worked. Output: `\u001b[1;36m69\u001b[0m`\n"
      ]
     },
     "metadata": {},
     "output_type": "display_data"
    },
    {
     "data": {
      "text/html": [
       "<pre style=\"white-space:pre;overflow-x:auto;line-height:normal;font-family:Menlo,'DejaVu Sans Mono',consolas,'Courier New',monospace\"><span style=\"color: #000080; text-decoration-color: #000080; font-weight: bold\">text2digits</span>:\n",
       "         - <span style=\"color: #008000; text-decoration-color: #008000\">source:</span>    Ned had seventy - thirteen = sixty nine lives at the start. So the answer is sixty nine.\n",
       "         - <span style=\"color: #008000; text-decoration-color: #008000\">converted:</span> Ned had <span style=\"color: #008080; text-decoration-color: #008080; font-weight: bold\">70</span> - <span style=\"color: #008080; text-decoration-color: #008080; font-weight: bold\">13</span> = <span style=\"color: #008080; text-decoration-color: #008080; font-weight: bold\">69</span> lives at the start. So the answer is <span style=\"color: #008080; text-decoration-color: #008080; font-weight: bold\">69</span>\n",
       "         - <span style=\"color: #008000; text-decoration-color: #008000\">final:</span>     <span style=\"color: #008080; text-decoration-color: #008080; font-weight: bold\">69</span>\n",
       "</pre>\n"
      ],
      "text/plain": [
       "\u001b[1;34mtext2digits\u001b[0m:\n",
       "         - \u001b[32msource:\u001b[0m    Ned had seventy - thirteen = sixty nine lives at the start. So the answer is sixty nine.\n",
       "         - \u001b[32mconverted:\u001b[0m Ned had \u001b[1;36m70\u001b[0m - \u001b[1;36m13\u001b[0m = \u001b[1;36m69\u001b[0m lives at the start. So the answer is \u001b[1;36m69\u001b[0m\n",
       "         - \u001b[32mfinal:\u001b[0m     \u001b[1;36m69\u001b[0m\n"
      ]
     },
     "metadata": {},
     "output_type": "display_data"
    },
    {
     "data": {
      "text/html": [
       "<pre style=\"white-space:pre;overflow-x:auto;line-height:normal;font-family:Menlo,'DejaVu Sans Mono',consolas,'Courier New',monospace\"><span style=\"color: #800000; text-decoration-color: #800000\">split_fn: no numbers found. Received:</span> `Ned had seventy - thirteen = sixty nine lives at the start. So the answer is\n",
       "sixty nine.`. Word2Num worked. Output: `<span style=\"color: #008080; text-decoration-color: #008080; font-weight: bold\">69</span>`\n",
       "</pre>\n"
      ],
      "text/plain": [
       "\u001b[31msplit_fn: no numbers found. Received:\u001b[0m `Ned had seventy - thirteen = sixty nine lives at the start. So the answer is\n",
       "sixty nine.`. Word2Num worked. Output: `\u001b[1;36m69\u001b[0m`\n"
      ]
     },
     "metadata": {},
     "output_type": "display_data"
    },
    {
     "data": {
      "text/html": [
       "<pre style=\"white-space:pre;overflow-x:auto;line-height:normal;font-family:Menlo,'DejaVu Sans Mono',consolas,'Courier New',monospace\"><span style=\"color: #000080; text-decoration-color: #000080; font-weight: bold\">text2digits</span>:\n",
       "         - <span style=\"color: #008000; text-decoration-color: #008000\">source:</span>    Ned had seventy - thirteen = sixty nine lives at the start of his game. So the answer is \n",
       "sixty nine.\n",
       "         - <span style=\"color: #008000; text-decoration-color: #008000\">converted:</span> Ned had <span style=\"color: #008080; text-decoration-color: #008080; font-weight: bold\">70</span> - <span style=\"color: #008080; text-decoration-color: #008080; font-weight: bold\">13</span> = <span style=\"color: #008080; text-decoration-color: #008080; font-weight: bold\">69</span> lives at the start of his game. So the answer is <span style=\"color: #008080; text-decoration-color: #008080; font-weight: bold\">69</span>\n",
       "         - <span style=\"color: #008000; text-decoration-color: #008000\">final:</span>     <span style=\"color: #008080; text-decoration-color: #008080; font-weight: bold\">69</span>\n",
       "</pre>\n"
      ],
      "text/plain": [
       "\u001b[1;34mtext2digits\u001b[0m:\n",
       "         - \u001b[32msource:\u001b[0m    Ned had seventy - thirteen = sixty nine lives at the start of his game. So the answer is \n",
       "sixty nine.\n",
       "         - \u001b[32mconverted:\u001b[0m Ned had \u001b[1;36m70\u001b[0m - \u001b[1;36m13\u001b[0m = \u001b[1;36m69\u001b[0m lives at the start of his game. So the answer is \u001b[1;36m69\u001b[0m\n",
       "         - \u001b[32mfinal:\u001b[0m     \u001b[1;36m69\u001b[0m\n"
      ]
     },
     "metadata": {},
     "output_type": "display_data"
    },
    {
     "data": {
      "text/html": [
       "<pre style=\"white-space:pre;overflow-x:auto;line-height:normal;font-family:Menlo,'DejaVu Sans Mono',consolas,'Courier New',monospace\"><span style=\"color: #800000; text-decoration-color: #800000\">split_fn: no numbers found. Received:</span> `Ned had seventy - thirteen = sixty nine lives at the start of his game. So \n",
       "the answer is sixty nine.`. Word2Num worked. Output: `<span style=\"color: #008080; text-decoration-color: #008080; font-weight: bold\">69</span>`\n",
       "</pre>\n"
      ],
      "text/plain": [
       "\u001b[31msplit_fn: no numbers found. Received:\u001b[0m `Ned had seventy - thirteen = sixty nine lives at the start of his game. So \n",
       "the answer is sixty nine.`. Word2Num worked. Output: `\u001b[1;36m69\u001b[0m`\n"
      ]
     },
     "metadata": {},
     "output_type": "display_data"
    },
    {
     "data": {
      "text/html": [
       "<pre style=\"white-space:pre;overflow-x:auto;line-height:normal;font-family:Menlo,'DejaVu Sans Mono',consolas,'Courier New',monospace\"><span style=\"color: #000080; text-decoration-color: #000080; font-weight: bold\">text2digits</span>:\n",
       "         - <span style=\"color: #008000; text-decoration-color: #008000\">source:</span>    Ned had seventy - thirteen = sixty nine lives at the start. The answer: sixty nine.\n",
       "         - <span style=\"color: #008000; text-decoration-color: #008000\">converted:</span> Ned had <span style=\"color: #008080; text-decoration-color: #008080; font-weight: bold\">70</span> - <span style=\"color: #008080; text-decoration-color: #008080; font-weight: bold\">13</span> = <span style=\"color: #008080; text-decoration-color: #008080; font-weight: bold\">69</span> lives at the start. The answer: <span style=\"color: #008080; text-decoration-color: #008080; font-weight: bold\">69</span>\n",
       "         - <span style=\"color: #008000; text-decoration-color: #008000\">final:</span>     <span style=\"color: #008080; text-decoration-color: #008080; font-weight: bold\">69</span>\n",
       "</pre>\n"
      ],
      "text/plain": [
       "\u001b[1;34mtext2digits\u001b[0m:\n",
       "         - \u001b[32msource:\u001b[0m    Ned had seventy - thirteen = sixty nine lives at the start. The answer: sixty nine.\n",
       "         - \u001b[32mconverted:\u001b[0m Ned had \u001b[1;36m70\u001b[0m - \u001b[1;36m13\u001b[0m = \u001b[1;36m69\u001b[0m lives at the start. The answer: \u001b[1;36m69\u001b[0m\n",
       "         - \u001b[32mfinal:\u001b[0m     \u001b[1;36m69\u001b[0m\n"
      ]
     },
     "metadata": {},
     "output_type": "display_data"
    },
    {
     "data": {
      "text/html": [
       "<pre style=\"white-space:pre;overflow-x:auto;line-height:normal;font-family:Menlo,'DejaVu Sans Mono',consolas,'Courier New',monospace\"><span style=\"color: #800000; text-decoration-color: #800000\">split_fn: no numbers found. Received:</span> `Ned had seventy - thirteen = sixty nine lives at the start. The answer: \n",
       "sixty nine.`. Word2Num worked. Output: `<span style=\"color: #008080; text-decoration-color: #008080; font-weight: bold\">69</span>`\n",
       "</pre>\n"
      ],
      "text/plain": [
       "\u001b[31msplit_fn: no numbers found. Received:\u001b[0m `Ned had seventy - thirteen = sixty nine lives at the start. The answer: \n",
       "sixty nine.`. Word2Num worked. Output: `\u001b[1;36m69\u001b[0m`\n"
      ]
     },
     "metadata": {},
     "output_type": "display_data"
    },
    {
     "data": {
      "text/html": [
       "<pre style=\"white-space:pre;overflow-x:auto;line-height:normal;font-family:Menlo,'DejaVu Sans Mono',consolas,'Courier New',monospace\"><span style=\"color: #000080; text-decoration-color: #000080; font-weight: bold\">text2digits</span>:\n",
       "         - <span style=\"color: #008000; text-decoration-color: #008000\">source:</span>    Ned had seventy - thirteen = sixty nine lives at the start of his game. The answer: sixty \n",
       "nine.\n",
       "         - <span style=\"color: #008000; text-decoration-color: #008000\">converted:</span> Ned had <span style=\"color: #008080; text-decoration-color: #008080; font-weight: bold\">70</span> - <span style=\"color: #008080; text-decoration-color: #008080; font-weight: bold\">13</span> = <span style=\"color: #008080; text-decoration-color: #008080; font-weight: bold\">69</span> lives at the start of his game. The answer: <span style=\"color: #008080; text-decoration-color: #008080; font-weight: bold\">69</span>\n",
       "         - <span style=\"color: #008000; text-decoration-color: #008000\">final:</span>     <span style=\"color: #008080; text-decoration-color: #008080; font-weight: bold\">69</span>\n",
       "</pre>\n"
      ],
      "text/plain": [
       "\u001b[1;34mtext2digits\u001b[0m:\n",
       "         - \u001b[32msource:\u001b[0m    Ned had seventy - thirteen = sixty nine lives at the start of his game. The answer: sixty \n",
       "nine.\n",
       "         - \u001b[32mconverted:\u001b[0m Ned had \u001b[1;36m70\u001b[0m - \u001b[1;36m13\u001b[0m = \u001b[1;36m69\u001b[0m lives at the start of his game. The answer: \u001b[1;36m69\u001b[0m\n",
       "         - \u001b[32mfinal:\u001b[0m     \u001b[1;36m69\u001b[0m\n"
      ]
     },
     "metadata": {},
     "output_type": "display_data"
    },
    {
     "data": {
      "text/html": [
       "<pre style=\"white-space:pre;overflow-x:auto;line-height:normal;font-family:Menlo,'DejaVu Sans Mono',consolas,'Courier New',monospace\"><span style=\"color: #800000; text-decoration-color: #800000\">split_fn: no numbers found. Received:</span> `Ned had seventy - thirteen = sixty nine lives at the start of his game. The \n",
       "answer: sixty nine.`. Word2Num worked. Output: `<span style=\"color: #008080; text-decoration-color: #008080; font-weight: bold\">69</span>`\n",
       "</pre>\n"
      ],
      "text/plain": [
       "\u001b[31msplit_fn: no numbers found. Received:\u001b[0m `Ned had seventy - thirteen = sixty nine lives at the start of his game. The \n",
       "answer: sixty nine.`. Word2Num worked. Output: `\u001b[1;36m69\u001b[0m`\n"
      ]
     },
     "metadata": {},
     "output_type": "display_data"
    },
    {
     "data": {
      "text/html": [
       "<pre style=\"white-space:pre;overflow-x:auto;line-height:normal;font-family:Menlo,'DejaVu Sans Mono',consolas,'Courier New',monospace\"><span style=\"color: #000080; text-decoration-color: #000080; font-weight: bold\">text2digits</span>:\n",
       "         - <span style=\"color: #008000; text-decoration-color: #008000\">source:</span>    Ned had seventy - thirteen = sixty nine lives at the start of his video game. The answer: \n",
       "sixty nine.\n",
       "         - <span style=\"color: #008000; text-decoration-color: #008000\">converted:</span> Ned had <span style=\"color: #008080; text-decoration-color: #008080; font-weight: bold\">70</span> - <span style=\"color: #008080; text-decoration-color: #008080; font-weight: bold\">13</span> = <span style=\"color: #008080; text-decoration-color: #008080; font-weight: bold\">69</span> lives at the start of his video game. The answer: <span style=\"color: #008080; text-decoration-color: #008080; font-weight: bold\">69</span>\n",
       "         - <span style=\"color: #008000; text-decoration-color: #008000\">final:</span>     <span style=\"color: #008080; text-decoration-color: #008080; font-weight: bold\">69</span>\n",
       "</pre>\n"
      ],
      "text/plain": [
       "\u001b[1;34mtext2digits\u001b[0m:\n",
       "         - \u001b[32msource:\u001b[0m    Ned had seventy - thirteen = sixty nine lives at the start of his video game. The answer: \n",
       "sixty nine.\n",
       "         - \u001b[32mconverted:\u001b[0m Ned had \u001b[1;36m70\u001b[0m - \u001b[1;36m13\u001b[0m = \u001b[1;36m69\u001b[0m lives at the start of his video game. The answer: \u001b[1;36m69\u001b[0m\n",
       "         - \u001b[32mfinal:\u001b[0m     \u001b[1;36m69\u001b[0m\n"
      ]
     },
     "metadata": {},
     "output_type": "display_data"
    },
    {
     "data": {
      "text/html": [
       "<pre style=\"white-space:pre;overflow-x:auto;line-height:normal;font-family:Menlo,'DejaVu Sans Mono',consolas,'Courier New',monospace\"><span style=\"color: #800000; text-decoration-color: #800000\">split_fn: no numbers found. Received:</span> `Ned had seventy - thirteen = sixty nine lives at the start of his video \n",
       "game. The answer: sixty nine.`. Word2Num worked. Output: `<span style=\"color: #008080; text-decoration-color: #008080; font-weight: bold\">69</span>`\n",
       "</pre>\n"
      ],
      "text/plain": [
       "\u001b[31msplit_fn: no numbers found. Received:\u001b[0m `Ned had seventy - thirteen = sixty nine lives at the start of his video \n",
       "game. The answer: sixty nine.`. Word2Num worked. Output: `\u001b[1;36m69\u001b[0m`\n"
      ]
     },
     "metadata": {},
     "output_type": "display_data"
    },
    {
     "data": {
      "text/html": [
       "<pre style=\"white-space:pre;overflow-x:auto;line-height:normal;font-family:Menlo,'DejaVu Sans Mono',consolas,'Courier New',monospace\"><span style=\"color: #000080; text-decoration-color: #000080; font-weight: bold\">text2digits</span>:\n",
       "         - <span style=\"color: #008000; text-decoration-color: #008000\">source:</span>    Ned had seventy - thirteen = sixty nine lives at the start. So the answer is sixty nine.\n",
       "         - <span style=\"color: #008000; text-decoration-color: #008000\">converted:</span> Ned had <span style=\"color: #008080; text-decoration-color: #008080; font-weight: bold\">70</span> - <span style=\"color: #008080; text-decoration-color: #008080; font-weight: bold\">13</span> = <span style=\"color: #008080; text-decoration-color: #008080; font-weight: bold\">69</span> lives at the start. So the answer is <span style=\"color: #008080; text-decoration-color: #008080; font-weight: bold\">69</span>\n",
       "         - <span style=\"color: #008000; text-decoration-color: #008000\">final:</span>     <span style=\"color: #008080; text-decoration-color: #008080; font-weight: bold\">69</span>\n",
       "</pre>\n"
      ],
      "text/plain": [
       "\u001b[1;34mtext2digits\u001b[0m:\n",
       "         - \u001b[32msource:\u001b[0m    Ned had seventy - thirteen = sixty nine lives at the start. So the answer is sixty nine.\n",
       "         - \u001b[32mconverted:\u001b[0m Ned had \u001b[1;36m70\u001b[0m - \u001b[1;36m13\u001b[0m = \u001b[1;36m69\u001b[0m lives at the start. So the answer is \u001b[1;36m69\u001b[0m\n",
       "         - \u001b[32mfinal:\u001b[0m     \u001b[1;36m69\u001b[0m\n"
      ]
     },
     "metadata": {},
     "output_type": "display_data"
    },
    {
     "data": {
      "text/html": [
       "<pre style=\"white-space:pre;overflow-x:auto;line-height:normal;font-family:Menlo,'DejaVu Sans Mono',consolas,'Courier New',monospace\"><span style=\"color: #800000; text-decoration-color: #800000\">split_fn: no numbers found. Received:</span> `Ned had seventy - thirteen = sixty nine lives at the start. So the answer is\n",
       "sixty nine.`. Word2Num worked. Output: `<span style=\"color: #008080; text-decoration-color: #008080; font-weight: bold\">69</span>`\n",
       "</pre>\n"
      ],
      "text/plain": [
       "\u001b[31msplit_fn: no numbers found. Received:\u001b[0m `Ned had seventy - thirteen = sixty nine lives at the start. So the answer is\n",
       "sixty nine.`. Word2Num worked. Output: `\u001b[1;36m69\u001b[0m`\n"
      ]
     },
     "metadata": {},
     "output_type": "display_data"
    },
    {
     "data": {
      "text/html": [
       "<pre style=\"white-space:pre;overflow-x:auto;line-height:normal;font-family:Menlo,'DejaVu Sans Mono',consolas,'Courier New',monospace\"><span style=\"color: #000080; text-decoration-color: #000080; font-weight: bold\">text2digits</span>:\n",
       "         - <span style=\"color: #008000; text-decoration-color: #008000\">source:</span>    Ned had seventy - thirteen = sixty nine lives at the start of his game. So the answer is \n",
       "sixty nine.\n",
       "         - <span style=\"color: #008000; text-decoration-color: #008000\">converted:</span> Ned had <span style=\"color: #008080; text-decoration-color: #008080; font-weight: bold\">70</span> - <span style=\"color: #008080; text-decoration-color: #008080; font-weight: bold\">13</span> = <span style=\"color: #008080; text-decoration-color: #008080; font-weight: bold\">69</span> lives at the start of his game. So the answer is <span style=\"color: #008080; text-decoration-color: #008080; font-weight: bold\">69</span>\n",
       "         - <span style=\"color: #008000; text-decoration-color: #008000\">final:</span>     <span style=\"color: #008080; text-decoration-color: #008080; font-weight: bold\">69</span>\n",
       "</pre>\n"
      ],
      "text/plain": [
       "\u001b[1;34mtext2digits\u001b[0m:\n",
       "         - \u001b[32msource:\u001b[0m    Ned had seventy - thirteen = sixty nine lives at the start of his game. So the answer is \n",
       "sixty nine.\n",
       "         - \u001b[32mconverted:\u001b[0m Ned had \u001b[1;36m70\u001b[0m - \u001b[1;36m13\u001b[0m = \u001b[1;36m69\u001b[0m lives at the start of his game. So the answer is \u001b[1;36m69\u001b[0m\n",
       "         - \u001b[32mfinal:\u001b[0m     \u001b[1;36m69\u001b[0m\n"
      ]
     },
     "metadata": {},
     "output_type": "display_data"
    },
    {
     "data": {
      "text/html": [
       "<pre style=\"white-space:pre;overflow-x:auto;line-height:normal;font-family:Menlo,'DejaVu Sans Mono',consolas,'Courier New',monospace\"><span style=\"color: #800000; text-decoration-color: #800000\">split_fn: no numbers found. Received:</span> `Ned had seventy - thirteen = sixty nine lives at the start of his game. So \n",
       "the answer is sixty nine.`. Word2Num worked. Output: `<span style=\"color: #008080; text-decoration-color: #008080; font-weight: bold\">69</span>`\n",
       "</pre>\n"
      ],
      "text/plain": [
       "\u001b[31msplit_fn: no numbers found. Received:\u001b[0m `Ned had seventy - thirteen = sixty nine lives at the start of his game. So \n",
       "the answer is sixty nine.`. Word2Num worked. Output: `\u001b[1;36m69\u001b[0m`\n"
      ]
     },
     "metadata": {},
     "output_type": "display_data"
    },
    {
     "name": "stderr",
     "output_type": "stream",
     "text": [
      "Accuracy: 38.8%:  39%|███▉      | 787/2023 [24:10<31:02,  1.51s/it]  "
     ]
    },
    {
     "data": {
      "text/html": [
       "<pre style=\"white-space:pre;overflow-x:auto;line-height:normal;font-family:Menlo,'DejaVu Sans Mono',consolas,'Courier New',monospace\"><span style=\"color: #000080; text-decoration-color: #000080; font-weight: bold\">text2digits</span>:\n",
       "         - <span style=\"color: #008000; text-decoration-color: #008000\">source:</span>    Isabel gave eighty - seven games to her friend, so she would have ninety - eighty = one game \n",
       "left. The answer: one.\n",
       "         - <span style=\"color: #008000; text-decoration-color: #008000\">converted:</span> Isabel gave <span style=\"color: #008080; text-decoration-color: #008080; font-weight: bold\">80</span> - <span style=\"color: #008080; text-decoration-color: #008080; font-weight: bold\">7</span> games to her friend, so she would have <span style=\"color: #008080; text-decoration-color: #008080; font-weight: bold\">90</span> - <span style=\"color: #008080; text-decoration-color: #008080; font-weight: bold\">80</span> = <span style=\"color: #008080; text-decoration-color: #008080; font-weight: bold\">1</span> game left. The answer: \n",
       "<span style=\"color: #008080; text-decoration-color: #008080; font-weight: bold\">1</span>\n",
       "         - <span style=\"color: #008000; text-decoration-color: #008000\">final:</span>     <span style=\"color: #008080; text-decoration-color: #008080; font-weight: bold\">1</span>\n",
       "</pre>\n"
      ],
      "text/plain": [
       "\u001b[1;34mtext2digits\u001b[0m:\n",
       "         - \u001b[32msource:\u001b[0m    Isabel gave eighty - seven games to her friend, so she would have ninety - eighty = one game \n",
       "left. The answer: one.\n",
       "         - \u001b[32mconverted:\u001b[0m Isabel gave \u001b[1;36m80\u001b[0m - \u001b[1;36m7\u001b[0m games to her friend, so she would have \u001b[1;36m90\u001b[0m - \u001b[1;36m80\u001b[0m = \u001b[1;36m1\u001b[0m game left. The answer: \n",
       "\u001b[1;36m1\u001b[0m\n",
       "         - \u001b[32mfinal:\u001b[0m     \u001b[1;36m1\u001b[0m\n"
      ]
     },
     "metadata": {},
     "output_type": "display_data"
    },
    {
     "data": {
      "text/html": [
       "<pre style=\"white-space:pre;overflow-x:auto;line-height:normal;font-family:Menlo,'DejaVu Sans Mono',consolas,'Courier New',monospace\"><span style=\"color: #800000; text-decoration-color: #800000\">split_fn: no numbers found. Received:</span> `Isabel gave eighty - seven games to her friend, so she would have ninety - \n",
       "eighty = one game left. The answer: one.`. Word2Num worked. Output: `<span style=\"color: #008080; text-decoration-color: #008080; font-weight: bold\">1</span>`\n",
       "</pre>\n"
      ],
      "text/plain": [
       "\u001b[31msplit_fn: no numbers found. Received:\u001b[0m `Isabel gave eighty - seven games to her friend, so she would have ninety - \n",
       "eighty = one game left. The answer: one.`. Word2Num worked. Output: `\u001b[1;36m1\u001b[0m`\n"
      ]
     },
     "metadata": {},
     "output_type": "display_data"
    },
    {
     "data": {
      "text/html": [
       "<pre style=\"white-space:pre;overflow-x:auto;line-height:normal;font-family:Menlo,'DejaVu Sans Mono',consolas,'Courier New',monospace\"><span style=\"color: #000080; text-decoration-color: #000080; font-weight: bold\">text2digits</span>:\n",
       "         - <span style=\"color: #008000; text-decoration-color: #008000\">source:</span>    Isabel gave eighty-seven DS games to her friend, so she would have ninety - eighty seven = \n",
       "three left. The answer: three.\n",
       "         - <span style=\"color: #008000; text-decoration-color: #008000\">converted:</span> Isabel gave <span style=\"color: #008080; text-decoration-color: #008080; font-weight: bold\">87</span> DS games to her friend, so she would have <span style=\"color: #008080; text-decoration-color: #008080; font-weight: bold\">90</span> - <span style=\"color: #008080; text-decoration-color: #008080; font-weight: bold\">87</span> = <span style=\"color: #008080; text-decoration-color: #008080; font-weight: bold\">3</span> left. The answer: <span style=\"color: #008080; text-decoration-color: #008080; font-weight: bold\">3</span>\n",
       "         - <span style=\"color: #008000; text-decoration-color: #008000\">final:</span>     <span style=\"color: #008080; text-decoration-color: #008080; font-weight: bold\">3</span>\n",
       "</pre>\n"
      ],
      "text/plain": [
       "\u001b[1;34mtext2digits\u001b[0m:\n",
       "         - \u001b[32msource:\u001b[0m    Isabel gave eighty-seven DS games to her friend, so she would have ninety - eighty seven = \n",
       "three left. The answer: three.\n",
       "         - \u001b[32mconverted:\u001b[0m Isabel gave \u001b[1;36m87\u001b[0m DS games to her friend, so she would have \u001b[1;36m90\u001b[0m - \u001b[1;36m87\u001b[0m = \u001b[1;36m3\u001b[0m left. The answer: \u001b[1;36m3\u001b[0m\n",
       "         - \u001b[32mfinal:\u001b[0m     \u001b[1;36m3\u001b[0m\n"
      ]
     },
     "metadata": {},
     "output_type": "display_data"
    },
    {
     "data": {
      "text/html": [
       "<pre style=\"white-space:pre;overflow-x:auto;line-height:normal;font-family:Menlo,'DejaVu Sans Mono',consolas,'Courier New',monospace\"><span style=\"color: #800000; text-decoration-color: #800000\">split_fn: no numbers found. Received:</span> `Isabel gave eighty-seven DS games to her friend, so she would have ninety - \n",
       "eighty seven = three left. The answer: three.`. Word2Num worked. Output: `<span style=\"color: #008080; text-decoration-color: #008080; font-weight: bold\">3</span>`\n",
       "</pre>\n"
      ],
      "text/plain": [
       "\u001b[31msplit_fn: no numbers found. Received:\u001b[0m `Isabel gave eighty-seven DS games to her friend, so she would have ninety - \n",
       "eighty seven = three left. The answer: three.`. Word2Num worked. Output: `\u001b[1;36m3\u001b[0m`\n"
      ]
     },
     "metadata": {},
     "output_type": "display_data"
    },
    {
     "data": {
      "text/html": [
       "<pre style=\"white-space:pre;overflow-x:auto;line-height:normal;font-family:Menlo,'DejaVu Sans Mono',consolas,'Courier New',monospace\"><span style=\"color: #000080; text-decoration-color: #000080; font-weight: bold\">text2digits</span>:\n",
       "         - <span style=\"color: #008000; text-decoration-color: #008000\">source:</span>    Isabel gave eighty-seven DS games to her friend, so she would have ninety - eighty seven = \n",
       "one game left. The answer: one.\n",
       "         - <span style=\"color: #008000; text-decoration-color: #008000\">converted:</span> Isabel gave <span style=\"color: #008080; text-decoration-color: #008080; font-weight: bold\">87</span> DS games to her friend, so she would have <span style=\"color: #008080; text-decoration-color: #008080; font-weight: bold\">90</span> - <span style=\"color: #008080; text-decoration-color: #008080; font-weight: bold\">87</span> = <span style=\"color: #008080; text-decoration-color: #008080; font-weight: bold\">1</span> game left. The answer: <span style=\"color: #008080; text-decoration-color: #008080; font-weight: bold\">1</span>\n",
       "         - <span style=\"color: #008000; text-decoration-color: #008000\">final:</span>     <span style=\"color: #008080; text-decoration-color: #008080; font-weight: bold\">1</span>\n",
       "</pre>\n"
      ],
      "text/plain": [
       "\u001b[1;34mtext2digits\u001b[0m:\n",
       "         - \u001b[32msource:\u001b[0m    Isabel gave eighty-seven DS games to her friend, so she would have ninety - eighty seven = \n",
       "one game left. The answer: one.\n",
       "         - \u001b[32mconverted:\u001b[0m Isabel gave \u001b[1;36m87\u001b[0m DS games to her friend, so she would have \u001b[1;36m90\u001b[0m - \u001b[1;36m87\u001b[0m = \u001b[1;36m1\u001b[0m game left. The answer: \u001b[1;36m1\u001b[0m\n",
       "         - \u001b[32mfinal:\u001b[0m     \u001b[1;36m1\u001b[0m\n"
      ]
     },
     "metadata": {},
     "output_type": "display_data"
    },
    {
     "data": {
      "text/html": [
       "<pre style=\"white-space:pre;overflow-x:auto;line-height:normal;font-family:Menlo,'DejaVu Sans Mono',consolas,'Courier New',monospace\"><span style=\"color: #800000; text-decoration-color: #800000\">split_fn: no numbers found. Received:</span> `Isabel gave eighty-seven DS games to her friend, so she would have ninety - \n",
       "eighty seven = one game left. The answer: one.`. Word2Num worked. Output: `<span style=\"color: #008080; text-decoration-color: #008080; font-weight: bold\">1</span>`\n",
       "</pre>\n"
      ],
      "text/plain": [
       "\u001b[31msplit_fn: no numbers found. Received:\u001b[0m `Isabel gave eighty-seven DS games to her friend, so she would have ninety - \n",
       "eighty seven = one game left. The answer: one.`. Word2Num worked. Output: `\u001b[1;36m1\u001b[0m`\n"
      ]
     },
     "metadata": {},
     "output_type": "display_data"
    },
    {
     "data": {
      "text/html": [
       "<pre style=\"white-space:pre;overflow-x:auto;line-height:normal;font-family:Menlo,'DejaVu Sans Mono',consolas,'Courier New',monospace\"><span style=\"color: #000080; text-decoration-color: #000080; font-weight: bold\">text2digits</span>:\n",
       "         - <span style=\"color: #008000; text-decoration-color: #008000\">source:</span>    Isabel gave eighty-seven games to her friend, so she would have ninety - eighty seven = three\n",
       "left. The answer: three.\n",
       "         - <span style=\"color: #008000; text-decoration-color: #008000\">converted:</span> Isabel gave <span style=\"color: #008080; text-decoration-color: #008080; font-weight: bold\">87</span> games to her friend, so she would have <span style=\"color: #008080; text-decoration-color: #008080; font-weight: bold\">90</span> - <span style=\"color: #008080; text-decoration-color: #008080; font-weight: bold\">87</span> = <span style=\"color: #008080; text-decoration-color: #008080; font-weight: bold\">3</span> left. The answer: <span style=\"color: #008080; text-decoration-color: #008080; font-weight: bold\">3</span>\n",
       "         - <span style=\"color: #008000; text-decoration-color: #008000\">final:</span>     <span style=\"color: #008080; text-decoration-color: #008080; font-weight: bold\">3</span>\n",
       "</pre>\n"
      ],
      "text/plain": [
       "\u001b[1;34mtext2digits\u001b[0m:\n",
       "         - \u001b[32msource:\u001b[0m    Isabel gave eighty-seven games to her friend, so she would have ninety - eighty seven = three\n",
       "left. The answer: three.\n",
       "         - \u001b[32mconverted:\u001b[0m Isabel gave \u001b[1;36m87\u001b[0m games to her friend, so she would have \u001b[1;36m90\u001b[0m - \u001b[1;36m87\u001b[0m = \u001b[1;36m3\u001b[0m left. The answer: \u001b[1;36m3\u001b[0m\n",
       "         - \u001b[32mfinal:\u001b[0m     \u001b[1;36m3\u001b[0m\n"
      ]
     },
     "metadata": {},
     "output_type": "display_data"
    },
    {
     "data": {
      "text/html": [
       "<pre style=\"white-space:pre;overflow-x:auto;line-height:normal;font-family:Menlo,'DejaVu Sans Mono',consolas,'Courier New',monospace\"><span style=\"color: #800000; text-decoration-color: #800000\">split_fn: no numbers found. Received:</span> `Isabel gave eighty-seven games to her friend, so she would have ninety - \n",
       "eighty seven = three left. The answer: three.`. Word2Num worked. Output: `<span style=\"color: #008080; text-decoration-color: #008080; font-weight: bold\">3</span>`\n",
       "</pre>\n"
      ],
      "text/plain": [
       "\u001b[31msplit_fn: no numbers found. Received:\u001b[0m `Isabel gave eighty-seven games to her friend, so she would have ninety - \n",
       "eighty seven = three left. The answer: three.`. Word2Num worked. Output: `\u001b[1;36m3\u001b[0m`\n"
      ]
     },
     "metadata": {},
     "output_type": "display_data"
    },
    {
     "data": {
      "text/html": [
       "<pre style=\"white-space:pre;overflow-x:auto;line-height:normal;font-family:Menlo,'DejaVu Sans Mono',consolas,'Courier New',monospace\"><span style=\"color: #000080; text-decoration-color: #000080; font-weight: bold\">text2digits</span>:\n",
       "         - <span style=\"color: #008000; text-decoration-color: #008000\">source:</span>    Isabel gave eighty - seven games to her friend, so she would have ninety - eighty = one game \n",
       "left. The answer: one.\n",
       "         - <span style=\"color: #008000; text-decoration-color: #008000\">converted:</span> Isabel gave <span style=\"color: #008080; text-decoration-color: #008080; font-weight: bold\">80</span> - <span style=\"color: #008080; text-decoration-color: #008080; font-weight: bold\">7</span> games to her friend, so she would have <span style=\"color: #008080; text-decoration-color: #008080; font-weight: bold\">90</span> - <span style=\"color: #008080; text-decoration-color: #008080; font-weight: bold\">80</span> = <span style=\"color: #008080; text-decoration-color: #008080; font-weight: bold\">1</span> game left. The answer: \n",
       "<span style=\"color: #008080; text-decoration-color: #008080; font-weight: bold\">1</span>\n",
       "         - <span style=\"color: #008000; text-decoration-color: #008000\">final:</span>     <span style=\"color: #008080; text-decoration-color: #008080; font-weight: bold\">1</span>\n",
       "</pre>\n"
      ],
      "text/plain": [
       "\u001b[1;34mtext2digits\u001b[0m:\n",
       "         - \u001b[32msource:\u001b[0m    Isabel gave eighty - seven games to her friend, so she would have ninety - eighty = one game \n",
       "left. The answer: one.\n",
       "         - \u001b[32mconverted:\u001b[0m Isabel gave \u001b[1;36m80\u001b[0m - \u001b[1;36m7\u001b[0m games to her friend, so she would have \u001b[1;36m90\u001b[0m - \u001b[1;36m80\u001b[0m = \u001b[1;36m1\u001b[0m game left. The answer: \n",
       "\u001b[1;36m1\u001b[0m\n",
       "         - \u001b[32mfinal:\u001b[0m     \u001b[1;36m1\u001b[0m\n"
      ]
     },
     "metadata": {},
     "output_type": "display_data"
    },
    {
     "data": {
      "text/html": [
       "<pre style=\"white-space:pre;overflow-x:auto;line-height:normal;font-family:Menlo,'DejaVu Sans Mono',consolas,'Courier New',monospace\"><span style=\"color: #800000; text-decoration-color: #800000\">split_fn: no numbers found. Received:</span> `Isabel gave eighty - seven games to her friend, so she would have ninety - \n",
       "eighty = one game left. The answer: one.`. Word2Num worked. Output: `<span style=\"color: #008080; text-decoration-color: #008080; font-weight: bold\">1</span>`\n",
       "</pre>\n"
      ],
      "text/plain": [
       "\u001b[31msplit_fn: no numbers found. Received:\u001b[0m `Isabel gave eighty - seven games to her friend, so she would have ninety - \n",
       "eighty = one game left. The answer: one.`. Word2Num worked. Output: `\u001b[1;36m1\u001b[0m`\n"
      ]
     },
     "metadata": {},
     "output_type": "display_data"
    },
    {
     "data": {
      "text/html": [
       "<pre style=\"white-space:pre;overflow-x:auto;line-height:normal;font-family:Menlo,'DejaVu Sans Mono',consolas,'Courier New',monospace\"><span style=\"color: #000080; text-decoration-color: #000080; font-weight: bold\">text2digits</span>:\n",
       "         - <span style=\"color: #008000; text-decoration-color: #008000\">source:</span>    Isabel gave eighty-seven DS games to her friend, so she would have ninety - eighty seven = \n",
       "three left. The answer: three.\n",
       "         - <span style=\"color: #008000; text-decoration-color: #008000\">converted:</span> Isabel gave <span style=\"color: #008080; text-decoration-color: #008080; font-weight: bold\">87</span> DS games to her friend, so she would have <span style=\"color: #008080; text-decoration-color: #008080; font-weight: bold\">90</span> - <span style=\"color: #008080; text-decoration-color: #008080; font-weight: bold\">87</span> = <span style=\"color: #008080; text-decoration-color: #008080; font-weight: bold\">3</span> left. The answer: <span style=\"color: #008080; text-decoration-color: #008080; font-weight: bold\">3</span>\n",
       "         - <span style=\"color: #008000; text-decoration-color: #008000\">final:</span>     <span style=\"color: #008080; text-decoration-color: #008080; font-weight: bold\">3</span>\n",
       "</pre>\n"
      ],
      "text/plain": [
       "\u001b[1;34mtext2digits\u001b[0m:\n",
       "         - \u001b[32msource:\u001b[0m    Isabel gave eighty-seven DS games to her friend, so she would have ninety - eighty seven = \n",
       "three left. The answer: three.\n",
       "         - \u001b[32mconverted:\u001b[0m Isabel gave \u001b[1;36m87\u001b[0m DS games to her friend, so she would have \u001b[1;36m90\u001b[0m - \u001b[1;36m87\u001b[0m = \u001b[1;36m3\u001b[0m left. The answer: \u001b[1;36m3\u001b[0m\n",
       "         - \u001b[32mfinal:\u001b[0m     \u001b[1;36m3\u001b[0m\n"
      ]
     },
     "metadata": {},
     "output_type": "display_data"
    },
    {
     "data": {
      "text/html": [
       "<pre style=\"white-space:pre;overflow-x:auto;line-height:normal;font-family:Menlo,'DejaVu Sans Mono',consolas,'Courier New',monospace\"><span style=\"color: #800000; text-decoration-color: #800000\">split_fn: no numbers found. Received:</span> `Isabel gave eighty-seven DS games to her friend, so she would have ninety - \n",
       "eighty seven = three left. The answer: three.`. Word2Num worked. Output: `<span style=\"color: #008080; text-decoration-color: #008080; font-weight: bold\">3</span>`\n",
       "</pre>\n"
      ],
      "text/plain": [
       "\u001b[31msplit_fn: no numbers found. Received:\u001b[0m `Isabel gave eighty-seven DS games to her friend, so she would have ninety - \n",
       "eighty seven = three left. The answer: three.`. Word2Num worked. Output: `\u001b[1;36m3\u001b[0m`\n"
      ]
     },
     "metadata": {},
     "output_type": "display_data"
    },
    {
     "data": {
      "text/html": [
       "<pre style=\"white-space:pre;overflow-x:auto;line-height:normal;font-family:Menlo,'DejaVu Sans Mono',consolas,'Courier New',monospace\"><span style=\"color: #000080; text-decoration-color: #000080; font-weight: bold\">text2digits</span>:\n",
       "         - <span style=\"color: #008000; text-decoration-color: #008000\">source:</span>    Isabel gave eighty-seven DS games to her friend, so she would have ninety - eighty seven = \n",
       "one game left. The answer: one.\n",
       "         - <span style=\"color: #008000; text-decoration-color: #008000\">converted:</span> Isabel gave <span style=\"color: #008080; text-decoration-color: #008080; font-weight: bold\">87</span> DS games to her friend, so she would have <span style=\"color: #008080; text-decoration-color: #008080; font-weight: bold\">90</span> - <span style=\"color: #008080; text-decoration-color: #008080; font-weight: bold\">87</span> = <span style=\"color: #008080; text-decoration-color: #008080; font-weight: bold\">1</span> game left. The answer: <span style=\"color: #008080; text-decoration-color: #008080; font-weight: bold\">1</span>\n",
       "         - <span style=\"color: #008000; text-decoration-color: #008000\">final:</span>     <span style=\"color: #008080; text-decoration-color: #008080; font-weight: bold\">1</span>\n",
       "</pre>\n"
      ],
      "text/plain": [
       "\u001b[1;34mtext2digits\u001b[0m:\n",
       "         - \u001b[32msource:\u001b[0m    Isabel gave eighty-seven DS games to her friend, so she would have ninety - eighty seven = \n",
       "one game left. The answer: one.\n",
       "         - \u001b[32mconverted:\u001b[0m Isabel gave \u001b[1;36m87\u001b[0m DS games to her friend, so she would have \u001b[1;36m90\u001b[0m - \u001b[1;36m87\u001b[0m = \u001b[1;36m1\u001b[0m game left. The answer: \u001b[1;36m1\u001b[0m\n",
       "         - \u001b[32mfinal:\u001b[0m     \u001b[1;36m1\u001b[0m\n"
      ]
     },
     "metadata": {},
     "output_type": "display_data"
    },
    {
     "data": {
      "text/html": [
       "<pre style=\"white-space:pre;overflow-x:auto;line-height:normal;font-family:Menlo,'DejaVu Sans Mono',consolas,'Courier New',monospace\"><span style=\"color: #800000; text-decoration-color: #800000\">split_fn: no numbers found. Received:</span> `Isabel gave eighty-seven DS games to her friend, so she would have ninety - \n",
       "eighty seven = one game left. The answer: one.`. Word2Num worked. Output: `<span style=\"color: #008080; text-decoration-color: #008080; font-weight: bold\">1</span>`\n",
       "</pre>\n"
      ],
      "text/plain": [
       "\u001b[31msplit_fn: no numbers found. Received:\u001b[0m `Isabel gave eighty-seven DS games to her friend, so she would have ninety - \n",
       "eighty seven = one game left. The answer: one.`. Word2Num worked. Output: `\u001b[1;36m1\u001b[0m`\n"
      ]
     },
     "metadata": {},
     "output_type": "display_data"
    },
    {
     "data": {
      "text/html": [
       "<pre style=\"white-space:pre;overflow-x:auto;line-height:normal;font-family:Menlo,'DejaVu Sans Mono',consolas,'Courier New',monospace\"><span style=\"color: #000080; text-decoration-color: #000080; font-weight: bold\">text2digits</span>:\n",
       "         - <span style=\"color: #008000; text-decoration-color: #008000\">source:</span>    Isabel gave eighty-seven games to her friend, so she would have ninety - eighty seven = three\n",
       "left. The answer: three.\n",
       "         - <span style=\"color: #008000; text-decoration-color: #008000\">converted:</span> Isabel gave <span style=\"color: #008080; text-decoration-color: #008080; font-weight: bold\">87</span> games to her friend, so she would have <span style=\"color: #008080; text-decoration-color: #008080; font-weight: bold\">90</span> - <span style=\"color: #008080; text-decoration-color: #008080; font-weight: bold\">87</span> = <span style=\"color: #008080; text-decoration-color: #008080; font-weight: bold\">3</span> left. The answer: <span style=\"color: #008080; text-decoration-color: #008080; font-weight: bold\">3</span>\n",
       "         - <span style=\"color: #008000; text-decoration-color: #008000\">final:</span>     <span style=\"color: #008080; text-decoration-color: #008080; font-weight: bold\">3</span>\n",
       "</pre>\n"
      ],
      "text/plain": [
       "\u001b[1;34mtext2digits\u001b[0m:\n",
       "         - \u001b[32msource:\u001b[0m    Isabel gave eighty-seven games to her friend, so she would have ninety - eighty seven = three\n",
       "left. The answer: three.\n",
       "         - \u001b[32mconverted:\u001b[0m Isabel gave \u001b[1;36m87\u001b[0m games to her friend, so she would have \u001b[1;36m90\u001b[0m - \u001b[1;36m87\u001b[0m = \u001b[1;36m3\u001b[0m left. The answer: \u001b[1;36m3\u001b[0m\n",
       "         - \u001b[32mfinal:\u001b[0m     \u001b[1;36m3\u001b[0m\n"
      ]
     },
     "metadata": {},
     "output_type": "display_data"
    },
    {
     "data": {
      "text/html": [
       "<pre style=\"white-space:pre;overflow-x:auto;line-height:normal;font-family:Menlo,'DejaVu Sans Mono',consolas,'Courier New',monospace\"><span style=\"color: #800000; text-decoration-color: #800000\">split_fn: no numbers found. Received:</span> `Isabel gave eighty-seven games to her friend, so she would have ninety - \n",
       "eighty seven = three left. The answer: three.`. Word2Num worked. Output: `<span style=\"color: #008080; text-decoration-color: #008080; font-weight: bold\">3</span>`\n",
       "</pre>\n"
      ],
      "text/plain": [
       "\u001b[31msplit_fn: no numbers found. Received:\u001b[0m `Isabel gave eighty-seven games to her friend, so she would have ninety - \n",
       "eighty seven = three left. The answer: three.`. Word2Num worked. Output: `\u001b[1;36m3\u001b[0m`\n"
      ]
     },
     "metadata": {},
     "output_type": "display_data"
    },
    {
     "name": "stderr",
     "output_type": "stream",
     "text": [
      "Accuracy: 37.7%:  45%|████▌     | 920/2023 [28:14<43:28,  2.37s/it]"
     ]
    },
    {
     "data": {
      "text/html": [
       "<pre style=\"white-space:pre;overflow-x:auto;line-height:normal;font-family:Menlo,'DejaVu Sans Mono',consolas,'Courier New',monospace\"><span style=\"color: #000080; text-decoration-color: #000080; font-weight: bold\">text2digits</span>:\n",
       "         - <span style=\"color: #008000; text-decoration-color: #008000\">source:</span>    The baker sold ninety - eighty three = seven cakes. So, the baker would be left with ninety -\n",
       "seven = two cakes. The answer: two.\n",
       "         - <span style=\"color: #008000; text-decoration-color: #008000\">converted:</span> The baker sold <span style=\"color: #008080; text-decoration-color: #008080; font-weight: bold\">90</span> - <span style=\"color: #008080; text-decoration-color: #008080; font-weight: bold\">83</span> = <span style=\"color: #008080; text-decoration-color: #008080; font-weight: bold\">7</span> cakes. So, the baker would be left with <span style=\"color: #008080; text-decoration-color: #008080; font-weight: bold\">90</span> - <span style=\"color: #008080; text-decoration-color: #008080; font-weight: bold\">7</span> = <span style=\"color: #008080; text-decoration-color: #008080; font-weight: bold\">2</span> cakes. The \n",
       "answer: <span style=\"color: #008080; text-decoration-color: #008080; font-weight: bold\">2</span>\n",
       "         - <span style=\"color: #008000; text-decoration-color: #008000\">final:</span>     <span style=\"color: #008080; text-decoration-color: #008080; font-weight: bold\">2</span>\n",
       "</pre>\n"
      ],
      "text/plain": [
       "\u001b[1;34mtext2digits\u001b[0m:\n",
       "         - \u001b[32msource:\u001b[0m    The baker sold ninety - eighty three = seven cakes. So, the baker would be left with ninety -\n",
       "seven = two cakes. The answer: two.\n",
       "         - \u001b[32mconverted:\u001b[0m The baker sold \u001b[1;36m90\u001b[0m - \u001b[1;36m83\u001b[0m = \u001b[1;36m7\u001b[0m cakes. So, the baker would be left with \u001b[1;36m90\u001b[0m - \u001b[1;36m7\u001b[0m = \u001b[1;36m2\u001b[0m cakes. The \n",
       "answer: \u001b[1;36m2\u001b[0m\n",
       "         - \u001b[32mfinal:\u001b[0m     \u001b[1;36m2\u001b[0m\n"
      ]
     },
     "metadata": {},
     "output_type": "display_data"
    },
    {
     "data": {
      "text/html": [
       "<pre style=\"white-space:pre;overflow-x:auto;line-height:normal;font-family:Menlo,'DejaVu Sans Mono',consolas,'Courier New',monospace\"><span style=\"color: #800000; text-decoration-color: #800000\">split_fn: no numbers found. Received:</span> `The baker sold ninety - eighty three = seven cakes. So, the baker would be \n",
       "left with ninety - seven = two cakes. The answer: two.`. Word2Num worked. Output: `<span style=\"color: #008080; text-decoration-color: #008080; font-weight: bold\">2</span>`\n",
       "</pre>\n"
      ],
      "text/plain": [
       "\u001b[31msplit_fn: no numbers found. Received:\u001b[0m `The baker sold ninety - eighty three = seven cakes. So, the baker would be \n",
       "left with ninety - seven = two cakes. The answer: two.`. Word2Num worked. Output: `\u001b[1;36m2\u001b[0m`\n"
      ]
     },
     "metadata": {},
     "output_type": "display_data"
    },
    {
     "data": {
      "text/html": [
       "<pre style=\"white-space:pre;overflow-x:auto;line-height:normal;font-family:Menlo,'DejaVu Sans Mono',consolas,'Courier New',monospace\"><span style=\"color: #000080; text-decoration-color: #000080; font-weight: bold\">text2digits</span>:\n",
       "         - <span style=\"color: #008000; text-decoration-color: #008000\">source:</span>    The baker sold ninety - eighty three = seven cakes. So, the baker would be left with ninety -\n",
       "seven = four cakes. The answer: four.\n",
       "         - <span style=\"color: #008000; text-decoration-color: #008000\">converted:</span> The baker sold <span style=\"color: #008080; text-decoration-color: #008080; font-weight: bold\">90</span> - <span style=\"color: #008080; text-decoration-color: #008080; font-weight: bold\">83</span> = <span style=\"color: #008080; text-decoration-color: #008080; font-weight: bold\">7</span> cakes. So, the baker would be left with <span style=\"color: #008080; text-decoration-color: #008080; font-weight: bold\">90</span> - <span style=\"color: #008080; text-decoration-color: #008080; font-weight: bold\">7</span> = <span style=\"color: #008080; text-decoration-color: #008080; font-weight: bold\">4</span> cakes. The \n",
       "answer: <span style=\"color: #008080; text-decoration-color: #008080; font-weight: bold\">4</span>\n",
       "         - <span style=\"color: #008000; text-decoration-color: #008000\">final:</span>     <span style=\"color: #008080; text-decoration-color: #008080; font-weight: bold\">4</span>\n",
       "</pre>\n"
      ],
      "text/plain": [
       "\u001b[1;34mtext2digits\u001b[0m:\n",
       "         - \u001b[32msource:\u001b[0m    The baker sold ninety - eighty three = seven cakes. So, the baker would be left with ninety -\n",
       "seven = four cakes. The answer: four.\n",
       "         - \u001b[32mconverted:\u001b[0m The baker sold \u001b[1;36m90\u001b[0m - \u001b[1;36m83\u001b[0m = \u001b[1;36m7\u001b[0m cakes. So, the baker would be left with \u001b[1;36m90\u001b[0m - \u001b[1;36m7\u001b[0m = \u001b[1;36m4\u001b[0m cakes. The \n",
       "answer: \u001b[1;36m4\u001b[0m\n",
       "         - \u001b[32mfinal:\u001b[0m     \u001b[1;36m4\u001b[0m\n"
      ]
     },
     "metadata": {},
     "output_type": "display_data"
    },
    {
     "data": {
      "text/html": [
       "<pre style=\"white-space:pre;overflow-x:auto;line-height:normal;font-family:Menlo,'DejaVu Sans Mono',consolas,'Courier New',monospace\"><span style=\"color: #800000; text-decoration-color: #800000\">split_fn: no numbers found. Received:</span> `The baker sold ninety - eighty three = seven cakes. So, the baker would be \n",
       "left with ninety - seven = four cakes. The answer: four.`. Word2Num worked. Output: `<span style=\"color: #008080; text-decoration-color: #008080; font-weight: bold\">4</span>`\n",
       "</pre>\n"
      ],
      "text/plain": [
       "\u001b[31msplit_fn: no numbers found. Received:\u001b[0m `The baker sold ninety - eighty three = seven cakes. So, the baker would be \n",
       "left with ninety - seven = four cakes. The answer: four.`. Word2Num worked. Output: `\u001b[1;36m4\u001b[0m`\n"
      ]
     },
     "metadata": {},
     "output_type": "display_data"
    },
    {
     "data": {
      "text/html": [
       "<pre style=\"white-space:pre;overflow-x:auto;line-height:normal;font-family:Menlo,'DejaVu Sans Mono',consolas,'Courier New',monospace\"><span style=\"color: #000080; text-decoration-color: #000080; font-weight: bold\">text2digits</span>:\n",
       "         - <span style=\"color: #008000; text-decoration-color: #008000\">source:</span>    The baker sold ninety - eighty three = seven cakes. So, the baker would still have ninety - \n",
       "seven = two cakes. The answer: two.\n",
       "         - <span style=\"color: #008000; text-decoration-color: #008000\">converted:</span> The baker sold <span style=\"color: #008080; text-decoration-color: #008080; font-weight: bold\">90</span> - <span style=\"color: #008080; text-decoration-color: #008080; font-weight: bold\">83</span> = <span style=\"color: #008080; text-decoration-color: #008080; font-weight: bold\">7</span> cakes. So, the baker would still have <span style=\"color: #008080; text-decoration-color: #008080; font-weight: bold\">90</span> - <span style=\"color: #008080; text-decoration-color: #008080; font-weight: bold\">7</span> = <span style=\"color: #008080; text-decoration-color: #008080; font-weight: bold\">2</span> cakes. The \n",
       "answer: <span style=\"color: #008080; text-decoration-color: #008080; font-weight: bold\">2</span>\n",
       "         - <span style=\"color: #008000; text-decoration-color: #008000\">final:</span>     <span style=\"color: #008080; text-decoration-color: #008080; font-weight: bold\">2</span>\n",
       "</pre>\n"
      ],
      "text/plain": [
       "\u001b[1;34mtext2digits\u001b[0m:\n",
       "         - \u001b[32msource:\u001b[0m    The baker sold ninety - eighty three = seven cakes. So, the baker would still have ninety - \n",
       "seven = two cakes. The answer: two.\n",
       "         - \u001b[32mconverted:\u001b[0m The baker sold \u001b[1;36m90\u001b[0m - \u001b[1;36m83\u001b[0m = \u001b[1;36m7\u001b[0m cakes. So, the baker would still have \u001b[1;36m90\u001b[0m - \u001b[1;36m7\u001b[0m = \u001b[1;36m2\u001b[0m cakes. The \n",
       "answer: \u001b[1;36m2\u001b[0m\n",
       "         - \u001b[32mfinal:\u001b[0m     \u001b[1;36m2\u001b[0m\n"
      ]
     },
     "metadata": {},
     "output_type": "display_data"
    },
    {
     "data": {
      "text/html": [
       "<pre style=\"white-space:pre;overflow-x:auto;line-height:normal;font-family:Menlo,'DejaVu Sans Mono',consolas,'Courier New',monospace\"><span style=\"color: #800000; text-decoration-color: #800000\">split_fn: no numbers found. Received:</span> `The baker sold ninety - eighty three = seven cakes. So, the baker would \n",
       "still have ninety - seven = two cakes. The answer: two.`. Word2Num worked. Output: `<span style=\"color: #008080; text-decoration-color: #008080; font-weight: bold\">2</span>`\n",
       "</pre>\n"
      ],
      "text/plain": [
       "\u001b[31msplit_fn: no numbers found. Received:\u001b[0m `The baker sold ninety - eighty three = seven cakes. So, the baker would \n",
       "still have ninety - seven = two cakes. The answer: two.`. Word2Num worked. Output: `\u001b[1;36m2\u001b[0m`\n"
      ]
     },
     "metadata": {},
     "output_type": "display_data"
    },
    {
     "data": {
      "text/html": [
       "<pre style=\"white-space:pre;overflow-x:auto;line-height:normal;font-family:Menlo,'DejaVu Sans Mono',consolas,'Courier New',monospace\"><span style=\"color: #000080; text-decoration-color: #000080; font-weight: bold\">text2digits</span>:\n",
       "         - <span style=\"color: #008000; text-decoration-color: #008000\">source:</span>    The baker sold ninety - eighty three = seven cakes. So, the baker would be left with ninety -\n",
       "seven = two cakes. The answer: two.\n",
       "         - <span style=\"color: #008000; text-decoration-color: #008000\">converted:</span> The baker sold <span style=\"color: #008080; text-decoration-color: #008080; font-weight: bold\">90</span> - <span style=\"color: #008080; text-decoration-color: #008080; font-weight: bold\">83</span> = <span style=\"color: #008080; text-decoration-color: #008080; font-weight: bold\">7</span> cakes. So, the baker would be left with <span style=\"color: #008080; text-decoration-color: #008080; font-weight: bold\">90</span> - <span style=\"color: #008080; text-decoration-color: #008080; font-weight: bold\">7</span> = <span style=\"color: #008080; text-decoration-color: #008080; font-weight: bold\">2</span> cakes. The \n",
       "answer: <span style=\"color: #008080; text-decoration-color: #008080; font-weight: bold\">2</span>\n",
       "         - <span style=\"color: #008000; text-decoration-color: #008000\">final:</span>     <span style=\"color: #008080; text-decoration-color: #008080; font-weight: bold\">2</span>\n",
       "</pre>\n"
      ],
      "text/plain": [
       "\u001b[1;34mtext2digits\u001b[0m:\n",
       "         - \u001b[32msource:\u001b[0m    The baker sold ninety - eighty three = seven cakes. So, the baker would be left with ninety -\n",
       "seven = two cakes. The answer: two.\n",
       "         - \u001b[32mconverted:\u001b[0m The baker sold \u001b[1;36m90\u001b[0m - \u001b[1;36m83\u001b[0m = \u001b[1;36m7\u001b[0m cakes. So, the baker would be left with \u001b[1;36m90\u001b[0m - \u001b[1;36m7\u001b[0m = \u001b[1;36m2\u001b[0m cakes. The \n",
       "answer: \u001b[1;36m2\u001b[0m\n",
       "         - \u001b[32mfinal:\u001b[0m     \u001b[1;36m2\u001b[0m\n"
      ]
     },
     "metadata": {},
     "output_type": "display_data"
    },
    {
     "data": {
      "text/html": [
       "<pre style=\"white-space:pre;overflow-x:auto;line-height:normal;font-family:Menlo,'DejaVu Sans Mono',consolas,'Courier New',monospace\"><span style=\"color: #800000; text-decoration-color: #800000\">split_fn: no numbers found. Received:</span> `The baker sold ninety - eighty three = seven cakes. So, the baker would be \n",
       "left with ninety - seven = two cakes. The answer: two.`. Word2Num worked. Output: `<span style=\"color: #008080; text-decoration-color: #008080; font-weight: bold\">2</span>`\n",
       "</pre>\n"
      ],
      "text/plain": [
       "\u001b[31msplit_fn: no numbers found. Received:\u001b[0m `The baker sold ninety - eighty three = seven cakes. So, the baker would be \n",
       "left with ninety - seven = two cakes. The answer: two.`. Word2Num worked. Output: `\u001b[1;36m2\u001b[0m`\n"
      ]
     },
     "metadata": {},
     "output_type": "display_data"
    },
    {
     "data": {
      "text/html": [
       "<pre style=\"white-space:pre;overflow-x:auto;line-height:normal;font-family:Menlo,'DejaVu Sans Mono',consolas,'Courier New',monospace\"><span style=\"color: #000080; text-decoration-color: #000080; font-weight: bold\">text2digits</span>:\n",
       "         - <span style=\"color: #008000; text-decoration-color: #008000\">source:</span>    The baker sold ninety - eighty three = seven cakes. So, the baker would be left with ninety -\n",
       "seven = four cakes. The answer: four.\n",
       "         - <span style=\"color: #008000; text-decoration-color: #008000\">converted:</span> The baker sold <span style=\"color: #008080; text-decoration-color: #008080; font-weight: bold\">90</span> - <span style=\"color: #008080; text-decoration-color: #008080; font-weight: bold\">83</span> = <span style=\"color: #008080; text-decoration-color: #008080; font-weight: bold\">7</span> cakes. So, the baker would be left with <span style=\"color: #008080; text-decoration-color: #008080; font-weight: bold\">90</span> - <span style=\"color: #008080; text-decoration-color: #008080; font-weight: bold\">7</span> = <span style=\"color: #008080; text-decoration-color: #008080; font-weight: bold\">4</span> cakes. The \n",
       "answer: <span style=\"color: #008080; text-decoration-color: #008080; font-weight: bold\">4</span>\n",
       "         - <span style=\"color: #008000; text-decoration-color: #008000\">final:</span>     <span style=\"color: #008080; text-decoration-color: #008080; font-weight: bold\">4</span>\n",
       "</pre>\n"
      ],
      "text/plain": [
       "\u001b[1;34mtext2digits\u001b[0m:\n",
       "         - \u001b[32msource:\u001b[0m    The baker sold ninety - eighty three = seven cakes. So, the baker would be left with ninety -\n",
       "seven = four cakes. The answer: four.\n",
       "         - \u001b[32mconverted:\u001b[0m The baker sold \u001b[1;36m90\u001b[0m - \u001b[1;36m83\u001b[0m = \u001b[1;36m7\u001b[0m cakes. So, the baker would be left with \u001b[1;36m90\u001b[0m - \u001b[1;36m7\u001b[0m = \u001b[1;36m4\u001b[0m cakes. The \n",
       "answer: \u001b[1;36m4\u001b[0m\n",
       "         - \u001b[32mfinal:\u001b[0m     \u001b[1;36m4\u001b[0m\n"
      ]
     },
     "metadata": {},
     "output_type": "display_data"
    },
    {
     "data": {
      "text/html": [
       "<pre style=\"white-space:pre;overflow-x:auto;line-height:normal;font-family:Menlo,'DejaVu Sans Mono',consolas,'Courier New',monospace\"><span style=\"color: #800000; text-decoration-color: #800000\">split_fn: no numbers found. Received:</span> `The baker sold ninety - eighty three = seven cakes. So, the baker would be \n",
       "left with ninety - seven = four cakes. The answer: four.`. Word2Num worked. Output: `<span style=\"color: #008080; text-decoration-color: #008080; font-weight: bold\">4</span>`\n",
       "</pre>\n"
      ],
      "text/plain": [
       "\u001b[31msplit_fn: no numbers found. Received:\u001b[0m `The baker sold ninety - eighty three = seven cakes. So, the baker would be \n",
       "left with ninety - seven = four cakes. The answer: four.`. Word2Num worked. Output: `\u001b[1;36m4\u001b[0m`\n"
      ]
     },
     "metadata": {},
     "output_type": "display_data"
    },
    {
     "data": {
      "text/html": [
       "<pre style=\"white-space:pre;overflow-x:auto;line-height:normal;font-family:Menlo,'DejaVu Sans Mono',consolas,'Courier New',monospace\"><span style=\"color: #000080; text-decoration-color: #000080; font-weight: bold\">text2digits</span>:\n",
       "         - <span style=\"color: #008000; text-decoration-color: #008000\">source:</span>    The baker sold ninety - eighty three = seven cakes. So, the baker would still have ninety - \n",
       "seven = two cakes. The answer: two.\n",
       "         - <span style=\"color: #008000; text-decoration-color: #008000\">converted:</span> The baker sold <span style=\"color: #008080; text-decoration-color: #008080; font-weight: bold\">90</span> - <span style=\"color: #008080; text-decoration-color: #008080; font-weight: bold\">83</span> = <span style=\"color: #008080; text-decoration-color: #008080; font-weight: bold\">7</span> cakes. So, the baker would still have <span style=\"color: #008080; text-decoration-color: #008080; font-weight: bold\">90</span> - <span style=\"color: #008080; text-decoration-color: #008080; font-weight: bold\">7</span> = <span style=\"color: #008080; text-decoration-color: #008080; font-weight: bold\">2</span> cakes. The \n",
       "answer: <span style=\"color: #008080; text-decoration-color: #008080; font-weight: bold\">2</span>\n",
       "         - <span style=\"color: #008000; text-decoration-color: #008000\">final:</span>     <span style=\"color: #008080; text-decoration-color: #008080; font-weight: bold\">2</span>\n",
       "</pre>\n"
      ],
      "text/plain": [
       "\u001b[1;34mtext2digits\u001b[0m:\n",
       "         - \u001b[32msource:\u001b[0m    The baker sold ninety - eighty three = seven cakes. So, the baker would still have ninety - \n",
       "seven = two cakes. The answer: two.\n",
       "         - \u001b[32mconverted:\u001b[0m The baker sold \u001b[1;36m90\u001b[0m - \u001b[1;36m83\u001b[0m = \u001b[1;36m7\u001b[0m cakes. So, the baker would still have \u001b[1;36m90\u001b[0m - \u001b[1;36m7\u001b[0m = \u001b[1;36m2\u001b[0m cakes. The \n",
       "answer: \u001b[1;36m2\u001b[0m\n",
       "         - \u001b[32mfinal:\u001b[0m     \u001b[1;36m2\u001b[0m\n"
      ]
     },
     "metadata": {},
     "output_type": "display_data"
    },
    {
     "data": {
      "text/html": [
       "<pre style=\"white-space:pre;overflow-x:auto;line-height:normal;font-family:Menlo,'DejaVu Sans Mono',consolas,'Courier New',monospace\"><span style=\"color: #800000; text-decoration-color: #800000\">split_fn: no numbers found. Received:</span> `The baker sold ninety - eighty three = seven cakes. So, the baker would \n",
       "still have ninety - seven = two cakes. The answer: two.`. Word2Num worked. Output: `<span style=\"color: #008080; text-decoration-color: #008080; font-weight: bold\">2</span>`\n",
       "</pre>\n"
      ],
      "text/plain": [
       "\u001b[31msplit_fn: no numbers found. Received:\u001b[0m `The baker sold ninety - eighty three = seven cakes. So, the baker would \n",
       "still have ninety - seven = two cakes. The answer: two.`. Word2Num worked. Output: `\u001b[1;36m2\u001b[0m`\n"
      ]
     },
     "metadata": {},
     "output_type": "display_data"
    },
    {
     "name": "stderr",
     "output_type": "stream",
     "text": [
      "Accuracy: 37.8%:  48%|████▊     | 965/2023 [29:35<27:57,  1.59s/it]"
     ]
    },
    {
     "data": {
      "text/html": [
       "<pre style=\"white-space:pre;overflow-x:auto;line-height:normal;font-family:Menlo,'DejaVu Sans Mono',consolas,'Courier New',monospace\"><span style=\"color: #000080; text-decoration-color: #000080; font-weight: bold\">text2digits</span>:\n",
       "         - <span style=\"color: #008000; text-decoration-color: #008000\">source:</span>    The clown now has forty-seven + thirteen = sixty balloons. The answer: sixty.\n",
       "         - <span style=\"color: #008000; text-decoration-color: #008000\">converted:</span> The clown now has <span style=\"color: #008080; text-decoration-color: #008080; font-weight: bold\">47</span> + <span style=\"color: #008080; text-decoration-color: #008080; font-weight: bold\">13</span> = <span style=\"color: #008080; text-decoration-color: #008080; font-weight: bold\">60</span> balloons. The answer: <span style=\"color: #008080; text-decoration-color: #008080; font-weight: bold\">60</span>\n",
       "         - <span style=\"color: #008000; text-decoration-color: #008000\">final:</span>     <span style=\"color: #008080; text-decoration-color: #008080; font-weight: bold\">60</span>\n",
       "</pre>\n"
      ],
      "text/plain": [
       "\u001b[1;34mtext2digits\u001b[0m:\n",
       "         - \u001b[32msource:\u001b[0m    The clown now has forty-seven + thirteen = sixty balloons. The answer: sixty.\n",
       "         - \u001b[32mconverted:\u001b[0m The clown now has \u001b[1;36m47\u001b[0m + \u001b[1;36m13\u001b[0m = \u001b[1;36m60\u001b[0m balloons. The answer: \u001b[1;36m60\u001b[0m\n",
       "         - \u001b[32mfinal:\u001b[0m     \u001b[1;36m60\u001b[0m\n"
      ]
     },
     "metadata": {},
     "output_type": "display_data"
    },
    {
     "data": {
      "text/html": [
       "<pre style=\"white-space:pre;overflow-x:auto;line-height:normal;font-family:Menlo,'DejaVu Sans Mono',consolas,'Courier New',monospace\"><span style=\"color: #800000; text-decoration-color: #800000\">split_fn: no numbers found. Received:</span> `The clown now has forty-seven + thirteen = sixty balloons. The answer: \n",
       "sixty.`. Word2Num worked. Output: `<span style=\"color: #008080; text-decoration-color: #008080; font-weight: bold\">60</span>`\n",
       "</pre>\n"
      ],
      "text/plain": [
       "\u001b[31msplit_fn: no numbers found. Received:\u001b[0m `The clown now has forty-seven + thirteen = sixty balloons. The answer: \n",
       "sixty.`. Word2Num worked. Output: `\u001b[1;36m60\u001b[0m`\n"
      ]
     },
     "metadata": {},
     "output_type": "display_data"
    },
    {
     "data": {
      "text/html": [
       "<pre style=\"white-space:pre;overflow-x:auto;line-height:normal;font-family:Menlo,'DejaVu Sans Mono',consolas,'Courier New',monospace\"><span style=\"color: #000080; text-decoration-color: #000080; font-weight: bold\">text2digits</span>:\n",
       "         - <span style=\"color: #008000; text-decoration-color: #008000\">source:</span>    The clown has forty-seven + thirteen = sixty balloons now. The answer: sixty.\n",
       "         - <span style=\"color: #008000; text-decoration-color: #008000\">converted:</span> The clown has <span style=\"color: #008080; text-decoration-color: #008080; font-weight: bold\">47</span> + <span style=\"color: #008080; text-decoration-color: #008080; font-weight: bold\">13</span> = <span style=\"color: #008080; text-decoration-color: #008080; font-weight: bold\">60</span> balloons now. The answer: <span style=\"color: #008080; text-decoration-color: #008080; font-weight: bold\">60</span>\n",
       "         - <span style=\"color: #008000; text-decoration-color: #008000\">final:</span>     <span style=\"color: #008080; text-decoration-color: #008080; font-weight: bold\">60</span>\n",
       "</pre>\n"
      ],
      "text/plain": [
       "\u001b[1;34mtext2digits\u001b[0m:\n",
       "         - \u001b[32msource:\u001b[0m    The clown has forty-seven + thirteen = sixty balloons now. The answer: sixty.\n",
       "         - \u001b[32mconverted:\u001b[0m The clown has \u001b[1;36m47\u001b[0m + \u001b[1;36m13\u001b[0m = \u001b[1;36m60\u001b[0m balloons now. The answer: \u001b[1;36m60\u001b[0m\n",
       "         - \u001b[32mfinal:\u001b[0m     \u001b[1;36m60\u001b[0m\n"
      ]
     },
     "metadata": {},
     "output_type": "display_data"
    },
    {
     "data": {
      "text/html": [
       "<pre style=\"white-space:pre;overflow-x:auto;line-height:normal;font-family:Menlo,'DejaVu Sans Mono',consolas,'Courier New',monospace\"><span style=\"color: #800000; text-decoration-color: #800000\">split_fn: no numbers found. Received:</span> `The clown has forty-seven + thirteen = sixty balloons now. The answer: \n",
       "sixty.`. Word2Num worked. Output: `<span style=\"color: #008080; text-decoration-color: #008080; font-weight: bold\">60</span>`\n",
       "</pre>\n"
      ],
      "text/plain": [
       "\u001b[31msplit_fn: no numbers found. Received:\u001b[0m `The clown has forty-seven + thirteen = sixty balloons now. The answer: \n",
       "sixty.`. Word2Num worked. Output: `\u001b[1;36m60\u001b[0m`\n"
      ]
     },
     "metadata": {},
     "output_type": "display_data"
    },
    {
     "data": {
      "text/html": [
       "<pre style=\"white-space:pre;overflow-x:auto;line-height:normal;font-family:Menlo,'DejaVu Sans Mono',consolas,'Courier New',monospace\"><span style=\"color: #000080; text-decoration-color: #000080; font-weight: bold\">text2digits</span>:\n",
       "         - <span style=\"color: #008000; text-decoration-color: #008000\">source:</span>    The clown has forty-seven + thirteen = sixty two balloons now. The answer: sixty two.\n",
       "         - <span style=\"color: #008000; text-decoration-color: #008000\">converted:</span> The clown has <span style=\"color: #008080; text-decoration-color: #008080; font-weight: bold\">47</span> + <span style=\"color: #008080; text-decoration-color: #008080; font-weight: bold\">13</span> = <span style=\"color: #008080; text-decoration-color: #008080; font-weight: bold\">62</span> balloons now. The answer: <span style=\"color: #008080; text-decoration-color: #008080; font-weight: bold\">62</span>\n",
       "         - <span style=\"color: #008000; text-decoration-color: #008000\">final:</span>     <span style=\"color: #008080; text-decoration-color: #008080; font-weight: bold\">62</span>\n",
       "</pre>\n"
      ],
      "text/plain": [
       "\u001b[1;34mtext2digits\u001b[0m:\n",
       "         - \u001b[32msource:\u001b[0m    The clown has forty-seven + thirteen = sixty two balloons now. The answer: sixty two.\n",
       "         - \u001b[32mconverted:\u001b[0m The clown has \u001b[1;36m47\u001b[0m + \u001b[1;36m13\u001b[0m = \u001b[1;36m62\u001b[0m balloons now. The answer: \u001b[1;36m62\u001b[0m\n",
       "         - \u001b[32mfinal:\u001b[0m     \u001b[1;36m62\u001b[0m\n"
      ]
     },
     "metadata": {},
     "output_type": "display_data"
    },
    {
     "data": {
      "text/html": [
       "<pre style=\"white-space:pre;overflow-x:auto;line-height:normal;font-family:Menlo,'DejaVu Sans Mono',consolas,'Courier New',monospace\"><span style=\"color: #800000; text-decoration-color: #800000\">split_fn: no numbers found. Received:</span> `The clown has forty-seven + thirteen = sixty two balloons now. The answer: \n",
       "sixty two.`. Word2Num worked. Output: `<span style=\"color: #008080; text-decoration-color: #008080; font-weight: bold\">62</span>`\n",
       "</pre>\n"
      ],
      "text/plain": [
       "\u001b[31msplit_fn: no numbers found. Received:\u001b[0m `The clown has forty-seven + thirteen = sixty two balloons now. The answer: \n",
       "sixty two.`. Word2Num worked. Output: `\u001b[1;36m62\u001b[0m`\n"
      ]
     },
     "metadata": {},
     "output_type": "display_data"
    },
    {
     "data": {
      "text/html": [
       "<pre style=\"white-space:pre;overflow-x:auto;line-height:normal;font-family:Menlo,'DejaVu Sans Mono',consolas,'Courier New',monospace\"><span style=\"color: #000080; text-decoration-color: #000080; font-weight: bold\">text2digits</span>:\n",
       "         - <span style=\"color: #008000; text-decoration-color: #008000\">source:</span>    The clown blew up forty-seven + thirteen = sixty balloons now. So the answer is sixty.\n",
       "         - <span style=\"color: #008000; text-decoration-color: #008000\">converted:</span> The clown blew up <span style=\"color: #008080; text-decoration-color: #008080; font-weight: bold\">47</span> + <span style=\"color: #008080; text-decoration-color: #008080; font-weight: bold\">13</span> = <span style=\"color: #008080; text-decoration-color: #008080; font-weight: bold\">60</span> balloons now. So the answer is <span style=\"color: #008080; text-decoration-color: #008080; font-weight: bold\">60</span>\n",
       "         - <span style=\"color: #008000; text-decoration-color: #008000\">final:</span>     <span style=\"color: #008080; text-decoration-color: #008080; font-weight: bold\">60</span>\n",
       "</pre>\n"
      ],
      "text/plain": [
       "\u001b[1;34mtext2digits\u001b[0m:\n",
       "         - \u001b[32msource:\u001b[0m    The clown blew up forty-seven + thirteen = sixty balloons now. So the answer is sixty.\n",
       "         - \u001b[32mconverted:\u001b[0m The clown blew up \u001b[1;36m47\u001b[0m + \u001b[1;36m13\u001b[0m = \u001b[1;36m60\u001b[0m balloons now. So the answer is \u001b[1;36m60\u001b[0m\n",
       "         - \u001b[32mfinal:\u001b[0m     \u001b[1;36m60\u001b[0m\n"
      ]
     },
     "metadata": {},
     "output_type": "display_data"
    },
    {
     "data": {
      "text/html": [
       "<pre style=\"white-space:pre;overflow-x:auto;line-height:normal;font-family:Menlo,'DejaVu Sans Mono',consolas,'Courier New',monospace\"><span style=\"color: #800000; text-decoration-color: #800000\">split_fn: no numbers found. Received:</span> `The clown blew up forty-seven + thirteen = sixty balloons now. So the answer\n",
       "is sixty.`. Word2Num worked. Output: `<span style=\"color: #008080; text-decoration-color: #008080; font-weight: bold\">60</span>`\n",
       "</pre>\n"
      ],
      "text/plain": [
       "\u001b[31msplit_fn: no numbers found. Received:\u001b[0m `The clown blew up forty-seven + thirteen = sixty balloons now. So the answer\n",
       "is sixty.`. Word2Num worked. Output: `\u001b[1;36m60\u001b[0m`\n"
      ]
     },
     "metadata": {},
     "output_type": "display_data"
    },
    {
     "data": {
      "text/html": [
       "<pre style=\"white-space:pre;overflow-x:auto;line-height:normal;font-family:Menlo,'DejaVu Sans Mono',consolas,'Courier New',monospace\"><span style=\"color: #000080; text-decoration-color: #000080; font-weight: bold\">text2digits</span>:\n",
       "         - <span style=\"color: #008000; text-decoration-color: #008000\">source:</span>    The clown blew up forty-seven + thirteen = sixty balloons. So, the answer is sixty.\n",
       "         - <span style=\"color: #008000; text-decoration-color: #008000\">converted:</span> The clown blew up <span style=\"color: #008080; text-decoration-color: #008080; font-weight: bold\">47</span> + <span style=\"color: #008080; text-decoration-color: #008080; font-weight: bold\">13</span> = <span style=\"color: #008080; text-decoration-color: #008080; font-weight: bold\">60</span> balloons. So, the answer is <span style=\"color: #008080; text-decoration-color: #008080; font-weight: bold\">60</span>\n",
       "         - <span style=\"color: #008000; text-decoration-color: #008000\">final:</span>     <span style=\"color: #008080; text-decoration-color: #008080; font-weight: bold\">60</span>\n",
       "</pre>\n"
      ],
      "text/plain": [
       "\u001b[1;34mtext2digits\u001b[0m:\n",
       "         - \u001b[32msource:\u001b[0m    The clown blew up forty-seven + thirteen = sixty balloons. So, the answer is sixty.\n",
       "         - \u001b[32mconverted:\u001b[0m The clown blew up \u001b[1;36m47\u001b[0m + \u001b[1;36m13\u001b[0m = \u001b[1;36m60\u001b[0m balloons. So, the answer is \u001b[1;36m60\u001b[0m\n",
       "         - \u001b[32mfinal:\u001b[0m     \u001b[1;36m60\u001b[0m\n"
      ]
     },
     "metadata": {},
     "output_type": "display_data"
    },
    {
     "data": {
      "text/html": [
       "<pre style=\"white-space:pre;overflow-x:auto;line-height:normal;font-family:Menlo,'DejaVu Sans Mono',consolas,'Courier New',monospace\"><span style=\"color: #800000; text-decoration-color: #800000\">split_fn: no numbers found. Received:</span> `The clown blew up forty-seven + thirteen = sixty balloons. So, the answer is\n",
       "sixty.`. Word2Num worked. Output: `<span style=\"color: #008080; text-decoration-color: #008080; font-weight: bold\">60</span>`\n",
       "</pre>\n"
      ],
      "text/plain": [
       "\u001b[31msplit_fn: no numbers found. Received:\u001b[0m `The clown blew up forty-seven + thirteen = sixty balloons. So, the answer is\n",
       "sixty.`. Word2Num worked. Output: `\u001b[1;36m60\u001b[0m`\n"
      ]
     },
     "metadata": {},
     "output_type": "display_data"
    },
    {
     "data": {
      "text/html": [
       "<pre style=\"white-space:pre;overflow-x:auto;line-height:normal;font-family:Menlo,'DejaVu Sans Mono',consolas,'Courier New',monospace\"><span style=\"color: #000080; text-decoration-color: #000080; font-weight: bold\">text2digits</span>:\n",
       "         - <span style=\"color: #008000; text-decoration-color: #008000\">source:</span>    The clown now has forty-seven + thirteen = sixty balloons. The answer: sixty.\n",
       "         - <span style=\"color: #008000; text-decoration-color: #008000\">converted:</span> The clown now has <span style=\"color: #008080; text-decoration-color: #008080; font-weight: bold\">47</span> + <span style=\"color: #008080; text-decoration-color: #008080; font-weight: bold\">13</span> = <span style=\"color: #008080; text-decoration-color: #008080; font-weight: bold\">60</span> balloons. The answer: <span style=\"color: #008080; text-decoration-color: #008080; font-weight: bold\">60</span>\n",
       "         - <span style=\"color: #008000; text-decoration-color: #008000\">final:</span>     <span style=\"color: #008080; text-decoration-color: #008080; font-weight: bold\">60</span>\n",
       "</pre>\n"
      ],
      "text/plain": [
       "\u001b[1;34mtext2digits\u001b[0m:\n",
       "         - \u001b[32msource:\u001b[0m    The clown now has forty-seven + thirteen = sixty balloons. The answer: sixty.\n",
       "         - \u001b[32mconverted:\u001b[0m The clown now has \u001b[1;36m47\u001b[0m + \u001b[1;36m13\u001b[0m = \u001b[1;36m60\u001b[0m balloons. The answer: \u001b[1;36m60\u001b[0m\n",
       "         - \u001b[32mfinal:\u001b[0m     \u001b[1;36m60\u001b[0m\n"
      ]
     },
     "metadata": {},
     "output_type": "display_data"
    },
    {
     "data": {
      "text/html": [
       "<pre style=\"white-space:pre;overflow-x:auto;line-height:normal;font-family:Menlo,'DejaVu Sans Mono',consolas,'Courier New',monospace\"><span style=\"color: #800000; text-decoration-color: #800000\">split_fn: no numbers found. Received:</span> `The clown now has forty-seven + thirteen = sixty balloons. The answer: \n",
       "sixty.`. Word2Num worked. Output: `<span style=\"color: #008080; text-decoration-color: #008080; font-weight: bold\">60</span>`\n",
       "</pre>\n"
      ],
      "text/plain": [
       "\u001b[31msplit_fn: no numbers found. Received:\u001b[0m `The clown now has forty-seven + thirteen = sixty balloons. The answer: \n",
       "sixty.`. Word2Num worked. Output: `\u001b[1;36m60\u001b[0m`\n"
      ]
     },
     "metadata": {},
     "output_type": "display_data"
    },
    {
     "data": {
      "text/html": [
       "<pre style=\"white-space:pre;overflow-x:auto;line-height:normal;font-family:Menlo,'DejaVu Sans Mono',consolas,'Courier New',monospace\"><span style=\"color: #000080; text-decoration-color: #000080; font-weight: bold\">text2digits</span>:\n",
       "         - <span style=\"color: #008000; text-decoration-color: #008000\">source:</span>    The clown has forty-seven + thirteen = sixty balloons now. The answer: sixty.\n",
       "         - <span style=\"color: #008000; text-decoration-color: #008000\">converted:</span> The clown has <span style=\"color: #008080; text-decoration-color: #008080; font-weight: bold\">47</span> + <span style=\"color: #008080; text-decoration-color: #008080; font-weight: bold\">13</span> = <span style=\"color: #008080; text-decoration-color: #008080; font-weight: bold\">60</span> balloons now. The answer: <span style=\"color: #008080; text-decoration-color: #008080; font-weight: bold\">60</span>\n",
       "         - <span style=\"color: #008000; text-decoration-color: #008000\">final:</span>     <span style=\"color: #008080; text-decoration-color: #008080; font-weight: bold\">60</span>\n",
       "</pre>\n"
      ],
      "text/plain": [
       "\u001b[1;34mtext2digits\u001b[0m:\n",
       "         - \u001b[32msource:\u001b[0m    The clown has forty-seven + thirteen = sixty balloons now. The answer: sixty.\n",
       "         - \u001b[32mconverted:\u001b[0m The clown has \u001b[1;36m47\u001b[0m + \u001b[1;36m13\u001b[0m = \u001b[1;36m60\u001b[0m balloons now. The answer: \u001b[1;36m60\u001b[0m\n",
       "         - \u001b[32mfinal:\u001b[0m     \u001b[1;36m60\u001b[0m\n"
      ]
     },
     "metadata": {},
     "output_type": "display_data"
    },
    {
     "data": {
      "text/html": [
       "<pre style=\"white-space:pre;overflow-x:auto;line-height:normal;font-family:Menlo,'DejaVu Sans Mono',consolas,'Courier New',monospace\"><span style=\"color: #800000; text-decoration-color: #800000\">split_fn: no numbers found. Received:</span> `The clown has forty-seven + thirteen = sixty balloons now. The answer: \n",
       "sixty.`. Word2Num worked. Output: `<span style=\"color: #008080; text-decoration-color: #008080; font-weight: bold\">60</span>`\n",
       "</pre>\n"
      ],
      "text/plain": [
       "\u001b[31msplit_fn: no numbers found. Received:\u001b[0m `The clown has forty-seven + thirteen = sixty balloons now. The answer: \n",
       "sixty.`. Word2Num worked. Output: `\u001b[1;36m60\u001b[0m`\n"
      ]
     },
     "metadata": {},
     "output_type": "display_data"
    },
    {
     "data": {
      "text/html": [
       "<pre style=\"white-space:pre;overflow-x:auto;line-height:normal;font-family:Menlo,'DejaVu Sans Mono',consolas,'Courier New',monospace\"><span style=\"color: #000080; text-decoration-color: #000080; font-weight: bold\">text2digits</span>:\n",
       "         - <span style=\"color: #008000; text-decoration-color: #008000\">source:</span>    The clown has forty-seven + thirteen = sixty two balloons now. The answer: sixty two.\n",
       "         - <span style=\"color: #008000; text-decoration-color: #008000\">converted:</span> The clown has <span style=\"color: #008080; text-decoration-color: #008080; font-weight: bold\">47</span> + <span style=\"color: #008080; text-decoration-color: #008080; font-weight: bold\">13</span> = <span style=\"color: #008080; text-decoration-color: #008080; font-weight: bold\">62</span> balloons now. The answer: <span style=\"color: #008080; text-decoration-color: #008080; font-weight: bold\">62</span>\n",
       "         - <span style=\"color: #008000; text-decoration-color: #008000\">final:</span>     <span style=\"color: #008080; text-decoration-color: #008080; font-weight: bold\">62</span>\n",
       "</pre>\n"
      ],
      "text/plain": [
       "\u001b[1;34mtext2digits\u001b[0m:\n",
       "         - \u001b[32msource:\u001b[0m    The clown has forty-seven + thirteen = sixty two balloons now. The answer: sixty two.\n",
       "         - \u001b[32mconverted:\u001b[0m The clown has \u001b[1;36m47\u001b[0m + \u001b[1;36m13\u001b[0m = \u001b[1;36m62\u001b[0m balloons now. The answer: \u001b[1;36m62\u001b[0m\n",
       "         - \u001b[32mfinal:\u001b[0m     \u001b[1;36m62\u001b[0m\n"
      ]
     },
     "metadata": {},
     "output_type": "display_data"
    },
    {
     "data": {
      "text/html": [
       "<pre style=\"white-space:pre;overflow-x:auto;line-height:normal;font-family:Menlo,'DejaVu Sans Mono',consolas,'Courier New',monospace\"><span style=\"color: #800000; text-decoration-color: #800000\">split_fn: no numbers found. Received:</span> `The clown has forty-seven + thirteen = sixty two balloons now. The answer: \n",
       "sixty two.`. Word2Num worked. Output: `<span style=\"color: #008080; text-decoration-color: #008080; font-weight: bold\">62</span>`\n",
       "</pre>\n"
      ],
      "text/plain": [
       "\u001b[31msplit_fn: no numbers found. Received:\u001b[0m `The clown has forty-seven + thirteen = sixty two balloons now. The answer: \n",
       "sixty two.`. Word2Num worked. Output: `\u001b[1;36m62\u001b[0m`\n"
      ]
     },
     "metadata": {},
     "output_type": "display_data"
    },
    {
     "data": {
      "text/html": [
       "<pre style=\"white-space:pre;overflow-x:auto;line-height:normal;font-family:Menlo,'DejaVu Sans Mono',consolas,'Courier New',monospace\"><span style=\"color: #000080; text-decoration-color: #000080; font-weight: bold\">text2digits</span>:\n",
       "         - <span style=\"color: #008000; text-decoration-color: #008000\">source:</span>    The clown blew up forty-seven + thirteen = sixty balloons now. So the answer is sixty.\n",
       "         - <span style=\"color: #008000; text-decoration-color: #008000\">converted:</span> The clown blew up <span style=\"color: #008080; text-decoration-color: #008080; font-weight: bold\">47</span> + <span style=\"color: #008080; text-decoration-color: #008080; font-weight: bold\">13</span> = <span style=\"color: #008080; text-decoration-color: #008080; font-weight: bold\">60</span> balloons now. So the answer is <span style=\"color: #008080; text-decoration-color: #008080; font-weight: bold\">60</span>\n",
       "         - <span style=\"color: #008000; text-decoration-color: #008000\">final:</span>     <span style=\"color: #008080; text-decoration-color: #008080; font-weight: bold\">60</span>\n",
       "</pre>\n"
      ],
      "text/plain": [
       "\u001b[1;34mtext2digits\u001b[0m:\n",
       "         - \u001b[32msource:\u001b[0m    The clown blew up forty-seven + thirteen = sixty balloons now. So the answer is sixty.\n",
       "         - \u001b[32mconverted:\u001b[0m The clown blew up \u001b[1;36m47\u001b[0m + \u001b[1;36m13\u001b[0m = \u001b[1;36m60\u001b[0m balloons now. So the answer is \u001b[1;36m60\u001b[0m\n",
       "         - \u001b[32mfinal:\u001b[0m     \u001b[1;36m60\u001b[0m\n"
      ]
     },
     "metadata": {},
     "output_type": "display_data"
    },
    {
     "data": {
      "text/html": [
       "<pre style=\"white-space:pre;overflow-x:auto;line-height:normal;font-family:Menlo,'DejaVu Sans Mono',consolas,'Courier New',monospace\"><span style=\"color: #800000; text-decoration-color: #800000\">split_fn: no numbers found. Received:</span> `The clown blew up forty-seven + thirteen = sixty balloons now. So the answer\n",
       "is sixty.`. Word2Num worked. Output: `<span style=\"color: #008080; text-decoration-color: #008080; font-weight: bold\">60</span>`\n",
       "</pre>\n"
      ],
      "text/plain": [
       "\u001b[31msplit_fn: no numbers found. Received:\u001b[0m `The clown blew up forty-seven + thirteen = sixty balloons now. So the answer\n",
       "is sixty.`. Word2Num worked. Output: `\u001b[1;36m60\u001b[0m`\n"
      ]
     },
     "metadata": {},
     "output_type": "display_data"
    },
    {
     "data": {
      "text/html": [
       "<pre style=\"white-space:pre;overflow-x:auto;line-height:normal;font-family:Menlo,'DejaVu Sans Mono',consolas,'Courier New',monospace\"><span style=\"color: #000080; text-decoration-color: #000080; font-weight: bold\">text2digits</span>:\n",
       "         - <span style=\"color: #008000; text-decoration-color: #008000\">source:</span>    The clown blew up forty-seven + thirteen = sixty balloons. So, the answer is sixty.\n",
       "         - <span style=\"color: #008000; text-decoration-color: #008000\">converted:</span> The clown blew up <span style=\"color: #008080; text-decoration-color: #008080; font-weight: bold\">47</span> + <span style=\"color: #008080; text-decoration-color: #008080; font-weight: bold\">13</span> = <span style=\"color: #008080; text-decoration-color: #008080; font-weight: bold\">60</span> balloons. So, the answer is <span style=\"color: #008080; text-decoration-color: #008080; font-weight: bold\">60</span>\n",
       "         - <span style=\"color: #008000; text-decoration-color: #008000\">final:</span>     <span style=\"color: #008080; text-decoration-color: #008080; font-weight: bold\">60</span>\n",
       "</pre>\n"
      ],
      "text/plain": [
       "\u001b[1;34mtext2digits\u001b[0m:\n",
       "         - \u001b[32msource:\u001b[0m    The clown blew up forty-seven + thirteen = sixty balloons. So, the answer is sixty.\n",
       "         - \u001b[32mconverted:\u001b[0m The clown blew up \u001b[1;36m47\u001b[0m + \u001b[1;36m13\u001b[0m = \u001b[1;36m60\u001b[0m balloons. So, the answer is \u001b[1;36m60\u001b[0m\n",
       "         - \u001b[32mfinal:\u001b[0m     \u001b[1;36m60\u001b[0m\n"
      ]
     },
     "metadata": {},
     "output_type": "display_data"
    },
    {
     "data": {
      "text/html": [
       "<pre style=\"white-space:pre;overflow-x:auto;line-height:normal;font-family:Menlo,'DejaVu Sans Mono',consolas,'Courier New',monospace\"><span style=\"color: #800000; text-decoration-color: #800000\">split_fn: no numbers found. Received:</span> `The clown blew up forty-seven + thirteen = sixty balloons. So, the answer is\n",
       "sixty.`. Word2Num worked. Output: `<span style=\"color: #008080; text-decoration-color: #008080; font-weight: bold\">60</span>`\n",
       "</pre>\n"
      ],
      "text/plain": [
       "\u001b[31msplit_fn: no numbers found. Received:\u001b[0m `The clown blew up forty-seven + thirteen = sixty balloons. So, the answer is\n",
       "sixty.`. Word2Num worked. Output: `\u001b[1;36m60\u001b[0m`\n"
      ]
     },
     "metadata": {},
     "output_type": "display_data"
    },
    {
     "name": "stderr",
     "output_type": "stream",
     "text": [
      "Accuracy: 38.3%:  75%|███████▍  | 1512/2023 [46:26<14:37,  1.72s/it]"
     ]
    },
    {
     "data": {
      "text/html": [
       "<pre style=\"white-space:pre;overflow-x:auto;line-height:normal;font-family:Menlo,'DejaVu Sans Mono',consolas,'Courier New',monospace\"><span style=\"color: #000080; text-decoration-color: #000080; font-weight: bold\">text2digits</span>:\n",
       "         - <span style=\"color: #008000; text-decoration-color: #008000\">source:</span>    If the farmer had ninety-seven tomatoes and picked eighty - three of them, how many did he \n",
       "have left? The answer: seven.\n",
       "         - <span style=\"color: #008000; text-decoration-color: #008000\">converted:</span> If the farmer had <span style=\"color: #008080; text-decoration-color: #008080; font-weight: bold\">97</span> tomatoes and picked <span style=\"color: #008080; text-decoration-color: #008080; font-weight: bold\">80</span> - <span style=\"color: #008080; text-decoration-color: #008080; font-weight: bold\">3</span> of them, how many did he have left? The \n",
       "answer: <span style=\"color: #008080; text-decoration-color: #008080; font-weight: bold\">7</span>\n",
       "         - <span style=\"color: #008000; text-decoration-color: #008000\">final:</span>     <span style=\"color: #008080; text-decoration-color: #008080; font-weight: bold\">7</span>\n",
       "</pre>\n"
      ],
      "text/plain": [
       "\u001b[1;34mtext2digits\u001b[0m:\n",
       "         - \u001b[32msource:\u001b[0m    If the farmer had ninety-seven tomatoes and picked eighty - three of them, how many did he \n",
       "have left? The answer: seven.\n",
       "         - \u001b[32mconverted:\u001b[0m If the farmer had \u001b[1;36m97\u001b[0m tomatoes and picked \u001b[1;36m80\u001b[0m - \u001b[1;36m3\u001b[0m of them, how many did he have left? The \n",
       "answer: \u001b[1;36m7\u001b[0m\n",
       "         - \u001b[32mfinal:\u001b[0m     \u001b[1;36m7\u001b[0m\n"
      ]
     },
     "metadata": {},
     "output_type": "display_data"
    },
    {
     "data": {
      "text/html": [
       "<pre style=\"white-space:pre;overflow-x:auto;line-height:normal;font-family:Menlo,'DejaVu Sans Mono',consolas,'Courier New',monospace\"><span style=\"color: #800000; text-decoration-color: #800000\">split_fn: no numbers found. Received:</span> `If the farmer had ninety-seven tomatoes and picked eighty - three of them, \n",
       "how many did he have left? The answer: seven.`. Word2Num worked. Output: `<span style=\"color: #008080; text-decoration-color: #008080; font-weight: bold\">7</span>`\n",
       "</pre>\n"
      ],
      "text/plain": [
       "\u001b[31msplit_fn: no numbers found. Received:\u001b[0m `If the farmer had ninety-seven tomatoes and picked eighty - three of them, \n",
       "how many did he have left? The answer: seven.`. Word2Num worked. Output: `\u001b[1;36m7\u001b[0m`\n"
      ]
     },
     "metadata": {},
     "output_type": "display_data"
    },
    {
     "data": {
      "text/html": [
       "<pre style=\"white-space:pre;overflow-x:auto;line-height:normal;font-family:Menlo,'DejaVu Sans Mono',consolas,'Courier New',monospace\"><span style=\"color: #000080; text-decoration-color: #000080; font-weight: bold\">text2digits</span>:\n",
       "         - <span style=\"color: #008000; text-decoration-color: #008000\">source:</span>    If the farmer had ninety-seven tomatoes and picked eighty - three of them, how many would be \n",
       "left? The answer: seven.\n",
       "         - <span style=\"color: #008000; text-decoration-color: #008000\">converted:</span> If the farmer had <span style=\"color: #008080; text-decoration-color: #008080; font-weight: bold\">97</span> tomatoes and picked <span style=\"color: #008080; text-decoration-color: #008080; font-weight: bold\">80</span> - <span style=\"color: #008080; text-decoration-color: #008080; font-weight: bold\">3</span> of them, how many would be left? The answer: \n",
       "<span style=\"color: #008080; text-decoration-color: #008080; font-weight: bold\">7</span>\n",
       "         - <span style=\"color: #008000; text-decoration-color: #008000\">final:</span>     <span style=\"color: #008080; text-decoration-color: #008080; font-weight: bold\">7</span>\n",
       "</pre>\n"
      ],
      "text/plain": [
       "\u001b[1;34mtext2digits\u001b[0m:\n",
       "         - \u001b[32msource:\u001b[0m    If the farmer had ninety-seven tomatoes and picked eighty - three of them, how many would be \n",
       "left? The answer: seven.\n",
       "         - \u001b[32mconverted:\u001b[0m If the farmer had \u001b[1;36m97\u001b[0m tomatoes and picked \u001b[1;36m80\u001b[0m - \u001b[1;36m3\u001b[0m of them, how many would be left? The answer: \n",
       "\u001b[1;36m7\u001b[0m\n",
       "         - \u001b[32mfinal:\u001b[0m     \u001b[1;36m7\u001b[0m\n"
      ]
     },
     "metadata": {},
     "output_type": "display_data"
    },
    {
     "data": {
      "text/html": [
       "<pre style=\"white-space:pre;overflow-x:auto;line-height:normal;font-family:Menlo,'DejaVu Sans Mono',consolas,'Courier New',monospace\"><span style=\"color: #800000; text-decoration-color: #800000\">split_fn: no numbers found. Received:</span> `If the farmer had ninety-seven tomatoes and picked eighty - three of them, \n",
       "how many would be left? The answer: seven.`. Word2Num worked. Output: `<span style=\"color: #008080; text-decoration-color: #008080; font-weight: bold\">7</span>`\n",
       "</pre>\n"
      ],
      "text/plain": [
       "\u001b[31msplit_fn: no numbers found. Received:\u001b[0m `If the farmer had ninety-seven tomatoes and picked eighty - three of them, \n",
       "how many would be left? The answer: seven.`. Word2Num worked. Output: `\u001b[1;36m7\u001b[0m`\n"
      ]
     },
     "metadata": {},
     "output_type": "display_data"
    },
    {
     "data": {
      "text/html": [
       "<pre style=\"white-space:pre;overflow-x:auto;line-height:normal;font-family:Menlo,'DejaVu Sans Mono',consolas,'Courier New',monospace\"><span style=\"color: #000080; text-decoration-color: #000080; font-weight: bold\">text2digits</span>:\n",
       "         - <span style=\"color: #008000; text-decoration-color: #008000\">source:</span>    If the farmer had ninety-seven tomatoes and picked eighty - three of them, how many did he \n",
       "have left? The answer: seven.\n",
       "         - <span style=\"color: #008000; text-decoration-color: #008000\">converted:</span> If the farmer had <span style=\"color: #008080; text-decoration-color: #008080; font-weight: bold\">97</span> tomatoes and picked <span style=\"color: #008080; text-decoration-color: #008080; font-weight: bold\">80</span> - <span style=\"color: #008080; text-decoration-color: #008080; font-weight: bold\">3</span> of them, how many did he have left? The \n",
       "answer: <span style=\"color: #008080; text-decoration-color: #008080; font-weight: bold\">7</span>\n",
       "         - <span style=\"color: #008000; text-decoration-color: #008000\">final:</span>     <span style=\"color: #008080; text-decoration-color: #008080; font-weight: bold\">7</span>\n",
       "</pre>\n"
      ],
      "text/plain": [
       "\u001b[1;34mtext2digits\u001b[0m:\n",
       "         - \u001b[32msource:\u001b[0m    If the farmer had ninety-seven tomatoes and picked eighty - three of them, how many did he \n",
       "have left? The answer: seven.\n",
       "         - \u001b[32mconverted:\u001b[0m If the farmer had \u001b[1;36m97\u001b[0m tomatoes and picked \u001b[1;36m80\u001b[0m - \u001b[1;36m3\u001b[0m of them, how many did he have left? The \n",
       "answer: \u001b[1;36m7\u001b[0m\n",
       "         - \u001b[32mfinal:\u001b[0m     \u001b[1;36m7\u001b[0m\n"
      ]
     },
     "metadata": {},
     "output_type": "display_data"
    },
    {
     "data": {
      "text/html": [
       "<pre style=\"white-space:pre;overflow-x:auto;line-height:normal;font-family:Menlo,'DejaVu Sans Mono',consolas,'Courier New',monospace\"><span style=\"color: #800000; text-decoration-color: #800000\">split_fn: no numbers found. Received:</span> `If the farmer had ninety-seven tomatoes and picked eighty - three of them, \n",
       "how many did he have left? The answer: seven.`. Word2Num worked. Output: `<span style=\"color: #008080; text-decoration-color: #008080; font-weight: bold\">7</span>`\n",
       "</pre>\n"
      ],
      "text/plain": [
       "\u001b[31msplit_fn: no numbers found. Received:\u001b[0m `If the farmer had ninety-seven tomatoes and picked eighty - three of them, \n",
       "how many did he have left? The answer: seven.`. Word2Num worked. Output: `\u001b[1;36m7\u001b[0m`\n"
      ]
     },
     "metadata": {},
     "output_type": "display_data"
    },
    {
     "data": {
      "text/html": [
       "<pre style=\"white-space:pre;overflow-x:auto;line-height:normal;font-family:Menlo,'DejaVu Sans Mono',consolas,'Courier New',monospace\"><span style=\"color: #000080; text-decoration-color: #000080; font-weight: bold\">text2digits</span>:\n",
       "         - <span style=\"color: #008000; text-decoration-color: #008000\">source:</span>    If the farmer had ninety-seven tomatoes and picked eighty - three of them, how many would be \n",
       "left? The answer: seven.\n",
       "         - <span style=\"color: #008000; text-decoration-color: #008000\">converted:</span> If the farmer had <span style=\"color: #008080; text-decoration-color: #008080; font-weight: bold\">97</span> tomatoes and picked <span style=\"color: #008080; text-decoration-color: #008080; font-weight: bold\">80</span> - <span style=\"color: #008080; text-decoration-color: #008080; font-weight: bold\">3</span> of them, how many would be left? The answer: \n",
       "<span style=\"color: #008080; text-decoration-color: #008080; font-weight: bold\">7</span>\n",
       "         - <span style=\"color: #008000; text-decoration-color: #008000\">final:</span>     <span style=\"color: #008080; text-decoration-color: #008080; font-weight: bold\">7</span>\n",
       "</pre>\n"
      ],
      "text/plain": [
       "\u001b[1;34mtext2digits\u001b[0m:\n",
       "         - \u001b[32msource:\u001b[0m    If the farmer had ninety-seven tomatoes and picked eighty - three of them, how many would be \n",
       "left? The answer: seven.\n",
       "         - \u001b[32mconverted:\u001b[0m If the farmer had \u001b[1;36m97\u001b[0m tomatoes and picked \u001b[1;36m80\u001b[0m - \u001b[1;36m3\u001b[0m of them, how many would be left? The answer: \n",
       "\u001b[1;36m7\u001b[0m\n",
       "         - \u001b[32mfinal:\u001b[0m     \u001b[1;36m7\u001b[0m\n"
      ]
     },
     "metadata": {},
     "output_type": "display_data"
    },
    {
     "data": {
      "text/html": [
       "<pre style=\"white-space:pre;overflow-x:auto;line-height:normal;font-family:Menlo,'DejaVu Sans Mono',consolas,'Courier New',monospace\"><span style=\"color: #800000; text-decoration-color: #800000\">split_fn: no numbers found. Received:</span> `If the farmer had ninety-seven tomatoes and picked eighty - three of them, \n",
       "how many would be left? The answer: seven.`. Word2Num worked. Output: `<span style=\"color: #008080; text-decoration-color: #008080; font-weight: bold\">7</span>`\n",
       "</pre>\n"
      ],
      "text/plain": [
       "\u001b[31msplit_fn: no numbers found. Received:\u001b[0m `If the farmer had ninety-seven tomatoes and picked eighty - three of them, \n",
       "how many would be left? The answer: seven.`. Word2Num worked. Output: `\u001b[1;36m7\u001b[0m`\n"
      ]
     },
     "metadata": {},
     "output_type": "display_data"
    },
    {
     "name": "stderr",
     "output_type": "stream",
     "text": [
      "Accuracy: 38.4%:  76%|███████▌  | 1533/2023 [47:00<12:23,  1.52s/it]"
     ]
    },
    {
     "data": {
      "text/html": [
       "<pre style=\"white-space:pre;overflow-x:auto;line-height:normal;font-family:Menlo,'DejaVu Sans Mono',consolas,'Courier New',monospace\"><span style=\"color: #000080; text-decoration-color: #000080; font-weight: bold\">text2digits</span>:\n",
       "         - <span style=\"color: #008000; text-decoration-color: #008000\">source:</span>    Our class got fifty - four + twenty three = eighty books from the library. The answer: \n",
       "eighty.\n",
       "         - <span style=\"color: #008000; text-decoration-color: #008000\">converted:</span> Our class got <span style=\"color: #008080; text-decoration-color: #008080; font-weight: bold\">50</span> - <span style=\"color: #008080; text-decoration-color: #008080; font-weight: bold\">4</span> + <span style=\"color: #008080; text-decoration-color: #008080; font-weight: bold\">23</span> = <span style=\"color: #008080; text-decoration-color: #008080; font-weight: bold\">80</span> books from the library. The answer: <span style=\"color: #008080; text-decoration-color: #008080; font-weight: bold\">80</span>\n",
       "         - <span style=\"color: #008000; text-decoration-color: #008000\">final:</span>     <span style=\"color: #008080; text-decoration-color: #008080; font-weight: bold\">80</span>\n",
       "</pre>\n"
      ],
      "text/plain": [
       "\u001b[1;34mtext2digits\u001b[0m:\n",
       "         - \u001b[32msource:\u001b[0m    Our class got fifty - four + twenty three = eighty books from the library. The answer: \n",
       "eighty.\n",
       "         - \u001b[32mconverted:\u001b[0m Our class got \u001b[1;36m50\u001b[0m - \u001b[1;36m4\u001b[0m + \u001b[1;36m23\u001b[0m = \u001b[1;36m80\u001b[0m books from the library. The answer: \u001b[1;36m80\u001b[0m\n",
       "         - \u001b[32mfinal:\u001b[0m     \u001b[1;36m80\u001b[0m\n"
      ]
     },
     "metadata": {},
     "output_type": "display_data"
    },
    {
     "data": {
      "text/html": [
       "<pre style=\"white-space:pre;overflow-x:auto;line-height:normal;font-family:Menlo,'DejaVu Sans Mono',consolas,'Courier New',monospace\"><span style=\"color: #800000; text-decoration-color: #800000\">split_fn: no numbers found. Received:</span> `Our class got fifty - four + twenty three = eighty books from the library. \n",
       "The answer: eighty.`. Word2Num worked. Output: `<span style=\"color: #008080; text-decoration-color: #008080; font-weight: bold\">80</span>`\n",
       "</pre>\n"
      ],
      "text/plain": [
       "\u001b[31msplit_fn: no numbers found. Received:\u001b[0m `Our class got fifty - four + twenty three = eighty books from the library. \n",
       "The answer: eighty.`. Word2Num worked. Output: `\u001b[1;36m80\u001b[0m`\n"
      ]
     },
     "metadata": {},
     "output_type": "display_data"
    },
    {
     "data": {
      "text/html": [
       "<pre style=\"white-space:pre;overflow-x:auto;line-height:normal;font-family:Menlo,'DejaVu Sans Mono',consolas,'Courier New',monospace\"><span style=\"color: #000080; text-decoration-color: #000080; font-weight: bold\">text2digits</span>:\n",
       "         - <span style=\"color: #008000; text-decoration-color: #008000\">source:</span>    Our class got fifty-four + twenty-three = eighty books from the library. The answer: eighty.\n",
       "         - <span style=\"color: #008000; text-decoration-color: #008000\">converted:</span> Our class got <span style=\"color: #008080; text-decoration-color: #008080; font-weight: bold\">54</span> + <span style=\"color: #008080; text-decoration-color: #008080; font-weight: bold\">23</span> = <span style=\"color: #008080; text-decoration-color: #008080; font-weight: bold\">80</span> books from the library. The answer: <span style=\"color: #008080; text-decoration-color: #008080; font-weight: bold\">80</span>\n",
       "         - <span style=\"color: #008000; text-decoration-color: #008000\">final:</span>     <span style=\"color: #008080; text-decoration-color: #008080; font-weight: bold\">80</span>\n",
       "</pre>\n"
      ],
      "text/plain": [
       "\u001b[1;34mtext2digits\u001b[0m:\n",
       "         - \u001b[32msource:\u001b[0m    Our class got fifty-four + twenty-three = eighty books from the library. The answer: eighty.\n",
       "         - \u001b[32mconverted:\u001b[0m Our class got \u001b[1;36m54\u001b[0m + \u001b[1;36m23\u001b[0m = \u001b[1;36m80\u001b[0m books from the library. The answer: \u001b[1;36m80\u001b[0m\n",
       "         - \u001b[32mfinal:\u001b[0m     \u001b[1;36m80\u001b[0m\n"
      ]
     },
     "metadata": {},
     "output_type": "display_data"
    },
    {
     "data": {
      "text/html": [
       "<pre style=\"white-space:pre;overflow-x:auto;line-height:normal;font-family:Menlo,'DejaVu Sans Mono',consolas,'Courier New',monospace\"><span style=\"color: #800000; text-decoration-color: #800000\">split_fn: no numbers found. Received:</span> `Our class got fifty-four + twenty-three = eighty books from the library. The\n",
       "answer: eighty.`. Word2Num worked. Output: `<span style=\"color: #008080; text-decoration-color: #008080; font-weight: bold\">80</span>`\n",
       "</pre>\n"
      ],
      "text/plain": [
       "\u001b[31msplit_fn: no numbers found. Received:\u001b[0m `Our class got fifty-four + twenty-three = eighty books from the library. The\n",
       "answer: eighty.`. Word2Num worked. Output: `\u001b[1;36m80\u001b[0m`\n"
      ]
     },
     "metadata": {},
     "output_type": "display_data"
    },
    {
     "data": {
      "text/html": [
       "<pre style=\"white-space:pre;overflow-x:auto;line-height:normal;font-family:Menlo,'DejaVu Sans Mono',consolas,'Courier New',monospace\"><span style=\"color: #000080; text-decoration-color: #000080; font-weight: bold\">text2digits</span>:\n",
       "         - <span style=\"color: #008000; text-decoration-color: #008000\">source:</span>    Our class got fifty-four + twenty-three = eighty books from the library. So, the answer is \n",
       "eighty.\n",
       "         - <span style=\"color: #008000; text-decoration-color: #008000\">converted:</span> Our class got <span style=\"color: #008080; text-decoration-color: #008080; font-weight: bold\">54</span> + <span style=\"color: #008080; text-decoration-color: #008080; font-weight: bold\">23</span> = <span style=\"color: #008080; text-decoration-color: #008080; font-weight: bold\">80</span> books from the library. So, the answer is <span style=\"color: #008080; text-decoration-color: #008080; font-weight: bold\">80</span>\n",
       "         - <span style=\"color: #008000; text-decoration-color: #008000\">final:</span>     <span style=\"color: #008080; text-decoration-color: #008080; font-weight: bold\">80</span>\n",
       "</pre>\n"
      ],
      "text/plain": [
       "\u001b[1;34mtext2digits\u001b[0m:\n",
       "         - \u001b[32msource:\u001b[0m    Our class got fifty-four + twenty-three = eighty books from the library. So, the answer is \n",
       "eighty.\n",
       "         - \u001b[32mconverted:\u001b[0m Our class got \u001b[1;36m54\u001b[0m + \u001b[1;36m23\u001b[0m = \u001b[1;36m80\u001b[0m books from the library. So, the answer is \u001b[1;36m80\u001b[0m\n",
       "         - \u001b[32mfinal:\u001b[0m     \u001b[1;36m80\u001b[0m\n"
      ]
     },
     "metadata": {},
     "output_type": "display_data"
    },
    {
     "data": {
      "text/html": [
       "<pre style=\"white-space:pre;overflow-x:auto;line-height:normal;font-family:Menlo,'DejaVu Sans Mono',consolas,'Courier New',monospace\"><span style=\"color: #800000; text-decoration-color: #800000\">split_fn: no numbers found. Received:</span> `Our class got fifty-four + twenty-three = eighty books from the library. So,\n",
       "the answer is eighty.`. Word2Num worked. Output: `<span style=\"color: #008080; text-decoration-color: #008080; font-weight: bold\">80</span>`\n",
       "</pre>\n"
      ],
      "text/plain": [
       "\u001b[31msplit_fn: no numbers found. Received:\u001b[0m `Our class got fifty-four + twenty-three = eighty books from the library. So,\n",
       "the answer is eighty.`. Word2Num worked. Output: `\u001b[1;36m80\u001b[0m`\n"
      ]
     },
     "metadata": {},
     "output_type": "display_data"
    },
    {
     "data": {
      "text/html": [
       "<pre style=\"white-space:pre;overflow-x:auto;line-height:normal;font-family:Menlo,'DejaVu Sans Mono',consolas,'Courier New',monospace\"><span style=\"color: #000080; text-decoration-color: #000080; font-weight: bold\">text2digits</span>:\n",
       "         - <span style=\"color: #008000; text-decoration-color: #008000\">source:</span>    Our class got fifty - four + twenty three = eighty books from the library. The answer: \n",
       "eighty.\n",
       "         - <span style=\"color: #008000; text-decoration-color: #008000\">converted:</span> Our class got <span style=\"color: #008080; text-decoration-color: #008080; font-weight: bold\">50</span> - <span style=\"color: #008080; text-decoration-color: #008080; font-weight: bold\">4</span> + <span style=\"color: #008080; text-decoration-color: #008080; font-weight: bold\">23</span> = <span style=\"color: #008080; text-decoration-color: #008080; font-weight: bold\">80</span> books from the library. The answer: <span style=\"color: #008080; text-decoration-color: #008080; font-weight: bold\">80</span>\n",
       "         - <span style=\"color: #008000; text-decoration-color: #008000\">final:</span>     <span style=\"color: #008080; text-decoration-color: #008080; font-weight: bold\">80</span>\n",
       "</pre>\n"
      ],
      "text/plain": [
       "\u001b[1;34mtext2digits\u001b[0m:\n",
       "         - \u001b[32msource:\u001b[0m    Our class got fifty - four + twenty three = eighty books from the library. The answer: \n",
       "eighty.\n",
       "         - \u001b[32mconverted:\u001b[0m Our class got \u001b[1;36m50\u001b[0m - \u001b[1;36m4\u001b[0m + \u001b[1;36m23\u001b[0m = \u001b[1;36m80\u001b[0m books from the library. The answer: \u001b[1;36m80\u001b[0m\n",
       "         - \u001b[32mfinal:\u001b[0m     \u001b[1;36m80\u001b[0m\n"
      ]
     },
     "metadata": {},
     "output_type": "display_data"
    },
    {
     "data": {
      "text/html": [
       "<pre style=\"white-space:pre;overflow-x:auto;line-height:normal;font-family:Menlo,'DejaVu Sans Mono',consolas,'Courier New',monospace\"><span style=\"color: #800000; text-decoration-color: #800000\">split_fn: no numbers found. Received:</span> `Our class got fifty - four + twenty three = eighty books from the library. \n",
       "The answer: eighty.`. Word2Num worked. Output: `<span style=\"color: #008080; text-decoration-color: #008080; font-weight: bold\">80</span>`\n",
       "</pre>\n"
      ],
      "text/plain": [
       "\u001b[31msplit_fn: no numbers found. Received:\u001b[0m `Our class got fifty - four + twenty three = eighty books from the library. \n",
       "The answer: eighty.`. Word2Num worked. Output: `\u001b[1;36m80\u001b[0m`\n"
      ]
     },
     "metadata": {},
     "output_type": "display_data"
    },
    {
     "data": {
      "text/html": [
       "<pre style=\"white-space:pre;overflow-x:auto;line-height:normal;font-family:Menlo,'DejaVu Sans Mono',consolas,'Courier New',monospace\"><span style=\"color: #000080; text-decoration-color: #000080; font-weight: bold\">text2digits</span>:\n",
       "         - <span style=\"color: #008000; text-decoration-color: #008000\">source:</span>    Our class got fifty-four + twenty-three = eighty books from the library. The answer: eighty.\n",
       "         - <span style=\"color: #008000; text-decoration-color: #008000\">converted:</span> Our class got <span style=\"color: #008080; text-decoration-color: #008080; font-weight: bold\">54</span> + <span style=\"color: #008080; text-decoration-color: #008080; font-weight: bold\">23</span> = <span style=\"color: #008080; text-decoration-color: #008080; font-weight: bold\">80</span> books from the library. The answer: <span style=\"color: #008080; text-decoration-color: #008080; font-weight: bold\">80</span>\n",
       "         - <span style=\"color: #008000; text-decoration-color: #008000\">final:</span>     <span style=\"color: #008080; text-decoration-color: #008080; font-weight: bold\">80</span>\n",
       "</pre>\n"
      ],
      "text/plain": [
       "\u001b[1;34mtext2digits\u001b[0m:\n",
       "         - \u001b[32msource:\u001b[0m    Our class got fifty-four + twenty-three = eighty books from the library. The answer: eighty.\n",
       "         - \u001b[32mconverted:\u001b[0m Our class got \u001b[1;36m54\u001b[0m + \u001b[1;36m23\u001b[0m = \u001b[1;36m80\u001b[0m books from the library. The answer: \u001b[1;36m80\u001b[0m\n",
       "         - \u001b[32mfinal:\u001b[0m     \u001b[1;36m80\u001b[0m\n"
      ]
     },
     "metadata": {},
     "output_type": "display_data"
    },
    {
     "data": {
      "text/html": [
       "<pre style=\"white-space:pre;overflow-x:auto;line-height:normal;font-family:Menlo,'DejaVu Sans Mono',consolas,'Courier New',monospace\"><span style=\"color: #800000; text-decoration-color: #800000\">split_fn: no numbers found. Received:</span> `Our class got fifty-four + twenty-three = eighty books from the library. The\n",
       "answer: eighty.`. Word2Num worked. Output: `<span style=\"color: #008080; text-decoration-color: #008080; font-weight: bold\">80</span>`\n",
       "</pre>\n"
      ],
      "text/plain": [
       "\u001b[31msplit_fn: no numbers found. Received:\u001b[0m `Our class got fifty-four + twenty-three = eighty books from the library. The\n",
       "answer: eighty.`. Word2Num worked. Output: `\u001b[1;36m80\u001b[0m`\n"
      ]
     },
     "metadata": {},
     "output_type": "display_data"
    },
    {
     "data": {
      "text/html": [
       "<pre style=\"white-space:pre;overflow-x:auto;line-height:normal;font-family:Menlo,'DejaVu Sans Mono',consolas,'Courier New',monospace\"><span style=\"color: #000080; text-decoration-color: #000080; font-weight: bold\">text2digits</span>:\n",
       "         - <span style=\"color: #008000; text-decoration-color: #008000\">source:</span>    Our class got fifty-four + twenty-three = eighty books from the library. So, the answer is \n",
       "eighty.\n",
       "         - <span style=\"color: #008000; text-decoration-color: #008000\">converted:</span> Our class got <span style=\"color: #008080; text-decoration-color: #008080; font-weight: bold\">54</span> + <span style=\"color: #008080; text-decoration-color: #008080; font-weight: bold\">23</span> = <span style=\"color: #008080; text-decoration-color: #008080; font-weight: bold\">80</span> books from the library. So, the answer is <span style=\"color: #008080; text-decoration-color: #008080; font-weight: bold\">80</span>\n",
       "         - <span style=\"color: #008000; text-decoration-color: #008000\">final:</span>     <span style=\"color: #008080; text-decoration-color: #008080; font-weight: bold\">80</span>\n",
       "</pre>\n"
      ],
      "text/plain": [
       "\u001b[1;34mtext2digits\u001b[0m:\n",
       "         - \u001b[32msource:\u001b[0m    Our class got fifty-four + twenty-three = eighty books from the library. So, the answer is \n",
       "eighty.\n",
       "         - \u001b[32mconverted:\u001b[0m Our class got \u001b[1;36m54\u001b[0m + \u001b[1;36m23\u001b[0m = \u001b[1;36m80\u001b[0m books from the library. So, the answer is \u001b[1;36m80\u001b[0m\n",
       "         - \u001b[32mfinal:\u001b[0m     \u001b[1;36m80\u001b[0m\n"
      ]
     },
     "metadata": {},
     "output_type": "display_data"
    },
    {
     "data": {
      "text/html": [
       "<pre style=\"white-space:pre;overflow-x:auto;line-height:normal;font-family:Menlo,'DejaVu Sans Mono',consolas,'Courier New',monospace\"><span style=\"color: #800000; text-decoration-color: #800000\">split_fn: no numbers found. Received:</span> `Our class got fifty-four + twenty-three = eighty books from the library. So,\n",
       "the answer is eighty.`. Word2Num worked. Output: `<span style=\"color: #008080; text-decoration-color: #008080; font-weight: bold\">80</span>`\n",
       "</pre>\n"
      ],
      "text/plain": [
       "\u001b[31msplit_fn: no numbers found. Received:\u001b[0m `Our class got fifty-four + twenty-three = eighty books from the library. So,\n",
       "the answer is eighty.`. Word2Num worked. Output: `\u001b[1;36m80\u001b[0m`\n"
      ]
     },
     "metadata": {},
     "output_type": "display_data"
    },
    {
     "name": "stderr",
     "output_type": "stream",
     "text": [
      "Accuracy: 38.7%:  82%|████████▏ | 1651/2023 [50:25<08:17,  1.34s/it]"
     ]
    },
    {
     "data": {
      "text/html": [
       "<pre style=\"white-space:pre;overflow-x:auto;line-height:normal;font-family:Menlo,'DejaVu Sans Mono',consolas,'Courier New',monospace\"><span style=\"color: #000080; text-decoration-color: #000080; font-weight: bold\">text2digits</span>:\n",
       "         - <span style=\"color: #008000; text-decoration-color: #008000\">source:</span>    Isabel had sixty - one pieces left after giving her friend candy, so she started with sixty +\n",
       "twenty seven = ninety two pieces of candy. The answer: ninety two.\n",
       "         - <span style=\"color: #008000; text-decoration-color: #008000\">converted:</span> Isabel had <span style=\"color: #008080; text-decoration-color: #008080; font-weight: bold\">60</span> - <span style=\"color: #008080; text-decoration-color: #008080; font-weight: bold\">1</span> pieces left after giving her friend candy, so she started with <span style=\"color: #008080; text-decoration-color: #008080; font-weight: bold\">60</span> + <span style=\"color: #008080; text-decoration-color: #008080; font-weight: bold\">27</span> = <span style=\"color: #008080; text-decoration-color: #008080; font-weight: bold\">92</span>\n",
       "pieces of candy. The answer: <span style=\"color: #008080; text-decoration-color: #008080; font-weight: bold\">92</span>\n",
       "         - <span style=\"color: #008000; text-decoration-color: #008000\">final:</span>     <span style=\"color: #008080; text-decoration-color: #008080; font-weight: bold\">92</span>\n",
       "</pre>\n"
      ],
      "text/plain": [
       "\u001b[1;34mtext2digits\u001b[0m:\n",
       "         - \u001b[32msource:\u001b[0m    Isabel had sixty - one pieces left after giving her friend candy, so she started with sixty +\n",
       "twenty seven = ninety two pieces of candy. The answer: ninety two.\n",
       "         - \u001b[32mconverted:\u001b[0m Isabel had \u001b[1;36m60\u001b[0m - \u001b[1;36m1\u001b[0m pieces left after giving her friend candy, so she started with \u001b[1;36m60\u001b[0m + \u001b[1;36m27\u001b[0m = \u001b[1;36m92\u001b[0m\n",
       "pieces of candy. The answer: \u001b[1;36m92\u001b[0m\n",
       "         - \u001b[32mfinal:\u001b[0m     \u001b[1;36m92\u001b[0m\n"
      ]
     },
     "metadata": {},
     "output_type": "display_data"
    },
    {
     "data": {
      "text/html": [
       "<pre style=\"white-space:pre;overflow-x:auto;line-height:normal;font-family:Menlo,'DejaVu Sans Mono',consolas,'Courier New',monospace\"><span style=\"color: #800000; text-decoration-color: #800000\">split_fn: no numbers found. Received:</span> `Isabel had sixty - one pieces left after giving her friend candy, so she \n",
       "started with sixty + twenty seven = ninety two pieces of candy. The answer: ninety two.`. Word2Num worked. Output: \n",
       "`<span style=\"color: #008080; text-decoration-color: #008080; font-weight: bold\">92</span>`\n",
       "</pre>\n"
      ],
      "text/plain": [
       "\u001b[31msplit_fn: no numbers found. Received:\u001b[0m `Isabel had sixty - one pieces left after giving her friend candy, so she \n",
       "started with sixty + twenty seven = ninety two pieces of candy. The answer: ninety two.`. Word2Num worked. Output: \n",
       "`\u001b[1;36m92\u001b[0m`\n"
      ]
     },
     "metadata": {},
     "output_type": "display_data"
    },
    {
     "data": {
      "text/html": [
       "<pre style=\"white-space:pre;overflow-x:auto;line-height:normal;font-family:Menlo,'DejaVu Sans Mono',consolas,'Courier New',monospace\"><span style=\"color: #000080; text-decoration-color: #000080; font-weight: bold\">text2digits</span>:\n",
       "         - <span style=\"color: #008000; text-decoration-color: #008000\">source:</span>    Isabel had sixty - one pieces left after giving her friend candy, so she started with sixty +\n",
       "twenty seven = ninety two pieces. The answer: ninety two.\n",
       "         - <span style=\"color: #008000; text-decoration-color: #008000\">converted:</span> Isabel had <span style=\"color: #008080; text-decoration-color: #008080; font-weight: bold\">60</span> - <span style=\"color: #008080; text-decoration-color: #008080; font-weight: bold\">1</span> pieces left after giving her friend candy, so she started with <span style=\"color: #008080; text-decoration-color: #008080; font-weight: bold\">60</span> + <span style=\"color: #008080; text-decoration-color: #008080; font-weight: bold\">27</span> = <span style=\"color: #008080; text-decoration-color: #008080; font-weight: bold\">92</span>\n",
       "pieces. The answer: <span style=\"color: #008080; text-decoration-color: #008080; font-weight: bold\">92</span>\n",
       "         - <span style=\"color: #008000; text-decoration-color: #008000\">final:</span>     <span style=\"color: #008080; text-decoration-color: #008080; font-weight: bold\">92</span>\n",
       "</pre>\n"
      ],
      "text/plain": [
       "\u001b[1;34mtext2digits\u001b[0m:\n",
       "         - \u001b[32msource:\u001b[0m    Isabel had sixty - one pieces left after giving her friend candy, so she started with sixty +\n",
       "twenty seven = ninety two pieces. The answer: ninety two.\n",
       "         - \u001b[32mconverted:\u001b[0m Isabel had \u001b[1;36m60\u001b[0m - \u001b[1;36m1\u001b[0m pieces left after giving her friend candy, so she started with \u001b[1;36m60\u001b[0m + \u001b[1;36m27\u001b[0m = \u001b[1;36m92\u001b[0m\n",
       "pieces. The answer: \u001b[1;36m92\u001b[0m\n",
       "         - \u001b[32mfinal:\u001b[0m     \u001b[1;36m92\u001b[0m\n"
      ]
     },
     "metadata": {},
     "output_type": "display_data"
    },
    {
     "data": {
      "text/html": [
       "<pre style=\"white-space:pre;overflow-x:auto;line-height:normal;font-family:Menlo,'DejaVu Sans Mono',consolas,'Courier New',monospace\"><span style=\"color: #800000; text-decoration-color: #800000\">split_fn: no numbers found. Received:</span> `Isabel had sixty - one pieces left after giving her friend candy, so she \n",
       "started with sixty + twenty seven = ninety two pieces. The answer: ninety two.`. Word2Num worked. Output: `<span style=\"color: #008080; text-decoration-color: #008080; font-weight: bold\">92</span>`\n",
       "</pre>\n"
      ],
      "text/plain": [
       "\u001b[31msplit_fn: no numbers found. Received:\u001b[0m `Isabel had sixty - one pieces left after giving her friend candy, so she \n",
       "started with sixty + twenty seven = ninety two pieces. The answer: ninety two.`. Word2Num worked. Output: `\u001b[1;36m92\u001b[0m`\n"
      ]
     },
     "metadata": {},
     "output_type": "display_data"
    },
    {
     "data": {
      "text/html": [
       "<pre style=\"white-space:pre;overflow-x:auto;line-height:normal;font-family:Menlo,'DejaVu Sans Mono',consolas,'Courier New',monospace\"><span style=\"color: #000080; text-decoration-color: #000080; font-weight: bold\">text2digits</span>:\n",
       "         - <span style=\"color: #008000; text-decoration-color: #008000\">source:</span>    Isabel had sixty - one pieces left after giving her friend candy, so she started with sixty +\n",
       "twenty seven = ninety eight pieces of candy. The answer: ninety eight.\n",
       "         - <span style=\"color: #008000; text-decoration-color: #008000\">converted:</span> Isabel had <span style=\"color: #008080; text-decoration-color: #008080; font-weight: bold\">60</span> - <span style=\"color: #008080; text-decoration-color: #008080; font-weight: bold\">1</span> pieces left after giving her friend candy, so she started with <span style=\"color: #008080; text-decoration-color: #008080; font-weight: bold\">60</span> + <span style=\"color: #008080; text-decoration-color: #008080; font-weight: bold\">27</span> = <span style=\"color: #008080; text-decoration-color: #008080; font-weight: bold\">98</span>\n",
       "pieces of candy. The answer: <span style=\"color: #008080; text-decoration-color: #008080; font-weight: bold\">98</span>\n",
       "         - <span style=\"color: #008000; text-decoration-color: #008000\">final:</span>     <span style=\"color: #008080; text-decoration-color: #008080; font-weight: bold\">98</span>\n",
       "</pre>\n"
      ],
      "text/plain": [
       "\u001b[1;34mtext2digits\u001b[0m:\n",
       "         - \u001b[32msource:\u001b[0m    Isabel had sixty - one pieces left after giving her friend candy, so she started with sixty +\n",
       "twenty seven = ninety eight pieces of candy. The answer: ninety eight.\n",
       "         - \u001b[32mconverted:\u001b[0m Isabel had \u001b[1;36m60\u001b[0m - \u001b[1;36m1\u001b[0m pieces left after giving her friend candy, so she started with \u001b[1;36m60\u001b[0m + \u001b[1;36m27\u001b[0m = \u001b[1;36m98\u001b[0m\n",
       "pieces of candy. The answer: \u001b[1;36m98\u001b[0m\n",
       "         - \u001b[32mfinal:\u001b[0m     \u001b[1;36m98\u001b[0m\n"
      ]
     },
     "metadata": {},
     "output_type": "display_data"
    },
    {
     "data": {
      "text/html": [
       "<pre style=\"white-space:pre;overflow-x:auto;line-height:normal;font-family:Menlo,'DejaVu Sans Mono',consolas,'Courier New',monospace\"><span style=\"color: #800000; text-decoration-color: #800000\">split_fn: no numbers found. Received:</span> `Isabel had sixty - one pieces left after giving her friend candy, so she \n",
       "started with sixty + twenty seven = ninety eight pieces of candy. The answer: ninety eight.`. Word2Num worked. \n",
       "Output: `<span style=\"color: #008080; text-decoration-color: #008080; font-weight: bold\">98</span>`\n",
       "</pre>\n"
      ],
      "text/plain": [
       "\u001b[31msplit_fn: no numbers found. Received:\u001b[0m `Isabel had sixty - one pieces left after giving her friend candy, so she \n",
       "started with sixty + twenty seven = ninety eight pieces of candy. The answer: ninety eight.`. Word2Num worked. \n",
       "Output: `\u001b[1;36m98\u001b[0m`\n"
      ]
     },
     "metadata": {},
     "output_type": "display_data"
    },
    {
     "data": {
      "text/html": [
       "<pre style=\"white-space:pre;overflow-x:auto;line-height:normal;font-family:Menlo,'DejaVu Sans Mono',consolas,'Courier New',monospace\"><span style=\"color: #000080; text-decoration-color: #000080; font-weight: bold\">text2digits</span>:\n",
       "         - <span style=\"color: #008000; text-decoration-color: #008000\">source:</span>    Isabel had sixty - one pieces left after giving her friend candy, so she started with sixty +\n",
       "twenty seven = ninety eight pieces. The answer: ninety eight.\n",
       "         - <span style=\"color: #008000; text-decoration-color: #008000\">converted:</span> Isabel had <span style=\"color: #008080; text-decoration-color: #008080; font-weight: bold\">60</span> - <span style=\"color: #008080; text-decoration-color: #008080; font-weight: bold\">1</span> pieces left after giving her friend candy, so she started with <span style=\"color: #008080; text-decoration-color: #008080; font-weight: bold\">60</span> + <span style=\"color: #008080; text-decoration-color: #008080; font-weight: bold\">27</span> = <span style=\"color: #008080; text-decoration-color: #008080; font-weight: bold\">98</span>\n",
       "pieces. The answer: <span style=\"color: #008080; text-decoration-color: #008080; font-weight: bold\">98</span>\n",
       "         - <span style=\"color: #008000; text-decoration-color: #008000\">final:</span>     <span style=\"color: #008080; text-decoration-color: #008080; font-weight: bold\">98</span>\n",
       "</pre>\n"
      ],
      "text/plain": [
       "\u001b[1;34mtext2digits\u001b[0m:\n",
       "         - \u001b[32msource:\u001b[0m    Isabel had sixty - one pieces left after giving her friend candy, so she started with sixty +\n",
       "twenty seven = ninety eight pieces. The answer: ninety eight.\n",
       "         - \u001b[32mconverted:\u001b[0m Isabel had \u001b[1;36m60\u001b[0m - \u001b[1;36m1\u001b[0m pieces left after giving her friend candy, so she started with \u001b[1;36m60\u001b[0m + \u001b[1;36m27\u001b[0m = \u001b[1;36m98\u001b[0m\n",
       "pieces. The answer: \u001b[1;36m98\u001b[0m\n",
       "         - \u001b[32mfinal:\u001b[0m     \u001b[1;36m98\u001b[0m\n"
      ]
     },
     "metadata": {},
     "output_type": "display_data"
    },
    {
     "data": {
      "text/html": [
       "<pre style=\"white-space:pre;overflow-x:auto;line-height:normal;font-family:Menlo,'DejaVu Sans Mono',consolas,'Courier New',monospace\"><span style=\"color: #800000; text-decoration-color: #800000\">split_fn: no numbers found. Received:</span> `Isabel had sixty - one pieces left after giving her friend candy, so she \n",
       "started with sixty + twenty seven = ninety eight pieces. The answer: ninety eight.`. Word2Num worked. Output: `<span style=\"color: #008080; text-decoration-color: #008080; font-weight: bold\">98</span>`\n",
       "</pre>\n"
      ],
      "text/plain": [
       "\u001b[31msplit_fn: no numbers found. Received:\u001b[0m `Isabel had sixty - one pieces left after giving her friend candy, so she \n",
       "started with sixty + twenty seven = ninety eight pieces. The answer: ninety eight.`. Word2Num worked. Output: `\u001b[1;36m98\u001b[0m`\n"
      ]
     },
     "metadata": {},
     "output_type": "display_data"
    },
    {
     "data": {
      "text/html": [
       "<pre style=\"white-space:pre;overflow-x:auto;line-height:normal;font-family:Menlo,'DejaVu Sans Mono',consolas,'Courier New',monospace\"><span style=\"color: #000080; text-decoration-color: #000080; font-weight: bold\">text2digits</span>:\n",
       "         - <span style=\"color: #008000; text-decoration-color: #008000\">source:</span>    Isabel had sixty - one pieces left after giving her friend candy, so she started with sixty +\n",
       "twenty seven = ninety two pieces of candy. The answer: ninety two.\n",
       "         - <span style=\"color: #008000; text-decoration-color: #008000\">converted:</span> Isabel had <span style=\"color: #008080; text-decoration-color: #008080; font-weight: bold\">60</span> - <span style=\"color: #008080; text-decoration-color: #008080; font-weight: bold\">1</span> pieces left after giving her friend candy, so she started with <span style=\"color: #008080; text-decoration-color: #008080; font-weight: bold\">60</span> + <span style=\"color: #008080; text-decoration-color: #008080; font-weight: bold\">27</span> = <span style=\"color: #008080; text-decoration-color: #008080; font-weight: bold\">92</span>\n",
       "pieces of candy. The answer: <span style=\"color: #008080; text-decoration-color: #008080; font-weight: bold\">92</span>\n",
       "         - <span style=\"color: #008000; text-decoration-color: #008000\">final:</span>     <span style=\"color: #008080; text-decoration-color: #008080; font-weight: bold\">92</span>\n",
       "</pre>\n"
      ],
      "text/plain": [
       "\u001b[1;34mtext2digits\u001b[0m:\n",
       "         - \u001b[32msource:\u001b[0m    Isabel had sixty - one pieces left after giving her friend candy, so she started with sixty +\n",
       "twenty seven = ninety two pieces of candy. The answer: ninety two.\n",
       "         - \u001b[32mconverted:\u001b[0m Isabel had \u001b[1;36m60\u001b[0m - \u001b[1;36m1\u001b[0m pieces left after giving her friend candy, so she started with \u001b[1;36m60\u001b[0m + \u001b[1;36m27\u001b[0m = \u001b[1;36m92\u001b[0m\n",
       "pieces of candy. The answer: \u001b[1;36m92\u001b[0m\n",
       "         - \u001b[32mfinal:\u001b[0m     \u001b[1;36m92\u001b[0m\n"
      ]
     },
     "metadata": {},
     "output_type": "display_data"
    },
    {
     "data": {
      "text/html": [
       "<pre style=\"white-space:pre;overflow-x:auto;line-height:normal;font-family:Menlo,'DejaVu Sans Mono',consolas,'Courier New',monospace\"><span style=\"color: #800000; text-decoration-color: #800000\">split_fn: no numbers found. Received:</span> `Isabel had sixty - one pieces left after giving her friend candy, so she \n",
       "started with sixty + twenty seven = ninety two pieces of candy. The answer: ninety two.`. Word2Num worked. Output: \n",
       "`<span style=\"color: #008080; text-decoration-color: #008080; font-weight: bold\">92</span>`\n",
       "</pre>\n"
      ],
      "text/plain": [
       "\u001b[31msplit_fn: no numbers found. Received:\u001b[0m `Isabel had sixty - one pieces left after giving her friend candy, so she \n",
       "started with sixty + twenty seven = ninety two pieces of candy. The answer: ninety two.`. Word2Num worked. Output: \n",
       "`\u001b[1;36m92\u001b[0m`\n"
      ]
     },
     "metadata": {},
     "output_type": "display_data"
    },
    {
     "data": {
      "text/html": [
       "<pre style=\"white-space:pre;overflow-x:auto;line-height:normal;font-family:Menlo,'DejaVu Sans Mono',consolas,'Courier New',monospace\"><span style=\"color: #000080; text-decoration-color: #000080; font-weight: bold\">text2digits</span>:\n",
       "         - <span style=\"color: #008000; text-decoration-color: #008000\">source:</span>    Isabel had sixty - one pieces left after giving her friend candy, so she started with sixty +\n",
       "twenty seven = ninety two pieces. The answer: ninety two.\n",
       "         - <span style=\"color: #008000; text-decoration-color: #008000\">converted:</span> Isabel had <span style=\"color: #008080; text-decoration-color: #008080; font-weight: bold\">60</span> - <span style=\"color: #008080; text-decoration-color: #008080; font-weight: bold\">1</span> pieces left after giving her friend candy, so she started with <span style=\"color: #008080; text-decoration-color: #008080; font-weight: bold\">60</span> + <span style=\"color: #008080; text-decoration-color: #008080; font-weight: bold\">27</span> = <span style=\"color: #008080; text-decoration-color: #008080; font-weight: bold\">92</span>\n",
       "pieces. The answer: <span style=\"color: #008080; text-decoration-color: #008080; font-weight: bold\">92</span>\n",
       "         - <span style=\"color: #008000; text-decoration-color: #008000\">final:</span>     <span style=\"color: #008080; text-decoration-color: #008080; font-weight: bold\">92</span>\n",
       "</pre>\n"
      ],
      "text/plain": [
       "\u001b[1;34mtext2digits\u001b[0m:\n",
       "         - \u001b[32msource:\u001b[0m    Isabel had sixty - one pieces left after giving her friend candy, so she started with sixty +\n",
       "twenty seven = ninety two pieces. The answer: ninety two.\n",
       "         - \u001b[32mconverted:\u001b[0m Isabel had \u001b[1;36m60\u001b[0m - \u001b[1;36m1\u001b[0m pieces left after giving her friend candy, so she started with \u001b[1;36m60\u001b[0m + \u001b[1;36m27\u001b[0m = \u001b[1;36m92\u001b[0m\n",
       "pieces. The answer: \u001b[1;36m92\u001b[0m\n",
       "         - \u001b[32mfinal:\u001b[0m     \u001b[1;36m92\u001b[0m\n"
      ]
     },
     "metadata": {},
     "output_type": "display_data"
    },
    {
     "data": {
      "text/html": [
       "<pre style=\"white-space:pre;overflow-x:auto;line-height:normal;font-family:Menlo,'DejaVu Sans Mono',consolas,'Courier New',monospace\"><span style=\"color: #800000; text-decoration-color: #800000\">split_fn: no numbers found. Received:</span> `Isabel had sixty - one pieces left after giving her friend candy, so she \n",
       "started with sixty + twenty seven = ninety two pieces. The answer: ninety two.`. Word2Num worked. Output: `<span style=\"color: #008080; text-decoration-color: #008080; font-weight: bold\">92</span>`\n",
       "</pre>\n"
      ],
      "text/plain": [
       "\u001b[31msplit_fn: no numbers found. Received:\u001b[0m `Isabel had sixty - one pieces left after giving her friend candy, so she \n",
       "started with sixty + twenty seven = ninety two pieces. The answer: ninety two.`. Word2Num worked. Output: `\u001b[1;36m92\u001b[0m`\n"
      ]
     },
     "metadata": {},
     "output_type": "display_data"
    },
    {
     "data": {
      "text/html": [
       "<pre style=\"white-space:pre;overflow-x:auto;line-height:normal;font-family:Menlo,'DejaVu Sans Mono',consolas,'Courier New',monospace\"><span style=\"color: #000080; text-decoration-color: #000080; font-weight: bold\">text2digits</span>:\n",
       "         - <span style=\"color: #008000; text-decoration-color: #008000\">source:</span>    Isabel had sixty - one pieces left after giving her friend candy, so she started with sixty +\n",
       "twenty seven = ninety eight pieces of candy. The answer: ninety eight.\n",
       "         - <span style=\"color: #008000; text-decoration-color: #008000\">converted:</span> Isabel had <span style=\"color: #008080; text-decoration-color: #008080; font-weight: bold\">60</span> - <span style=\"color: #008080; text-decoration-color: #008080; font-weight: bold\">1</span> pieces left after giving her friend candy, so she started with <span style=\"color: #008080; text-decoration-color: #008080; font-weight: bold\">60</span> + <span style=\"color: #008080; text-decoration-color: #008080; font-weight: bold\">27</span> = <span style=\"color: #008080; text-decoration-color: #008080; font-weight: bold\">98</span>\n",
       "pieces of candy. The answer: <span style=\"color: #008080; text-decoration-color: #008080; font-weight: bold\">98</span>\n",
       "         - <span style=\"color: #008000; text-decoration-color: #008000\">final:</span>     <span style=\"color: #008080; text-decoration-color: #008080; font-weight: bold\">98</span>\n",
       "</pre>\n"
      ],
      "text/plain": [
       "\u001b[1;34mtext2digits\u001b[0m:\n",
       "         - \u001b[32msource:\u001b[0m    Isabel had sixty - one pieces left after giving her friend candy, so she started with sixty +\n",
       "twenty seven = ninety eight pieces of candy. The answer: ninety eight.\n",
       "         - \u001b[32mconverted:\u001b[0m Isabel had \u001b[1;36m60\u001b[0m - \u001b[1;36m1\u001b[0m pieces left after giving her friend candy, so she started with \u001b[1;36m60\u001b[0m + \u001b[1;36m27\u001b[0m = \u001b[1;36m98\u001b[0m\n",
       "pieces of candy. The answer: \u001b[1;36m98\u001b[0m\n",
       "         - \u001b[32mfinal:\u001b[0m     \u001b[1;36m98\u001b[0m\n"
      ]
     },
     "metadata": {},
     "output_type": "display_data"
    },
    {
     "data": {
      "text/html": [
       "<pre style=\"white-space:pre;overflow-x:auto;line-height:normal;font-family:Menlo,'DejaVu Sans Mono',consolas,'Courier New',monospace\"><span style=\"color: #800000; text-decoration-color: #800000\">split_fn: no numbers found. Received:</span> `Isabel had sixty - one pieces left after giving her friend candy, so she \n",
       "started with sixty + twenty seven = ninety eight pieces of candy. The answer: ninety eight.`. Word2Num worked. \n",
       "Output: `<span style=\"color: #008080; text-decoration-color: #008080; font-weight: bold\">98</span>`\n",
       "</pre>\n"
      ],
      "text/plain": [
       "\u001b[31msplit_fn: no numbers found. Received:\u001b[0m `Isabel had sixty - one pieces left after giving her friend candy, so she \n",
       "started with sixty + twenty seven = ninety eight pieces of candy. The answer: ninety eight.`. Word2Num worked. \n",
       "Output: `\u001b[1;36m98\u001b[0m`\n"
      ]
     },
     "metadata": {},
     "output_type": "display_data"
    },
    {
     "data": {
      "text/html": [
       "<pre style=\"white-space:pre;overflow-x:auto;line-height:normal;font-family:Menlo,'DejaVu Sans Mono',consolas,'Courier New',monospace\"><span style=\"color: #000080; text-decoration-color: #000080; font-weight: bold\">text2digits</span>:\n",
       "         - <span style=\"color: #008000; text-decoration-color: #008000\">source:</span>    Isabel had sixty - one pieces left after giving her friend candy, so she started with sixty +\n",
       "twenty seven = ninety eight pieces. The answer: ninety eight.\n",
       "         - <span style=\"color: #008000; text-decoration-color: #008000\">converted:</span> Isabel had <span style=\"color: #008080; text-decoration-color: #008080; font-weight: bold\">60</span> - <span style=\"color: #008080; text-decoration-color: #008080; font-weight: bold\">1</span> pieces left after giving her friend candy, so she started with <span style=\"color: #008080; text-decoration-color: #008080; font-weight: bold\">60</span> + <span style=\"color: #008080; text-decoration-color: #008080; font-weight: bold\">27</span> = <span style=\"color: #008080; text-decoration-color: #008080; font-weight: bold\">98</span>\n",
       "pieces. The answer: <span style=\"color: #008080; text-decoration-color: #008080; font-weight: bold\">98</span>\n",
       "         - <span style=\"color: #008000; text-decoration-color: #008000\">final:</span>     <span style=\"color: #008080; text-decoration-color: #008080; font-weight: bold\">98</span>\n",
       "</pre>\n"
      ],
      "text/plain": [
       "\u001b[1;34mtext2digits\u001b[0m:\n",
       "         - \u001b[32msource:\u001b[0m    Isabel had sixty - one pieces left after giving her friend candy, so she started with sixty +\n",
       "twenty seven = ninety eight pieces. The answer: ninety eight.\n",
       "         - \u001b[32mconverted:\u001b[0m Isabel had \u001b[1;36m60\u001b[0m - \u001b[1;36m1\u001b[0m pieces left after giving her friend candy, so she started with \u001b[1;36m60\u001b[0m + \u001b[1;36m27\u001b[0m = \u001b[1;36m98\u001b[0m\n",
       "pieces. The answer: \u001b[1;36m98\u001b[0m\n",
       "         - \u001b[32mfinal:\u001b[0m     \u001b[1;36m98\u001b[0m\n"
      ]
     },
     "metadata": {},
     "output_type": "display_data"
    },
    {
     "data": {
      "text/html": [
       "<pre style=\"white-space:pre;overflow-x:auto;line-height:normal;font-family:Menlo,'DejaVu Sans Mono',consolas,'Courier New',monospace\"><span style=\"color: #800000; text-decoration-color: #800000\">split_fn: no numbers found. Received:</span> `Isabel had sixty - one pieces left after giving her friend candy, so she \n",
       "started with sixty + twenty seven = ninety eight pieces. The answer: ninety eight.`. Word2Num worked. Output: `<span style=\"color: #008080; text-decoration-color: #008080; font-weight: bold\">98</span>`\n",
       "</pre>\n"
      ],
      "text/plain": [
       "\u001b[31msplit_fn: no numbers found. Received:\u001b[0m `Isabel had sixty - one pieces left after giving her friend candy, so she \n",
       "started with sixty + twenty seven = ninety eight pieces. The answer: ninety eight.`. Word2Num worked. Output: `\u001b[1;36m98\u001b[0m`\n"
      ]
     },
     "metadata": {},
     "output_type": "display_data"
    },
    {
     "name": "stderr",
     "output_type": "stream",
     "text": [
      "Accuracy: 38.0%:  91%|█████████ | 1840/2023 [56:22<04:35,  1.51s/it]"
     ]
    },
    {
     "data": {
      "text/html": [
       "<pre style=\"white-space:pre;overflow-x:auto;line-height:normal;font-family:Menlo,'DejaVu Sans Mono',consolas,'Courier New',monospace\"><span style=\"color: #000080; text-decoration-color: #000080; font-weight: bold\">text2digits</span>:\n",
       "         - <span style=\"color: #008000; text-decoration-color: #008000\">source:</span>    Ellen has nine + six = fifteen balls. The answer: fifteen.\n",
       "         - <span style=\"color: #008000; text-decoration-color: #008000\">converted:</span> Ellen has <span style=\"color: #008080; text-decoration-color: #008080; font-weight: bold\">9</span> + <span style=\"color: #008080; text-decoration-color: #008080; font-weight: bold\">6</span> = <span style=\"color: #008080; text-decoration-color: #008080; font-weight: bold\">15</span> balls. The answer: <span style=\"color: #008080; text-decoration-color: #008080; font-weight: bold\">15</span>\n",
       "         - <span style=\"color: #008000; text-decoration-color: #008000\">final:</span>     <span style=\"color: #008080; text-decoration-color: #008080; font-weight: bold\">15</span>\n",
       "</pre>\n"
      ],
      "text/plain": [
       "\u001b[1;34mtext2digits\u001b[0m:\n",
       "         - \u001b[32msource:\u001b[0m    Ellen has nine + six = fifteen balls. The answer: fifteen.\n",
       "         - \u001b[32mconverted:\u001b[0m Ellen has \u001b[1;36m9\u001b[0m + \u001b[1;36m6\u001b[0m = \u001b[1;36m15\u001b[0m balls. The answer: \u001b[1;36m15\u001b[0m\n",
       "         - \u001b[32mfinal:\u001b[0m     \u001b[1;36m15\u001b[0m\n"
      ]
     },
     "metadata": {},
     "output_type": "display_data"
    },
    {
     "data": {
      "text/html": [
       "<pre style=\"white-space:pre;overflow-x:auto;line-height:normal;font-family:Menlo,'DejaVu Sans Mono',consolas,'Courier New',monospace\"><span style=\"color: #800000; text-decoration-color: #800000\">split_fn: no numbers found. Received:</span> `Ellen has nine + six = fifteen balls. The answer: fifteen.`. Word2Num \n",
       "worked. Output: `<span style=\"color: #008080; text-decoration-color: #008080; font-weight: bold\">15</span>`\n",
       "</pre>\n"
      ],
      "text/plain": [
       "\u001b[31msplit_fn: no numbers found. Received:\u001b[0m `Ellen has nine + six = fifteen balls. The answer: fifteen.`. Word2Num \n",
       "worked. Output: `\u001b[1;36m15\u001b[0m`\n"
      ]
     },
     "metadata": {},
     "output_type": "display_data"
    },
    {
     "data": {
      "text/html": [
       "<pre style=\"white-space:pre;overflow-x:auto;line-height:normal;font-family:Menlo,'DejaVu Sans Mono',consolas,'Courier New',monospace\"><span style=\"color: #000080; text-decoration-color: #000080; font-weight: bold\">text2digits</span>:\n",
       "         - <span style=\"color: #008000; text-decoration-color: #008000\">source:</span>    Ellen has nine + six = fifteen balls. The answer: fifteen.\n",
       "         - <span style=\"color: #008000; text-decoration-color: #008000\">converted:</span> Ellen has <span style=\"color: #008080; text-decoration-color: #008080; font-weight: bold\">9</span> + <span style=\"color: #008080; text-decoration-color: #008080; font-weight: bold\">6</span> = <span style=\"color: #008080; text-decoration-color: #008080; font-weight: bold\">15</span> balls. The answer: <span style=\"color: #008080; text-decoration-color: #008080; font-weight: bold\">15</span>\n",
       "         - <span style=\"color: #008000; text-decoration-color: #008000\">final:</span>     <span style=\"color: #008080; text-decoration-color: #008080; font-weight: bold\">15</span>\n",
       "</pre>\n"
      ],
      "text/plain": [
       "\u001b[1;34mtext2digits\u001b[0m:\n",
       "         - \u001b[32msource:\u001b[0m    Ellen has nine + six = fifteen balls. The answer: fifteen.\n",
       "         - \u001b[32mconverted:\u001b[0m Ellen has \u001b[1;36m9\u001b[0m + \u001b[1;36m6\u001b[0m = \u001b[1;36m15\u001b[0m balls. The answer: \u001b[1;36m15\u001b[0m\n",
       "         - \u001b[32mfinal:\u001b[0m     \u001b[1;36m15\u001b[0m\n"
      ]
     },
     "metadata": {},
     "output_type": "display_data"
    },
    {
     "data": {
      "text/html": [
       "<pre style=\"white-space:pre;overflow-x:auto;line-height:normal;font-family:Menlo,'DejaVu Sans Mono',consolas,'Courier New',monospace\"><span style=\"color: #800000; text-decoration-color: #800000\">split_fn: no numbers found. Received:</span> `Ellen has nine + six = fifteen balls. The answer: fifteen.`. Word2Num \n",
       "worked. Output: `<span style=\"color: #008080; text-decoration-color: #008080; font-weight: bold\">15</span>`\n",
       "</pre>\n"
      ],
      "text/plain": [
       "\u001b[31msplit_fn: no numbers found. Received:\u001b[0m `Ellen has nine + six = fifteen balls. The answer: fifteen.`. Word2Num \n",
       "worked. Output: `\u001b[1;36m15\u001b[0m`\n"
      ]
     },
     "metadata": {},
     "output_type": "display_data"
    },
    {
     "name": "stderr",
     "output_type": "stream",
     "text": [
      "Accuracy: 38.1%:  91%|█████████▏| 1849/2023 [56:39<04:58,  1.71s/it]"
     ]
    },
    {
     "data": {
      "text/html": [
       "<pre style=\"white-space:pre;overflow-x:auto;line-height:normal;font-family:Menlo,'DejaVu Sans Mono',consolas,'Courier New',monospace\"><span style=\"color: #000080; text-decoration-color: #000080; font-weight: bold\">text2digits</span>:\n",
       "         - <span style=\"color: #008000; text-decoration-color: #008000\">source:</span>    The difference between the number of hotdogs before selling and after selling is ninety - \n",
       "twenty = seventy. So, the answer is seventy.\n",
       "         - <span style=\"color: #008000; text-decoration-color: #008000\">converted:</span> The difference between the number of hotdogs before selling and after selling is <span style=\"color: #008080; text-decoration-color: #008080; font-weight: bold\">90</span> - <span style=\"color: #008080; text-decoration-color: #008080; font-weight: bold\">20</span> = \n",
       "<span style=\"color: #008080; text-decoration-color: #008080; font-weight: bold\">70</span>. So, the answer is <span style=\"color: #008080; text-decoration-color: #008080; font-weight: bold\">70</span>\n",
       "         - <span style=\"color: #008000; text-decoration-color: #008000\">final:</span>     <span style=\"color: #008080; text-decoration-color: #008080; font-weight: bold\">70</span>\n",
       "</pre>\n"
      ],
      "text/plain": [
       "\u001b[1;34mtext2digits\u001b[0m:\n",
       "         - \u001b[32msource:\u001b[0m    The difference between the number of hotdogs before selling and after selling is ninety - \n",
       "twenty = seventy. So, the answer is seventy.\n",
       "         - \u001b[32mconverted:\u001b[0m The difference between the number of hotdogs before selling and after selling is \u001b[1;36m90\u001b[0m - \u001b[1;36m20\u001b[0m = \n",
       "\u001b[1;36m70\u001b[0m. So, the answer is \u001b[1;36m70\u001b[0m\n",
       "         - \u001b[32mfinal:\u001b[0m     \u001b[1;36m70\u001b[0m\n"
      ]
     },
     "metadata": {},
     "output_type": "display_data"
    },
    {
     "data": {
      "text/html": [
       "<pre style=\"white-space:pre;overflow-x:auto;line-height:normal;font-family:Menlo,'DejaVu Sans Mono',consolas,'Courier New',monospace\"><span style=\"color: #800000; text-decoration-color: #800000\">split_fn: no numbers found. Received:</span> `The difference between the number of hotdogs before selling and after \n",
       "selling is ninety - twenty = seventy. So, the answer is seventy.`. Word2Num worked. Output: `<span style=\"color: #008080; text-decoration-color: #008080; font-weight: bold\">70</span>`\n",
       "</pre>\n"
      ],
      "text/plain": [
       "\u001b[31msplit_fn: no numbers found. Received:\u001b[0m `The difference between the number of hotdogs before selling and after \n",
       "selling is ninety - twenty = seventy. So, the answer is seventy.`. Word2Num worked. Output: `\u001b[1;36m70\u001b[0m`\n"
      ]
     },
     "metadata": {},
     "output_type": "display_data"
    },
    {
     "data": {
      "text/html": [
       "<pre style=\"white-space:pre;overflow-x:auto;line-height:normal;font-family:Menlo,'DejaVu Sans Mono',consolas,'Courier New',monospace\"><span style=\"color: #000080; text-decoration-color: #000080; font-weight: bold\">text2digits</span>:\n",
       "         - <span style=\"color: #008000; text-decoration-color: #008000\">source:</span>    The difference between the number of hotdogs before and after selling is ninety - twenty = \n",
       "seventy. So, the answer is seventy.\n",
       "         - <span style=\"color: #008000; text-decoration-color: #008000\">converted:</span> The difference between the number of hotdogs before and after selling is <span style=\"color: #008080; text-decoration-color: #008080; font-weight: bold\">90</span> - <span style=\"color: #008080; text-decoration-color: #008080; font-weight: bold\">20</span> = <span style=\"color: #008080; text-decoration-color: #008080; font-weight: bold\">70</span>. So, \n",
       "the answer is <span style=\"color: #008080; text-decoration-color: #008080; font-weight: bold\">70</span>\n",
       "         - <span style=\"color: #008000; text-decoration-color: #008000\">final:</span>     <span style=\"color: #008080; text-decoration-color: #008080; font-weight: bold\">70</span>\n",
       "</pre>\n"
      ],
      "text/plain": [
       "\u001b[1;34mtext2digits\u001b[0m:\n",
       "         - \u001b[32msource:\u001b[0m    The difference between the number of hotdogs before and after selling is ninety - twenty = \n",
       "seventy. So, the answer is seventy.\n",
       "         - \u001b[32mconverted:\u001b[0m The difference between the number of hotdogs before and after selling is \u001b[1;36m90\u001b[0m - \u001b[1;36m20\u001b[0m = \u001b[1;36m70\u001b[0m. So, \n",
       "the answer is \u001b[1;36m70\u001b[0m\n",
       "         - \u001b[32mfinal:\u001b[0m     \u001b[1;36m70\u001b[0m\n"
      ]
     },
     "metadata": {},
     "output_type": "display_data"
    },
    {
     "data": {
      "text/html": [
       "<pre style=\"white-space:pre;overflow-x:auto;line-height:normal;font-family:Menlo,'DejaVu Sans Mono',consolas,'Courier New',monospace\"><span style=\"color: #800000; text-decoration-color: #800000\">split_fn: no numbers found. Received:</span> `The difference between the number of hotdogs before and after selling is \n",
       "ninety - twenty = seventy. So, the answer is seventy.`. Word2Num worked. Output: `<span style=\"color: #008080; text-decoration-color: #008080; font-weight: bold\">70</span>`\n",
       "</pre>\n"
      ],
      "text/plain": [
       "\u001b[31msplit_fn: no numbers found. Received:\u001b[0m `The difference between the number of hotdogs before and after selling is \n",
       "ninety - twenty = seventy. So, the answer is seventy.`. Word2Num worked. Output: `\u001b[1;36m70\u001b[0m`\n"
      ]
     },
     "metadata": {},
     "output_type": "display_data"
    },
    {
     "data": {
      "text/html": [
       "<pre style=\"white-space:pre;overflow-x:auto;line-height:normal;font-family:Menlo,'DejaVu Sans Mono',consolas,'Courier New',monospace\"><span style=\"color: #000080; text-decoration-color: #000080; font-weight: bold\">text2digits</span>:\n",
       "         - <span style=\"color: #008000; text-decoration-color: #008000\">source:</span>    The difference between the number of hotdogs before selling and after selling is ninety - \n",
       "twenty = seventy. So, the answer is seventy.\n",
       "         - <span style=\"color: #008000; text-decoration-color: #008000\">converted:</span> The difference between the number of hotdogs before selling and after selling is <span style=\"color: #008080; text-decoration-color: #008080; font-weight: bold\">90</span> - <span style=\"color: #008080; text-decoration-color: #008080; font-weight: bold\">20</span> = \n",
       "<span style=\"color: #008080; text-decoration-color: #008080; font-weight: bold\">70</span>. So, the answer is <span style=\"color: #008080; text-decoration-color: #008080; font-weight: bold\">70</span>\n",
       "         - <span style=\"color: #008000; text-decoration-color: #008000\">final:</span>     <span style=\"color: #008080; text-decoration-color: #008080; font-weight: bold\">70</span>\n",
       "</pre>\n"
      ],
      "text/plain": [
       "\u001b[1;34mtext2digits\u001b[0m:\n",
       "         - \u001b[32msource:\u001b[0m    The difference between the number of hotdogs before selling and after selling is ninety - \n",
       "twenty = seventy. So, the answer is seventy.\n",
       "         - \u001b[32mconverted:\u001b[0m The difference between the number of hotdogs before selling and after selling is \u001b[1;36m90\u001b[0m - \u001b[1;36m20\u001b[0m = \n",
       "\u001b[1;36m70\u001b[0m. So, the answer is \u001b[1;36m70\u001b[0m\n",
       "         - \u001b[32mfinal:\u001b[0m     \u001b[1;36m70\u001b[0m\n"
      ]
     },
     "metadata": {},
     "output_type": "display_data"
    },
    {
     "data": {
      "text/html": [
       "<pre style=\"white-space:pre;overflow-x:auto;line-height:normal;font-family:Menlo,'DejaVu Sans Mono',consolas,'Courier New',monospace\"><span style=\"color: #800000; text-decoration-color: #800000\">split_fn: no numbers found. Received:</span> `The difference between the number of hotdogs before selling and after \n",
       "selling is ninety - twenty = seventy. So, the answer is seventy.`. Word2Num worked. Output: `<span style=\"color: #008080; text-decoration-color: #008080; font-weight: bold\">70</span>`\n",
       "</pre>\n"
      ],
      "text/plain": [
       "\u001b[31msplit_fn: no numbers found. Received:\u001b[0m `The difference between the number of hotdogs before selling and after \n",
       "selling is ninety - twenty = seventy. So, the answer is seventy.`. Word2Num worked. Output: `\u001b[1;36m70\u001b[0m`\n"
      ]
     },
     "metadata": {},
     "output_type": "display_data"
    },
    {
     "data": {
      "text/html": [
       "<pre style=\"white-space:pre;overflow-x:auto;line-height:normal;font-family:Menlo,'DejaVu Sans Mono',consolas,'Courier New',monospace\"><span style=\"color: #000080; text-decoration-color: #000080; font-weight: bold\">text2digits</span>:\n",
       "         - <span style=\"color: #008000; text-decoration-color: #008000\">source:</span>    The difference between the number of hotdogs before and after selling is ninety - twenty = \n",
       "seventy. So, the answer is seventy.\n",
       "         - <span style=\"color: #008000; text-decoration-color: #008000\">converted:</span> The difference between the number of hotdogs before and after selling is <span style=\"color: #008080; text-decoration-color: #008080; font-weight: bold\">90</span> - <span style=\"color: #008080; text-decoration-color: #008080; font-weight: bold\">20</span> = <span style=\"color: #008080; text-decoration-color: #008080; font-weight: bold\">70</span>. So, \n",
       "the answer is <span style=\"color: #008080; text-decoration-color: #008080; font-weight: bold\">70</span>\n",
       "         - <span style=\"color: #008000; text-decoration-color: #008000\">final:</span>     <span style=\"color: #008080; text-decoration-color: #008080; font-weight: bold\">70</span>\n",
       "</pre>\n"
      ],
      "text/plain": [
       "\u001b[1;34mtext2digits\u001b[0m:\n",
       "         - \u001b[32msource:\u001b[0m    The difference between the number of hotdogs before and after selling is ninety - twenty = \n",
       "seventy. So, the answer is seventy.\n",
       "         - \u001b[32mconverted:\u001b[0m The difference between the number of hotdogs before and after selling is \u001b[1;36m90\u001b[0m - \u001b[1;36m20\u001b[0m = \u001b[1;36m70\u001b[0m. So, \n",
       "the answer is \u001b[1;36m70\u001b[0m\n",
       "         - \u001b[32mfinal:\u001b[0m     \u001b[1;36m70\u001b[0m\n"
      ]
     },
     "metadata": {},
     "output_type": "display_data"
    },
    {
     "data": {
      "text/html": [
       "<pre style=\"white-space:pre;overflow-x:auto;line-height:normal;font-family:Menlo,'DejaVu Sans Mono',consolas,'Courier New',monospace\"><span style=\"color: #800000; text-decoration-color: #800000\">split_fn: no numbers found. Received:</span> `The difference between the number of hotdogs before and after selling is \n",
       "ninety - twenty = seventy. So, the answer is seventy.`. Word2Num worked. Output: `<span style=\"color: #008080; text-decoration-color: #008080; font-weight: bold\">70</span>`\n",
       "</pre>\n"
      ],
      "text/plain": [
       "\u001b[31msplit_fn: no numbers found. Received:\u001b[0m `The difference between the number of hotdogs before and after selling is \n",
       "ninety - twenty = seventy. So, the answer is seventy.`. Word2Num worked. Output: `\u001b[1;36m70\u001b[0m`\n"
      ]
     },
     "metadata": {},
     "output_type": "display_data"
    },
    {
     "name": "stderr",
     "output_type": "stream",
     "text": [
      "Accuracy: 37.9%: 100%|██████████| 2023/2023 [1:02:24<00:00,  1.85s/it]\n"
     ]
    },
    {
     "data": {
      "text/html": [
       "<pre style=\"white-space:pre;overflow-x:auto;line-height:normal;font-family:Menlo,'DejaVu Sans Mono',consolas,'Courier New',monospace\"><span style=\"font-weight: bold\">{</span>\n",
       "    <span style=\"color: #008000; text-decoration-color: #008000\">'shuffle'</span>: <span style=\"color: #00ff00; text-decoration-color: #00ff00; font-style: italic\">True</span>,\n",
       "    <span style=\"color: #008000; text-decoration-color: #008000\">'verbose'</span>: <span style=\"color: #ff0000; text-decoration-color: #ff0000; font-style: italic\">False</span>,\n",
       "    <span style=\"color: #008000; text-decoration-color: #008000\">'num_beams'</span>: <span style=\"color: #008080; text-decoration-color: #008080; font-weight: bold\">8</span>,\n",
       "    <span style=\"color: #008000; text-decoration-color: #008000\">'batch_size'</span>: <span style=\"color: #008080; text-decoration-color: #008080; font-weight: bold\">1</span>,\n",
       "    <span style=\"color: #008000; text-decoration-color: #008000\">'max_new_tokens'</span>: <span style=\"color: #008080; text-decoration-color: #008080; font-weight: bold\">100</span>,\n",
       "    <span style=\"color: #008000; text-decoration-color: #008000\">'use_majority_vote'</span>: <span style=\"color: #00ff00; text-decoration-color: #00ff00; font-style: italic\">True</span>,\n",
       "    <span style=\"color: #008000; text-decoration-color: #008000\">'use_group_beam_search'</span>: <span style=\"color: #ff0000; text-decoration-color: #ff0000; font-style: italic\">False</span>,\n",
       "    <span style=\"color: #008000; text-decoration-color: #008000\">'generation_extra_kwargs'</span>: <span style=\"font-weight: bold\">{</span><span style=\"color: #008000; text-decoration-color: #008000\">'repetition_penalty'</span>: <span style=\"color: #008080; text-decoration-color: #008080; font-weight: bold\">50.0</span><span style=\"font-weight: bold\">}</span>,\n",
       "    <span style=\"color: #008000; text-decoration-color: #008000\">'context'</span>: <span style=\"color: #008000; text-decoration-color: #008000\">''</span>,\n",
       "    <span style=\"color: #008000; text-decoration-color: #008000\">'with_scratchpads'</span>: <span style=\"color: #00ff00; text-decoration-color: #00ff00; font-style: italic\">True</span>\n",
       "<span style=\"font-weight: bold\">}</span>\n",
       "</pre>\n"
      ],
      "text/plain": [
       "\u001b[1m{\u001b[0m\n",
       "    \u001b[32m'shuffle'\u001b[0m: \u001b[3;92mTrue\u001b[0m,\n",
       "    \u001b[32m'verbose'\u001b[0m: \u001b[3;91mFalse\u001b[0m,\n",
       "    \u001b[32m'num_beams'\u001b[0m: \u001b[1;36m8\u001b[0m,\n",
       "    \u001b[32m'batch_size'\u001b[0m: \u001b[1;36m1\u001b[0m,\n",
       "    \u001b[32m'max_new_tokens'\u001b[0m: \u001b[1;36m100\u001b[0m,\n",
       "    \u001b[32m'use_majority_vote'\u001b[0m: \u001b[3;92mTrue\u001b[0m,\n",
       "    \u001b[32m'use_group_beam_search'\u001b[0m: \u001b[3;91mFalse\u001b[0m,\n",
       "    \u001b[32m'generation_extra_kwargs'\u001b[0m: \u001b[1m{\u001b[0m\u001b[32m'repetition_penalty'\u001b[0m: \u001b[1;36m50.0\u001b[0m\u001b[1m}\u001b[0m,\n",
       "    \u001b[32m'context'\u001b[0m: \u001b[32m''\u001b[0m,\n",
       "    \u001b[32m'with_scratchpads'\u001b[0m: \u001b[3;92mTrue\u001b[0m\n",
       "\u001b[1m}\u001b[0m\n"
      ]
     },
     "metadata": {},
     "output_type": "display_data"
    },
    {
     "data": {
      "text/html": [
       "<pre style=\"white-space:pre;overflow-x:auto;line-height:normal;font-family:Menlo,'DejaVu Sans Mono',consolas,'Courier New',monospace\"><span style=\"color: #008000; text-decoration-color: #008000; font-weight: bold\">Accuracy, torch.float32: </span><span style=\"color: #008000; text-decoration-color: #008000; font-weight: bold\">37.9</span><span style=\"color: #008000; text-decoration-color: #008000; font-weight: bold\">%</span>\n",
       "</pre>\n"
      ],
      "text/plain": [
       "\u001b[1;32mAccuracy, torch.float32: \u001b[0m\u001b[1;32m37.9\u001b[0m\u001b[1;32m%\u001b[0m\n"
      ]
     },
     "metadata": {},
     "output_type": "display_data"
    }
   ],
   "source": [
    "\n",
    "text2digits_ = text2digits.Text2Digits()\n",
    "num_pat = re.compile(r\"\\d+(?:[\\,\\.]\\d+)?\")\n",
    "\n",
    "\n",
    "def deal_with_words(text):\n",
    "    converted = text2digits_.convert(text)\n",
    "    output = num_pat.findall(converted)[-1]\n",
    "    rich.print(\n",
    "        f\"[bold blue]text2digits[/]:\\n\"\n",
    "        f\" \\t - [green]source:[/]    {text}\\n\"\n",
    "        f\" \\t - [green]converted:[/] {converted}\\n\"\n",
    "        f\" \\t - [green]final:[/]     {output}\"\n",
    "    )\n",
    "    return output \n",
    "\n",
    "\n",
    "def split_fn(x):\n",
    "    results = num_pat.findall(x)\n",
    "    if not results:\n",
    "        try:\n",
    "            output = deal_with_words(x)\n",
    "        except ValueError:\n",
    "            output = None\n",
    "\n",
    "        if output is not None:\n",
    "            rich.print(f\"[red]split_fn: no numbers found. Received:[/] `{x}`. Word2Num worked. Output: `{output}`\")\n",
    "            output = str(output)\n",
    "        else:\n",
    "            rich.print(f\"[red]split_fn: no numbers found. Received:[/] `{x}`\")\n",
    "            output = None\n",
    "    else:\n",
    "        output = results[-1]\n",
    "    return output\n",
    "\n",
    "\n",
    "def compare(pred, answ):\n",
    "    return format_output(pred.strip()) == format_output(answ.strip())\n",
    "\n",
    "\n",
    "def run(\n",
    "    *,\n",
    "    shuffle,\n",
    "    verbose,\n",
    "    context,\n",
    "    num_beams,\n",
    "    batch_size,\n",
    "    max_new_tokens,\n",
    "    with_scratchpads,\n",
    "    use_majority_vote,\n",
    "    use_group_beam_search,\n",
    "    generation_extra_kwargs\n",
    "):\n",
    "    args = locals().copy()\n",
    "    \n",
    "    with torch.inference_mode():\n",
    "        dataloader = torch.utils.data.DataLoader(\n",
    "            dataset_test,\n",
    "            shuffle=shuffle,\n",
    "            batch_size=batch_size,\n",
    "            collate_fn=lambda inputs: collate(\n",
    "                inputs, tokenizer, context, with_scratchpads\n",
    "            )\n",
    "        )\n",
    "\n",
    "        outputs = []\n",
    "        tqdm_obj = tqdm(dataloader)\n",
    "\n",
    "        extra_kwargs = generation_extra_kwargs.copy()\n",
    "        if use_group_beam_search:\n",
    "            extra_kwargs[\"num_beam_groups\"] = num_beams\n",
    "\n",
    "        for batch in tqdm_obj:\n",
    "            output = model.generate(\n",
    "                input_ids            = batch[\"input_ids\"],\n",
    "                attention_mask       = batch[\"attention_mask\"],\n",
    "                num_beams            = num_beams,\n",
    "                num_return_sequences = num_beams if use_majority_vote else 1,\n",
    "                max_new_tokens       = max_new_tokens,\n",
    "                **extra_kwargs\n",
    "            ).reshape(batch_size, num_beams if use_majority_vote else 1, -1)\n",
    "\n",
    "            predictions = list(majority_vote_batch(output, tokenizer, split_fn, verbose))\n",
    "            raw_decoded = [\n",
    "                [tokenizer.decode(x, skip_special_tokens=True) for x in batch_entry] \n",
    "                for batch_entry in output\n",
    "            ]\n",
    "\n",
    "            answer_decoded = [list(map(split_fn, x)) for x in raw_decoded]\n",
    "\n",
    "            if verbose:\n",
    "                for prediction, answer, raw_decoded_entry, answer_decoded, input_text in zip(\n",
    "                    predictions, \n",
    "                    batch[\"answer\"], \n",
    "                    raw_decoded, \n",
    "                    answer_decoded, \n",
    "                    [tokenizer.decode(x) for x in batch[\"input_ids\"]]\n",
    "                ):\n",
    "\n",
    "                    rich.print(\n",
    "                        f\"[bold blue]input_text[/]:      {input_text}\\n\"\n",
    "                        f\"[bold blue]ref_answer[/]:      {answer}\\n\"\n",
    "                        f\"[bold blue]prediction[/]:      {prediction}\\n\"\n",
    "                        # f\"[bold blue]raw_decoded[/]:     {raw_decoded_entry}\\n\"\n",
    "                        f\"[bold blue]answer_decoded[/]:  {answer_decoded}\"\n",
    "                    )\n",
    "                    rich.print(\"[bold blue]Raw Decoded:[/]\")\n",
    "                    for v in raw_decoded_entry:\n",
    "                        rich.print(f\" [bold]-[/] {v}\")\n",
    "\n",
    "            good_bad_preds = [\n",
    "                compare(pred=pred, answ=answ) \n",
    "                for pred, answ in zip(predictions, batch[\"answer\"])\n",
    "            ]\n",
    "\n",
    "            # print([(format_output(a), format_output(b), a, b) for a, b in zip(predictions, batch[\"answer\"])])\n",
    "            # print(good_bad_preds)\n",
    "\n",
    "            outputs.extend(good_bad_preds)\n",
    "            tqdm_obj.set_description(f\"Accuracy: {np.mean(outputs):.1%}\")\n",
    "            \n",
    "        accuracy = np.mean(outputs)\n",
    "\n",
    "        rich.print(args)\n",
    "        rich.print(f\"[bold green]Accuracy, {model.dtype}: {accuracy:.1%}\")\n",
    "\n",
    "\n",
    "verbose = False\n",
    "shuffle = True\n",
    "n_shots = 0\n",
    "num_beams = 8\n",
    "batch_size = 1\n",
    "max_new_tokens = 100\n",
    "with_scratchpads = True\n",
    "use_majority_vote = True\n",
    "use_group_beam_search = False\n",
    "few_shot_context_rng_seed = 42  # Makes sure the context is the same if we want it to stay the same\n",
    "\n",
    "generation_extra_kwargs = dict(\n",
    "    repetition_penalty=50.,\n",
    ")\n",
    "\n",
    "\n",
    "context = compose_fewshot_context(\n",
    "        dataset_train, \n",
    "        n_shots, \n",
    "        with_scratchpads, \n",
    "        few_shot_context_rng_seed,\n",
    "    )\n",
    "\n",
    "\n",
    "print(context)\n",
    "assert not context\n",
    "\n",
    "\n",
    "\n",
    "run(\n",
    "    shuffle=shuffle,\n",
    "    verbose=verbose,\n",
    "    context=context,\n",
    "    num_beams=num_beams, \n",
    "    batch_size=batch_size, \n",
    "    max_new_tokens=max_new_tokens, \n",
    "    with_scratchpads=with_scratchpads, \n",
    "    use_majority_vote=use_majority_vote, \n",
    "    use_group_beam_search=use_group_beam_search,\n",
    "    generation_extra_kwargs=generation_extra_kwargs\n",
    ")"
   ]
  },
  {
   "cell_type": "markdown",
   "metadata": {},
   "source": [
    "### ASDiv Dataset:\n",
    "\n",
    "- **At a glance**: float32, no context, 8 beams majority vote, fixed number parser.\n",
    "  - **Accuracy**: 37.9%\n",
    "  - **Precision**: float32\n",
    "  - **num_beams**: 8\n",
    "  - **batch_size**: 1\n",
    "  - **max_new_tokens**: 100\n",
    "  - **use_majority_vote**: True\n",
    "  - **use_group_beam_search**: False\n",
    "  - **generation_extra_kwargs**: \n",
    "    - *repetition_penalty*: 50.0\n",
    "    - *context*: ''\n",
    "\n",
    "-> Uses \"Let's do this step by step\"\n",
    "\n",
    "**Notes**:\n",
    "    For the word outputs, the word2num often doesn't pickup the correct (last) word.\n"
   ]
  },
  {
   "cell_type": "code",
   "execution_count": null,
   "metadata": {},
   "outputs": [],
   "source": []
  },
  {
   "cell_type": "code",
   "execution_count": null,
   "metadata": {},
   "outputs": [],
   "source": []
  }
 ],
 "metadata": {
  "kernelspec": {
   "display_name": "Python 3.9.12 ('base')",
   "language": "python",
   "name": "python3"
  },
  "language_info": {
   "codemirror_mode": {
    "name": "ipython",
    "version": 3
   },
   "file_extension": ".py",
   "mimetype": "text/x-python",
   "name": "python",
   "nbconvert_exporter": "python",
   "pygments_lexer": "ipython3",
   "version": "3.9.12"
  },
  "orig_nbformat": 4,
  "vscode": {
   "interpreter": {
    "hash": "e5df931a2f82070a33ae1c20bff26f0f27f06960f553260770733988e82cce89"
   }
  }
 },
 "nbformat": 4,
 "nbformat_minor": 2
}
