{
 "cells": [
  {
   "cell_type": "code",
   "execution_count": 5,
   "metadata": {},
   "outputs": [
    {
     "name": "stderr",
     "output_type": "stream",
     "text": [
      "100%|██████████| 10/10 [00:00<00:00, 15.74it/s]\n"
     ]
    }
   ],
   "source": [
    "import pathlib\n",
    "import os\n",
    "import transformers\n",
    "import tqdm\n",
    "\n",
    "path = pathlib.Path(\"~/scratch/rejection_sampling_saves/\").expanduser()\n",
    "checkpoints = list(path.glob(\"**/*.safetensors\"))\n",
    "tokenizer = transformers.AutoTokenizer.from_pretrained(\"HuggingFaceTB/SmolLM2-1.7b-Instruct\")\n",
    "\n",
    "for checkpoint in tqdm.tqdm(checkpoints):\n",
    "    tokenizer.save_pretrained(checkpoint.parent)\n",
    "\n",
    "\n"
   ]
  },
  {
   "cell_type": "code",
   "execution_count": null,
   "metadata": {},
   "outputs": [],
   "source": []
  }
 ],
 "metadata": {
  "kernelspec": {
   "display_name": "base",
   "language": "python",
   "name": "python3"
  },
  "language_info": {
   "codemirror_mode": {
    "name": "ipython",
    "version": 3
   },
   "file_extension": ".py",
   "mimetype": "text/x-python",
   "name": "python",
   "nbconvert_exporter": "python",
   "pygments_lexer": "ipython3",
   "version": "3.10.14"
  }
 },
 "nbformat": 4,
 "nbformat_minor": 2
}
