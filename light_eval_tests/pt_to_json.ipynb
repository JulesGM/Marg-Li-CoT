{
 "cells": [
  {
   "cell_type": "code",
   "execution_count": 3,
   "metadata": {},
   "outputs": [],
   "source": [
    "import torch\n",
    "import sys\n",
    "import pathlib\n",
    "import json\n",
    "import re\n",
    "import omegaconf\n",
    "import tqdm\n",
    "import git\n",
    "import concurrent.futures as cf\n",
    "import queue\n",
    "\n",
    "git_root = pathlib.Path(git.Repo(search_parent_directories=True).git_dir).parent\n",
    "target = git_root / \"approach_sft\"\n",
    "assert target.exists(), f\"Target directory does not exist: {target}\"\n",
    "\n",
    "sys.path.append(str(target))"
   ]
  },
  {
   "cell_type": "code",
   "execution_count": 6,
   "metadata": {},
   "outputs": [
    {
     "name": "stderr",
     "output_type": "stream",
     "text": [
      "/tmp/ipykernel_3391660/3738313570.py:20: FutureWarning: You are using `torch.load` with `weights_only=False` (the current default value), which uses the default pickle module implicitly. It is possible to construct malicious pickle data which will execute arbitrary code during unpickling (See https://github.com/pytorch/pytorch/blob/main/SECURITY.md#untrusted-models for more details). In a future release, the default value for `weights_only` will be flipped to `True`. This limits the functions that could be executed during unpickling. Arbitrary objects will no longer be allowed to be loaded via this mode unless they are explicitly allowlisted by the user via `torch.serialization.add_safe_globals`. We recommend you start setting `weights_only=True` for any use case where you don't have full control of the loaded file. Please open an issue on GitHub for any issues related to this experimental feature.\n",
      "  data = torch.load(f, map_location=\"cpu\")\n",
      "  0%|          | 0/9 [00:00<?, ?it/s]"
     ]
    },
    {
     "name": "stderr",
     "output_type": "stream",
     "text": [
      "100%|██████████| 9/9 [00:23<00:00,  2.64s/it]\n"
     ]
    }
   ],
   "source": [
    "ROOT_PATH = pathlib.Path(\"~/scratch/marglicot_saves/sft_saves/0_001/\").expanduser().resolve()\n",
    "paths = list(ROOT_PATH.glob(\"*gsm8k*/*/meta_info.pt\"))\n",
    "assert paths, \"No paths found\"\n",
    "\n",
    "\n",
    "\n",
    "def json_default(obj):\n",
    "    if isinstance(obj, pathlib.Path):\n",
    "        return str(obj)\n",
    "    elif isinstance(obj, torch.Tensor):\n",
    "        print(obj.dtype, obj.shape)\n",
    "    if isinstance(obj, torch.dtype):\n",
    "        return str(obj)\n",
    "    raise TypeError(f\"Object of type {type(obj)} is not JSON serializable\")\n",
    "\n",
    "\n",
    "def process_file(input_path):\n",
    "    target_path = input_path.parent / re.sub(r\"\\.pt$\", \".json\", input_path.name)\n",
    "    with open(input_path, \"rb\") as f:\n",
    "        data = torch.load(f, map_location=\"cpu\")\n",
    "    \n",
    "    data[\"cfg\"] = omegaconf.OmegaConf.to_container(data[\"cfg\"], resolve=True)\n",
    "    del data[\"optimizer\"]\n",
    "\n",
    "    with open(target_path, \"w\") as f:\n",
    "        json.dump(data, f, indent=4, sort_keys=True, default=json_default)\n",
    "    return input_path\n",
    "\n",
    "with cf.ThreadPoolExecutor(5) as executor:\n",
    "    futures = [executor.submit(process_file, path) for path in paths]\n",
    "    for future in tqdm.tqdm(cf.as_completed(futures), total=len(futures)):\n",
    "        try:\n",
    "            future.result()\n",
    "        except Exception as e:\n",
    "            print(f\"Error processing file: {e}\")\n"
   ]
  },
  {
   "cell_type": "code",
   "execution_count": null,
   "metadata": {},
   "outputs": [],
   "source": []
  }
 ],
 "metadata": {
  "kernelspec": {
   "display_name": "base",
   "language": "python",
   "name": "python3"
  },
  "language_info": {
   "codemirror_mode": {
    "name": "ipython",
    "version": 3
   },
   "file_extension": ".py",
   "mimetype": "text/x-python",
   "name": "python",
   "nbconvert_exporter": "python",
   "pygments_lexer": "ipython3",
   "version": "3.10.14"
  }
 },
 "nbformat": 4,
 "nbformat_minor": 2
}
