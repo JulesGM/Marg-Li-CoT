{
 "cells": [
  {
   "cell_type": "code",
   "execution_count": 4,
   "metadata": {},
   "outputs": [],
   "source": [
    "import collections\n",
    "import re\n",
    "import rich\n",
    "\n",
    "import asdiv_dataset"
   ]
  },
  {
   "cell_type": "code",
   "execution_count": 5,
   "metadata": {},
   "outputs": [
    {
     "data": {
      "text/html": [
       "<pre style=\"white-space:pre;overflow-x:auto;line-height:normal;font-family:Menlo,'DejaVu Sans Mono',consolas,'Courier New',monospace\"><span style=\"font-weight: bold\">{</span>\n",
       "    <span style=\"color: #008000; text-decoration-color: #008000\">'question'</span>: <span style=\"color: #008000; text-decoration-color: #008000\">'Seven red apples and two green apples are in the basket. How many apples are in the basket?'</span>,\n",
       "    <span style=\"color: #008000; text-decoration-color: #008000\">'answer'</span>: <span style=\"color: #008000; text-decoration-color: #008000\">'9 (apples)'</span>,\n",
       "    <span style=\"color: #008000; text-decoration-color: #008000\">'scratchpad'</span>: <span style=\"color: #008000; text-decoration-color: #008000\">'7+2=9'</span>,\n",
       "    <span style=\"color: #008000; text-decoration-color: #008000\">'Body'</span>: <span style=\"color: #008000; text-decoration-color: #008000\">'Seven red apples and two green apples are in the basket.'</span>,\n",
       "    <span style=\"color: #008000; text-decoration-color: #008000\">'Question'</span>: <span style=\"color: #008000; text-decoration-color: #008000\">'How many apples are in the basket?'</span>,\n",
       "    <span style=\"color: #008000; text-decoration-color: #008000\">'Solution-Type'</span>: <span style=\"color: #008000; text-decoration-color: #008000\">'Addition'</span>,\n",
       "    <span style=\"color: #008000; text-decoration-color: #008000\">'Answer'</span>: <span style=\"color: #008000; text-decoration-color: #008000\">'9 (apples)'</span>,\n",
       "    <span style=\"color: #008000; text-decoration-color: #008000\">'Formula'</span>: <span style=\"color: #008000; text-decoration-color: #008000\">'7+2=9'</span>,\n",
       "    <span style=\"color: #008000; text-decoration-color: #008000\">'ID'</span>: <span style=\"color: #008000; text-decoration-color: #008000\">'nluds-0001'</span>,\n",
       "    <span style=\"color: #008000; text-decoration-color: #008000\">'Grade'</span>: <span style=\"color: #008000; text-decoration-color: #008000\">'1'</span>,\n",
       "    <span style=\"color: #008000; text-decoration-color: #008000\">'Source'</span>: <span style=\"color: #008000; text-decoration-color: #008000\">'http://www.k5learning.com'</span>\n",
       "<span style=\"font-weight: bold\">}</span>\n",
       "</pre>\n"
      ],
      "text/plain": [
       "\u001b[1m{\u001b[0m\n",
       "    \u001b[32m'question'\u001b[0m: \u001b[32m'Seven red apples and two green apples are in the basket. How many apples are in the basket?'\u001b[0m,\n",
       "    \u001b[32m'answer'\u001b[0m: \u001b[32m'9 \u001b[0m\u001b[32m(\u001b[0m\u001b[32mapples\u001b[0m\u001b[32m)\u001b[0m\u001b[32m'\u001b[0m,\n",
       "    \u001b[32m'scratchpad'\u001b[0m: \u001b[32m'7+\u001b[0m\u001b[32m2\u001b[0m\u001b[32m=\u001b[0m\u001b[32m9\u001b[0m\u001b[32m'\u001b[0m,\n",
       "    \u001b[32m'Body'\u001b[0m: \u001b[32m'Seven red apples and two green apples are in the basket.'\u001b[0m,\n",
       "    \u001b[32m'Question'\u001b[0m: \u001b[32m'How many apples are in the basket?'\u001b[0m,\n",
       "    \u001b[32m'Solution-Type'\u001b[0m: \u001b[32m'Addition'\u001b[0m,\n",
       "    \u001b[32m'Answer'\u001b[0m: \u001b[32m'9 \u001b[0m\u001b[32m(\u001b[0m\u001b[32mapples\u001b[0m\u001b[32m)\u001b[0m\u001b[32m'\u001b[0m,\n",
       "    \u001b[32m'Formula'\u001b[0m: \u001b[32m'7+\u001b[0m\u001b[32m2\u001b[0m\u001b[32m=\u001b[0m\u001b[32m9\u001b[0m\u001b[32m'\u001b[0m,\n",
       "    \u001b[32m'ID'\u001b[0m: \u001b[32m'nluds-0001'\u001b[0m,\n",
       "    \u001b[32m'Grade'\u001b[0m: \u001b[32m'1'\u001b[0m,\n",
       "    \u001b[32m'Source'\u001b[0m: \u001b[32m'http://www.k5learning.com'\u001b[0m\n",
       "\u001b[1m}\u001b[0m\n"
      ]
     },
     "metadata": {},
     "output_type": "display_data"
    }
   ],
   "source": [
    "asdiv_ds = asdiv_dataset.ASDiv(cache_path=\"asdiv.xml\", quiet=True)\n",
    "\n",
    "rich.print(asdiv_ds[0])"
   ]
  },
  {
   "cell_type": "code",
   "execution_count": 7,
   "metadata": {},
   "outputs": [
    {
     "name": "stdout",
     "output_type": "stream",
     "text": [
      "is_not_digit:   9.0%\n"
     ]
    },
    {
     "data": {
      "text/html": [
       "<pre style=\"white-space:pre;overflow-x:auto;line-height:normal;font-family:Menlo,'DejaVu Sans Mono',consolas,'Courier New',monospace\"><span style=\"font-weight: bold\">{</span>\n",
       "    <span style=\"color: #008000; text-decoration-color: #008000\">'Comparison'</span>: <span style=\"color: #008080; text-decoration-color: #008080; font-weight: bold\">57</span>,\n",
       "    <span style=\"color: #008000; text-decoration-color: #008000\">'Ratio'</span>: <span style=\"color: #008080; text-decoration-color: #008080; font-weight: bold\">44</span>,\n",
       "    <span style=\"color: #008000; text-decoration-color: #008000\">'Multiplication'</span>: <span style=\"color: #008080; text-decoration-color: #008080; font-weight: bold\">18</span>,\n",
       "    <span style=\"color: #008000; text-decoration-color: #008000\">'Subtraction'</span>: <span style=\"color: #008080; text-decoration-color: #008080; font-weight: bold\">17</span>,\n",
       "    <span style=\"color: #008000; text-decoration-color: #008000\">'Addition'</span>: <span style=\"color: #008080; text-decoration-color: #008080; font-weight: bold\">16</span>,\n",
       "    <span style=\"color: #008000; text-decoration-color: #008000\">'Algebra-1'</span>: <span style=\"color: #008080; text-decoration-color: #008080; font-weight: bold\">12</span>,\n",
       "    <span style=\"color: #008000; text-decoration-color: #008000\">'Algebra-2'</span>: <span style=\"color: #008080; text-decoration-color: #008080; font-weight: bold\">12</span>,\n",
       "    <span style=\"color: #008000; text-decoration-color: #008000\">'Set-Operation'</span>: <span style=\"color: #008080; text-decoration-color: #008080; font-weight: bold\">9</span>,\n",
       "    <span style=\"color: #008000; text-decoration-color: #008000\">'Common-Division'</span>: <span style=\"color: #008080; text-decoration-color: #008080; font-weight: bold\">7</span>,\n",
       "    <span style=\"color: #008000; text-decoration-color: #008000\">'Sum'</span>: <span style=\"color: #008080; text-decoration-color: #008080; font-weight: bold\">5</span>,\n",
       "    <span style=\"color: #008000; text-decoration-color: #008000\">'Geometry'</span>: <span style=\"color: #008080; text-decoration-color: #008080; font-weight: bold\">5</span>,\n",
       "    <span style=\"color: #008000; text-decoration-color: #008000\">'Sequential-Operation'</span>: <span style=\"color: #008080; text-decoration-color: #008080; font-weight: bold\">2</span>,\n",
       "    <span style=\"color: #008000; text-decoration-color: #008000\">'UnitTrans'</span>: <span style=\"color: #008080; text-decoration-color: #008080; font-weight: bold\">2</span>,\n",
       "    <span style=\"color: #008000; text-decoration-color: #008000\">'Difference'</span>: <span style=\"color: #008080; text-decoration-color: #008080; font-weight: bold\">1</span>,\n",
       "    <span style=\"color: #008000; text-decoration-color: #008000\">'LCM'</span>: <span style=\"color: #008080; text-decoration-color: #008080; font-weight: bold\">1</span>\n",
       "<span style=\"font-weight: bold\">}</span>\n",
       "</pre>\n"
      ],
      "text/plain": [
       "\u001b[1m{\u001b[0m\n",
       "    \u001b[32m'Comparison'\u001b[0m: \u001b[1;36m57\u001b[0m,\n",
       "    \u001b[32m'Ratio'\u001b[0m: \u001b[1;36m44\u001b[0m,\n",
       "    \u001b[32m'Multiplication'\u001b[0m: \u001b[1;36m18\u001b[0m,\n",
       "    \u001b[32m'Subtraction'\u001b[0m: \u001b[1;36m17\u001b[0m,\n",
       "    \u001b[32m'Addition'\u001b[0m: \u001b[1;36m16\u001b[0m,\n",
       "    \u001b[32m'Algebra-1'\u001b[0m: \u001b[1;36m12\u001b[0m,\n",
       "    \u001b[32m'Algebra-2'\u001b[0m: \u001b[1;36m12\u001b[0m,\n",
       "    \u001b[32m'Set-Operation'\u001b[0m: \u001b[1;36m9\u001b[0m,\n",
       "    \u001b[32m'Common-Division'\u001b[0m: \u001b[1;36m7\u001b[0m,\n",
       "    \u001b[32m'Sum'\u001b[0m: \u001b[1;36m5\u001b[0m,\n",
       "    \u001b[32m'Geometry'\u001b[0m: \u001b[1;36m5\u001b[0m,\n",
       "    \u001b[32m'Sequential-Operation'\u001b[0m: \u001b[1;36m2\u001b[0m,\n",
       "    \u001b[32m'UnitTrans'\u001b[0m: \u001b[1;36m2\u001b[0m,\n",
       "    \u001b[32m'Difference'\u001b[0m: \u001b[1;36m1\u001b[0m,\n",
       "    \u001b[32m'LCM'\u001b[0m: \u001b[1;36m1\u001b[0m\n",
       "\u001b[1m}\u001b[0m\n"
      ]
     },
     "metadata": {},
     "output_type": "display_data"
    },
    {
     "data": {
      "text/html": [
       "<pre style=\"white-space:pre;overflow-x:auto;line-height:normal;font-family:Menlo,'DejaVu Sans Mono',consolas,'Courier New',monospace\"><span style=\"color: #008080; text-decoration-color: #008080; font-weight: bold\">208</span>\n",
       "</pre>\n"
      ],
      "text/plain": [
       "\u001b[1;36m208\u001b[0m\n"
      ]
     },
     "metadata": {},
     "output_type": "display_data"
    },
    {
     "name": "stdout",
     "output_type": "stream",
     "text": [
      "is_not_numeric:   6.3%\n"
     ]
    },
    {
     "data": {
      "text/html": [
       "<pre style=\"white-space:pre;overflow-x:auto;line-height:normal;font-family:Menlo,'DejaVu Sans Mono',consolas,'Courier New',monospace\"><span style=\"font-weight: bold\">{</span>\n",
       "    <span style=\"color: #008000; text-decoration-color: #008000\">'Comparison'</span>: <span style=\"color: #008080; text-decoration-color: #008080; font-weight: bold\">57</span>,\n",
       "    <span style=\"color: #008000; text-decoration-color: #008000\">'Ratio'</span>: <span style=\"color: #008080; text-decoration-color: #008080; font-weight: bold\">43</span>,\n",
       "    <span style=\"color: #008000; text-decoration-color: #008000\">'Addition'</span>: <span style=\"color: #008080; text-decoration-color: #008080; font-weight: bold\">12</span>,\n",
       "    <span style=\"color: #008000; text-decoration-color: #008000\">'Algebra-1'</span>: <span style=\"color: #008080; text-decoration-color: #008080; font-weight: bold\">12</span>,\n",
       "    <span style=\"color: #008000; text-decoration-color: #008000\">'Algebra-2'</span>: <span style=\"color: #008080; text-decoration-color: #008080; font-weight: bold\">11</span>,\n",
       "    <span style=\"color: #008000; text-decoration-color: #008000\">'Subtraction'</span>: <span style=\"color: #008080; text-decoration-color: #008080; font-weight: bold\">5</span>,\n",
       "    <span style=\"color: #008000; text-decoration-color: #008000\">'Sum'</span>: <span style=\"color: #008080; text-decoration-color: #008080; font-weight: bold\">2</span>,\n",
       "    <span style=\"color: #008000; text-decoration-color: #008000\">'Sequential-Operation'</span>: <span style=\"color: #008080; text-decoration-color: #008080; font-weight: bold\">2</span>,\n",
       "    <span style=\"color: #008000; text-decoration-color: #008000\">'LCM'</span>: <span style=\"color: #008080; text-decoration-color: #008080; font-weight: bold\">1</span>,\n",
       "    <span style=\"color: #008000; text-decoration-color: #008000\">'Common-Division'</span>: <span style=\"color: #008080; text-decoration-color: #008080; font-weight: bold\">1</span>\n",
       "<span style=\"font-weight: bold\">}</span>\n",
       "</pre>\n"
      ],
      "text/plain": [
       "\u001b[1m{\u001b[0m\n",
       "    \u001b[32m'Comparison'\u001b[0m: \u001b[1;36m57\u001b[0m,\n",
       "    \u001b[32m'Ratio'\u001b[0m: \u001b[1;36m43\u001b[0m,\n",
       "    \u001b[32m'Addition'\u001b[0m: \u001b[1;36m12\u001b[0m,\n",
       "    \u001b[32m'Algebra-1'\u001b[0m: \u001b[1;36m12\u001b[0m,\n",
       "    \u001b[32m'Algebra-2'\u001b[0m: \u001b[1;36m11\u001b[0m,\n",
       "    \u001b[32m'Subtraction'\u001b[0m: \u001b[1;36m5\u001b[0m,\n",
       "    \u001b[32m'Sum'\u001b[0m: \u001b[1;36m2\u001b[0m,\n",
       "    \u001b[32m'Sequential-Operation'\u001b[0m: \u001b[1;36m2\u001b[0m,\n",
       "    \u001b[32m'LCM'\u001b[0m: \u001b[1;36m1\u001b[0m,\n",
       "    \u001b[32m'Common-Division'\u001b[0m: \u001b[1;36m1\u001b[0m\n",
       "\u001b[1m}\u001b[0m\n"
      ]
     },
     "metadata": {},
     "output_type": "display_data"
    },
    {
     "data": {
      "text/html": [
       "<pre style=\"white-space:pre;overflow-x:auto;line-height:normal;font-family:Menlo,'DejaVu Sans Mono',consolas,'Courier New',monospace\"><span style=\"color: #008080; text-decoration-color: #008080; font-weight: bold\">146</span>\n",
       "</pre>\n"
      ],
      "text/plain": [
       "\u001b[1;36m146\u001b[0m\n"
      ]
     },
     "metadata": {},
     "output_type": "display_data"
    },
    {
     "name": "stdout",
     "output_type": "stream",
     "text": [
      "numeric_not_digit:   2.7%\n"
     ]
    },
    {
     "data": {
      "text/html": [
       "<pre style=\"white-space:pre;overflow-x:auto;line-height:normal;font-family:Menlo,'DejaVu Sans Mono',consolas,'Courier New',monospace\"><span style=\"font-weight: bold\">{</span>\n",
       "    <span style=\"color: #008000; text-decoration-color: #008000\">'Multiplication'</span>: <span style=\"color: #008080; text-decoration-color: #008080; font-weight: bold\">18</span>,\n",
       "    <span style=\"color: #008000; text-decoration-color: #008000\">'Subtraction'</span>: <span style=\"color: #008080; text-decoration-color: #008080; font-weight: bold\">12</span>,\n",
       "    <span style=\"color: #008000; text-decoration-color: #008000\">'Set-Operation'</span>: <span style=\"color: #008080; text-decoration-color: #008080; font-weight: bold\">9</span>,\n",
       "    <span style=\"color: #008000; text-decoration-color: #008000\">'Common-Division'</span>: <span style=\"color: #008080; text-decoration-color: #008080; font-weight: bold\">6</span>,\n",
       "    <span style=\"color: #008000; text-decoration-color: #008000\">'Geometry'</span>: <span style=\"color: #008080; text-decoration-color: #008080; font-weight: bold\">5</span>,\n",
       "    <span style=\"color: #008000; text-decoration-color: #008000\">'Addition'</span>: <span style=\"color: #008080; text-decoration-color: #008080; font-weight: bold\">4</span>,\n",
       "    <span style=\"color: #008000; text-decoration-color: #008000\">'Sum'</span>: <span style=\"color: #008080; text-decoration-color: #008080; font-weight: bold\">3</span>,\n",
       "    <span style=\"color: #008000; text-decoration-color: #008000\">'UnitTrans'</span>: <span style=\"color: #008080; text-decoration-color: #008080; font-weight: bold\">2</span>,\n",
       "    <span style=\"color: #008000; text-decoration-color: #008000\">'Difference'</span>: <span style=\"color: #008080; text-decoration-color: #008080; font-weight: bold\">1</span>,\n",
       "    <span style=\"color: #008000; text-decoration-color: #008000\">'Ratio'</span>: <span style=\"color: #008080; text-decoration-color: #008080; font-weight: bold\">1</span>,\n",
       "    <span style=\"color: #008000; text-decoration-color: #008000\">'Algebra-2'</span>: <span style=\"color: #008080; text-decoration-color: #008080; font-weight: bold\">1</span>\n",
       "<span style=\"font-weight: bold\">}</span>\n",
       "</pre>\n"
      ],
      "text/plain": [
       "\u001b[1m{\u001b[0m\n",
       "    \u001b[32m'Multiplication'\u001b[0m: \u001b[1;36m18\u001b[0m,\n",
       "    \u001b[32m'Subtraction'\u001b[0m: \u001b[1;36m12\u001b[0m,\n",
       "    \u001b[32m'Set-Operation'\u001b[0m: \u001b[1;36m9\u001b[0m,\n",
       "    \u001b[32m'Common-Division'\u001b[0m: \u001b[1;36m6\u001b[0m,\n",
       "    \u001b[32m'Geometry'\u001b[0m: \u001b[1;36m5\u001b[0m,\n",
       "    \u001b[32m'Addition'\u001b[0m: \u001b[1;36m4\u001b[0m,\n",
       "    \u001b[32m'Sum'\u001b[0m: \u001b[1;36m3\u001b[0m,\n",
       "    \u001b[32m'UnitTrans'\u001b[0m: \u001b[1;36m2\u001b[0m,\n",
       "    \u001b[32m'Difference'\u001b[0m: \u001b[1;36m1\u001b[0m,\n",
       "    \u001b[32m'Ratio'\u001b[0m: \u001b[1;36m1\u001b[0m,\n",
       "    \u001b[32m'Algebra-2'\u001b[0m: \u001b[1;36m1\u001b[0m\n",
       "\u001b[1m}\u001b[0m\n"
      ]
     },
     "metadata": {},
     "output_type": "display_data"
    },
    {
     "data": {
      "text/html": [
       "<pre style=\"white-space:pre;overflow-x:auto;line-height:normal;font-family:Menlo,'DejaVu Sans Mono',consolas,'Courier New',monospace\"><span style=\"color: #008080; text-decoration-color: #008080; font-weight: bold\">62</span>\n",
       "</pre>\n"
      ],
      "text/plain": [
       "\u001b[1;36m62\u001b[0m\n"
      ]
     },
     "metadata": {},
     "output_type": "display_data"
    },
    {
     "name": "stdout",
     "output_type": "stream",
     "text": [
      "digit_not_numeric:   0.0%\n"
     ]
    },
    {
     "data": {
      "text/html": [
       "<pre style=\"white-space:pre;overflow-x:auto;line-height:normal;font-family:Menlo,'DejaVu Sans Mono',consolas,'Courier New',monospace\"><span style=\"font-weight: bold\">{}</span>\n",
       "</pre>\n"
      ],
      "text/plain": [
       "\u001b[1m{\u001b[0m\u001b[1m}\u001b[0m\n"
      ]
     },
     "metadata": {},
     "output_type": "display_data"
    },
    {
     "data": {
      "text/html": [
       "<pre style=\"white-space:pre;overflow-x:auto;line-height:normal;font-family:Menlo,'DejaVu Sans Mono',consolas,'Courier New',monospace\"><span style=\"color: #008080; text-decoration-color: #008080; font-weight: bold\">0</span>\n",
       "</pre>\n"
      ],
      "text/plain": [
       "\u001b[1;36m0\u001b[0m\n"
      ]
     },
     "metadata": {},
     "output_type": "display_data"
    },
    {
     "name": "stdout",
     "output_type": "stream",
     "text": [
      "is_not_integer:   12.2%\n"
     ]
    },
    {
     "data": {
      "text/html": [
       "<pre style=\"white-space:pre;overflow-x:auto;line-height:normal;font-family:Menlo,'DejaVu Sans Mono',consolas,'Courier New',monospace\"><span style=\"font-weight: bold\">{</span>\n",
       "    <span style=\"color: #008000; text-decoration-color: #008000\">'Algebra-2'</span>: <span style=\"color: #008080; text-decoration-color: #008080; font-weight: bold\">67</span>,\n",
       "    <span style=\"color: #008000; text-decoration-color: #008000\">'Comparison'</span>: <span style=\"color: #008080; text-decoration-color: #008080; font-weight: bold\">57</span>,\n",
       "    <span style=\"color: #008000; text-decoration-color: #008000\">'Ratio'</span>: <span style=\"color: #008080; text-decoration-color: #008080; font-weight: bold\">44</span>,\n",
       "    <span style=\"color: #008000; text-decoration-color: #008000\">'Algebra-1'</span>: <span style=\"color: #008080; text-decoration-color: #008080; font-weight: bold\">24</span>,\n",
       "    <span style=\"color: #008000; text-decoration-color: #008000\">'Multiplication'</span>: <span style=\"color: #008080; text-decoration-color: #008080; font-weight: bold\">18</span>,\n",
       "    <span style=\"color: #008000; text-decoration-color: #008000\">'Subtraction'</span>: <span style=\"color: #008080; text-decoration-color: #008080; font-weight: bold\">17</span>,\n",
       "    <span style=\"color: #008000; text-decoration-color: #008000\">'Addition'</span>: <span style=\"color: #008080; text-decoration-color: #008080; font-weight: bold\">16</span>,\n",
       "    <span style=\"color: #008000; text-decoration-color: #008000\">'Geometry'</span>: <span style=\"color: #008080; text-decoration-color: #008080; font-weight: bold\">12</span>,\n",
       "    <span style=\"color: #008000; text-decoration-color: #008000\">'Set-Operation'</span>: <span style=\"color: #008080; text-decoration-color: #008080; font-weight: bold\">9</span>,\n",
       "    <span style=\"color: #008000; text-decoration-color: #008000\">'Common-Division'</span>: <span style=\"color: #008080; text-decoration-color: #008080; font-weight: bold\">7</span>,\n",
       "    <span style=\"color: #008000; text-decoration-color: #008000\">'Sum'</span>: <span style=\"color: #008080; text-decoration-color: #008080; font-weight: bold\">5</span>,\n",
       "    <span style=\"color: #008000; text-decoration-color: #008000\">'Sequential-Operation'</span>: <span style=\"color: #008080; text-decoration-color: #008080; font-weight: bold\">2</span>,\n",
       "    <span style=\"color: #008000; text-decoration-color: #008000\">'UnitTrans'</span>: <span style=\"color: #008080; text-decoration-color: #008080; font-weight: bold\">2</span>,\n",
       "    <span style=\"color: #008000; text-decoration-color: #008000\">'Difference'</span>: <span style=\"color: #008080; text-decoration-color: #008080; font-weight: bold\">1</span>,\n",
       "    <span style=\"color: #008000; text-decoration-color: #008000\">'LCM'</span>: <span style=\"color: #008080; text-decoration-color: #008080; font-weight: bold\">1</span>\n",
       "<span style=\"font-weight: bold\">}</span>\n",
       "</pre>\n"
      ],
      "text/plain": [
       "\u001b[1m{\u001b[0m\n",
       "    \u001b[32m'Algebra-2'\u001b[0m: \u001b[1;36m67\u001b[0m,\n",
       "    \u001b[32m'Comparison'\u001b[0m: \u001b[1;36m57\u001b[0m,\n",
       "    \u001b[32m'Ratio'\u001b[0m: \u001b[1;36m44\u001b[0m,\n",
       "    \u001b[32m'Algebra-1'\u001b[0m: \u001b[1;36m24\u001b[0m,\n",
       "    \u001b[32m'Multiplication'\u001b[0m: \u001b[1;36m18\u001b[0m,\n",
       "    \u001b[32m'Subtraction'\u001b[0m: \u001b[1;36m17\u001b[0m,\n",
       "    \u001b[32m'Addition'\u001b[0m: \u001b[1;36m16\u001b[0m,\n",
       "    \u001b[32m'Geometry'\u001b[0m: \u001b[1;36m12\u001b[0m,\n",
       "    \u001b[32m'Set-Operation'\u001b[0m: \u001b[1;36m9\u001b[0m,\n",
       "    \u001b[32m'Common-Division'\u001b[0m: \u001b[1;36m7\u001b[0m,\n",
       "    \u001b[32m'Sum'\u001b[0m: \u001b[1;36m5\u001b[0m,\n",
       "    \u001b[32m'Sequential-Operation'\u001b[0m: \u001b[1;36m2\u001b[0m,\n",
       "    \u001b[32m'UnitTrans'\u001b[0m: \u001b[1;36m2\u001b[0m,\n",
       "    \u001b[32m'Difference'\u001b[0m: \u001b[1;36m1\u001b[0m,\n",
       "    \u001b[32m'LCM'\u001b[0m: \u001b[1;36m1\u001b[0m\n",
       "\u001b[1m}\u001b[0m\n"
      ]
     },
     "metadata": {},
     "output_type": "display_data"
    },
    {
     "data": {
      "text/html": [
       "<pre style=\"white-space:pre;overflow-x:auto;line-height:normal;font-family:Menlo,'DejaVu Sans Mono',consolas,'Courier New',monospace\"><span style=\"color: #008080; text-decoration-color: #008080; font-weight: bold\">282</span>\n",
       "</pre>\n"
      ],
      "text/plain": [
       "\u001b[1;36m282\u001b[0m\n"
      ]
     },
     "metadata": {},
     "output_type": "display_data"
    },
    {
     "name": "stdout",
     "output_type": "stream",
     "text": [
      "is_digit_is_not_integer:   3.2%\n"
     ]
    },
    {
     "data": {
      "text/html": [
       "<pre style=\"white-space:pre;overflow-x:auto;line-height:normal;font-family:Menlo,'DejaVu Sans Mono',consolas,'Courier New',monospace\"><span style=\"font-weight: bold\">{</span><span style=\"color: #008000; text-decoration-color: #008000\">'Algebra-2'</span>: <span style=\"color: #008080; text-decoration-color: #008080; font-weight: bold\">55</span>, <span style=\"color: #008000; text-decoration-color: #008000\">'Algebra-1'</span>: <span style=\"color: #008080; text-decoration-color: #008080; font-weight: bold\">12</span>, <span style=\"color: #008000; text-decoration-color: #008000\">'Geometry'</span>: <span style=\"color: #008080; text-decoration-color: #008080; font-weight: bold\">7</span><span style=\"font-weight: bold\">}</span>\n",
       "</pre>\n"
      ],
      "text/plain": [
       "\u001b[1m{\u001b[0m\u001b[32m'Algebra-2'\u001b[0m: \u001b[1;36m55\u001b[0m, \u001b[32m'Algebra-1'\u001b[0m: \u001b[1;36m12\u001b[0m, \u001b[32m'Geometry'\u001b[0m: \u001b[1;36m7\u001b[0m\u001b[1m}\u001b[0m\n"
      ]
     },
     "metadata": {},
     "output_type": "display_data"
    },
    {
     "data": {
      "text/html": [
       "<pre style=\"white-space:pre;overflow-x:auto;line-height:normal;font-family:Menlo,'DejaVu Sans Mono',consolas,'Courier New',monospace\"><span style=\"color: #008080; text-decoration-color: #008080; font-weight: bold\">74</span>\n",
       "</pre>\n"
      ],
      "text/plain": [
       "\u001b[1;36m74\u001b[0m\n"
      ]
     },
     "metadata": {},
     "output_type": "display_data"
    },
    {
     "name": "stdout",
     "output_type": "stream",
     "text": [
      "is_digit_is_multiple_integers:   3.2%\n"
     ]
    },
    {
     "data": {
      "text/html": [
       "<pre style=\"white-space:pre;overflow-x:auto;line-height:normal;font-family:Menlo,'DejaVu Sans Mono',consolas,'Courier New',monospace\"><span style=\"font-weight: bold\">{</span><span style=\"color: #008000; text-decoration-color: #008000\">'Algebra-2'</span>: <span style=\"color: #008080; text-decoration-color: #008080; font-weight: bold\">55</span>, <span style=\"color: #008000; text-decoration-color: #008000\">'Algebra-1'</span>: <span style=\"color: #008080; text-decoration-color: #008080; font-weight: bold\">12</span>, <span style=\"color: #008000; text-decoration-color: #008000\">'Geometry'</span>: <span style=\"color: #008080; text-decoration-color: #008080; font-weight: bold\">7</span><span style=\"font-weight: bold\">}</span>\n",
       "</pre>\n"
      ],
      "text/plain": [
       "\u001b[1m{\u001b[0m\u001b[32m'Algebra-2'\u001b[0m: \u001b[1;36m55\u001b[0m, \u001b[32m'Algebra-1'\u001b[0m: \u001b[1;36m12\u001b[0m, \u001b[32m'Geometry'\u001b[0m: \u001b[1;36m7\u001b[0m\u001b[1m}\u001b[0m\n"
      ]
     },
     "metadata": {},
     "output_type": "display_data"
    },
    {
     "data": {
      "text/html": [
       "<pre style=\"white-space:pre;overflow-x:auto;line-height:normal;font-family:Menlo,'DejaVu Sans Mono',consolas,'Courier New',monospace\"><span style=\"color: #008080; text-decoration-color: #008080; font-weight: bold\">74</span>\n",
       "</pre>\n"
      ],
      "text/plain": [
       "\u001b[1;36m74\u001b[0m\n"
      ]
     },
     "metadata": {},
     "output_type": "display_data"
    },
    {
     "name": "stdout",
     "output_type": "stream",
     "text": [
      "is_digit_is_not_multiple_integers:   0.0%\n"
     ]
    },
    {
     "data": {
      "text/html": [
       "<pre style=\"white-space:pre;overflow-x:auto;line-height:normal;font-family:Menlo,'DejaVu Sans Mono',consolas,'Courier New',monospace\"><span style=\"font-weight: bold\">{}</span>\n",
       "</pre>\n"
      ],
      "text/plain": [
       "\u001b[1m{\u001b[0m\u001b[1m}\u001b[0m\n"
      ]
     },
     "metadata": {},
     "output_type": "display_data"
    },
    {
     "data": {
      "text/html": [
       "<pre style=\"white-space:pre;overflow-x:auto;line-height:normal;font-family:Menlo,'DejaVu Sans Mono',consolas,'Courier New',monospace\"><span style=\"color: #008080; text-decoration-color: #008080; font-weight: bold\">0</span>\n",
       "</pre>\n"
      ],
      "text/plain": [
       "\u001b[1;36m0\u001b[0m\n"
      ]
     },
     "metadata": {},
     "output_type": "display_data"
    }
   ],
   "source": [
    "def is_numeric(text):\n",
    "    clean_text = re.sub(r\"\\s+\", \"\", text).replace(\",\", \"\").strip()\n",
    "\n",
    "    return re.match(r\"^\\-?\\d+(\\.\\d+)?$\", clean_text) is not None\n",
    "\n",
    "\n",
    "\n",
    "values_filtered_digit = []\n",
    "values_filtered_numeric = []\n",
    "numeric_not_digit = []\n",
    "digit_not_numeric = []\n",
    "values_filtered_is_integer = []\n",
    "is_digit_is_not_integer = []\n",
    "is_digit_is_multiple_integers = []\n",
    "is_digit_is_not_multiple_integers = []\n",
    "\n",
    "\n",
    "for entry in asdiv_ds:\n",
    "    answer = entry[\"answer\"].split(\" \", 1)[0]\n",
    "\n",
    "    is_not_digit = not answer.isdigit()\n",
    "    is_not_numeric = not is_numeric(answer)\n",
    "    is_not_integer = not asdiv_dataset.ASDivInteger._is_integer(entry[\"answer\"])\n",
    "\n",
    "    if is_not_digit:\n",
    "        values_filtered_digit.append(entry)\n",
    "\n",
    "    if is_not_numeric:\n",
    "        values_filtered_numeric.append(entry)\n",
    "\n",
    "    if not is_not_digit and is_not_numeric:\n",
    "        digit_not_numeric.append(entry)\n",
    "    \n",
    "    if is_not_digit and not is_not_numeric:\n",
    "        numeric_not_digit.append(entry)\n",
    "\n",
    "    if is_not_integer:\n",
    "        values_filtered_is_integer.append(entry)\n",
    "\n",
    "    if not is_not_digit and is_not_integer:\n",
    "        is_digit_is_not_integer.append(entry)\n",
    "\n",
    "    if not is_not_digit:\n",
    "        splitted = [x.strip() for x in entry[\"answer\"].split(\";\")]\n",
    "        if len(splitted) > 1 and all(asdiv_dataset.ASDivInteger._is_integer(x) for x in splitted):\n",
    "            is_digit_is_multiple_integers.append(entry)\n",
    "        else:\n",
    "            if is_not_integer: \n",
    "                is_digit_is_not_multiple_integers.append(entry)\n",
    "\n",
    "def stats(name, entries_filtered):\n",
    "    counter = collections.Counter([x[\"Solution-Type\"] for x in entries_filtered])\n",
    "    print(f\"{name}:  {len(entries_filtered) / len(asdiv_ds): 0.1%}\")\n",
    "    rich.print({k: v for k, v in sorted(counter.items(), key=lambda x: x[1], reverse=True)})\n",
    "    rich.print(sum([v for v in counter.values()]))\n",
    "\n",
    "\n",
    "for name, values in dict(\n",
    "    is_not_digit=values_filtered_digit,\n",
    "    is_not_numeric=values_filtered_numeric,\n",
    "    numeric_not_digit=numeric_not_digit,\n",
    "    digit_not_numeric=digit_not_numeric,\n",
    "    is_not_integer=values_filtered_is_integer,\n",
    "    is_digit_is_not_integer=is_digit_is_not_integer,\n",
    "    is_digit_is_multiple_integers=is_digit_is_multiple_integers,\n",
    "    is_digit_is_not_multiple_integers=is_digit_is_not_multiple_integers,\n",
    ").items():\n",
    "    stats(name, values)\n"
   ]
  },
  {
   "cell_type": "code",
   "execution_count": null,
   "metadata": {},
   "outputs": [],
   "source": []
  }
 ],
 "metadata": {
  "kernelspec": {
   "display_name": "Python 3.9.12 ('base')",
   "language": "python",
   "name": "python3"
  },
  "language_info": {
   "codemirror_mode": {
    "name": "ipython",
    "version": 3
   },
   "file_extension": ".py",
   "mimetype": "text/x-python",
   "name": "python",
   "nbconvert_exporter": "python",
   "pygments_lexer": "ipython3",
   "version": "3.9.12"
  },
  "orig_nbformat": 4,
  "vscode": {
   "interpreter": {
    "hash": "e5df931a2f82070a33ae1c20bff26f0f27f06960f553260770733988e82cce89"
   }
  }
 },
 "nbformat": 4,
 "nbformat_minor": 2
}
