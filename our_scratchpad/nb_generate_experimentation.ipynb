{
 "cells": [
  {
   "cell_type": "code",
   "execution_count": 1,
   "metadata": {},
   "outputs": [
    {
     "name": "stdout",
     "output_type": "stream",
     "text": [
      "\n",
      "===================================BUG REPORT===================================\n",
      "Welcome to bitsandbytes. For bug reports, please use this form: https://docs.google.com/forms/d/e/1FAIpQLScPB8emS3Thkp66nvqwmjTEgxp8Y9ufuWTzFyr9kJ5AoI47dQ/viewform?usp=sf_link\n",
      "================================================================================\n",
      "CUDA SETUP: CUDA path found: /cvmfs/ai.mila.quebec/apps/x86_64/common/cuda/11.1/lib64/libcudart.so\n",
      "CUDA SETUP: Highest compute capability among GPUs detected: 8.0\n",
      "CUDA_SETUP: Detected CUDA version 111\n",
      "CUDA_SETUP: Loading binary /home/mila/g/gagnonju/.main/lib/python3.9/site-packages/bitsandbytes/libbitsandbytes_cuda111.so...\n"
     ]
    },
    {
     "name": "stderr",
     "output_type": "stream",
     "text": [
      "WARNING: The following directories listed in your path were found to be non-existent: {PosixPath('/cvmfs/ai.mila.quebec/apps/x86_64/common/cudnn/11.1-v8.1/lib64'), PosixPath('/cvmfs/ai.mila.quebec/apps/x86_64/common/cudnn/11.1-v8.1/lib')}\n"
     ]
    }
   ],
   "source": [
    "assert \"SENTINEL\" not in locals(), \"Kernel did not actually restart.\"\n",
    "SENTINEL = \"whatever\"\n",
    "\n",
    "import re\n",
    "import sys\n",
    "import torch\n",
    "import transformers\n",
    "import rich\n",
    "\n",
    "sys.path.append(\"..\")\n",
    "import general_utils as utils # type: ignore\n",
    "\n",
    "DEVICE = \"cuda\"\n",
    "\n",
    "model_name = \"distilgpt2\"\n",
    "model = transformers.AutoModelForCausalLM.from_pretrained(model_name).to(DEVICE)"
   ]
  },
  {
   "cell_type": "code",
   "execution_count": 5,
   "metadata": {},
   "outputs": [
    {
     "name": "stderr",
     "output_type": "stream",
     "text": [
      "Using pad_token, but it is not set yet.\n"
     ]
    }
   ],
   "source": [
    "def setup_tokenizer(model_name, model):\n",
    "    tokenizer = transformers.AutoTokenizer.from_pretrained(model_name)\n",
    "    utils.setattr_must_exist(tokenizer, \"padding_side\", \"left\")\n",
    "    utils.setattr_must_exist(tokenizer, \"pad_token\", tokenizer.eos_token)\n",
    "    utils.setattr_must_exist(model.config, \"pad_token_id\", model.config.eos_token_id)\n",
    "    return tokenizer\n",
    "\n",
    "\n",
    "tokenizer = setup_tokenizer(model_name, model)\n",
    "kwargs = dict(\n",
    "    constraints=None,\n",
    "    # use_cache=True,\n",
    "    repetition_penalty=None,\n",
    "    do_sample=False,\n",
    "    num_beams=1,\n",
    "    max_new_tokens=100,\n",
    "    min_length=0,\n",
    "    jules_verbose=True,\n",
    ")\n",
    "encoded = tokenizer([\n",
    "        \"Gorbachev is\", \n",
    "        \"Grab popcorn, and let's go\",\n",
    "    ], \n",
    "    return_tensors=\"pt\", \n",
    "    # add_special_tokens=False, \n",
    "    padding=True,\n",
    ")\n",
    "\n",
    "encoded_cuda = {k: v.to(DEVICE) for k, v in encoded.items()}\n",
    "\n"
   ]
  },
  {
   "cell_type": "code",
   "execution_count": 6,
   "metadata": {},
   "outputs": [
    {
     "name": "stdout",
     "output_type": "stream",
     "text": [
      "bos_token_id 50256\n",
      "eos_token_id 50256\n",
      "pad_token_id 50256\n",
      "unk_token_id 50256\n"
     ]
    }
   ],
   "source": [
    "torch.all(encoded_cuda[\"input_ids\"] < model.resize_token_embeddings().weight.shape[0])\n",
    "\n",
    "for k, v in {k: getattr(tokenizer, k) for k in dir(tokenizer) if \"token_id\" in k and getattr(tokenizer, k) is not None}.items():\n",
    "    print(k, v)"
   ]
  },
  {
   "cell_type": "code",
   "execution_count": 7,
   "metadata": {},
   "outputs": [
    {
     "data": {
      "text/html": [
       "<pre style=\"white-space:pre;overflow-x:auto;line-height:normal;font-family:Menlo,'DejaVu Sans Mono',consolas,'Courier New',monospace\"><span style=\"color: #800000; text-decoration-color: #800000; font-weight: bold\">Generate logits_processor</span>:\n",
       "<span style=\"font-weight: bold\">[]</span>\n",
       "</pre>\n"
      ],
      "text/plain": [
       "\u001b[1;31mGenerate logits_processor\u001b[0m:\n",
       "\u001b[1m[\u001b[0m\u001b[1m]\u001b[0m\n"
      ]
     },
     "metadata": {},
     "output_type": "display_data"
    },
    {
     "data": {
      "text/html": [
       "<pre style=\"white-space:pre;overflow-x:auto;line-height:normal;font-family:Menlo,'DejaVu Sans Mono',consolas,'Courier New',monospace\"><span style=\"color: #800000; text-decoration-color: #800000; font-weight: bold\">Generate stopping critieria</span>:\n",
       "<span style=\"font-weight: bold\">[&lt;</span><span style=\"color: #ff00ff; text-decoration-color: #ff00ff; font-weight: bold\">transformers.generation_stopping_criteria.MaxLengthCriteria</span><span style=\"color: #000000; text-decoration-color: #000000\"> object at </span><span style=\"color: #008080; text-decoration-color: #008080; font-weight: bold\">0x7efc38a6fcd0</span><span style=\"font-weight: bold\">&gt;]</span>\n",
       "</pre>\n"
      ],
      "text/plain": [
       "\u001b[1;31mGenerate stopping critieria\u001b[0m:\n",
       "\u001b[1m[\u001b[0m\u001b[1m<\u001b[0m\u001b[1;95mtransformers.generation_stopping_criteria.MaxLengthCriteria\u001b[0m\u001b[39m object at \u001b[0m\u001b[1;36m0x7efc38a6fcd0\u001b[0m\u001b[1m>\u001b[0m\u001b[1m]\u001b[0m\n"
      ]
     },
     "metadata": {},
     "output_type": "display_data"
    },
    {
     "data": {
      "text/html": [
       "<pre style=\"white-space:pre;overflow-x:auto;line-height:normal;font-family:Menlo,'DejaVu Sans Mono',consolas,'Courier New',monospace\"><span style=\"color: #808000; text-decoration-color: #808000; font-weight: bold\"> Doing greedy search</span>\n",
       "</pre>\n"
      ],
      "text/plain": [
       "\u001b[1;33m Doing greedy search\u001b[0m\n"
      ]
     },
     "metadata": {},
     "output_type": "display_data"
    },
    {
     "data": {
      "text/html": [
       "<pre style=\"white-space:pre;overflow-x:auto;line-height:normal;font-family:Menlo,'DejaVu Sans Mono',consolas,'Courier New',monospace\"><span style=\"font-weight: bold\">{</span>\n",
       "    <span style=\"color: #008000; text-decoration-color: #008000\">'input_ids'</span>: <span style=\"color: #800080; text-decoration-color: #800080; font-weight: bold\">tensor</span><span style=\"font-weight: bold\">([[</span><span style=\"color: #008080; text-decoration-color: #008080; font-weight: bold\">50256</span>, <span style=\"color: #008080; text-decoration-color: #008080; font-weight: bold\">50256</span>, <span style=\"color: #008080; text-decoration-color: #008080; font-weight: bold\">50256</span>,    <span style=\"color: #008080; text-decoration-color: #008080; font-weight: bold\">38</span>, <span style=\"color: #008080; text-decoration-color: #008080; font-weight: bold\">27688</span>, <span style=\"color: #008080; text-decoration-color: #008080; font-weight: bold\">42961</span>,   <span style=\"color: #008080; text-decoration-color: #008080; font-weight: bold\">318</span><span style=\"font-weight: bold\">]</span>,\n",
       "        <span style=\"font-weight: bold\">[</span><span style=\"color: #008080; text-decoration-color: #008080; font-weight: bold\">48400</span>, <span style=\"color: #008080; text-decoration-color: #008080; font-weight: bold\">38914</span>,    <span style=\"color: #008080; text-decoration-color: #008080; font-weight: bold\">11</span>,   <span style=\"color: #008080; text-decoration-color: #008080; font-weight: bold\">290</span>,  <span style=\"color: #008080; text-decoration-color: #008080; font-weight: bold\">1309</span>,   <span style=\"color: #008080; text-decoration-color: #008080; font-weight: bold\">338</span>,   <span style=\"color: #008080; text-decoration-color: #008080; font-weight: bold\">467</span><span style=\"font-weight: bold\">]]</span>, <span style=\"color: #808000; text-decoration-color: #808000\">device</span>=<span style=\"color: #008000; text-decoration-color: #008000\">'cuda:0'</span><span style=\"font-weight: bold\">)</span>,\n",
       "    <span style=\"color: #008000; text-decoration-color: #008000\">'logits_processor'</span>: <span style=\"font-weight: bold\">[]</span>,\n",
       "    <span style=\"color: #008000; text-decoration-color: #008000\">'stopping_criteria'</span>: <span style=\"font-weight: bold\">[</span>\n",
       "        <span style=\"font-weight: bold\">&lt;</span><span style=\"color: #ff00ff; text-decoration-color: #ff00ff; font-weight: bold\">transformers.generation_stopping_criteria.MaxLengthCriteria</span><span style=\"color: #000000; text-decoration-color: #000000\"> object at </span>\n",
       "<span style=\"color: #008080; text-decoration-color: #008080; font-weight: bold\">0x7efc38a6fcd0</span><span style=\"font-weight: bold\">&gt;</span>\n",
       "    <span style=\"font-weight: bold\">]</span>,\n",
       "    <span style=\"color: #008000; text-decoration-color: #008000\">'pad_token_id'</span>: <span style=\"color: #008080; text-decoration-color: #008080; font-weight: bold\">50256</span>,\n",
       "    <span style=\"color: #008000; text-decoration-color: #008000\">'eos_token_id'</span>: <span style=\"color: #008080; text-decoration-color: #008080; font-weight: bold\">50256</span>,\n",
       "    <span style=\"color: #008000; text-decoration-color: #008000\">'output_scores'</span>: <span style=\"color: #ff0000; text-decoration-color: #ff0000; font-style: italic\">False</span>,\n",
       "    <span style=\"color: #008000; text-decoration-color: #008000\">'return_dict_in_generate'</span>: <span style=\"color: #ff0000; text-decoration-color: #ff0000; font-style: italic\">False</span>,\n",
       "    <span style=\"color: #008000; text-decoration-color: #008000\">'synced_gpus'</span>: <span style=\"color: #ff0000; text-decoration-color: #ff0000; font-style: italic\">False</span>,\n",
       "    <span style=\"color: #008000; text-decoration-color: #008000\">'attention_mask'</span>: <span style=\"color: #800080; text-decoration-color: #800080; font-weight: bold\">tensor</span><span style=\"font-weight: bold\">([[</span><span style=\"color: #008080; text-decoration-color: #008080; font-weight: bold\">0</span>, <span style=\"color: #008080; text-decoration-color: #008080; font-weight: bold\">0</span>, <span style=\"color: #008080; text-decoration-color: #008080; font-weight: bold\">0</span>, <span style=\"color: #008080; text-decoration-color: #008080; font-weight: bold\">1</span>, <span style=\"color: #008080; text-decoration-color: #008080; font-weight: bold\">1</span>, <span style=\"color: #008080; text-decoration-color: #008080; font-weight: bold\">1</span>, <span style=\"color: #008080; text-decoration-color: #008080; font-weight: bold\">1</span><span style=\"font-weight: bold\">]</span>,\n",
       "        <span style=\"font-weight: bold\">[</span><span style=\"color: #008080; text-decoration-color: #008080; font-weight: bold\">1</span>, <span style=\"color: #008080; text-decoration-color: #008080; font-weight: bold\">1</span>, <span style=\"color: #008080; text-decoration-color: #008080; font-weight: bold\">1</span>, <span style=\"color: #008080; text-decoration-color: #008080; font-weight: bold\">1</span>, <span style=\"color: #008080; text-decoration-color: #008080; font-weight: bold\">1</span>, <span style=\"color: #008080; text-decoration-color: #008080; font-weight: bold\">1</span>, <span style=\"color: #008080; text-decoration-color: #008080; font-weight: bold\">1</span><span style=\"font-weight: bold\">]]</span>, <span style=\"color: #808000; text-decoration-color: #808000\">device</span>=<span style=\"color: #008000; text-decoration-color: #008000\">'cuda:0'</span><span style=\"font-weight: bold\">)</span>,\n",
       "    <span style=\"color: #008000; text-decoration-color: #008000\">'output_attentions'</span>: <span style=\"color: #ff0000; text-decoration-color: #ff0000; font-style: italic\">False</span>,\n",
       "    <span style=\"color: #008000; text-decoration-color: #008000\">'output_hidden_states'</span>: <span style=\"color: #ff0000; text-decoration-color: #ff0000; font-style: italic\">False</span>,\n",
       "    <span style=\"color: #008000; text-decoration-color: #008000\">'use_cache'</span>: <span style=\"color: #800080; text-decoration-color: #800080; font-style: italic\">None</span>\n",
       "<span style=\"font-weight: bold\">}</span>\n",
       "</pre>\n"
      ],
      "text/plain": [
       "\u001b[1m{\u001b[0m\n",
       "    \u001b[32m'input_ids'\u001b[0m: \u001b[1;35mtensor\u001b[0m\u001b[1m(\u001b[0m\u001b[1m[\u001b[0m\u001b[1m[\u001b[0m\u001b[1;36m50256\u001b[0m, \u001b[1;36m50256\u001b[0m, \u001b[1;36m50256\u001b[0m,    \u001b[1;36m38\u001b[0m, \u001b[1;36m27688\u001b[0m, \u001b[1;36m42961\u001b[0m,   \u001b[1;36m318\u001b[0m\u001b[1m]\u001b[0m,\n",
       "        \u001b[1m[\u001b[0m\u001b[1;36m48400\u001b[0m, \u001b[1;36m38914\u001b[0m,    \u001b[1;36m11\u001b[0m,   \u001b[1;36m290\u001b[0m,  \u001b[1;36m1309\u001b[0m,   \u001b[1;36m338\u001b[0m,   \u001b[1;36m467\u001b[0m\u001b[1m]\u001b[0m\u001b[1m]\u001b[0m, \u001b[33mdevice\u001b[0m=\u001b[32m'cuda:0'\u001b[0m\u001b[1m)\u001b[0m,\n",
       "    \u001b[32m'logits_processor'\u001b[0m: \u001b[1m[\u001b[0m\u001b[1m]\u001b[0m,\n",
       "    \u001b[32m'stopping_criteria'\u001b[0m: \u001b[1m[\u001b[0m\n",
       "        \u001b[1m<\u001b[0m\u001b[1;95mtransformers.generation_stopping_criteria.MaxLengthCriteria\u001b[0m\u001b[39m object at \u001b[0m\n",
       "\u001b[1;36m0x7efc38a6fcd0\u001b[0m\u001b[1m>\u001b[0m\n",
       "    \u001b[1m]\u001b[0m,\n",
       "    \u001b[32m'pad_token_id'\u001b[0m: \u001b[1;36m50256\u001b[0m,\n",
       "    \u001b[32m'eos_token_id'\u001b[0m: \u001b[1;36m50256\u001b[0m,\n",
       "    \u001b[32m'output_scores'\u001b[0m: \u001b[3;91mFalse\u001b[0m,\n",
       "    \u001b[32m'return_dict_in_generate'\u001b[0m: \u001b[3;91mFalse\u001b[0m,\n",
       "    \u001b[32m'synced_gpus'\u001b[0m: \u001b[3;91mFalse\u001b[0m,\n",
       "    \u001b[32m'attention_mask'\u001b[0m: \u001b[1;35mtensor\u001b[0m\u001b[1m(\u001b[0m\u001b[1m[\u001b[0m\u001b[1m[\u001b[0m\u001b[1;36m0\u001b[0m, \u001b[1;36m0\u001b[0m, \u001b[1;36m0\u001b[0m, \u001b[1;36m1\u001b[0m, \u001b[1;36m1\u001b[0m, \u001b[1;36m1\u001b[0m, \u001b[1;36m1\u001b[0m\u001b[1m]\u001b[0m,\n",
       "        \u001b[1m[\u001b[0m\u001b[1;36m1\u001b[0m, \u001b[1;36m1\u001b[0m, \u001b[1;36m1\u001b[0m, \u001b[1;36m1\u001b[0m, \u001b[1;36m1\u001b[0m, \u001b[1;36m1\u001b[0m, \u001b[1;36m1\u001b[0m\u001b[1m]\u001b[0m\u001b[1m]\u001b[0m, \u001b[33mdevice\u001b[0m=\u001b[32m'cuda:0'\u001b[0m\u001b[1m)\u001b[0m,\n",
       "    \u001b[32m'output_attentions'\u001b[0m: \u001b[3;91mFalse\u001b[0m,\n",
       "    \u001b[32m'output_hidden_states'\u001b[0m: \u001b[3;91mFalse\u001b[0m,\n",
       "    \u001b[32m'use_cache'\u001b[0m: \u001b[3;35mNone\u001b[0m\n",
       "\u001b[1m}\u001b[0m\n"
      ]
     },
     "metadata": {},
     "output_type": "display_data"
    },
    {
     "name": "stdout",
     "output_type": "stream",
     "text": [
      "torch.Size([107])\n"
     ]
    },
    {
     "data": {
      "text/html": [
       "<pre style=\"white-space:pre;overflow-x:auto;line-height:normal;font-family:Menlo,'DejaVu Sans Mono',consolas,'Courier New',monospace\"><span style=\"font-weight: bold\">&lt;</span><span style=\"color: #000000; text-decoration-color: #000000\">|endoftext|</span><span style=\"font-weight: bold\">&gt;&lt;</span><span style=\"color: #000000; text-decoration-color: #000000\">|endoftext|</span><span style=\"font-weight: bold\">&gt;&lt;</span><span style=\"color: #000000; text-decoration-color: #000000\">|endoftext|</span><span style=\"font-weight: bold\">&gt;</span>Gorbachev is a former Soviet Union member of the \n",
       "Soviet Union. He was a member of the Soviet Union's Soviet Union's Soviet Union's Soviet \n",
       "Union's Soviet Union's Soviet Union's Soviet Union's Soviet Union's Soviet Union's Soviet \n",
       "Union's Soviet Union's Soviet Union's Soviet Union's Soviet Union's Soviet Union's Soviet \n",
       "Union's Soviet Union's Soviet Union's Soviet Union's Soviet Union's Soviet Union's Soviet \n",
       "Union's Soviet Union's Soviet Union's Soviet Union's Soviet Union's Soviet Union's Soviet \n",
       "Union's\n",
       "</pre>\n"
      ],
      "text/plain": [
       "\u001b[1m<\u001b[0m\u001b[39m|endoftext|\u001b[0m\u001b[1m>\u001b[0m\u001b[1m<\u001b[0m\u001b[39m|endoftext|\u001b[0m\u001b[1m>\u001b[0m\u001b[1m<\u001b[0m\u001b[39m|endoftext|\u001b[0m\u001b[1m>\u001b[0mGorbachev is a former Soviet Union member of the \n",
       "Soviet Union. He was a member of the Soviet Union's Soviet Union's Soviet Union's Soviet \n",
       "Union's Soviet Union's Soviet Union's Soviet Union's Soviet Union's Soviet Union's Soviet \n",
       "Union's Soviet Union's Soviet Union's Soviet Union's Soviet Union's Soviet Union's Soviet \n",
       "Union's Soviet Union's Soviet Union's Soviet Union's Soviet Union's Soviet Union's Soviet \n",
       "Union's Soviet Union's Soviet Union's Soviet Union's Soviet Union's Soviet Union's Soviet \n",
       "Union's\n"
      ]
     },
     "metadata": {},
     "output_type": "display_data"
    },
    {
     "name": "stdout",
     "output_type": "stream",
     "text": [
      "torch.Size([107])\n"
     ]
    },
    {
     "data": {
      "text/html": [
       "<pre style=\"white-space:pre;overflow-x:auto;line-height:normal;font-family:Menlo,'DejaVu Sans Mono',consolas,'Courier New',monospace\">Grab popcorn, and let's go!\n",
       "</pre>\n"
      ],
      "text/plain": [
       "Grab popcorn, and let's go!\n"
      ]
     },
     "metadata": {},
     "output_type": "display_data"
    }
   ],
   "source": [
    "\n",
    "outputs = model.generate(\n",
    "    inputs=encoded_cuda[\"input_ids\"], \n",
    "    attention_mask=encoded_cuda[\"attention_mask\"], \n",
    "    **kwargs\n",
    ")\n",
    "\n",
    "for output in outputs:\n",
    "    decoded = tokenizer.decode(output).strip()\n",
    "    cleaned = re.sub(r\"\\s+\", \" \", decoded)\n",
    "    print(output.shape)\n",
    "    rich.print(cleaned)"
   ]
  },
  {
   "cell_type": "code",
   "execution_count": null,
   "metadata": {},
   "outputs": [],
   "source": []
  }
 ],
 "metadata": {
  "kernelspec": {
   "display_name": "Python 3.9.5 64-bit",
   "language": "python",
   "name": "python3"
  },
  "language_info": {
   "codemirror_mode": {
    "name": "ipython",
    "version": 3
   },
   "file_extension": ".py",
   "mimetype": "text/x-python",
   "name": "python",
   "nbconvert_exporter": "python",
   "pygments_lexer": "ipython3",
   "version": "3.9.5"
  },
  "orig_nbformat": 4,
  "vscode": {
   "interpreter": {
    "hash": "46daadc73974f0324ecc1592e5131128499dc93a3a1cbadf14a4773500af3ac4"
   }
  }
 },
 "nbformat": 4,
 "nbformat_minor": 2
}
