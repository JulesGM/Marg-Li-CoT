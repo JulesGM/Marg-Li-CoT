{
 "cells": [
  {
   "cell_type": "code",
   "execution_count": 1,
   "id": "012a1648-8157-465b-a130-6ed7b7642d61",
   "metadata": {},
   "outputs": [],
   "source": [
    "import os\n",
    "import json\n",
    "import openai\n",
    "\n",
    "from urllib import response"
   ]
  },
  {
   "cell_type": "code",
   "execution_count": 2,
   "id": "2b7369e0-02f7-4dfa-b443-4ba5eb24238f",
   "metadata": {},
   "outputs": [],
   "source": [
    "openai.api_key = os.getenv(\"OPENAI_API_KEY\")"
   ]
  },
  {
   "cell_type": "code",
   "execution_count": 3,
   "id": "48cf69ed-89b5-4d17-8ced-94bc70ae2d4b",
   "metadata": {},
   "outputs": [],
   "source": [
    "def generate_with_gpt3(prompt, max_tokens=100, temperature=1.0, top_p=1.0, num_return_sequences=1):\n",
    "    responses = openai.Completion.create(\n",
    "        engine=\"text-davinci-002\",\n",
    "        prompt=prompt,\n",
    "        suffix=None,\n",
    "        max_tokens=max_tokens,\n",
    "        temperature=temperature,\n",
    "        logprobs=None,\n",
    "        top_p=top_p,\n",
    "        n=num_return_sequences,\n",
    "    )[\"choices\"]\n",
    "    \n",
    "    return [r[\"text\"] for r in responses]"
   ]
  },
  {
   "cell_type": "code",
   "execution_count": 4,
   "id": "cdf2bb73-524e-437e-a3cc-24676345b269",
   "metadata": {},
   "outputs": [
    {
     "data": {
      "text/plain": [
       "['\\n\\n42', '\\n\\n42', '\\n\\n42']"
      ]
     },
     "execution_count": 4,
     "metadata": {},
     "output_type": "execute_result"
    }
   ],
   "source": [
    "generate_with_gpt3(\"Quick question: What is six times seven?\", temperature=0.9, num_return_sequences=3)"
   ]
  },
  {
   "cell_type": "markdown",
   "id": "a123d489-8f58-4873-a78b-9d5676bb023f",
   "metadata": {},
   "source": [
    "#### Load GSM8K"
   ]
  },
  {
   "cell_type": "code",
   "execution_count": 5,
   "id": "108a9d23-603b-4ff5-aa29-906516c61dc6",
   "metadata": {},
   "outputs": [],
   "source": [
    "SCRATCH = os.environ['SCRATCH']"
   ]
  },
  {
   "cell_type": "code",
   "execution_count": 6,
   "id": "9294c24d-07ca-4a91-8947-9f3d0ee4855e",
   "metadata": {},
   "outputs": [],
   "source": [
    "data_path = os.path.join(SCRATCH, 'grade-school-math/grade_school_math/data/train.jsonl')"
   ]
  },
  {
   "cell_type": "code",
   "execution_count": 7,
   "id": "19533938-4e31-493b-8af5-e4e44a106e4e",
   "metadata": {},
   "outputs": [],
   "source": [
    "train, test = [], []\n",
    "\n",
    "with open(data_path, 'r') as f:\n",
    "    for line in f:\n",
    "        train.append(json.loads(line.strip()))"
   ]
  },
  {
   "cell_type": "code",
   "execution_count": 8,
   "id": "7b78ac00-8838-4eba-b990-e92bce6b7187",
   "metadata": {},
   "outputs": [
    {
     "data": {
      "text/plain": [
       "[{'question': 'Natalia sold clips to 48 of her friends in April, and then she sold half as many clips in May. How many clips did Natalia sell altogether in April and May?',\n",
       "  'answer': 'Natalia sold 48/2 = <<48/2=24>>24 clips in May.\\nNatalia sold 48+24 = <<48+24=72>>72 clips altogether in April and May.\\n#### 72'},\n",
       " {'question': 'Weng earns $12 an hour for babysitting. Yesterday, she just did 50 minutes of babysitting. How much did she earn?',\n",
       "  'answer': 'Weng earns 12/60 = $<<12/60=0.2>>0.2 per minute.\\nWorking 50 minutes, she earned 0.2 x 50 = $<<0.2*50=10>>10.\\n#### 10'},\n",
       " {'question': 'Betty is saving money for a new wallet which costs $100. Betty has only half of the money she needs. Her parents decided to give her $15 for that purpose, and her grandparents twice as much as her parents. How much more money does Betty need to buy the wallet?',\n",
       "  'answer': \"In the beginning, Betty has only 100 / 2 = $<<100/2=50>>50.\\nBetty's grandparents gave her 15 * 2 = $<<15*2=30>>30.\\nThis means, Betty needs 100 - 50 - 30 - 15 = $<<100-50-30-15=5>>5 more.\\n#### 5\"}]"
      ]
     },
     "execution_count": 8,
     "metadata": {},
     "output_type": "execute_result"
    }
   ],
   "source": [
    "train[:3]"
   ]
  },
  {
   "cell_type": "markdown",
   "id": "990ab159-2bf3-4cb8-bf31-1bbdba3bf897",
   "metadata": {},
   "source": [
    "#### Few-shot Examples"
   ]
  },
  {
   "cell_type": "code",
   "execution_count": 9,
   "id": "1c7b9234-c43b-442b-8e19-de3b41566c56",
   "metadata": {},
   "outputs": [],
   "source": [
    "FEW_SHOT_EXAMPLES = [\n",
    "    {\"Q\": \"There are 15 trees in the grove. Grove workers will plant trees in the grove today. After they are done, there will be 21 trees. How many trees did the grove workers plant today?\",\n",
    "     \"S\": \"There are 15 trees originally. Then there were 21 trees after some more were planted. So there must have been 21 - 15 = 6.\",\n",
    "     \"A\": \"The answer is 6.\"},\n",
    "    {\"Q\": \"If there are 3 cars in the parking lot and 2 more cars arrive, how many cars are in the parking lot?\",\n",
    "     \"S\": \"There are originally 3 cars. 2 more cars arrive. 3 + 2 = 5.\",\n",
    "     \"A\": \"The answer is 5.\"},\n",
    "    {\"Q\": \"Leah had 32 chocolates and her sister had 42. If they ate 35, how many pieces do they have left in total?\",\n",
    "     \"S\": \"Originally, Leah had 32 chocolates. Her sister had 42. So in total they had 32 + 42 = 74. After eating 35, they had 74 - 35 = 39.\",\n",
    "     \"A\": \"The answer is 39.\"},\n",
    "    {\"Q\": \"Jason had 20 lollipops. He gave Denny some lollipops. Now Jason has 12 lollipops. How many lollipops did Jason give to Denny?\",\n",
    "     \"S\": \"Jason started with 20 lollipops. Then he had 12 after giving some to Denny. So he gave Denny 20 - 12 = 8.\",\n",
    "     \"A\": \"The answer is 8.\"},\n",
    "    {\"Q\": \"Shawn has five toys. For Christmas, he got two toys each from his mom and dad. How many toys does he have now?\",\n",
    "     \"S\": \"Shawn started with 5 toys. If he got 2 toys each from his mom and dad, then that is 4 more toys. 5 + 4 = 9.\",\n",
    "     \"A\": \"The answer is 9.\"},\n",
    "    {\"Q\": \"There were nine computers in the server room. Five more computers were installed each day, from monday to thursday. How many computers are now in the server room?\",\n",
    "     \"S\": \"There were originally 9 computers. For each of 4 days, 5 more computers were added. So 5 * 4 = 20 computers were added. 9 + 20 is 29.\",\n",
    "     \"A\": \"The answer is 29.\"},\n",
    "    {\"Q\": \"Michael had 58 golf balls. On tuesday, he lost 23 golf balls. On wednesday, he lost 2 more. How many golf balls did he have at the end of wednesday?\",\n",
    "     \"S\": \"Michael started with 58 golf balls. After losing 23 on tuesday, he had 58 - 23 = 35. After losing 2 more, he had 35 - 2 = 33 golf balls.\",\n",
    "     \"A\": \"The answer is 33.\"},\n",
    "    {\"Q\": \"Olivia has $23. She bought five bagels for $3 each. How much money does she have left?\",\n",
    "     \"S\": \"Olivia had 23 dollars. 5 bagels for 3 dollars each will be 5 x 3 = 15 dollars. So she has 23 - 15 dollars left. 23 - 15 is 8.\",\n",
    "     \"A\": \"The answer is 8.\"}\n",
    "]"
   ]
  },
  {
   "cell_type": "code",
   "execution_count": 10,
   "id": "2ab37be9-08d7-4fc9-9e27-ccd558cf4f8c",
   "metadata": {},
   "outputs": [],
   "source": [
    "def build_prompt_with_few_shot_examples(question, n_shot=5):\n",
    "    # creat context\n",
    "    examples = [\"Question: {}\\nAnswer: {}\".format(e[\"Q\"], \" \".join([e[\"S\"], e[\"A\"]])) for e in FEW_SHOT_EXAMPLES[:n_shot]]\n",
    "    context = \"\\n\\n\".join(examples)\n",
    "    \n",
    "    return \"\\n\\n\".join([context, \"Question: {}\\nAnswer:\".format(question)])"
   ]
  },
  {
   "cell_type": "code",
   "execution_count": 11,
   "id": "16a68e27-5795-47d8-9359-35e7a5ca99dc",
   "metadata": {},
   "outputs": [
    {
     "name": "stdout",
     "output_type": "stream",
     "text": [
      "Question: There are 15 trees in the grove. Grove workers will plant trees in the grove today. After they are done, there will be 21 trees. How many trees did the grove workers plant today?\n",
      "Answer: There are 15 trees originally. Then there were 21 trees after some more were planted. So there must have been 21 - 15 = 6. The answer is 6.\n",
      "\n",
      "Question: If there are 3 cars in the parking lot and 2 more cars arrive, how many cars are in the parking lot?\n",
      "Answer: There are originally 3 cars. 2 more cars arrive. 3 + 2 = 5. The answer is 5.\n",
      "\n",
      "Question: Leah had 32 chocolates and her sister had 42. If they ate 35, how many pieces do they have left in total?\n",
      "Answer: Originally, Leah had 32 chocolates. Her sister had 42. So in total they had 32 + 42 = 74. After eating 35, they had 74 - 35 = 39. The answer is 39.\n",
      "\n",
      "Question: Jason had 20 lollipops. He gave Denny some lollipops. Now Jason has 12 lollipops. How many lollipops did Jason give to Denny?\n",
      "Answer: Jason started with 20 lollipops. Then he had 12 after giving some to Denny. So he gave Denny 20 - 12 = 8. The answer is 8.\n",
      "\n",
      "Question: Shawn has five toys. For Christmas, he got two toys each from his mom and dad. How many toys does he have now?\n",
      "Answer: Shawn started with 5 toys. If he got 2 toys each from his mom and dad, then that is 4 more toys. 5 + 4 = 9. The answer is 9.\n",
      "\n",
      "Question: Weng earns $12 an hour for babysitting. Yesterday, she just did 50 minutes of babysitting. How much did she earn?\n",
      "Answer:\n"
     ]
    }
   ],
   "source": [
    "question = \"\"\"\\\n",
    "Weng earns $12 an hour for babysitting. \\\n",
    "Yesterday, she just did 50 minutes of babysitting. How much did she earn?\"\"\"\n",
    "\n",
    "print(build_prompt_with_few_shot_examples(question))"
   ]
  },
  {
   "cell_type": "code",
   "execution_count": 12,
   "id": "5f953ce2-823b-48d5-873d-56d0b77637bf",
   "metadata": {},
   "outputs": [
    {
     "data": {
      "text/plain": [
       "[' Weng earns $12 an hour. She worked for 50 minutes. So she earned 50 minutes * $12 per hour = $12 * (50/60) = $10. The answer is $10.',\n",
       " ' Weng earns $12 an hour. She babysat for 50 minutes. So she earned 50/60 * 12 = 10. The answer is 10.',\n",
       " ' Weng earns $12 per hour. In 50 minutes, she would have earned $12 * (50/60) = $10. The answer is $10.',\n",
       " ' Weng earns $12 an hour. She babysat for 50 minutes yesterday. So she earned $12 * (50/60) = $10. The answer is $10.',\n",
       " ' She earns $12 an hour. So for 50 minutes, she would earn 12 * 0.83 = $9.96. The answer is $9.96.',\n",
       " ' Weng was paid $12 for every hour she babysat. She only did 50 minutes, so she would be paid for one hour. $12 x 1 = $12. The answer is $12.',\n",
       " ' If Weng earns $12 an hour, then she must have earned $12 for 50 minutes of babysitting. 50 minutes is 0.83 hours. So she earned $12 * 0.83 = $9.96. The answer is $9.96.',\n",
       " ' Weng earns $12 an hour. In 50 minutes, she would have earned $12 * (50/60) = $10. So the answer is $10.',\n",
       " ' Weng earns $12 per hour. In 50 minutes, she would have earned $12 * (50/60) = $10. The answer is $10.',\n",
       " ' Weng earns $12 an hour for babysitting. So for 50 minutes, she earned $12 * (50/60) = $10. The answer is $10.']"
      ]
     },
     "execution_count": 12,
     "metadata": {},
     "output_type": "execute_result"
    }
   ],
   "source": [
    "generate_with_gpt3(build_prompt_with_few_shot_examples(question), temperature=0.95, num_return_sequences=10)"
   ]
  },
  {
   "cell_type": "markdown",
   "id": "1ac3a1f0-f2f2-45da-9e15-a45e9d0523ac",
   "metadata": {},
   "source": [
    "#### Generate Scratchpads"
   ]
  },
  {
   "cell_type": "code",
   "execution_count": null,
   "id": "63f980f2-90a3-42d4-b43c-2886b2520dd6",
   "metadata": {},
   "outputs": [],
   "source": []
  }
 ],
 "metadata": {
  "kernelspec": {
   "display_name": "Python 3 (ipykernel)",
   "language": "python",
   "name": "python3"
  },
  "language_info": {
   "codemirror_mode": {
    "name": "ipython",
    "version": 3
   },
   "file_extension": ".py",
   "mimetype": "text/x-python",
   "name": "python",
   "nbconvert_exporter": "python",
   "pygments_lexer": "ipython3",
   "version": "3.8.2"
  }
 },
 "nbformat": 4,
 "nbformat_minor": 5
}
