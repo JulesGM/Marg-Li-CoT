{
 "cells": [
  {
   "cell_type": "code",
   "execution_count": 1,
   "id": "012a1648-8157-465b-a130-6ed7b7642d61",
   "metadata": {},
   "outputs": [],
   "source": [
    "import os\n",
    "import json\n",
    "import openai\n",
    "\n",
    "from urllib import response"
   ]
  },
  {
   "cell_type": "code",
   "execution_count": 2,
   "id": "2b7369e0-02f7-4dfa-b443-4ba5eb24238f",
   "metadata": {},
   "outputs": [],
   "source": [
    "openai.api_key = os.getenv(\"OPENAI_API_KEY\")"
   ]
  },
  {
   "cell_type": "code",
   "execution_count": 3,
   "id": "48cf69ed-89b5-4d17-8ced-94bc70ae2d4b",
   "metadata": {},
   "outputs": [],
   "source": [
    "def generate_with_gpt3(prompt, max_tokens=100, temperature=1.0, top_p=1.0, num_return_sequences=1):\n",
    "    responses = openai.Completion.create(\n",
    "        engine=\"text-davinci-002\",\n",
    "        prompt=prompt,\n",
    "        suffix=None,\n",
    "        max_tokens=max_tokens,\n",
    "        temperature=temperature,\n",
    "        logprobs=None,\n",
    "        top_p=top_p,\n",
    "        n=num_return_sequences,\n",
    "    )[\"choices\"]\n",
    "    \n",
    "    return [r[\"text\"] for r in responses]"
   ]
  },
  {
   "cell_type": "code",
   "execution_count": 4,
   "id": "cdf2bb73-524e-437e-a3cc-24676345b269",
   "metadata": {},
   "outputs": [
    {
     "data": {
      "text/plain": [
       "['\\n\\n42', '\\n\\n42', '\\n\\n42']"
      ]
     },
     "execution_count": 4,
     "metadata": {},
     "output_type": "execute_result"
    }
   ],
   "source": [
    "generate_with_gpt3(\"Quick question: What is six times seven?\", temperature=0.9, num_return_sequences=3)"
   ]
  },
  {
   "cell_type": "markdown",
   "id": "a123d489-8f58-4873-a78b-9d5676bb023f",
   "metadata": {},
   "source": [
    "#### Load GSM8K"
   ]
  },
  {
   "cell_type": "code",
   "execution_count": 5,
   "id": "108a9d23-603b-4ff5-aa29-906516c61dc6",
   "metadata": {},
   "outputs": [],
   "source": [
    "SCRATCH = os.environ['SCRATCH']"
   ]
  },
  {
   "cell_type": "code",
   "execution_count": 16,
   "id": "9294c24d-07ca-4a91-8947-9f3d0ee4855e",
   "metadata": {},
   "outputs": [],
   "source": [
    "train_path = os.path.join(SCRATCH, 'grade-school-math/grade_school_math/data/train.jsonl')\n",
    "test_path = os.path.join(SCRATCH, 'grade-school-math/grade_school_math/data/test.jsonl')"
   ]
  },
  {
   "cell_type": "code",
   "execution_count": 17,
   "id": "19533938-4e31-493b-8af5-e4e44a106e4e",
   "metadata": {},
   "outputs": [],
   "source": [
    "def read_jsonl(data_path):\n",
    "    with open(data_path, 'r') as f:\n",
    "        return [json.loads(line.strip()) for line in f]\n",
    "\n",
    "train, test = read_jsonl(train_path), read_jsonl(test_path)"
   ]
  },
  {
   "cell_type": "code",
   "execution_count": 22,
   "id": "642202e4-7305-4771-bfda-00a5c784b34b",
   "metadata": {},
   "outputs": [
    {
     "name": "stdout",
     "output_type": "stream",
     "text": [
      "- train:  7473\n",
      "- test:  1319\n"
     ]
    }
   ],
   "source": [
    "print('- train: ', len(train))\n",
    "print('- test: ', len(test))"
   ]
  },
  {
   "cell_type": "code",
   "execution_count": 29,
   "id": "7b78ac00-8838-4eba-b990-e92bce6b7187",
   "metadata": {},
   "outputs": [
    {
     "data": {
      "text/plain": [
       "[{'question': 'Natalia sold clips to 48 of her friends in April, and then she sold half as many clips in May. How many clips did Natalia sell altogether in April and May?',\n",
       "  'answer': 'Natalia sold 48/2 = <<48/2=24>>24 clips in May.\\nNatalia sold 48+24 = <<48+24=72>>72 clips altogether in April and May.\\n#### 72'},\n",
       " {'question': 'Weng earns $12 an hour for babysitting. Yesterday, she just did 50 minutes of babysitting. How much did she earn?',\n",
       "  'answer': 'Weng earns 12/60 = $<<12/60=0.2>>0.2 per minute.\\nWorking 50 minutes, she earned 0.2 x 50 = $<<0.2*50=10>>10.\\n#### 10'},\n",
       " {'question': 'Betty is saving money for a new wallet which costs $100. Betty has only half of the money she needs. Her parents decided to give her $15 for that purpose, and her grandparents twice as much as her parents. How much more money does Betty need to buy the wallet?',\n",
       "  'answer': \"In the beginning, Betty has only 100 / 2 = $<<100/2=50>>50.\\nBetty's grandparents gave her 15 * 2 = $<<15*2=30>>30.\\nThis means, Betty needs 100 - 50 - 30 - 15 = $<<100-50-30-15=5>>5 more.\\n#### 5\"},\n",
       " {'question': 'Julie is reading a 120-page book. Yesterday, she was able to read 12 pages and today, she read twice as many pages as yesterday. If she wants to read half of the remaining pages tomorrow, how many pages should she read?',\n",
       "  'answer': 'Maila read 12 x 2 = <<12*2=24>>24 pages today.\\nSo she was able to read a total of 12 + 24 = <<12+24=36>>36 pages since yesterday.\\nThere are 120 - 36 = <<120-36=84>>84 pages left to be read.\\nSince she wants to read half of the remaining pages tomorrow, then she should read 84/2 = <<84/2=42>>42 pages.\\n#### 42'},\n",
       " {'question': 'James writes a 3-page letter to 2 different friends twice a week.  How many pages does he write a year?',\n",
       "  'answer': 'He writes each friend 3*2=<<3*2=6>>6 pages a week\\nSo he writes 6*2=<<6*2=12>>12 pages every week\\nThat means he writes 12*52=<<12*52=624>>624 pages a year\\n#### 624'},\n",
       " {'question': 'Mark has a garden with flowers. He planted plants of three different colors in it. Ten of them are yellow, and there are 80% more of those in purple. There are only 25% as many green flowers as there are yellow and purple flowers. How many flowers does Mark have in his garden?',\n",
       "  'answer': \"There are 80/100 * 10 = <<80/100*10=8>>8 more purple flowers than yellow flowers.\\nSo in Mark's garden, there are 10 + 8 = <<10+8=18>>18 purple flowers.\\nPurple and yellow flowers sum up to 10 + 18 = <<10+18=28>>28 flowers.\\nThat means in Mark's garden there are 25/100 * 28 = <<25/100*28=7>>7 green flowers.\\nSo in total Mark has 28 + 7 = <<28+7=35>>35 plants in his garden.\\n#### 35\"},\n",
       " {'question': 'Albert is wondering how much pizza he can eat in one day. He buys 2 large pizzas and 2 small pizzas. A large pizza has 16 slices and a small pizza has 8 slices. If he eats it all, how many pieces does he eat that day?',\n",
       "  'answer': 'He eats 32 from the largest pizzas because 2 x 16 = <<2*16=32>>32\\nHe eats 16 from the small pizza because 2 x 8 = <<2*8=16>>16\\nHe eats 48 pieces because 32 + 16 = <<32+16=48>>48\\n#### 48'},\n",
       " {'question': 'Ken created a care package to send to his brother, who was away at boarding school.  Ken placed a box on a scale, and then he poured into the box enough jelly beans to bring the weight to 2 pounds.  Then, he added enough brownies to cause the weight to triple.  Next, he added another 2 pounds of jelly beans.  And finally, he added enough gummy worms to double the weight once again.  What was the final weight of the box of goodies, in pounds?',\n",
       "  'answer': 'To the initial 2 pounds of jelly beans, he added enough brownies to cause the weight to triple, bringing the weight to 2*3=<<2*3=6>>6 pounds.\\nNext, he added another 2 pounds of jelly beans, bringing the weight to 6+2=<<6+2=8>>8 pounds.\\nAnd finally, he added enough gummy worms to double the weight once again, to a final weight of 8*2=<<8*2=16>>16 pounds.\\n#### 16'},\n",
       " {'question': 'Alexis is applying for a new job and bought a new set of business clothes to wear to the interview. She went to a department store with a budget of $200 and spent $30 on a button-up shirt, $46 on suit pants, $38 on a suit coat, $11 on socks, and $18 on a belt. She also purchased a pair of shoes, but lost the receipt for them. She has $16 left from her budget. How much did Alexis pay for the shoes?',\n",
       "  'answer': 'Let S be the amount Alexis paid for the shoes.\\nShe spent S + 30 + 46 + 38 + 11 + 18 = S + <<+30+46+38+11+18=143>>143.\\nShe used all but $16 of her budget, so S + 143 = 200 - 16 = 184.\\nThus, Alexis paid S = 184 - 143 = $<<184-143=41>>41 for the shoes.\\n#### 41'},\n",
       " {'question': 'Tina makes $18.00 an hour.  If she works more than 8 hours per shift, she is eligible for overtime, which is paid by your hourly wage + 1/2 your hourly wage.  If she works 10 hours every day for 5 days, how much money does she make?',\n",
       "  'answer': 'She works 8 hours a day for $18 per hour so she makes 8*18 = $<<8*18=144.00>>144.00 per 8-hour shift\\nShe works 10 hours a day and anything over 8 hours is eligible for overtime, so she gets 10-8 = <<10-8=2>>2 hours of overtime\\nOvertime is calculated as time and a half so and she makes $18/hour so her overtime pay is 18*.5 = $<<18*.5=9.00>>9.00\\nHer overtime pay is 18+9 = $<<18+9=27.00>>27.00\\nHer base pay is $144.00 per 8-hour shift and she works 5 days and makes 5 * $144 = $<<144*5=720.00>>720.00\\nHer overtime pay is $27.00 per hour and she works 2 hours of overtime per day and makes 27*2 = $<<27*2=54.00>>54.00 in overtime pay\\n2 hours of overtime pay for 5 days means she makes 54*5 = $270.00\\nIn 5 days her base pay is $720.00 and she makes $270.00 in overtime pay so she makes $720 + $270 = $<<720+270=990.00>>990.00\\n#### 990'}]"
      ]
     },
     "execution_count": 29,
     "metadata": {},
     "output_type": "execute_result"
    }
   ],
   "source": [
    "train[:10]"
   ]
  },
  {
   "cell_type": "markdown",
   "id": "990ab159-2bf3-4cb8-bf31-1bbdba3bf897",
   "metadata": {},
   "source": [
    "#### Few-shot Examples"
   ]
  },
  {
   "cell_type": "code",
   "execution_count": 24,
   "id": "e33dad86-fd33-4e8e-8a87-a408c51fe330",
   "metadata": {},
   "outputs": [],
   "source": [
    "import re"
   ]
  },
  {
   "cell_type": "code",
   "execution_count": 25,
   "id": "1c7b9234-c43b-442b-8e19-de3b41566c56",
   "metadata": {},
   "outputs": [],
   "source": [
    "FEW_SHOT_EXAMPLES = [\n",
    "    {\"Q\": \"There are 15 trees in the grove. Grove workers will plant trees in the grove today. After they are done, there will be 21 trees. How many trees did the grove workers plant today?\",\n",
    "     \"S\": \"There are 15 trees originally. Then there were 21 trees after some more were planted. So there must have been 21 - 15 = 6.\",\n",
    "     \"A\": \"The answer is 6.\"},\n",
    "    {\"Q\": \"If there are 3 cars in the parking lot and 2 more cars arrive, how many cars are in the parking lot?\",\n",
    "     \"S\": \"There are originally 3 cars. 2 more cars arrive. 3 + 2 = 5.\",\n",
    "     \"A\": \"The answer is 5.\"},\n",
    "    {\"Q\": \"Leah had 32 chocolates and her sister had 42. If they ate 35, how many pieces do they have left in total?\",\n",
    "     \"S\": \"Originally, Leah had 32 chocolates. Her sister had 42. So in total they had 32 + 42 = 74. After eating 35, they had 74 - 35 = 39.\",\n",
    "     \"A\": \"The answer is 39.\"},\n",
    "    {\"Q\": \"Jason had 20 lollipops. He gave Denny some lollipops. Now Jason has 12 lollipops. How many lollipops did Jason give to Denny?\",\n",
    "     \"S\": \"Jason started with 20 lollipops. Then he had 12 after giving some to Denny. So he gave Denny 20 - 12 = 8.\",\n",
    "     \"A\": \"The answer is 8.\"},\n",
    "    {\"Q\": \"Shawn has five toys. For Christmas, he got two toys each from his mom and dad. How many toys does he have now?\",\n",
    "     \"S\": \"Shawn started with 5 toys. If he got 2 toys each from his mom and dad, then that is 4 more toys. 5 + 4 = 9.\",\n",
    "     \"A\": \"The answer is 9.\"},\n",
    "    {\"Q\": \"There were nine computers in the server room. Five more computers were installed each day, from monday to thursday. How many computers are now in the server room?\",\n",
    "     \"S\": \"There were originally 9 computers. For each of 4 days, 5 more computers were added. So 5 * 4 = 20 computers were added. 9 + 20 is 29.\",\n",
    "     \"A\": \"The answer is 29.\"},\n",
    "    {\"Q\": \"Michael had 58 golf balls. On tuesday, he lost 23 golf balls. On wednesday, he lost 2 more. How many golf balls did he have at the end of wednesday?\",\n",
    "     \"S\": \"Michael started with 58 golf balls. After losing 23 on tuesday, he had 58 - 23 = 35. After losing 2 more, he had 35 - 2 = 33 golf balls.\",\n",
    "     \"A\": \"The answer is 33.\"},\n",
    "    {\"Q\": \"Olivia has $23. She bought five bagels for $3 each. How much money does she have left?\",\n",
    "     \"S\": \"Olivia had 23 dollars. 5 bagels for 3 dollars each will be 5 x 3 = 15 dollars. So she has 23 - 15 dollars left. 23 - 15 is 8.\",\n",
    "     \"A\": \"The answer is 8.\"}\n",
    "]"
   ]
  },
  {
   "cell_type": "code",
   "execution_count": 26,
   "id": "2ab37be9-08d7-4fc9-9e27-ccd558cf4f8c",
   "metadata": {},
   "outputs": [],
   "source": [
    "def build_prompt_with_few_shot_examples(question, n_shot=5):\n",
    "    assert n_shot <= len(FEW_SHOT_EXAMPLES)\n",
    "    if n_shot == 0:\n",
    "        return \"Question: {}\\nAnswer:\".format(question)\n",
    "    else:\n",
    "        examples = [\"Question: {}\\nAnswer: {}\".format(e[\"Q\"], \" \".join([e[\"S\"], e[\"A\"]])) for e in FEW_SHOT_EXAMPLES[:n_shot]]\n",
    "        context = \"\\n\\n\".join(examples)\n",
    "\n",
    "        return \"\\n\\n\".join([context, \"Question: {}\\nAnswer:\".format(question)])"
   ]
  },
  {
   "cell_type": "code",
   "execution_count": 34,
   "id": "16a68e27-5795-47d8-9359-35e7a5ca99dc",
   "metadata": {},
   "outputs": [
    {
     "name": "stdout",
     "output_type": "stream",
     "text": [
      "Question: There are 15 trees in the grove. Grove workers will plant trees in the grove today. After they are done, there will be 21 trees. How many trees did the grove workers plant today?\n",
      "Answer: There are 15 trees originally. Then there were 21 trees after some more were planted. So there must have been 21 - 15 = 6. The answer is 6.\n",
      "\n",
      "Question: If there are 3 cars in the parking lot and 2 more cars arrive, how many cars are in the parking lot?\n",
      "Answer: There are originally 3 cars. 2 more cars arrive. 3 + 2 = 5. The answer is 5.\n",
      "\n",
      "Question: Leah had 32 chocolates and her sister had 42. If they ate 35, how many pieces do they have left in total?\n",
      "Answer: Originally, Leah had 32 chocolates. Her sister had 42. So in total they had 32 + 42 = 74. After eating 35, they had 74 - 35 = 39. The answer is 39.\n",
      "\n",
      "Question: Jason had 20 lollipops. He gave Denny some lollipops. Now Jason has 12 lollipops. How many lollipops did Jason give to Denny?\n",
      "Answer: Jason started with 20 lollipops. Then he had 12 after giving some to Denny. So he gave Denny 20 - 12 = 8. The answer is 8.\n",
      "\n",
      "Question: Shawn has five toys. For Christmas, he got two toys each from his mom and dad. How many toys does he have now?\n",
      "Answer: Shawn started with 5 toys. If he got 2 toys each from his mom and dad, then that is 4 more toys. 5 + 4 = 9. The answer is 9.\n",
      "\n",
      "Question: There were nine computers in the server room. Five more computers were installed each day, from monday to thursday. How many computers are now in the server room?\n",
      "Answer: There were originally 9 computers. For each of 4 days, 5 more computers were added. So 5 * 4 = 20 computers were added. 9 + 20 is 29. The answer is 29.\n",
      "\n",
      "Question: Michael had 58 golf balls. On tuesday, he lost 23 golf balls. On wednesday, he lost 2 more. How many golf balls did he have at the end of wednesday?\n",
      "Answer: Michael started with 58 golf balls. After losing 23 on tuesday, he had 58 - 23 = 35. After losing 2 more, he had 35 - 2 = 33 golf balls. The answer is 33.\n",
      "\n",
      "Question: Olivia has $23. She bought five bagels for $3 each. How much money does she have left?\n",
      "Answer: Olivia had 23 dollars. 5 bagels for 3 dollars each will be 5 x 3 = 15 dollars. So she has 23 - 15 dollars left. 23 - 15 is 8. The answer is 8.\n",
      "\n",
      "Question: Albert is wondering how much pizza he can eat in one day. He buys 2 large pizzas and 2 small pizzas. A large pizza has 16 slices and a small pizza has 8 slices. If he eats it all, how many pieces does he eat that day?\n",
      "Answer:\n"
     ]
    }
   ],
   "source": [
    "question = \"\"\"Albert is wondering how much pizza he can eat in one day. He buys 2 large pizzas and 2 small pizzas. \\\n",
    "A large pizza has 16 slices and a small pizza has 8 slices. \\\n",
    "If he eats it all, how many pieces does he eat that day?\"\"\"  # Answer: 48\n",
    "\n",
    "print(build_prompt_with_few_shot_examples(question, n_shot=8))"
   ]
  },
  {
   "cell_type": "code",
   "execution_count": 35,
   "id": "5f953ce2-823b-48d5-873d-56d0b77637bf",
   "metadata": {},
   "outputs": [
    {
     "name": "stdout",
     "output_type": "stream",
     "text": [
      "1.  When Albert buys 2 large pizzas and 2 small pizzas, he buys 16 + 8 + 16 + 8 = 48 slices. So if he eats it all, he eats 48.\n",
      "\n",
      "2.  Albert has 2 large pizzas and 2 small pizzas. A large pizza has 16 slices and a small pizza has 8 slices. 2 large pizzas + 2 small pizzas = 16 + 8 + 16 + 8 = 48. The answer is 48.\n",
      "\n",
      "3.  Albert buy 2 large pizzas and 2 small pizzas. A large pizza has 16 slices and a small pizza has 8 slices. 2 large pizzas have 16 + 16 = 32 slices. 2 small pizzas have 8 + 8 = 16 slices. So in total Albert bought 32 + 16 = 48 slices. The answer is 48.\n",
      "\n",
      "4.  24\n",
      "\n",
      "5.  Albert buys 2 large pizzas and 2 small pizzas. A large pizza has 16 slices. A small pizza has 8 slices. So he has 2 * 16 + 2 * 8 = 48 slices. The answer is 48.\n",
      "\n",
      "6.  Albert buys 2 large pizzas and 2 small pizzas. A large pizza has 16 slices and a small pizza has 8 slices. So he has 16 + 8 + 16 + 8 = 48. The answer is 48.\n",
      "\n",
      "7.  If Albert buys 2 large pizzas and 2 small pizzas, then he has 16 + 8 + 16 + 8 = 48 slices. The answer is 48.\n",
      "\n",
      "8.  There are 16 slices in a large pizza and 8 slices in a small pizza. Albert buys 2 large pizzas and 2 small pizzas. So he has 2 x 16 + 2 x 8 = 48 slices. The answer is 48.\n",
      "\n",
      "9.  Albert eats 2 large pizzas and 2 small pizzas. A large pizza has 16 slices and a small pizza has 8 slices. So 2 large pizzas is 16 + 16 = 32 slices. And 2 small pizzas is 8 + 8 = 16 slices. So in total he eats 32 + 16 = 48 slices. The answer is 48.\n",
      "\n",
      "10.  Albert bought 2 large pizzas and 2 small pizzas. A large pizza has 16 slices and a small pizza has 8 slices. 2 large pizzas is 16 + 16 = 32 slices. 2 small pizzas is 8 + 8 = 16 slices. So in total Albert bought 32 + 16 = 48 slices. The answer is 48.\n",
      "\n",
      "11.  Albert buys 2 large pizzas and 2 small pizzas. A large pizza has 16 slices and a small pizza has 8 slices. So if he eats everything, he would have eaten 2 * 16 + 2 * 8 = 48. The answer is 48.\n",
      "\n",
      "12.  Albert originally bought 2 large pizzas and 2 small pizzas. A large pizza has 16 slices and a small pizza has 8 slices. So he bought 2 * 16 + 2 * 8 = 48 + 16 = 64. The answer is 64.\n",
      "\n",
      "13.  Albert bought 2 large pizzas and 2 small pizzas. 2 large pizzas is 16 * 2 = 32 slices. 2 small pizzas is 8 * 2 = 16 slices. In total, Albert ate 32 + 16 = 48 pieces. The answer is 48.\n",
      "\n",
      "14.  There are 16 slices in a large pizza and 8 slices in a small pizza. Albert bought 2 large pizzas and 2 small pizzas. That means he has 2 x 16 + 2 x 8 = 48 slices. The answer is 48.\n",
      "\n",
      "15.  Albert buys 2 large pizzas. A large pizza has 16 slices. So that is 2 * 16 = 32 slices. He also buys 2 small pizzas. A small pizza has 8 slices. So that is 2 * 8 = 16 slices. In total, he has 32 + 16 = 48 slices. The answer is 48.\n",
      "\n",
      "16.  Albert buys 2 large pizzas and 2 small pizzas. A large pizza has 16 slices and a small pizza has 8 slices. So he has 16 + 8 + 16 + 8 = 56 pieces. The answer is 56.\n",
      "\n",
      "17.  Albert has 2 large pizzas and 2 small pizzas. A large pizza has 16 slices and a small pizza has 8 slices. 2 large pizzas is 16 + 16 = 32 slices. 2 small pizzas is 8 + 8 = 16 slices. 32 + 16 = 48. The answer is 48.\n",
      "\n",
      "18.  Albert buys 2 large pizzas and 2 small pizzas. A large pizza has 16 slices and a small pizza has 8 slices. So he has 16 + 8 + 16 + 8 = 48. The answer is 48.\n",
      "\n",
      "19.  There are 16 slices in a large pizza and 8 slices in a small pizza. Albert bought 2 large pizzas and 2 small pizzas. So he had 2 x 16 + 2 x 8 = 32 + 16 = 48. The answer is 48.\n",
      "\n",
      "20.  Albert buys 2 large pizzas and 2 small pizzas. A large pizza has 16 slices and a small pizza has 8 slices. So he has 16 + 8 + 16 + 8 = 56. The answer is 56.\n",
      "\n",
      "21.  If Albert buys 2 large pizzas and 2 small pizzas, he has 16 + 16 + 8 + 8 = 48 slices. The answer is 48.\n",
      "\n",
      "22.  Albert buys 2 large pizzas and 2 small pizzas. A large pizza has 16 slices and a small pizza has 8 slices. So he has 16 + 8 + 16 + 8 = 56 slices. The answer is 56.\n",
      "\n",
      "23. \n",
      "\n",
      "Albert buys 2 large pizzas and 2 small pizzas. A large pizza has 16 slices and a small pizza has 8 slices. So he would eat 16 + 8 + 16 + 8 = 56. The answer is 56.\n",
      "\n",
      "24.  Albert bought 2 large pizzas and 2 small pizzas. A large pizza has 16 slices, so 2 large pizzas is 2 * 16 = 32. A small pizza has 8 slices, so 2 small pizzas is 2 * 8 = 16. So in total, Albert has 32 + 16 = 48. The answer is 48.\n",
      "\n",
      "25.  Albert buys 2 large pizzas and 2 small pizzas. A large pizza has 16 slices and a small pizza has 8 slices. 2 large pizzas + 2 small pizzas = 16 + 8 + 16 + 8 = 48. The answer is 48.\n",
      "\n",
      "26.  There are 16 slices in a large pizza and 8 slices in a small pizza. Albert bought 2 large pizzas and 2 small pizzas. So he would have 2 * 16 + 2 * 8 = 32 + 16 = 48. The answer is 48.\n",
      "\n",
      "27.  A large pizza has 16 slices and a small pizza has 8 slices. Albert has 2 large pizzas and 2 small pizzas. So he has 2 * 16 + 2 * 8 = 48 slices. The answer is 48.\n",
      "\n",
      "28.  Albert buy 2 large pizzas and 2 small pizzas. A large pizza has 16 slices and a small pizza has 8 slices. So in total Albert bought 16 + 8 + 16 + 8 = 56. The answer is 56.\n",
      "\n",
      "29.  A large pizza has 16 slices. A small pizza has 8 slices. Albert has 2 large pizzas and 2 small pizzas. So he has 2 x 16 + 2 x 8 = 32 + 16 = 48. The answer is 48.\n",
      "\n",
      "30.  Albert buys 2 large pizzas and 2 small pizzas. A large pizza has 16 slices and a small pizza has 8 slices. So he buys 2 * 16 = 32 slices + 2 * 8 = 16 slices. In total, he buys 32 + 16 = 48 slices. The answer is 48.\n",
      "\n",
      "['48', '48', '48', '24', '48', '48', '48', '48', '48', '48', '48', '64', '48', '48', '48', '56', '48', '48', '48', '56', '48', '56', '56', '48', '48', '48', '48', '56', '48', '48']\n"
     ]
    }
   ],
   "source": [
    "output = generate_with_gpt3(build_prompt_with_few_shot_examples(question), temperature=1.0, num_return_sequences=30)\n",
    "\n",
    "for i, o in enumerate(output):\n",
    "    print(\"{}. {}\".format(i+1, o), end='\\n\\n')\n",
    "\n",
    "print([re.findall(r\"\\d+\", x)[-1] for x in output])"
   ]
  },
  {
   "cell_type": "code",
   "execution_count": 15,
   "id": "acad6894-7637-47ad-a5a9-f646f3c1cd11",
   "metadata": {},
   "outputs": [],
   "source": [
    "# output: dataset output; model output, as many generations, logits, greedy beam"
   ]
  },
  {
   "cell_type": "markdown",
   "id": "1ac3a1f0-f2f2-45da-9e15-a45e9d0523ac",
   "metadata": {
    "tags": []
   },
   "source": [
    "#### Generate Scratchpads"
   ]
  },
  {
   "cell_type": "code",
   "execution_count": null,
   "id": "0b601d97-6f42-4054-be48-563023f27e00",
   "metadata": {},
   "outputs": [],
   "source": []
  }
 ],
 "metadata": {
  "kernelspec": {
   "display_name": "Python 3 (ipykernel)",
   "language": "python",
   "name": "python3"
  },
  "language_info": {
   "codemirror_mode": {
    "name": "ipython",
    "version": 3
   },
   "file_extension": ".py",
   "mimetype": "text/x-python",
   "name": "python",
   "nbconvert_exporter": "python",
   "pygments_lexer": "ipython3",
   "version": "3.8.2"
  }
 },
 "nbformat": 4,
 "nbformat_minor": 5
}
