{
 "cells": [
  {
   "cell_type": "code",
   "execution_count": 1,
   "metadata": {},
   "outputs": [
    {
     "data": {
      "application/vnd.jupyter.widget-view+json": {
       "model_id": "6a42dbaf6c4a47a798dfac9d2ecc2d9e",
       "version_major": 2,
       "version_minor": 0
      },
      "text/plain": [
       "Loading checkpoint shards:   0%|          | 0/2 [00:00<?, ?it/s]"
      ]
     },
     "metadata": {},
     "output_type": "display_data"
    },
    {
     "name": "stderr",
     "output_type": "stream",
     "text": [
      "Special tokens have been added in the vocabulary, make sure the associated word embeddings are fine-tuned or trained.\n"
     ]
    }
   ],
   "source": [
    "#!/usr/bin/env python\n",
    "# coding: utf-8\n",
    "\n",
    "import outlines\n",
    "import outlines.models.transformers\n",
    "import outlines.samplers\n",
    "from outlines.generate.generator import sequence_generator\n",
    "import transformers\n",
    "import more_itertools as mit\n",
    "import rich\n",
    "import rich.panel\n",
    "from typing import *\n",
    "\n",
    "\n",
    "MODEL          = \"susnato/phi-2\"\n",
    "hf_model       = transformers .AutoModelForCausalLM .from_pretrained (MODEL).cuda()\n",
    "hf_tokenizer   = transformers .AutoTokenizer        .from_pretrained (\n",
    "    MODEL, padding_side=\"right\")\n",
    "outlines_model = outlines     .models               .Transformers    (hf_model, hf_tokenizer)"
   ]
  },
  {
   "cell_type": "code",
   "execution_count": 2,
   "metadata": {},
   "outputs": [
    {
     "name": "stderr",
     "output_type": "stream",
     "text": [
      "We detected that you are passing `past_key_values` as a tuple and this is deprecated and will be removed in v4.43. Please use an appropriate `Cache` class (https://huggingface.co/docs/transformers/v4.41.3/en/internal/generation_utils#transformers.Cache)\n"
     ]
    },
    {
     "data": {
      "text/html": [
       "<pre style=\"white-space:pre;overflow-x:auto;line-height:normal;font-family:Menlo,'DejaVu Sans Mono',consolas,'Courier New',monospace\"><span style=\"font-weight: bold\">[</span><span style=\"color: #008000; text-decoration-color: #008000\">'11'</span>, <span style=\"color: #008000; text-decoration-color: #008000\">'6'</span>, <span style=\"color: #008000; text-decoration-color: #008000\">'11'</span>, <span style=\"color: #008000; text-decoration-color: #008000\">'11'</span>, <span style=\"color: #008000; text-decoration-color: #008000\">'1'</span>, <span style=\"color: #008000; text-decoration-color: #008000\">'11'</span>, <span style=\"color: #008000; text-decoration-color: #008000\">'11'</span>, <span style=\"color: #008000; text-decoration-color: #008000\">'22'</span>, <span style=\"color: #008000; text-decoration-color: #008000\">'2011'</span>, <span style=\"color: #008000; text-decoration-color: #008000\">'11'</span><span style=\"font-weight: bold\">]</span>\n",
       "</pre>\n"
      ],
      "text/plain": [
       "\u001b[1m[\u001b[0m\u001b[32m'11'\u001b[0m, \u001b[32m'6'\u001b[0m, \u001b[32m'11'\u001b[0m, \u001b[32m'11'\u001b[0m, \u001b[32m'1'\u001b[0m, \u001b[32m'11'\u001b[0m, \u001b[32m'11'\u001b[0m, \u001b[32m'22'\u001b[0m, \u001b[32m'2011'\u001b[0m, \u001b[32m'11'\u001b[0m\u001b[1m]\u001b[0m\n"
      ]
     },
     "metadata": {},
     "output_type": "display_data"
    },
    {
     "data": {
      "text/html": [
       "<pre style=\"white-space:pre;overflow-x:auto;line-height:normal;font-family:Menlo,'DejaVu Sans Mono',consolas,'Courier New',monospace\"><span style=\"font-weight: bold\">[</span><span style=\"color: #008000; text-decoration-color: #008000\">'6'</span>, <span style=\"color: #008000; text-decoration-color: #008000\">'11'</span>, <span style=\"color: #008000; text-decoration-color: #008000\">'11'</span>, <span style=\"color: #008000; text-decoration-color: #008000\">'1'</span>, <span style=\"color: #008000; text-decoration-color: #008000\">'11'</span>, <span style=\"color: #008000; text-decoration-color: #008000\">'11'</span>, <span style=\"color: #008000; text-decoration-color: #008000\">'22'</span>, <span style=\"color: #008000; text-decoration-color: #008000\">'2011'</span>, <span style=\"color: #008000; text-decoration-color: #008000\">'11'</span>, <span style=\"color: #008000; text-decoration-color: #008000\">'6666'</span><span style=\"font-weight: bold\">]</span>\n",
       "</pre>\n"
      ],
      "text/plain": [
       "\u001b[1m[\u001b[0m\u001b[32m'6'\u001b[0m, \u001b[32m'11'\u001b[0m, \u001b[32m'11'\u001b[0m, \u001b[32m'1'\u001b[0m, \u001b[32m'11'\u001b[0m, \u001b[32m'11'\u001b[0m, \u001b[32m'22'\u001b[0m, \u001b[32m'2011'\u001b[0m, \u001b[32m'11'\u001b[0m, \u001b[32m'6666'\u001b[0m\u001b[1m]\u001b[0m\n"
      ]
     },
     "metadata": {},
     "output_type": "display_data"
    }
   ],
   "source": [
    "generator = outlines.generate.regex(outlines_model, \"\\d+\", sampler=outlines.samplers.MultinomialSampler(10))\n",
    "output = generator(prompts=[\"What is 11 + 33 ? Solution: 11 + 33 = \", \"What is 2222 + 4444 ? Solution: 2222 + 4444 = \"], max_tokens=100)\n",
    "\n",
    "for o in output:\n",
    "    rich.print(o)"
   ]
  },
  {
   "cell_type": "code",
   "execution_count": 3,
   "metadata": {},
   "outputs": [
    {
     "data": {
      "text/plain": [
       "'/home/mila/g/gagnonju/.mambaforge/lib/python3.10/site-packages/outlines/generate/api.py'"
      ]
     },
     "execution_count": 3,
     "metadata": {},
     "output_type": "execute_result"
    }
   ],
   "source": [
    "outlines.generate.api.__file__"
   ]
  },
  {
   "cell_type": "code",
   "execution_count": null,
   "metadata": {},
   "outputs": [],
   "source": []
  },
  {
   "cell_type": "code",
   "execution_count": null,
   "metadata": {},
   "outputs": [],
   "source": []
  }
 ],
 "metadata": {
  "kernelspec": {
   "display_name": "base",
   "language": "python",
   "name": "python3"
  },
  "language_info": {
   "codemirror_mode": {
    "name": "ipython",
    "version": 3
   },
   "file_extension": ".py",
   "mimetype": "text/x-python",
   "name": "python",
   "nbconvert_exporter": "python",
   "pygments_lexer": "ipython3",
   "version": "3.10.14"
  }
 },
 "nbformat": 4,
 "nbformat_minor": 2
}
