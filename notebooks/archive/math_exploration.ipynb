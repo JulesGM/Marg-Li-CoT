{
 "cells": [
  {
   "cell_type": "code",
   "execution_count": null,
   "metadata": {},
   "outputs": [],
   "source": [
    "!wget https://raw.githubusercontent.com/hendrycks/math/refs/heads/main/modeling/math_equivalence.py"
   ]
  },
  {
   "cell_type": "code",
   "execution_count": null,
   "metadata": {},
   "outputs": [],
   "source": [
    "import math_equivalence\n",
    "import re\n",
    "import more_itertools as mit\n",
    "import datasets\n",
    "import transformers\n",
    "import rich.table\n",
    "from tqdm import tqdm\n",
    "\n",
    "gemma_2_2b_it_pipeline = transformers.pipeline(task=\"text-generation\", model=\"google/gemma-2-2b-it\", device=0, torch_dtype=\"bfloat16\")\n",
    "math = datasets.load_dataset(\"hendrycks/competition_math\")\n"
   ]
  },
  {
   "cell_type": "code",
   "execution_count": 53,
   "metadata": {},
   "outputs": [],
   "source": [
    "\n",
    "N = None\n",
    "WITH_SECOND = True\n",
    "WITH_THIRD = True\n",
    "\n",
    "def extract(answer, verbose=False):\n",
    "    answer = re.sub(r\"\\$\\$\", \"$\", answer)\n",
    "    answer = re.sub(re.escape(f\"[asy]\") + r\".*?\" + re.escape(f\"[/asy]\"), \"\", answer, flags=re.DOTALL)\n",
    "    first_pat = re.compile(r\"\\$.+?\\$\", re.DOTALL)\n",
    "    second_pat = re.compile(re.escape(r\"\\begin{align*}\") + r\".*?\" + re.escape(r\"\\end{align*}\"), re.DOTALL)\n",
    "    third_path = re.compile(re.escape(r\"\\[\") + r\".*?\" + re.escape(r\"\\]\"), re.DOTALL)\n",
    "\n",
    "\n",
    "    finds = {}\n",
    "    for i, pat in enumerate([first_pat, second_pat, third_path]):\n",
    "        extracted = pat.findall(answer)\n",
    "        if extracted:\n",
    "            finds[i] = dict(answer=extracted[-1], end_pos=answer.rfind(extracted[-1]) + len(extracted[-1]))\n",
    "            \n",
    "    if verbose:\n",
    "        print(finds)\n",
    "\n",
    "    max_find = max(\n",
    "        finds.items(), \n",
    "        key=lambda x: x[1][\"end_pos\"],\n",
    "    )\n",
    "    if verbose:\n",
    "        print(f\"{max_find = }\")\n",
    "\n",
    "    return max_find[1][\"answer\"]\n",
    "\n",
    "def formatted(extracted):\n",
    "    start_str = \"\\\\boxed{\"\n",
    "    start = extracted.find(start_str) + len(start_str)\n",
    "    end = extracted.rfind(\"}\")\n",
    "    \n",
    "    if start == -1 or end == -1:\n",
    "        return extracted\n",
    "    \n",
    "    return extracted[start : end]\n",
    "\n",
    "# count_bad = 0\n",
    "# total = 0\n",
    "\n",
    "# for sol in math[\"train\"][\"solution\"]:\n",
    "#     total += 1\n",
    "#     answer = extract(sol)\n",
    "#     if not answer:\n",
    "#         count_bad += 1\n",
    "    \n",
    "\n",
    "# print(count_bad)\n",
    "# print(f\"{count_bad / total:0.2%}\")"
   ]
  },
  {
   "cell_type": "code",
   "execution_count": null,
   "metadata": {},
   "outputs": [],
   "source": [
    "formatted(r\"asdasdasd\\\\boxed{\\\\frac{1}{2}} asdas\")"
   ]
  },
  {
   "cell_type": "code",
   "execution_count": null,
   "metadata": {},
   "outputs": [],
   "source": [
    "import rich\n",
    "import rich.rule\n",
    "\n",
    "count_weird = 0\n",
    "for idx, sol in enumerate(math[\"train\"][\"solution\"][:1000]):\n",
    "    answer = extract(sol)\n",
    "    pos = sol.rfind(answer)\n",
    "\n",
    "    ends_where = len(sol) - pos - len(answer)\n",
    "    if not ends_where < 70:\n",
    "        count_weird += 1\n",
    "        print(f\"{idx = }\")\n",
    "        print(\"End of sol:\", sol[-max(300, 30 + len(sol) - pos):])\n",
    "        print(\"Answer:\", answer)\n",
    "        extract(sol, verbose=True)\n",
    "        print()\n",
    "        print(len(sol) - pos)\n",
    "        rich.print(rich.rule.Rule())\n",
    "print(count_weird)"
   ]
  },
  {
   "cell_type": "code",
   "execution_count": null,
   "metadata": {},
   "outputs": [
    {
     "name": "stderr",
     "output_type": "stream",
     "text": [
      "  0%|          | 0/7500 [00:00<?, ?it/s]"
     ]
    },
    {
     "name": "stderr",
     "output_type": "stream",
     "text": [
      "88.49%:  10%|▉         | 747/7500 [04:59<1:05:18,  1.72it/s]"
     ]
    }
   ],
   "source": [
    "\n",
    "\n",
    "N = 100\n",
    "agreement_gemma_ours = 0\n",
    "agreement_gemma_ours_formatted = 0\n",
    "agreement_gemma_ours_ours_formatted = 0\n",
    "agreement_gemma_ours_new_extractor = 0\n",
    "\n",
    "def new_extractor(answer):\n",
    "    start = answer.rfind(\"\\\\boxed{\") + len(\"\\\\boxed{\")\n",
    "    if start == -1:\n",
    "        return answer\n",
    "    # Match brackets until we find the closing bracket\n",
    "    count = 1\n",
    "    for i, c in enumerate(answer[start:]):\n",
    "        if c == \"{\":\n",
    "            count += 1\n",
    "        elif c == \"}\":\n",
    "            count -= 1\n",
    "            if count == 0:\n",
    "                return answer[start:start + i]\n",
    "    return answer[start:]\n",
    "\n",
    "seen_so_far = 0\n",
    "progress = tqdm(math[\"train\"][\"solution\"])\n",
    "for sample in progress:\n",
    "    prompt = dict(role=\"user\", content=r\"Just give the answer. Extract the final, latex math answer in the big following solution. If it's just a number, remove the latex from it: \" + sample)\n",
    "    gemma = gemma_2_2b_it_pipeline([prompt], max_new_tokens=100, return_full_text=False, do_sample=False)[0][\"generated_text\"].strip()\n",
    "    ours = extract(sample)\n",
    "    formatted_ours = formatted(ours)\n",
    "    new_extractor_ours = new_extractor(sample)\n",
    "    is_equiv_gemma_ours = math_equivalence.is_equiv(ours, gemma)\n",
    "    is_equiv_gemma_ours_formatted = math_equivalence.is_equiv(formatted_ours, gemma)\n",
    "    is_equiv_ours_ours_formatted = math_equivalence.is_equiv(ours, formatted_ours)\n",
    "    is_equiv_new_extractor_ours_gemma = math_equivalence.is_equiv(new_extractor_ours, gemma)\n",
    "    agreement_gemma_ours += is_equiv_gemma_ours\n",
    "    agreement_gemma_ours_formatted += is_equiv_gemma_ours_formatted\n",
    "    agreement_gemma_ours_new_extractor += is_equiv_new_extractor_ours_gemma\n",
    "    seen_so_far += 1\n",
    "\n",
    "    # if not is_equiv_new_extractor_ours_gemma:\n",
    "    #     table = rich.table.Table(show_header=False, show_lines=True, )\n",
    "    #     table.add_row(\"Prompt:\", prompt[\"content\"])\n",
    "    #     table.add_row(\"Ours:\", ours)\n",
    "    #     table.add_row(\"Ours, fomatted:\", formatted_ours)\n",
    "    #     table.add_row(\"Gemma:\", gemma)\n",
    "    #     table.add_row(\"new_extractor_ours:\", new_extractor_ours)\n",
    "    #     table.add_row(\"is_equiv:\", str(is_equiv_gemma_ours))\n",
    "    #     table.add_row(\"is_equiv w/ formatted:\", str(is_equiv_gemma_ours_formatted))\n",
    "    #     table.add_row(\"is_equiv new ours w/ gemma\", str(is_equiv_new_extractor_ours_gemma))\n",
    "    #     rich.print(table)\n",
    "    #     rich.print(rich.rule.Rule())\n",
    "    progress.set_description(f\"{agreement_gemma_ours_new_extractor / seen_so_far:0.2%}\")\n",
    "\n",
    "print(f\"Agreement gemma-ours: {agreement_gemma_ours / seen_so_far:0.2%}\")\n",
    "print(f\"Agreement gemma-ours formatted: {agreement_gemma_ours_formatted / seen_so_far:0.2%}\")\n",
    "print(f\"Agreement gemma new-ours: {agreement_gemma_ours_new_extractor / seen_so_far:0.2%}\")\n"
   ]
  },
  {
   "cell_type": "code",
   "execution_count": 64,
   "metadata": {},
   "outputs": [
    {
     "data": {
      "text/plain": [
       "85"
      ]
     },
     "execution_count": 64,
     "metadata": {},
     "output_type": "execute_result"
    }
   ],
   "source": [
    "agreement_gemma_ours_new_extractor"
   ]
  },
  {
   "cell_type": "code",
   "execution_count": null,
   "metadata": {},
   "outputs": [],
   "source": []
  }
 ],
 "metadata": {
  "kernelspec": {
   "display_name": "base",
   "language": "python",
   "name": "python3"
  },
  "language_info": {
   "codemirror_mode": {
    "name": "ipython",
    "version": 3
   },
   "file_extension": ".py",
   "mimetype": "text/x-python",
   "name": "python",
   "nbconvert_exporter": "python",
   "pygments_lexer": "ipython3",
   "version": "3.10.14"
  }
 },
 "nbformat": 4,
 "nbformat_minor": 2
}
