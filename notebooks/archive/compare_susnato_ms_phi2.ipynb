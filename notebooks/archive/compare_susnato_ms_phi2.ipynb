{
 "cells": [
  {
   "cell_type": "code",
   "execution_count": 1,
   "metadata": {},
   "outputs": [],
   "source": [
    "import transformers"
   ]
  },
  {
   "cell_type": "code",
   "execution_count": 2,
   "metadata": {},
   "outputs": [
    {
     "data": {
      "application/vnd.jupyter.widget-view+json": {
       "model_id": "5375cd1058db4fe0874f49a15750a82c",
       "version_major": 2,
       "version_minor": 0
      },
      "text/plain": [
       "Loading checkpoint shards:   0%|          | 0/2 [00:00<?, ?it/s]"
      ]
     },
     "metadata": {},
     "output_type": "display_data"
    },
    {
     "data": {
      "application/vnd.jupyter.widget-view+json": {
       "model_id": "824964e08dcd4d748f9b72af3e086fc9",
       "version_major": 2,
       "version_minor": 0
      },
      "text/plain": [
       "Loading checkpoint shards:   0%|          | 0/2 [00:00<?, ?it/s]"
      ]
     },
     "metadata": {},
     "output_type": "display_data"
    }
   ],
   "source": [
    "ms_phi2 = transformers.AutoModelForCausalLM.from_pretrained(\"microsoft/phi-2\")\n",
    "susnato_phi2 = transformers.AutoModelForCausalLM.from_pretrained(\"susnato/phi-2\")"
   ]
  },
  {
   "cell_type": "code",
   "execution_count": 3,
   "metadata": {},
   "outputs": [
    {
     "name": "stdout",
     "output_type": "stream",
     "text": [
      "Microsoft: 2779683840 parameters\n",
      "Susnato: 2779683840 parameters\n"
     ]
    }
   ],
   "source": [
    "params_ms = sum(p.numel() for p in ms_phi2.parameters())\n",
    "print(f\"Microsoft: {params_ms} parameters\")\n",
    "params_susnato = sum(p.numel() for p in susnato_phi2.parameters())\n",
    "print(f\"Susnato: {params_susnato} parameters\")"
   ]
  },
  {
   "cell_type": "code",
   "execution_count": 6,
   "metadata": {},
   "outputs": [
    {
     "name": "stdout",
     "output_type": "stream",
     "text": [
      "[]\n"
     ]
    }
   ],
   "source": [
    "params_ms = dict(ms_phi2.named_parameters())\n",
    "params_susnato = dict(susnato_phi2.named_parameters())\n",
    "\n",
    "assert params_ms.keys() == params_susnato.keys(), (\n",
    "    params_ms.keys() - params_susnato.keys(), \n",
    "    params_susnato.keys() - params_ms.keys(),\n",
    ")\n",
    "\n",
    "diff = []\n",
    "for k in params_ms:\n",
    "    if (params_ms[k] != params_susnato[k]).any():\n",
    "        diff.append(k)\n",
    "print(diff)\n"
   ]
  },
  {
   "cell_type": "code",
   "execution_count": null,
   "metadata": {},
   "outputs": [],
   "source": []
  }
 ],
 "metadata": {
  "kernelspec": {
   "display_name": "base",
   "language": "python",
   "name": "python3"
  },
  "language_info": {
   "codemirror_mode": {
    "name": "ipython",
    "version": 3
   },
   "file_extension": ".py",
   "mimetype": "text/x-python",
   "name": "python",
   "nbconvert_exporter": "python",
   "pygments_lexer": "ipython3",
   "version": "3.10.14"
  }
 },
 "nbformat": 4,
 "nbformat_minor": 2
}
