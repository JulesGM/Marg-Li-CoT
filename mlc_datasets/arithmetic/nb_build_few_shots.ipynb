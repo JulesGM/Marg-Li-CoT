{
 "cells": [
  {
   "cell_type": "code",
   "execution_count": 4,
   "metadata": {},
   "outputs": [],
   "source": [
    "import collections\n",
    "import itertools as it\n",
    "import json\n",
    "from pathlib import Path\n",
    "import random\n",
    "import subprocess\n",
    "\n",
    "import jsonlines\n",
    "import numpy as np"
   ]
  },
  {
   "cell_type": "code",
   "execution_count": 16,
   "metadata": {},
   "outputs": [
    {
     "name": "stdout",
     "output_type": "stream",
     "text": [
      "num_digits = 1, len(v) = 2\n",
      "num_digits = 2, len(v) = 2\n",
      "num_digits = 3, len(v) = 2\n",
      "num_digits = 4, len(v) = 2\n",
      "num_digits = 5, len(v) = 2\n",
      "[\n",
      "    {\n",
      "        \"input\": \"7 2 6 4 + 5 7 0 2\",\n",
      "        \"answer\": \"1 2 9 6 6\",\n",
      "        \"num_digits\": 4,\n",
      "        \"scratchpad\": \"<scratch>\\n7 2 6 4 + 5 7 0 2 , C: 0\\n6 + 0 , 6 C: 0\\n2 + 7 , 6 6 C: 0\\n7 + 5 , 9 6 6 C: 0\\n, 2 9 6 6 C: 1\\n1 2 9 6 6\\n</scratch>\"\n",
      "    },\n",
      "    {\n",
      "        \"input\": \"8 + 4\",\n",
      "        \"answer\": \"1 2\",\n",
      "        \"num_digits\": 1,\n",
      "        \"scratchpad\": \"<scratch>\\n8 + 4 , C: 0\\n, 2 C: 1\\n1 2\\n</scratch>\"\n",
      "    },\n",
      "    {\n",
      "        \"input\": \"3 3 + 5 5\",\n",
      "        \"answer\": \"8 8\",\n",
      "        \"num_digits\": 2,\n",
      "        \"scratchpad\": \"<scratch>\\n3 3 + 5 5 , C: 0\\n3 + 5 , 8 C: 0\\n, 8 8 C: 0\\n0 8 8\\n</scratch>\"\n",
      "    },\n",
      "    {\n",
      "        \"input\": \"8 2 9 + 5 6 3\",\n",
      "        \"answer\": \"1 3 9 2\",\n",
      "        \"num_digits\": 3,\n",
      "        \"scratchpad\": \"<scratch>\\n8 2 9 + 5 6 3 , C: 0\\n2 + 6 , 2 C: 1\\n8 + 5 , 9 2 C: 0\\n, 3 9 2 C: 1\\n1 3 9 2\\n</scratch>\"\n",
      "    },\n",
      "    {\n",
      "        \"input\": \"8 0 2 6 + 6 6 4 4\",\n",
      "        \"answer\": \"1 4 6 7 0\",\n",
      "        \"num_digits\": 4,\n",
      "        \"scratchpad\": \"<scratch>\\n8 0 2 6 + 6 6 4 4 , C: 0\\n2 + 4 , 0 C: 1\\n0 + 6 , 7 0 C: 0\\n8 + 6 , 6 7 0 C: 0\\n, 4 6 7 0 C: 1\\n1 4 6 7 0\\n</scratch>\"\n",
      "    },\n",
      "    {\n",
      "        \"input\": \"9 6 + 4 0\",\n",
      "        \"answer\": \"1 3 6\",\n",
      "        \"num_digits\": 2,\n",
      "        \"scratchpad\": \"<scratch>\\n9 6 + 4 0 , C: 0\\n9 + 4 , 6 C: 0\\n, 3 6 C: 1\\n1 3 6\\n</scratch>\"\n",
      "    },\n",
      "    {\n",
      "        \"input\": \"8 2 1 + 8 2 5\",\n",
      "        \"answer\": \"1 6 4 6\",\n",
      "        \"num_digits\": 3,\n",
      "        \"scratchpad\": \"<scratch>\\n8 2 1 + 8 2 5 , C: 0\\n2 + 2 , 6 C: 0\\n8 + 8 , 4 6 C: 0\\n, 6 4 6 C: 1\\n1 6 4 6\\n</scratch>\"\n",
      "    },\n",
      "    {\n",
      "        \"input\": \"8 + 5\",\n",
      "        \"answer\": \"1 3\",\n",
      "        \"num_digits\": 1,\n",
      "        \"scratchpad\": \"<scratch>\\n8 + 5 , C: 0\\n, 3 C: 1\\n1 3\\n</scratch>\"\n",
      "    },\n",
      "    {\n",
      "        \"input\": \"8 5 7 6 6 + 7 4 7 0 4\",\n",
      "        \"answer\": \"1 6 0 4 7 0\",\n",
      "        \"num_digits\": 5,\n",
      "        \"scratchpad\": \"<scratch>\\n8 5 7 6 6 + 7 4 7 0 4 , C: 0\\n6 + 0 , 0 C: 1\\n7 + 7 , 7 0 C: 0\\n5 + 4 , 4 7 0 C: 1\\n8 + 7 , 0 4 7 0 C: 1\\n, 6 0 4 7 0 C: 1\\n1 6 0 4 7 0\\n</scratch>\"\n",
      "    },\n",
      "    {\n",
      "        \"input\": \"9 9 5 3 7 + 2 0 8 8 8\",\n",
      "        \"answer\": \"1 2 0 4 2 5\",\n",
      "        \"num_digits\": 5,\n",
      "        \"scratchpad\": \"<scratch>\\n9 9 5 3 7 + 2 0 8 8 8 , C: 0\\n3 + 8 , 5 C: 1\\n5 + 8 , 2 5 C: 1\\n9 + 0 , 4 2 5 C: 1\\n9 + 2 , 0 4 2 5 C: 1\\n, 2 0 4 2 5 C: 1\\n1 2 0 4 2 5\\n</scratch>\"\n",
      "    }\n",
      "]\n"
     ]
    }
   ],
   "source": [
    "# set the file path\n",
    "root_path = \"/home/mila/g/gagnonju/Marg-Li-CoT/with_trl/libs_data/arithmetic/outputs/train_scratch/\"\n",
    "\n",
    "N = 2\n",
    "\n",
    "paths = Path(root_path).glob(\"train_scratch.*.jsonl\")\n",
    "\n",
    "def extract_number(path):\n",
    "    return int(path.name.split(\".\")[1])\n",
    "\n",
    "sorted_paths = sorted(paths, key=extract_number)\n",
    "\n",
    "few_shot_per_number = collections.defaultdict(list)\n",
    "for file_path in sorted_paths:\n",
    "    number = extract_number(file_path)\n",
    "    output_list = few_shot_per_number[number]\n",
    "    num_lines = int(subprocess.check_output(['wc', '-l', file_path]).split()[0])\n",
    "    idx = sorted(np.random.permutation(num_lines)[:N])\n",
    "\n",
    "    # Don't keep the samples in memory\n",
    "    with jsonlines.open(file_path) as reader:\n",
    "        reader_it = enumerate(reader)\n",
    "        for idx_requested in idx:\n",
    "            idx_given, value = next(reader_it)\n",
    "            while idx_given != idx_requested:\n",
    "                idx_given, value = next(reader_it)\n",
    "\n",
    "            assert value[\"num_digits\"] == number, (\n",
    "                f\"number {value['num_digits']} != {number}\")\n",
    "            \n",
    "            output_list.append(value)\n",
    "\n",
    "for num_digits, v in few_shot_per_number.items():\n",
    "    assert len(v) == N, f\"{num_digits = }, len(v) = {len(v)} != {N}\"\n",
    "    print(f\"{num_digits = }, {len(v) = }\")\n",
    "\n",
    "\n",
    "output = list(it.chain.from_iterable(few_shot_per_number.values()))\n",
    "random.shuffle(output)\n",
    "\n",
    "print(json.dumps(output, indent=4))"
   ]
  },
  {
   "cell_type": "code",
   "execution_count": 10,
   "metadata": {},
   "outputs": [
    {
     "data": {
      "text/plain": [
       "[10, 10, 10, 10, 10]"
      ]
     },
     "execution_count": 10,
     "metadata": {},
     "output_type": "execute_result"
    }
   ],
   "source": []
  },
  {
   "cell_type": "code",
   "execution_count": null,
   "metadata": {},
   "outputs": [],
   "source": []
  }
 ],
 "metadata": {
  "kernelspec": {
   "display_name": ".main",
   "language": "python",
   "name": "python3"
  },
  "language_info": {
   "codemirror_mode": {
    "name": "ipython",
    "version": 3
   },
   "file_extension": ".py",
   "mimetype": "text/x-python",
   "name": "python",
   "nbconvert_exporter": "python",
   "pygments_lexer": "ipython3",
   "version": "3.9.15"
  }
 },
 "nbformat": 4,
 "nbformat_minor": 2
}
