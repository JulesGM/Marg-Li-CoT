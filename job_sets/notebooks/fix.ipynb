{
 "cells": [
  {
   "cell_type": "code",
   "execution_count": 11,
   "metadata": {},
   "outputs": [],
   "source": [
    "import pathlib\n",
    "import os\n",
    "import sys\n",
    "import torch\n",
    "\n",
    "sys.path.append(\"/home/mila/g/gagnonju/marglicot/approach_sft\")\n",
    "path = f\"{os.environ['SCRATCH']}/marglicot_saves/sft_saves\""
   ]
  },
  {
   "cell_type": "code",
   "execution_count": 2,
   "metadata": {},
   "outputs": [
    {
     "name": "stdout",
     "output_type": "stream",
     "text": [
      "ao_gsm8k_smollm2_1.7B-2025-03-10_01-13-46\n",
      "ao_gsm8k_smollm2_1.7B-2025-03-10_01-28-43\n",
      "ao_gsm8k_smollm2_1.7B-2025-03-10_01-31-47\n",
      "ao_math_smollm2_1.7B-2025-03-10_01-13-58\n",
      "ao_math_smollm2_1.7B-2025-03-10_01-28-46\n",
      "ao_math_smollm2_1.7B-2025-03-10_01-31-43\n",
      "cot_gsm8k_smollm2_1.7B-2025-03-10_01-13-47\n",
      "cot_gsm8k_smollm2_1.7B-2025-03-10_01-28-46\n",
      "cot_gsm8k_smollm2_1.7B-2025-03-10_01-31-43\n",
      "cot_math_smollm2_1.7B-2025-03-10_01-13-46\n",
      "cot_math_smollm2_1.7B-2025-03-10_01-28-44\n",
      "cot_math_smollm2_1.7B-2025-03-10_01-31-44\n",
      "cot_math_smollm2_1.7B-2025-03-10_01-46-43\n",
      "cot_math_smollm2_1.7B-2025-03-10_01-49-58\n"
     ]
    }
   ],
   "source": [
    "!ls $path"
   ]
  },
  {
   "cell_type": "code",
   "execution_count": 18,
   "metadata": {},
   "outputs": [
    {
     "name": "stdout",
     "output_type": "stream",
     "text": [
      "/network/scratch/g/gagnonju/marglicot_saves/sft_saves/ao_gsm8k_smollm2_1.7B-2025-03-10_01-28-43/0/meta_info.pt\n"
     ]
    },
    {
     "name": "stderr",
     "output_type": "stream",
     "text": [
      "/tmp/ipykernel_1153207/958112869.py:24: FutureWarning: You are using `torch.load` with `weights_only=False` (the current default value), which uses the default pickle module implicitly. It is possible to construct malicious pickle data which will execute arbitrary code during unpickling (See https://github.com/pytorch/pytorch/blob/main/SECURITY.md#untrusted-models for more details). In a future release, the default value for `weights_only` will be flipped to `True`. This limits the functions that could be executed during unpickling. Arbitrary objects will no longer be allowed to be loaded via this mode unless they are explicitly allowlisted by the user via `torch.serialization.add_safe_globals`. We recommend you start setting `weights_only=True` for any use case where you don't have full control of the loaded file. Please open an issue on GitHub for any issues related to this experimental feature.\n",
      "  cfg = torch.load(pkl_path, map_location=torch.device(\"cpu\"))[\"cfg\"]\n"
     ]
    },
    {
     "name": "stdout",
     "output_type": "stream",
     "text": [
      "/network/scratch/g/gagnonju/marglicot_saves/sft_saves\n",
      "0.001\n",
      "\n",
      "/network/scratch/g/gagnonju/marglicot_saves/sft_saves/cot_gsm8k_smollm2_1.7B-2025-03-10_01-28-46/0/meta_info.pt\n",
      "/network/scratch/g/gagnonju/marglicot_saves/sft_saves\n",
      "0.001\n",
      "\n",
      "/network/scratch/g/gagnonju/marglicot_saves/sft_saves/ao_math_smollm2_1.7B-2025-03-10_01-28-46/0/meta_info.pt\n",
      "/network/scratch/g/gagnonju/marglicot_saves/sft_saves\n",
      "0.001\n",
      "\n",
      "/network/scratch/g/gagnonju/marglicot_saves/sft_saves/ao_math_smollm2_1.7B-2025-03-10_01-31-43/0/meta_info.pt\n",
      "/network/scratch/g/gagnonju/marglicot_saves/sft_saves\n",
      "1e-05\n",
      "\n",
      "/network/scratch/g/gagnonju/marglicot_saves/sft_saves/cot_gsm8k_smollm2_1.7B-2025-03-10_01-31-43/0/meta_info.pt\n",
      "/network/scratch/g/gagnonju/marglicot_saves/sft_saves\n",
      "1e-05\n",
      "\n",
      "/network/scratch/g/gagnonju/marglicot_saves/sft_saves/ao_gsm8k_smollm2_1.7B-2025-03-10_01-31-47/0/meta_info.pt\n",
      "/network/scratch/g/gagnonju/marglicot_saves/sft_saves\n",
      "1e-05\n",
      "\n",
      "/network/scratch/g/gagnonju/marglicot_saves/sft_saves/cot_math_smollm2_1.7B-2025-03-10_01-46-43/0/meta_info.pt\n",
      "/network/scratch/g/gagnonju/marglicot_saves/sft_saves\n",
      "0.001\n",
      "\n",
      "/network/scratch/g/gagnonju/marglicot_saves/sft_saves/cot_math_smollm2_1.7B-2025-03-10_01-49-58/0/meta_info.pt\n",
      "/network/scratch/g/gagnonju/marglicot_saves/sft_saves\n",
      "0.001\n",
      "\n"
     ]
    }
   ],
   "source": [
    "import omegaconf\n",
    "import json\n",
    "import collections\n",
    "\n",
    "paths = list(pathlib.Path(path).iterdir())\n",
    "assert pathlib.Path(path).exists()\n",
    "\n",
    "def json_defaults(obj):\n",
    "    if isinstance(obj, pathlib.Path):\n",
    "        return str(obj)\n",
    "    \n",
    "    if isinstance(obj, torch.Tensor):\n",
    "        return \"<redacted>\"\n",
    "\n",
    "    if isinstance(obj, torch.dtype):\n",
    "        return str(obj)\n",
    "    raise TypeError(f\"Object of type {type(obj)} is not JSON serializable\")\n",
    "\n",
    "by_learning_rate = collections.defaultdict(list)\n",
    "for path_indiv in paths:\n",
    "    pkl_path = path_indiv / \"0\" / \"meta_info.pt\"\n",
    "    if pkl_path.exists():\n",
    "        print(pkl_path)\n",
    "        cfg = torch.load(pkl_path, map_location=torch.device(\"cpu\"))[\"cfg\"]\n",
    "        print(path)\n",
    "        print(cfg.learning_rate)\n",
    "        print()\n",
    "\n",
    "        by_learning_rate[cfg.learning_rate].append(path_indiv)\n",
    "\n",
    "        with open(pkl_path.parent / \"meta_info.json\", \"w\") as f:\n",
    "            json.dump(omegaconf.OmegaConf.to_container(cfg, resolve=True), f, default=json_defaults)\n",
    "\n",
    "    else:\n",
    "        print(f\"No meta_info.pkl found for {path}\")\n",
    "        !rm -r $path_indiv\n",
    "\n"
   ]
  },
  {
   "cell_type": "code",
   "execution_count": 6,
   "metadata": {},
   "outputs": [
    {
     "name": "stdout",
     "output_type": "stream",
     "text": [
      "/network/scratch/g/gagnonju/marglicot_saves/sft_saves/cot_math_smollm2_1.7B-2025-03-10_01-46-43/0/meta_info.pt\n"
     ]
    }
   ],
   "source": [
    "ls \"/network/scratch/g/gagnonju/marglicot_saves/sft_saves/cot_math_smollm2_1.7B-2025-03-10_01-46-43/0/meta_info.pt\""
   ]
  },
  {
   "cell_type": "code",
   "execution_count": 19,
   "metadata": {},
   "outputs": [
    {
     "data": {
      "text/plain": [
       "defaultdict(list,\n",
       "            {0.001: [PosixPath('/network/scratch/g/gagnonju/marglicot_saves/sft_saves/ao_gsm8k_smollm2_1.7B-2025-03-10_01-28-43'),\n",
       "              PosixPath('/network/scratch/g/gagnonju/marglicot_saves/sft_saves/cot_gsm8k_smollm2_1.7B-2025-03-10_01-28-46'),\n",
       "              PosixPath('/network/scratch/g/gagnonju/marglicot_saves/sft_saves/ao_math_smollm2_1.7B-2025-03-10_01-28-46'),\n",
       "              PosixPath('/network/scratch/g/gagnonju/marglicot_saves/sft_saves/cot_math_smollm2_1.7B-2025-03-10_01-46-43'),\n",
       "              PosixPath('/network/scratch/g/gagnonju/marglicot_saves/sft_saves/cot_math_smollm2_1.7B-2025-03-10_01-49-58')],\n",
       "             1e-05: [PosixPath('/network/scratch/g/gagnonju/marglicot_saves/sft_saves/ao_math_smollm2_1.7B-2025-03-10_01-31-43'),\n",
       "              PosixPath('/network/scratch/g/gagnonju/marglicot_saves/sft_saves/cot_gsm8k_smollm2_1.7B-2025-03-10_01-31-43'),\n",
       "              PosixPath('/network/scratch/g/gagnonju/marglicot_saves/sft_saves/ao_gsm8k_smollm2_1.7B-2025-03-10_01-31-47')]})"
      ]
     },
     "execution_count": 19,
     "metadata": {},
     "output_type": "execute_result"
    }
   ],
   "source": [
    "by_learning_rate"
   ]
  },
  {
   "cell_type": "code",
   "execution_count": 34,
   "metadata": {},
   "outputs": [
    {
     "name": "stdout",
     "output_type": "stream",
     "text": [
      "0_001\n",
      "\n",
      "0_00001\n",
      "\n"
     ]
    }
   ],
   "source": [
    "import math\n",
    "import shutil\n",
    "\n",
    "for k, v in by_learning_rate.items():\n",
    "    converted_lr = \"0_\" + str(- int(math.log10(k) + 1) * \"0\") + \"1\"\n",
    "    print(converted_lr)\n",
    "    \n",
    "    for entry in v:\n",
    "        new_folder = entry.parent / converted_lr\n",
    "        new_folder.mkdir(parents=True, exist_ok=True)\n",
    "        shutil.move(entry, new_folder / entry.name)\n",
    "    print()\n"
   ]
  },
  {
   "cell_type": "code",
   "execution_count": 39,
   "metadata": {},
   "outputs": [
    {
     "name": "stdout",
     "output_type": "stream",
     "text": [
      "\u001b[0m\u001b[01;34m0_00001\u001b[0m/  \u001b[01;34m0_001\u001b[0m/\n"
     ]
    }
   ],
   "source": [
    "ls /network/scratch/g/gagnonju/marglicot_saves/sft_saves/"
   ]
  },
  {
   "cell_type": "code",
   "execution_count": null,
   "metadata": {},
   "outputs": [],
   "source": []
  }
 ],
 "metadata": {
  "kernelspec": {
   "display_name": "base",
   "language": "python",
   "name": "python3"
  },
  "language_info": {
   "codemirror_mode": {
    "name": "ipython",
    "version": 3
   },
   "file_extension": ".py",
   "mimetype": "text/x-python",
   "name": "python",
   "nbconvert_exporter": "python",
   "pygments_lexer": "ipython3",
   "version": "3.10.14"
  }
 },
 "nbformat": 4,
 "nbformat_minor": 2
}
