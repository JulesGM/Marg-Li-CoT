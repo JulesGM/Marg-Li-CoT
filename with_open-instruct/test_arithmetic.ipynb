{
 "cells": [
  {
   "cell_type": "code",
   "execution_count": 9,
   "metadata": {},
   "outputs": [],
   "source": [
    "import more_itertools as mit\n",
    "import transformers\n",
    "import torch\n",
    "import rich\n",
    "import rich.panel\n",
    "import rich.markup\n",
    "import re\n",
    "import collections\n",
    "import numpy as np\n",
    "import random\n",
    "import datasets\n"
   ]
  },
  {
   "cell_type": "code",
   "execution_count": 5,
   "metadata": {},
   "outputs": [
    {
     "name": "stderr",
     "output_type": "stream",
     "text": [
      "Device set to use cuda:0\n"
     ]
    }
   ],
   "source": [
    "m = transformers.pipeline(\n",
    "    \"text-generation\",\n",
    "    model=\"HuggingFaceTB/SmolLM2-1.7B-Instruct\",\n",
    "    device_map=\"auto\",\n",
    "    torch_dtype=torch.bfloat16,\n",
    "    max_new_tokens=512,\n",
    ")"
   ]
  },
  {
   "cell_type": "code",
   "execution_count": 18,
   "metadata": {},
   "outputs": [
    {
     "data": {
      "application/vnd.jupyter.widget-view+json": {
       "model_id": "ffa0f2233d2a43328f96b054c1efa9c1",
       "version_major": 2,
       "version_minor": 0
      },
      "text/plain": [
       "Batching examples:   0%|          | 0/10000 [00:00<?, ? examples/s]"
      ]
     },
     "metadata": {},
     "output_type": "display_data"
    },
    {
     "name": "stdout",
     "output_type": "stream",
     "text": [
      "{'pair': [[5591, 3195], [9650, 7017], [3578, 171], [620, 9453], [5267, 7884], [1767, 7247], [3800, 8110], [6580, 789], [6380, 7756], [1147, 6873]], 'questions': ['What is 5 5 9 1 + 3 1 9 5 = ?', 'What is 9 6 5 0 + 7 0 1 7 = ?', 'What is 3 5 7 8 + 1 7 1 = ?', 'What is 6 2 0 + 9 4 5 3 = ?', 'What is 5 2 6 7 + 7 8 8 4 = ?', 'What is 1 7 6 7 + 7 2 4 7 = ?', 'What is 3 8 0 0 + 8 1 1 0 = ?', 'What is 6 5 8 0 + 7 8 9 = ?', 'What is 6 3 8 0 + 7 7 5 6 = ?', 'What is 1 1 4 7 + 6 8 7 3 = ?']}\n"
     ]
    },
    {
     "ename": "AttributeError",
     "evalue": "'list' object has no attribute 'keys'",
     "output_type": "error",
     "traceback": [
      "\u001b[0;31m---------------------------------------------------------------------------\u001b[0m",
      "\u001b[0;31mAttributeError\u001b[0m                            Traceback (most recent call last)",
      "Cell \u001b[0;32mIn[18], line 39\u001b[0m\n\u001b[1;32m     37\u001b[0m answers \u001b[38;5;241m=\u001b[39m []\n\u001b[1;32m     38\u001b[0m \u001b[38;5;28;01mfor\u001b[39;00m one_output \u001b[38;5;129;01min\u001b[39;00m outputs:\n\u001b[0;32m---> 39\u001b[0m     \u001b[38;5;28;01massert\u001b[39;00m \u001b[43mone_output\u001b[49m\u001b[38;5;241;43m.\u001b[39;49m\u001b[43mkeys\u001b[49m() \u001b[38;5;241m==\u001b[39m \u001b[38;5;28mset\u001b[39m([\u001b[38;5;124m\"\u001b[39m\u001b[38;5;124mgenerated_text\u001b[39m\u001b[38;5;124m\"\u001b[39m]), (\n\u001b[1;32m     40\u001b[0m         one_output\u001b[38;5;241m.\u001b[39mkeys(), \u001b[38;5;28mset\u001b[39m([\u001b[38;5;124m\"\u001b[39m\u001b[38;5;124mgenerated_text\u001b[39m\u001b[38;5;124m\"\u001b[39m])\n\u001b[1;32m     41\u001b[0m     ) \n\u001b[1;32m     42\u001b[0m     one_message \u001b[38;5;241m=\u001b[39m one_output[\u001b[38;5;124m\"\u001b[39m\u001b[38;5;124mgenerated_text\u001b[39m\u001b[38;5;124m\"\u001b[39m][\u001b[38;5;241m-\u001b[39m\u001b[38;5;241m1\u001b[39m][\u001b[38;5;124m\"\u001b[39m\u001b[38;5;124mcontent\u001b[39m\u001b[38;5;124m\"\u001b[39m]\n\u001b[1;32m     43\u001b[0m     extracted \u001b[38;5;241m=\u001b[39m mit\u001b[38;5;241m.\u001b[39mlast(re\u001b[38;5;241m.\u001b[39mfindall(\u001b[38;5;124mr\u001b[39m\u001b[38;5;124m\"\u001b[39m\u001b[38;5;124m\\\u001b[39m\u001b[38;5;124md+\u001b[39m\u001b[38;5;124m\"\u001b[39m, one_message), \u001b[38;5;28;01mNone\u001b[39;00m)\n",
      "\u001b[0;31mAttributeError\u001b[0m: 'list' object has no attribute 'keys'"
     ]
    }
   ],
   "source": [
    "was_good = []\n",
    "i_numbers = list(range(0, 9999))\n",
    "random.shuffle(i_numbers)\n",
    "i_numbers = i_numbers[:100]\n",
    "\n",
    "j_numbers = list(range(0, 9999))\n",
    "random.shuffle(j_numbers)\n",
    "j_numbers = j_numbers[:100]\n",
    "\n",
    "\n",
    "pairs = []\n",
    "for i in i_numbers:\n",
    "    for j in j_numbers:\n",
    "        pairs.append((i, j))\n",
    "\n",
    "random.shuffle(pairs)\n",
    "\n",
    "data = datasets.Dataset.from_dict({\"pair\": pairs, \"questions\": [\n",
    "    f\"What is {' '.join(list(str(joined_i)))} + {' '.join(list(str(joined_j)))} = ?\" for joined_i, joined_j in pairs\n",
    "]})\n",
    "\n",
    "\n",
    "for batch in data.batch(10):\n",
    "    print(batch)\n",
    "    \n",
    "    questions = batch[\"questions\"]\n",
    "    pairs = batch[\"pair\"]\n",
    "\n",
    "    outputs = m(\n",
    "        [[{\n",
    "            \"role\": \"user\", \n",
    "            \"content\": question,\n",
    "        }] for question in questions], \n",
    "        do_sample=False,\n",
    "    )\n",
    "\n",
    "    answers = []\n",
    "    for one_output in outputs:\n",
    "        assert one_output.keys() == set([\"generated_text\"]), (\n",
    "            one_output.keys(), set([\"generated_text\"])\n",
    "        ) \n",
    "        one_message = one_output[\"generated_text\"][-1][\"content\"]\n",
    "        extracted = mit.last(re.findall(r\"\\d+\", one_message), None)\n",
    "\n",
    "        if extracted is not None:\n",
    "            answers.append(extracted)\n",
    "    \n",
    "    reference = str(i + j)\n",
    "    selected = str(collections.Counter(answers).most_common(1)[0][0]).strip()\n",
    "    was_good.append(selected == reference)\n",
    "\n",
    "    print(f\"extracted: {selected}\")\n",
    "    print(f\"reference: {reference}\")\n",
    "    print(f\"average:   {np.mean(was_good):0.1%}\")\n",
    "    print(f\"qty:       {len(was_good)}\")\n",
    "    print(\"-\" * 20)\n"
   ]
  },
  {
   "cell_type": "code",
   "execution_count": null,
   "metadata": {},
   "outputs": [],
   "source": [
    "import rich.markdown"
   ]
  },
  {
   "cell_type": "code",
   "execution_count": 37,
   "metadata": {},
   "outputs": [
    {
     "data": {
      "text/html": [
       "<pre style=\"white-space:pre;overflow-x:auto;line-height:normal;font-family:Menlo,'DejaVu Sans Mono',consolas,'Courier New',monospace\"><span style=\"font-weight: bold\">heheheh</span>: loool                                                                                                     \n",
       "\n",
       "<span style=\"color: #808000; text-decoration-color: #808000; font-weight: bold\"> • </span>a                                                                                                               \n",
       "<span style=\"color: #808000; text-decoration-color: #808000; font-weight: bold\"> • </span>b                                                                                                               \n",
       "<span style=\"color: #808000; text-decoration-color: #808000; font-weight: bold\"> • </span>c                                                                                                               \n",
       "</pre>\n"
      ],
      "text/plain": [
       "\u001b[1mheheheh\u001b[0m: loool                                                                                                     \n",
       "\n",
       "\u001b[1;33m • \u001b[0ma                                                                                                               \n",
       "\u001b[1;33m • \u001b[0mb                                                                                                               \n",
       "\u001b[1;33m • \u001b[0mc                                                                                                               \n"
      ]
     },
     "metadata": {},
     "output_type": "display_data"
    }
   ],
   "source": [
    "rich.print(rich.markdown.Markdown(\n",
    "    f\"\"\"\n",
    "**heheheh**: loool\n",
    "- a\n",
    "- b\n",
    "- c\n",
    "\"\"\".strip()\n",
    "))"
   ]
  },
  {
   "cell_type": "code",
   "execution_count": null,
   "metadata": {},
   "outputs": [],
   "source": []
  }
 ],
 "metadata": {
  "kernelspec": {
   "display_name": "base",
   "language": "python",
   "name": "python3"
  },
  "language_info": {
   "codemirror_mode": {
    "name": "ipython",
    "version": 3
   },
   "file_extension": ".py",
   "mimetype": "text/x-python",
   "name": "python",
   "nbconvert_exporter": "python",
   "pygments_lexer": "ipython3",
   "version": "3.10.14"
  }
 },
 "nbformat": 4,
 "nbformat_minor": 2
}
