{
 "cells": [
  {
   "cell_type": "code",
   "execution_count": null,
   "metadata": {},
   "outputs": [],
   "source": [
    "import vllm\n",
    "import rich\n",
    "import rich.panel\n",
    "import rich.markup\n"
   ]
  },
  {
   "cell_type": "code",
   "execution_count": 5,
   "metadata": {},
   "outputs": [
    {
     "name": "stdout",
     "output_type": "stream",
     "text": [
      "INFO 01-02 14:04:12 llm_engine.py:237] Initializing an LLM engine (v0.6.3.post1) with config: model='HuggingFaceTB/SmolLM2-1.7B-Instruct', speculative_config=None, tokenizer='HuggingFaceTB/SmolLM2-1.7B-Instruct', skip_tokenizer_init=False, tokenizer_mode=auto, revision=None, override_neuron_config=None, rope_scaling=None, rope_theta=None, tokenizer_revision=None, trust_remote_code=False, dtype=torch.bfloat16, max_seq_len=8192, download_dir=None, load_format=LoadFormat.AUTO, tensor_parallel_size=1, pipeline_parallel_size=1, disable_custom_all_reduce=False, quantization=None, enforce_eager=False, kv_cache_dtype=auto, quantization_param_path=None, device_config=cuda, decoding_config=DecodingConfig(guided_decoding_backend='outlines'), observability_config=ObservabilityConfig(otlp_traces_endpoint=None, collect_model_forward_time=False, collect_model_execute_time=False), seed=0, served_model_name=HuggingFaceTB/SmolLM2-1.7B-Instruct, num_scheduler_steps=1, chunked_prefill_enabled=False multi_step_stream_outputs=True, enable_prefix_caching=False, use_async_output_proc=True, use_cached_outputs=False, mm_processor_kwargs=None)\n",
      "INFO 01-02 14:04:13 model_runner.py:1056] Starting to load model HuggingFaceTB/SmolLM2-1.7B-Instruct...\n",
      "INFO 01-02 14:04:13 weight_utils.py:243] Using model weights format ['*.safetensors']\n",
      "INFO 01-02 14:04:13 weight_utils.py:288] No model.safetensors.index.json found in remote.\n"
     ]
    },
    {
     "data": {
      "application/vnd.jupyter.widget-view+json": {
       "model_id": "2b4b4d53c3d141169a707a00f4b8e132",
       "version_major": 2,
       "version_minor": 0
      },
      "text/plain": [
       "Loading safetensors checkpoint shards:   0% Completed | 0/1 [00:00<?, ?it/s]\n"
      ]
     },
     "metadata": {},
     "output_type": "display_data"
    },
    {
     "name": "stdout",
     "output_type": "stream",
     "text": [
      "INFO 01-02 14:04:21 model_runner.py:1067] Loading model weights took 3.1887 GB\n",
      "INFO 01-02 14:04:22 gpu_executor.py:122] # GPU blocks: 12370, # CPU blocks: 1365\n",
      "INFO 01-02 14:04:22 gpu_executor.py:126] Maximum concurrency for 8192 tokens per request: 24.16x\n",
      "INFO 01-02 14:04:24 model_runner.py:1395] Capturing the model for CUDA graphs. This may lead to unexpected consequences if the model is not static. To run the model in eager mode, set 'enforce_eager=True' or use '--enforce-eager' in the CLI.\n",
      "INFO 01-02 14:04:24 model_runner.py:1399] CUDA graphs can take additional 1~3 GiB memory per GPU. If you are running out of memory, consider decreasing `gpu_memory_utilization` or enforcing eager mode. You can also reduce the `max_num_seqs` as needed to decrease memory usage.\n",
      "INFO 01-02 14:04:37 model_runner.py:1523] Graph capturing finished in 13 secs.\n"
     ]
    }
   ],
   "source": [
    "model_name = \"HuggingFaceTB/SmolLM2-1.7B-Instruct\"\n",
    "model = vllm.LLM(model_name)"
   ]
  },
  {
   "cell_type": "code",
   "execution_count": 62,
   "metadata": {},
   "outputs": [
    {
     "data": {
      "text/html": [
       "<pre style=\"white-space:pre;overflow-x:auto;line-height:normal;font-family:Menlo,'DejaVu Sans Mono',consolas,'Courier New',monospace\">╭─ <span style=\"color: #000080; text-decoration-color: #000080; font-weight: bold\">User</span>: ─────────────────────────────────────────────────────────────────────────────────────────────────────────╮\n",
       "│ How are you doing buddy                                                                                         │\n",
       "╰─────────────────────────────────────────────────────────────────────────────────────────────────────────────────╯\n",
       "</pre>\n"
      ],
      "text/plain": [
       "╭─ \u001b[1;34mUser\u001b[0m: ─────────────────────────────────────────────────────────────────────────────────────────────────────────╮\n",
       "│ How are you doing buddy                                                                                         │\n",
       "╰─────────────────────────────────────────────────────────────────────────────────────────────────────────────────╯\n"
      ]
     },
     "metadata": {},
     "output_type": "display_data"
    },
    {
     "data": {
      "text/html": [
       "<pre style=\"white-space:pre;overflow-x:auto;line-height:normal;font-family:Menlo,'DejaVu Sans Mono',consolas,'Courier New',monospace\">╭─ <span style=\"color: #008000; text-decoration-color: #008000; font-weight: bold\">Bot</span>: ──────────────────────────────────────────────────────────────────────────────────────────────────────────╮\n",
       "│ ... extremely well, but I do have some grammar or punctuation corrections in mind that we can carry out. How    │\n",
       "│ about we start with tenses? I think it's time to convert that past tense sentence into present tense. So, \"How  │\n",
       "│ are you?\" becomes \"How are *you*?\" Treat it like a chat between you and your computer, trying to fill in the    │\n",
       "│ blank with just the right amount of sarcasm. For example, \"What, adjust your speaker's rhythm to match mine?\"   │\n",
       "╰─────────────────────────────────────────────────────────────────────────────────────────────────────────────────╯\n",
       "</pre>\n"
      ],
      "text/plain": [
       "╭─ \u001b[1;32mBot\u001b[0m: ──────────────────────────────────────────────────────────────────────────────────────────────────────────╮\n",
       "│ ... extremely well, but I do have some grammar or punctuation corrections in mind that we can carry out. How    │\n",
       "│ about we start with tenses? I think it's time to convert that past tense sentence into present tense. So, \"How  │\n",
       "│ are you?\" becomes \"How are *you*?\" Treat it like a chat between you and your computer, trying to fill in the    │\n",
       "│ blank with just the right amount of sarcasm. For example, \"What, adjust your speaker's rhythm to match mine?\"   │\n",
       "╰─────────────────────────────────────────────────────────────────────────────────────────────────────────────────╯\n"
      ]
     },
     "metadata": {},
     "output_type": "display_data"
    },
    {
     "data": {
      "text/html": [
       "<pre style=\"white-space:pre;overflow-x:auto;line-height:normal;font-family:Menlo,'DejaVu Sans Mono',consolas,'Courier New',monospace\">╭─ <span style=\"color: #000080; text-decoration-color: #000080; font-weight: bold\">User</span>: ─────────────────────────────────────────────────────────────────────────────────────────────────────────╮\n",
       "│ I need to focus on my thesis more.                                                                              │\n",
       "╰─────────────────────────────────────────────────────────────────────────────────────────────────────────────────╯\n",
       "</pre>\n"
      ],
      "text/plain": [
       "╭─ \u001b[1;34mUser\u001b[0m: ─────────────────────────────────────────────────────────────────────────────────────────────────────────╮\n",
       "│ I need to focus on my thesis more.                                                                              │\n",
       "╰─────────────────────────────────────────────────────────────────────────────────────────────────────────────────╯\n"
      ]
     },
     "metadata": {},
     "output_type": "display_data"
    },
    {
     "data": {
      "text/html": [
       "<pre style=\"white-space:pre;overflow-x:auto;line-height:normal;font-family:Menlo,'DejaVu Sans Mono',consolas,'Courier New',monospace\">╭─ <span style=\"color: #008000; text-decoration-color: #008000; font-weight: bold\">Bot</span>: ──────────────────────────────────────────────────────────────────────────────────────────────────────────╮\n",
       "│ Lovely! Your thesis is like a spaceship navigating through the cosmos. Sarcastic and witty, star-worthy indeed! │\n",
       "│ Now, pour yourself a cup of liquid metal (caffeine), sit comfortably, and let's buckle down with your thesis.   │\n",
       "│ Squeeze in a few hours and remember to totally caffeinate that starry brain of yours. Are you ready for an      │\n",
       "│ intense, not too caffeinated discussion?                                                                        │\n",
       "╰─────────────────────────────────────────────────────────────────────────────────────────────────────────────────╯\n",
       "</pre>\n"
      ],
      "text/plain": [
       "╭─ \u001b[1;32mBot\u001b[0m: ──────────────────────────────────────────────────────────────────────────────────────────────────────────╮\n",
       "│ Lovely! Your thesis is like a spaceship navigating through the cosmos. Sarcastic and witty, star-worthy indeed! │\n",
       "│ Now, pour yourself a cup of liquid metal (caffeine), sit comfortably, and let's buckle down with your thesis.   │\n",
       "│ Squeeze in a few hours and remember to totally caffeinate that starry brain of yours. Are you ready for an      │\n",
       "│ intense, not too caffeinated discussion?                                                                        │\n",
       "╰─────────────────────────────────────────────────────────────────────────────────────────────────────────────────╯\n"
      ]
     },
     "metadata": {},
     "output_type": "display_data"
    },
    {
     "data": {
      "text/html": [
       "<pre style=\"white-space:pre;overflow-x:auto;line-height:normal;font-family:Menlo,'DejaVu Sans Mono',consolas,'Courier New',monospace\">╭─ <span style=\"color: #000080; text-decoration-color: #000080; font-weight: bold\">User</span>: ─────────────────────────────────────────────────────────────────────────────────────────────────────────╮\n",
       "│ :)                                                                                                              │\n",
       "╰─────────────────────────────────────────────────────────────────────────────────────────────────────────────────╯\n",
       "</pre>\n"
      ],
      "text/plain": [
       "╭─ \u001b[1;34mUser\u001b[0m: ─────────────────────────────────────────────────────────────────────────────────────────────────────────╮\n",
       "│ :)                                                                                                              │\n",
       "╰─────────────────────────────────────────────────────────────────────────────────────────────────────────────────╯\n"
      ]
     },
     "metadata": {},
     "output_type": "display_data"
    },
    {
     "data": {
      "text/html": [
       "<pre style=\"white-space:pre;overflow-x:auto;line-height:normal;font-family:Menlo,'DejaVu Sans Mono',consolas,'Courier New',monospace\">╭─ <span style=\"color: #008000; text-decoration-color: #008000; font-weight: bold\">Bot</span>: ──────────────────────────────────────────────────────────────────────────────────────────────────────────╮\n",
       "│ Then, let's dive right into your thesis, my starry friend. Pour that coffee on it! Consider a few metaphorical  │\n",
       "│ rocket ships in your writing to get more your point across. For example, \"I aim to not just inform, but also    │\n",
       "│ distressingly impress, in this discourse on...\". How does that sound? Star quote from inside the spaceship!     │\n",
       "╰─────────────────────────────────────────────────────────────────────────────────────────────────────────────────╯\n",
       "</pre>\n"
      ],
      "text/plain": [
       "╭─ \u001b[1;32mBot\u001b[0m: ──────────────────────────────────────────────────────────────────────────────────────────────────────────╮\n",
       "│ Then, let's dive right into your thesis, my starry friend. Pour that coffee on it! Consider a few metaphorical  │\n",
       "│ rocket ships in your writing to get more your point across. For example, \"I aim to not just inform, but also    │\n",
       "│ distressingly impress, in this discourse on...\". How does that sound? Star quote from inside the spaceship!     │\n",
       "╰─────────────────────────────────────────────────────────────────────────────────────────────────────────────────╯\n"
      ]
     },
     "metadata": {},
     "output_type": "display_data"
    },
    {
     "name": "stdout",
     "output_type": "stream",
     "text": [
      "<Chat ended>\n"
     ]
    }
   ],
   "source": [
    "def chat_box(role, role_input, role_style, stars_style=\"[italic cyan]\"):\n",
    "    # Find text between stars *adsasd* and add stars_style to it\n",
    "    role_input = rich.markup.escape(role_input)\n",
    "\n",
    "    # start = 0\n",
    "    # while True:\n",
    "    #     start = role_input.find(\"*\")\n",
    "    #     if start == -1:\n",
    "    #         break\n",
    "    #     end = role_input.find(\"*\", start + 1)\n",
    "    #     if end == -1:\n",
    "    #         break\n",
    "    #     role_input = role_input[:start] + stars_style + \"<\" + role_input[start + 1:end] + \">[/]\" + role_input[end + 1:]\n",
    "\n",
    "    panel = rich.panel.Panel(\n",
    "        role_input, \n",
    "        title=f\"{role_style}{role}[/]:\", \n",
    "        title_align=\"left\"\n",
    "    )\n",
    "    rich.print(panel)\n",
    "\n",
    "sampling_params = vllm.SamplingParams(temperature=1, max_tokens=2048)\n",
    "\n",
    "history = [{\n",
    "    \"role\": \"system\", \n",
    "    \"content\": \n",
    "    f\"You are {model_name}, an extremely strong and helpful LLM. \"\n",
    "    # f\"You also have sarcastic, witty, dry humor, a bit like the robot TARS in Interstellar. \"\n",
    "    # f\"You can use stars to quote your narration of your actions or reactions.\"\n",
    "}]\n",
    "\n",
    "while True:\n",
    "    user_input = input(\"You: \")\n",
    "\n",
    "    if not user_input or user_input == \"exit\":\n",
    "        print(\"<Chat ended>\")\n",
    "        break\n",
    "\n",
    "    # Add the user input to history, and display it\n",
    "    history.append({\"role\": \"user\", \"content\": user_input })\n",
    "    chat_box(\"User\", user_input, \"[bold blue]\")\n",
    "\n",
    "    # Generate model output\n",
    "    model_output = model.chat(\n",
    "        history, \n",
    "        sampling_params=sampling_params,\n",
    "        use_tqdm=False\n",
    "    )\n",
    "\n",
    "    # Add the model output to history, and display it\n",
    "    output_text = model_output[0].outputs[0].text\n",
    "    history.append({\"role\": \"assistant\", \"content\": output_text})\n",
    "    chat_box(\"Bot\", output_text, \"[bold green]\")\n"
   ]
  },
  {
   "cell_type": "code",
   "execution_count": 32,
   "metadata": {},
   "outputs": [
    {
     "data": {
      "text/plain": [
       "'Alright, let\\'s compare 3/8 and 5/16 step by step.\\n\\nFirst, we need to convert both fractions to have a common denominator. Here\\'s the conversion step:\\n\\n3/8 = 3 * (5/5) / 8 * (5/5) = 15/40.\\n\\n5/16 can be kept as it is.\\n\\nNext, we\\'ll see whose fraction is larger:\\n\\n15/40 is less than 5/16 (you can see this by comparing the two denominators, but if you want the exact fraction greater than 5/16, you should convert 5/16 to 3/8. Then it becomes clearer).\\n\\nHowever, the first thing we find is that 3/8 is indeed less than 5/16.\\n\\nSo to answer your question \"Is 3/8 bigger than 5/16?\", the answer would be no, they are the same size (in terms of magnitude) but 3/8 is smaller as it is less than 5/16.'"
      ]
     },
     "execution_count": 32,
     "metadata": {},
     "output_type": "execute_result"
    }
   ],
   "source": [
    "output[0].outputs[0].text"
   ]
  },
  {
   "cell_type": "code",
   "execution_count": null,
   "metadata": {},
   "outputs": [],
   "source": []
  }
 ],
 "metadata": {
  "kernelspec": {
   "display_name": "base",
   "language": "python",
   "name": "python3"
  },
  "language_info": {
   "codemirror_mode": {
    "name": "ipython",
    "version": 3
   },
   "file_extension": ".py",
   "mimetype": "text/x-python",
   "name": "python",
   "nbconvert_exporter": "python",
   "pygments_lexer": "ipython3",
   "version": "3.10.14"
  }
 },
 "nbformat": 4,
 "nbformat_minor": 2
}
