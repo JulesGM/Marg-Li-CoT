{
 "cells": [
  {
   "cell_type": "code",
   "execution_count": 1,
   "id": "fd50c390-b3b2-4144-a205-39a41f42b9ac",
   "metadata": {},
   "outputs": [],
   "source": [
    "import os\n",
    "import torch\n",
    "import openai\n",
    "\n",
    "from transformers import GPT2Tokenizer\n",
    "from transformers.generation_beam_search import BeamSearchScorer\n",
    "from transformers.generation_logits_process import (\n",
    "    LogitsProcessorList,\n",
    "    HammingDiversityLogitsProcessor,\n",
    "    MinLengthLogitsProcessor,\n",
    ")\n",
    "from transformers.generation_stopping_criteria import (\n",
    "    MaxLengthCriteria,\n",
    "    StoppingCriteriaList,\n",
    ")\n",
    "\n",
    "from group_bs import group_beam_search, expand_inputs_for_generation"
   ]
  },
  {
   "cell_type": "code",
   "execution_count": 2,
   "id": "1d27c01c-53df-4122-9b9a-7bfd8e625e34",
   "metadata": {},
   "outputs": [],
   "source": [
    "SCRATCH = os.environ['SCRATCH']"
   ]
  },
  {
   "cell_type": "code",
   "execution_count": 3,
   "id": "f82f1ade-eb67-48aa-9b5b-da483a4601b8",
   "metadata": {},
   "outputs": [
    {
     "name": "stdout",
     "output_type": "stream",
     "text": [
      "cuda\n"
     ]
    }
   ],
   "source": [
    "device = torch.device(\"cuda\" if torch.cuda.is_available() else \"cpu\")\n",
    "\n",
    "print(device)"
   ]
  },
  {
   "cell_type": "markdown",
   "id": "a9be5ba6-44cd-4ffe-a8b1-e38b6b70eae6",
   "metadata": {},
   "source": [
    "#### Load Tokenizer"
   ]
  },
  {
   "cell_type": "code",
   "execution_count": 4,
   "id": "a689115f-4891-428b-8c7a-fbc47a0bec5d",
   "metadata": {},
   "outputs": [],
   "source": [
    "model_name_or_path = os.path.join(SCRATCH, 'huggingface/gpt2')\n",
    "tokenizer = GPT2Tokenizer.from_pretrained(model_name_or_path)\n",
    "tokenizer.pad_token = tokenizer.eos_token"
   ]
  },
  {
   "cell_type": "markdown",
   "id": "62e3f9e6-0b3a-4a63-8701-057adaf097b8",
   "metadata": {},
   "source": [
    "#### Test on One Prompt"
   ]
  },
  {
   "cell_type": "code",
   "execution_count": 5,
   "id": "415bd045-ddcf-41fc-ab7d-291ad329acd7",
   "metadata": {},
   "outputs": [],
   "source": [
    "FEW_SHOT_EXAMPLES = [\n",
    "    {\"Q\": \"There are 15 trees in the grove. Grove workers will plant trees in the grove today. After they are done, there will be 21 trees. How many trees did the grove workers plant today?\",\n",
    "     \"S\": \"There are 15 trees originally. Then there were 21 trees after some more were planted. So there must have been 21 - 15 = 6.\",\n",
    "     \"A\": \"The answer is 6.\"},\n",
    "    {\"Q\": \"If there are 3 cars in the parking lot and 2 more cars arrive, how many cars are in the parking lot?\",\n",
    "     \"S\": \"There are originally 3 cars. 2 more cars arrive. 3 + 2 = 5.\",\n",
    "     \"A\": \"The answer is 5.\"},\n",
    "    {\"Q\": \"Leah had 32 chocolates and her sister had 42. If they ate 35, how many pieces do they have left in total?\",\n",
    "     \"S\": \"Originally, Leah had 32 chocolates. Her sister had 42. So in total they had 32 + 42 = 74. After eating 35, they had 74 - 35 = 39.\",\n",
    "     \"A\": \"The answer is 39.\"},\n",
    "    {\"Q\": \"Jason had 20 lollipops. He gave Denny some lollipops. Now Jason has 12 lollipops. How many lollipops did Jason give to Denny?\",\n",
    "     \"S\": \"Jason started with 20 lollipops. Then he had 12 after giving some to Denny. So he gave Denny 20 - 12 = 8.\",\n",
    "     \"A\": \"The answer is 8.\"},\n",
    "    {\"Q\": \"Shawn has five toys. For Christmas, he got two toys each from his mom and dad. How many toys does he have now?\",\n",
    "     \"S\": \"Shawn started with 5 toys. If he got 2 toys each from his mom and dad, then that is 4 more toys. 5 + 4 = 9.\",\n",
    "     \"A\": \"The answer is 9.\"},\n",
    "    {\"Q\": \"There were nine computers in the server room. Five more computers were installed each day, from monday to thursday. How many computers are now in the server room?\",\n",
    "     \"S\": \"There were originally 9 computers. For each of 4 days, 5 more computers were added. So 5 * 4 = 20 computers were added. 9 + 20 is 29.\",\n",
    "     \"A\": \"The answer is 29.\"},\n",
    "    {\"Q\": \"Michael had 58 golf balls. On tuesday, he lost 23 golf balls. On wednesday, he lost 2 more. How many golf balls did he have at the end of wednesday?\",\n",
    "     \"S\": \"Michael started with 58 golf balls. After losing 23 on tuesday, he had 58 - 23 = 35. After losing 2 more, he had 35 - 2 = 33 golf balls.\",\n",
    "     \"A\": \"The answer is 33.\"},\n",
    "    {\"Q\": \"Olivia has $23. She bought five bagels for $3 each. How much money does she have left?\",\n",
    "     \"S\": \"Olivia had 23 dollars. 5 bagels for 3 dollars each will be 5 x 3 = 15 dollars. So she has 23 - 15 dollars left. 23 - 15 is 8.\",\n",
    "     \"A\": \"The answer is 8.\"}\n",
    "]"
   ]
  },
  {
   "cell_type": "code",
   "execution_count": 6,
   "id": "bb0983a9-ccd0-468b-a2d8-0172224ca74b",
   "metadata": {},
   "outputs": [],
   "source": [
    "def build_prompt_with_few_shot_examples(question, n_shot=5):\n",
    "    # creat context\n",
    "    examples = [\"Question: {}\\nAnswer: {}\".format(e[\"Q\"], \" \".join([e[\"S\"], e[\"A\"]])) for e in FEW_SHOT_EXAMPLES[:n_shot]]\n",
    "    context = \"\\n\\n\".join(examples)\n",
    "    \n",
    "    return \"\\n\\n\".join([context, \"Question: {}\\nAnswer:\".format(question)])"
   ]
  },
  {
   "cell_type": "code",
   "execution_count": 7,
   "id": "ac821050-07b9-460d-9b32-9a58fc23cbf8",
   "metadata": {},
   "outputs": [
    {
     "name": "stdout",
     "output_type": "stream",
     "text": [
      "Question: There are 15 trees in the grove. Grove workers will plant trees in the grove today. After they are done, there will be 21 trees. How many trees did the grove workers plant today?\n",
      "Answer: There are 15 trees originally. Then there were 21 trees after some more were planted. So there must have been 21 - 15 = 6. The answer is 6.\n",
      "\n",
      "Question: If there are 3 cars in the parking lot and 2 more cars arrive, how many cars are in the parking lot?\n",
      "Answer: There are originally 3 cars. 2 more cars arrive. 3 + 2 = 5. The answer is 5.\n",
      "\n",
      "Question: Leah had 32 chocolates and her sister had 42. If they ate 35, how many pieces do they have left in total?\n",
      "Answer: Originally, Leah had 32 chocolates. Her sister had 42. So in total they had 32 + 42 = 74. After eating 35, they had 74 - 35 = 39. The answer is 39.\n",
      "\n",
      "Question: Jason had 20 lollipops. He gave Denny some lollipops. Now Jason has 12 lollipops. How many lollipops did Jason give to Denny?\n",
      "Answer: Jason started with 20 lollipops. Then he had 12 after giving some to Denny. So he gave Denny 20 - 12 = 8. The answer is 8.\n",
      "\n",
      "Question: Shawn has five toys. For Christmas, he got two toys each from his mom and dad. How many toys does he have now?\n",
      "Answer: Shawn started with 5 toys. If he got 2 toys each from his mom and dad, then that is 4 more toys. 5 + 4 = 9. The answer is 9.\n",
      "\n",
      "Question: Betty is saving money for a new wallet which costs $100. Betty has only half of the money she needs. Her parents decided to give her $15 for that purpose, and her grandparents twice as much as her parents. How much more money does Betty need to buy the wallet?\n",
      "Answer:\n"
     ]
    }
   ],
   "source": [
    "question = \"\"\"Betty is saving money for a new wallet which costs $100. Betty has only half of the money she needs. \\\n",
    "Her parents decided to give her $15 for that purpose, and her grandparents twice as much as her parents. \\\n",
    "How much more money does Betty need to buy the wallet?\"\"\"\n",
    "\n",
    "prompt_text = build_prompt_with_few_shot_examples(question, n_shot=5)\n",
    "print(prompt_text)"
   ]
  },
  {
   "cell_type": "code",
   "execution_count": 8,
   "id": "4271b04a-c90f-4c01-b7c1-bd50107bab65",
   "metadata": {},
   "outputs": [],
   "source": [
    "encoded_prompt = tokenizer(prompt_text, padding='longest', add_special_tokens=False, return_tensors=\"pt\")\n",
    "encoded_prompt = encoded_prompt.to(device)\n",
    "\n",
    "input_ids = encoded_prompt['input_ids']\n",
    "attention_mask = encoded_prompt['attention_mask']"
   ]
  },
  {
   "cell_type": "code",
   "execution_count": 9,
   "id": "5415a100-aa7a-4750-b5b5-8994cf43955b",
   "metadata": {
    "tags": []
   },
   "outputs": [],
   "source": [
    "# instantiate beam scorer\n",
    "NUM_BEAM, NUM_GROUP = 6, 3\n",
    "beam_scorer = BeamSearchScorer(\n",
    "    batch_size=1,\n",
    "    num_beams=NUM_BEAM,\n",
    "    device=device,\n",
    "    num_beam_groups=NUM_GROUP,\n",
    "    num_beam_hyps_to_keep=NUM_BEAM,\n",
    ")\n",
    "\n",
    "# instantiate logits processors\n",
    "logits_processor = LogitsProcessorList(\n",
    "    [\n",
    "        HammingDiversityLogitsProcessor(5.0, num_beams=NUM_BEAM, num_beam_groups=NUM_GROUP),\n",
    "        MinLengthLogitsProcessor(5, eos_token_id=tokenizer.eos_token_id),\n",
    "    ]\n",
    ")\n",
    "\n",
    "stopping_criteria = StoppingCriteriaList([MaxLengthCriteria(max_length=100 + input_ids.shape[1])])\n",
    "\n",
    "input_ids_expanded, model_kwargs = expand_inputs_for_generation(\n",
    "    input_ids, expand_size=NUM_BEAM\n",
    ")\n",
    "with torch.no_grad():\n",
    "    outputs = group_beam_search(\n",
    "        tokenizer,\n",
    "        input_ids_expanded,\n",
    "        beam_scorer,\n",
    "        logits_processor=logits_processor,\n",
    "        stopping_criteria=stopping_criteria,\n",
    "        parallel_generation=True,\n",
    "        **model_kwargs,\n",
    "    )"
   ]
  },
  {
   "cell_type": "code",
   "execution_count": 10,
   "id": "0ad0a624-dd64-4085-9991-89838f8a1533",
   "metadata": {},
   "outputs": [
    {
     "data": {
      "text/plain": [
       "[' Betty needs $100 for the wallet. She has half of that, which is $50. Her parents give her $15, and her grandparents give her $30. So she has $50 + $15 + $30 = $95. She needs $100 - $95 = $5. The answer is $5.',\n",
       " ' Betty needs $100 for the wallet. She has half of that, which is $50. Her parents give her $15, and her grandparents give her $30. So she has $50 + $15 + $30 = $95. She needs $100 - $95 = $5 more. The answer is $5.',\n",
       " ' Betty needs $100 for the wallet. She has half of that, which is $50. Her parents give her $15, and her grandparents give her $30. So she has $50 + $15 + $30 = $95. She needs $100 - $95 = $5 more. The answer is $5 more.',\n",
       " ' Betty needs $100 for the wallet. She has half of that, which is $50. Her parents give her $15, and her grandparents give her $30. So she has $50 + $15 + $30 = $95. She needs $100 - $95 = $5 more. The answer is $5.\\n',\n",
       " ' Betty needs $100 for the wallet. She has half of that, which is $50. Her parents give her $15, and her grandparents give her $30. So she has $50 + $15 + $30 = $95. She needs $100 - $95 = $5 more. The answer is $5.\\n\\n',\n",
       " ' Betty needs $100 for the wallet. She has half of that, which is $50. Her parents give her $15, and her grandparents give her $30. So she has $50 + $15 + $30 = $95. She needs $100 - $95 = $5 more. The answer is $5 more.\\n']"
      ]
     },
     "execution_count": 10,
     "metadata": {},
     "output_type": "execute_result"
    }
   ],
   "source": [
    "tokenizer.batch_decode(outputs[:, input_ids.shape[1]:], skip_special_tokens=True)"
   ]
  }
 ],
 "metadata": {
  "kernelspec": {
   "display_name": "Python 3 (ipykernel)",
   "language": "python",
   "name": "python3"
  },
  "language_info": {
   "codemirror_mode": {
    "name": "ipython",
    "version": 3
   },
   "file_extension": ".py",
   "mimetype": "text/x-python",
   "name": "python",
   "nbconvert_exporter": "python",
   "pygments_lexer": "ipython3",
   "version": "3.8.2"
  }
 },
 "nbformat": 4,
 "nbformat_minor": 5
}
